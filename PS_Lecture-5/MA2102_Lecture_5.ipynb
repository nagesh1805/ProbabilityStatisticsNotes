{
 "cells": [
  {
   "cell_type": "markdown",
   "metadata": {
    "slideshow": {
     "slide_type": "slide"
    }
   },
   "source": [
    "<h2 style=\"text-align:center\"> MA2102</h2>\n",
    "<h1 style=\"text-align:center\"> Probability and Statistics</h1>\n",
    "<h4 style=\"text-align:center\"> Lecture-5</h4>"
   ]
  },
  {
   "cell_type": "markdown",
   "metadata": {},
   "source": [
    "From the relative frequency definition we can observe three basic properties of chance,that are        \n",
    "i). $\\frac{f_{n}(E)}{n}\\ge0~\\forall~E\\Rightarrow P(E)=\\lim_{n \\to \\infty}\\frac{f_{n}(E)}{n}\\ge0 \\leftarrow$ <b>Non-negativity property</b>     \n",
    "ii). $f_{n}(\\Omega)=n\\Rightarrow P(\\Omega)=\\lim_{n \\to \\infty}\\frac{f_{n}(\\Omega)}{n}=\\lim_{n \\to \\infty}1=1 \\leftarrow$<b>Certainty property</b>    \n",
    "iii). If $E_{1}\\cap E_{2}=\\emptyset$ then $f_{n}(E_{1}\\cup E_{2})=f_{n}(E_{1})+f_{n}(E_{2})$    \n",
    "then $P(E_{1}\\cup E_{2})=\\lim_{n \\to \\infty} \\frac{f_{n}(E_{1}\\cup E_{2})}{n}=\\lim_{n \\to \\infty} \\frac{f_{n}(E_{1})+f_{n}(E_{2})}{n}=\\lim_{n \\to \\infty} \\frac{f_{n}(E_{1})}{n} + \\lim_{n \\to \\infty} \\frac{f_{n}(E_{2})}{n}=P(E_{1})+P(E_{2})$     \n",
    "$\\therefore  P(E_{1}\\cup E_{2})=P(E_{1})+P(E_{2}) \\leftarrow$ <b>Additive property </b>"
   ]
  },
  {
   "cell_type": "markdown",
   "metadata": {},
   "source": [
    "**Axiomatic definition of probability:**    \n",
    "Let $(\\Omega,\\mathscr{F})$ be a measurable space, a set function $P:\\mathscr{F}\\rightarrow \\mathbb{R}$ is called a probability(measure) function on $(\\Omega,\\mathscr{F})$ if it satisfies the following axioms. <br><br>\n",
    "*Axiom 1*:$P(E)\\ge0$  $\\forall E\\in\\mathscr{F}$         **(Non-negativity axiom)**       \n",
    "*Axiom 2*:$P(\\Omega)=1$    **(Certainty axiom)**    \n",
    "*Axiom 3*: For any sequence of events $E_{1},E_{2},E_{3},...,E_{n}....$ in $\\mathscr{F}$ such that $E_{i}\\cap E_{j}=\\emptyset$ for $i\\ne j$ then,    \n",
    "$P(\\bigcup_{i=1}^{\\infty}E_{i})=\\sum_{i=1}^{\\infty}P(E_{i})$  **(Countable additivity axiom)** <br><br>\n",
    "\n",
    "Here the triple $(\\Omega,\\mathscr{F},P)$ is called a probability space(or probability model)"
   ]
  },
  {
   "cell_type": "markdown",
   "metadata": {},
   "source": [
    "Let $I$ be an index set,\n",
    "- Collection of events $\\{E_{i}\\}_{i\\in I}$ in $\\mathscr{F}$, are said to be <u>mutually exclusive</u> if $E_{i}\\cap E_{j}=\\emptyset$ for $i \\ne j$ (At most on event in collection can occur when we performs an experiment which means no two events in the collection can happen simultaneously)    \n",
    "- Collection of events $\\{E_{i}\\}_{i\\in I}$ in $\\mathscr{F}$, are said to be <u>exhaustive</u> if $\\bigcup_{i\\in I}E_{i}=\\Omega$ (At least one event in collection always occur when we performs an experiment)    \n",
    "- Collection of events $\\{E_{i}\\}_{i\\in I}$ in $\\mathscr{F}$, are said to form a <u>partition</u> for $\\Omega$ if they are both mutually exclusive and exhaustive (Exactly one event in collection can occur when we performs an experiment)    <br>"
   ]
  },
  {
   "cell_type": "markdown",
   "metadata": {},
   "source": [
    "In all of the following theorems we consider probability space $(\\Omega,\\mathscr{F},P)$"
   ]
  },
  {
   "cell_type": "markdown",
   "metadata": {},
   "source": [
    "**Theorem 1:** $P(\\emptyset)=0$    <br><br>\n",
    "*proof*: Take $E_{1}=\\Omega$, and $E_{i}=\\emptyset$ for i=2,3,4,...     \n",
    "         $\\Omega=\\bigcup_{i=1}^{\\infty}E_{i}$ and $E_{i}\\cap E_{j}=\\emptyset$ for $i \\ne j$      \n",
    "         $P(\\Omega)=P(\\bigcup_{i=1}^{\\infty}E_{i})$       \n",
    "&nbsp; &nbsp; &nbsp; &nbsp; &nbsp; &nbsp;$=\\sum_{i=1}^{\\infty}P(E_{i})$  ($\\because$ Axiom (3) )      \n",
    "&nbsp; &nbsp; &nbsp; &nbsp; &nbsp; &nbsp;$=P(E_{1})+P(E_{2})+P(E_{3})+...$        \n",
    "$P(\\Omega)=P(\\Omega)+P(\\emptyset)+P(\\emptyset )+...$    \n",
    "$1=1+P(\\emptyset )+P(\\emptyset )+...$      ($\\because$ Axiom (2) )      \n",
    "$0=P(\\emptyset )+P(\\emptyset )+...$      \n",
    "so only real number that make sense as $P(\\emptyset)$ is zero   ($\\because P(\\emptyset)\\ge0$  by Axiom (1))   \n",
    "$\\therefore P(\\emptyset)=0$"
   ]
  },
  {
   "cell_type": "markdown",
   "metadata": {},
   "source": [
    "**Theorem 2** (Finite Additivity): For any finite collection $E_{1},E_{2},...,E_{n}$ in $\\mathscr{F}$ such that $E_{i}\\cap E_{j}=\\emptyset$ for $i \\ne j$, then $P(\\bigcup_{i=1}^{n}E_{i})=\\sum_{i=1}^{n}P(E_{i})$      <br><br>\n",
    "*proof*: Take $E_{n+i}=\\emptyset$ for i=1,2,3,...   \n",
    "now, $\\bigcup_{i=1}^{n}E_{i}=\\bigcup_{i=1}^{\\infty}E_{i}$  and. $E_{i}\\cap E_{j}=\\emptyset$ for $i \\ne j$     \n",
    "$P(\\bigcup_{i=1}^{n}E_{i})=P(\\bigcup_{i=1}^{\\infty}E_{i})$     \n",
    "&nbsp; &nbsp; &nbsp; &nbsp; &nbsp; &nbsp; &nbsp; &nbsp; &nbsp; &nbsp; &nbsp; $=\\sum_{i=1}^{\\infty}P(E_{i})$   ($\\because$ Axiom 3)     \n",
    "&nbsp; &nbsp; &nbsp; &nbsp; &nbsp; &nbsp; &nbsp; &nbsp; &nbsp; &nbsp; &nbsp; $=\\sum_{i=1}^{n}P(E_{i})+\\sum_{i=n+1}^{\\infty}P(E_{i})$ $=\\sum_{i=1}^{n}P(E_{i})+\\sum_{i=n+1}^{\\infty}P(\\emptyset )=\\sum_{i=1}^{n}P(E_{i})+\\sum_{i=n+1}^{\\infty}0$  ($\\because$ Theorem 1)     <br><br>\n",
    "$\\therefore P(\\bigcup_{i=1}^{n}E_{i})=\\sum_{i=1}^{n}P(E_{i})$ whenever $E_{1},E_{2},...,E_{n}$  are mutually exclusive"
   ]
  },
  {
   "cell_type": "markdown",
   "metadata": {},
   "source": [
    "**Theorem 3:**  For any $E \\in \\mathscr{F}$, $P(E^{c})=1-P(E)$ <br><br>\n",
    "*proof*:&nbsp;$E\\cup E^{c}=\\Omega \\Rightarrow P(E\\cup E^{c})=P(\\Omega)\\Rightarrow P(E)+P(E^{c})=1$ ($\\because E\\cap E^{c}=\\emptyset$, Finite additivity. Axiom 2)     \n",
    "$\\therefore P(E^{c})=1-P(E)$\n"
   ]
  },
  {
   "cell_type": "markdown",
   "metadata": {},
   "source": [
    "**Theorem 4:** For any two events $E_{1},E_{2}\\in \\mathscr{F}$, then $P(E_{1}\\cap E_{2}^{c})=P(E_{1})-P(E_{1}\\cap E_{2})$    <br><br>\n",
    "*proof:* "
   ]
  },
  {
   "cell_type": "code",
   "execution_count": 44,
   "metadata": {},
   "outputs": [
    {
     "data": {
      "image/png": "[encoded data removed]",
      "text/plain": [
       "<Figure size 432x288 with 1 Axes>"
      ]
     },
     "metadata": {},
     "output_type": "display_data"
    }
   ],
   "source": [
    "# First install matplotlib-venn\n",
    "#pip install matplotlib-venn\n",
    "from matplotlib import pyplot as plt\n",
    "from matplotlib_venn import venn2\n",
    " \n",
    "# Basic Venn\n",
    "v = venn2( (10,12,5), alpha = 1,set_labels = (r'$E_1$', r'$E_2$') )\n",
    "v.get_patch_by_id('10').set_color('green')\n",
    "v.get_label_by_id('10').set_text('')\n",
    "v.get_patch_by_id('01').set_color('red')\n",
    "v.get_label_by_id('11').set_text('')\n",
    "v.get_label_by_id('01').set_text('')\n",
    "plt.gca().set_axis_on()\n",
    "plt.text(-0.6,0.45,r\"$\\Omega$\")\n",
    "\n",
    "# Show it\n",
    "plt.show()\n"
   ]
  },
  {
   "cell_type": "markdown",
   "metadata": {
    "cell_style": "center",
    "hide_input": false
   },
   "source": [
    " $E_{1}=$<span style=\"color:green;\">$(E_{1}\\cap E_{2}^{c})$</span> $\\cup$<span style=\"color:brown;\">$(E_{1}\\cap E_{2})$</span>     \n",
    "$P(E_{1})=P((E_{1}\\cap E_{2}^{c})\\cup (E_{1}\\cap E_{2}))$     \n",
    "Here $E_{1}\\cap E_{2}^{c}$ and $E_{1}\\cap E_{2}$ are mutually exclusive, so by finite additivity, we have      \n",
    "$P(E_{1})=P(E_{1}\\cap E_{2}^{c})+  P(E_{1}\\cap E_{2})$  \n",
    "$\\therefore P(E_{1}\\cap E_{2}^{c})= P(E_{1})- P(E_{1}\\cap E_{2})$ <br><br>\n"
   ]
  },
  {
   "cell_type": "markdown",
   "metadata": {},
   "source": [
    "**Corollary 1:** If $E_{2}\\subseteq E_{1}$ then $P(E_{1}\\cap E_{2}^{c})= P(E_{1})-P(E_{2})  ~~(\\because E_{1}\\cap E_{2}=E_{2}$)    "
   ]
  },
  {
   "cell_type": "markdown",
   "metadata": {
    "hide_input": false
   },
   "source": [
    "**Corollary 2** (Monotone property): If $E_{2}\\subset E_{1}$ then $P(E_{2})\\le P(E_{1})$    <br><br>\n",
    "*proof*: Here $E_{2}\\subset E_{1} \\Rightarrow P(E_{1})-P(E_{2})=P(E_{1}\\cap E_{2}^{c})\\ge0$ ($\\because$ Axiom 1)   \n",
    "$\\because P(E_{2})\\le P(E_{1})$"
   ]
  },
  {
   "cell_type": "markdown",
   "metadata": {},
   "source": [
    "**Theorem 5:** For any event $E\\in \\mathscr{F}$, $0\\le P(E) \\le 1$   <br><br>\n",
    "*proof*: we know that $\\emptyset  \\subset E \\subset \\Omega$ for any $E\\in \\mathscr{F}$    \n",
    "$\\Rightarrow P(\\emptyset )\\le P(E) \\le P(\\Omega)$  ($\\because$ Monotone property)    \n",
    "$\\therefore 0\\le P(E)\\le1$   ($\\because$ Theorem 1 and Axiom 2)"
   ]
  },
  {
   "cell_type": "markdown",
   "metadata": {},
   "source": [
    "**Equally likely events**:    \n",
    "If $E_{1},E_{2},...E_{k}$ are mutually exclusive and exhaustive (*thus form a partition for $\\Omega$*) in $\\mathscr{F}$, and random experiment is of such a character that we don't prefer one event over the other, that is it is reasonable to assume that each of  $E_{1},E_{2},...E_{k}$ has same probability of occurrence.  Then we say events $E_{1},E_{2},...E_{k}$ are equally likely. <br>  \n",
    "*Example 1*:In a random experiment of picking a number from set {0,1,2,3,...}, then the sample space $\\Omega=\\{0,1,2,3,...\\}$, we fix n,     \n",
    "and take $E_{i}=\\{k\\in \\Omega: n$ divides $(k-i)\\}$ for i=0,1,2,3,...   \n",
    "($E_{i}$ contains all numbers in $\\Omega$ that leaves reminder i when it is divided by n.).    \n",
    "Here it is reasonable to assume that $E_{0},E_{1},E_{2},...E_{n-1}$ are equally likely events.   <br><br>\n",
    "*Example 2*:In a random experiment of picking a card from well shuffled pack of cards,  and take       \n",
    "$E_{♠️}\\leftarrow$ getting spade card.      \n",
    "$E_{♣️}\\leftarrow$ getting clubs card.     \n",
    "$E_{❤️}\\leftarrow$ getting heart card.      \n",
    "$E_{♦️}\\leftarrow$ getting diamond card.      \n",
    "Here $E_{♠️},E_{♣️},E_{❤️}$and $E_{♦️}$ are equally likely events\n"
   ]
  },
  {
   "cell_type": "markdown",
   "metadata": {},
   "source": [
    "**Theorem 6:** If $E_{1},E_{2},E_{3},...E_{n}$ are equally likely events in $\\mathscr{F}$,\n",
    "then $P(E_{i})=\\frac{1}{n}\\forall i$=1,2..n<br>\n",
    "*proof*: $\\bigcup_{i=1}^{n}E_{i}=\\Omega$ and $E_{i}\\cap E_{j}=\\emptyset$ for $i\\ne j$  and $P(E_{i})=a~\\forall$ i=1..n where $a\\in (0,1)$    \n",
    "($\\because$ equally likely events form partition for sample space, and events have same probability)   \n",
    "$P(\\bigcup_{i=1}^{n}E_{i})=P(\\Omega)$        \n",
    "$\\sum_{i=1}^{n}P(E_{i})=1$   ($\\because$ Finite additivity and Axiom 2)     \n",
    "$\\sum_{i=1}^{n}a=1 \\Rightarrow na=1 \\Rightarrow a=\\frac{1}{n}$    \n",
    "$\\therefore P(E_{i})=\\frac{1}{n}$  $\\forall i=$1...n"
   ]
  },
  {
   "cell_type": "markdown",
   "metadata": {},
   "source": [
    "**Corollary:** In a probability space ($\\Omega,\\mathscr{F},P$), if $\\Omega$ is finite and outcomes are equally likely (i.e all singleton events(a.k.a elementary events) are equally likely), for any $E\\in \\mathscr{F}$, $P(E)=\\frac{|E|}{|\\Omega|}$ <br><br>\n",
    "*proof:*  let $\\Omega=\\{\\omega_{1},\\omega_{2},...\\omega_{n}\\}$ and take $E_{i}=\\{\\omega_{i}\\}$ for $i= 1,2,...n$    \n",
    "then $E_{1},E_{2},E_{3},...E_{n}$ are equally likely, so $P(E_{i})=\\frac{1}{n}$  for $i=1,2,3 ...n$     \n",
    "For any event $E \\in \\mathscr{F}$, $E=\\{ \\omega_{i_{1}},\\omega_{i_{2}},...\\omega_{i_{r}} \\}$ where $|E|=r$ for some $\\{i_1,i_2,...,i_r\\}\\subseteq \\{1,2,...,n\\}$ ($\\because E\\subseteq \\Omega$ )     \n",
    "i.e $E=\\bigcup_{k=1}^{r}E_{i_{k}} \\Rightarrow P(E)=P(\\bigcup_{k=1}^{r}E_{i_{k}}) =\\sum_{k=1}^{r}P(E_{i_{k}})=\\sum_{k=1}^{r}\\frac{1}{n}=\\frac{r}{n}$        \n",
    "$\\therefore P(E)=\\frac{|E|}{|\\Omega|}$     \n",
    "This also referred as classical definition of probability,and this approach make sense only if sample space finite and outcomes are equally likely."
   ]
  },
  {
   "cell_type": "markdown",
   "metadata": {},
   "source": [
    "**Theorem 7:** (Addition theorem of probability) For any two events $E_{1},E_{2}\\in \\mathscr{F}$, $P(E_{1}\\cup E_{2})=P(E_{1})+P(E_{2})-P(E_{1}\\cap E_{2})$"
   ]
  },
  {
   "cell_type": "code",
   "execution_count": 45,
   "metadata": {},
   "outputs": [
    {
     "data": {
      "image/png": "[encoded data removed]",
      "text/plain": [
       "<Figure size 432x288 with 1 Axes>"
      ]
     },
     "metadata": {},
     "output_type": "display_data"
    }
   ],
   "source": [
    "# First you need install matplotlib-venn uisng following\n",
    "#pip install matplotlib-venn\n",
    "from matplotlib import pyplot as plt\n",
    "from matplotlib_venn import venn2\n",
    " \n",
    "# Basic Venn\n",
    "v = venn2( (10,12,5), alpha = 1 ,set_labels = (r'$E_1$', r'$E_2$'))\n",
    "v.get_patch_by_id('10').set_color('green')\n",
    "v.get_label_by_id('10').set_text('')\n",
    "v.get_patch_by_id('01').set_color('red')\n",
    "v.get_label_by_id('11').set_text('')\n",
    "v.get_label_by_id('01').set_text('')\n",
    "v.get_patch_by_id('11').set_color('red')\n",
    "plt.gca().set_axis_on()\n",
    "plt.text(-0.6,0.45,r\"$\\Omega$\")\n",
    " \n",
    "# Show it\n",
    "plt.show()"
   ]
  },
  {
   "cell_type": "markdown",
   "metadata": {
    "cell_style": "center",
    "slideshow": {
     "slide_type": "slide"
    }
   },
   "source": [
    "*proof:*  \n",
    "$E_{1}\\cup E_{2}=$ <span style=\"color:green;\">$(E_{1}\\cap E_{2}^{c})$</span> $\\cup$   <span style=\"color:red;\">$E_{2}$</span>   \n",
    "$P(E_{1}\\cup E_{2})=P((E_{1}\\cap E_{2}^{c}) \\cup E_{2})$    \n",
    "Here $E_{1}\\cap E_{2}^{c}$, and $E_{2}$ are mutually exclusive.   \n",
    "$P(E_{1}\\cup E_{2})=P(E_{1}\\cap E_{2}^{c}) + P(E_{2})$   ($\\because$ Additive property)     \n",
    "&nbsp; &nbsp; &nbsp; &nbsp; &nbsp; &nbsp; &nbsp; &nbsp; &nbsp; &nbsp; &nbsp;&nbsp;$=P(E_{1})- P(E_{1}\\cap E_{2})+P(E_{2})$  ($\\because$ Theorem 4)    \n",
    "$\\therefore P(E_{1}\\cup E_{2})=P(E_{1})+P(E_{2})- P(E_{1}\\cap E_{2})$<br><br>"
   ]
  },
  {
   "cell_type": "markdown",
   "metadata": {
    "slideshow": {
     "slide_type": "slide"
    }
   },
   "source": [
    "**Corollary:** For any three events $E_{1},E_{2},E_{3} \\in \\mathscr{F}$,   \n",
    "$P(E_{1}\\cup E_{2}\\cup E_{3})=P(E_{1})+P(E_{2})+P(E_{3})-P(E_{1}\\cap E_{2})-P(E_{2}\\cap E_{3})-P(E_{1}\\cap E_{3})+P(E_{1}\\cap E_{2} \\cap E_{3})$ <br><br>\n",
    "*proof:* $P(E_{1}\\cup E_{2} \\cup E_{3})= P(E_{1}\\cup (E_{2} \\cup E_{3}))$   \n",
    "&nbsp; &nbsp; &nbsp; &nbsp; &nbsp; &nbsp; &nbsp; &nbsp; &nbsp; &nbsp; &nbsp;&nbsp; &nbsp; &nbsp; &nbsp; &nbsp;&nbsp; &nbsp; &nbsp;&nbsp; &nbsp; &nbsp; &nbsp;$=P(E_{1})+P(E_{2}\\cup E_{3})- P(E_{1}\\cap (E_{2}\\cup E_{3}))$  ($\\because$ Addition theorem of probability)     \n",
    "&nbsp; &nbsp; &nbsp; &nbsp; &nbsp; &nbsp; &nbsp; &nbsp; &nbsp; &nbsp; &nbsp;&nbsp; &nbsp; &nbsp; &nbsp; &nbsp;&nbsp; &nbsp; &nbsp;&nbsp; &nbsp; &nbsp; &nbsp;$=P(E_{1})+P(E_{2}\\cup E_{3})- P((E_{1}\\cap E_{2})\\cup( E_{1}\\cap E_{3}))$    \n",
    "&nbsp; &nbsp; &nbsp; &nbsp; &nbsp; &nbsp; &nbsp; &nbsp; &nbsp; &nbsp; &nbsp;&nbsp; &nbsp; &nbsp; &nbsp; &nbsp;&nbsp; &nbsp; &nbsp;&nbsp; &nbsp; &nbsp; &nbsp;$=P(E_{1})+P(E_{2})+P(E_{3})- P(E_{2}\\cap E_{3})-\\left[ P(E_{1}\\cap E_{2})+P(E_{1} \\cap E_{3})- P(E_{1}\\cap E_{2}\\cap E_{3})\\right ]$   \n",
    "$\\therefore P(E_{1}\\cup E_{2}\\cup E_{3})=P(E_{1})+P(E_{2})+P(E_{3})-P(E_{1}\\cap E_{2})-P(E_{2}\\cap E_{3})-P(E_{1}\\cap E_{3})+P(E_{1}\\cap E_{2} \\cap E_{3})~$"
   ]
  },
  {
   "cell_type": "markdown",
   "metadata": {},
   "source": [
    "**Theorem 8** (Inclusion and exclusion principle):For any events $E_{1},E_{2},...,E_{n}$ in $\\mathscr{F}$   \n",
    "$P(\\cup_{i=1}^{n}E_{i})=\\sum_{1\\le i\\le n}P(E_{i})-\\sum_{1\\le i<j\\le n}P(E_{i}\\cap E_{j})+\\sum_{1\\le i<j<k\\le n}P(E_{i}\\cap E_{j} \\cap E_{k})-....+(-1)^{r-1}\\sum_{1\\le i_{1}<i_{2}<...<i_{r}\\le n}P(E_{i_{1}}\\cap E_{i_{2}}\\cap...\\cap E_{i_{r}})+...+(-1)^{n-1}P(E_{1}\\cap E_{2}\\cap...\\cap E_{n})$ <br><br>\n",
    "*proof*: By induction on n (you can try!)\n"
   ]
  },
  {
   "cell_type": "markdown",
   "metadata": {},
   "source": [
    "<p style=\"color:red\"><u>Problem 1:</u> If 4 married couple are seated at random around round table, compute the probability that no wives sit next to her husband.</p>\n",
    "\n",
    "*solution* :    \n",
    "Here we assume that all outcomes(arrangements) are equally likely as they are sitting at random. and     \n",
    "sample space $\\Omega=$ all circular arrangements of 8 people.     \n",
    "and $|\\Omega|=(8-1)!=7!$    \n",
    "Let $E_{i}$ denote the event that $i^{th}$ couple sitting together for $i$=1,2,3,4    \n",
    "Our event of interest can be expressed in terms of $E_{i}$'s as follows,     \n",
    "$\\bigcap_{i=1}^{4}E_{i}^{c} \\leftarrow$ no couple sitting together.    \n",
    "now, $P(\\bigcap_{i=1}^{4}E_{i}^{c})=1-P(\\bigcup_{i=1}^{4}E_{i})$   ($\\because \\bigcap_{i=1}^{4}E_{i}^{c}=(\\bigcup_{i=1}^{4}E_{i})^{c}$ (De Morgan's law) and $P(E^{c})=1-P(E)$)   \n",
    "=1-$\\left[ \\sum_{1\\le i\\le 4}P(E_{i})-\\sum_{1\\le i<j\\le 4}P(E_{i}\\cap E_{j})+\\sum_{1\\le i<j<k\\le 4}P(E_{i}\\cap E_{j} \\cap E_{k})-P(E_{1}\\cap E_{2}\\cap E_{3}\\cap E_{4}) \\right]$  ($\\because$ principle of inclusion and exclusion)    \n",
    "now $|E_{i}|=2!\\times 6! \\Rightarrow P(E_{i})=\\frac{2!\\times 6!}{7!}=\\frac{30}{105}$ for $i=$1,2,3,4    \n",
    "$|E_{i}\\cap E_{j}|=(2!)^{2}\\times 5! \\Rightarrow  P(E_{i}\\cap E_{j})=\\frac{(2!)^{2}\\times 5!}{7!}=\\frac{10}{105}$ for $i\\ne j$   \n",
    "$|E_{i}\\cap E_{j} \\cap E_{k}|=(2!)^{3}\\times 4! \\Rightarrow  P(E_{i}\\cap E_{j} \\cap E_{k})=\\frac{(2!)^{3}\\times 4!}{7!}=\\frac{4}{105}$     \n",
    "$|E_{1}\\cap E_{2} \\cap E_{3} \\cap E_{4}|=(2!)^{4}\\times 3! \\Rightarrow  P(E_{1}\\cap E_{2} \\cap E_{3}\\cap E_{4})=\\frac{(2!)^{4}\\times 3!}{7!}=\\frac{2}{105}$    \n",
    "$P(\\bigcap_{i=1}^{4}E_{i}^{c})=1-\\left[ \\sum_{1\\le i\\le 4}\\frac{30}{105}-\\sum_{1\\le i<j\\le 4}\\frac{10}{105}+\\sum_{1\\le i<j<k\\le 4}\\frac{4}{105}-\\frac{2}{105} \\right]$   \n",
    "&nbsp; &nbsp; &nbsp; &nbsp; &nbsp; &nbsp; &nbsp; &nbsp; $=1-\\left[ \\binom{4}{1}\\frac{30}{105}-\\binom{4}{2}\\frac{10}{105}+\\binom{4}{3}\\frac{4}{105}-\\frac{2}{105} \\right] = 0.295$    \n",
    "$\\therefore P$(no wives sit next to her husband)=0.295"
   ]
  },
  {
   "cell_type": "markdown",
   "metadata": {},
   "source": [
    "<p style=\"color:red\"><u>Problem 2:</u> A bowl contains 16 chips, of which 6 are red, 7 are white and 3 are blue. If  four chips are taken at random without replacement, find the probability that, (a) each of the four chips is red; (b)none of the chips is red; (c)there is at least one chip of each color.</p>"
   ]
  },
  {
   "cell_type": "markdown",
   "metadata": {},
   "source": [
    "*solution:*    \n",
    "We draw four chips at random without replacement from the bowl that contains 16 chips.    \n",
    "Let $\\Omega$ be a sample space, $|\\Omega|=\\binom{16}{4}=1820$    \n",
    "Since chips are taken at random, we can assume all possible outcomes are equally likely.     \n",
    "a). Let A denote the event that each of the four drawn chips is red.     \n",
    "$|A|=\\binom{6}{4}\\binom{7}{0}\\binom{3}{0}=15$     \n",
    "$\\therefore P(A)=\\frac{|A|}{|\\Omega|}=\\frac{15}{1820}\\approx0.00824$ <br><br>\n",
    "b). Let B denote the event that none of the chip is red.  \n",
    "$|B|=\\binom{6}{0}\\binom{7+3}{4}=\\binom{10}{4}=210$    \n",
    "$\\therefore P(B)=\\frac{|B|}{|\\Omega|}=\\frac{210}{1820}\\approx0.1153$ <br><br>   \n",
    "c). Let C denote the event that at least one chip of each color   \n",
    "$|C|=\\binom{6}{1}\\binom{7}{1}\\binom{3}{2}+\\binom{6}{1}\\binom{7}{2}\\binom{3}{1}+\\binom{6}{2}\\binom{7}{1}\\binom{3}{1}=819$    \n",
    "$\\therefore P(C)=\\frac{|C|}{|\\Omega|}=\\frac{819}{1820}\\approx0.45$ <br><br>   "
   ]
  }
 ],
 "metadata": {
  "hide_input": false,
  "kernelspec": {
   "display_name": "Python 3 (ipykernel)",
   "language": "python",
   "name": "python3"
  },
  "language_info": {
   "codemirror_mode": {
    "name": "ipython",
    "version": 3
   },
   "file_extension": ".py",
   "mimetype": "text/x-python",
   "name": "python",
   "nbconvert_exporter": "python",
   "pygments_lexer": "ipython3",
   "version": "3.10.0"
  },
  "latex_envs": {
   "LaTeX_envs_menu_present": true,
   "autoclose": false,
   "autocomplete": true,
   "bibliofile": "biblio.bib",
   "cite_by": "apalike",
   "current_citInitial": 1,
   "eqLabelWithNumbers": true,
   "eqNumInitial": 1,
   "hotkeys": {
    "equation": "Ctrl-E",
    "itemize": "Ctrl-I"
   },
   "labels_anchors": false,
   "latex_user_defs": false,
   "report_style_numbering": false,
   "user_envs_cfg": false
  },
  "widgets": {
   "application/vnd.jupyter.widget-state+json": {
    "state": {
     "067bf8ab606847d4ba0336a03849e5b7": {
      "model_module": "@jupyter-widgets/output",
      "model_module_version": "1.0.0",
      "model_name": "OutputModel",
      "state": {
       "layout": "IPY_MODEL_6907f3fa705f40f98cb5b996e1b3e512"
      }
     },
     "15d7cc102cbb42f3a5db1e6209d593ee": {
      "model_module": "@jupyter-widgets/controls",
      "model_module_version": "1.5.0",
      "model_name": "ProgressStyleModel",
      "state": {
       "description_width": ""
      }
     },
     "192a0fd6a9b549c487228b34fc9e3ffa": {
      "model_module": "@jupyter-widgets/controls",
      "model_module_version": "1.5.0",
      "model_name": "IntSliderModel",
      "state": {
       "description": "#trials:",
       "layout": "IPY_MODEL_1b97c2a31ad14f6c982a0857ca8f4b84",
       "max": 1000,
       "step": 100,
       "style": "IPY_MODEL_2063cd0f3b2c4fb2aa17cbcd45b598fc",
       "value": 1000
      }
     },
     "1b97c2a31ad14f6c982a0857ca8f4b84": {
      "model_module": "@jupyter-widgets/base",
      "model_module_version": "1.2.0",
      "model_name": "LayoutModel",
      "state": {}
     },
     "1f733d943674433fa2486d8ba108efab": {
      "model_module": "@jupyter-widgets/base",
      "model_module_version": "1.2.0",
      "model_name": "LayoutModel",
      "state": {}
     },
     "2063cd0f3b2c4fb2aa17cbcd45b598fc": {
      "model_module": "@jupyter-widgets/controls",
      "model_module_version": "1.5.0",
      "model_name": "SliderStyleModel",
      "state": {
       "description_width": ""
      }
     },
     "23e86068ff414460bb6b2604f5186ee1": {
      "model_module": "@jupyter-widgets/controls",
      "model_module_version": "1.5.0",
      "model_name": "HBoxModel",
      "state": {
       "children": [
        "IPY_MODEL_b4f6edc9da7a444baf6ca13371e3ad4b",
        "IPY_MODEL_80a82b153b53423784e3ee7d378bb4f7"
       ],
       "layout": "IPY_MODEL_9e6c8bf71a72424e9ca0673ed3a888c6"
      }
     },
     "32b96a1f5d734adc90be7d199f5d243d": {
      "model_module": "@jupyter-widgets/base",
      "model_module_version": "1.2.0",
      "model_name": "LayoutModel",
      "state": {}
     },
     "3e366e8d4cb64ecaa3fad8d465a6c800": {
      "model_module": "@jupyter-widgets/base",
      "model_module_version": "1.2.0",
      "model_name": "LayoutModel",
      "state": {}
     },
     "4587aaaf0e744be0b76ecb560fb0e2dd": {
      "model_module": "@jupyter-widgets/base",
      "model_module_version": "1.2.0",
      "model_name": "LayoutModel",
      "state": {}
     },
     "585942f4c7284f5e85446e30c4dcc01a": {
      "model_module": "@jupyter-widgets/controls",
      "model_module_version": "1.5.0",
      "model_name": "ProgressStyleModel",
      "state": {
       "description_width": ""
      }
     },
     "5f682f2810c54acc9cf3cd689a6e951d": {
      "model_module": "@jupyter-widgets/controls",
      "model_module_version": "1.5.0",
      "model_name": "SliderStyleModel",
      "state": {
       "description_width": ""
      }
     },
     "6907f3fa705f40f98cb5b996e1b3e512": {
      "model_module": "@jupyter-widgets/base",
      "model_module_version": "1.2.0",
      "model_name": "LayoutModel",
      "state": {}
     },
     "6c895705c7b548289ebc0c88ce7680ce": {
      "model_module": "@jupyter-widgets/base",
      "model_module_version": "1.2.0",
      "model_name": "LayoutModel",
      "state": {}
     },
     "71b9cdbb90d24003a393c4ebc769f478": {
      "model_module": "@jupyter-widgets/base",
      "model_module_version": "1.2.0",
      "model_name": "LayoutModel",
      "state": {}
     },
     "80a82b153b53423784e3ee7d378bb4f7": {
      "model_module": "@jupyter-widgets/controls",
      "model_module_version": "1.5.0",
      "model_name": "FloatProgressModel",
      "state": {
       "bar_style": "info",
       "description": "p=0.5073",
       "layout": "IPY_MODEL_4587aaaf0e744be0b76ecb560fb0e2dd",
       "max": 1,
       "orientation": "vertical",
       "style": "IPY_MODEL_585942f4c7284f5e85446e30c4dcc01a",
       "value": 0.5073
      }
     },
     "80f50c3302b546c3aa6b09fa0c61c9b8": {
      "model_module": "@jupyter-widgets/controls",
      "model_module_version": "1.5.0",
      "model_name": "IntSliderModel",
      "state": {
       "description": "#trials:",
       "layout": "IPY_MODEL_32b96a1f5d734adc90be7d199f5d243d",
       "max": 1000,
       "step": 100,
       "style": "IPY_MODEL_5f682f2810c54acc9cf3cd689a6e951d",
       "value": 400
      }
     },
     "9302d365084b4685a55df6fe226deacc": {
      "model_module": "@jupyter-widgets/controls",
      "model_module_version": "1.5.0",
      "model_name": "VBoxModel",
      "state": {
       "_dom_classes": [
        "widget-interact"
       ],
       "children": [
        "IPY_MODEL_80f50c3302b546c3aa6b09fa0c61c9b8",
        "IPY_MODEL_067bf8ab606847d4ba0336a03849e5b7"
       ],
       "layout": "IPY_MODEL_3e366e8d4cb64ecaa3fad8d465a6c800"
      }
     },
     "9c5c2ed4dc6c4c6aa78126c63a5a4aa5": {
      "model_module": "@jupyter-widgets/controls",
      "model_module_version": "1.5.0",
      "model_name": "SliderStyleModel",
      "state": {
       "description_width": ""
      }
     },
     "9e6c8bf71a72424e9ca0673ed3a888c6": {
      "model_module": "@jupyter-widgets/base",
      "model_module_version": "1.2.0",
      "model_name": "LayoutModel",
      "state": {}
     },
     "9fee2f6a367a4564b7d094d92d1f535f": {
      "model_module": "@jupyter-widgets/base",
      "model_module_version": "1.2.0",
      "model_name": "LayoutModel",
      "state": {}
     },
     "a5718431971c4efab18908e14adce24a": {
      "model_module": "@jupyter-widgets/controls",
      "model_module_version": "1.5.0",
      "model_name": "FloatProgressModel",
      "state": {
       "bar_style": "info",
       "description": "p=0.7063",
       "layout": "IPY_MODEL_1f733d943674433fa2486d8ba108efab",
       "max": 1,
       "orientation": "vertical",
       "style": "IPY_MODEL_15d7cc102cbb42f3a5db1e6209d593ee",
       "value": 0.7063
      }
     },
     "a74661814248473d9bf1e5ee305cef29": {
      "model_module": "@jupyter-widgets/controls",
      "model_module_version": "1.5.0",
      "model_name": "IntSliderModel",
      "state": {
       "description": "n:",
       "layout": "IPY_MODEL_9fee2f6a367a4564b7d094d92d1f535f",
       "style": "IPY_MODEL_9c5c2ed4dc6c4c6aa78126c63a5a4aa5",
       "value": 30
      }
     },
     "a8362324eb194d6a997823b6b30e2e74": {
      "model_module": "@jupyter-widgets/controls",
      "model_module_version": "1.5.0",
      "model_name": "VBoxModel",
      "state": {
       "_dom_classes": [
        "widget-interact"
       ],
       "children": [
        "IPY_MODEL_192a0fd6a9b549c487228b34fc9e3ffa",
        "IPY_MODEL_e31ae817fbb249b7a3d320ced1f4d640"
       ],
       "layout": "IPY_MODEL_d8c3e459f4f9476390bb301a4db9b788"
      }
     },
     "b4f6edc9da7a444baf6ca13371e3ad4b": {
      "model_module": "@jupyter-widgets/controls",
      "model_module_version": "1.5.0",
      "model_name": "IntSliderModel",
      "state": {
       "description": "n:",
       "layout": "IPY_MODEL_71b9cdbb90d24003a393c4ebc769f478",
       "style": "IPY_MODEL_d549408189914859a1be4004a704d1ea",
       "value": 23
      }
     },
     "d549408189914859a1be4004a704d1ea": {
      "model_module": "@jupyter-widgets/controls",
      "model_module_version": "1.5.0",
      "model_name": "SliderStyleModel",
      "state": {
       "description_width": ""
      }
     },
     "d8c3e459f4f9476390bb301a4db9b788": {
      "model_module": "@jupyter-widgets/base",
      "model_module_version": "1.2.0",
      "model_name": "LayoutModel",
      "state": {}
     },
     "e03fdfc4cd6948379d5375846e6df2ed": {
      "model_module": "@jupyter-widgets/controls",
      "model_module_version": "1.5.0",
      "model_name": "HBoxModel",
      "state": {
       "children": [
        "IPY_MODEL_a74661814248473d9bf1e5ee305cef29",
        "IPY_MODEL_a5718431971c4efab18908e14adce24a"
       ],
       "layout": "IPY_MODEL_e6e1d84b36424bd4b93f6cc79d6e0845"
      }
     },
     "e31ae817fbb249b7a3d320ced1f4d640": {
      "model_module": "@jupyter-widgets/output",
      "model_module_version": "1.0.0",
      "model_name": "OutputModel",
      "state": {
       "layout": "IPY_MODEL_6c895705c7b548289ebc0c88ce7680ce"
      }
     },
     "e6e1d84b36424bd4b93f6cc79d6e0845": {
      "model_module": "@jupyter-widgets/base",
      "model_module_version": "1.2.0",
      "model_name": "LayoutModel",
      "state": {}
     }
    },
    "version_major": 2,
    "version_minor": 0
   }
  }
 },
 "nbformat": 4,
 "nbformat_minor": 4
}
