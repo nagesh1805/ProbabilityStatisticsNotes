{
 "cells": [
  {
   "cell_type": "markdown",
   "metadata": {},
   "source": [
    "<h2 style=\"text-align:center\"> MA2102</h2>\n",
    "<h1 style=\"text-align:center\"> Probability and Statistics</h1>\n",
    "<h4 style=\"text-align:center\"> Lecture-22</h4>"
   ]
  },
  {
   "cell_type": "markdown",
   "metadata": {},
   "source": [
    "## Multinomial Distribution:"
   ]
  },
  {
   "cell_type": "markdown",
   "metadata": {},
   "source": [
    "One of the most important multivariate distribution is the Multinomial distribution, which arises when a sequence of $n$ independent and identical experiments performed which results in any one of $k$($\\ge2$) possible outcomes"
   ]
  },
  {
   "cell_type": "markdown",
   "metadata": {},
   "source": [
    "Let us denote the $k$ possible outcomes of the experiment as $r_1,r_2,...r_k$, and $p_i$ is probability of obtaining outcome $r_i$ when experiment is performed for $i=1,2,...,k$, so $\\sum_{i=1}^kp_i=1$"
   ]
  },
  {
   "cell_type": "markdown",
   "metadata": {},
   "source": [
    "Here we are performing sequence of $n$ independent and identical experiments of above kind."
   ]
  },
  {
   "cell_type": "markdown",
   "metadata": {},
   "source": [
    "$\\Omega=\\{\\omega:\\omega=x_1x_2...x_n, x_i\\in \\{r_1,r_2,...,r_k\\} \\text{ for } i=1,2,...n\\}$"
   ]
  },
  {
   "cell_type": "markdown",
   "metadata": {},
   "source": [
    "For $n_i\\ge 0$ & $\\sum_{i=1}^{k}n_i=n$"
   ]
  },
  {
   "cell_type": "markdown",
   "metadata": {},
   "source": [
    "define $E_{n_1n_2...n_k}=\\{\\omega \\in \\Omega:\\text{ number of }r_i's\\text{ in } \\omega = n_i  \\text{for } i=1,2,...k\\}$"
   ]
  },
  {
   "cell_type": "markdown",
   "metadata": {},
   "source": [
    "$|E_{n_1n_2...n_k}|=\\frac{n!}{n_1!n_2!...n_k!}$"
   ]
  },
  {
   "cell_type": "markdown",
   "metadata": {},
   "source": [
    "for $\\omega \\in E_{n_1n_2...n_k}(\\{\\omega\\})=p_1^{n_1}p_2^{n_2}...p_k^{n_k}$ &nbsp; &nbsp; ($\\because$ Independence)"
   ]
  },
  {
   "cell_type": "markdown",
   "metadata": {},
   "source": [
    "Let $X_i=$ number of $r_i$'s in $n$ trials for $i=1,2,...k$"
   ]
  },
  {
   "cell_type": "markdown",
   "metadata": {},
   "source": [
    "$JPMF$ of $\\underline{X}=(X_1,X_2,...,X_k)$"
   ]
  },
  {
   "cell_type": "markdown",
   "metadata": {},
   "source": [
    "$S_\\underline{X}=\\{(n_1,n_2,...,n_k):n_1\\ge 0,n_2\\ge 0,...,n_k\\ge 0, \\sum_{i=1}^kn_i=n \\}$"
   ]
  },
  {
   "cell_type": "markdown",
   "metadata": {},
   "source": [
    "$p_{\\underline{X}}(n_1,n_2,...,n_k)=P(X_1=n_1,X_2=n_2,...,X_k=n_k)=P(E_{n_1n_2...n_k})=\\underset{\\omega\\in E_{n_1n_2...n_k}}{\\sum}P(\\{\\omega\\})$"
   ]
  },
  {
   "cell_type": "markdown",
   "metadata": {},
   "source": [
    "&nbsp; &nbsp; &nbsp; &nbsp; &nbsp; &nbsp; &nbsp; &nbsp; &nbsp; &nbsp; &nbsp; &nbsp; &nbsp; &nbsp; &nbsp; &nbsp; $=\\underset{\\omega\\in E_{n_1n_2...n_k}}{\\sum}p_1^{n_1}p_2^{n_2}...p_k^{n_k}=\\left(\\underset{\\omega\\in E_{n_1n_2...n_k}}{\\sum}1\\right)p_1^{n_1}p_2^{n_2}...p_k^{n_k}$"
   ]
  },
  {
   "cell_type": "markdown",
   "metadata": {},
   "source": [
    "&nbsp; &nbsp; &nbsp; &nbsp; &nbsp; &nbsp; &nbsp; &nbsp; &nbsp; &nbsp; &nbsp; &nbsp; &nbsp; &nbsp; &nbsp; &nbsp; $=|E_{n_1n_2...n_k}|p_1^{n_1}p_2^{n_2}...p_k^{n_k}=\\frac{n!}{n_1!n_2!...n_k!}p_1^{n_1}p_2^{n_2}...p_k^{n_k}$"
   ]
  },
  {
   "cell_type": "markdown",
   "metadata": {},
   "source": [
    "$\\therefore$ $p_{\\underline{X}}(n_1,n_2,...,n_k)=\\binom{n}{n_1,n_2,\\dots,n_k}p_1^{n_1}p_2^{n_2}...p_k^{n_k}$"
   ]
  },
  {
   "cell_type": "markdown",
   "metadata": {},
   "source": [
    "Where (Multinomial Coefficient) $\\binom{n}{n_1,n_2,\\dots,n_k}:=\\frac{n!}{n_1!n_2!...n_k!}$"
   ]
  },
  {
   "cell_type": "markdown",
   "metadata": {},
   "source": [
    "### Validity  of $JPMF$ of $\\underline{X}$ :"
   ]
  },
  {
   "cell_type": "markdown",
   "metadata": {},
   "source": [
    "1.  $p_{\\underline{X}}(n_1,n_2,...,n_k)\\ge 0$"
   ]
  },
  {
   "cell_type": "markdown",
   "metadata": {},
   "source": [
    "2. $\\sum_{(n_1,n_2,...,n_k)\\in S_{\\underline{X}}}\\binom{n}{n_1,n_2,\\dots,n_k}p_1^{n_1}p_2^{n_2}...p_k^{n_k}=\\left(p_{1}+p_{2}+...+p_{k}\\right)^n=(1)^n=1$&nbsp; ($\\because$ $p_{1}+p_{2}+...+p_{k}=1$ and Multinomial theorem)"
   ]
  },
  {
   "cell_type": "markdown",
   "metadata": {},
   "source": [
    "**Notation:** $\\underline{X}=(X1,X_2,...,X_k)\\sim Multi(n,(p_1,p_2,\\dots,p_k))$"
   ]
  },
  {
   "cell_type": "markdown",
   "metadata": {},
   "source": [
    "**Note:** Binomial distribution with parameter $n,p$ is equivalent to Multinomial distribution with parameter $n$,(p,1-p) <span style=\"color:blue\"> (i.e $Bin(n,p)\\equiv Multi(n,(p_1,p_2))$)</span> where $p_1=p, p_2=1-p$"
   ]
  },
  {
   "cell_type": "markdown",
   "metadata": {},
   "source": [
    "**Example:** Let us say we have a die whose probabilities of landing  on outcomes 1,2,3,4,5,6 respectively are $\\frac{1}{5},\\frac{3}{10},\\frac{1}{5},\\frac{1}{10},\\frac{1}{20},\\frac{3}{20}$. And if we roll die 9 times, then find the probability that 1 appear three times, 2 and 3 appear twice each, 4 and 5 once each and 6 not at all."
   ]
  },
  {
   "cell_type": "markdown",
   "metadata": {},
   "source": [
    "*solution:*Let $X_i=$ number of $i$'s in 9 trials for $i=1,2,3,...,6$"
   ]
  },
  {
   "cell_type": "markdown",
   "metadata": {},
   "source": [
    "then $(X_1,X_2,...,X_6)\\sim Multi\\left(9,(\\frac{1}{5},\\frac{3}{10},\\frac{1}{5},\\frac{1}{10},\\frac{1}{20},\\frac{3}{20})\\right)$"
   ]
  },
  {
   "cell_type": "markdown",
   "metadata": {},
   "source": [
    "Here we are interested in $P(X_1=3,X_2=2,X_3=2,X_4=1,X_5=1,X_6=0)=?$"
   ]
  },
  {
   "cell_type": "markdown",
   "metadata": {},
   "source": [
    "$P(X_1=3,X_2=2,X_3=2,X_4=1,X_5=1,X_6=0)=\\frac{9!}{3!2!2!1!1!0!}\\left(\\frac{1}{5}\\right)^3\\left(\\frac{3}{10}\\right)^2\\left(\\frac{1}{5}\\right)^2\\left(\\frac{1}{10}\\right)^1\\left(\\frac{1}{20}\\right)^1\\left(\\frac{3}{20}\\right)^0=0.00217728$"
   ]
  },
  {
   "cell_type": "markdown",
   "metadata": {},
   "source": [
    "### Distribution of sum of two independent random variables:"
   ]
  },
  {
   "cell_type": "markdown",
   "metadata": {},
   "source": [
    "Suppose $X,Y$ are independent continuous random variable having $PDF$'s $f_X(x)$, $f_Y(y)$ respectively, then $CDF$ of $X+Y$,"
   ]
  },
  {
   "cell_type": "markdown",
   "metadata": {},
   "source": [
    "$F_{X+Y}(t)=P(X+Y\\le t)$"
   ]
  },
  {
   "cell_type": "markdown",
   "metadata": {},
   "source": [
    "&nbsp; &nbsp; &nbsp; &nbsp; &nbsp; &nbsp; &nbsp; &nbsp; $=\\underset{x+y\\le t}{\\int\\int}f_{X,Y}(x,y)dxdy$"
   ]
  },
  {
   "cell_type": "markdown",
   "metadata": {},
   "source": [
    "&nbsp; &nbsp; &nbsp; &nbsp; &nbsp; &nbsp; &nbsp; &nbsp; $={\\int_{-\\infty}^{\\infty}\\int_{-\\infty}^{t-y}}f_X(x)f_Y(y)dxdy$  &nbsp; &nbsp; ($\\because X,Y$ are independent, we have $f_{X,Y}(x,y)=f_X(x)f_Y(y)$)"
   ]
  },
  {
   "cell_type": "markdown",
   "metadata": {},
   "source": [
    "&nbsp; &nbsp; &nbsp; &nbsp; &nbsp; &nbsp; &nbsp; &nbsp; $=\\int_{-\\infty}^{\\infty}\\left[\\int_{-\\infty}^{t-y}f_X(x)dx\\right]f_Y(y)dy$ "
   ]
  },
  {
   "cell_type": "markdown",
   "metadata": {},
   "source": [
    "$\\therefore$ $F_{X+Y}(t)=\\int_{-\\infty}^{\\infty}F_{X}(t-y)f_Y(y)dy$"
   ]
  },
  {
   "cell_type": "markdown",
   "metadata": {},
   "source": [
    "$f_{X+Y}(t)=\\frac{d}{dt}F_{X+Y}(t)=\\frac{d}{dt}\\left[\\int_{-\\infty}^{\\infty}F_X(t-y)f_Y(y)dy\\right]$"
   ]
  },
  {
   "cell_type": "markdown",
   "metadata": {},
   "source": [
    "$f_{X+Y}(t)=\\int_{-\\infty}^{\\infty}\\frac{d}{dt}F_X(t-y)f_Y(y)dy$ &nbsp; &nbsp; ($\\because~$ Leibniz integral rule)"
   ]
  },
  {
   "cell_type": "markdown",
   "metadata": {},
   "source": [
    "$\\therefore$ $f_{X+Y}(t)=\\int_{-\\infty}^{\\infty}f_X(t-y)f_Y(y)dy$"
   ]
  },
  {
   "cell_type": "markdown",
   "metadata": {},
   "source": [
    "Here $f_{X+Y}$ is called <i>convolution</i> of $f_X$, $f_Y$"
   ]
  },
  {
   "cell_type": "markdown",
   "metadata": {},
   "source": [
    "**Example:** $X,Y$ are independent, $X\\sim U[0,1]$, and $Y\\sim U[0,1]$, then calculate the $PDF$ of $X+Y$"
   ]
  },
  {
   "cell_type": "markdown",
   "metadata": {},
   "source": [
    "*solution:* The $PDF$ of $X+Y$, $f_{X+Y}(t)=\\int_{-\\infty}^{\\infty}f_X(t-y)f_Y(y)dy$"
   ]
  },
  {
   "cell_type": "markdown",
   "metadata": {},
   "source": [
    "&nbsp; &nbsp; &nbsp;&nbsp;&nbsp;&nbsp; &nbsp; &nbsp; &nbsp; &nbsp;&nbsp;&nbsp;&nbsp; &nbsp; &nbsp; &nbsp; &nbsp;&nbsp;&nbsp;&nbsp;&nbsp; &nbsp; &nbsp; &nbsp;&nbsp;&nbsp;&nbsp; &nbsp; &nbsp; &nbsp; &nbsp;&nbsp;&nbsp;&nbsp;$f_{X+Y}(t)=\\int_{0}^{1}f_X(t-y)dy$  &nbsp; &nbsp; &nbsp;&nbsp;&nbsp;($\\because$ $f_Y(y)=\\left\\{\\begin{matrix}\n",
    " 1&0<y<1 \\\\ \n",
    " 0& \\text{otherwise}\n",
    "\\end{matrix}\\right.$)"
   ]
  },
  {
   "cell_type": "markdown",
   "metadata": {},
   "source": [
    "$S_X=[0,1]$, $S_Y=[0,1]$, then $S_{X+Y}=[0,2]$"
   ]
  },
  {
   "cell_type": "markdown",
   "metadata": {},
   "source": [
    "$f_X(t-y)=1\\iff$  $0<t-y<1\\iff -1<y-t<0\\iff t-1<y<t$ &nbsp; &nbsp; $\\left(\\because f_X(x)=\\left\\{\\begin{matrix}\n",
    " 1&0<x<1 \\\\ \n",
    " 0& \\text{otherwise}\n",
    "\\end{matrix}\\right.~~~~~\\right)$"
   ]
  },
  {
   "cell_type": "markdown",
   "metadata": {},
   "source": [
    "for $0\\le t\\le 1$, $f_{X+Y}(t)=\\int_0^tdy=t$&nbsp; &nbsp; &nbsp; &nbsp; &nbsp; &nbsp; &nbsp; &nbsp; ---<span style=\"color:navy\">t-1</span>-----<span style=\"color:navy\">0</span><span style=\"color:green\">-----</span><span style=\"color:navy\">t</span>---------<span style=\"color:navy\">1</span>"
   ]
  },
  {
   "cell_type": "markdown",
   "metadata": {},
   "source": [
    "for $1<t\\le 2$, $f_{X+Y}(t)=\\int_{t-1}^1dy=2-t$&nbsp; &nbsp; &nbsp; &nbsp; &nbsp; &nbsp; &nbsp; &nbsp; ---<span style=\"color:navy\">0</span>-----<span style=\"color:navy\">t-1</span><span style=\"color:green\">---</span><span style=\"color:navy\">1</span>-----<span style=\"color:navy\">t</span>---<span style=\"color:navy\">2</span>"
   ]
  },
  {
   "cell_type": "markdown",
   "metadata": {
    "cell_style": "split"
   },
   "source": [
    "$\\therefore$ $f_{X+Y}(t)=\\left\\{\\begin{matrix}\n",
    " t& 0\\le t \\le 1\\\\ \n",
    " 2-t& 1<t\\le2 \\\\\n",
    " 0 & \\text{otherwise}\n",
    "\\end{matrix}\\right.$<br><br><br>\n",
    "Because of the shape of it's $PDF$, $X+Y$ is said to have <b>Triangular distribution</b>"
   ]
  },
  {
   "cell_type": "code",
   "execution_count": 97,
   "metadata": {
    "cell_style": "split",
    "hide_input": true
   },
   "outputs": [
    {
     "data": {
      "image/png": "[encoded data removed]",
      "text/plain": [
       "<Figure size 432x288 with 1 Axes>"
      ]
     },
     "metadata": {
      "needs_background": "light"
     },
     "output_type": "display_data"
    }
   ],
   "source": [
    "import matplotlib.pyplot as plt\n",
    "plt.plot([0,1,2],[0,1,0])\n",
    "plt.ylim(0,1)\n",
    "plt.show()"
   ]
  },
  {
   "cell_type": "markdown",
   "metadata": {},
   "source": [
    "Suppose $X,Y$ are independent discrete random variables with $PMF$'s $p_X$,$p_Y$ respectively, then $PMF$ of $X+Y$"
   ]
  },
  {
   "cell_type": "markdown",
   "metadata": {},
   "source": [
    "$p_{X+Y}(t)=P(X+Y=t)=P(\\underset{x\\in S_X}{\\bigcup}(X=x,Y=t-x))$"
   ]
  },
  {
   "cell_type": "markdown",
   "metadata": {},
   "source": [
    "&nbsp; &nbsp; &nbsp; &nbsp; &nbsp; &nbsp; &nbsp; &nbsp; &nbsp; &nbsp; &nbsp; &nbsp; &nbsp; &nbsp; &nbsp; &nbsp; &nbsp; &nbsp; &nbsp; &nbsp; &nbsp; &nbsp; &nbsp; $=\\underset{x\\in S_X}{\\sum}P(X=x,Y=t-x)$"
   ]
  },
  {
   "cell_type": "markdown",
   "metadata": {},
   "source": [
    "&nbsp; &nbsp; &nbsp; &nbsp; &nbsp; &nbsp; &nbsp; &nbsp; &nbsp; &nbsp; &nbsp; &nbsp; &nbsp; &nbsp; &nbsp; &nbsp; &nbsp; &nbsp; &nbsp; &nbsp; &nbsp; &nbsp; &nbsp; $=\\underset{x\\in S_X}{\\sum}P(X=x)P(Y=t-x)$ &nbsp; &nbsp; ($\\because~X,Y$ are independent)"
   ]
  },
  {
   "cell_type": "markdown",
   "metadata": {},
   "source": [
    "&nbsp; &nbsp; &nbsp; &nbsp; &nbsp; &nbsp; &nbsp; &nbsp; &nbsp; &nbsp; &nbsp; &nbsp; &nbsp; &nbsp; &nbsp; &nbsp; $p_{X+Y}(t)=\\underset{x\\in S_X}{\\sum}p_X(x)p_Y(t-x)$ "
   ]
  },
  {
   "cell_type": "markdown",
   "metadata": {},
   "source": [
    "$\\therefore$ Here $p_{X+Y}$ is called convolution of $p_X,p_Y$"
   ]
  },
  {
   "cell_type": "markdown",
   "metadata": {},
   "source": [
    "**Example:** Let $X,Y$ are independent and $X\\sim Bin(m,p)$, $Y\\sim Bin(n,p)$ , then $S_X=\\{0,1,2,...,m\\}$, $S_Y=\\{0,1,2,...,n\\}$"
   ]
  },
  {
   "cell_type": "markdown",
   "metadata": {},
   "source": [
    "$S_{X+Y}=\\{0,1,2,...,m+n\\}$"
   ]
  },
  {
   "cell_type": "markdown",
   "metadata": {},
   "source": [
    "$p_X(x)=\\binom{m}{x}p^x(1-p)^{m-x}$, $x\\in S_X$, $p_Y(y)=\\binom{n}{y}p^y(1-p)^{n-y}$,$y\\in S_Y$"
   ]
  },
  {
   "cell_type": "markdown",
   "metadata": {},
   "source": [
    "$PMF$ of $X+Y$,&nbsp; $p_{X+Y}(t)=\\sum_{x=0}^{n}p_X(x)p_Y(t-x)$ &nbsp; ($\\because$ Convolution formula)"
   ]
  },
  {
   "cell_type": "markdown",
   "metadata": {},
   "source": [
    "&nbsp; &nbsp;  &nbsp; &nbsp; &nbsp; &nbsp; &nbsp; &nbsp; &nbsp; &nbsp; &nbsp; &nbsp; &nbsp; &nbsp; &nbsp; &nbsp; &nbsp; &nbsp; &nbsp; &nbsp; &nbsp; &nbsp; &nbsp; $=\\sum_{x=0}^{n}\\left[\\binom{m}{x}p^x(1-p)^{m-x}\\right]\\left[\\binom{n}{t-x}p^{t-x}(1-p)^{n-(t-x)}\\right]$ &nbsp; ($\\because$ Convolution formula)"
   ]
  },
  {
   "cell_type": "markdown",
   "metadata": {},
   "source": [
    "&nbsp; &nbsp;  &nbsp; &nbsp; &nbsp; &nbsp; &nbsp; &nbsp; &nbsp; &nbsp; &nbsp; &nbsp; &nbsp; &nbsp; &nbsp; &nbsp; &nbsp; &nbsp; &nbsp; &nbsp; &nbsp; &nbsp; &nbsp; $=\\left[\\sum_{x=0}^{n}\\binom{m}{x}\\binom{n}{t-x}\\right]p^{t}(1-p)^{m+n-t}$ &nbsp; "
   ]
  },
  {
   "cell_type": "markdown",
   "metadata": {},
   "source": [
    "&nbsp; &nbsp;  &nbsp; &nbsp; &nbsp; &nbsp; &nbsp; &nbsp; &nbsp; &nbsp; &nbsp; &nbsp; &nbsp; &nbsp; &nbsp; &nbsp; &nbsp; &nbsp; &nbsp; &nbsp; &nbsp; &nbsp; &nbsp; $=\\binom{m+n}{t}p^{t}(1-p)^{m+n-t}$ &nbsp; &nbsp; ($\\because$ Vandermonde's Identity)"
   ]
  },
  {
   "cell_type": "markdown",
   "metadata": {},
   "source": [
    "$\\therefore$ $X+Y\\sim Bin(m+n,p)$"
   ]
  },
  {
   "cell_type": "markdown",
   "metadata": {},
   "source": [
    "## Transformations in $\\mathbb{R}^k$"
   ]
  },
  {
   "cell_type": "markdown",
   "metadata": {},
   "source": [
    "**Theorem:** Let $\\underline{X}\\equiv(X_1,X_2,...,X_k)$ be k-dimensional random vector of continuous type with $JPDF$ $f_{\\underline{X}}(x_1,x_2,...,x_k)$,  with support $S_{\\underline{X}}$"
   ]
  },
  {
   "cell_type": "markdown",
   "metadata": {},
   "source": [
    "$Y_i=g_i(X_1,X_2,...,X_k)$ for $i=1,2,...,k$, which maps $S_{\\underline{X}}$ to $S_{\\underline{Y}}$and functions $g_i$'s have continuous partial derivatives, "
   ]
  },
  {
   "cell_type": "markdown",
   "metadata": {},
   "source": [
    "and we suppose that equations $y_i=g_i(x_1,x_2,...,x_k)$ for i=1,2,...,k have a unique solutions, say $x_i=h_i(y_1,y_2,...,y_k)$ for i=1,2,...,k"
   ]
  },
  {
   "cell_type": "markdown",
   "metadata": {},
   "source": [
    "and Jacobian $\\frac{\\partial(x_1,x_2,...,x_k)}{\\partial(y_1,y_2,...,y_k)}=det\\left[\\frac{\\partial x_i}{\\partial y_j}\\right]_{k\\times k}\\ne 0$"
   ]
  },
  {
   "cell_type": "markdown",
   "metadata": {},
   "source": [
    "Under these assumptions, the $JPDF$ of $\\underline{Y}\\equiv(Y_1,Y_2,...,Y_k)$ is given by"
   ]
  },
  {
   "cell_type": "markdown",
   "metadata": {},
   "source": [
    "$f_{\\underline{Y}}(y_1,y_2,...,y_k)=f_{\\underline{X}}(h_1(y_1,y_2,...,y_k),h_2(y_1,y_2,...,y_k),...,h_k(y_1,y_2,...,y_k))\\begin{vmatrix}\\frac{\\partial(x_1,x_2,...,x_k)}{\\partial(y_1,y_2,...,y_k)}\\end{vmatrix}$, &nbsp; $(y_1,y_2,...,y_k)\\in S_{\\underline{Y}}$"
   ]
  },
  {
   "cell_type": "markdown",
   "metadata": {},
   "source": [
    "**Example:** Let $(X,Y)$ be bivariate random variable with $JPDF$ $f_{X,Y}(x,y)$,$U=X+Y$, $V=X-Y$ "
   ]
  },
  {
   "cell_type": "markdown",
   "metadata": {},
   "source": [
    "Let $u=x+y$, $v=x-y\\implies$ $x=\\frac{u+v}{2}$, $y=\\frac{u-v}{2}$"
   ]
  },
  {
   "cell_type": "markdown",
   "metadata": {},
   "source": [
    "$\\frac{\\partial(x,y)}{\\partial(u,v)}=\\begin{vmatrix}\n",
    " \\frac{\\partial x}{\\partial u}& \\frac{\\partial x}{\\partial v}\\\\ \n",
    " \\frac{\\partial y}{\\partial u}&  \\frac{\\partial y}{\\partial v}\n",
    "\\end{vmatrix}$$=\\begin{vmatrix}\n",
    " \\frac{1}{2}& \\frac{1}{2}\\\\ \n",
    " \\frac{1}{2}&  -\\frac{1}{2}\n",
    "\\end{vmatrix}=-\\frac{1}{2}$"
   ]
  },
  {
   "cell_type": "markdown",
   "metadata": {},
   "source": [
    "$JPDF$ of $(U,V)$, $f_{U,V}(u,v)=f_{X,Y}\\left(\\frac{u+v}{2},\\frac{u-v}{2}\\right)\\begin{vmatrix}\\frac{\\partial(x,y)}{\\partial(u,v)}\\end{vmatrix}$$=f_{X,Y}\\left(\\frac{u+v}{2},\\frac{u-v}{2}\\right)|-\\frac{1}{2}|$"
   ]
  },
  {
   "cell_type": "markdown",
   "metadata": {},
   "source": [
    "$f_{U,V}(u,v)=\\frac{1}{2}f_{X,Y}\\left(\\frac{u+v}{2},\\frac{u-v}{2}\\right)$"
   ]
  },
  {
   "cell_type": "markdown",
   "metadata": {},
   "source": [
    "If $X,Y$ are independent, and $X\\sim Exp(\\lambda_1)$,$Y\\sim Exp(\\lambda_2)$, then $JPDF$ of $(X,Y), f_{X,Y}(x,y)=f_X(x)f_Y(y)$"
   ]
  },
  {
   "cell_type": "markdown",
   "metadata": {},
   "source": [
    "$f_{X,Y}(x,y)=\\left\\{\\begin{matrix}\n",
    " \\lambda_1\\lambda_2e^{-\\lambda_1 x-\\lambda_2 y}& x>0,y>0 \\\\ \n",
    " 0& \\text{otherwise}\n",
    "\\end{matrix}\\right.$"
   ]
  },
  {
   "cell_type": "markdown",
   "metadata": {},
   "source": [
    "$f_{U,V}(u,v)=\\left\\{\\begin{matrix}\n",
    " \\frac{1}{2}\\lambda_1\\lambda_2e^{-\\lambda_1\\left(\\frac{u+v}{2}\\right)-\\lambda_2\\left(\\frac{u-v}{2}\\right)}& \\frac{u+v}{2}>0,\\frac{u-v}{2}>0\\\\ \n",
    "0 & \\text{otherwise}\n",
    "\\end{matrix}\\right.$"
   ]
  },
  {
   "cell_type": "markdown",
   "metadata": {},
   "source": [
    "$f_{U,V}(u,v)=\\left\\{\\begin{matrix}\n",
    " \\frac{1}{2}\\lambda_1\\lambda_2e^{-\\frac{1}{2}((\\lambda_1+\\lambda_2)u+(\\lambda_1-\\lambda_2)v)}& {u+v}>0,{u-v}>0\\\\ \n",
    "0 & \\text{otherwise}\n",
    "\\end{matrix}\\right.$"
   ]
  },
  {
   "cell_type": "markdown",
   "metadata": {},
   "source": [
    "## Bank-Post Office Problem:"
   ]
  },
  {
   "cell_type": "markdown",
   "metadata": {},
   "source": [
    "Say you got work in the Bank, as well as in Post Office,and now you are in a bank and standing in a queue to be served, and you are $a^{th}$ customer in the line (i.e $a-1$ customers ahead of you in the line)"
   ]
  },
  {
   "cell_type": "markdown",
   "metadata": {},
   "source": [
    "and, average number of customers that are served in unit time is $\\lambda$"
   ]
  },
  {
   "cell_type": "markdown",
   "metadata": {},
   "source": [
    "Let $X$ denote the your waiting time to be served in the bank, then $X\\sim Gamma(a,\\lambda)$  &nbsp; ($\\because$ customer services happen under Poisson process)"
   ]
  },
  {
   "cell_type": "markdown",
   "metadata": {},
   "source": [
    "once you got served in the bank then you go to post office, and you are in a post office and standing in a queue to be served, and you are $b^{th}$ customer in the line (i.e $b-1$ customers ahead of you in the line)"
   ]
  },
  {
   "cell_type": "markdown",
   "metadata": {},
   "source": [
    "and,let us say in Post office also average number of customers that are served in unit time is $\\lambda$"
   ]
  },
  {
   "cell_type": "markdown",
   "metadata": {},
   "source": [
    "Let $Y$ denote the your waiting time to be served in the post office, then $Y\\sim Gamma(b,\\lambda)$"
   ]
  },
  {
   "cell_type": "markdown",
   "metadata": {},
   "source": [
    "Let $T$ denote the total time you spent in the Bank and Post office, i.e $T=X+Y$"
   ]
  },
  {
   "cell_type": "markdown",
   "metadata": {},
   "source": [
    "Let $W$ denote the proportion of time that you spent at a bank, i.e    $W=\\frac{X}{X+Y}$"
   ]
  },
  {
   "cell_type": "markdown",
   "metadata": {},
   "source": [
    "$S_T=(0,\\infty),~S_W=(0,1)$ &nbsp; &nbsp; ($\\because$ $S_X=(0,\\infty),~ S_Y=(0,\\infty)$)"
   ]
  },
  {
   "cell_type": "markdown",
   "metadata": {},
   "source": [
    "$t=x+y$, $w=\\frac{x}{x+y}$ $\\implies$ $x=w t\\implies y=(1-w)t$"
   ]
  },
  {
   "cell_type": "markdown",
   "metadata": {},
   "source": [
    "$\\frac{\\partial(x,y)}{\\partial(t,w)}=\\begin{vmatrix}\\frac{\\partial x}{\\partial t}&\\frac{\\partial x}{\\partial w} \\\\ \\frac{\\partial y}{\\partial t}&\\frac{\\partial y}{\\partial w}\\end{vmatrix}=\\begin{vmatrix}w&t\\\\ 1-w&-t\\end{vmatrix}=-t$"
   ]
  },
  {
   "cell_type": "markdown",
   "metadata": {},
   "source": [
    "Here $X,Y$ are independent. &nbsp; &nbsp; ($\\because$ waiting time at bank & waiting time at post office are independent)"
   ]
  },
  {
   "cell_type": "markdown",
   "metadata": {},
   "source": [
    "$f_{X,Y}(x,y)=\\left(\\frac{\\lambda(\\lambda x)^{a-1}e^{-\\lambda x}}{\\Gamma(a)}\\right) \\left(\\frac{\\lambda(\\lambda y)^{b-1}e^{-\\lambda y}}{\\Gamma(b)}\\right)$ &nbsp; &nbsp; ($\\because$ $f_X(x,y)=f_X(x)f_Y(y)$)"
   ]
  },
  {
   "cell_type": "markdown",
   "metadata": {},
   "source": [
    "$f_{X,Y}(x,y)=\\left\\{\\begin{matrix}\n",
    " \\frac{\\lambda^{a+b}x^{a-1}y^{b-1}e^{-\\lambda(x+y)}}{\\Gamma(a)\\Gamma(b)}&x>0,y>0 \\\\ \n",
    " 0& \\text{otherwise}\n",
    "\\end{matrix}\\right.$"
   ]
  },
  {
   "cell_type": "markdown",
   "metadata": {},
   "source": [
    "now the $JPDF$ of $(T,W)$, $f_{T,W}(t,w)=f_{X,Y}(wt,(1-w)t)\\begin{vmatrix}\\frac{\\partial(x,y)}{\\partial(t,w)}\\end{vmatrix}$, $t>0$, $0<w<1$"
   ]
  },
  {
   "cell_type": "markdown",
   "metadata": {},
   "source": [
    "$f_{T,W}(t,w)=\\frac{\\lambda^{a+b}(wt)^{a-1}((1-w)t)^{b-1}e^{-\\lambda t}}{\\Gamma(a)\\Gamma(b)}|-t|$"
   ]
  },
  {
   "cell_type": "markdown",
   "metadata": {},
   "source": [
    "&nbsp; &nbsp; &nbsp; &nbsp; &nbsp; &nbsp; &nbsp; &nbsp; &nbsp; &nbsp; $=\\frac{\\lambda^{a+b}t^{a+b-1}e^{-\\lambda t}}{\\Gamma(a+b)}\\frac{w^{a-1}(1-w)^{b-1}}{\\frac{\\Gamma(a)\\Gamma(b)}{\\Gamma(a+b)}}$&nbsp; &nbsp; ($\\because~t>0$ )"
   ]
  },
  {
   "cell_type": "markdown",
   "metadata": {},
   "source": [
    "$f_{T,W}(t,w)=\\left\\{\\begin{matrix}\n",
    " \\frac{\\lambda (\\lambda t)^{a+b-1}e^{-\\lambda t}}{\\Gamma(a+b)} \\frac{w^{a-1}(1-w)^{b-1}}{B(a,b)}&t>0,0<w<1 \\\\ \n",
    " 0& \\text{otherwise}\n",
    "\\end{matrix}\\right.$   &nbsp; &nbsp; Where $B(a,b)$ is Beta function"
   ]
  },
  {
   "cell_type": "markdown",
   "metadata": {},
   "source": [
    "We know that $T\\sim Gamma(a+b,\\lambda)$ &nbsp; ($\\because$ $X\\sim Gamma(a,\\lambda),Y\\sim\\Gamma(b,\\lambda)$ & $X,Y$ are independent $\\implies$ $X+Y\\sim Gamma(a+b,\\lambda)$)"
   ]
  },
  {
   "cell_type": "markdown",
   "metadata": {},
   "source": [
    "$\\therefore$ $f_T(t)=\\frac{\\lambda (\\lambda t)^{a+b-1}e^{-\\lambda t}}{\\Gamma(a+b)}$, $t>0$ $\\implies 1=\\int_{-\\infty}^{\\infty}f_T(t)dt=\\int_{0}^{\\infty} \\frac{\\lambda (\\lambda t)^{a+b-1}e^{-\\lambda t}}{\\Gamma(a+b)}dt$   &nbsp; &nbsp;-----(*)"
   ]
  },
  {
   "cell_type": "markdown",
   "metadata": {},
   "source": [
    "So, marginal $PDF$ of $W$, $f_W(w)=\\int_{-\\infty}^{\\infty}f_{T,W}(t,w)dt=\\int_{0}^{\\infty} \\frac{\\lambda (\\lambda t)^{a+b-1}e^{-\\lambda t}}{\\Gamma(a+b)} \\frac{w^{a-1}(1-w)^{b-1}}{B(a,b)} dt$"
   ]
  },
  {
   "cell_type": "markdown",
   "metadata": {},
   "source": [
    " &nbsp; &nbsp;  &nbsp; &nbsp;  &nbsp; &nbsp;  &nbsp; &nbsp;  &nbsp; &nbsp;  &nbsp; &nbsp;  &nbsp; &nbsp;  &nbsp; &nbsp;  &nbsp; &nbsp;  &nbsp; &nbsp;  &nbsp; &nbsp;  &nbsp; &nbsp;  &nbsp; &nbsp;  &nbsp; &nbsp; $=\\frac{w^{a-1}(1-w)^{b-1}}{B(a,b)}\\int_{0}^{\\infty} \\frac{\\lambda (\\lambda t)^{a+b-1}e^{-\\lambda t}}{\\Gamma(a+b)} dt$"
   ]
  },
  {
   "cell_type": "markdown",
   "metadata": {},
   "source": [
    " &nbsp; &nbsp;  &nbsp; &nbsp;  &nbsp; &nbsp;  &nbsp; &nbsp;  &nbsp; &nbsp;  &nbsp; &nbsp;  &nbsp; &nbsp;  &nbsp; &nbsp;  &nbsp; &nbsp;  &nbsp; &nbsp;  &nbsp; &nbsp;  &nbsp; &nbsp;  &nbsp; &nbsp;  &nbsp; &nbsp;$=\\frac{w^{a-1}(1-w)^{b-1}}{B(a,b)}\\times1$ &nbsp; &nbsp; ($\\because$ (*))"
   ]
  },
  {
   "cell_type": "markdown",
   "metadata": {},
   "source": [
    "$\\therefore$ $f_W(w)=\\left\\{\\begin{matrix}\n",
    "\\frac{w^{a-1}(1-w)^{b-1}}{B(a,b)} & 0<w<1\\\\ \n",
    " 0& \\text{otherwise}\n",
    "\\end{matrix}\\right.$"
   ]
  },
  {
   "cell_type": "markdown",
   "metadata": {},
   "source": [
    "Here $W$ is said to have $Beta$ distribution with parameters $a$ & $b$"
   ]
  },
  {
   "cell_type": "markdown",
   "metadata": {},
   "source": [
    "So , the $W$ which is proportion of time spent at bank follows Beta distribution"
   ]
  },
  {
   "cell_type": "markdown",
   "metadata": {},
   "source": [
    "**Notattion:** $W\\sim Beta(a,b)$"
   ]
  },
  {
   "cell_type": "markdown",
   "metadata": {},
   "source": [
    "Here we can see that $f_{T,W}(t,w)=f_T(t)f_W(w)$"
   ]
  },
  {
   "cell_type": "markdown",
   "metadata": {},
   "source": [
    "$\\therefore$ $T,W$ are independent &nbsp; (This is interesting!, we don't see this fact with our intuition)"
   ]
  },
  {
   "cell_type": "markdown",
   "metadata": {},
   "source": [
    "We already know what is mean and variance for $Beta$ distribution from assignment-3. But let us derive them again using interesting approach."
   ]
  },
  {
   "cell_type": "markdown",
   "metadata": {},
   "source": [
    "$E(W)=\\frac{E(X)}{E(T)}$ &nbsp; &nbsp; ($\\because$ $E(X)=E(TW)=E(T)E(W)$ ($\\because$ $T,W$ are independent)$\\implies$ $E(W)=\\frac{E(X)}{E(T)}$)"
   ]
  },
  {
   "cell_type": "markdown",
   "metadata": {},
   "source": [
    "&nbsp; &nbsp; &nbsp; &nbsp; &nbsp; &nbsp; &nbsp; &nbsp; $=\\frac{\\frac{a}{\\lambda}}{\\frac{a+b}{\\lambda}}$&nbsp; &nbsp; ($\\because$ $X\\sim Gamma(a,\\lambda)$, $T\\sim Gamma(a+b,\\lambda)$)"
   ]
  },
  {
   "cell_type": "markdown",
   "metadata": {},
   "source": [
    "$\\therefore$ $E(W)=\\frac{a}{a+b}$"
   ]
  },
  {
   "cell_type": "markdown",
   "metadata": {},
   "source": [
    "$Var(W)=E(W^2)-(E(W))^2$"
   ]
  },
  {
   "cell_type": "markdown",
   "metadata": {},
   "source": [
    "&nbsp; &nbsp; &nbsp; &nbsp; &nbsp; &nbsp; &nbsp; &nbsp; $=\\frac{E(X^2)}{E\\left(T^2\\right)}-\\left(\\frac{a}{a+b}\\right)^2$ <br><br>\n",
    "&nbsp; &nbsp; &nbsp; &nbsp; &nbsp; &nbsp; &nbsp; &nbsp; &nbsp; &nbsp; &nbsp; &nbsp; &nbsp; &nbsp; &nbsp; &nbsp; ($\\because~E(X^2)=E(T^2W^2)=E(T^2)E(W^2)~(\\because T,W \\text{ are independent })\\implies E(W^2)=\\frac{E(X^2)}{E(T^2)}$)"
   ]
  },
  {
   "cell_type": "markdown",
   "metadata": {},
   "source": [
    "&nbsp; &nbsp; &nbsp; &nbsp; &nbsp; &nbsp; &nbsp; &nbsp; $=\\frac{\\frac{a}{\\lambda^2}+\\frac{a^2}{\\lambda^2}}{\\frac{a+b}{\\lambda^2}+\\frac{(a+b)^2}{\\lambda^2}}-\\frac{a^2}{(a+b)^2}=\\frac{a+a^2}{(a+b)+(a+b)^2}-\\frac{a^2}{(a+b)^2}=\\frac{ab}{(a+b)^2(a+b+1)}$"
   ]
  },
  {
   "cell_type": "markdown",
   "metadata": {},
   "source": [
    "$\\therefore$ $Var(W)=\\frac{ab}{(a+b)^2(a+b+1)}$"
   ]
  },
  {
   "cell_type": "code",
   "execution_count": 1,
   "metadata": {},
   "outputs": [
    {
     "data": {
      "image/png": "[encoded data removed]",
      "text/plain": [
       "<Figure size 576x432 with 1 Axes>"
      ]
     },
     "metadata": {
      "needs_background": "light"
     },
     "output_type": "display_data"
    }
   ],
   "source": [
    "import math\n",
    "import numpy as np\n",
    "import matplotlib.pyplot as plt\n",
    "import scipy.special as sc\n",
    "%matplotlib inline\n",
    "\n",
    "def beta_pdf(x,a,b):\n",
    "    return (x**(a-1))*((1-x)**(b-1))/sc.beta(a,b)\n",
    "\n",
    "np.seterr(divide = 'ignore')    \n",
    "x=np.linspace(0,1,100)\n",
    "plt.figure(figsize=(8,6))\n",
    "parms = [(0.5,0.5),(5,1),(1,3),(2,2),(2,5)] # parameteres\n",
    "for a,b in parms:\n",
    "    # ploting the pdf of beta distribution\n",
    "    plt.plot(x,beta_pdf(x,a,b),label=r\"a={0}, b={1}\".format(a,b))\n",
    "plt.legend(loc='upper right')\n",
    "plt.title(r\"Beta Distribution\")\n",
    "plt.xlabel(\"$x$\")\n",
    "plt.ylabel(\"$f_X(x)$\")\n",
    "plt.xlim(0,1)\n",
    "plt.ylim(0,3)\n",
    "plt.show()\n"
   ]
  },
  {
   "cell_type": "markdown",
   "metadata": {},
   "source": [
    "**Example:** Let $X_1,X_2,X_3$ are independent and $X_i\\sim Exp(1)$ for $i=1,2,3$, then <br><br>$JPDF$ of $(X_1,X_2,X_3)$ is $f_{X_1,X_2,X_3}(x_1,x_2,x_3)=f_{X_1}(x_1)f_{X_2}(x_2)f_{X_3}(x_3)$"
   ]
  },
  {
   "cell_type": "markdown",
   "metadata": {},
   "source": [
    "$f_{X_1,X_2,X_3}(x_1,x_2,x_3)=\\left\\{\\begin{matrix}\n",
    " e^{-(x_1+x_2+x_3)}& x_1>0,x_2>0,x_3>0 \\\\ \n",
    " 0&\\text{otherwise} \n",
    "\\end{matrix}\\right.$"
   ]
  },
  {
   "cell_type": "markdown",
   "metadata": {},
   "source": [
    "Let $Y_1=X_1+X_2+X_3$, $Y_2=\\frac{X_1+X_2}{X_1+X_2+X_3}$, and $Y_3=\\frac{X_1}{X_1+X_2}$"
   ]
  },
  {
   "cell_type": "markdown",
   "metadata": {},
   "source": [
    "$S_{Y_1}=(0,\\infty)$, $S_{Y_2}=(0,1)$, and $S_{Y_3}=(0,1)$"
   ]
  },
  {
   "cell_type": "markdown",
   "metadata": {},
   "source": [
    "$y_1=x_1+x_2+x_3$, $y_2=\\frac{x_1+x_2}{x_1+x_2+x_3}$, $y_3=\\frac{x_1}{x_1+x_2}$"
   ]
  },
  {
   "cell_type": "markdown",
   "metadata": {},
   "source": [
    "$x_1=y_1y_2y_3,~x_1+x_2=y_1y_2\\implies x_2=y_1y_2(1-y_3),$ and $x_3=y_1-(x_1+x_2)\\implies x_3=y_1(1-y_2)$"
   ]
  },
  {
   "cell_type": "markdown",
   "metadata": {},
   "source": [
    "$\\frac{\\partial (x_1,x_2,x_3)}{\\partial(y_1,y_2,y_3)}=\\begin{vmatrix}\n",
    " \\frac{\\partial x_1}{\\partial y_1}& \\frac{\\partial x_1}{\\partial y_2} & \\frac{\\partial x_1}{\\partial y_3}\\\\ \n",
    " \\frac{\\partial x_2}{\\partial y_1}& \\frac{\\partial x_2}{\\partial y_2} & \\frac{\\partial x_2}{\\partial y_3}\\\\ \n",
    " \\frac{\\partial x_3}{\\partial y_1}& \\frac{\\partial x_3}{\\partial y_2} & \\frac{\\partial x_3}{\\partial y_3}\n",
    "\\end{vmatrix}=\\begin{vmatrix}\n",
    " y_2y_3&y_1y_3  &y_1y_2 \\\\ \n",
    " y_2(1-y_3)&y_1(1-y_3)  &-y_1y_2 \\\\ \n",
    " 1-y_2& -y_1 &0 \n",
    "\\end{vmatrix}=-y_1^2y_2$"
   ]
  },
  {
   "cell_type": "markdown",
   "metadata": {},
   "source": [
    "The $JPDF$ of $Y_1,Y_2,Y_3$ is given by"
   ]
  },
  {
   "cell_type": "markdown",
   "metadata": {},
   "source": [
    "$f_{Y_1,Y_2,Y_3}(y_1,y_2,y_3)=f_{X_1,X_2,X_3}(y_1y_2y_3,y_1y_2(1-y_3),y_1(1-y_2))\\begin{vmatrix}\\frac{\\partial (x_1,x_2,x_3)}{\\partial(y_1,y_2,y_3)}\\end{vmatrix}$,&nbsp; &nbsp; $y_1>0,0<y_2<1,0<y_3<1$"
   ]
  },
  {
   "cell_type": "markdown",
   "metadata": {},
   "source": [
    "&nbsp; &nbsp; &nbsp; &nbsp; &nbsp; &nbsp; &nbsp; &nbsp; &nbsp; &nbsp; &nbsp; &nbsp; &nbsp; &nbsp; &nbsp; &nbsp; &nbsp; &nbsp;$=y_1^2y_2e^{-(y_1y_2y_3+y_1y_2(1-y_3)+y_1(1-y_2))}$,&nbsp; &nbsp; $y_1>0,0<y_2<1,0<y_3<1$"
   ]
  },
  {
   "cell_type": "markdown",
   "metadata": {},
   "source": [
    "$f_{Y_1,Y_2,Y_3}(y_1,y_2,y_3)=\\left\\{\\begin{matrix}\n",
    " y_1^2y_2e^{-y_1}& y_1>0, 0<y_2<1,0<y_3<1 \\\\ \n",
    " 0&\\text{otherwise} \n",
    "\\end{matrix}\\right.$"
   ]
  },
  {
   "cell_type": "markdown",
   "metadata": {},
   "source": [
    " "
   ]
  },
  {
   "cell_type": "markdown",
   "metadata": {},
   "source": [
    " "
   ]
  },
  {
   "cell_type": "markdown",
   "metadata": {},
   "source": [
    "- Let $(X,Y)$ is a bivariate continuous random variable with $JPDF$ $f_{X,Y}(x,y)$, and $U=g(X,Y)$. If we are interested in finding the $PDF$ of $U$, we can do the following."
   ]
  },
  {
   "cell_type": "markdown",
   "metadata": {},
   "source": [
    "Let $U=g(X,Y)$ and introduce auxiliary transformation $V=h(X,Y)$ so that the transformation $(x,y)\\to (g(x,y),h(x,y))$ is one-one"
   ]
  },
  {
   "cell_type": "markdown",
   "metadata": {},
   "source": [
    "then we can find the $JPDF$ of $(U,V)$, $f_{U,V}(u,v)$, then"
   ]
  },
  {
   "cell_type": "markdown",
   "metadata": {},
   "source": [
    "then, $PDF$ of $U$, $f_U(u)=\\int_{-\\infty}^{\\infty}f_{U,V}(u,v)dv$"
   ]
  },
  {
   "cell_type": "markdown",
   "metadata": {},
   "source": [
    "**Note:** Here we may have a lot of choices for $V=h(X,Y)$, but to make problem easy, the simplest choice would be $V=X$ (or) $V=Y$"
   ]
  },
  {
   "cell_type": "markdown",
   "metadata": {},
   "source": [
    "**Problem:** Let $X,Y$ are two independent standard normal random variable, then find the $PDF$ of $U={X\\over Y}$."
   ]
  },
  {
   "cell_type": "markdown",
   "metadata": {},
   "source": [
    "*solution:* $JPDF$ of $(X,Y)$, $f_{X,Y}(x,y)=f_X(x)f_Y(y)=\\frac{1}{\\sqrt{2\\pi}}e^{-\\frac{x^2}{2}}\\times \\frac{1}{\\sqrt{2\\pi}}e^{-\\frac{y^2}{2}}$&nbsp; ($\\because~X,Y$ are independent )"
   ]
  },
  {
   "cell_type": "markdown",
   "metadata": {},
   "source": [
    "$f_{X,Y}(x,y)=\\frac{1}{{2\\pi}}e^{-\\frac{1}{2}(x^2+y^2)}$"
   ]
  },
  {
   "cell_type": "markdown",
   "metadata": {},
   "source": [
    "Let $U={X\\over Y}$, take an auxiliary transformation $V=Y$"
   ]
  },
  {
   "cell_type": "markdown",
   "metadata": {},
   "source": [
    "$u=\\frac{x}{y}$,$v=y$ $\\implies x=uv,y=v$"
   ]
  },
  {
   "cell_type": "markdown",
   "metadata": {},
   "source": [
    "$\\frac{\\partial (x,y)}{\\partial(u,v)}=\\begin{vmatrix}\n",
    " \\frac{\\partial x}{\\partial u}& \\frac{\\partial x}{\\partial v}\\\\ \n",
    "\\frac{\\partial y}{\\partial u}& \\frac{\\partial y}{\\partial v}\n",
    "\\end{vmatrix}=\\begin{vmatrix}\n",
    " v&u \\\\ \n",
    " 0&1 \n",
    "\\end{vmatrix}=v$"
   ]
  },
  {
   "cell_type": "markdown",
   "metadata": {},
   "source": [
    "$JPDF$ of $(U,V)$, $f_{U,V}(u,v)=f_{X,Y}(uv,v)\\begin{vmatrix}\\frac{\\partial (x,y)}{\\partial (u,v)}\\end{vmatrix}$,&nbsp; &nbsp; $-\\infty<uv<\\infty$,$-\\infty<v<\\infty$"
   ]
  },
  {
   "cell_type": "markdown",
   "metadata": {},
   "source": [
    "$f_{U,V}(u,v)=\\frac{1}{2\\pi}e^{-\\frac{1}{2}\\left(u^2v^2+v^2\\right)}|v|$, &nbsp; $-\\infty<u<\\infty$, $-\\infty<v<\\infty$"
   ]
  },
  {
   "cell_type": "markdown",
   "metadata": {},
   "source": [
    "$PDF$ of $U$, $f_U(u)=\\int_{-\\infty}^{\\infty}f_{U,V}(u,v)dv=\\int_{-\\infty}^{\\infty}\\frac{1}{2\\pi}e^{-\\frac{1}{2}(u^2+1)v^2}|v|dv$"
   ]
  },
  {
   "cell_type": "markdown",
   "metadata": {},
   "source": [
    "$f_U(u)=\\frac{1}{2\\pi}\\left(2\\int_{0}^{\\infty}ve^{-\\frac{1}{2}(u^2+1)v^2}dv\\right)$"
   ]
  },
  {
   "cell_type": "markdown",
   "metadata": {},
   "source": [
    "Take $t=v^2\\implies 2vdv=dt$"
   ]
  },
  {
   "cell_type": "markdown",
   "metadata": {},
   "source": [
    "$f_U(u)=\\frac{1}{2\\pi}\\int_{0}^{\\infty}e^{-\\frac{1}{2}(u^2+1)t}dt=\\frac{1}{2\\pi}\\left[\\frac{e^{-\\frac{1}{2}(u^2+1)t}}{-\\frac{1}{2}(u^2+1)}\\right]_0^\\infty=\\frac{1}{2\\pi}\\left[-0+\\frac{1}{\\frac{1}{2}(u^2+1)}\\right]$"
   ]
  },
  {
   "cell_type": "markdown",
   "metadata": {},
   "source": [
    "$\\therefore$ $f_U(u)=\\frac{1}{\\pi}\\frac{1}{u^2+1},-\\infty<u<\\infty$"
   ]
  },
  {
   "cell_type": "markdown",
   "metadata": {},
   "source": [
    "Here we can  see that $U= {X\\over Y}$ follows <b>Cauchy distribution</b>."
   ]
  }
 ],
 "metadata": {
  "hide_input": false,
  "kernelspec": {
   "display_name": "Python 3 (ipykernel)",
   "language": "python",
   "name": "python3"
  },
  "language_info": {
   "codemirror_mode": {
    "name": "ipython",
    "version": 3
   },
   "file_extension": ".py",
   "mimetype": "text/x-python",
   "name": "python",
   "nbconvert_exporter": "python",
   "pygments_lexer": "ipython3",
   "version": "3.10.0"
  }
 },
 "nbformat": 4,
 "nbformat_minor": 4
}
