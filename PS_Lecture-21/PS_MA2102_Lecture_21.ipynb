{
 "cells": [
  {
   "cell_type": "markdown",
   "metadata": {},
   "source": [
    "<h2 style=\"text-align:center\"> MA2102</h2>\n",
    "<h1 style=\"text-align:center\"> Probability and Statistics</h1>\n",
    "<h4 style=\"text-align:center\"> Lecture-21</h4>"
   ]
  },
  {
   "cell_type": "markdown",
   "metadata": {},
   "source": [
    "## Conditional Expectation:"
   ]
  },
  {
   "cell_type": "markdown",
   "metadata": {},
   "source": [
    "Let $(X,Y)$ be a bivariate random variable then conditional expectation of $g(X,Y)$ given $Y=y$ is denoted by $E(g(X,Y)/Y=y)$ and defined as (provided sum/integral converges absolutely)"
   ]
  },
  {
   "cell_type": "markdown",
   "metadata": {},
   "source": [
    "$E(g(X,Y)/Y=y)=\\left\\{\\begin{matrix}\n",
    " \\underset{x\\in S_X}{\\sum}g(x,y)p_{X/Y}(x/y)& \\text{if } (X,Y) \\text{ is of discrete type and } p_Y(y)>0 \\\\ \n",
    " \\int_{-\\infty}^{\\infty}g(x,y)f_{X/Y}(x/y)dx& \\text{if } (X,Y) \\text{ is of continuous type and } f_Y(y)>0\n",
    "\\end{matrix}\\right.$"
   ]
  },
  {
   "cell_type": "markdown",
   "metadata": {},
   "source": [
    "similarly you can define $E(g(X,Y)/X=x)$"
   ]
  },
  {
   "cell_type": "markdown",
   "metadata": {},
   "source": [
    "**Example:** Let $(X,Y)$ be a continuous bivariate random variable with $JPDF$, $f_{X,Y}(x,y)=\\left\\{\\begin{matrix}\n",
    " \\frac{e^{-\\frac{x}{y}}e^{-y}}{y}&x>0,y>0 \\\\ \n",
    " 0& \\text{otherwise}\n",
    "\\end{matrix}\\right.$. &nbsp; &nbsp; Compute $E(X/Y=y)$"
   ]
  },
  {
   "cell_type": "markdown",
   "metadata": {},
   "source": [
    "*solution:* $f_Y(y)=\\int_{-\\infty}^{\\infty}f_{X,Y}(x,y)dx=\\int_{0}^{\\infty} \\frac{e^{-\\frac{x}{y}}e^{-y}}{y}dx$"
   ]
  },
  {
   "cell_type": "markdown",
   "metadata": {},
   "source": [
    "&nbsp; &nbsp; &nbsp; &nbsp; &nbsp; &nbsp; &nbsp; &nbsp;&nbsp; &nbsp; &nbsp; &nbsp; &nbsp; &nbsp; $=\\frac{e^{-y}}{y}\\int_{0}^{\\infty}e^{-\\frac{x}{y}}dx=\\frac{e^{-y}}{y}\\left[\\frac{e^{-\\frac{x}{y}}}{-\\frac{1}{y}}\\right]_0^\\infty=e^{-y}$"
   ]
  },
  {
   "cell_type": "markdown",
   "metadata": {},
   "source": [
    "$f_{X/Y}(x/y)=\\frac{e^{-\\frac{x}{y}}e^{-y}}{\\frac{y}{e^{-y}}}=\\frac{1}{y}e^{-\\frac{x}{y}}$, for $x>0$"
   ]
  },
  {
   "cell_type": "markdown",
   "metadata": {},
   "source": [
    "$E(X/Y=y)=\\int_{0}^{\\infty}xf_{X/Y}\\left(x/y\\right)dx=\\int_{0}^{\\infty}x\\left(\\frac{1}{y}e^{-\\frac{x}{y}}\\right)dx$"
   ]
  },
  {
   "cell_type": "markdown",
   "metadata": {},
   "source": [
    "&nbsp; &nbsp; &nbsp; &nbsp; &nbsp;  &nbsp; &nbsp; &nbsp; &nbsp; &nbsp; &nbsp; $=y\\int_{0}^{\\infty}\\left(\\frac{x}{y}e^{-\\frac{x}{y}}\\right)\\frac{dx}{y}dx$ &nbsp; Take $t=\\frac{x}{y}\\implies~dt=\\frac{dx}{y}$"
   ]
  },
  {
   "cell_type": "markdown",
   "metadata": {},
   "source": [
    "&nbsp;&nbsp; &nbsp; &nbsp; &nbsp; &nbsp; &nbsp;&nbsp; &nbsp;&nbsp; &nbsp;&nbsp; &nbsp;$=y\\int_{0}^{\\infty}te^{-t}dt=y\\int_{0}^{\\infty}t^{2-1}e^{-t}dt=y\\Gamma(2)=y(1!)$"
   ]
  },
  {
   "cell_type": "markdown",
   "metadata": {},
   "source": [
    "$\\therefore$ $E(X/Y=y)=y$"
   ]
  },
  {
   "cell_type": "markdown",
   "metadata": {},
   "source": [
    "- $E(g(X,Y)/Y)$ will take the values $E(g(X,Y)/Y=y)$, $y\\in S_Y$. So, $E(g(X,Y)/Y)$ can be seen as function of random variable $Y$"
   ]
  },
  {
   "cell_type": "markdown",
   "metadata": {},
   "source": [
    "Similarly $E(g(X,Y)/X)$ is function of random variable $X$"
   ]
  },
  {
   "cell_type": "markdown",
   "metadata": {},
   "source": [
    "**Note:** <br><br>\n",
    "1. $E(g(X,Y))=E(E(g(X,Y)/Y))$"
   ]
  },
  {
   "cell_type": "markdown",
   "metadata": {},
   "source": [
    "*proof:* We will show it when $(X,Y)$ is continuous type"
   ]
  },
  {
   "cell_type": "markdown",
   "metadata": {},
   "source": [
    "$E(g(X,Y))=\\int_{-\\infty}^{\\infty}\\int_{-\\infty}^{\\infty}g(x,y)f_{X,Y}(x,y)dxdy$"
   ]
  },
  {
   "cell_type": "markdown",
   "metadata": {},
   "source": [
    "&nbsp; &nbsp; &nbsp; &nbsp; &nbsp; &nbsp; &nbsp; &nbsp; &nbsp; &nbsp; $=\\int_{-\\infty}^{\\infty}\\left[\\int_{-\\infty}^{\\infty}g(x,y)\\frac{f_{X,Y}(x,y)dx}{f_Y(y)}\\right]f_Y(y)dy$"
   ]
  },
  {
   "cell_type": "markdown",
   "metadata": {},
   "source": [
    "&nbsp; &nbsp; &nbsp; &nbsp; &nbsp; &nbsp; &nbsp; &nbsp; &nbsp; &nbsp; $=\\int_{-\\infty}^{\\infty}\\left[\\int_{-\\infty}^{\\infty}g(x,y){f_{X/Y}(x/y)dx}\\right]f_Y(y)dy$"
   ]
  },
  {
   "cell_type": "markdown",
   "metadata": {},
   "source": [
    "&nbsp; &nbsp; &nbsp; &nbsp; &nbsp; &nbsp; &nbsp; &nbsp; &nbsp; &nbsp; $=\\int_{-\\infty}^{\\infty}E(g(X,Y)/Y=y)f_Y(y)dy=E(E(g(X,Y)/Y))$"
   ]
  },
  {
   "cell_type": "markdown",
   "metadata": {},
   "source": [
    "similarly you can show that, $E(g(X,Y))=E(E(g(X,Y)/X))$"
   ]
  },
  {
   "cell_type": "markdown",
   "metadata": {},
   "source": [
    "2. $Var(g(X,Y))=E(Var(g(X,Y)/Y))+Var(E(g(X,Y)/Y))$"
   ]
  },
  {
   "cell_type": "markdown",
   "metadata": {},
   "source": [
    "  *proof:* $Var(g(X,Y)/Y)=E(g(X,Y)^2/Y)-\\left(E(g(X,Y)/Y)\\right)^2$"
   ]
  },
  {
   "cell_type": "markdown",
   "metadata": {},
   "source": [
    "$E(Var(g(X,Y)/Y))=E\\left(E(g(X,Y)^2/Y)\\right)-E\\left(\\left(E(g(X,Y)/Y)\\right)^2\\right)$"
   ]
  },
  {
   "cell_type": "markdown",
   "metadata": {},
   "source": [
    "$E(Var(g(X,Y)/Y))=E\\left(g(X,Y)^2\\right)-E\\left(\\left(E(g(X,Y)/Y)\\right)^2\\right)$ &nbsp; &nbsp; ($\\because$ Note 1)&nbsp; &nbsp;------(A)"
   ]
  },
  {
   "cell_type": "markdown",
   "metadata": {},
   "source": [
    "$Var(\\left(E(g(X,Y)/Y\\right))=E\\left(\\left(E(g(X,Y)/Y\\right)^2\\right)-\\left(E\\left(E(g(X,Y)/Y\\right)\\right)^2$"
   ]
  },
  {
   "cell_type": "markdown",
   "metadata": {},
   "source": [
    "$Var(\\left(E(g(X,Y)/Y\\right)=E\\left(\\left(E(g(X,Y)/Y\\right)^2\\right)-(E(g(X,Y))^2$ ($\\because$ Note 1)&nbsp; &nbsp;------(B)"
   ]
  },
  {
   "cell_type": "markdown",
   "metadata": {},
   "source": [
    "(A)+(B) $\\implies$ $E(Var(g(X,Y)/Y))+Var(\\left(E(g(X,Y)/Y\\right)=E\\left(g(X,Y)^2\\right)-(E(g(X,Y))^2=Var(g(X,Y))$"
   ]
  },
  {
   "cell_type": "markdown",
   "metadata": {},
   "source": [
    "$\\therefore~Var(g(X,Y))=E(Var(g(X,Y)/Y))+Var(\\left(E(g(X,Y)/Y\\right)$"
   ]
  },
  {
   "cell_type": "markdown",
   "metadata": {},
   "source": [
    "similarly you can show that, $Var(g(X,Y))=E(Var(g(X,Y)/X))+Var(\\left(E(g(X,Y)/X\\right)$"
   ]
  },
  {
   "cell_type": "markdown",
   "metadata": {},
   "source": [
    "**Problem:** Suppose that by any time $t$ the number of people that have arrived at a train depot is a Posson random variable with mean $\\lambda t$. If the initial train arrives at the depot at a time (independent of when the passengers arrive) that is uniformly distributed over $[0,T]$, what is the mean and variance of the number of passengers that enter the train?"
   ]
  },
  {
   "cell_type": "markdown",
   "metadata": {},
   "source": [
    "*solution:* Let for each $t\\ge 0$,$N(t)$ denote the number of arrivals by the time $t$, and"
   ]
  },
  {
   "cell_type": "markdown",
   "metadata": {},
   "source": [
    "$Y$ denote the time at which the train arrives. "
   ]
  },
  {
   "cell_type": "markdown",
   "metadata": {},
   "source": [
    "$N(Y)$ denote the number passengers that arrived at train depot by the time train arrives"
   ]
  },
  {
   "cell_type": "markdown",
   "metadata": {},
   "source": [
    "Then we are intersted in $E(N(Y))$, and  $Var(N(Y))$"
   ]
  },
  {
   "cell_type": "markdown",
   "metadata": {},
   "source": [
    "Here $Y\\sim U[0,T]$, and $N(Y)/Y=t \\sim Poisson(\\lambda t)$"
   ]
  },
  {
   "cell_type": "markdown",
   "metadata": {},
   "source": [
    "$E(Y)=\\frac{T}{2},~Var(Y)=\\frac{T^2}{12}$,and $E(N(Y)/Y)=Var(N(Y)/Y)=\\lambda Y$"
   ]
  },
  {
   "cell_type": "markdown",
   "metadata": {},
   "source": [
    "now, $E(N(Y))=E(E(N(Y)/Y))$&nbsp; &nbsp; ($\\because$ Note (1))"
   ]
  },
  {
   "cell_type": "markdown",
   "metadata": {},
   "source": [
    "&nbsp; &nbsp; &nbsp; &nbsp;&nbsp; &nbsp;&nbsp; &nbsp; &nbsp; &nbsp; &nbsp; &nbsp;&nbsp; &nbsp;&nbsp; &nbsp;$=E(\\lambda Y)=\\lambda E(Y)=\\lambda \\left(\\frac{T}{2}\\right)$"
   ]
  },
  {
   "cell_type": "markdown",
   "metadata": {},
   "source": [
    "$\\therefore$ $E(N(Y))=\\frac{\\lambda T}{2}$"
   ]
  },
  {
   "cell_type": "markdown",
   "metadata": {},
   "source": [
    "$Var(N(Y))=E(Var(N(Y)/Y))+Var(E(N(Y)/Y))$ &nbsp; &nbsp; ($\\because$ Note (2))"
   ]
  },
  {
   "cell_type": "markdown",
   "metadata": {},
   "source": [
    "&nbsp; &nbsp; &nbsp; &nbsp;&nbsp; &nbsp;&nbsp; &nbsp; &nbsp; &nbsp; &nbsp; &nbsp;&nbsp;$=E(\\lambda Y)+Var((\\lambda Y))=\\lambda E(Y)+\\lambda ^2Var(Y)=\\lambda \\left(\\frac{T}{2}\\right)+\\lambda^2\\left(\\frac{T^2}{12}\\right)$ "
   ]
  },
  {
   "cell_type": "markdown",
   "metadata": {},
   "source": [
    "$\\therefore$ $Var(N(Y))=\\lambda \\left(\\frac{T}{2}\\right)+\\lambda^2\\left(\\frac{T^2}{12}\\right)$"
   ]
  },
  {
   "cell_type": "markdown",
   "metadata": {},
   "source": [
    "## Joint Moment generating function(JMGF):"
   ]
  },
  {
   "cell_type": "markdown",
   "metadata": {},
   "source": [
    "Let $(X,Y)$ be a bivariate random variable , the $JMGF$ of $(X,Y)$ is defined as,<br><br>\n",
    "$M_{X,Y}(t_1,t_2)=E\\left(e^{t_1X+t_2Y}\\right)$, provided the expectation exists in neighborhood of $(0,0)$"
   ]
  },
  {
   "cell_type": "markdown",
   "metadata": {},
   "source": [
    "It is easy to see that $M_{X,Y}(t_1,0)=M_X(t_1)$ & $M_{X,Y}(0,t_2)=M_Y(t_2)$"
   ]
  },
  {
   "cell_type": "markdown",
   "metadata": {},
   "source": [
    "$JMGF$ of $\\underline{X}=(X_1,X_2,...,X_k)$ is $M_{\\underline{X}}(t)=E\\left(e^{\\sum_{i=1}^kt_iX_i}\\right)$  provided the expectation exists in neighborhood of $(0,0,...,0)\\in \\mathbb{R}^k$"
   ]
  },
  {
   "cell_type": "markdown",
   "metadata": {},
   "source": [
    "**Example:** Let $(X,Y)$ be a continuous bivariate random variable with $JPDF$,  $f_{X,Y}(x,y)=\\left\\{\\begin{matrix}\n",
    " e^{-y}& 0<x<y<\\infty \\\\ \n",
    " 0& \\text{otherwise}\n",
    "\\end{matrix}\\right.$"
   ]
  },
  {
   "cell_type": "markdown",
   "metadata": {},
   "source": [
    "$M_{X,Y}(t_1,t_2)=\\int_{-\\infty}^{\\infty}\\int_{-\\infty}^{\\infty}e^{t_1x+t_2y}f_{X,Y}(x,y)dxdy$"
   ]
  },
  {
   "cell_type": "markdown",
   "metadata": {},
   "source": [
    "$=\\int_{0}^{\\infty}\\int_{x}^{\\infty}e^{t_1x}e^{t_2y}e^{-y}dxdy=\\int_{0}^{\\infty}e^{t_1x}\\left[\\int_{x}^{\\infty}e^{(t_2-1)y}dy\\right]dx$"
   ]
  },
  {
   "cell_type": "markdown",
   "metadata": {},
   "source": [
    "$=\\int_{0}^{\\infty}e^{t_1x}\\left[\\frac{e^{(t_2-1)y}}{t_2-1}\\right]_x^\\infty dx$"
   ]
  },
  {
   "cell_type": "markdown",
   "metadata": {},
   "source": [
    "for $t_2<1$ $\\lim_{y\\to\\infty}\\frac{e^{(t_2-1)y}}{t_2-1}=0$"
   ]
  },
  {
   "cell_type": "markdown",
   "metadata": {},
   "source": [
    "$\\frac{1}{(t_2-1)}\\int_{0}^{\\infty}e^{t_1x}\\left[0-e^{(t_2-1)x}\\right]dx=-\\frac{1}{(t_2-1)}\\int_{0}^{\\infty}e^{(t_1+t_2-1)x}dx$"
   ]
  },
  {
   "cell_type": "markdown",
   "metadata": {},
   "source": [
    "$=-\\frac{1}{(t_2-1)}\\left[\\frac{e^{(t_1+t_2-1)x}}{(t_1+t_2-1)}\\right]_0^\\infty$"
   ]
  },
  {
   "cell_type": "markdown",
   "metadata": {},
   "source": [
    "for $t_1+t_2<1$, $\\lim_{x\\to\\infty}\\frac{e^{(t_1+t_2-1)x}}{(t_1+t_2-1)}=0$"
   ]
  },
  {
   "cell_type": "markdown",
   "metadata": {},
   "source": [
    "$M_{X,Y}(t_1,t_2)=\\frac{1}{(1-t_2)(1-t_1-t_2)}$, $t_1+t_2<1,t_2<1$"
   ]
  },
  {
   "cell_type": "markdown",
   "metadata": {},
   "source": [
    "Further, $MGF$ of $X$, $M_X(t_1)=M_{X,Y}(t_1,0)=\\frac{1}{(1-0)(1-t_1-0)}=\\frac{1}{1-t_1}$, $t_1<1$"
   ]
  },
  {
   "cell_type": "markdown",
   "metadata": {},
   "source": [
    "$MGF$ of $Y$, $M_Y(t_2)=M_{X,Y}(0,t_2)=\\frac{1}{(1-t_2)(1-0-t_2)}=\\frac{1}{(1-t_2)^2}$, $t_2<1$"
   ]
  },
  {
   "cell_type": "markdown",
   "metadata": {},
   "source": [
    "Looking at $M.G.F's$ we can say that $X\\sim Exp(1)$ & $Y\\sim Gamma(2,1)$"
   ]
  },
  {
   "cell_type": "markdown",
   "metadata": {},
   "source": [
    "### Finding product moments through $JMGF$"
   ]
  },
  {
   "cell_type": "markdown",
   "metadata": {},
   "source": [
    "$M_{X,Y}(t_1,t_2)=E(e^{t_1X+t_2Y})$"
   ]
  },
  {
   "cell_type": "markdown",
   "metadata": {},
   "source": [
    "$\\frac{\\partial^{r+s}M_{X,Y}(t_1,t_2)}{\\partial t_1^r \\partial t_2^s}=E\\left(\\frac{\\partial^{r+s}e^{t_1X+t_2Y}}{\\partial t_1^r \\partial t_2^s}\\right)$$=E(X^rY^se^{t_1X+t_2Y})$"
   ]
  },
  {
   "cell_type": "markdown",
   "metadata": {},
   "source": [
    "$\\frac{\\partial^{r+s}M_{X,Y}(0,0)}{\\partial t_1^r \\partial t_2^s}=E(X^rY^s)=\\mu_{r,s}^{'}$"
   ]
  },
  {
   "cell_type": "markdown",
   "metadata": {},
   "source": [
    "$\\mu_X=E(X)=\\mu_{1,0}^{'}=\\frac{\\partial M_{X,Y}(0,0)}{\\partial t_1}$, and $\\mu_Y=E(Y)=\\mu_{0,1}^{'}=\\frac{\\partial M_{X,Y}(0,0)}{\\partial t_2}$"
   ]
  },
  {
   "cell_type": "markdown",
   "metadata": {},
   "source": [
    "$\\sigma_X^2=Var(X)=E(X^2)-(E(X))^2=\\frac{\\partial^{2}M_{X,Y}(0,0)}{\\partial t_1^2}-\\left(\\frac{\\partial M_{X,Y}(0,0)}{\\partial t_1}\\right)^2$"
   ]
  },
  {
   "cell_type": "markdown",
   "metadata": {},
   "source": [
    "$\\sigma_Y^2=Var(Y)=E(Y^2)-(E(Y))^2=\\frac{\\partial^{2}M_{X,Y}(0,0)}{\\partial t_2^2}-\\left(\\frac{\\partial M_{X,Y}(0,0)}{\\partial t_2}\\right)^2$"
   ]
  },
  {
   "cell_type": "markdown",
   "metadata": {},
   "source": [
    "$\\mu_{XY}=E(XY)=\\frac{\\partial^{2}M_{X,Y}(0,0)}{\\partial t_1 \\partial t_2}$"
   ]
  },
  {
   "cell_type": "markdown",
   "metadata": {},
   "source": [
    "$Cov(X,Y)=E(XY)-E(X)E(Y)$"
   ]
  },
  {
   "cell_type": "markdown",
   "metadata": {},
   "source": [
    "$Cov(X,Y)=\\frac{\\partial^{2}M_{X,Y}(0,0)}{\\partial t_1 \\partial t_2}-\\frac{\\partial M_{X,Y}(0,0)}{\\partial t_1}\\frac{\\partial M_{X,Y}(0,0)}{\\partial t_2}$"
   ]
  },
  {
   "cell_type": "markdown",
   "metadata": {},
   "source": [
    "**Theorem:** $X,Y$ are independent $\\iff$ $M_{X,Y}(t_1,t_2)=M_X(t_1)M_Y(t_2)$ $\\forall (t_1,t_2)\\in \\mathbb{R}^2$"
   ]
  },
  {
   "cell_type": "markdown",
   "metadata": {},
   "source": [
    "*proof:* Let $X,Y$ are independent"
   ]
  },
  {
   "cell_type": "markdown",
   "metadata": {},
   "source": [
    "$M_{X,Y}(t_1,t_2)=E\\left(e^{t_1X+t_2Y}\\right)$"
   ]
  },
  {
   "cell_type": "markdown",
   "metadata": {},
   "source": [
    "&nbsp; &nbsp; &nbsp; &nbsp; &nbsp; &nbsp; &nbsp; &nbsp; &nbsp; &nbsp; &nbsp; $=E\\left(e^{t_1X}.e^{t_2Y}\\right)$"
   ]
  },
  {
   "cell_type": "markdown",
   "metadata": {},
   "source": [
    "&nbsp; &nbsp; &nbsp; &nbsp; &nbsp; &nbsp; &nbsp; &nbsp; &nbsp; &nbsp; &nbsp; $=E\\left(e^{t_1X}\\right)E\\left(e^{t_2Y}\\right)$ &nbsp; ($\\because$ $E(g(X)h(Y))=E(g(X))E(h(Y))$ when $X,Y$ are independent)"
   ]
  },
  {
   "cell_type": "markdown",
   "metadata": {},
   "source": [
    "$\\therefore$ $M_{X,Y}(t_1,t_2)=M_X(t_1)M_Y(t_2)$"
   ]
  },
  {
   "cell_type": "markdown",
   "metadata": {},
   "source": [
    "Converse also true but we are not proving it here."
   ]
  },
  {
   "cell_type": "markdown",
   "metadata": {},
   "source": [
    "**Theorem:** $X_1,X_2,...,X_k$ are independent $\\iff$ $M_{\\underline{X}}(t_1,t_2,...,t_k)=\\prod_{i=1}^kM_{X_i}(t_i)$, where $\\underline{X}=(X_1,X_2,...,X_k)$"
   ]
  },
  {
   "cell_type": "markdown",
   "metadata": {},
   "source": [
    "**Theorem:** If $X,Y$ are independent then $M_{X+Y}(t)=M_X(t)M_Y(t)~\\forall t\\in mathbb{R}$"
   ]
  },
  {
   "cell_type": "markdown",
   "metadata": {},
   "source": [
    "*proof:* $M_{X+Y}(t)=E(e^{t(X+Y)})$"
   ]
  },
  {
   "cell_type": "markdown",
   "metadata": {},
   "source": [
    "&nbsp; &nbsp; &nbsp; &nbsp; &nbsp; &nbsp; &nbsp; &nbsp; &nbsp; &nbsp; &nbsp; &nbsp; &nbsp; &nbsp;$=E(e^{tX}e^{tY})=E(e^{tX})E(e^{tY})$  &nbsp; &nbsp; ($\\because$ $X,Y$ are independent)"
   ]
  },
  {
   "cell_type": "markdown",
   "metadata": {},
   "source": [
    "$\\therefore$ $M_{X+Y}(t)=M_X(t)M_Y(t)$"
   ]
  },
  {
   "cell_type": "markdown",
   "metadata": {},
   "source": [
    "**Corollary:** If $X_1,X_2,...,X_k$ are independent then $M_{\\sum_{i=1}^kX_i}(t)=\\prod_{i=1}^kM_{X_i}(t)$, "
   ]
  },
  {
   "cell_type": "markdown",
   "metadata": {},
   "source": [
    "**Theorem:** Let $X_1,X_2,...,X_k$ are independent and $X_i\\sim Bin(n_i,p)$ for $i=1,2,...k$, then $\\sum_{i=1}^kX_i\\sim Bin(\\sum_{i=1}^kn_i,p)$"
   ]
  },
  {
   "cell_type": "markdown",
   "metadata": {},
   "source": [
    "*proof:* $X_i\\sim Bin(n_i,p)\\implies$ $M_{X_i}(t)=(1-p+pe^t)^{n_i}$ for $i=1,2,...,k$"
   ]
  },
  {
   "cell_type": "markdown",
   "metadata": {},
   "source": [
    "$M_{\\sum_{i=1}^kX_i}(t)=\\prod_{i=1}^kM_{X_i}(t)$ &nbsp; ($\\because$ $X_1,X_2,...,X_k$ are independent )"
   ]
  },
  {
   "cell_type": "markdown",
   "metadata": {},
   "source": [
    "&nbsp; &nbsp; &nbsp; &nbsp; &nbsp; &nbsp; &nbsp; &nbsp; &nbsp; &nbsp; &nbsp; $=\\prod_{i=1}^k(1-p+pe^t)^{n_i}=(1-p+pe^t)^{\\sum_{i=1}^kn_i}$"
   ]
  },
  {
   "cell_type": "markdown",
   "metadata": {},
   "source": [
    "Looking at $MGF$ of $\\sum_{i=1}^kX_i$ we can say that $\\sum_{i=1}^kX_i\\sim Bin(\\sum_{i=1}^kn_i,p)$"
   ]
  },
  {
   "cell_type": "markdown",
   "metadata": {},
   "source": [
    "**Corollary:** If $X_1,X_2,...,X_k$ are independent, $X_i\\sim Bern(p)$<span style=\"color:navy\">(i.e $X_i\\sim Bin(1,p)$)</span> for $i=1,2,...k$, then $\\sum_{i=1}^kX_i\\sim Bin(k,p)$"
   ]
  },
  {
   "cell_type": "markdown",
   "metadata": {},
   "source": [
    "**Theorem:** Let $X_1,X_2,...,X_k$ are independent and $X_i\\sim Poisson(\\lambda_i)$ for $i=1,2,...k$, then $\\sum_{i=1}^kX_i\\sim Poisson(\\sum_{i=1}^k\\lambda_i)$"
   ]
  },
  {
   "cell_type": "markdown",
   "metadata": {},
   "source": [
    "*proof:* $X_i\\sim Piosson(\\lambda_i)\\implies$ $M_{X_i}(t)=e^{\\lambda_i(e^t-1)}$ for $i=1,2,...,k$"
   ]
  },
  {
   "cell_type": "markdown",
   "metadata": {},
   "source": [
    "$M_{\\sum_{i=1}^kX_i}(t)=\\prod_{i=1}^kM_{X_i}(t)$ &nbsp; ($\\because$ $X_1,X_2,...,X_k$ are independent )"
   ]
  },
  {
   "cell_type": "markdown",
   "metadata": {},
   "source": [
    "&nbsp; &nbsp; &nbsp; &nbsp; &nbsp; &nbsp; &nbsp; &nbsp; &nbsp; &nbsp; &nbsp; $=\\prod_{i=1}^ke^{\\lambda_i(e^t-1)}=e^{(\\sum_{i=1}^k\\lambda_i)(e^t-1)}$"
   ]
  },
  {
   "cell_type": "markdown",
   "metadata": {},
   "source": [
    " $\\therefore sum_{i=1}^kX_i\\sim Poisson(\\sum_{i=1}^k\\lambda_i)$"
   ]
  },
  {
   "cell_type": "markdown",
   "metadata": {},
   "source": [
    "**Theorem:** Let $X_1,X_2,...,X_k$ are independent and $X_i\\sim NB(r_i,p)$ for $i=1,2,...k$, then $\\sum_{i=1}^kX_i\\sim NB(\\sum_{i=1}^kr_i,p)$"
   ]
  },
  {
   "cell_type": "markdown",
   "metadata": {},
   "source": [
    "*proof:* $X_i\\sim NB(r_i,p)\\implies$ $M_{X_i}(t)=\\left(\\frac{p}{1-p+pe^t}\\right)^{r_i}$ for $i=1,2,...,k$"
   ]
  },
  {
   "cell_type": "markdown",
   "metadata": {},
   "source": [
    "$M_{\\sum_{i=1}^kX_i}(t)=\\prod_{i=1}^kM_{X_i}(t)$ &nbsp; ($\\because$ $X_1,X_2,...,X_k$ are independent )"
   ]
  },
  {
   "cell_type": "markdown",
   "metadata": {},
   "source": [
    "&nbsp; &nbsp; &nbsp; &nbsp; &nbsp; &nbsp; &nbsp; &nbsp; &nbsp; &nbsp; &nbsp; $=\\prod_{i=1}^k\\left(\\frac{p}{1-p+pe^t}\\right)^{r_i}=\\left(\\frac{p}{1-p+pe^t}\\right)^{\\sum_{i=1}^kr_i}$"
   ]
  },
  {
   "cell_type": "markdown",
   "metadata": {},
   "source": [
    "$\\therefore \\sum_{i=1}^kX_i\\sim NB(\\sum_{i=1}^kr_i,p)$"
   ]
  },
  {
   "cell_type": "markdown",
   "metadata": {},
   "source": [
    "**Corollary:** Let $X_1,X_2,...,X_k$ are independent and $X_i\\sim Geom(p)$ <span style=\"color:navy\">(i.e $X_i\\sim NB(1,p)$)</span> for $i=1,2,...k$, then $\\sum_{i=1}^kX_i\\sim NB(k,p)$"
   ]
  },
  {
   "cell_type": "markdown",
   "metadata": {},
   "source": [
    "**Theorem:** Let $X_1,X_2,...,X_k$ are independent and $X_i\\sim Gamma(\\alpha_i,\\lambda)$ for $i=1,2,...k$, then $\\sum_{i=1}^kX_i\\sim Gamma(\\sum_{i=1}^k\\alpha_i,\\lambda)$"
   ]
  },
  {
   "cell_type": "markdown",
   "metadata": {},
   "source": [
    "*proof:* $X_i\\sim Gamma(\\alpha_i,\\lambda)\\implies$ $M_{X_i}(t)=\\left(\\frac{\\lambda}{\\lambda-t}\\right)^{\\alpha_i}$ for $i=1,2,...,k$"
   ]
  },
  {
   "cell_type": "markdown",
   "metadata": {},
   "source": [
    "$M_{\\sum_{i=1}^kX_i}(t)=\\prod_{i=1}^kM_{X_i}(t)$ &nbsp; ($\\because$ $X_1,X_2,...,X_k$ are independent )"
   ]
  },
  {
   "cell_type": "markdown",
   "metadata": {},
   "source": [
    "&nbsp; &nbsp; &nbsp; &nbsp; &nbsp; &nbsp; &nbsp; &nbsp; &nbsp; &nbsp; &nbsp; $=\\prod_{i=1}^k\\left(\\frac{\\lambda}{\\lambda-t}\\right)^{\\alpha_i}=\\left(\\frac{\\lambda}{\\lambda-t}\\right)^{\\sum_{i=1}^k\\alpha_i}$"
   ]
  },
  {
   "cell_type": "markdown",
   "metadata": {},
   "source": [
    "$\\therefore \\sum_{i=1}^kX_i\\sim Gamma(\\sum_{i=1}^k\\alpha_i,\\lambda)$"
   ]
  },
  {
   "cell_type": "markdown",
   "metadata": {},
   "source": [
    "**Corollary:** Let $X_1,X_2,...,X_k$ are independent and $X_i\\sim Exp(\\lambda)$ <span style=\"color:navy\">(i.e $X_i\\sim Gamma(1,\\lambda)$)</span>for $i=1,2,...k$, then $\\sum_{i=1}^kX_i\\sim Gamma(k,\\lambda)$"
   ]
  },
  {
   "cell_type": "markdown",
   "metadata": {},
   "source": [
    "**Theorem:** Let $X_1,X_2,...,X_k$ are independent and $X_i\\sim N(\\mu_i,\\sigma_i^2)$ for $i=1,2,...k$, then $\\sum_{i=1}^kX_i\\sim N(\\sum_{i=1}^k\\mu_i,\\sum_{i=1}^k\\sigma_i^2)$"
   ]
  },
  {
   "cell_type": "markdown",
   "metadata": {},
   "source": [
    "*proof:* $X_i\\sim N(\\mu_i,\\sigma_i^2)\\implies$ $M_{X_i}(t)=e^{\\mu_it+\\frac{1}{2}\\sigma_i^2t^2}$ for $i=1,2,...,k$"
   ]
  },
  {
   "cell_type": "markdown",
   "metadata": {},
   "source": [
    "$M_{\\sum_{i=1}^kX_i}(t)=\\prod_{i=1}^kM_{X_i}(t)$ &nbsp; ($\\because$ $X_1,X_2,...,X_k$ are independent )"
   ]
  },
  {
   "cell_type": "markdown",
   "metadata": {},
   "source": [
    "&nbsp; &nbsp; &nbsp; &nbsp; &nbsp; &nbsp; &nbsp; &nbsp; &nbsp; &nbsp; &nbsp; $=\\prod_{i=1}^ke^{\\mu_it+\\frac{1}{2}\\sigma_i^2t^2}=e^{(\\sum_{i=1}^k\\mu_i)t+\\frac{1}{2}(\\sum_{i=1}^k\\sigma_i^2)t^2}$"
   ]
  },
  {
   "cell_type": "markdown",
   "metadata": {},
   "source": [
    "$\\therefore \\sum_{i=1}^kX_i\\sim N(\\sum_{i=1}^k\\mu_i,\\sum_{i=1}^k\\sigma_i^2)$"
   ]
  },
  {
   "cell_type": "markdown",
   "metadata": {},
   "source": [
    "**Corollary :** Let $X_1,X_2,...,X_k$ are independent and $X_i\\sim N(\\mu_i,\\sigma_i^2)$ for $i=1,2,...k$, then $\\sum_{i=1}^k(a_iX_i+b_i)\\sim N(\\sum_{i=1}^k(a_i\\mu_i+b_i),\\sum_{i=1}^ka_i^2\\sigma_i^2)$"
   ]
  },
  {
   "cell_type": "markdown",
   "metadata": {},
   "source": [
    " "
   ]
  },
  {
   "cell_type": "markdown",
   "metadata": {},
   "source": [
    "**Problem:** Find the $PDF$ of $X=Z^2$ where $Z\\sim N(0,1)$"
   ]
  },
  {
   "cell_type": "markdown",
   "metadata": {},
   "source": [
    "$PDF$ of $Z$, $\\varphi(z)=\\frac{1}{\\sqrt{2\\pi}}e^{-\\frac{z^2}{2}}$,$-\\infty<z<\\infty$"
   ]
  },
  {
   "cell_type": "markdown",
   "metadata": {},
   "source": [
    "&nbsp; &nbsp; &nbsp; &nbsp; &nbsp; &nbsp; &nbsp; &nbsp; &nbsp; &nbsp;&nbsp; &nbsp; &nbsp; &nbsp; &nbsp; &nbsp;$f_X(x)=\\frac{\\varphi(\\sqrt{x})}{\\sqrt{x}}$&nbsp; &nbsp; ($\\because~\\varphi(x)$ is even function)"
   ]
  },
  {
   "cell_type": "markdown",
   "metadata": {},
   "source": [
    "&nbsp; &nbsp; &nbsp; &nbsp; &nbsp; &nbsp; &nbsp; &nbsp; &nbsp; &nbsp;&nbsp; &nbsp; &nbsp; &nbsp; &nbsp; &nbsp;$=\\frac{1}{\\sqrt{2\\pi}}\\frac{e^{-\\frac{x}{2}}}{\\sqrt{x}}=\\frac{1}{\\sqrt{\\pi}}\\frac{1}{2}\\left(\\frac{x}{2}\\right)^{\\frac{1}{2}-1}e^{-\\frac{x}{2}}$"
   ]
  },
  {
   "cell_type": "markdown",
   "metadata": {},
   "source": [
    "$\\therefore$ $f_X(x)=\\left\\{\\begin{matrix}\n",
    " \\frac{\\frac{1}{2}\\left(\\frac{x}{2}\\right)^{\\frac{1}{2}-1}e^{-\\frac{x}{2}}}{\\Gamma\\left(\\frac{1}{2}\\right)}& x>0\\\\ \n",
    " 0& x\\le 0\n",
    "\\end{matrix}\\right.$"
   ]
  },
  {
   "cell_type": "markdown",
   "metadata": {},
   "source": [
    "$\\therefore$ $X\\sim Gamma(\\frac{1}{2},\\frac{1}{2})$"
   ]
  },
  {
   "cell_type": "markdown",
   "metadata": {},
   "source": [
    "We can re-write the $PDF$ of $X$, $f_X(x)=\\left\\{\\begin{matrix}\n",
    " \\frac{1}{2^{\\frac{1}{2}}\\Gamma\\left(\\frac{1}{2}\\right)}x^{\\frac{1}{2}-1}e^{-\\frac{x}{2}}& x>0\\\\ \n",
    " 0& x\\le 0\n",
    "\\end{matrix}\\right.$"
   ]
  },
  {
   "cell_type": "markdown",
   "metadata": {},
   "source": [
    "Here $X$ is said to have <b>Chi-Squared distribution  with 1-degree of freedom </b>"
   ]
  },
  {
   "cell_type": "markdown",
   "metadata": {},
   "source": [
    "**Notation:** $X\\sim \\chi^2_1$"
   ]
  },
  {
   "cell_type": "markdown",
   "metadata": {},
   "source": [
    "**Theorem:** Let $X_1,X_2,...,X_k$ are independent and $X_i\\sim \\chi^2(1)$ <span style=\"color:navy\">(i.e $X_i\\sim Gamma(\\frac{1}{2},\\frac{1}{2})$)</span> for $i=1,2,...k$, then $\\sum_{i=1}^kX_i\\sim Gamma(\\frac{k}{2},\\frac{1}{2})$"
   ]
  },
  {
   "cell_type": "markdown",
   "metadata": {},
   "source": [
    "A $Gamma(\\frac{k}{2},\\frac{1}{2})$ distribution is called <b>Chi-Squared distribution  with k-degrees of freedom </b>"
   ]
  },
  {
   "cell_type": "markdown",
   "metadata": {},
   "source": [
    "**Definition:** If $X\\sim Gamma(\\frac{n}{2},\\frac{1}{2})$, then $X$ is said to have Chi-Square distribution with $n$ degrees of freedom"
   ]
  },
  {
   "cell_type": "markdown",
   "metadata": {},
   "source": [
    "and $PDF$ of $X$, $f_X(x)=\\left\\{\\begin{matrix}\n",
    " \\frac{1}{2^{\\frac{n}{2}}\\Gamma\\left(\\frac{n}{2}\\right)}x^{\\frac{n}{2}-1}e^{-\\frac{x}{2}}& x>0\\\\ \n",
    " 0& x\\le 0\n",
    "\\end{matrix}\\right.$"
   ]
  },
  {
   "cell_type": "code",
   "execution_count": 35,
   "metadata": {},
   "outputs": [
    {
     "data": {
      "image/png": "[encoded data removed]",
      "text/plain": [
       "<Figure size 576x432 with 1 Axes>"
      ]
     },
     "metadata": {
      "needs_background": "light"
     },
     "output_type": "display_data"
    }
   ],
   "source": [
    "import math\n",
    "import numpy as np\n",
    "import matplotlib.pyplot as plt\n",
    "%matplotlib inline\n",
    "\n",
    "Infty=50   \n",
    "x=np.linspace(0,Infty,1000)\n",
    "plt.figure(figsize=(8,6))\n",
    "dfs = [2,3,6,12] # degree of freedoms\n",
    "for k in dfs:\n",
    "    # ploting thw pdf of Chi-squared distribution with k degrees of freedom\n",
    "    plt.plot(x,((1/2)*np.exp(-x/2)*(x/2)**(k/2-1))/(math.gamma(k/2)),label=r\"{0}DF\".format(k))\n",
    "plt.legend(loc='upper right')\n",
    "plt.title(r\"$\\chi^2$ Distribution\")\n",
    "plt.xlabel(\"$x$\")\n",
    "plt.ylabel(\"$f_X(x)$\")\n",
    "plt.xlim(0,50)\n",
    "plt.ylim(0,0.5)\n",
    "plt.show()\n",
    "\n"
   ]
  },
  {
   "cell_type": "markdown",
   "metadata": {},
   "source": [
    "$CDF$ od $X$, $F_X(x)=\\int_0^x \\frac{1}{2^{\\frac{n}{2}}\\Gamma\\left(\\frac{n}{2}\\right)}t^{\\frac{n}{2}-1}e^{-\\frac{t}{2}}dt$"
   ]
  },
  {
   "cell_type": "markdown",
   "metadata": {},
   "source": [
    "**Notation:** $X\\sim \\chi^2_n$"
   ]
  },
  {
   "cell_type": "markdown",
   "metadata": {
    "cell_style": "split"
   },
   "source": [
    "$E(X)=\\frac{\\frac{n}{2}}{\\frac{1}{2}}=n$"
   ]
  },
  {
   "cell_type": "markdown",
   "metadata": {
    "cell_style": "split"
   },
   "source": [
    "$Var(X)=\\frac{\\frac{n}{2}}{\\left(\\frac{1}{2}\\right)^2}=2n$ "
   ]
  },
  {
   "cell_type": "markdown",
   "metadata": {},
   "source": [
    "$M_X(t)=\\left(\\frac{\\frac{1}{2}}{\\frac{1}{2}-t}\\right)^{\\frac{n}{2}}=\\left(\\frac{1}{1-2t}\\right)^{\\frac{n}{2}}$"
   ]
  },
  {
   "cell_type": "markdown",
   "metadata": {},
   "source": [
    "$\\therefore$ $E(\\chi^2_n)=n$, &nbsp; $Var(\\chi^2_n)=2n$, and $M_{\\chi^2_n}(t)=\\left(\\frac{1}{1-2t}\\right)^{\\frac{n}{2}}$ for $-\\frac{1}{2}<t<\\frac{1}{2}$"
   ]
  },
  {
   "cell_type": "markdown",
   "metadata": {},
   "source": [
    "**Note:** If $X\\sim \\chi^2_{n_1}, Y\\sim \\chi^2_{n_2}$ and independent then $X+Y\\sim \\chi^2_{n_1+n_2}$&nbsp; &nbsp; ($\\because $ sum of independent Gamma random variable with same rate parameter are again Gamma random variable)"
   ]
  },
  {
   "cell_type": "code",
   "execution_count": 1,
   "metadata": {},
   "outputs": [
    {
     "data": {
      "application/vnd.jupyter.widget-view+json": {
       "model_id": "d2b03dc607fe4654a458707dd51dc782",
       "version_major": 2,
       "version_minor": 0
      },
      "text/plain": [
       "interactive(children=(IntSlider(value=3, description='$n$ :', max=50, min=1), FloatSlider(value=2.0, descripti…"
      ]
     },
     "metadata": {},
     "output_type": "display_data"
    }
   ],
   "source": [
    "%matplotlib inline\n",
    "import math\n",
    "import numpy as np\n",
    "import matplotlib.pyplot as plt\n",
    "from ipywidgets import interact ,interactive, fixed, interact_manual\n",
    "import ipywidgets as widgets\n",
    "from scipy import stats as st\n",
    "\n",
    "Infty =40\n",
    "\n",
    "def AreaUnderChiSquaredPDF(n,x):\n",
    "    fig, ax = plt.subplots(figsize=(8,6))\n",
    "    \n",
    "    xx=np.linspace(0,Infty,1000)\n",
    "    X=st.chi2(n)  # Chi squared random variable with n degrees of freedom from scipy.stats \n",
    "    ax.plot(xx,X.pdf(xx),label=r\"{0}DF\".format(n)) # poting graph of pdf\n",
    "    \n",
    "    xx=list(np.linspace(0,x,1000))\n",
    "\n",
    "    ax.fill_between(xx,0,X.pdf(xx),color='g',label=r'$F_X(%s)=%s$'%(x,round(X.cdf(x),4)))\n",
    "    ax.set_title(r\"AREA UNDER THE $\\chi^2_n$ PDF CURVE TO THE LEFT OF $x$\" )\n",
    "    ax.set_xlabel(r\"$t$\")\n",
    "    ax.set_ylabel(r\"$f_{\\chi^2}(t)$\")\n",
    "    ax.text(x,-0.02,r'%s'%(x))\n",
    "    ax.set_xticks([0,20,40])\n",
    "    ax.set_xlim(0,Infty)\n",
    "    ax.set_xlim(0,Infty)\n",
    "    ax.set_ylim(0,0.5)\n",
    "    ax.legend()\n",
    "    plt.show()\n",
    "    \n",
    "# Please Click the Run Interact Button to see the Bar graph\n",
    "interactive(AreaUnderChiSquaredPDF,{'manual':False},n=widgets.IntSlider(min=1, max=50, step=1, value=3,description='$n$ :'),x=widgets.FloatSlider(min=0, max=Infty, step=0.01, value=2,description='$x$ :'))\n",
    "\n",
    "\n",
    "\n",
    "\n",
    "    "
   ]
  },
  {
   "cell_type": "markdown",
   "metadata": {},
   "source": [
    "The number $x\\in \\mathbb{R}$ such that $P(\\chi^2_n>x)=\\alpha$ is denoted by $\\chi^2_{\\alpha,n}$, and to find these $\\chi^2_{\\alpha,n}$ values one has to either use software or refer to Chi-Squared distribution Table (Which can be found any statistics book)"
   ]
  },
  {
   "cell_type": "code",
   "execution_count": 2,
   "metadata": {},
   "outputs": [
    {
     "data": {
      "application/vnd.jupyter.widget-view+json": {
       "model_id": "5544e9307e594e7e9594cfca1142ec22",
       "version_major": 2,
       "version_minor": 0
      },
      "text/plain": [
       "interactive(children=(IntSlider(value=3, description='$n$ :', max=50, min=1), FloatSlider(value=0.005, descrip…"
      ]
     },
     "metadata": {},
     "output_type": "display_data"
    }
   ],
   "source": [
    "%matplotlib inline\n",
    "import math\n",
    "import numpy as np\n",
    "import matplotlib.pyplot as plt\n",
    "from ipywidgets import interact ,interactive, fixed, interact_manual\n",
    "import ipywidgets as widgets\n",
    "from scipy import stats as st\n",
    "\n",
    "Infty =40\n",
    "\n",
    "def Qp(n,alpha):\n",
    "    fig, ax = plt.subplots(figsize=(8,6))\n",
    "    X=st.chi2(n)  # Chi squared random variable with k degrees of freedom from scipy.stats \n",
    "    xx=np.linspace(0,Infty,1000)\n",
    "\n",
    "    ax.plot(xx,X.pdf(xx),label=r\"{0}DF\".format(n)) # poting graph of pdf\n",
    "    xx=np.linspace(X.ppf(1-alpha),Infty,1000)\n",
    "    ax.fill_between(xx,0,X.pdf(xx),color='y',label=r'$\\alpha=%s$'%(round(alpha,4)))\n",
    "    \n",
    "    # X.ppf(p) returns pth quantile of X\n",
    "    ax.scatter([X.ppf(1-alpha)],[0],s=10,color=(1,0,0),label=r'$\\chi^2_{%s,%s}=%s$'%(alpha,n,round(X.ppf(1-alpha),4)))\n",
    "    ax.set_title(r\"AREA UNDER THE $\\chi^2_{n}$ PDF CURVE TO THE right OF $\\chi^2_{\\alpha,n}$\" )\n",
    "    ax.set_xlabel(r\"$t$\")\n",
    "    ax.set_ylabel(r\"$f_X(t)$\")\n",
    "    ax.set_xlim(0,Infty)\n",
    "    ax.set_xticks([0,40])\n",
    "    ax.set_ylim(0,0.5)\n",
    "    ax.text(X.ppf(1-alpha),-0.02,r'$\\chi^2_{%s,%s}$'%(round(alpha,4),n),color=(0,0,1))\n",
    "    ax.legend()\n",
    "    plt.show()\n",
    "    \n",
    "# Please Click the Run Interact Button to see the Bar graph\n",
    "interactive(Qp,{'manual':False},n=widgets.IntSlider(min=1, max=50, step=1, value=3,description='$n$ :'),alpha=widgets.FloatSlider(min=0.005, max=1.0, step=0.005, value=0.005,readout_format=\".3f\",description=r'$\\alpha$ :'))\n",
    "\n",
    "\n",
    "\n",
    "\n",
    "    "
   ]
  },
  {
   "cell_type": "code",
   "execution_count": 3,
   "metadata": {},
   "outputs": [
    {
     "data": {
      "text/markdown": [
       "&nbsp; &nbsp; &nbsp; &nbsp; &nbsp; &nbsp; &nbsp; &nbsp; &nbsp; &nbsp; &nbsp; &nbsp; &nbsp; &nbsp; &nbsp; &nbsp; &nbsp; &nbsp; &nbsp; &nbsp; &nbsp; &nbsp; &nbsp; &nbsp; &nbsp; &nbsp; &nbsp; &nbsp; &nbsp; &nbsp; &nbsp; &nbsp; &nbsp; &nbsp; &nbsp; &nbsp; &nbsp; &nbsp; &nbsp; &nbsp; $\\chi^2_{\\alpha,n}$  Table"
      ],
      "text/plain": [
       "<IPython.core.display.Markdown object>"
      ]
     },
     "metadata": {},
     "output_type": "display_data"
    },
    {
     "data": {
      "text/html": [
       "<span style=\"color:blue\">------------------------------------------------------------------------------------------------------------------------------------------------------------</span>"
      ],
      "text/plain": [
       "<IPython.core.display.HTML object>"
      ]
     },
     "metadata": {},
     "output_type": "display_data"
    },
    {
     "data": {
      "text/markdown": [
       "n &nbsp; &nbsp; &nbsp; &nbsp; &nbsp; &nbsp; &nbsp; $\\alpha$=0.995&nbsp; &nbsp; &nbsp; &nbsp; &nbsp; &nbsp; &nbsp; $\\alpha$=0.99&nbsp; &nbsp; &nbsp; &nbsp; &nbsp; &nbsp; &nbsp; $\\alpha$=0.975&nbsp; &nbsp; &nbsp; &nbsp; &nbsp; &nbsp; &nbsp; $\\alpha$=0.95&nbsp; &nbsp; &nbsp; &nbsp; &nbsp; &nbsp; &nbsp; $\\alpha$=0.05&nbsp; &nbsp; &nbsp; &nbsp; &nbsp; &nbsp; &nbsp; $\\alpha$=0.025&nbsp; &nbsp; &nbsp; &nbsp; &nbsp; &nbsp; &nbsp; $\\alpha$=0.01&nbsp; &nbsp; &nbsp; &nbsp; &nbsp; &nbsp; &nbsp; $\\alpha$=0.005"
      ],
      "text/plain": [
       "<IPython.core.display.Markdown object>"
      ]
     },
     "metadata": {},
     "output_type": "display_data"
    },
    {
     "data": {
      "text/html": [
       "<span style=\"color:blue\">------------------------------------------------------------------------------------------------------------------------------------------------------------</span>"
      ],
      "text/plain": [
       "<IPython.core.display.HTML object>"
      ]
     },
     "metadata": {},
     "output_type": "display_data"
    },
    {
     "data": {
      "text/markdown": [
       "1&nbsp; &nbsp; &nbsp; &nbsp; &nbsp; &nbsp; 0.0000393&nbsp; &nbsp; &nbsp; &nbsp; &nbsp; &nbsp; 0.0001571&nbsp; &nbsp; &nbsp; &nbsp; &nbsp; &nbsp; 0.0009821&nbsp; &nbsp; &nbsp; &nbsp; &nbsp; &nbsp; 0.0039321&nbsp;&nbsp;&nbsp;&nbsp;&nbsp;&nbsp;&nbsp;&nbsp;&nbsp;&nbsp;&nbsp;&nbsp;&nbsp;&nbsp;3.8415&nbsp;&nbsp;&nbsp;&nbsp;&nbsp;&nbsp;&nbsp;&nbsp;&nbsp;&nbsp;&nbsp;&nbsp;&nbsp;&nbsp;5.0239&nbsp;&nbsp;&nbsp;&nbsp;&nbsp;&nbsp;&nbsp;&nbsp;&nbsp;&nbsp;&nbsp;&nbsp;&nbsp;&nbsp;6.6349&nbsp;&nbsp;&nbsp;&nbsp;&nbsp;&nbsp;&nbsp;&nbsp;&nbsp;&nbsp;&nbsp;&nbsp;&nbsp;&nbsp;7.8794"
      ],
      "text/plain": [
       "<IPython.core.display.Markdown object>"
      ]
     },
     "metadata": {},
     "output_type": "display_data"
    },
    {
     "data": {
      "text/markdown": [
       "2&nbsp; &nbsp; &nbsp; &nbsp; &nbsp; &nbsp; &nbsp; &nbsp; 0.0100&nbsp; &nbsp; &nbsp; &nbsp; &nbsp; &nbsp; &nbsp; &nbsp; 0.0201&nbsp; &nbsp; &nbsp; &nbsp; &nbsp; &nbsp; &nbsp; &nbsp; 0.0506&nbsp; &nbsp; &nbsp; &nbsp; &nbsp; &nbsp; &nbsp; &nbsp; 0.1026&nbsp; &nbsp; &nbsp; &nbsp; &nbsp; &nbsp; &nbsp; &nbsp; 5.9915&nbsp; &nbsp; &nbsp; &nbsp; &nbsp; &nbsp; &nbsp; &nbsp; 7.3778&nbsp; &nbsp; &nbsp; &nbsp; &nbsp; &nbsp; &nbsp; &nbsp; 9.2103&nbsp; &nbsp; &nbsp; &nbsp; &nbsp; &nbsp; &nbsp; &nbsp; 10.597"
      ],
      "text/plain": [
       "<IPython.core.display.Markdown object>"
      ]
     },
     "metadata": {},
     "output_type": "display_data"
    },
    {
     "data": {
      "text/markdown": [
       "3&nbsp; &nbsp; &nbsp; &nbsp; &nbsp; &nbsp; &nbsp; &nbsp; 0.0717&nbsp; &nbsp; &nbsp; &nbsp; &nbsp; &nbsp; &nbsp; &nbsp; 0.1148&nbsp; &nbsp; &nbsp; &nbsp; &nbsp; &nbsp; &nbsp; &nbsp; 0.2158&nbsp; &nbsp; &nbsp; &nbsp; &nbsp; &nbsp; &nbsp; &nbsp; 0.3518&nbsp; &nbsp; &nbsp; &nbsp; &nbsp; &nbsp; &nbsp; &nbsp; 7.8147&nbsp; &nbsp; &nbsp; &nbsp; &nbsp; &nbsp; &nbsp; &nbsp; 9.3484&nbsp; &nbsp; &nbsp; &nbsp; &nbsp; &nbsp; &nbsp; &nbsp; 11.345&nbsp; &nbsp; &nbsp; &nbsp; &nbsp; &nbsp; &nbsp; &nbsp; 12.838"
      ],
      "text/plain": [
       "<IPython.core.display.Markdown object>"
      ]
     },
     "metadata": {},
     "output_type": "display_data"
    },
    {
     "data": {
      "text/markdown": [
       "4&nbsp; &nbsp; &nbsp; &nbsp; &nbsp; &nbsp; &nbsp; &nbsp; 0.2070&nbsp; &nbsp; &nbsp; &nbsp; &nbsp; &nbsp; &nbsp; &nbsp; 0.2971&nbsp; &nbsp; &nbsp; &nbsp; &nbsp; &nbsp; &nbsp; &nbsp; 0.4844&nbsp; &nbsp; &nbsp; &nbsp; &nbsp; &nbsp; &nbsp; &nbsp; 0.7107&nbsp; &nbsp; &nbsp; &nbsp; &nbsp; &nbsp; &nbsp; &nbsp; 9.4877&nbsp; &nbsp; &nbsp; &nbsp; &nbsp; &nbsp; &nbsp; &nbsp; 11.143&nbsp; &nbsp; &nbsp; &nbsp; &nbsp; &nbsp; &nbsp; &nbsp; 13.277&nbsp; &nbsp; &nbsp; &nbsp; &nbsp; &nbsp; &nbsp; &nbsp; 14.860"
      ],
      "text/plain": [
       "<IPython.core.display.Markdown object>"
      ]
     },
     "metadata": {},
     "output_type": "display_data"
    },
    {
     "data": {
      "text/markdown": [
       "5&nbsp; &nbsp; &nbsp; &nbsp; &nbsp; &nbsp; &nbsp; &nbsp; 0.4117&nbsp; &nbsp; &nbsp; &nbsp; &nbsp; &nbsp; &nbsp; &nbsp; 0.5543&nbsp; &nbsp; &nbsp; &nbsp; &nbsp; &nbsp; &nbsp; &nbsp; 0.8312&nbsp; &nbsp; &nbsp; &nbsp; &nbsp; &nbsp; &nbsp; &nbsp; 1.1455&nbsp; &nbsp; &nbsp; &nbsp; &nbsp; &nbsp; &nbsp; &nbsp; 11.070&nbsp; &nbsp; &nbsp; &nbsp; &nbsp; &nbsp; &nbsp; &nbsp; 12.833&nbsp; &nbsp; &nbsp; &nbsp; &nbsp; &nbsp; &nbsp; &nbsp; 15.086&nbsp; &nbsp; &nbsp; &nbsp; &nbsp; &nbsp; &nbsp; &nbsp; 16.750"
      ],
      "text/plain": [
       "<IPython.core.display.Markdown object>"
      ]
     },
     "metadata": {},
     "output_type": "display_data"
    },
    {
     "data": {
      "text/markdown": [
       "6&nbsp; &nbsp; &nbsp; &nbsp; &nbsp; &nbsp; &nbsp; &nbsp; 0.6757&nbsp; &nbsp; &nbsp; &nbsp; &nbsp; &nbsp; &nbsp; &nbsp; 0.8721&nbsp; &nbsp; &nbsp; &nbsp; &nbsp; &nbsp; &nbsp; &nbsp; 1.2373&nbsp; &nbsp; &nbsp; &nbsp; &nbsp; &nbsp; &nbsp; &nbsp; 1.6354&nbsp; &nbsp; &nbsp; &nbsp; &nbsp; &nbsp; &nbsp; &nbsp; 12.592&nbsp; &nbsp; &nbsp; &nbsp; &nbsp; &nbsp; &nbsp; &nbsp; 14.449&nbsp; &nbsp; &nbsp; &nbsp; &nbsp; &nbsp; &nbsp; &nbsp; 16.812&nbsp; &nbsp; &nbsp; &nbsp; &nbsp; &nbsp; &nbsp; &nbsp; 18.548"
      ],
      "text/plain": [
       "<IPython.core.display.Markdown object>"
      ]
     },
     "metadata": {},
     "output_type": "display_data"
    },
    {
     "data": {
      "text/markdown": [
       "7&nbsp; &nbsp; &nbsp; &nbsp; &nbsp; &nbsp; &nbsp; &nbsp; 0.9893&nbsp; &nbsp; &nbsp; &nbsp; &nbsp; &nbsp; &nbsp; &nbsp; 1.2390&nbsp; &nbsp; &nbsp; &nbsp; &nbsp; &nbsp; &nbsp; &nbsp; 1.6899&nbsp; &nbsp; &nbsp; &nbsp; &nbsp; &nbsp; &nbsp; &nbsp; 2.1673&nbsp; &nbsp; &nbsp; &nbsp; &nbsp; &nbsp; &nbsp; &nbsp; 14.067&nbsp; &nbsp; &nbsp; &nbsp; &nbsp; &nbsp; &nbsp; &nbsp; 16.013&nbsp; &nbsp; &nbsp; &nbsp; &nbsp; &nbsp; &nbsp; &nbsp; 18.475&nbsp; &nbsp; &nbsp; &nbsp; &nbsp; &nbsp; &nbsp; &nbsp; 20.278"
      ],
      "text/plain": [
       "<IPython.core.display.Markdown object>"
      ]
     },
     "metadata": {},
     "output_type": "display_data"
    },
    {
     "data": {
      "text/markdown": [
       "8&nbsp; &nbsp; &nbsp; &nbsp; &nbsp; &nbsp; &nbsp; &nbsp; 1.3444&nbsp; &nbsp; &nbsp; &nbsp; &nbsp; &nbsp; &nbsp; &nbsp; 1.6465&nbsp; &nbsp; &nbsp; &nbsp; &nbsp; &nbsp; &nbsp; &nbsp; 2.1797&nbsp; &nbsp; &nbsp; &nbsp; &nbsp; &nbsp; &nbsp; &nbsp; 2.7326&nbsp; &nbsp; &nbsp; &nbsp; &nbsp; &nbsp; &nbsp; &nbsp; 15.507&nbsp; &nbsp; &nbsp; &nbsp; &nbsp; &nbsp; &nbsp; &nbsp; 17.535&nbsp; &nbsp; &nbsp; &nbsp; &nbsp; &nbsp; &nbsp; &nbsp; 20.090&nbsp; &nbsp; &nbsp; &nbsp; &nbsp; &nbsp; &nbsp; &nbsp; 21.955"
      ],
      "text/plain": [
       "<IPython.core.display.Markdown object>"
      ]
     },
     "metadata": {},
     "output_type": "display_data"
    },
    {
     "data": {
      "text/markdown": [
       "9&nbsp; &nbsp; &nbsp; &nbsp; &nbsp; &nbsp; &nbsp; &nbsp; 1.7349&nbsp; &nbsp; &nbsp; &nbsp; &nbsp; &nbsp; &nbsp; &nbsp; 2.0879&nbsp; &nbsp; &nbsp; &nbsp; &nbsp; &nbsp; &nbsp; &nbsp; 2.7004&nbsp; &nbsp; &nbsp; &nbsp; &nbsp; &nbsp; &nbsp; &nbsp; 3.3251&nbsp; &nbsp; &nbsp; &nbsp; &nbsp; &nbsp; &nbsp; &nbsp; 16.919&nbsp; &nbsp; &nbsp; &nbsp; &nbsp; &nbsp; &nbsp; &nbsp; 19.023&nbsp; &nbsp; &nbsp; &nbsp; &nbsp; &nbsp; &nbsp; &nbsp; 21.666&nbsp; &nbsp; &nbsp; &nbsp; &nbsp; &nbsp; &nbsp; &nbsp; 23.589"
      ],
      "text/plain": [
       "<IPython.core.display.Markdown object>"
      ]
     },
     "metadata": {},
     "output_type": "display_data"
    },
    {
     "data": {
      "text/markdown": [
       "10&nbsp; &nbsp; &nbsp; &nbsp; &nbsp; &nbsp; &nbsp; &nbsp; 2.1559&nbsp; &nbsp; &nbsp; &nbsp; &nbsp; &nbsp; &nbsp; &nbsp; 2.5582&nbsp; &nbsp; &nbsp; &nbsp; &nbsp; &nbsp; &nbsp; &nbsp; 3.2470&nbsp; &nbsp; &nbsp; &nbsp; &nbsp; &nbsp; &nbsp; &nbsp; 3.9403&nbsp; &nbsp; &nbsp; &nbsp; &nbsp; &nbsp; &nbsp; &nbsp; 18.307&nbsp; &nbsp; &nbsp; &nbsp; &nbsp; &nbsp; &nbsp; &nbsp; 20.483&nbsp; &nbsp; &nbsp; &nbsp; &nbsp; &nbsp; &nbsp; &nbsp; 23.209&nbsp; &nbsp; &nbsp; &nbsp; &nbsp; &nbsp; &nbsp; &nbsp; 25.188"
      ],
      "text/plain": [
       "<IPython.core.display.Markdown object>"
      ]
     },
     "metadata": {},
     "output_type": "display_data"
    },
    {
     "data": {
      "text/markdown": [
       "11&nbsp; &nbsp; &nbsp; &nbsp; &nbsp; &nbsp; &nbsp; &nbsp; 2.6032&nbsp; &nbsp; &nbsp; &nbsp; &nbsp; &nbsp; &nbsp; &nbsp; 3.0535&nbsp; &nbsp; &nbsp; &nbsp; &nbsp; &nbsp; &nbsp; &nbsp; 3.8157&nbsp; &nbsp; &nbsp; &nbsp; &nbsp; &nbsp; &nbsp; &nbsp; 4.5748&nbsp; &nbsp; &nbsp; &nbsp; &nbsp; &nbsp; &nbsp; &nbsp; 19.675&nbsp; &nbsp; &nbsp; &nbsp; &nbsp; &nbsp; &nbsp; &nbsp; 21.920&nbsp; &nbsp; &nbsp; &nbsp; &nbsp; &nbsp; &nbsp; &nbsp; 24.725&nbsp; &nbsp; &nbsp; &nbsp; &nbsp; &nbsp; &nbsp; &nbsp; 26.757"
      ],
      "text/plain": [
       "<IPython.core.display.Markdown object>"
      ]
     },
     "metadata": {},
     "output_type": "display_data"
    },
    {
     "data": {
      "text/markdown": [
       "12&nbsp; &nbsp; &nbsp; &nbsp; &nbsp; &nbsp; &nbsp; &nbsp; 3.0738&nbsp; &nbsp; &nbsp; &nbsp; &nbsp; &nbsp; &nbsp; &nbsp; 3.5706&nbsp; &nbsp; &nbsp; &nbsp; &nbsp; &nbsp; &nbsp; &nbsp; 4.4038&nbsp; &nbsp; &nbsp; &nbsp; &nbsp; &nbsp; &nbsp; &nbsp; 5.2260&nbsp; &nbsp; &nbsp; &nbsp; &nbsp; &nbsp; &nbsp; &nbsp; 21.026&nbsp; &nbsp; &nbsp; &nbsp; &nbsp; &nbsp; &nbsp; &nbsp; 23.337&nbsp; &nbsp; &nbsp; &nbsp; &nbsp; &nbsp; &nbsp; &nbsp; 26.217&nbsp; &nbsp; &nbsp; &nbsp; &nbsp; &nbsp; &nbsp; &nbsp; 28.300"
      ],
      "text/plain": [
       "<IPython.core.display.Markdown object>"
      ]
     },
     "metadata": {},
     "output_type": "display_data"
    },
    {
     "data": {
      "text/markdown": [
       "13&nbsp; &nbsp; &nbsp; &nbsp; &nbsp; &nbsp; &nbsp; &nbsp; 3.5650&nbsp; &nbsp; &nbsp; &nbsp; &nbsp; &nbsp; &nbsp; &nbsp; 4.1069&nbsp; &nbsp; &nbsp; &nbsp; &nbsp; &nbsp; &nbsp; &nbsp; 5.0088&nbsp; &nbsp; &nbsp; &nbsp; &nbsp; &nbsp; &nbsp; &nbsp; 5.8919&nbsp; &nbsp; &nbsp; &nbsp; &nbsp; &nbsp; &nbsp; &nbsp; 22.362&nbsp; &nbsp; &nbsp; &nbsp; &nbsp; &nbsp; &nbsp; &nbsp; 24.736&nbsp; &nbsp; &nbsp; &nbsp; &nbsp; &nbsp; &nbsp; &nbsp; 27.688&nbsp; &nbsp; &nbsp; &nbsp; &nbsp; &nbsp; &nbsp; &nbsp; 29.819"
      ],
      "text/plain": [
       "<IPython.core.display.Markdown object>"
      ]
     },
     "metadata": {},
     "output_type": "display_data"
    },
    {
     "data": {
      "text/markdown": [
       "14&nbsp; &nbsp; &nbsp; &nbsp; &nbsp; &nbsp; &nbsp; &nbsp; 4.0747&nbsp; &nbsp; &nbsp; &nbsp; &nbsp; &nbsp; &nbsp; &nbsp; 4.6604&nbsp; &nbsp; &nbsp; &nbsp; &nbsp; &nbsp; &nbsp; &nbsp; 5.6287&nbsp; &nbsp; &nbsp; &nbsp; &nbsp; &nbsp; &nbsp; &nbsp; 6.5706&nbsp; &nbsp; &nbsp; &nbsp; &nbsp; &nbsp; &nbsp; &nbsp; 23.685&nbsp; &nbsp; &nbsp; &nbsp; &nbsp; &nbsp; &nbsp; &nbsp; 26.119&nbsp; &nbsp; &nbsp; &nbsp; &nbsp; &nbsp; &nbsp; &nbsp; 29.141&nbsp; &nbsp; &nbsp; &nbsp; &nbsp; &nbsp; &nbsp; &nbsp; 31.319"
      ],
      "text/plain": [
       "<IPython.core.display.Markdown object>"
      ]
     },
     "metadata": {},
     "output_type": "display_data"
    },
    {
     "data": {
      "text/markdown": [
       "15&nbsp; &nbsp; &nbsp; &nbsp; &nbsp; &nbsp; &nbsp; &nbsp; 4.6009&nbsp; &nbsp; &nbsp; &nbsp; &nbsp; &nbsp; &nbsp; &nbsp; 5.2293&nbsp; &nbsp; &nbsp; &nbsp; &nbsp; &nbsp; &nbsp; &nbsp; 6.2621&nbsp; &nbsp; &nbsp; &nbsp; &nbsp; &nbsp; &nbsp; &nbsp; 7.2609&nbsp; &nbsp; &nbsp; &nbsp; &nbsp; &nbsp; &nbsp; &nbsp; 24.996&nbsp; &nbsp; &nbsp; &nbsp; &nbsp; &nbsp; &nbsp; &nbsp; 27.488&nbsp; &nbsp; &nbsp; &nbsp; &nbsp; &nbsp; &nbsp; &nbsp; 30.578&nbsp; &nbsp; &nbsp; &nbsp; &nbsp; &nbsp; &nbsp; &nbsp; 32.801"
      ],
      "text/plain": [
       "<IPython.core.display.Markdown object>"
      ]
     },
     "metadata": {},
     "output_type": "display_data"
    },
    {
     "data": {
      "text/markdown": [
       "16&nbsp; &nbsp; &nbsp; &nbsp; &nbsp; &nbsp; &nbsp; &nbsp; 5.1422&nbsp; &nbsp; &nbsp; &nbsp; &nbsp; &nbsp; &nbsp; &nbsp; 5.8122&nbsp; &nbsp; &nbsp; &nbsp; &nbsp; &nbsp; &nbsp; &nbsp; 6.9077&nbsp; &nbsp; &nbsp; &nbsp; &nbsp; &nbsp; &nbsp; &nbsp; 7.9616&nbsp; &nbsp; &nbsp; &nbsp; &nbsp; &nbsp; &nbsp; &nbsp; 26.296&nbsp; &nbsp; &nbsp; &nbsp; &nbsp; &nbsp; &nbsp; &nbsp; 28.845&nbsp; &nbsp; &nbsp; &nbsp; &nbsp; &nbsp; &nbsp; &nbsp; 32.000&nbsp; &nbsp; &nbsp; &nbsp; &nbsp; &nbsp; &nbsp; &nbsp; 34.267"
      ],
      "text/plain": [
       "<IPython.core.display.Markdown object>"
      ]
     },
     "metadata": {},
     "output_type": "display_data"
    },
    {
     "data": {
      "text/markdown": [
       "17&nbsp; &nbsp; &nbsp; &nbsp; &nbsp; &nbsp; &nbsp; &nbsp; 5.6972&nbsp; &nbsp; &nbsp; &nbsp; &nbsp; &nbsp; &nbsp; &nbsp; 6.4078&nbsp; &nbsp; &nbsp; &nbsp; &nbsp; &nbsp; &nbsp; &nbsp; 7.5642&nbsp; &nbsp; &nbsp; &nbsp; &nbsp; &nbsp; &nbsp; &nbsp; 8.6718&nbsp; &nbsp; &nbsp; &nbsp; &nbsp; &nbsp; &nbsp; &nbsp; 27.587&nbsp; &nbsp; &nbsp; &nbsp; &nbsp; &nbsp; &nbsp; &nbsp; 30.191&nbsp; &nbsp; &nbsp; &nbsp; &nbsp; &nbsp; &nbsp; &nbsp; 33.409&nbsp; &nbsp; &nbsp; &nbsp; &nbsp; &nbsp; &nbsp; &nbsp; 35.718"
      ],
      "text/plain": [
       "<IPython.core.display.Markdown object>"
      ]
     },
     "metadata": {},
     "output_type": "display_data"
    },
    {
     "data": {
      "text/markdown": [
       "18&nbsp; &nbsp; &nbsp; &nbsp; &nbsp; &nbsp; &nbsp; &nbsp; 6.2648&nbsp; &nbsp; &nbsp; &nbsp; &nbsp; &nbsp; &nbsp; &nbsp; 7.0149&nbsp; &nbsp; &nbsp; &nbsp; &nbsp; &nbsp; &nbsp; &nbsp; 8.2307&nbsp; &nbsp; &nbsp; &nbsp; &nbsp; &nbsp; &nbsp; &nbsp; 9.3905&nbsp; &nbsp; &nbsp; &nbsp; &nbsp; &nbsp; &nbsp; &nbsp; 28.869&nbsp; &nbsp; &nbsp; &nbsp; &nbsp; &nbsp; &nbsp; &nbsp; 31.526&nbsp; &nbsp; &nbsp; &nbsp; &nbsp; &nbsp; &nbsp; &nbsp; 34.805&nbsp; &nbsp; &nbsp; &nbsp; &nbsp; &nbsp; &nbsp; &nbsp; 37.156"
      ],
      "text/plain": [
       "<IPython.core.display.Markdown object>"
      ]
     },
     "metadata": {},
     "output_type": "display_data"
    },
    {
     "data": {
      "text/markdown": [
       "19&nbsp; &nbsp; &nbsp; &nbsp; &nbsp; &nbsp; &nbsp; &nbsp; 6.8440&nbsp; &nbsp; &nbsp; &nbsp; &nbsp; &nbsp; &nbsp; &nbsp; 7.6327&nbsp; &nbsp; &nbsp; &nbsp; &nbsp; &nbsp; &nbsp; &nbsp; 8.9065&nbsp; &nbsp; &nbsp; &nbsp; &nbsp; &nbsp; &nbsp; &nbsp; 10.117&nbsp; &nbsp; &nbsp; &nbsp; &nbsp; &nbsp; &nbsp; &nbsp; 30.144&nbsp; &nbsp; &nbsp; &nbsp; &nbsp; &nbsp; &nbsp; &nbsp; 32.852&nbsp; &nbsp; &nbsp; &nbsp; &nbsp; &nbsp; &nbsp; &nbsp; 36.191&nbsp; &nbsp; &nbsp; &nbsp; &nbsp; &nbsp; &nbsp; &nbsp; 38.582"
      ],
      "text/plain": [
       "<IPython.core.display.Markdown object>"
      ]
     },
     "metadata": {},
     "output_type": "display_data"
    },
    {
     "data": {
      "text/markdown": [
       "20&nbsp; &nbsp; &nbsp; &nbsp; &nbsp; &nbsp; &nbsp; &nbsp; 7.4338&nbsp; &nbsp; &nbsp; &nbsp; &nbsp; &nbsp; &nbsp; &nbsp; 8.2604&nbsp; &nbsp; &nbsp; &nbsp; &nbsp; &nbsp; &nbsp; &nbsp; 9.5908&nbsp; &nbsp; &nbsp; &nbsp; &nbsp; &nbsp; &nbsp; &nbsp; 10.851&nbsp; &nbsp; &nbsp; &nbsp; &nbsp; &nbsp; &nbsp; &nbsp; 31.410&nbsp; &nbsp; &nbsp; &nbsp; &nbsp; &nbsp; &nbsp; &nbsp; 34.170&nbsp; &nbsp; &nbsp; &nbsp; &nbsp; &nbsp; &nbsp; &nbsp; 37.566&nbsp; &nbsp; &nbsp; &nbsp; &nbsp; &nbsp; &nbsp; &nbsp; 39.997"
      ],
      "text/plain": [
       "<IPython.core.display.Markdown object>"
      ]
     },
     "metadata": {},
     "output_type": "display_data"
    },
    {
     "data": {
      "text/markdown": [
       "21&nbsp; &nbsp; &nbsp; &nbsp; &nbsp; &nbsp; &nbsp; &nbsp; 8.0337&nbsp; &nbsp; &nbsp; &nbsp; &nbsp; &nbsp; &nbsp; &nbsp; 8.8972&nbsp; &nbsp; &nbsp; &nbsp; &nbsp; &nbsp; &nbsp; &nbsp; 10.283&nbsp; &nbsp; &nbsp; &nbsp; &nbsp; &nbsp; &nbsp; &nbsp; 11.591&nbsp; &nbsp; &nbsp; &nbsp; &nbsp; &nbsp; &nbsp; &nbsp; 32.671&nbsp; &nbsp; &nbsp; &nbsp; &nbsp; &nbsp; &nbsp; &nbsp; 35.479&nbsp; &nbsp; &nbsp; &nbsp; &nbsp; &nbsp; &nbsp; &nbsp; 38.932&nbsp; &nbsp; &nbsp; &nbsp; &nbsp; &nbsp; &nbsp; &nbsp; 41.401"
      ],
      "text/plain": [
       "<IPython.core.display.Markdown object>"
      ]
     },
     "metadata": {},
     "output_type": "display_data"
    },
    {
     "data": {
      "text/markdown": [
       "22&nbsp; &nbsp; &nbsp; &nbsp; &nbsp; &nbsp; &nbsp; &nbsp; 8.6427&nbsp; &nbsp; &nbsp; &nbsp; &nbsp; &nbsp; &nbsp; &nbsp; 9.5425&nbsp; &nbsp; &nbsp; &nbsp; &nbsp; &nbsp; &nbsp; &nbsp; 10.982&nbsp; &nbsp; &nbsp; &nbsp; &nbsp; &nbsp; &nbsp; &nbsp; 12.338&nbsp; &nbsp; &nbsp; &nbsp; &nbsp; &nbsp; &nbsp; &nbsp; 33.924&nbsp; &nbsp; &nbsp; &nbsp; &nbsp; &nbsp; &nbsp; &nbsp; 36.781&nbsp; &nbsp; &nbsp; &nbsp; &nbsp; &nbsp; &nbsp; &nbsp; 40.289&nbsp; &nbsp; &nbsp; &nbsp; &nbsp; &nbsp; &nbsp; &nbsp; 42.796"
      ],
      "text/plain": [
       "<IPython.core.display.Markdown object>"
      ]
     },
     "metadata": {},
     "output_type": "display_data"
    },
    {
     "data": {
      "text/markdown": [
       "23&nbsp; &nbsp; &nbsp; &nbsp; &nbsp; &nbsp; &nbsp; &nbsp; 9.2604&nbsp; &nbsp; &nbsp; &nbsp; &nbsp; &nbsp; &nbsp; &nbsp; 10.196&nbsp; &nbsp; &nbsp; &nbsp; &nbsp; &nbsp; &nbsp; &nbsp; 11.689&nbsp; &nbsp; &nbsp; &nbsp; &nbsp; &nbsp; &nbsp; &nbsp; 13.091&nbsp; &nbsp; &nbsp; &nbsp; &nbsp; &nbsp; &nbsp; &nbsp; 35.172&nbsp; &nbsp; &nbsp; &nbsp; &nbsp; &nbsp; &nbsp; &nbsp; 38.076&nbsp; &nbsp; &nbsp; &nbsp; &nbsp; &nbsp; &nbsp; &nbsp; 41.638&nbsp; &nbsp; &nbsp; &nbsp; &nbsp; &nbsp; &nbsp; &nbsp; 44.181"
      ],
      "text/plain": [
       "<IPython.core.display.Markdown object>"
      ]
     },
     "metadata": {},
     "output_type": "display_data"
    },
    {
     "data": {
      "text/markdown": [
       "24&nbsp; &nbsp; &nbsp; &nbsp; &nbsp; &nbsp; &nbsp; &nbsp; 9.8862&nbsp; &nbsp; &nbsp; &nbsp; &nbsp; &nbsp; &nbsp; &nbsp; 10.856&nbsp; &nbsp; &nbsp; &nbsp; &nbsp; &nbsp; &nbsp; &nbsp; 12.401&nbsp; &nbsp; &nbsp; &nbsp; &nbsp; &nbsp; &nbsp; &nbsp; 13.848&nbsp; &nbsp; &nbsp; &nbsp; &nbsp; &nbsp; &nbsp; &nbsp; 36.415&nbsp; &nbsp; &nbsp; &nbsp; &nbsp; &nbsp; &nbsp; &nbsp; 39.364&nbsp; &nbsp; &nbsp; &nbsp; &nbsp; &nbsp; &nbsp; &nbsp; 42.980&nbsp; &nbsp; &nbsp; &nbsp; &nbsp; &nbsp; &nbsp; &nbsp; 45.559"
      ],
      "text/plain": [
       "<IPython.core.display.Markdown object>"
      ]
     },
     "metadata": {},
     "output_type": "display_data"
    },
    {
     "data": {
      "text/markdown": [
       "25&nbsp; &nbsp; &nbsp; &nbsp; &nbsp; &nbsp; &nbsp; &nbsp; 10.520&nbsp; &nbsp; &nbsp; &nbsp; &nbsp; &nbsp; &nbsp; &nbsp; 11.524&nbsp; &nbsp; &nbsp; &nbsp; &nbsp; &nbsp; &nbsp; &nbsp; 13.120&nbsp; &nbsp; &nbsp; &nbsp; &nbsp; &nbsp; &nbsp; &nbsp; 14.611&nbsp; &nbsp; &nbsp; &nbsp; &nbsp; &nbsp; &nbsp; &nbsp; 37.652&nbsp; &nbsp; &nbsp; &nbsp; &nbsp; &nbsp; &nbsp; &nbsp; 40.646&nbsp; &nbsp; &nbsp; &nbsp; &nbsp; &nbsp; &nbsp; &nbsp; 44.314&nbsp; &nbsp; &nbsp; &nbsp; &nbsp; &nbsp; &nbsp; &nbsp; 46.928"
      ],
      "text/plain": [
       "<IPython.core.display.Markdown object>"
      ]
     },
     "metadata": {},
     "output_type": "display_data"
    },
    {
     "data": {
      "text/markdown": [
       "26&nbsp; &nbsp; &nbsp; &nbsp; &nbsp; &nbsp; &nbsp; &nbsp; 11.160&nbsp; &nbsp; &nbsp; &nbsp; &nbsp; &nbsp; &nbsp; &nbsp; 12.198&nbsp; &nbsp; &nbsp; &nbsp; &nbsp; &nbsp; &nbsp; &nbsp; 13.844&nbsp; &nbsp; &nbsp; &nbsp; &nbsp; &nbsp; &nbsp; &nbsp; 15.379&nbsp; &nbsp; &nbsp; &nbsp; &nbsp; &nbsp; &nbsp; &nbsp; 38.885&nbsp; &nbsp; &nbsp; &nbsp; &nbsp; &nbsp; &nbsp; &nbsp; 41.923&nbsp; &nbsp; &nbsp; &nbsp; &nbsp; &nbsp; &nbsp; &nbsp; 45.642&nbsp; &nbsp; &nbsp; &nbsp; &nbsp; &nbsp; &nbsp; &nbsp; 48.290"
      ],
      "text/plain": [
       "<IPython.core.display.Markdown object>"
      ]
     },
     "metadata": {},
     "output_type": "display_data"
    },
    {
     "data": {
      "text/markdown": [
       "27&nbsp; &nbsp; &nbsp; &nbsp; &nbsp; &nbsp; &nbsp; &nbsp; 11.808&nbsp; &nbsp; &nbsp; &nbsp; &nbsp; &nbsp; &nbsp; &nbsp; 12.879&nbsp; &nbsp; &nbsp; &nbsp; &nbsp; &nbsp; &nbsp; &nbsp; 14.573&nbsp; &nbsp; &nbsp; &nbsp; &nbsp; &nbsp; &nbsp; &nbsp; 16.151&nbsp; &nbsp; &nbsp; &nbsp; &nbsp; &nbsp; &nbsp; &nbsp; 40.113&nbsp; &nbsp; &nbsp; &nbsp; &nbsp; &nbsp; &nbsp; &nbsp; 43.195&nbsp; &nbsp; &nbsp; &nbsp; &nbsp; &nbsp; &nbsp; &nbsp; 46.963&nbsp; &nbsp; &nbsp; &nbsp; &nbsp; &nbsp; &nbsp; &nbsp; 49.645"
      ],
      "text/plain": [
       "<IPython.core.display.Markdown object>"
      ]
     },
     "metadata": {},
     "output_type": "display_data"
    },
    {
     "data": {
      "text/markdown": [
       "28&nbsp; &nbsp; &nbsp; &nbsp; &nbsp; &nbsp; &nbsp; &nbsp; 12.461&nbsp; &nbsp; &nbsp; &nbsp; &nbsp; &nbsp; &nbsp; &nbsp; 13.565&nbsp; &nbsp; &nbsp; &nbsp; &nbsp; &nbsp; &nbsp; &nbsp; 15.308&nbsp; &nbsp; &nbsp; &nbsp; &nbsp; &nbsp; &nbsp; &nbsp; 16.928&nbsp; &nbsp; &nbsp; &nbsp; &nbsp; &nbsp; &nbsp; &nbsp; 41.337&nbsp; &nbsp; &nbsp; &nbsp; &nbsp; &nbsp; &nbsp; &nbsp; 44.461&nbsp; &nbsp; &nbsp; &nbsp; &nbsp; &nbsp; &nbsp; &nbsp; 48.278&nbsp; &nbsp; &nbsp; &nbsp; &nbsp; &nbsp; &nbsp; &nbsp; 50.993"
      ],
      "text/plain": [
       "<IPython.core.display.Markdown object>"
      ]
     },
     "metadata": {},
     "output_type": "display_data"
    },
    {
     "data": {
      "text/markdown": [
       "29&nbsp; &nbsp; &nbsp; &nbsp; &nbsp; &nbsp; &nbsp; &nbsp; 13.121&nbsp; &nbsp; &nbsp; &nbsp; &nbsp; &nbsp; &nbsp; &nbsp; 14.256&nbsp; &nbsp; &nbsp; &nbsp; &nbsp; &nbsp; &nbsp; &nbsp; 16.047&nbsp; &nbsp; &nbsp; &nbsp; &nbsp; &nbsp; &nbsp; &nbsp; 17.708&nbsp; &nbsp; &nbsp; &nbsp; &nbsp; &nbsp; &nbsp; &nbsp; 42.557&nbsp; &nbsp; &nbsp; &nbsp; &nbsp; &nbsp; &nbsp; &nbsp; 45.722&nbsp; &nbsp; &nbsp; &nbsp; &nbsp; &nbsp; &nbsp; &nbsp; 49.588&nbsp; &nbsp; &nbsp; &nbsp; &nbsp; &nbsp; &nbsp; &nbsp; 52.336"
      ],
      "text/plain": [
       "<IPython.core.display.Markdown object>"
      ]
     },
     "metadata": {},
     "output_type": "display_data"
    },
    {
     "data": {
      "text/markdown": [
       "30&nbsp; &nbsp; &nbsp; &nbsp; &nbsp; &nbsp; &nbsp; &nbsp; 13.787&nbsp; &nbsp; &nbsp; &nbsp; &nbsp; &nbsp; &nbsp; &nbsp; 14.953&nbsp; &nbsp; &nbsp; &nbsp; &nbsp; &nbsp; &nbsp; &nbsp; 16.791&nbsp; &nbsp; &nbsp; &nbsp; &nbsp; &nbsp; &nbsp; &nbsp; 18.493&nbsp; &nbsp; &nbsp; &nbsp; &nbsp; &nbsp; &nbsp; &nbsp; 43.773&nbsp; &nbsp; &nbsp; &nbsp; &nbsp; &nbsp; &nbsp; &nbsp; 46.979&nbsp; &nbsp; &nbsp; &nbsp; &nbsp; &nbsp; &nbsp; &nbsp; 50.892&nbsp; &nbsp; &nbsp; &nbsp; &nbsp; &nbsp; &nbsp; &nbsp; 53.672"
      ],
      "text/plain": [
       "<IPython.core.display.Markdown object>"
      ]
     },
     "metadata": {},
     "output_type": "display_data"
    },
    {
     "data": {
      "text/html": [
       "<span style=\"color:blue\">------------------------------------------------------------------------------------------------------------------------------------------------------------</span>"
      ],
      "text/plain": [
       "<IPython.core.display.HTML object>"
      ]
     },
     "metadata": {},
     "output_type": "display_data"
    }
   ],
   "source": [
    "%matplotlib inline\n",
    "import math\n",
    "import numpy as np\n",
    "from IPython.display import display, Markdown,HTML\n",
    "from scipy import stats as st\n",
    "\n",
    "def printLine(n):\n",
    "    sline=\"\"\n",
    "    for _ in range(n):\n",
    "        sline=sline+\"-\"\n",
    "    display(HTML('<span style=\"color:blue\">{0}</span>'.format(sline)))\n",
    "\n",
    "nn=[r for r in range(1,31) ]\n",
    "alphas=[0.995,0.99,0.975,0.95,0.05,0.025,0.01,0.005]\n",
    "display(Markdown(\"&nbsp; \"*40+\"$\\\\chi^2_{\\\\alpha,n}$  Table\"))\n",
    "printLine(156)\n",
    "s=\"n \"\n",
    "for a in alphas:\n",
    "    s=s+r\"&nbsp; \"*7+r\"$\\alpha$=\"+str(a)\n",
    "display(Markdown(s))\n",
    "#print(98*\"-\")\n",
    "printLine(156)\n",
    "for n in nn:\n",
    "    X=st.chi2(n)\n",
    "    s=str(n)\n",
    "    for a in alphas:\n",
    "        if(X.ppf(1-a)>=10):\n",
    "            ss=str(round(X.ppf(1-a),3))\n",
    "        else:\n",
    "            if n==1 and a> 0.9:\n",
    "                ss=\"{:.7f}\".format(X.ppf(1-a))\n",
    "            else:\n",
    "                ss=str(round(X.ppf(1-a),4))\n",
    "        ss=ss+(6-len(str(ss)))*'0'\n",
    "        \n",
    "        if n==1:\n",
    "            if a> 0.9:\n",
    "                s= s+\"&nbsp; \"*6+ss\n",
    "            else:\n",
    "                s= s+\"&nbsp;\"*14+ss\n",
    "        else:\n",
    "            s= s+\"&nbsp; \"*8+ss\n",
    "    display(Markdown(s))\n",
    "\n",
    "printLine(156)"
   ]
  },
  {
   "cell_type": "markdown",
   "metadata": {},
   "source": [
    "The Above table can be found in the book\"Introduction to Probability and statistics for Engineers and scientists\"- Sheldon Ross (Page Number:643)"
   ]
  },
  {
   "cell_type": "markdown",
   "metadata": {},
   "source": [
    "The Chi-Squared distribution often arises in practice as being the distribution of the square of the error involved when one attempt to hits a target in $n-$ dimensional space when the coordinate errors are taken to be independent standard normal random variable. It is widely used distribution in statistical inference (Confidence Intervals, Testing of Hypothesis)"
   ]
  },
  {
   "cell_type": "code",
   "execution_count": 5,
   "metadata": {},
   "outputs": [
    {
     "data": {
      "image/png": "[encoded data removed]",
      "text/plain": [
       "<Figure size 576x432 with 1 Axes>"
      ]
     },
     "metadata": {
      "needs_background": "light"
     },
     "output_type": "display_data"
    }
   ],
   "source": [
    "import math\n",
    "import numpy as np\n",
    "import matplotlib.pyplot as plt\n",
    "%matplotlib inline\n",
    "from scipy import stats\n",
    "\"\"\"\n",
    "Imagine that you are trying to hit the target (0,0,0) in the 3D space.\n",
    "Let (X,Y,Z) is the location that you hit then, assume that errors you make \n",
    "in each direction are independent and normally distributed with mean 0 and variance 1\n",
    "that is  x-cordinate error X-0=X, y-cordinate error Y-0=Y, and z-cordinate error Z-0=Z, \n",
    "are distributed independetly and normally with mean 0   and variance 1.\n",
    "Then (error)^2=(distance between target and location that you hit)^2 = (X-0)^2+(Y-0)^2+(Z-0)^2=X^2+Y^2+Z^2\n",
    "\n",
    "\"\"\"\n",
    "Infty =50\n",
    "t=np.linspace(0,Infty,1000)\n",
    "Chi2 = stats.chi2(3)\n",
    "# Three independent satndard normal random variables X,Y,Z\n",
    "X,Y,Z = (stats.norm(0, 1),stats.norm(0, 1),stats.norm(0, 1)) \n",
    "\n",
    "# Generating data for 1 million attempts to hit a target\n",
    "(x,y,z)=(X.rvs(1000000),Y.rvs(1000000),Z.rvs(1000000))\n",
    "\n",
    "# error2= dist((0,0,0),(x,y,z))^2 : \n",
    "#which is kind of square of error that you are making when you try to hit the target\n",
    "\n",
    "error2=x**2+y**2+z**2  # chi-squreed data of size 1000000 with 3 degrees of freedom\n",
    "plt.figure(figsize=(8,6))\n",
    "plt.hist(error2,bins=50,density=True,label=r\" histogram of $\\chi^2_3$ data\")\n",
    "plt.plot(t,Chi2.pdf(t),c='r',label=r\"$\\chi^2_3$ PDF\")\n",
    "plt.title(r\"Histogram of $\\chi^2_3$ data\" )\n",
    "plt.xlim(0,50)\n",
    "plt.ylim(0,0.5)\n",
    "plt.legend()\n",
    "plt.show()"
   ]
  },
  {
   "cell_type": "markdown",
   "metadata": {},
   "source": [
    "**Problem:** Suppose that we are attempting to locate a target in three-dimensional space, and that the three coordinate errors(in meters) of the point chosen are independent normal random variables with mean 0 and standard deviation 2. Find the probability that the distance between the point chosen and target exceeds 3 meters."
   ]
  },
  {
   "cell_type": "markdown",
   "metadata": {},
   "source": [
    "*solution:* Let $D$ denote the distance, and $X_i$ denote the error in the $i^{th}$ coordinate and $X_i\\sim N(0,4)$ for $i=1,2,3$"
   ]
  },
  {
   "cell_type": "markdown",
   "metadata": {},
   "source": [
    "then $D^2=X_1^2 +X_2^2 +X_3^2$"
   ]
  },
  {
   "cell_type": "markdown",
   "metadata": {},
   "source": [
    "Take $Zi=\\frac{X_i - 0}{2}=\\frac{X_i}{2}\\sim N(0,1)$ for $i=1,2,3$ and $Z_1^2+Z_2^2+Z_3^2=\\chi^2_3$"
   ]
  },
  {
   "cell_type": "markdown",
   "metadata": {},
   "source": [
    "$P(D>3)=P(D^2>9)=P(X_1^2 +X_2^2 +X_3^2 >9)=P(Z_1^2+Z_2^2+Z_3^2 >9/4)$"
   ]
  },
  {
   "cell_type": "markdown",
   "metadata": {},
   "source": [
    "&nbsp; &nbsp; &nbsp; &nbsp; &nbsp; &nbsp; &nbsp; &nbsp;$=P(\\chi^2_3 >2.25)=1-P(\\chi^2_3 \\le 2.25)=1-F_{\\chi^2_3}(2.25)=0.5222$&nbsp; &nbsp; ($\\because~$ stats.chi2(3).cdf(2.25)= 0.47783281046460857)"
   ]
  }
 ],
 "metadata": {
  "hide_input": false,
  "kernelspec": {
   "display_name": "Python 3 (ipykernel)",
   "language": "python",
   "name": "python3"
  },
  "language_info": {
   "codemirror_mode": {
    "name": "ipython",
    "version": 3
   },
   "file_extension": ".py",
   "mimetype": "text/x-python",
   "name": "python",
   "nbconvert_exporter": "python",
   "pygments_lexer": "ipython3",
   "version": "3.10.0"
  }
 },
 "nbformat": 4,
 "nbformat_minor": 4
}
