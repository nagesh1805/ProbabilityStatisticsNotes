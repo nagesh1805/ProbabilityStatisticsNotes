{
 "cells": [
  {
   "cell_type": "markdown",
   "metadata": {},
   "source": [
    "<h2 style=\"text-align:center\"> MA2102</h2>\n",
    "<h1 style=\"text-align:center\"> Probability and Statistics</h1>\n",
    "<h4 style=\"text-align:center\"> Lecture-20</h4>"
   ]
  },
  {
   "cell_type": "markdown",
   "metadata": {},
   "source": [
    "In general , probability distribution of $k-$ dimensional random vector $\\underline{X}\\equiv(X_1,X_2,...,X_k)$ is a function $P^{\\underline{X}}:\\mathscr{B}_k\\to \\mathbb{R}$,"
   ]
  },
  {
   "cell_type": "markdown",
   "metadata": {},
   "source": [
    "$P^{\\underline{X}}(B)=P(\\underline{X}\\in B)=P(\\{\\omega\\in\\Omega:(X_1(\\omega),X_2(\\omega),...,X_k(\\omega))\\in B\\})$ for $B\\in \\mathscr{B}_k$"
   ]
  },
  {
   "cell_type": "markdown",
   "metadata": {},
   "source": [
    "Here $P^{\\underline{X}}$ will satisfies three axioms of probability.And $P^{\\underline{X}}$ is called probability distribution of $k-$ dimensional random vector $\\underline{X}\\equiv(X_1,X_2,...,X_k)$"
   ]
  },
  {
   "cell_type": "markdown",
   "metadata": {},
   "source": [
    " "
   ]
  },
  {
   "cell_type": "markdown",
   "metadata": {},
   "source": [
    "$JCDF$ of $\\underline{X}\\equiv(X_1,X_2,...,X_k)$ is defined similarly, $F_{\\underline{X}}:\\mathbb{R}^k\\to\\mathbb{R}$"
   ]
  },
  {
   "cell_type": "markdown",
   "metadata": {},
   "source": [
    "$F_{\\underline{X}}(x_1,x_2,...,x_k)=P(X_1\\le x_1,X_2\\le x_2,...,X_k \\le x_k)$"
   ]
  },
  {
   "cell_type": "markdown",
   "metadata": {},
   "source": [
    "**Properties of $JCDF$:**"
   ]
  },
  {
   "cell_type": "markdown",
   "metadata": {},
   "source": [
    "- $F_{\\underline{X}}(x_1,x_2,...,x_k)$ is non-decreasing right continuous function with respect to each $x_i$(keep other fixed ) for $i=1,2,...,k$"
   ]
  },
  {
   "cell_type": "markdown",
   "metadata": {},
   "source": [
    "- $lim_{x_i\\to\\infty\\forall i=1,2,..k}F_{\\underline{X}}(x_1,x_2,...,x_k)=1$, &nbsp; $lim_{x_i\\to -\\infty\\text{ for some } i=1,2,..k}F_{\\underline{X}}(x_1,x_2,...,x_k)=0$"
   ]
  },
  {
   "cell_type": "markdown",
   "metadata": {},
   "source": [
    "For  discrete random vector $\\underline{X}=(X_1,X_2,...,X_k)$,<br><br> $S_\\underline{X}=\\{(x_1,x_2,...,x_k)\\in \\mathbb{R}^k :P(X_1=x_1,X_2=x_2,...,X_k=x_k)>0\\}$ will be support of $\\underline{X}$"
   ]
  },
  {
   "cell_type": "markdown",
   "metadata": {},
   "source": [
    "$JPMF$ of discrete random vector $\\underline{X}=(X_1,X_2,...,X_k)$ is $p_{\\underline{X}}(x_1,x_2,...,x_k)=P(X_1=x_1,X_2=x_2,...,X_k=x_k)$"
   ]
  },
  {
   "cell_type": "markdown",
   "metadata": {},
   "source": [
    "$JPMF$  $p_{\\underline{X}}:\\mathbb{R}^k\\to\\mathbb{R}$\n",
    "<br><br> $p_{\\underline{X}}(x_1,x_2,...,x_k)=\\left\\{\\begin{matrix}\n",
    "P(X_1=x_1,X_2=x_2,...,X_k=x_k) &  \\text{if }(x_1,x_2,...,x_k)\\in S_\\underline{X} \\\\ \n",
    "&\\\\\n",
    "0 & \\text{otherwise}\n",
    "\\end{matrix}\\right.$"
   ]
  },
  {
   "cell_type": "markdown",
   "metadata": {},
   "source": [
    "**Properties of $JPMF$:**"
   ]
  },
  {
   "cell_type": "markdown",
   "metadata": {},
   "source": [
    "- $p_\\underline{X}(x_1,x_2,...,x_k)\\ge 0$"
   ]
  },
  {
   "cell_type": "markdown",
   "metadata": {},
   "source": [
    "- $\\underset{(x_1,x_2,...,x_k)\\in S_{\\underline{X}}}{\\sum }p_{\\underline{X}}(x_1,x_2,...,x_k)=1$"
   ]
  },
  {
   "cell_type": "markdown",
   "metadata": {},
   "source": [
    "For $B\\in \\mathscr{B}_k$, $P(\\underline{X}\\in B)=\\underset{(x_1,x_2,...,x_k)\\in S_{\\underline{X}}\\cap B}{\\sum}p_{\\underline{X}}(x_1,x_2,...,x_k)$"
   ]
  },
  {
   "cell_type": "markdown",
   "metadata": {},
   "source": [
    "For $1\\le i_1<i_2<..<i_r\\le k$, $JPMF$ of discrete random vector $(X_{i_1},X_{i_2},...,X_{i_r})$ is,"
   ]
  },
  {
   "cell_type": "markdown",
   "metadata": {},
   "source": [
    "$p_{X_{i_1},X_{i_2},...,X_{i_r}}(x_{i_1},x_{i_2},...,x_{i_r})=\\underset{x_{i_{r+1}}\\in S_{X_{i_{r+1}}}}{\\sum}\\underset{x_{i_{r+2}}\\in S_{X_{i_{r+2}}}}{\\sum}...\\underset{x_{i_{k}}\\in S_{X_{i_{k}}}}{\\sum}p_{\\underline{X}}(x_1,x_2,...,x_k)$ "
   ]
  },
  {
   "cell_type": "markdown",
   "metadata": {},
   "source": [
    "Conditional $JPMF$ of $(X_{i_{r+1}},X_{i_{r+2}},...,X_{i_n})$  given that $X_{i_{1}}=x_{i_{1}},X_{i_{2}}=x_{i_{2}},...,X_{i_r}=x_{i_r}$ is<br><br>\n",
    "$p_{{(X_{i_{r+1}},X_{i_{r+2}},...,X_{i_n})}/{(X_{i_1},X_{i_2},...,X_{i_r})}}\\left((x_{i_{r+1}},x_{i_{r+2}},...,x_{i_n})/(x_{i_1},x_{i_2},...,x_{i_r})\\right)=\\frac{p_{\\underline{X}}(x_1,x_2,...,x_k)}{p_{X_{i_1},X_{i_2},...,X_{i_r}}(x_{i_1},x_{i_2},...,x_{i_r})}$\n"
   ]
  },
  {
   "cell_type": "markdown",
   "metadata": {},
   "source": [
    "where $\\{i_1,i_2,i_3,...,i_k\\}=\\{1,2,3,...,k\\}$"
   ]
  },
  {
   "cell_type": "markdown",
   "metadata": {},
   "source": [
    "$JPDF$ of continuous random vector $\\underline{X}=(X_1,X_2,...,X_k)$ is a non-negative function $f_{\\underline{X}}(x_1,x_2,...,x_k)$ such that $F_{\\underline{X}}(x_1,x_2,...,x_k)=\\int_{-\\infty}^{x_1}\\int_{-\\infty}^{x_2}...\\int_{-\\infty}^{x_k}f_{\\underline{X}}(t_1,t_2,...,t_k)dt_1dt_2...dt_k$"
   ]
  },
  {
   "cell_type": "markdown",
   "metadata": {},
   "source": [
    "and if $f_{\\underline{X}}$ is continuous at $(x_1,x_2,...,x_k)$ then $\\frac{\\partial^kF_{\\underline{X}(x_1,x_2,...,x_k)}}{\\partial x_1 \\partial x_2 ...\\partial x_k}=f_{\\underline{X}}(x_1,x_2,...,x_k)$"
   ]
  },
  {
   "cell_type": "markdown",
   "metadata": {},
   "source": [
    "**Properties of $JPDF$:**"
   ]
  },
  {
   "cell_type": "markdown",
   "metadata": {},
   "source": [
    "- $f_{\\underline{X}}(x_1,x_2,...,x_k)\\ge 0$"
   ]
  },
  {
   "cell_type": "markdown",
   "metadata": {},
   "source": [
    "- $\\int_{-\\infty}^{\\infty}\\int_{-\\infty}^{\\infty}...\\int_{-\\infty}^{\\infty}f_{\\underline{X}}(x_1,x_2,...,x_k)dx_1dx_2...dx_k=1$"
   ]
  },
  {
   "cell_type": "markdown",
   "metadata": {},
   "source": [
    "For $B\\in \\mathscr{B}_k$, $P(\\underline{X}\\in B)=\\underset{B}{\\int\\int...\\int}f_{\\underline{X}}(x_1,x_2,...,x_k)dx_1dx_2...dx_k$"
   ]
  },
  {
   "cell_type": "markdown",
   "metadata": {},
   "source": [
    "For $1\\le i_1<i_2<..<i_r\\le k$, $JPDF$ of random vector $(X_{i_1},X_{i_2},...,X_{i_r})$ is,"
   ]
  },
  {
   "cell_type": "markdown",
   "metadata": {},
   "source": [
    "$f_{X_{i_1},X_{i_2},...,X_{i_r}}(x_{i_1},x_{i_2},...,x_{i_r})=\\int_{-\\infty}^{\\infty}\\int_{-\\infty}^{\\infty}...\\int_{-\\infty}^{\\infty}f_{\\underline{X}}(x_1,x_2,...,x_k)dx_{i_{r+1}}dx_{i_{r+2}}...dx_{i_{k}}$ "
   ]
  },
  {
   "cell_type": "markdown",
   "metadata": {},
   "source": [
    "Conditional $JPDF$ of $(X_{i_{r+1}},X_{i_{r+2}},...,X_{i_k})$  given that $X_{i_{1}}=x_{i_{1}},X_{i_{2}}=x_{i_{2}},...,X_{i_r}=x_{i_r}$ is<br><br>\n",
    "$f_{{(X_{i_{r+1}},X_{i_{r+2}},...,X_{i_k})}/{(X_{i_1},X_{i_2},...,X_{i_r})}}\\left((x_{i_{r+1}},x_{i_{r+2}},...,x_{i_k})/(x_{i_1},x_{i_2},...,x_{i_r})\\right)=\\frac{f_{\\underline{X}}(x_1,x_2,...,x_k)}{f_{X_{i_1},X_{i_2},...,X_{i_r}}(x_{i_1},x_{i_2},...,x_{i_r})}$\n"
   ]
  },
  {
   "cell_type": "markdown",
   "metadata": {},
   "source": [
    "where $\\{i_1,i_2,i_3,...,i_k\\}=\\{1,2,3,...,k\\}$"
   ]
  },
  {
   "cell_type": "markdown",
   "metadata": {},
   "source": [
    "## Independent Random Variables:"
   ]
  },
  {
   "cell_type": "markdown",
   "metadata": {},
   "source": [
    "Let $X,Y$ are two random variables defined on probability space $(\\Omega,\\mathscr{F},P)$. We say $X,Y$ are independent if $P((X,Y)\\in B_1\\times B_2)=P(X\\in B_1)P(Y\\in B_2)$ $\\forall~B_1,B_2\\in\\mathscr{B}$"
   ]
  },
  {
   "cell_type": "markdown",
   "metadata": {},
   "source": [
    "Intuitively we say $X,Y$ are independent if events that are expressed in terms of $X$ are independent of events expressed in terms of $Y$."
   ]
  },
  {
   "cell_type": "markdown",
   "metadata": {},
   "source": [
    "Equivalently we can say $X,Y$ are independent if $F_{X,Y}(x,y)=F_X(x)F_Y(y)~\\forall~(x,y)\\in\\mathbb{R}^2$"
   ]
  },
  {
   "cell_type": "markdown",
   "metadata": {},
   "source": [
    "i.e Joint $CDF$ is product of marginal $CDF$'s"
   ]
  },
  {
   "cell_type": "markdown",
   "metadata": {},
   "source": [
    "- If $X,Y$ are discrete (<span style=\"color:blue\">continuous</span>), then we can say $X,Y$ are independent if $p_{X,Y}(x,y)=p_X(x)p_Y(y)$ (<span style=\"color:blue\">$f_{X,Y}(x,y)=f_X(x)f_Y(y)$</span>) $~\\forall~(x,y)\\in \\mathbb{R}^2$"
   ]
  },
  {
   "cell_type": "markdown",
   "metadata": {},
   "source": [
    "We say  k-random variables $X_1,X_2,...,X_k$ defined on probability space $(\\Omega,\\mathscr{F},P)$ are said to be independent, if <br><br>$F_{\\underline{X}}(x_1,x_2,...,x_k)=\\prod_{i=1}^kF_{X_i}(x_i)$ $\\forall (x_1,x_2,...,x_k)\\in \\mathbb{R}^k$"
   ]
  },
  {
   "cell_type": "markdown",
   "metadata": {},
   "source": [
    "Further if $X_1,X_2,...,X_k$ are discrete type then we can also say that $X_1,X_2,...,X_k$ are independent if <br><br>\n",
    "$p_{\\underline{X}}(x_1,x_2,...,x_k)=\\prod_{i=1}^kp_{X_i}(x_i)$ $\\forall (x_1,x_2,...,x_k)\\in \\mathbb{R}^k$"
   ]
  },
  {
   "cell_type": "markdown",
   "metadata": {},
   "source": [
    "if $X_1,X_2,...,X_k$ are continuous type then we can also say that $X_1,X_2,...,X_k$ are independent if <br><br>\n",
    "$f_{\\underline{X}}(x_1,x_2,...,x_k)=\\prod_{i=1}^kf_{X_i}(x_i)$ $\\forall (x_1,x_2,...,x_k)\\in \\mathbb{R}^k$"
   ]
  },
  {
   "cell_type": "markdown",
   "metadata": {},
   "source": [
    "Where $\\underline{X}=(X_1,X_2,...,X_k)$"
   ]
  },
  {
   "cell_type": "markdown",
   "metadata": {},
   "source": [
    "**Example:** Let $X,Y$ are two continuous random variables with $JPDF$ $f_{X,Y}(x,y)=\\left\\{\\begin{matrix}\n",
    " ye^{-(x+y)}& x>0, y>0 \\\\ \n",
    " 0& \\text{otherwise}\n",
    "\\end{matrix}\\right.$"
   ]
  },
  {
   "cell_type": "markdown",
   "metadata": {},
   "source": [
    "then marginal $PDF$'s of $X,Y$ are,"
   ]
  },
  {
   "cell_type": "markdown",
   "metadata": {},
   "source": [
    "$f_X(x)=\\int_{-\\infty}^{\\infty}f_{X,Y}(x,y)dy=\\int_{0}^{\\infty}ye^{-(x+y)}dy=e^{-x}\\int_{0}^{\\infty}y^{2-1}e^{-y}dy=e^{-x}\\Gamma(2)=e^{-x}1!$"
   ]
  },
  {
   "cell_type": "markdown",
   "metadata": {},
   "source": [
    "$f_X(x)=\\left\\{\\begin{matrix}\n",
    " e^{-x}&x>0 \\\\ \n",
    " 0&x\\le 0 \n",
    "\\end{matrix}\\right.$"
   ]
  },
  {
   "cell_type": "markdown",
   "metadata": {},
   "source": [
    "$f_Y(y)=\\int_{-\\infty}^{\\infty}f_{X,Y}(x,y)dx=\\int_{0}^{\\infty}ye^{-(x+y)}dx=ye^{-y}\\int_{0}^{\\infty}e^{-x}dx=ye^{-y}\\Gamma(1)$"
   ]
  },
  {
   "cell_type": "markdown",
   "metadata": {},
   "source": [
    "$f_Y(y)=\\left\\{\\begin{matrix}\n",
    " ye^{-y}&y>0 \\\\ \n",
    " 0&y\\le 0 \n",
    "\\end{matrix}\\right.$"
   ]
  },
  {
   "cell_type": "markdown",
   "metadata": {},
   "source": [
    "here we can see that $f_{X,Y}(x,y)=f_X(x)f_Y(y)$"
   ]
  },
  {
   "cell_type": "markdown",
   "metadata": {},
   "source": [
    "$\\therefore$ $X,Y$ are independent random variables."
   ]
  },
  {
   "cell_type": "markdown",
   "metadata": {},
   "source": [
    "**Example:**  Let $X,Y$ are two continuous random variables with $JPDF$  $f_{X,Y}(x,y)=\\left\\{\\begin{matrix}\n",
    " 10xy^2& 0<x<y<1 \\\\ \n",
    " 0& \\text{otherwise} \n",
    "\\end{matrix}\\right.$"
   ]
  },
  {
   "cell_type": "markdown",
   "metadata": {},
   "source": [
    "$f_X(x)=\\left\\{\\begin{matrix}\n",
    " \\frac{10}{3}x(1-x^3)& 0<x<1 \\\\ \n",
    " 0&\\text{otherwise} \n",
    "\\end{matrix}\\right.$"
   ]
  },
  {
   "cell_type": "markdown",
   "metadata": {},
   "source": [
    "$f_Y(y)=\\left\\{\\begin{matrix}\n",
    " 5y^4& 0<y<1 \\\\ \n",
    " 0&\\text{otherwise} \n",
    "\\end{matrix}\\right.$"
   ]
  },
  {
   "cell_type": "markdown",
   "metadata": {},
   "source": [
    "Here can see that $f_{X,Y}(x,y)\\ne f_X(x)f_Y(y)$"
   ]
  },
  {
   "cell_type": "markdown",
   "metadata": {},
   "source": [
    "$\\therefore$ $X,Y$ are not independent random variables."
   ]
  },
  {
   "cell_type": "markdown",
   "metadata": {},
   "source": [
    "**Example:** Let $X,Y$ are discrete random variable with $JPMF$"
   ]
  },
  {
   "cell_type": "markdown",
   "metadata": {},
   "source": [
    "\n",
    "<table style=\"width:50%\">\n",
    "  <tr>\n",
    "    <th style=\"padding:15px;text-align:right\">i \\ j</th>\n",
    "    <th style=\"padding:15px\">0</th> \n",
    "    <th style=\"padding:15px\">1</th>\n",
    "    <th style=\"padding:15px\">$p_X(i)$ </th>\n",
    "  </tr>\n",
    "  <tr>\n",
    "     <td><b>0</b></td>\n",
    "    <td>$\\frac{1}{4}$</td>\n",
    "    <td>$\\frac{1}{4}$</td>\n",
    "    <td>$\\frac{1}{2}$</td>\n",
    "  </tr>\n",
    "  <tr>\n",
    "     <td ><b>1</b></td>\n",
    "    <td>$\\frac{1}{4}$</td>\n",
    "    <td>$\\frac{1}{4}$</td>\n",
    "     <td>$\\frac{1}{2}$</td>\n",
    "  </tr>\n",
    "\n",
    "    \n",
    "  <tr>\n",
    "      <td><b>$p_{Y}(j)$</b></td>\n",
    "    <td>$\\frac{1}{2}$</td>\n",
    "    <td>$\\frac{1}{2}$</td>\n",
    "    <td>$1$</td>\n",
    "  </tr>\n",
    "</table>"
   ]
  },
  {
   "cell_type": "markdown",
   "metadata": {},
   "source": [
    "Here we can see that $p_{X,Y}(i,j)=p_X(i)p_Y(j)$ $\\forall i,j$"
   ]
  },
  {
   "cell_type": "markdown",
   "metadata": {},
   "source": [
    "$\\therefore$ $X,Y$ are independent"
   ]
  },
  {
   "cell_type": "markdown",
   "metadata": {},
   "source": [
    "**Note:** "
   ]
  },
  {
   "cell_type": "markdown",
   "metadata": {},
   "source": [
    "- If $X,Y$ are independent discrete random variable, then $p_{X/Y}(i/j)=p_X(i)$, and $p_{Y/X}(j/i)=p_Y(j)$"
   ]
  },
  {
   "cell_type": "markdown",
   "metadata": {},
   "source": [
    "-  If $X,Y$ are independent continuous random variable, then $f_{X/Y}(x/y)=f_X(x)$, and $f_{Y/X}(y/x)=f_Y(y)$"
   ]
  },
  {
   "cell_type": "markdown",
   "metadata": {},
   "source": [
    "### Expectation:"
   ]
  },
  {
   "cell_type": "markdown",
   "metadata": {},
   "source": [
    "Let $g:\\mathbb{R}^2\\to\\mathbb{R}$ be function of two variable, and<br> If $(X,Y)$ is discrete bivariate random variable with $JPMF$ $p_{X,Y}$ then <br>$E(g(X,Y))=\\underset{(i,j)\\in S_{X,Y}}{\\underset{i}{\\sum}\\underset{j}{\\sum}}g(i,j)p_{X,Y}(i,j)$ provided right hand side sum converges absolutely."
   ]
  },
  {
   "cell_type": "markdown",
   "metadata": {},
   "source": [
    "If $(X,Y)$ is continuous bivariate random variable with $JPDF$ $f_{X,Y}$ then <br>$E(g(X,Y))=\\int_{-\\infty}^{\\infty}\\int_{-\\infty}^{\\infty}g(x,y)f_{X,Y}(x,y)dxdy$ provided right hand side integral converges absolutely."
   ]
  },
  {
   "cell_type": "markdown",
   "metadata": {},
   "source": [
    "In general, Let $g:\\mathbb{R}^k\\to\\mathbb{R}$ be function of $k$ variable, and<br> If $\\underline{X}\\equiv(X_1,X_2,...,X_k)$ is discrete $k-$ dimensional random vector with $JPMF$ $p_{\\underline{X}}$ then <br>$E(g(X_1,X_2,...,X_k))=\\underset{(i_1,i_2,...,i_k)\\in S_{\\underline{X}}}{\\underset{i_1}{\\sum}\\underset{i_2}{\\sum}}...{\\underset{i_k}{\\sum}}~g(i_1,i_2,...,i_k)p_{\\underline{X}}(i_1,i_2,...,i_k)$ provided right hand side sum converges absolutely."
   ]
  },
  {
   "cell_type": "markdown",
   "metadata": {},
   "source": [
    "If $\\underline{X}\\equiv(X_1,X_2,...,X_k)$ is continuous $k-$ dimensional random vector with $JPDF$ $f_{\\underline{X}}$ then <br>$E(g(X_1,X_2,...,X_k))=\\int_{-\\infty}^{\\infty}\\int_{-\\infty}^{\\infty}...\\int_{-\\infty}^{\\infty}~g(x_1,x_2,...,x_k)f_{\\underline{X}}(x_1,x_2,...,x_k)dx_1dx_2...dx_k$ provided right hand side integral converges absolutely."
   ]
  },
  {
   "cell_type": "markdown",
   "metadata": {},
   "source": [
    "**Theorem:** If $E(g_1(X,Y))$,$E(g_2(X,Y))$ exists, then $E(k_1g_1(X,Y)+k_2g_2(X,Y))$ exists for all $k_1,k_2\\in \\mathbb{R}$, and <br><br>\n",
    "$E(k_1g_1(X,Y)+k_2g_2(X,Y))=k_1E(g_1(X,Y))+k_2 E(g_2(X,Y))$"
   ]
  },
  {
   "cell_type": "markdown",
   "metadata": {
    "slideshow": {
     "slide_type": "fragment"
    }
   },
   "source": [
    "*proof:* Here $\\int_{-\\infty}^{\\infty}\\int_{-\\infty}^{\\infty}|g_1(x,y)|f_{X,Y}(x,y)dxdy<\\infty$ and  $\\int_{-\\infty}^{\\infty}\\int_{-\\infty}^{\\infty}|g_2(x,y)|f_{X,Y}(x,y)dxdy<\\infty$ "
   ]
  },
  {
   "cell_type": "markdown",
   "metadata": {
    "slideshow": {
     "slide_type": "fragment"
    }
   },
   "source": [
    "$\\int_{-\\infty}^{\\infty}\\int_{-\\infty}^{\\infty}|k_1g_1(x,y)+k_2g_2(x,y)|f_{X,Y}(x,y)dxdy$"
   ]
  },
  {
   "cell_type": "markdown",
   "metadata": {
    "slideshow": {
     "slide_type": "fragment"
    }
   },
   "source": [
    "$\\le\\int_{-\\infty}^{\\infty}\\int_{-\\infty}^{\\infty}\\left(|k_1||g_1(x,y)|+|k_2||g_2(x,y)|\\right)f_{X,Y}(x,y)dxdy$ "
   ]
  },
  {
   "cell_type": "markdown",
   "metadata": {
    "slideshow": {
     "slide_type": "fragment"
    }
   },
   "source": [
    "$=|k_1|\\int_{-\\infty}^{\\infty}\\int_{-\\infty}^{\\infty}|g_1(x,y)|f_{X,Y}(x,y)dxdy + |k_2|\\int_{-\\infty}^{\\infty}\\int_{-\\infty}^{\\infty}|g_2(x,y)|f_{X,Y}(x,y)dxdy<\\infty$ "
   ]
  },
  {
   "cell_type": "markdown",
   "metadata": {
    "slideshow": {
     "slide_type": "skip"
    }
   },
   "source": [
    "$\\therefore E(k_1g_1(X,Y)+k_2g_2(X,Y))$ exists"
   ]
  },
  {
   "cell_type": "markdown",
   "metadata": {
    "slideshow": {
     "slide_type": "subslide"
    }
   },
   "source": [
    "$E(k_1g_1(X,Y)+k_2g_2(X,Y)=\\int_{-\\infty}^{\\infty}\\int_{-\\infty}^{\\infty}\\left(k_1g_1(x,y)+k_2g_2(x,y)\\right)f_{X,Y}(x,y)dxdy$ "
   ]
  },
  {
   "cell_type": "markdown",
   "metadata": {
    "slideshow": {
     "slide_type": "fragment"
    }
   },
   "source": [
    "&nbsp; &nbsp; &nbsp; &nbsp; &nbsp; &nbsp; &nbsp; &nbsp; &nbsp; &nbsp; &nbsp; &nbsp; &nbsp; &nbsp; &nbsp; &nbsp; &nbsp; &nbsp; &nbsp; &nbsp; &nbsp; &nbsp; &nbsp; &nbsp; &nbsp; &nbsp; $= k_1\\int_{-\\infty}^{\\infty}\\int_{-\\infty}^{\\infty}g_1(x,y)f_{X,Y}(x,y)dxdy+k_2\\int_{-\\infty}^{\\infty}\\int_{-\\infty}^{\\infty}g_2(x,y)f_{X,Y}(x,y)dxdy$"
   ]
  },
  {
   "cell_type": "markdown",
   "metadata": {
    "slideshow": {
     "slide_type": "fragment"
    }
   },
   "source": [
    "$E(k_1g_1(X,Y)+k_2g_2(X,Y)=k_1E(g_1(X,Y))+k_2 E(g_2(X,Y))$"
   ]
  },
  {
   "cell_type": "markdown",
   "metadata": {},
   "source": [
    "**Corollary 1:** (Linearity of Expectation) If $E(g_i(X,Y))$ exists, for $i=1,2,...,n$, then <br><br>\n",
    "$E\\left(\\sum_{i=1}^{n}k_ig_i(X,Y)\\right)$ exists and $E\\left(\\sum_{i=1}^{n}k_ig_i(X,Y)\\right)=\\sum_{i=1}^{n}k_iE(g_i(X,Y))$"
   ]
  },
  {
   "cell_type": "markdown",
   "metadata": {},
   "source": [
    "**Corollary 2:**  Let $(X,Y)$ be Bivariate random variable with both $E(X),E(Y)$ exists,then $E(aX+bY)$ exists, and $E(aX+bY)=aE(X)+bE(Y)$"
   ]
  },
  {
   "cell_type": "markdown",
   "metadata": {},
   "source": [
    "**Corollary 3:**  (Linearity of Expectation)Let $\\underline{X}\\equiv(X_1,X_2,...,X_k)$ and $E(g_i(\\underline{X}))$ exists, for $i=1,2,...,n$, then <br><br>\n",
    "$E\\left(\\sum_{i=1}^{n}k_ig_i(\\underline{X})\\right)$ exists and $E\\left(\\sum_{i=1}^{n}k_ig_i(\\underline{X})\\right)=\\sum_{i=1}^{n}k_iE(g_i(\\underline{X}))$"
   ]
  },
  {
   "cell_type": "markdown",
   "metadata": {},
   "source": [
    "**Corollary 4:** Let $\\underline{X}=(X_1,X_2,...,X_k)$ be a random vector with $E(X_i)$ exists for $i=1,2,...,k$ , then $E\\left(\\sum_{i=1}^{k}a_iX_i\\right)$ exists and  then  $E\\left(\\sum_{i=1}^{k}a_iX_i\\right)=\\sum_{i=1}^{k}a_iE(X_i)$"
   ]
  },
  {
   "cell_type": "markdown",
   "metadata": {},
   "source": [
    "**Theorem:** If $X,Y$ are independent random variables, then for any functions $g,h:\\mathbb{R}\\to \\mathbb{R}$ , then $E(g(X)h(Y))=E(g(X))E(h(Y))$"
   ]
  },
  {
   "cell_type": "markdown",
   "metadata": {},
   "source": [
    "*proof:* We will prove it by assuming $X,Y$ are jointly continuous random variables."
   ]
  },
  {
   "cell_type": "markdown",
   "metadata": {},
   "source": [
    "Since $X,Y$ are independent, we have $f_{X,Y}(x,y)=f_X(x)f_Y(y)$"
   ]
  },
  {
   "cell_type": "markdown",
   "metadata": {},
   "source": [
    "$E(g(X)h(Y))=\\int_{-\\infty}^{\\infty}\\int_{-\\infty}^{\\infty}g(x)h(y)f_{X,Y}(x,y)dxdy$"
   ]
  },
  {
   "cell_type": "markdown",
   "metadata": {},
   "source": [
    "&nbsp; &nbsp; &nbsp; &nbsp; &nbsp; &nbsp; &nbsp; &nbsp; &nbsp; &nbsp; &nbsp; &nbsp;$=\\int_{-\\infty}^{\\infty}\\int_{-\\infty}^{\\infty}g(x)h(y)f_X(x)f_Y(y)dxdy$"
   ]
  },
  {
   "cell_type": "markdown",
   "metadata": {},
   "source": [
    "&nbsp; &nbsp; &nbsp; &nbsp; &nbsp; &nbsp; &nbsp; &nbsp; &nbsp; &nbsp; &nbsp; &nbsp;$=\\int_{-\\infty}^{\\infty}g(x)f_X(x)dx\\int_{-\\infty}^{\\infty}h(y)f_Y(y)dy=E(g(X))E(h(Y))$"
   ]
  },
  {
   "cell_type": "markdown",
   "metadata": {},
   "source": [
    "**Corollary:** If $X,Y$ are independent then $E(XY)=E(X)E(Y)$"
   ]
  },
  {
   "cell_type": "markdown",
   "metadata": {},
   "source": [
    "*proof:* $g(X)=X,h(Y)=Y$ in the above theorem"
   ]
  },
  {
   "cell_type": "markdown",
   "metadata": {},
   "source": [
    "<h3> Cauchy-Schwarz inequality</h3>"
   ]
  },
  {
   "cell_type": "markdown",
   "metadata": {},
   "source": [
    "**Theorem:** Let $(X,Y)$ be a bivariate random variable, then $\\left(E(XY)\\right)^2\\le E(X^2)E(Y^2)$"
   ]
  },
  {
   "cell_type": "markdown",
   "metadata": {},
   "source": [
    "*proof:* for $t\\in \\mathbb{R}$ Consider $E((tX+Y)^2)>0 $ (unless $P(Y=-tX)=1$, in which case inequality holds with equality)"
   ]
  },
  {
   "cell_type": "markdown",
   "metadata": {},
   "source": [
    " $E(t^2X^2+2tXY+Y^2)> 0\\implies t^2E(X^2)+2tE(XY)+E(Y^2)> 0$&nbsp; &nbsp; ---------(1)"
   ]
  },
  {
   "cell_type": "markdown",
   "metadata": {},
   "source": [
    "(1) is a qudratic inequation in $t$, and $t^2E(X^2)+2tE(XY)+E(Y^2)> 0~~\\forall t\\in \\mathbb{R}$"
   ]
  },
  {
   "cell_type": "markdown",
   "metadata": {},
   "source": [
    " so $\\Delta=(2E(XY))^2-4(E(X^2))(E(Y^2))< 0$"
   ]
  },
  {
   "cell_type": "markdown",
   "metadata": {},
   "source": [
    " $4(E(XY))^2-4(E(X^2))(E(Y^2))< 0$"
   ]
  },
  {
   "cell_type": "markdown",
   "metadata": {},
   "source": [
    " $(E(XY))^2<(E(X^2))(E(Y^2))$"
   ]
  },
  {
   "cell_type": "markdown",
   "metadata": {},
   "source": [
    "$\\therefore$ $\\left(E(XY)\\right)^2\\le E(X^2)E(Y^2)$"
   ]
  },
  {
   "cell_type": "markdown",
   "metadata": {},
   "source": [
    "**Product Moments:**"
   ]
  },
  {
   "cell_type": "markdown",
   "metadata": {},
   "source": [
    "$\\mu_{r,s}^{'}=E(X^r Y^s)$ $\\leftarrow$ $(r,s)^{th}$ non-central product moment"
   ]
  },
  {
   "cell_type": "markdown",
   "metadata": {},
   "source": [
    "$\\mu_{1,1}^{'}=E(XY)$, $\\mu_{1,0}^{'}=E(X)=\\mu_X$, and $\\mu_{0,1}^{'}=E(Y)=\\mu_Y$"
   ]
  },
  {
   "cell_type": "markdown",
   "metadata": {},
   "source": [
    "$\\mu_{r,s}=E((X-\\mu_X)^r (Y-\\mu_Y)^s)$ $\\leftarrow$ $(r,s)^{th}$ central product moment"
   ]
  },
  {
   "cell_type": "markdown",
   "metadata": {},
   "source": [
    "$\\mu_{1,1}=E((X-\\mu_X)(Y-\\mu_Y))$"
   ]
  },
  {
   "cell_type": "markdown",
   "metadata": {},
   "source": [
    "**Definition:** The <i>Covariance</i> between $X,Y$ denoted by $Cov(X,Y)$, and it is defined by $Cov(X,Y)=E((X-E(X))(Y-E(Y)))$"
   ]
  },
  {
   "cell_type": "markdown",
   "metadata": {},
   "source": [
    "**Note:**<br>\n",
    "1. $Cov(X,Y)=E((X-E(X))(Y-E(Y)))$"
   ]
  },
  {
   "cell_type": "markdown",
   "metadata": {},
   "source": [
    "&nbsp; &nbsp; &nbsp; &nbsp; &nbsp; &nbsp; &nbsp; &nbsp; &nbsp; &nbsp; $=E\\left[XY-XE(Y)-E(X)Y+E(X)E(Y)\\right]$"
   ]
  },
  {
   "cell_type": "markdown",
   "metadata": {},
   "source": [
    "&nbsp; &nbsp; &nbsp; &nbsp; &nbsp; &nbsp; &nbsp; &nbsp; &nbsp; &nbsp; $=E(XY)-E(X)E(Y)-E(X)E(Y)+E(X)E(Y)$  ($\\because$ Linear property of expectation)"
   ]
  },
  {
   "cell_type": "markdown",
   "metadata": {},
   "source": [
    "$$Cov(X,Y)=E(XY)-E(X)E(Y)$$"
   ]
  },
  {
   "cell_type": "markdown",
   "metadata": {},
   "source": [
    "$Cov(X,Y)$ is also denoted by $\\sigma_{XY}$"
   ]
  },
  {
   "cell_type": "markdown",
   "metadata": {},
   "source": [
    "2. If $X,Y$ are independent then $Cov(X,Y)=0$  &nbsp; ($\\because E(XY)=E(X)E(Y)$ when $X,Y$ are independent)"
   ]
  },
  {
   "cell_type": "markdown",
   "metadata": {},
   "source": [
    "but converse is not true."
   ]
  },
  {
   "cell_type": "markdown",
   "metadata": {},
   "source": [
    "Here is the counter example:"
   ]
  },
  {
   "cell_type": "markdown",
   "metadata": {},
   "source": [
    "Let $X\\sim N(0,1)$, $Y=X^2$"
   ]
  },
  {
   "cell_type": "markdown",
   "metadata": {},
   "source": [
    "As we can see $Y$ is not independent of $X$, and"
   ]
  },
  {
   "cell_type": "markdown",
   "metadata": {},
   "source": [
    "$E(X)=0$, $E(X^2)=Var(X)+(E(X))^2=1+0^2=1$"
   ]
  },
  {
   "cell_type": "markdown",
   "metadata": {},
   "source": [
    "$Cov(X,Y)=E(XY)-E(X)E(Y)$"
   ]
  },
  {
   "cell_type": "markdown",
   "metadata": {},
   "source": [
    "$Cov(X,Y)=E(X^3)-E(X)E(X^2)=0-(0)1=0$  ($\\because E(X^{2k+1})=0$ for $X\\sim N(0,1)$)"
   ]
  },
  {
   "cell_type": "markdown",
   "metadata": {},
   "source": [
    "Here $Cov(X,Y)=0$ but $X,Y$ are not independent."
   ]
  },
  {
   "cell_type": "markdown",
   "metadata": {
    "cell_style": "center"
   },
   "source": [
    "**Theorem:** Let $(X,Y)$ be bivariate random variable then"
   ]
  },
  {
   "cell_type": "markdown",
   "metadata": {
    "cell_style": "split"
   },
   "source": [
    "\n",
    "i. $Cov(X,Y)=Cov(Y,X)$"
   ]
  },
  {
   "cell_type": "markdown",
   "metadata": {
    "cell_style": "split"
   },
   "source": [
    "ii. $Cov(X,X)=Var(X)$"
   ]
  },
  {
   "cell_type": "markdown",
   "metadata": {
    "cell_style": "split"
   },
   "source": [
    "iii. $Cov(X+a,Y+b)=Cov(X,Y)$"
   ]
  },
  {
   "cell_type": "markdown",
   "metadata": {
    "cell_style": "split"
   },
   "source": [
    "iv. $Cov(aX,bY)=abCov(X,Y)$"
   ]
  },
  {
   "cell_type": "markdown",
   "metadata": {},
   "source": [
    "*proof:* Immediately follow from the definition of covariance"
   ]
  },
  {
   "cell_type": "markdown",
   "metadata": {},
   "source": [
    "**Theorem:** Let $X_1,X_2,...,X_n$, and $Y_1,Y_2,...,Y_m$ are random variables defined on probability space $(\\Omega,\\mathscr{F},P)$, then"
   ]
  },
  {
   "cell_type": "markdown",
   "metadata": {},
   "source": [
    "$Cov(\\sum_{i=1}^{n}X_i,\\sum_{j=1}^{m}Y_j)=\\sum_{i=1}^{n}\\sum_{j=1}^{m}Cov(X_i,Y_j)$"
   ]
  },
  {
   "cell_type": "markdown",
   "metadata": {},
   "source": [
    "*proof:* $Cov(\\sum_{i=1}^{n}X_i,\\sum_{j=1}^{m}Y_j)=E\\left(\\left(\\sum_{i=1}^{n}X_i-E\\left(\\sum_{i=1}^{n}X_i\\right)\\right) \\left(\\sum_{j=1}^{m}Y_j-E\\left(\\sum_{j=1}^{m}Y_j\\right)\\right)\\right)$&nbsp; ($\\because$ definition of covariance)"
   ]
  },
  {
   "cell_type": "markdown",
   "metadata": {},
   "source": [
    " &nbsp; &nbsp; &nbsp; &nbsp; &nbsp; &nbsp; &nbsp; &nbsp; &nbsp; &nbsp; &nbsp; &nbsp; &nbsp; &nbsp; &nbsp; &nbsp; &nbsp; &nbsp; &nbsp; &nbsp; &nbsp; &nbsp; &nbsp; &nbsp; &nbsp; &nbsp; $=E\\left(\\left(\\sum_{i=1}^{n}X_i-\\sum_{i=1}^{n}E(X_i)\\right) \\left(\\sum_{j=1}^{m}Y_j-\\sum_{j=1}^{m}E(Y_j)\\right)\\right)$&nbsp; ($\\because$ linearity of expectation)"
   ]
  },
  {
   "cell_type": "markdown",
   "metadata": {},
   "source": [
    " &nbsp; &nbsp; &nbsp; &nbsp; &nbsp; &nbsp; &nbsp; &nbsp; &nbsp; &nbsp; &nbsp; &nbsp; &nbsp; &nbsp; &nbsp; &nbsp; &nbsp; &nbsp; &nbsp; &nbsp; &nbsp; &nbsp; &nbsp; &nbsp; &nbsp; &nbsp; $=E\\left(\\sum_{i=1}^{n}\\sum_{j=1}^{n}(X_i-E(X_i))(Y_j-E(Y_j))\\right)$&nbsp; "
   ]
  },
  {
   "cell_type": "markdown",
   "metadata": {},
   "source": [
    " &nbsp; &nbsp; &nbsp; &nbsp; &nbsp; &nbsp; &nbsp; &nbsp; &nbsp; &nbsp; &nbsp; &nbsp; &nbsp; &nbsp; &nbsp; &nbsp; &nbsp; &nbsp; &nbsp; &nbsp; &nbsp; &nbsp; &nbsp; &nbsp; &nbsp; &nbsp; $=\\sum_{i=1}^{n}\\sum_{j=1}^{m}E\\left((X_i-E(X_i))(Y_j-E(Y_j))\\right)$&nbsp; "
   ]
  },
  {
   "cell_type": "markdown",
   "metadata": {},
   "source": [
    "&nbsp;&nbsp; &nbsp; &nbsp; &nbsp; &nbsp; $Cov(\\sum_{i=1}^{n}X_i,\\sum_{j=1}^{m}Y_j)=\\sum_{i=1}^{n}\\sum_{j=1}^{m}Cov(X_i,Y_j)$"
   ]
  },
  {
   "cell_type": "markdown",
   "metadata": {},
   "source": [
    "**Corollary:**&nbsp;$Cov(\\sum_{i=1}^{n}a_iX_i,\\sum_{j=1}^{m}b_jY_j)=\\sum_{i=1}^{n}\\sum_{j=1}^{m}a_ib_jCov(X_i,Y_j)$"
   ]
  },
  {
   "cell_type": "markdown",
   "metadata": {},
   "source": [
    "**Theorem:** Let $X_1,X_2,...,X_n$ are $n$ random variables defined on $(\\Omega,\\mathscr{F},P)$, then<br><br>\n",
    "$Var(\\sum_{i=1}^{n}a_iX_i)=\\sum_{i=1}^{n}a_i^2Var(X_i)+2\\sum_{i=1}^{n}\\sum_{j=1}^{n}a_ia_jCov(X_i,X_j)$"
   ]
  },
  {
   "cell_type": "markdown",
   "metadata": {},
   "source": [
    "*proof:* $Var(\\sum_{i=1}^{n}a_iX_i)=Cov\\left(\\sum_{i=1}^{n}a_iX_i,\\sum_{j=1}^{n}a_jX_j\\right)$&nbsp; &nbsp; &nbsp;($\\because$$Var(X)=Cov(X,X)$)"
   ]
  },
  {
   "cell_type": "markdown",
   "metadata": {},
   "source": [
    "&nbsp; &nbsp; &nbsp; &nbsp; &nbsp; &nbsp; &nbsp; &nbsp; &nbsp; &nbsp; &nbsp; &nbsp; &nbsp; &nbsp; &nbsp; &nbsp; &nbsp; &nbsp; &nbsp; &nbsp; $=\\sum_{i=1}^{n}\\sum_{j=1}^{n}a_ia_jCov(X_i,X_j)$"
   ]
  },
  {
   "cell_type": "markdown",
   "metadata": {},
   "source": [
    "&nbsp; &nbsp; &nbsp; &nbsp; &nbsp; &nbsp; &nbsp; &nbsp; &nbsp; &nbsp; &nbsp; &nbsp; &nbsp; &nbsp; &nbsp; &nbsp; &nbsp; &nbsp; &nbsp; &nbsp; $=\\sum_{i=1}^{n}a_i^2Cov(X_i,X_i)+\\underset{i\\ne j}{\\sum_{i=1}^{n}\\sum_{j=1}^{n}}a_ia_jCov(X_i,X_j)$"
   ]
  },
  {
   "cell_type": "markdown",
   "metadata": {},
   "source": [
    "&nbsp; &nbsp; &nbsp; &nbsp; &nbsp; &nbsp; &nbsp; &nbsp; &nbsp; &nbsp; &nbsp; &nbsp; &nbsp; &nbsp; &nbsp; &nbsp; &nbsp; &nbsp; &nbsp; &nbsp; $=\\sum_{i=1}^{n}a_i^2Var(X_i)+2\\underset{i< j}{\\sum_{i=1}^{n}\\sum_{j=1}^{n}}a_ia_jCov(X_i,X_j)$ &nbsp; &nbsp; ($\\because$$Cov(X,Y)=Cov(Y,X)$)"
   ]
  },
  {
   "cell_type": "markdown",
   "metadata": {},
   "source": [
    "$Var(\\sum_{i=1}^{n}a_iX_i)=\\sum_{i=1}^{n}a_i^2Var(X_i)+2\\sum_{i=1}^{n}\\sum_{j=1}^{n}a_ia_jCov(X_i,X_j)$"
   ]
  },
  {
   "cell_type": "markdown",
   "metadata": {},
   "source": [
    "**Corollary:**<br> 1. $Var(X\\pm Y)=Var(X)+Var(Y)\\pm 2Cov(X,Y)$"
   ]
  },
  {
   "cell_type": "markdown",
   "metadata": {},
   "source": [
    "2. If $X_1,X_2,...,X_n$ are independent random variables then we have $Cov(X_i,X_j)=0$ for $i\\ne j$<br><br>\n",
    "$Var(\\sum_{i=1}^{n}a_iX_i)=\\sum_{i=1}^{n}a_i^2Var(X_i)$"
   ]
  },
  {
   "cell_type": "markdown",
   "metadata": {},
   "source": [
    "3. If $X,Y$ are independent random variables then $Var(X\\pm Y)=Var(X)+Var(Y)$"
   ]
  },
  {
   "cell_type": "markdown",
   "metadata": {},
   "source": [
    "### Correlation Coefficient:"
   ]
  },
  {
   "cell_type": "markdown",
   "metadata": {},
   "source": [
    "The <i>Correlation coefficient</i> between two random variables $X,Y$ is denoted by $\\rho_{XY}$ and defined as,"
   ]
  },
  {
   "cell_type": "markdown",
   "metadata": {},
   "source": [
    "$$\\rho_{XY}=\\frac{Cov(X,Y)}{SD(X)\\times SD(Y)}$$"
   ]
  },
  {
   "cell_type": "markdown",
   "metadata": {},
   "source": [
    "In terms of $\\sigma$ notation we can write as $\\rho_{X,Y}=\\frac{\\sigma_{XY}}{\\sigma_X\\sigma_Y}$"
   ]
  },
  {
   "cell_type": "code",
   "execution_count": 1,
   "metadata": {},
   "outputs": [
    {
     "data": {
      "image/png": "[encoded data removed]",
      "text/plain": [
       "<Figure size 1728x1152 with 10 Axes>"
      ]
     },
     "metadata": {
      "needs_background": "light"
     },
     "output_type": "display_data"
    }
   ],
   "source": [
    "import random as rd\n",
    "import numpy as np\n",
    "import matplotlib.pyplot as plt\n",
    "%matplotlib inline\n",
    "\n",
    "fig, ax = plt.subplots(2,5,figsize=(24, 16))\n",
    "x=np.linspace(-5,5,250)\n",
    "fns=[\n",
    "[lambda x:x+np.random.uniform(-0.4,0.4,len(x)),\n",
    "lambda x:x+np.random.uniform(-2,2,len(x)),\n",
    "lambda x:5*np.sin(x)+np.random.uniform(-3,3,len(x)),\n",
    "lambda x:x,\n",
    "lambda x:x+np.random.uniform(-4,4,len(x)), ],\n",
    "    \n",
    "[lambda x:-x+np.random.uniform(-0.4,0.4,len(x)),\n",
    "lambda x:-x+np.random.uniform(-2,2,len(x)),\n",
    "lambda x:x*x+np.random.uniform(-2,2,len(x)),\n",
    "lambda x:-x,\n",
    "lambda x:-x+np.random.uniform(-4,4,len(x)),]\n",
    "]\n",
    "msgs=[\n",
    "    [\"(i) Strong linear relation in positive direction\",\n",
    "     \"(ii) Moderate linear relation in positive direction\",\n",
    "     \"(iii) No linear relation\",\n",
    "     \"(iv) Perfect linear relation in positive direction\",\n",
    "      \"(v) Weak linear relation in positive direction\",\n",
    "    ],\n",
    "    [\"(vi) Strong linear relation in negative direction\",\n",
    "     \"(vii) Moderate linear relation in negative direction\",\n",
    "     \"(viii) No linear relation\",\n",
    "     \"(ix) Perfect linear relation in negative direction\",\n",
    "       \"(x) Weak linear relation in negative direction\"\n",
    "    ]\n",
    "]\n",
    "\n",
    "\n",
    "for i in [0,1]:\n",
    "    for j in [0,1,2,3,4]:\n",
    "        ax[i][j].scatter(x,fns[i][j](x),s=5)\n",
    "        ax[i][j].set_xlim(-5,5)\n",
    "        ax[i][j].set_ylim(-5,5)\n",
    "        ax[i][j].text(-4,5.5,msgs[i][j])\n",
    "        ax[i][j].set_xlabel(r\"$X$\")\n",
    "        ax[i][j].set_ylabel(r\"$Y$\")\n",
    "plt.show()"
   ]
  },
  {
   "cell_type": "markdown",
   "metadata": {
    "slideshow": {
     "slide_type": "slide"
    }
   },
   "source": [
    "**Theorem:** For any two random variables $X,Y$ defined on $(\\Omega,\\mathscr{F},P)$, $-1\\le \\rho_{XY}\\le 1$"
   ]
  },
  {
   "cell_type": "markdown",
   "metadata": {
    "slideshow": {
     "slide_type": "fragment"
    }
   },
   "source": [
    "*proof:* By Cauchy-Schwarz inequality we have"
   ]
  },
  {
   "cell_type": "markdown",
   "metadata": {},
   "source": [
    "$(E((X-\\mu_X)(Y-\\mu_Y)))^2\\le E((X-\\mu_X)^2)E((Y-\\mu_Y)^2)$"
   ]
  },
  {
   "cell_type": "markdown",
   "metadata": {},
   "source": [
    "$(E((X-\\mu_X)(Y-\\mu_Y)))^2\\le \\sigma_X^2 \\sigma_Y^2$"
   ]
  },
  {
   "cell_type": "markdown",
   "metadata": {},
   "source": [
    "$|E((X-\\mu_X)(Y-\\mu_Y))|\\le \\sigma_X \\sigma_Y$"
   ]
  },
  {
   "cell_type": "markdown",
   "metadata": {
    "cell_style": "split"
   },
   "source": [
    "$\\begin{vmatrix}\\frac{E((X-\\mu_X)(Y-\\mu_Y))}{\\sigma_X \\sigma_Y} \\end{vmatrix} \\le 1 $"
   ]
  },
  {
   "cell_type": "markdown",
   "metadata": {
    "cell_style": "split",
    "slideshow": {
     "slide_type": "skip"
    }
   },
   "source": [
    "$-1\\le \\frac{E((X-\\mu_X)(Y-\\mu_Y))}{\\sigma_X \\sigma_Y}\\le 1$"
   ]
  },
  {
   "cell_type": "markdown",
   "metadata": {
    "slideshow": {
     "slide_type": "fragment"
    }
   },
   "source": [
    "$\\therefore$ $-1\\le \\rho_{XY} \\le 1$"
   ]
  },
  {
   "cell_type": "markdown",
   "metadata": {},
   "source": [
    "In Cauchy-Schwarz inequality we have, both sides equality if $P((Y-\\mu_Y)=-t(X-\\mu_X))=1$ (please have a look at proof of Cauchy-Schwarz inequality)"
   ]
  },
  {
   "cell_type": "markdown",
   "metadata": {},
   "source": [
    "**Case-1**: $\\rho_{XY} = 1$"
   ]
  },
  {
   "cell_type": "markdown",
   "metadata": {},
   "source": [
    "$\\frac{E((X-\\mu_X)(Y-\\mu_Y))}{\\sigma_X \\sigma_Y} = 1$"
   ]
  },
  {
   "cell_type": "markdown",
   "metadata": {},
   "source": [
    "$\\frac{E((X-\\mu_X)(-t(X-\\mu_X)))}{\\sigma_X \\sigma_Y}= 1$"
   ]
  },
  {
   "cell_type": "markdown",
   "metadata": {},
   "source": [
    "$(-t)\\frac{\\sigma_X^2}{\\sigma_X \\sigma_Y}= 1\\implies t=-\\frac{\\sigma_Y}{\\sigma_X}$"
   ]
  },
  {
   "cell_type": "markdown",
   "metadata": {},
   "source": [
    "$\\therefore~P\\left((Y-\\mu_Y)=-\\left(\\frac{-\\sigma_Y}{\\sigma_X}\\right)(X-\\mu_X)\\right)=1$"
   ]
  },
  {
   "cell_type": "markdown",
   "metadata": {},
   "source": [
    "$P\\left(Y=\\left(\\frac{\\sigma_Y}{\\sigma_X}\\right)X-\\left(\\frac{\\sigma_Y}{\\sigma_X}\\right)\\mu_X+\\mu_Y\\right)=1$"
   ]
  },
  {
   "cell_type": "markdown",
   "metadata": {},
   "source": [
    "$P\\left(Y=aX+b\\right)=1$ where $a=\\frac{\\sigma_Y}{\\sigma_X}>0, b=\\mu_Y -\\frac{\\sigma_Y}{\\sigma_X}\\mu_X$"
   ]
  },
  {
   "cell_type": "markdown",
   "metadata": {},
   "source": [
    "**Case-2**: $\\rho_{XY} = -1$"
   ]
  },
  {
   "cell_type": "markdown",
   "metadata": {},
   "source": [
    "$\\frac{E((X-\\mu_X)(Y-\\mu_Y))}{\\sigma_X \\sigma_Y} = -1$"
   ]
  },
  {
   "cell_type": "markdown",
   "metadata": {},
   "source": [
    "$\\frac{E((X-\\mu_X)(-t(X-\\mu_X)))}{\\sigma_X \\sigma_Y}= -1$"
   ]
  },
  {
   "cell_type": "markdown",
   "metadata": {},
   "source": [
    "$t\\frac{\\sigma_X^2}{\\sigma_X \\sigma_Y}= 1\\implies t=\\frac{\\sigma_Y}{\\sigma_X}$"
   ]
  },
  {
   "cell_type": "markdown",
   "metadata": {},
   "source": [
    "$\\therefore~P\\left((Y-\\mu_Y)=-\\left(\\frac{\\sigma_Y}{\\sigma_X}\\right)(X-\\mu_X)\\right)=1$"
   ]
  },
  {
   "cell_type": "markdown",
   "metadata": {},
   "source": [
    "$P\\left(Y=\\left(-\\frac{\\sigma_Y}{\\sigma_X}\\right)X+\\left(\\frac{\\sigma_Y}{\\sigma_X}\\right)\\mu_X+\\mu_Y\\right)=1$"
   ]
  },
  {
   "cell_type": "markdown",
   "metadata": {},
   "source": [
    "$P\\left(Y=aX+b\\right)=1$ where $a=-\\frac{\\sigma_Y}{\\sigma_X}>0, b=\\mu_Y +\\frac{\\sigma_Y}{\\sigma_X}\\mu_X$"
   ]
  },
  {
   "cell_type": "markdown",
   "metadata": {},
   "source": [
    "- $X$ & $Y$ are perfectly linearly related in positive direction if $P(X=aY+b)=1$ for some $a,b\\in \\mathbb{R}$ and $a>0$"
   ]
  },
  {
   "cell_type": "markdown",
   "metadata": {},
   "source": [
    "- $X$ & $Y$ are perfectly linearly related in negative direction if $P(X=aY+b)=1$ for some $a,b\\in \\mathbb{R}$ and $a<0$"
   ]
  },
  {
   "cell_type": "markdown",
   "metadata": {},
   "source": [
    "The <i>correlation coefficient</i> is a measure of the degree of linear relation between $X$ and $Y$. "
   ]
  },
  {
   "cell_type": "markdown",
   "metadata": {},
   "source": [
    "A value of $\\rho_{XY}$ near $1$ or $-1$ indicates a high degree of linear relation between $X$ and $Y$. whereas a value near $0$ indicates a lack of such linear relation."
   ]
  },
  {
   "cell_type": "markdown",
   "metadata": {},
   "source": [
    "A positive $\\rho_{XY}$ value indicates $Y$ tends to increase when $X$ does, whereas a negative value indicates that $Y$ tends to decrease when $X$ increases"
   ]
  },
  {
   "cell_type": "markdown",
   "metadata": {},
   "source": [
    "- If $\\rho_{XY}=0$, then $X,Y$ are said to be uncorrelated."
   ]
  },
  {
   "cell_type": "markdown",
   "metadata": {},
   "source": [
    "If $X,Y$ are independent then they are uncorrelated but converse is not true."
   ]
  },
  {
   "cell_type": "markdown",
   "metadata": {},
   "source": [
    "$X\\sim N(0,1)$,$Y=X^2$, then $\\rho_{XY}=0$ ($\\because~Cov(X,Y)=0$) but $X,Y$ are dependent)"
   ]
  },
  {
   "cell_type": "markdown",
   "metadata": {},
   "source": [
    "Here there is no linear relationship between $X,Y$ but we do have non-linear relationship between $X,Y$"
   ]
  },
  {
   "cell_type": "markdown",
   "metadata": {},
   "source": [
    "**Problem:** Let $(X,Y)$ be a continuous bivariate random variable with $f_{X,Y}(x,y)=\\left\\{\\begin{matrix}\n",
    " x+y&0<x<1,0<y<1 \\\\ \n",
    " 0& \\text{otherwise}\n",
    "\\end{matrix}\\right.$&nbsp; <br>Find $\\rho_{XY}$"
   ]
  },
  {
   "cell_type": "markdown",
   "metadata": {},
   "source": [
    "*solution:* $\\rho_{XY}=\\frac{Cov(X,Y)}{\\sigma_X\\sigma_Y}$, here $Cov(X,Y)=E(XY)-E(X)E(Y)$"
   ]
  },
  {
   "cell_type": "markdown",
   "metadata": {},
   "source": [
    "$f_X(x)=\\int_{-\\infty}^{\\infty}f_{X,Y}(x,y)dy=\\int_{0}^{1}(x+y)dy=\\left[xy+\\frac{y^2}{2}\\right]_{0}^1=(x+\\frac{1}{2})-0$"
   ]
  },
  {
   "cell_type": "markdown",
   "metadata": {
    "cell_style": "split"
   },
   "source": [
    "$f_X(x)=\\left\\{\\begin{matrix}\n",
    " x+\\frac{1}{2}&0<x<1 \\\\ \n",
    " 0& \\text{otherwise} \n",
    "\\end{matrix}\\right.$"
   ]
  },
  {
   "cell_type": "markdown",
   "metadata": {
    "cell_style": "split"
   },
   "source": [
    "and  $f_Y(y)=\\left\\{\\begin{matrix}\n",
    " y+\\frac{1}{2}&0<y<1 \\\\ \n",
    " 0&\\text{otherwise} \n",
    "\\end{matrix}\\right.$  &nbsp; ($\\because~$ Symmetry in $x,y$)"
   ]
  },
  {
   "cell_type": "markdown",
   "metadata": {},
   "source": [
    "$E(XY)=\\int_{-\\infty}^{\\infty}\\int_{-\\infty}^{\\infty}xyf_{X,Y}(x,y)dxdy=\\int_{0}^{1}\\int_{0}^{1}xy(x+y)dxdy=\\frac{1}{3}$ (please work out this double integral)"
   ]
  },
  {
   "cell_type": "markdown",
   "metadata": {
    "cell_style": "center"
   },
   "source": [
    "$E(X)=\\int_{-\\infty}^{\\infty}xf_X(x)dx=\\int_{0}^{1}x(x+\\frac{1}{2})dx=\\frac{7}{12}$ &nbsp; &nbsp; and $E(Y)=\\frac{7}{12}$"
   ]
  },
  {
   "cell_type": "markdown",
   "metadata": {
    "cell_style": "center"
   },
   "source": [
    "$E(X^2)=\\int_{-\\infty}^{\\infty}x^2f_X(x)dx=\\int_{0}^{1}x^2(x+\\frac{1}{2})dx=\\frac{5}{12}$ &nbsp; &nbsp; and $E(Y^2)=\\frac{5}{12}$"
   ]
  },
  {
   "cell_type": "markdown",
   "metadata": {
    "cell_style": "center"
   },
   "source": [
    "$\\sigma_X^2=E(X^2)-(E(X))^2=\\frac{5}{12}-\\left(\\frac{7}{12}\\right)^2=\\frac{11}{144}$,&nbsp; &nbsp; and $\\sigma_Y^2=\\frac{11}{144}$"
   ]
  },
  {
   "cell_type": "markdown",
   "metadata": {},
   "source": [
    "$\\sigma_X=\\sigma_Y=\\frac{\\sqrt{11}}{12}$"
   ]
  },
  {
   "cell_type": "markdown",
   "metadata": {},
   "source": [
    "$Cov(X,Y)=E(XY)-E(X)E(Y)=\\frac{1}{3}-\\left(\\frac{7}{12}\\right)\\left(\\frac{7}{12}\\right)=\\frac{-1}{144}$"
   ]
  },
  {
   "cell_type": "markdown",
   "metadata": {},
   "source": [
    "$\\rho_{X,Y}=\\frac{Cov(X,Y)}{\\sigma_X\\sigma_Y}=\\frac{\\frac{-1}{144}}{\\frac{\\sqrt{11}}{12}\\frac{\\sqrt{11}}{12}}=\\frac{-1}{11}$"
   ]
  },
  {
   "cell_type": "markdown",
   "metadata": {},
   "source": [
    "**Problem:** Let $(X,Y)$ be a continuous bivariate random variable with  $f_{X,Y}(x,y)=\\left\\{\\begin{matrix}\n",
    " 2&0<y<x<1 \\\\ \n",
    " 0& \\text{otherwise}\n",
    "\\end{matrix}\\right.$. &nbsp; &nbsp; <br>Find $Var(3X-2Y)$"
   ]
  },
  {
   "cell_type": "code",
   "execution_count": 78,
   "metadata": {
    "cell_style": "split",
    "hide_input": false
   },
   "outputs": [
    {
     "data": {
      "text/plain": [
       "(0, 2)"
      ]
     },
     "execution_count": 78,
     "metadata": {},
     "output_type": "execute_result"
    },
    {
     "data": {
      "image/png": "[encoded data removed]",
      "text/plain": [
       "<Figure size 288x288 with 1 Axes>"
      ]
     },
     "metadata": {
      "needs_background": "light"
     },
     "output_type": "display_data"
    }
   ],
   "source": [
    "import numpy as np\n",
    "import matplotlib.pyplot as plt\n",
    "%matplotlib inline\n",
    "\n",
    "fig, ax = plt.subplots(figsize=(4,4))\n",
    "ax.plot([0,1,1,0],[0,0,1,1])\n",
    "ax.plot([0,1],[0,1])\n",
    "x=np.linspace(0,1,100)\n",
    "ax.fill_between(x,0,x,color='g')\n",
    "ax.set_xlabel(\"$x$\")\n",
    "ax.set_ylabel(\"$y$\")\n",
    "ax.text(1,1,\"$y=x$\")\n",
    "ax.set_xticks([0.0,0.5,1,1.5,2])\n",
    "ax.set_yticks([0.5,1,1.5,2])\n",
    "ax.set_xlim(0,2)\n",
    "ax.set_ylim(0,2)"
   ]
  },
  {
   "cell_type": "markdown",
   "metadata": {},
   "source": [
    "$Var(3X-2Y)=(3)^2Var(X)+(-2)^2Var(Y)+2(3)(-2)Cov(X,Y)=9Var(X)+4Var(Y)-12Cov(X,Y)$"
   ]
  },
  {
   "cell_type": "markdown",
   "metadata": {},
   "source": [
    "$f_X(x)=\\int_{-\\infty}^{\\infty}f_{X,Y}(x,y)dy=\\int_{0}^{x}2dy=2x$"
   ]
  },
  {
   "cell_type": "markdown",
   "metadata": {},
   "source": [
    "$f_X(x)=\\left\\{\\begin{matrix}\n",
    " 2x& 0<x<1 \\\\ \n",
    " 0&  \\text{otherwise}\n",
    "\\end{matrix}\\right.$"
   ]
  },
  {
   "cell_type": "markdown",
   "metadata": {},
   "source": [
    "$f_Y(y)=\\int_{-\\infty}^{\\infty}f_{X,Y}(x,y)dx=\\int_{y}^{1}2dx=2(1-y)$"
   ]
  },
  {
   "cell_type": "markdown",
   "metadata": {},
   "source": [
    "$f_Y(y)=\\left\\{\\begin{matrix}\n",
    " 2(1-y)& 0<y<1 \\\\ \n",
    " 0&  \\text{otherwise}\n",
    "\\end{matrix}\\right.$"
   ]
  },
  {
   "cell_type": "markdown",
   "metadata": {
    "cell_style": "center"
   },
   "source": [
    "$E(XY)=\\int_{-\\infty}^{\\infty}\\int_{-\\infty}^{\\infty}xyf_{X,Y}(x,y)dxdy=\\int_{0}^{1}\\int_{0}^{x}xy(2)dydx$"
   ]
  },
  {
   "cell_type": "markdown",
   "metadata": {
    "cell_style": "center"
   },
   "source": [
    "&nbsp; &nbsp; &nbsp; &nbsp;&nbsp; &nbsp;&nbsp; &nbsp;$=2\\int_{0}^{1}x\\int_{0}^{x}ydydx=2\\int_{0}^{1}x\\left[\\frac{y^2}{2}\\right]_0^x dx=\\frac{1}{4}$"
   ]
  },
  {
   "cell_type": "markdown",
   "metadata": {
    "cell_style": "split"
   },
   "source": [
    "$E(X)=\\int_{0}^{1}x(2x)dx=\\frac{2}{3}$"
   ]
  },
  {
   "cell_type": "markdown",
   "metadata": {
    "cell_style": "split"
   },
   "source": [
    "$E(X^2)=\\int_{0}^{1}x^2(2x)dx=\\frac{1}{2}$"
   ]
  },
  {
   "cell_type": "markdown",
   "metadata": {
    "cell_style": "split"
   },
   "source": [
    "$E(Y)=\\int_{0}^{1}y(2(1-y))dy=\\frac{1}{3}$"
   ]
  },
  {
   "cell_type": "markdown",
   "metadata": {
    "cell_style": "split"
   },
   "source": [
    "$E(Y^2)=\\int_{0}^{1}y^2(2(1-y))dy=\\frac{1}{6}$"
   ]
  },
  {
   "cell_type": "markdown",
   "metadata": {},
   "source": [
    "$Var(X)=E(X^2)-(E(X))^2=\\frac{1}{2}-\\left(\\frac{2}{3}\\right)^2=\\frac{1}{18}$"
   ]
  },
  {
   "cell_type": "markdown",
   "metadata": {},
   "source": [
    "$Var(Y)=E(Y^2)-(E(Y))^2=\\frac{1}{6}-\\left(\\frac{1}{3}\\right)^2=\\frac{1}{18}$"
   ]
  },
  {
   "cell_type": "markdown",
   "metadata": {},
   "source": [
    "$Cov(X,Y)=E(XY)-E(X)E(Y)=\\frac{1}{4}-\\left(\\frac{2}{3}\\right)\\left(\\frac{1}{3}\\right)=\\frac{1}{36}$"
   ]
  },
  {
   "cell_type": "markdown",
   "metadata": {},
   "source": [
    "$Var(3X-2Y)=9\\left(\\frac{1}{18}\\right)+4\\left(\\frac{1}{18}\\right)-12\\left(\\frac{1}{36}\\right)=\\frac{7}{18}$"
   ]
  }
 ],
 "metadata": {
  "hide_input": false,
  "kernelspec": {
   "display_name": "Python 3 (ipykernel)",
   "language": "python",
   "name": "python3"
  },
  "language_info": {
   "codemirror_mode": {
    "name": "ipython",
    "version": 3
   },
   "file_extension": ".py",
   "mimetype": "text/x-python",
   "name": "python",
   "nbconvert_exporter": "python",
   "pygments_lexer": "ipython3",
   "version": "3.10.0"
  }
 },
 "nbformat": 4,
 "nbformat_minor": 4
}
