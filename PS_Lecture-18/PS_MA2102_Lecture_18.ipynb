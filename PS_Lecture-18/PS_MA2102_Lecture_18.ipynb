{
 "cells": [
  {
   "cell_type": "markdown",
   "metadata": {},
   "source": [
    "<h2 style=\"text-align:center\"> MA2102</h2>\n",
    "<h1 style=\"text-align:center\"> Probability and Statistics</h1>\n",
    "<h4 style=\"text-align:center\"> Lecture-18</h4>"
   ]
  },
  {
   "cell_type": "markdown",
   "metadata": {},
   "source": [
    "### Exponential Distribution: "
   ]
  },
  {
   "cell_type": "markdown",
   "metadata": {},
   "source": [
    "A $Gamma(1,\\lambda)$ distribution is called an Exponential distribution.<b>"
   ]
  },
  {
   "cell_type": "markdown",
   "metadata": {},
   "source": [
    "If$X\\sim Gamma(1,\\lambda)$ then $PDF$ of $X$, $f_X(x)=\\left\\{\\begin{matrix}\n",
    " \\lambda e^{-\\lambda x}& x>0 \\\\ \n",
    " 0& x\\le 0 \n",
    "\\end{matrix}\\right.$, and $CDF$ of $X$, $F_X(x)=\\left\\{\\begin{matrix}\n",
    " 0&x\\le 0 \\\\ \n",
    " 1-e^{-\\lambda x}& x>0 \n",
    "\\end{matrix}\\right.$"
   ]
  },
  {
   "cell_type": "markdown",
   "metadata": {},
   "source": [
    "**Notation:** $X\\sim Exp(\\lambda)$"
   ]
  },
  {
   "cell_type": "markdown",
   "metadata": {},
   "source": [
    "$E(X)=\\frac{1}{\\lambda}$, and  $Var(X)=\\frac{1}{\\lambda^2}$"
   ]
  },
  {
   "cell_type": "markdown",
   "metadata": {},
   "source": [
    "$MGF:$ $M_X(t)=\\left(\\frac{\\lambda}{\\lambda-t}\\right)$, $-\\lambda<t<\\lambda$"
   ]
  },
  {
   "cell_type": "markdown",
   "metadata": {},
   "source": [
    "**Note:** Here $X$ can be understood as time taken to have first event occurrence in a Poisson process, with rate parameter $\\lambda$"
   ]
  },
  {
   "cell_type": "markdown",
   "metadata": {},
   "source": [
    "Again the reason that we are looking at this special case of Gamma distribution is that the special case of having a special property called <b>Memoryless property</b>"
   ]
  },
  {
   "cell_type": "markdown",
   "metadata": {},
   "source": [
    "if $X\\sim Exp(\\lambda)$, then $F_X(x)=\\left\\{\\begin{matrix}\n",
    " 0& x<0 \\\\ \n",
    " 1-e^{-\\lambda x}&x\\ge 0 \n",
    "\\end{matrix}\\right.$"
   ]
  },
  {
   "cell_type": "markdown",
   "metadata": {},
   "source": [
    "For $x>0$, $P(X>x)=1-F_X(x)=1-(1-e^{-\\lambda x})=e^{-\\lambda x}$"
   ]
  },
  {
   "cell_type": "markdown",
   "metadata": {},
   "source": [
    "$\\therefore$ $P(X>x)=e^{-\\lambda x}$, $x>0$   ------(1)"
   ]
  },
  {
   "cell_type": "markdown",
   "metadata": {},
   "source": [
    "**Theorem:** If $X\\sim Exp(\\lambda)$, then for any two positive real numbers $r,s$, $P(X>r+s/X>s)=P(X>r)$"
   ]
  },
  {
   "cell_type": "markdown",
   "metadata": {},
   "source": [
    "*proof:* $P(X>r+s/X>s)=\\frac{P(X>r+s,X>s)}{P(X>s)}$"
   ]
  },
  {
   "cell_type": "markdown",
   "metadata": {},
   "source": [
    "&nbsp; &nbsp; &nbsp; &nbsp; &nbsp; &nbsp; &nbsp;&nbsp; &nbsp; &nbsp; &nbsp;&nbsp; &nbsp; &nbsp; &nbsp; &nbsp; &nbsp; &nbsp; &nbsp;&nbsp; &nbsp; &nbsp; &nbsp;&nbsp; &nbsp; &nbsp; &nbsp;$=\\frac{P(X>r+s)}{P(X>s)}=\\frac{e^{-\\lambda(r+s)}}{e^{-\\lambda s}}$  ($\\because$ (1))"
   ]
  },
  {
   "cell_type": "markdown",
   "metadata": {},
   "source": [
    "&nbsp; &nbsp; &nbsp; &nbsp; &nbsp; &nbsp; &nbsp;&nbsp; &nbsp; &nbsp; &nbsp;&nbsp; &nbsp; &nbsp; &nbsp; &nbsp; &nbsp; &nbsp; &nbsp;&nbsp; &nbsp; &nbsp; &nbsp;&nbsp; &nbsp; &nbsp; &nbsp;$=e^{-\\lambda r}=P(X>r)$  "
   ]
  },
  {
   "cell_type": "markdown",
   "metadata": {},
   "source": [
    "$\\therefore$ we have, $P(X>r+s/X>s)=P(X>r)$ -------($*$)   (Memory less property)"
   ]
  },
  {
   "cell_type": "markdown",
   "metadata": {},
   "source": [
    "If we think of $X$ as being lifetime of some instrument, the above relation($*$) has the following interpretation. Given that the instrument has survived $s$ units of time, the probability that it will survive additional $r$ units of time is the same as the probability that a fresh unit (of age 0) will survive $r$ units of time."
   ]
  },
  {
   "cell_type": "markdown",
   "metadata": {},
   "source": [
    "In other words instrument is not aging with time. That is used instrument is as good as new one."
   ]
  },
  {
   "cell_type": "markdown",
   "metadata": {},
   "source": [
    "It turns out that exponential distribution is the only continuous distribution with this memoryless property. You will prove it in Assignment-4"
   ]
  },
  {
   "cell_type": "markdown",
   "metadata": {},
   "source": [
    "**Example:** Suppose that the length of a phone call in minutes is an exponential random variable with parameter $\\lambda=\\frac{1}{10}$. If someone arrives immediately ahead of you at public telephone booth, find the probability that you will have to wait,<br>\n",
    "(a) More than 10 minutes<br>\n",
    "(b) Between 10 and 20 minutes<br>\n",
    "(c) More than 15 minutes given that you already waited for 5 minutes"
   ]
  },
  {
   "cell_type": "markdown",
   "metadata": {},
   "source": [
    "*Solution:* Let $X$ denote the length of a phone call(in minutes) made by the person in the booth"
   ]
  },
  {
   "cell_type": "markdown",
   "metadata": {},
   "source": [
    "Here $X\\sim Exp(\\lambda)$, where $\\lambda=\\frac{1}{10}$"
   ]
  },
  {
   "cell_type": "markdown",
   "metadata": {},
   "source": [
    "$PDF$ $f_X(x)=\\left\\{\\begin{matrix}\n",
    "\\frac{1}{10}e^{-\\frac{x}{10}} & x>0 \\\\ \n",
    " 0& x<0 \n",
    "\\end{matrix}\\right.$"
   ]
  },
  {
   "cell_type": "markdown",
   "metadata": {},
   "source": [
    "$CDF$ $F_X(x)=\\left\\{\\begin{matrix}\n",
    " 1-e^{-\\frac{x}{10}}& x>0 \\\\ \n",
    " 0& x\\le 0 \n",
    "\\end{matrix}\\right.$"
   ]
  },
  {
   "cell_type": "markdown",
   "metadata": {},
   "source": [
    "(a) $P(X>10)=1-P(X\\le 10)$"
   ]
  },
  {
   "cell_type": "markdown",
   "metadata": {},
   "source": [
    "&nbsp; &nbsp; &nbsp; &nbsp; &nbsp; &nbsp; &nbsp; &nbsp; &nbsp; &nbsp; &nbsp; &nbsp; $=1-F_X(10)=1-(1-e^{-\\frac{10}{10}})=\\frac{1}{e}$"
   ]
  },
  {
   "cell_type": "markdown",
   "metadata": {},
   "source": [
    "(b) $P(10<X<20)=F_X(20)-F_X(10)=(1-e^{-\\frac{20}{10}})-(1-e^{-\\frac{10}{10}})=\\frac{e-1}{e^2}$"
   ]
  },
  {
   "cell_type": "markdown",
   "metadata": {},
   "source": [
    "(c) $P(X>15/X>5)=P(X>10+5/X>5)=P(X>10)$ &nbsp; ($\\because$ Memoryless property)"
   ]
  },
  {
   "cell_type": "markdown",
   "metadata": {},
   "source": [
    "$\\therefore$ $P(X>15/X>5)=\\frac{1}{e}$"
   ]
  },
  {
   "cell_type": "markdown",
   "metadata": {},
   "source": [
    "### Hazard Rate Function:"
   ]
  },
  {
   "cell_type": "markdown",
   "metadata": {},
   "source": [
    "Let $X$ denote the life time of some item, having $CDF$ $F_X$, and $PDF$ $f_X$. The hazard rate(Failure rate) function $\\lambda(t)$ of $X$ defined by,"
   ]
  },
  {
   "cell_type": "markdown",
   "metadata": {},
   "source": [
    "$\\lambda(t)=\\frac{f_X(t)}{1-F_X(t)}$"
   ]
  },
  {
   "cell_type": "markdown",
   "metadata": {},
   "source": [
    "The interpretation of $\\lambda(t)$ is the following:"
   ]
  },
  {
   "cell_type": "markdown",
   "metadata": {},
   "source": [
    "Suppose that the item has survived for a time $t$ and we want the probability it will not survive for an additional time $dt$."
   ]
  },
  {
   "cell_type": "markdown",
   "metadata": {},
   "source": [
    "that is, $P(t<X<t+dt/X>t)=\\frac{P(t<X<t+dt,X>t)}{P(X>t)}$"
   ]
  },
  {
   "cell_type": "markdown",
   "metadata": {},
   "source": [
    "&nbsp; &nbsp; &nbsp; &nbsp; $=\\frac{P(t<X<t+dt)}{P(X>t)}\\approx \\frac{f_x(t)dt}{1-F_X(t)}$&nbsp; &nbsp;($\\because$ $P(t<X<t+dt)\\approx f(t)dt$)"
   ]
  },
  {
   "cell_type": "markdown",
   "metadata": {},
   "source": [
    "$\\therefore$ $P(t<X<t+dt/X>t)\\approx \\left(\\frac{f_X(t)}{1-F_X(t)}\\right)dt$"
   ]
  },
  {
   "cell_type": "markdown",
   "metadata": {},
   "source": [
    "Thus, $\\lambda(t)$ represents the conditional probability intensity that a t-unit old item will fail. We can also say $\\lambda(t)$ as instantaneous failure rate of an item"
   ]
  },
  {
   "cell_type": "markdown",
   "metadata": {},
   "source": [
    "If $X\\sim Exp(\\lambda)$, then by the memory less property, the distribution of remaining life for a t-year old item is same as new item. Hence $\\lambda(t)$ would be constant."
   ]
  },
  {
   "cell_type": "markdown",
   "metadata": {},
   "source": [
    "$\\left(\\because \\lambda(t)=\\frac{f_X(t)}{1-F_X(t)}=\\frac{\\lambda e^{-\\lambda t}}{1-(1-e^{-\\lambda t})}=\\lambda\\right)$"
   ]
  },
  {
   "cell_type": "markdown",
   "metadata": {},
   "source": [
    "This failure rate (hazard rate) function $\\lambda (t) $uniquely determines the probability distribution."
   ]
  },
  {
   "cell_type": "markdown",
   "metadata": {},
   "source": [
    "$\\lambda(t)=\\frac{f_X(t)}{1-F_X(t)}=\\frac{\\frac{d}{dt}F_X(t)}{1-F_X(t)}=\\frac{-\\frac{d}{dt}(1-F_X(t))}{1-F_X(t)}$"
   ]
  },
  {
   "cell_type": "markdown",
   "metadata": {},
   "source": [
    "Integrate both sides from 0 to t"
   ]
  },
  {
   "cell_type": "markdown",
   "metadata": {},
   "source": [
    "$-\\int_{0}^{x}\\lambda(t)dt=\\int_{0}^{x}\\frac{\\frac{d}{dt}(1-F_X(t))}{1-F_X(t)}$"
   ]
  },
  {
   "cell_type": "markdown",
   "metadata": {},
   "source": [
    "$-\\int_{0}^{x}\\lambda(t)dt=\\left[\\log{(1-F_X(t))}\\right]_{0}^{x}$"
   ]
  },
  {
   "cell_type": "markdown",
   "metadata": {},
   "source": [
    "$-\\int_{0}^{x}\\lambda(t)dt=\\left[\\log{(1-F_X(x))}-0\\right]$ &nbsp; &nbsp; ($\\because$ $F_X(0)=P(X\\le 0)=0$ as $X\\ge 0$)"
   ]
  },
  {
   "cell_type": "markdown",
   "metadata": {},
   "source": [
    "$1-F_X(x)=e^{-\\int_{0}^{x}\\lambda (t)dt}$"
   ]
  },
  {
   "cell_type": "markdown",
   "metadata": {},
   "source": [
    "Hence, $F_X(x)=\\left\\{\\begin{matrix}\n",
    " 1-e^{-\\int_{0}^{x}\\lambda (t)dt}&x>0 \\\\ \n",
    " 0& x\\le 0 \n",
    "\\end{matrix}\\right.$"
   ]
  },
  {
   "cell_type": "markdown",
   "metadata": {},
   "source": [
    "- If $\\lambda (t)=\\lambda$ (constant), then  $F_X(x)=\\left\\{\\begin{matrix}\n",
    " 1-e^{-\\lambda x}&x>0 \\\\ \n",
    " 0& x\\le 0 \n",
    "\\end{matrix}\\right.$.<br>so  $X\\sim Exp(\\lambda)$"
   ]
  },
  {
   "cell_type": "markdown",
   "metadata": {},
   "source": [
    "- If $\\lambda (t)=a+bt$ (linear function of $t$)<br><br>\n",
    "$F_X(x)=\\left\\{\\begin{matrix}\n",
    " 1-e^{-ax-\\frac{bx^2}{2}}&x>0 \\\\ \n",
    " 0& x\\le 0 \n",
    "\\end{matrix}\\right.$"
   ]
  },
  {
   "cell_type": "markdown",
   "metadata": {},
   "source": [
    "$f_X(x)=\\frac{d}{dt}F_X(x)=\\left\\{\\begin{matrix}\n",
    " (a+bx)e^{-ax-\\frac{bx^2}{2}}&x>0 \\\\ \n",
    " 0& x\\le 0 \n",
    "\\end{matrix}\\right.$"
   ]
  },
  {
   "cell_type": "markdown",
   "metadata": {},
   "source": [
    "**Note:** When $a=0$, and $b>0$ preceding distribution is called <b> Rayleigh Distribution</b>"
   ]
  },
  {
   "cell_type": "code",
   "execution_count": 1,
   "metadata": {},
   "outputs": [
    {
     "data": {
      "application/vnd.jupyter.widget-view+json": {
       "model_id": "f6bfa5d938d544b59092e8d37a2474f7",
       "version_major": 2,
       "version_minor": 0
      },
      "text/plain": [
       "interactive(children=(FloatSlider(value=1.0, description='$b$ :', max=10.0, min=0.1, step=0.5), Button(descrip…"
      ]
     },
     "metadata": {},
     "output_type": "display_data"
    }
   ],
   "source": [
    "%matplotlib inline\n",
    "import math\n",
    "import numpy as np\n",
    "import matplotlib.pyplot as plt\n",
    "from ipywidgets import interact ,interactive, fixed, interact_manual\n",
    "import ipywidgets as widgets\n",
    "\n",
    "Infty1=5    \n",
    "\n",
    "# Rayleigh Distribution PDF\n",
    "def f(b,x):\n",
    "    return b*x*np.exp(-(b/2)*x**2)\n",
    "\n",
    "def RayleighPDFGraph(b):\n",
    "    x=np.linspace(0,Infty1,10000)\n",
    "    fig, ax = plt.subplots(figsize=(12,8))\n",
    "    ax.plot(x,f(b,x))\n",
    "    ax.set_title(\"Rayleigh Distribution\")\n",
    "    ax.set_xlabel(\"$x$\")\n",
    "    ax.set_ylabel(\"$f_X(x)$\")\n",
    "    ax.set_yticks([0,0.2,0.4,0.6,0.8,1])\n",
    "    ax.set_xlim(0,Infty1)\n",
    "    ax.set\n",
    "    plt.show()\n",
    "    \n",
    "\n",
    "# Please Click the Run Interact Button to see the Bar graph\n",
    "interactive(RayleighPDFGraph,{'manual':True},b=widgets.FloatSlider(min=0.1, max=10, step=0.5, value=1,description=r'$b$ :'))\n",
    "    "
   ]
  },
  {
   "cell_type": "markdown",
   "metadata": {},
   "source": [
    "**Example:** One often hears that the death rate of a person who smokes is, at each age, twice that of non-smoker. What does this mean? Does it mean that a non-smoker has twice the probability of surviving a given number of years as does smoker of the same age?"
   ]
  },
  {
   "cell_type": "markdown",
   "metadata": {},
   "source": [
    "*solution:* Let $\\lambda_s(t)$ be the hazard rate of smoker of age $t$"
   ]
  },
  {
   "cell_type": "markdown",
   "metadata": {},
   "source": [
    " $\\lambda_n(t)$ be the hazard rate of non-smoker of age $t$"
   ]
  },
  {
   "cell_type": "markdown",
   "metadata": {},
   "source": [
    "It is given that $\\lambda_s(t)=2\\lambda_n(t)$"
   ]
  },
  {
   "cell_type": "markdown",
   "metadata": {},
   "source": [
    "now, let $X$ denote the lifetime of non-smoker with $CDF$ $F_X$"
   ]
  },
  {
   "cell_type": "markdown",
   "metadata": {},
   "source": [
    "$Y$ denote the lifetime of smoker with $CDF$ $F_Y$"
   ]
  },
  {
   "cell_type": "markdown",
   "metadata": {},
   "source": [
    "$P(a \\text{ year old non-smoker reaches age } b)=P(X>b/X>a)$"
   ]
  },
  {
   "cell_type": "markdown",
   "metadata": {},
   "source": [
    "&nbsp; &nbsp;&nbsp; &nbsp;&nbsp; &nbsp; &nbsp; &nbsp; &nbsp; &nbsp; &nbsp; &nbsp;&nbsp; &nbsp; &nbsp; &nbsp;&nbsp; &nbsp; &nbsp; &nbsp; &nbsp; &nbsp; &nbsp; &nbsp;&nbsp; &nbsp; &nbsp; &nbsp;&nbsp; &nbsp; &nbsp; &nbsp; &nbsp; &nbsp; &nbsp; &nbsp;&nbsp; &nbsp; &nbsp; &nbsp;$=\\frac{P(X>b,X>a)}{P(X>a)}=\\frac{P(X>b)}{p(X>a)}$  &nbsp; &nbsp;($\\because ~a<b$)"
   ]
  },
  {
   "cell_type": "markdown",
   "metadata": {},
   "source": [
    "&nbsp; &nbsp; &nbsp;&nbsp; &nbsp;&nbsp; &nbsp; &nbsp; &nbsp; &nbsp; &nbsp; &nbsp; &nbsp;&nbsp; &nbsp; &nbsp; &nbsp;&nbsp; &nbsp; &nbsp; &nbsp; &nbsp; &nbsp; &nbsp; &nbsp;&nbsp; &nbsp; &nbsp; &nbsp;&nbsp; &nbsp; &nbsp; &nbsp; &nbsp; &nbsp; &nbsp; &nbsp;&nbsp; &nbsp; &nbsp;$=\\frac{1-P(X\\le b)}{1-P(X\\le a)}=\\frac{1-F_X(b)}{1-F_X(a)}$"
   ]
  },
  {
   "cell_type": "markdown",
   "metadata": {},
   "source": [
    "&nbsp; &nbsp; &nbsp; &nbsp; &nbsp; &nbsp; &nbsp; &nbsp;&nbsp; &nbsp; &nbsp; &nbsp;&nbsp; &nbsp; &nbsp; &nbsp;&nbsp; &nbsp; &nbsp; &nbsp;&nbsp; &nbsp; &nbsp; &nbsp;&nbsp; &nbsp; &nbsp; &nbsp;&nbsp; &nbsp; &nbsp; &nbsp;&nbsp; &nbsp; &nbsp; &nbsp;&nbsp; &nbsp; &nbsp; &nbsp;$=\\frac{1-\\left(1-e^{-\\int_{0}^{b}\\lambda_n(t)dt}\\right)}{1-\\left(1-e^{-\\int_{0}^{a}\\lambda_n(t)dt}\\right)}=\\frac{e^{-\\int_{0}^{b}\\lambda_n(t)dt}}{e^{-\\int_{0}^{a}\\lambda_n(t)dt}}=e^{-\\left[{\\int_{0}^{b}\\lambda_n(t)dt-\\int_{0}^{a}\\lambda_n(t)dt}\\right]}$$=e^{-\\int_{a}^{b}\\lambda_n(t)dt}$"
   ]
  },
  {
   "cell_type": "markdown",
   "metadata": {},
   "source": [
    "$\\therefore P(a \\text{ year old non-smoker reaches age } b)$$=e^{-\\int_{a}^{b}\\lambda_n(t)dt}$"
   ]
  },
  {
   "cell_type": "markdown",
   "metadata": {},
   "source": [
    "Whereas, the corresponding probability for a smoker is, by the same reasoning is the following."
   ]
  },
  {
   "cell_type": "markdown",
   "metadata": {},
   "source": [
    "$P(\\text{a year old smoker reaches age b})=P(Y>b/y>a)=e^{-\\int_{a}^{b}\\lambda_s(t)dt}$"
   ]
  },
  {
   "cell_type": "markdown",
   "metadata": {},
   "source": [
    "&nbsp; &nbsp;&nbsp; &nbsp;&nbsp; &nbsp;&nbsp; &nbsp;&nbsp; &nbsp;&nbsp; &nbsp;&nbsp; &nbsp; &nbsp;&nbsp; &nbsp;&nbsp; &nbsp;&nbsp; &nbsp;&nbsp; &nbsp;&nbsp; &nbsp;&nbsp; &nbsp;&nbsp; &nbsp; &nbsp;&nbsp; &nbsp;&nbsp; &nbsp;&nbsp; &nbsp;&nbsp; &nbsp;&nbsp; &nbsp;&nbsp; &nbsp;&nbsp; &nbsp; &nbsp; &nbsp;&nbsp; &nbsp;&nbsp; &nbsp;&nbsp; &nbsp;&nbsp; &nbsp;&nbsp; &nbsp;&nbsp; &nbsp;&nbsp; $=e^{-2\\int_{a}^{b}\\lambda_n(t)dt}=\\left(e^{-\\int_{a}^{b}\\lambda_n(t)dt}\\right)^2$ &nbsp; &nbsp; ($\\because~\\lambda_s(t)=2\\lambda_n(t)$)"
   ]
  },
  {
   "cell_type": "markdown",
   "metadata": {},
   "source": [
    "$P(\\text{a year old smoker reaches age b})=\\left[P(\\text{a year old non-smoker reaches age b})\\right]^2$"
   ]
  },
  {
   "cell_type": "markdown",
   "metadata": {},
   "source": [
    "That is, of two people of the same age one of whom  is a smoker and other a non-smoker, the probability that the smoker survive to any given age is the square(not one-half) of the corresponding probability for a non-smoker."
   ]
  },
  {
   "cell_type": "markdown",
   "metadata": {},
   "source": [
    "For instance, if $\\lambda_n(t)=\\frac{1}{30}$, $50\\le t\\le 60$,  then the probability that of a 50-year old non-smoker reaches age 60 is $e^{-\\int_{50}^{60}\\frac{1}{30}dt}=e^{-\\frac{1}{3}}=0.7165$"
   ]
  },
  {
   "cell_type": "markdown",
   "metadata": {},
   "source": [
    "and the corresponding probability for a smoker is $\\left(e^{-\\frac{1}{3}}\\right)^2=e^{\\frac{-2}{3}}=0.5134$"
   ]
  },
  {
   "cell_type": "markdown",
   "metadata": {},
   "source": [
    "### Normal Distribution (Gaussian Distribution):"
   ]
  },
  {
   "cell_type": "markdown",
   "metadata": {},
   "source": [
    "One of the most important distribution in probability and statistics is <b>Normal Distribution</b>"
   ]
  },
  {
   "cell_type": "markdown",
   "metadata": {},
   "source": [
    "A random variable is said to have a <b>Standard Normal distribution</b> if its $PDF$ is given by $\\varphi(x)=\\frac{1}{\\sqrt{2\\pi}}e^{-\\frac{x^2}{2}}$, $-\\infty<x<\\infty$"
   ]
  },
  {
   "cell_type": "code",
   "execution_count": 50,
   "metadata": {},
   "outputs": [
    {
     "data": {
      "image/png": "[encoded data removed]",
      "text/plain": [
       "<Figure size 864x360 with 1 Axes>"
      ]
     },
     "metadata": {
      "needs_background": "light"
     },
     "output_type": "display_data"
    }
   ],
   "source": [
    "%matplotlib inline\n",
    "import math\n",
    "import numpy as np\n",
    "import matplotlib.pyplot as plt\n",
    "\n",
    "\n",
    "Infty=5    \n",
    "\n",
    "# Standard Normal Distribution PDF\n",
    "def phi(x):\n",
    "    return (1/(math.sqrt(2*math.pi)))*np.exp(-(1/2)*x**2)\n",
    "\n",
    "\n",
    "x=np.linspace(-Infty,Infty,10000)\n",
    "fig, ax = plt.subplots(figsize=(12,5))\n",
    "ax.plot(x,phi(x))\n",
    "ax.set_title(\"Standard Normal Distribution\")\n",
    "ax.set_xlabel(\"$x$\")\n",
    "ax.set_ylabel(\"$\\phi_X(x)$\")\n",
    "ax.set_xlim(-Infty,Infty)\n",
    "ax.set_ylim(0,0.6)\n",
    "ax.text(1,0.3,r\"$\\varphi(x)=\\frac{1}{\\sqrt{2\\pi}}e^{-\\frac{x^2}{2}}$\",fontsize=12,color='navy')\n",
    "plt.show()"
   ]
  },
  {
   "cell_type": "markdown",
   "metadata": {},
   "source": [
    "we can easily check that $\\varphi(x)$ is a valid $PDF$"
   ]
  },
  {
   "cell_type": "markdown",
   "metadata": {},
   "source": [
    "Standard Normal random variable is usually denoted by $Z$"
   ]
  },
  {
   "cell_type": "markdown",
   "metadata": {},
   "source": [
    "$E(Z)=0$, $Var(Z)=1$"
   ]
  },
  {
   "cell_type": "markdown",
   "metadata": {},
   "source": [
    "$MGF$ of $Z$, $M_Z(t)=e^{\\frac{t^2}{2}}$, $-\\infty<t<\\infty$  (from problem 6.(c) of Assignment-3 )"
   ]
  },
  {
   "cell_type": "markdown",
   "metadata": {},
   "source": [
    "**Exercise:** Show that $E(Z)=0$, $Var(Z)=1$ through $MGF$ of $Z$"
   ]
  },
  {
   "cell_type": "markdown",
   "metadata": {},
   "source": [
    "$CDF$ of $Z$ is denoted by $\\Phi$ and, $\\Phi(z)=\\int_{-\\infty}^{z}\\varphi(t)dt$"
   ]
  },
  {
   "cell_type": "markdown",
   "metadata": {},
   "source": [
    "Let $X=\\sigma Z+\\mu$"
   ]
  },
  {
   "cell_type": "markdown",
   "metadata": {},
   "source": [
    "then $PDF$ of $X$, $f_X(x)=\\frac{1}{\\sigma}\\varphi\\left(\\frac{x-\\mu}{\\sigma}\\right)$  &nbsp; &nbsp; &nbsp;($\\because$ If $Y=g(X)=aX+b$, $f_Y(y)=f_X(g^{-1}(y))|\\frac{d}{dy}(g^{-1}(y))|=f_X(\\frac{y-b}{a})\\frac{1}{|a|}$ )"
   ]
  },
  {
   "cell_type": "markdown",
   "metadata": {},
   "source": [
    "$\\therefore$ $f_X(x)=\\frac{1}{\\sqrt{2\\pi}\\sigma}e^{\\frac{-1}{2}\\left(\\frac{x-\\mu}{\\sigma}\\right)^2}$, $-\\infty<x<\\infty$"
   ]
  },
  {
   "cell_type": "markdown",
   "metadata": {},
   "source": [
    "Here $X$ is said to have <b>Normal Distribution</b> with location parameter <b>$\\mu$</b>, scale parameter <b>$\\sigma^2$</b>"
   ]
  },
  {
   "cell_type": "markdown",
   "metadata": {},
   "source": [
    "**Notation:** $X\\sim N(\\mu,\\sigma^2)$"
   ]
  },
  {
   "cell_type": "markdown",
   "metadata": {},
   "source": [
    "$E(X)=E(\\sigma Z+\\mu)=\\sigma E(Z)+\\mu=\\sigma (0)+\\mu=\\mu$"
   ]
  },
  {
   "cell_type": "markdown",
   "metadata": {},
   "source": [
    "$Var(X)=Var(\\sigma Z+\\mu)=\\sigma^2 Var(Z)=\\sigma^2(1)=\\sigma^2$"
   ]
  },
  {
   "cell_type": "markdown",
   "metadata": {},
   "source": [
    "$MGF$ of $M_X(t)=e^{\\mu t}M_Z(\\sigma t)$ &nbsp; &nbsp; ($\\because$ $X=\\sigma Z +\\mu$, $M_Z(t)=e^{\\frac{t^2}{2}}$)"
   ]
  },
  {
   "cell_type": "markdown",
   "metadata": {},
   "source": [
    "&nbsp; &nbsp;  &nbsp; &nbsp; &nbsp; &nbsp; &nbsp; &nbsp; &nbsp; &nbsp; &nbsp; &nbsp; &nbsp; &nbsp; &nbsp; $=e^{\\mu t}e^{\\frac{\\sigma^2 t^2}{2}}$"
   ]
  },
  {
   "cell_type": "markdown",
   "metadata": {},
   "source": [
    "$M_X(t)=e^{\\mu t+\\frac{\\sigma^2 t^2}{2}}$, $-\\infty<t<\\infty$"
   ]
  },
  {
   "cell_type": "code",
   "execution_count": 2,
   "metadata": {},
   "outputs": [
    {
     "data": {
      "application/vnd.jupyter.widget-view+json": {
       "model_id": "606174dcec1a4a64a2bde06bb7ebb8eb",
       "version_major": 2,
       "version_minor": 0
      },
      "text/plain": [
       "interactive(children=(FloatSlider(value=0.0, description='$\\\\mu$ :', max=10.0, min=-10.0, step=0.5), FloatSlid…"
      ]
     },
     "metadata": {},
     "output_type": "display_data"
    }
   ],
   "source": [
    "%matplotlib inline\n",
    "import math\n",
    "import numpy as np\n",
    "import matplotlib.pyplot as plt\n",
    "from ipywidgets import interact ,interactive, fixed, interact_manual\n",
    "import ipywidgets as widgets\n",
    "\n",
    "def f(u,s,x): # PDF of Normal Random variable\n",
    "    return (1/(np.sqrt(2*np.pi)*s))*(np.exp((-1/(2*s**2))*(x-u)**2))\n",
    "\n",
    "def NormalPDFGraph(u,s):\n",
    "    fig, ax = plt.subplots(figsize=(10,6))\n",
    "    x=np.linspace(-20,20,1000)\n",
    "    #fig = plt.figure(figsize=(12,8))\n",
    "    #ax=fig.add_subplot(111)\n",
    "    ax.plot(x,f(u,s,x))\n",
    "    ax.set_title(\"Normal (Gaussian) Distribution\")\n",
    "    ax.set_xlabel(r\"$x$\")\n",
    "    ax.set_ylabel(r\"$f_X(x)$\")\n",
    "    ax.set_xticks([-25,-20,-15,-10,-5,0,5,10,15,20,25])\n",
    "    ax.set_yticks([0,0.2,0.4,0.6,0.8,1])\n",
    "    ax.set_xlim(-25,25)\n",
    "    ax.set_ylim(0,1)\n",
    "    plt.show()\n",
    "    \n",
    "# Please Click the Run Interact Button to see the Bar graph\n",
    "interactive(NormalPDFGraph,{'manual':True},u=widgets.FloatSlider(min=-10, max=10, step=0.5, value=0,description=r'$\\mu$ :'),s=widgets.FloatSlider(min=0.1, max=10, step=0.1, value=1,description=r'$\\sigma$:'))\n",
    "    "
   ]
  },
  {
   "cell_type": "markdown",
   "metadata": {},
   "source": [
    "**Theorem:** If $X\\sim N(\\mu,\\sigma^2)$, then $Y=aX+b\\sim N(a\\mu+b,a^2\\sigma^2)$"
   ]
  },
  {
   "cell_type": "markdown",
   "metadata": {},
   "source": [
    "*solution:* Since $X\\sim N(\\mu,\\sigma^2)$, $f_X(x)=\\frac{1}{\\sqrt{2\\pi}\\sigma}e^{-\\frac{1}{2}\\left(\\frac{x-\\mu}{\\sigma}\\right)^2}$, $-\\infty<x<\\infty$"
   ]
  },
  {
   "cell_type": "markdown",
   "metadata": {},
   "source": [
    "$PDF$ of $Y$, $f_Y(y)=\\frac{1}{|a|}f_X \\left(\\frac{y-b}{a}\\right)$ &nbsp; ($\\because$ If $Y=g(X)=aX+b$, $f_Y(y)=f_X(g^{-1}(y))|\\frac{d}{dy}(g^{-1}(y))|=f_X(\\frac{y-b}{a})\\frac{1}{|a|}$ )"
   ]
  },
  {
   "cell_type": "markdown",
   "metadata": {},
   "source": [
    "$f_Y(y)=\\frac{1}{|a|}\\left(\\frac{1}{\\sqrt{2\\pi}\\sigma}e^{-\\frac{1}{2}\\left(\\frac{\\frac{y-b}{a}-\\mu}{\\sigma}\\right)^2}\\right)$"
   ]
  },
  {
   "cell_type": "markdown",
   "metadata": {},
   "source": [
    "$f_Y(y)=\\frac{1}{\\sqrt{2\\pi}\\sigma |a|}e^{-\\frac{1}{2}\\left(\\frac{y-(a\\mu +b)}{\\sigma |a|}\\right)^2}$, $-\\infty<y<\\infty$"
   ]
  },
  {
   "cell_type": "markdown",
   "metadata": {},
   "source": [
    "$\\therefore$ By looking at the $PDF$ of $Y$ we can see that $Y\\sim N(a\\mu+b,a^2\\sigma^2)$"
   ]
  },
  {
   "cell_type": "markdown",
   "metadata": {},
   "source": [
    "**Corollary:** If $X\\sim N(\\mu,\\sigma^2)$,then $Z=\\frac{X-\\mu}{\\sigma}\\sim N(0,1)$"
   ]
  },
  {
   "cell_type": "markdown",
   "metadata": {},
   "source": [
    "*proof:* $Z=\\frac{1}{\\sigma}X+\\left(-\\frac{\\mu}{\\sigma}\\right)$, then result follow from the above theorem.<br><br>"
   ]
  },
  {
   "cell_type": "markdown",
   "metadata": {},
   "source": [
    "### Python scipy Normal Distribution:"
   ]
  },
  {
   "cell_type": "code",
   "execution_count": 54,
   "metadata": {},
   "outputs": [
    {
     "name": "stdout",
     "output_type": "stream",
     "text": [
      "0.09666702920071232\n",
      "0.4012936743170763\n"
     ]
    }
   ],
   "source": [
    "import math\n",
    "from scipy import stats\n",
    "X = stats.norm(3, math.sqrt(16)) # Declare X to be a normal random variable with mean 3 and variance 16\n",
    "print(X.pdf(4))                  # f(3), the probability density at 3\n",
    "print(X.cdf(2))                  # F(2), which is also P(X<= 2) \n",
    "#help(X)                         # List all methods defined for X"
   ]
  },
  {
   "cell_type": "code",
   "execution_count": 3,
   "metadata": {},
   "outputs": [
    {
     "data": {
      "application/vnd.jupyter.widget-view+json": {
       "model_id": "7c9900418cb948e4941f0d5a1ead268c",
       "version_major": 2,
       "version_minor": 0
      },
      "text/plain": [
       "interactive(children=(FloatSlider(value=0.0, description='$z$ :', max=3.5, min=-3.5, step=0.01), Button(descri…"
      ]
     },
     "metadata": {},
     "output_type": "display_data"
    }
   ],
   "source": [
    "%matplotlib inline\n",
    "import math\n",
    "import numpy as np\n",
    "import matplotlib.pyplot as plt\n",
    "from ipywidgets import interact ,interactive, fixed, interact_manual\n",
    "import ipywidgets as widgets\n",
    "from scipy import stats as st\n",
    "\n",
    "\n",
    "def AreaUnderStadardNormalPDF(z):\n",
    "    #fig, ax = plt.subplots()\n",
    "    n=1000\n",
    "    x=np.linspace(-10,10,n)\n",
    "    Z=st.norm(0,1)  # Standard Normal random variable from scipy.stats\n",
    "    fig = plt.figure(figsize=(12,5))\n",
    "    ax=fig.add_subplot(111)\n",
    "    ax.plot(x,Z.pdf(x)) # poting graph of pdf\n",
    "    \n",
    "    # shading area\n",
    "    xx= list(np.linspace(-5,z,1000))\n",
    "    #for xi in xx:\n",
    "    #    ax.plot([xi,xi],[0,Z.pdf(xi)],'g')\n",
    "\n",
    "    ax.fill_between(xx,0,Z.pdf(xx),color='g',label=r'$\\Phi({0})={1}$'.format(z,round(Z.cdf(z),4)))\n",
    "    ax.set_title(r\"AREA $\\Phi(z)=\\frac{1}{\\sqrt{2\\pi}}\\int_{-\\infty}^{z}e^{-\\frac{t^2}{2}}dt$ UNDER THE STANDARD NORMAL CURVE TO THE LEFT OF z\" )\n",
    "    ax.set_xlabel(r\"$z$\")\n",
    "    ax.set_ylabel(r\"$\\varphi(z)$\")\n",
    "    ax.set_xticks([-4,-3,-2,-1,0,1,2,3,4])\n",
    "    ax.set_yticks([0,0.1,0.2,0.3,0.4,0.5])\n",
    "    ax.set_xlim(-4,4)\n",
    "    ax.set_ylim(0,0.5)\n",
    "   # ax.text(z-1, 0.05, r'$\\Phi({0})={1}$'.format(z,round(Z.cdf(z),4)), fontsize=10)\n",
    "    ax.legend()\n",
    "    plt.show()\n",
    "    \n",
    "# Please Click the Run Interact Button to see the Bar graph\n",
    "interactive(AreaUnderStadardNormalPDF,{'manual':True},z=widgets.FloatSlider(min=-3.5, max=3.5, step=0.01, value=0,description='$z$ :'))\n",
    "#interactive(AreaUnderStadardNormalPDF,{'manual':False},z=widgets.FloatSlider(min=-3.5, max=3.5, step=0.01, value=0,description='$z$ :'))\n",
    "\n",
    "\n",
    "\n",
    "    "
   ]
  },
  {
   "cell_type": "code",
   "execution_count": 57,
   "metadata": {},
   "outputs": [
    {
     "data": {
      "image/png": "[encoded data removed]",
      "text/plain": [
       "<Figure size 720x576 with 3 Axes>"
      ]
     },
     "metadata": {
      "needs_background": "light"
     },
     "output_type": "display_data"
    }
   ],
   "source": [
    "%matplotlib inline\n",
    "import math\n",
    "import numpy as np\n",
    "import matplotlib.pyplot as plt\n",
    "from scipy import stats as st\n",
    "\n",
    "\n",
    "def AreaUnderStadardNormalPDF3():\n",
    "    fig, ax = plt.subplots(3,1,figsize=(10, 8))\n",
    "    n=1000\n",
    "    x=np.linspace(-10,10,n)\n",
    "    Z=st.norm(0,1)  # Standard Normal random variable from scipy.stats\n",
    "    for i in [0,1,2]:\n",
    "        ax[i].plot(x,Z.pdf(x))\n",
    "    \n",
    "        # shading area\n",
    "    colrs=['c','m','y']\n",
    "    for i in [1,2,3]:\n",
    "        xx= list(np.linspace(-i,i,1000))\n",
    "       # for xi in xx:\n",
    "       #     ax[i-1].plot([xi,xi],[0,Z.pdf(xi)],colrs[i-1])\n",
    "        ax[i-1].fill_between(xx,0,Z.pdf(xx),color=colrs[i-1])\n",
    "        ax[i-1].set_xlabel(r\"$z$\")\n",
    "        ax[i-1].set_ylabel(r\"$\\varphi(z)$\")\n",
    "        ax[i-1].set_xticks([-4,-3,-2,-1,0,1,2,3,4])\n",
    "        ax[i-1].set_yticks([0,0.1,0.2,0.3,0.4,0.5])\n",
    "        ax[i-1].set_xlim(-4,4)\n",
    "        ax[i-1].set_ylim(0,0.5)\n",
    "        ax[i-1].text(-0.8, 0.05, r'$P(-{0}<Z<{0})={1}$'.format(i,round(Z.cdf(i)-Z.cdf(-i),4)), fontsize=10)\n",
    "    plt.show()\n",
    "    \n",
    "AreaUnderStadardNormalPDF3()\n",
    "\n",
    "\n",
    "\n",
    "    "
   ]
  },
  {
   "cell_type": "markdown",
   "metadata": {},
   "source": [
    "From the above pictures we can see that area (under the standard normal $PDF$) that is not covered from -3 to 3 is negligible.  "
   ]
  },
  {
   "cell_type": "markdown",
   "metadata": {},
   "source": [
    "**Note:**<br><br>\n",
    "1. $\\Phi(-z)=1-\\Phi(z)$ $\\forall z\\in \\mathbb{R}$"
   ]
  },
  {
   "cell_type": "markdown",
   "metadata": {},
   "source": [
    "*proof:* For $z\\in\\mathbb{R}$, $\\Phi(-z)=\\frac{1}{\\sqrt{2\\pi}}\\int_{-\\infty}^{-z}e^{-\\frac{t^2}{2}}dt$"
   ]
  },
  {
   "cell_type": "markdown",
   "metadata": {},
   "source": [
    "Take $u=-t\\Rightarrow~du=-dt$"
   ]
  },
  {
   "cell_type": "markdown",
   "metadata": {},
   "source": [
    "and here $t$ limits: $-\\infty$ to $-z$, so $u$ limits: $\\infty$ to $z$"
   ]
  },
  {
   "cell_type": "markdown",
   "metadata": {},
   "source": [
    "$\\Phi(-z)=\\frac{1}{\\sqrt{2\\pi}}\\int_{\\infty}^{z}e^{-\\frac{u^2}{2}}(-du)$"
   ]
  },
  {
   "cell_type": "markdown",
   "metadata": {},
   "source": [
    "&nbsp; &nbsp; &nbsp; &nbsp; &nbsp; &nbsp; &nbsp; &nbsp; $=\\frac{1}{\\sqrt{2\\pi}}\\int_{z}^{\\infty}e^{-\\frac{u^2}{2}}du=1-\\frac{1}{\\sqrt{2\\pi}}\\int_{-\\infty}^{z}e^{-\\frac{u^2}{2}}du$ &nbsp; ($\\because$ $1=\\frac{1}{\\sqrt{2\\pi}}\\int_{-\\infty}^{\\infty}e^{-\\frac{u^2}{2}}du=\\frac{1}{\\sqrt{2\\pi}}\\int_{-\\infty}^{z}e^{-\\frac{u^2}{2}}du+\\frac{1}{\\sqrt{2\\pi}}\\int_{z}^{\\infty}e^{-\\frac{u^2}{2}}du$ )"
   ]
  },
  {
   "cell_type": "markdown",
   "metadata": {},
   "source": [
    "$\\therefore$ $\\Phi(-z)=1-\\Phi(z)$"
   ]
  },
  {
   "cell_type": "markdown",
   "metadata": {},
   "source": [
    "2. If $X\\sim N(\\mu,\\sigma^2)$, then $F_X(x)=\\Phi\\left(\\frac{x-\\mu}{\\sigma}\\right)$"
   ]
  },
  {
   "cell_type": "markdown",
   "metadata": {},
   "source": [
    "*proof:* $F_X(x)=P(X\\le x)$"
   ]
  },
  {
   "cell_type": "markdown",
   "metadata": {},
   "source": [
    "&nbsp; &nbsp; &nbsp; &nbsp; &nbsp; &nbsp; &nbsp; &nbsp; &nbsp; &nbsp; &nbsp; &nbsp; &nbsp; &nbsp; &nbsp; &nbsp; &nbsp; $=P(\\frac{X-\\mu}{\\sigma}\\le \\frac{x-\\mu}{\\sigma})$   &nbsp; &nbsp;($\\because\\sigma >0$)"
   ]
  },
  {
   "cell_type": "markdown",
   "metadata": {},
   "source": [
    "&nbsp; &nbsp; &nbsp; &nbsp; &nbsp; &nbsp; &nbsp; &nbsp; &nbsp; &nbsp; &nbsp; &nbsp; &nbsp; &nbsp; &nbsp; &nbsp; &nbsp; $=P(Z\\le \\frac{x-\\mu}{\\sigma})=\\Phi\\left(\\frac{x-\\mu}{\\sigma}\\right)$  &nbsp; &nbsp;($\\because~Z=\\frac{X-\\mu}{\\sigma}\\sim N(0,1)$)"
   ]
  },
  {
   "cell_type": "markdown",
   "metadata": {},
   "source": [
    "3. If $X\\sim N(\\mu,\\sigma^2)$, then\n",
    "$P(a<X<b)=$$P(a\\le X<b)=$$P(a<X\\le b)=$$P(a\\le X\\le b)=F_X(b)-F_X(a)=\\Phi\\left(\\frac{b-\\mu}{\\sigma}\\right)-\\Phi\\left(\\frac{a-\\mu}{\\sigma}\\right)$"
   ]
  },
  {
   "cell_type": "markdown",
   "metadata": {},
   "source": [
    "That is to answer the probabilities of events related to Normal random variables all we need is $\\Phi(z)$ values for $z>0$  ($\\because$ $\\Phi(-z)=1-\\Phi(z)$)"
   ]
  },
  {
   "cell_type": "markdown",
   "metadata": {},
   "source": [
    "where  $\\Phi(z)=\\frac{1}{\\sqrt{2\\pi}}\\int_{-\\infty}^{z}e^{-\\frac{t^2}{2}}dt$, and this integration cannot be evaluated analytically, so one has to apply numerical methods for this integration to get values of $\\Phi(z)$"
   ]
  },
  {
   "cell_type": "markdown",
   "metadata": {},
   "source": [
    "In the following program we compute integral using Riemann sum i.e $\\int_{a}^{b}f(x)dx\\approx\\sum_{i=1}^{n}f(c_i)\\Delta x_i$, where $P=\\{a=x_0,x_1,x_2,...,x_n=b\\}$, and $\\Delta x_i=x_i-x_{i-1}$ $c_i\\in [x_{i-1},x_i]$ for $i=1,2,...,n$,"
   ]
  },
  {
   "cell_type": "markdown",
   "metadata": {},
   "source": [
    "<h3 style=\"text-align:center\"> Standard Normal Table</h3>"
   ]
  },
  {
   "cell_type": "code",
   "execution_count": 71,
   "metadata": {},
   "outputs": [
    {
     "name": "stdout",
     "output_type": "stream",
     "text": [
      "********************************** Standard Normal Table **********************************\n",
      "--------------------------------------------------------------------------------------------\n",
      "z      0.00     0.01     0.02     0.03     0.04     0.05     0.06     0.07     0.08     0.09\n",
      "--------------------------------------------------------------------------------------------\n",
      "0.0  0.5000   0.5040   0.5080   0.5120   0.5160   0.5199   0.5239   0.5279   0.5319   0.5359\n",
      "0.1  0.5398   0.5438   0.5478   0.5517   0.5557   0.5596   0.5636   0.5675   0.5714   0.5753\n",
      "0.2  0.5793   0.5832   0.5871   0.5910   0.5948   0.5987   0.6026   0.6064   0.6103   0.6141\n",
      "0.3  0.6179   0.6217   0.6255   0.6293   0.6331   0.6368   0.6406   0.6443   0.6480   0.6517\n",
      "0.4  0.6554   0.6591   0.6628   0.6664   0.6700   0.6736   0.6772   0.6808   0.6844   0.6879\n",
      "0.5  0.6915   0.6950   0.6985   0.7019   0.7054   0.7088   0.7123   0.7157   0.7190   0.7224\n",
      "0.6  0.7257   0.7291   0.7324   0.7357   0.7389   0.7422   0.7454   0.7486   0.7517   0.7549\n",
      "0.7  0.7580   0.7611   0.7642   0.7673   0.7704   0.7734   0.7764   0.7794   0.7823   0.7852\n",
      "0.8  0.7881   0.7910   0.7939   0.7967   0.7995   0.8023   0.8051   0.8078   0.8106   0.8133\n",
      "0.9  0.8159   0.8186   0.8212   0.8238   0.8264   0.8289   0.8315   0.8340   0.8365   0.8389\n",
      "1.0  0.8413   0.8438   0.8461   0.8485   0.8508   0.8531   0.8554   0.8577   0.8599   0.8621\n",
      "1.1  0.8643   0.8665   0.8686   0.8708   0.8729   0.8749   0.8770   0.8790   0.8810   0.8830\n",
      "1.2  0.8849   0.8869   0.8888   0.8906   0.8925   0.8943   0.8962   0.8980   0.8997   0.9015\n",
      "1.3  0.9032   0.9049   0.9066   0.9082   0.9099   0.9115   0.9131   0.9147   0.9162   0.9177\n",
      "1.4  0.9192   0.9207   0.9222   0.9236   0.9251   0.9265   0.9279   0.9292   0.9306   0.9319\n",
      "1.5  0.9332   0.9345   0.9357   0.9370   0.9382   0.9394   0.9406   0.9418   0.9429   0.9441\n",
      "1.6  0.9452   0.9463   0.9474   0.9484   0.9495   0.9505   0.9515   0.9525   0.9535   0.9545\n",
      "1.7  0.9554   0.9564   0.9573   0.9582   0.9591   0.9599   0.9608   0.9616   0.9625   0.9633\n",
      "1.8  0.9641   0.9648   0.9656   0.9664   0.9671   0.9678   0.9686   0.9693   0.9699   0.9706\n",
      "1.9  0.9713   0.9719   0.9726   0.9732   0.9738   0.9744   0.9750   0.9756   0.9761   0.9767\n",
      "2.0  0.9772   0.9778   0.9783   0.9788   0.9793   0.9798   0.9803   0.9808   0.9812   0.9817\n",
      "2.1  0.9821   0.9826   0.9830   0.9834   0.9838   0.9842   0.9846   0.9850   0.9854   0.9857\n",
      "2.2  0.9861   0.9864   0.9868   0.9871   0.9874   0.9878   0.9881   0.9884   0.9887   0.9890\n",
      "2.3  0.9893   0.9896   0.9898   0.9901   0.9904   0.9906   0.9909   0.9911   0.9913   0.9916\n",
      "2.4  0.9918   0.9920   0.9922   0.9924   0.9927   0.9929   0.9930   0.9932   0.9934   0.9936\n",
      "2.5  0.9938   0.9940   0.9941   0.9943   0.9945   0.9946   0.9948   0.9949   0.9951   0.9952\n",
      "2.6  0.9953   0.9955   0.9956   0.9957   0.9958   0.9960   0.9961   0.9962   0.9963   0.9964\n",
      "2.7  0.9965   0.9966   0.9967   0.9968   0.9969   0.9970   0.9971   0.9972   0.9973   0.9974\n",
      "2.8  0.9974   0.9975   0.9976   0.9977   0.9977   0.9978   0.9979   0.9979   0.9980   0.9981\n",
      "2.9  0.9981   0.9982   0.9982   0.9983   0.9984   0.9984   0.9985   0.9985   0.9986   0.9986\n",
      "3.0  0.9986   0.9987   0.9987   0.9988   0.9988   0.9989   0.9989   0.9989   0.9990   0.9990\n",
      "3.1  0.9990   0.9991   0.9991   0.9991   0.9992   0.9992   0.9992   0.9992   0.9993   0.9993\n",
      "3.2  0.9993   0.9993   0.9994   0.9994   0.9994   0.9994   0.9994   0.9995   0.9995   0.9995\n",
      "3.3  0.9995   0.9995   0.9995   0.9996   0.9996   0.9996   0.9996   0.9996   0.9996   0.9996\n",
      "3.4  0.9997   0.9997   0.9997   0.9997   0.9997   0.9997   0.9997   0.9997   0.9997   0.9998\n",
      "3.5  0.9998   0.9998   0.9998   0.9998   0.9998   0.9998   0.9998   0.9998   0.9998   0.9998\n",
      "--------------------------------------------------------------------------------------------\n"
     ]
    }
   ],
   "source": [
    "%matplotlib inline\n",
    "import math\n",
    "import numpy as np\n",
    "\n",
    "def Integral_aTob(f,a,b,n=200000):\n",
    "    x=np.linspace(a,b,n)\n",
    "    return sum(f(x)*((b-a)/n))\n",
    "\n",
    "# Standard Normal PDF\n",
    "def fn(x):\n",
    "    return (1/np.sqrt(2*np.pi))*np.exp((-1/2)*x**2)\n",
    "\n",
    "xx=[r/100 for r in range(10) ]\n",
    "print(34*\"*\",\"Standard Normal Table\",34*\"*\")\n",
    "print(92*\"-\")\n",
    "print(\"z\",end=\"      \")\n",
    "for i in range(len(xx)):\n",
    "    if i==len(xx)-1:\n",
    "        print(xx[i])\n",
    "    elif i==0:\n",
    "         print(str(xx[i])+\"0\",end=\"     \")   \n",
    "    else:\n",
    "        print(xx[i],end=\"     \")    \n",
    "print(92*\"-\")\n",
    "yy=[0.0]\n",
    "for i in range(35):\n",
    "    yy.append(round(yy[i]+0.1,2))\n",
    "\n",
    "for i in range(len(yy)):\n",
    "    print(yy[i],end=\"  \")\n",
    "    for j  in range(len(xx)):\n",
    "        ss=round(Integral_aTob(fn,-5,(xx[j]+yy[i])),4)\n",
    "        ss=str(ss)+(6-len(str(ss)))*'0'\n",
    "        if j==len(xx)-1:\n",
    "            print(ss)\n",
    "        else:\n",
    "            print(ss,end=\"   \")  \n",
    "print(92*\"-\")"
   ]
  },
  {
   "cell_type": "markdown",
   "metadata": {},
   "source": [
    "You can find the above standard normal table in any probability theory book"
   ]
  },
  {
   "cell_type": "markdown",
   "metadata": {},
   "source": [
    "**Example:** If $X\\sim N(\\mu,\\sigma^2)$ where $\\mu=3$ and $\\sigma^2=9$ and find (a) $P(2<X<5)$, (b) $P(X>0)$, and (c) $P(|X-3|>6)$"
   ]
  },
  {
   "cell_type": "markdown",
   "metadata": {},
   "source": [
    "*solution:* (a) $P(2<X<5)=\\Phi\\left(\\frac{5-3}{3}\\right)-\\Phi\\left(\\frac{2-3}{3}\\right)$ &nbsp;($\\because~\\mu=3,\\sigma=3$)"
   ]
  },
  {
   "cell_type": "markdown",
   "metadata": {},
   "source": [
    "&nbsp; &nbsp; &nbsp; &nbsp; &nbsp; &nbsp; &nbsp; &nbsp; &nbsp; &nbsp; &nbsp; &nbsp; &nbsp; &nbsp; &nbsp; &nbsp; &nbsp; &nbsp; &nbsp; &nbsp; &nbsp; &nbsp; &nbsp; &nbsp; $=\\Phi(0.66)-\\Phi(-0.33)$ "
   ]
  },
  {
   "cell_type": "markdown",
   "metadata": {},
   "source": [
    "&nbsp; &nbsp; &nbsp; &nbsp; &nbsp; &nbsp; &nbsp; &nbsp; &nbsp; &nbsp; &nbsp; &nbsp; &nbsp; &nbsp; &nbsp; &nbsp; &nbsp; &nbsp; &nbsp; &nbsp; &nbsp; &nbsp; &nbsp; &nbsp; $=\\Phi(0.66)-(1-\\Phi(0.33))$  &nbsp;($\\because~\\Phi(-z)=1-\\Phi(z)$)"
   ]
  },
  {
   "cell_type": "markdown",
   "metadata": {},
   "source": [
    "&nbsp; &nbsp; &nbsp; &nbsp; &nbsp; &nbsp; &nbsp; &nbsp; &nbsp; &nbsp; &nbsp; &nbsp; &nbsp; &nbsp; &nbsp; &nbsp; &nbsp; &nbsp; &nbsp; &nbsp; &nbsp; &nbsp; &nbsp; &nbsp; $=\\Phi(0.66)+\\Phi(0.33)-1=0.7454+0.6293-1=0.3747$ "
   ]
  },
  {
   "cell_type": "markdown",
   "metadata": {},
   "source": [
    "(b) $P(X>0)=1-P(X\\le 0)=1-\\Phi\\left(\\frac{0-3}{3}\\right)=1-\\Phi(-1)=1-(1-\\Phi(1))=\\Phi(1)=0.8413$"
   ]
  },
  {
   "cell_type": "markdown",
   "metadata": {},
   "source": [
    "(c) $P(|X-3|>6)=1-P(|X-3|\\le 6)$"
   ]
  },
  {
   "cell_type": "markdown",
   "metadata": {},
   "source": [
    "&nbsp;  &nbsp; &nbsp; &nbsp; &nbsp;  &nbsp; &nbsp; &nbsp; &nbsp;  &nbsp; &nbsp; &nbsp; &nbsp;  &nbsp; &nbsp; &nbsp; &nbsp;$=1-P(-6\\le X-3\\le 6)$"
   ]
  },
  {
   "cell_type": "markdown",
   "metadata": {},
   "source": [
    "&nbsp;  &nbsp; &nbsp; &nbsp; &nbsp;  &nbsp; &nbsp; &nbsp; &nbsp;  &nbsp; &nbsp; &nbsp; &nbsp;  &nbsp; &nbsp; &nbsp; &nbsp;$=1-P(-3\\le X\\le 9)$"
   ]
  },
  {
   "cell_type": "markdown",
   "metadata": {},
   "source": [
    "&nbsp;  &nbsp; &nbsp; &nbsp; &nbsp;  &nbsp; &nbsp; &nbsp; &nbsp;  &nbsp; &nbsp; &nbsp; &nbsp;  &nbsp; &nbsp; &nbsp; &nbsp;$=1-\\left(\\Phi\\left(\\frac{9-3}{3}\\right)-\\Phi\\left(\\frac{-3-3}{3}\\right)\\right)$"
   ]
  },
  {
   "cell_type": "markdown",
   "metadata": {},
   "source": [
    "&nbsp;  &nbsp; &nbsp; &nbsp; &nbsp;  &nbsp; &nbsp; &nbsp; &nbsp;  &nbsp; &nbsp; &nbsp; &nbsp;  &nbsp; &nbsp; &nbsp; &nbsp;$=1-\\left(\\Phi(2)-\\Phi(-2)\\right)=1-\\left(\\Phi(2)-(1-\\Phi(2))\\right)=2(1-\\Phi(2))$"
   ]
  },
  {
   "cell_type": "markdown",
   "metadata": {},
   "source": [
    "&nbsp;  &nbsp; &nbsp; &nbsp; &nbsp;  &nbsp; &nbsp; &nbsp; &nbsp;  &nbsp; &nbsp; &nbsp; &nbsp;  &nbsp; &nbsp; &nbsp; &nbsp;$=2(1-0.9772)=0.0456$"
   ]
  },
  {
   "cell_type": "markdown",
   "metadata": {},
   "source": [
    "**Problem:**  If $X\\sim N(\\mu,\\sigma^2)$, then Find $E\\left(\\frac{X-\\mu}{\\sigma}\\right)^k$ for $k=1,2,3,...$"
   ]
  },
  {
   "cell_type": "markdown",
   "metadata": {},
   "source": [
    "*Solution:* $PDF$ $f_X(x)=\\frac{1}{\\sqrt{2\\pi}\\sigma}e^{-\\frac{1}{2}\\left(\\frac{x-\\mu}{\\sigma}\\right)^2},-\\infty<x<\\infty$"
   ]
  },
  {
   "cell_type": "markdown",
   "metadata": {},
   "source": [
    "$E\\left(\\frac{X-\\mu}{\\sigma}\\right)^k=\\frac{1}{\\sqrt{2\\pi}\\sigma}\\int_{-\\infty}^{\\infty}\\left(\\frac{x-\\mu}{\\sigma}\\right)^k e^{-\\frac{1}{2}\\left(\\frac{x-\\mu}{\\sigma}\\right)^2}dx$"
   ]
  },
  {
   "cell_type": "markdown",
   "metadata": {},
   "source": [
    "take $t=\\frac{x-\\mu}{\\sigma}\\Rightarrow dt=\\frac{dx}{\\sigma}$"
   ]
  },
  {
   "cell_type": "markdown",
   "metadata": {},
   "source": [
    "$E\\left(\\frac{X-\\mu}{\\sigma}\\right)^k=\\frac{1}{\\sqrt{2\\pi}}\\int_{-\\infty}^{\\infty}t^ke^{-\\frac{t^2}{2}}dt$"
   ]
  },
  {
   "cell_type": "markdown",
   "metadata": {},
   "source": [
    "If $k$ is odd then $t^k e^{-\\frac{t^2}{2}}$ is odd function, so $E\\left(\\frac{X-\\mu}{\\sigma}\\right)^k=0$"
   ]
  },
  {
   "cell_type": "markdown",
   "metadata": {},
   "source": [
    "If $k$ is even, say $k=2m$"
   ]
  },
  {
   "cell_type": "markdown",
   "metadata": {},
   "source": [
    "$E\\left(\\frac{X-\\mu}{\\sigma}\\right)^{2m}=\\frac{1}{\\sqrt{2\\pi}}\\int_{-\\infty}^{\\infty}t^{2m}e^{-\\frac{t^2}{2}}dt$"
   ]
  },
  {
   "cell_type": "markdown",
   "metadata": {},
   "source": [
    "&nbsp; &nbsp; &nbsp; &nbsp; &nbsp; &nbsp; &nbsp; &nbsp; &nbsp; &nbsp; $=\\frac{2}{\\sqrt{2\\pi}}\\int_{0}^{\\infty}t^{2m}e^{-\\frac{t^2}{2}}dt$ &nbsp; ($\\because$ $t^{2m}e^{-\\frac{t^2}{2}}$ is even function )"
   ]
  },
  {
   "cell_type": "markdown",
   "metadata": {},
   "source": [
    "Take, $u=\\frac{t^2}{2}\\Rightarrow~t=\\sqrt{2u}\\Rightarrow~du=tdt$"
   ]
  },
  {
   "cell_type": "markdown",
   "metadata": {},
   "source": [
    "$E\\left(\\frac{X-\\mu}{\\sigma}\\right)^{2m}=\\sqrt{\\frac{2}{\\pi}}\\int_{0}^{\\infty}\\left(\\sqrt{2u}\\right)^{2m-1}e^{-u}du$"
   ]
  },
  {
   "cell_type": "markdown",
   "metadata": {},
   "source": [
    "&nbsp; &nbsp; &nbsp; &nbsp; &nbsp; &nbsp; &nbsp; &nbsp; &nbsp; &nbsp; $=\\frac{2^m}{\\sqrt{\\pi}}\\int_{0}^{\\infty}{u}^{\\frac{2m-1}{2}}e^{-u}du$"
   ]
  },
  {
   "cell_type": "markdown",
   "metadata": {},
   "source": [
    "&nbsp; &nbsp; &nbsp; &nbsp; &nbsp; &nbsp; &nbsp; &nbsp; &nbsp; &nbsp; $=\\frac{2^m}{\\sqrt{\\pi}}\\int_{0}^{\\infty}{u}^{\\left(m+\\frac{1}{2}\\right)-1}e^{-u}du=\\frac{2^m}{\\sqrt{\\pi}}\\Gamma\\left(m+\\frac{1}{2}\\right)$"
   ]
  },
  {
   "cell_type": "markdown",
   "metadata": {},
   "source": [
    "$\\therefore$ $E\\left(\\frac{X-\\mu}{\\sigma}\\right)^{2m}=\\frac{1}{\\sigma^{2m}}E(X-\\mu)^{2m}=\\frac{2^m}{\\sqrt{\\pi}}\\Gamma\\left(m+\\frac{1}{2}\\right)$"
   ]
  },
  {
   "cell_type": "markdown",
   "metadata": {},
   "source": [
    "$\\therefore$ $\\mu_{2m+1}=E(X-\\mu)^{2m+1}=0$&nbsp;, $\\mu_{2m}=E(X-\\mu)^{2m}=\\frac{\\sigma^{2m}2^m}{\\sqrt{\\pi}}\\Gamma\\left(m+\\frac{1}{2}\\right)$, $m=0,1,2,...$"
   ]
  },
  {
   "cell_type": "markdown",
   "metadata": {},
   "source": [
    "**Problem:** Assume that the time required for a distance runner to run a mile is a normal random variable with mean $\\mu=241$ seconds and standard deviation $\\sigma=2$ seconds. What is the probability that this athlete will run the mile (a)in less than 4 minutes, (b) In more than 235 seconds"
   ]
  },
  {
   "cell_type": "markdown",
   "metadata": {},
   "source": [
    "*solution:* Let $X$ denote time in seconds athlete required to run a mile"
   ]
  },
  {
   "cell_type": "markdown",
   "metadata": {},
   "source": [
    "Here $X\\sim N(241,4)$ "
   ]
  },
  {
   "cell_type": "markdown",
   "metadata": {},
   "source": [
    "(a) $P(\\text{Athlete will run the mile in less than 4 min})=P(X<240)=F_X(240)=\\Phi\\left(\\frac{240-241}{2}\\right)$"
   ]
  },
  {
   "cell_type": "markdown",
   "metadata": {},
   "source": [
    "&nbsp; &nbsp; &nbsp; &nbsp; &nbsp; &nbsp; &nbsp;&nbsp; &nbsp; &nbsp; &nbsp; &nbsp; &nbsp; &nbsp; &nbsp; &nbsp; &nbsp; &nbsp; &nbsp;&nbsp; &nbsp; &nbsp; &nbsp; &nbsp; &nbsp; &nbsp; &nbsp; &nbsp; &nbsp; &nbsp; &nbsp;&nbsp; &nbsp; &nbsp; &nbsp; &nbsp; &nbsp; &nbsp; &nbsp; &nbsp; &nbsp; &nbsp; &nbsp; $=\\Phi\\left(-\\frac{1}{2}\\right)=1-\\Phi(\\frac{1}{2})=1-0.6915=0.3085$"
   ]
  },
  {
   "cell_type": "markdown",
   "metadata": {},
   "source": [
    "(b) $P(\\text{ Athlete require more than 235 sec})=P(X>235)=1-P(X\\le 235)=1-F_X(235)=1-\\Phi\\left(\\frac{235-241}{2}\\right)$"
   ]
  },
  {
   "cell_type": "markdown",
   "metadata": {},
   "source": [
    "&nbsp; &nbsp; &nbsp; &nbsp; &nbsp; &nbsp; &nbsp; &nbsp; &nbsp; &nbsp; &nbsp; &nbsp; &nbsp; &nbsp; &nbsp; &nbsp; &nbsp; &nbsp; &nbsp; &nbsp; &nbsp; &nbsp; &nbsp; &nbsp; &nbsp; &nbsp; &nbsp; &nbsp; &nbsp; &nbsp; &nbsp; &nbsp; &nbsp; &nbsp; &nbsp; &nbsp; $=1-\\Phi\\left(-3\\right)=1-(1-\\Phi\\left(3\\right))=\\Phi(3)=0.9987$"
   ]
  },
  {
   "cell_type": "markdown",
   "metadata": {},
   "source": [
    "**Problem:** Assume that the high price of a commodity tomorrow is normal random variable with $\\mu=10$, and $\\sigma=\\frac{1}{4}$. What is the shortest interval that has probability 0.95 of including tomorrows high price for this commodity?"
   ]
  },
  {
   "cell_type": "markdown",
   "metadata": {},
   "source": [
    "*solution:* Let the interval be $[10-a,10+a]$"
   ]
  },
  {
   "cell_type": "markdown",
   "metadata": {},
   "source": [
    "We want to find $a$ such that $P(10-a\\le X\\le 10+a)=0.95$"
   ]
  },
  {
   "cell_type": "markdown",
   "metadata": {},
   "source": [
    "$P(\\frac{-a}{\\frac{1}{4}}\\le \\frac{X-10}{\\frac{1}{4}}\\le \\frac{a}{\\frac{1}{4}})=0.95$"
   ]
  },
  {
   "cell_type": "markdown",
   "metadata": {},
   "source": [
    "$P(-4a\\le Z \\le 4a)=0.95$ &nbsp; &nbsp; ($\\because$ $\\frac{X-\\mu}{\\sigma}=Z\\sim N(0,1)$)"
   ]
  },
  {
   "cell_type": "markdown",
   "metadata": {},
   "source": [
    "$\\Phi(4a)-\\Phi(-4a)=0.95$ $\\Rightarrow$ $2\\Phi(4a)-1=0.95\\Rightarrow~\\Phi(4a)=0.975$"
   ]
  },
  {
   "cell_type": "markdown",
   "metadata": {},
   "source": [
    "$4a=1.96$  ($\\because$ from the standard Normal table)"
   ]
  },
  {
   "cell_type": "markdown",
   "metadata": {},
   "source": [
    "$a=0.49$"
   ]
  },
  {
   "cell_type": "markdown",
   "metadata": {},
   "source": [
    "$\\therefore$ Interval is $[9.51,10.49]$"
   ]
  },
  {
   "cell_type": "markdown",
   "metadata": {},
   "source": [
    "**Example:** An examination is often regarded as being good(in the sense of determining a valid grade spread for those taking it) if the test scores of those taking the examination can be approximated by a Normal $PDF$.(In other words, a graph of the frequency of grade scores should have approximately the bell-shaped form of the normal density.) The instructor often uses the test scores to estimate the the normal parameters $\\mu$ and $\\sigma^2$ and then assigns the letter grade $A$ to those whose test score is greater than $\\mu+\\sigma$, $B$ to those whose scores is between $\\mu$ and $\\mu+\\sigma$, $C$ to those whose scores is between $\\mu-\\sigma$, and $\\mu$, $D$ to those whose score is between $\\mu-2\\sigma$ and $\\mu-\\sigma$ and $F$ to those getting a score below $\\mu-2\\sigma.$(This is sometimes referred to as grading \"on the curve\")"
   ]
  },
  {
   "cell_type": "markdown",
   "metadata": {},
   "source": [
    "Let $X$ denote the student score, then $X$ is approximately normal with estimated parameters $\\mu$, and $\\sigma^2$"
   ]
  },
  {
   "cell_type": "markdown",
   "metadata": {},
   "source": [
    "$P(X>\\mu+\\sigma)=1-P(X\\le \\mu+\\sigma)=1-\\Phi\\left(\\frac{\\mu+\\sigma-\\mu}{\\sigma}\\right)=1-\\Phi(1)=1-0.8413=0.1587$"
   ]
  },
  {
   "cell_type": "markdown",
   "metadata": {},
   "source": [
    "$P(\\mu<X<\\mu+\\sigma)=\\Phi\\left(\\frac{\\mu+\\sigma-\\mu}{\\sigma}\\right)-\\Phi\\left(\\frac{\\mu-\\mu}{\\sigma}\\right)=\\Phi(1)-\\Phi(0)=0.8413-0.5=0.3413$"
   ]
  },
  {
   "cell_type": "markdown",
   "metadata": {},
   "source": [
    "$P(\\mu-\\sigma<X<\\mu)=\\Phi\\left(\\frac{\\mu-\\mu}{\\sigma}\\right)-\\Phi\\left(\\frac{\\mu-\\sigma-\\mu}{\\sigma}\\right)=\\Phi(0)-\\Phi(-1)=\\Phi(0)-(1-\\Phi(1))=0.5-(1-0.8413)=0.3413$"
   ]
  },
  {
   "cell_type": "markdown",
   "metadata": {},
   "source": [
    "$P(\\mu-2\\sigma<X<\\mu-\\sigma)=\\Phi\\left(\\frac{\\mu-\\sigma-\\mu}{\\sigma}\\right)-\\Phi\\left(\\frac{\\mu-2\\sigma-\\mu}{\\sigma}\\right)=\\Phi(-1)-\\Phi(-2)=(1-\\Phi(1))-(1-\\Phi(2))=\\Phi(2)-\\Phi(1)=0.9772-0.8413=0.1359$"
   ]
  },
  {
   "cell_type": "markdown",
   "metadata": {},
   "source": [
    "$P(X<\\mu-2\\sigma)=\\Phi\\left(\\frac{\\mu-2\\sigma-\\mu}{\\sigma}\\right)=\\Phi(-2)=1-\\Phi(2)=1-0.9772=0.0228$"
   ]
  },
  {
   "cell_type": "markdown",
   "metadata": {},
   "source": [
    "roughly $16\\%$ of class will receive an $A$ grade on the examination, $34\\%$ a $B$ grade, $34\\%$ a $C$ grade, $14\\%$ a $D$ grade and $2\\%$ will fail."
   ]
  }
 ],
 "metadata": {
  "hide_input": false,
  "kernelspec": {
   "display_name": "Python 3 (ipykernel)",
   "language": "python",
   "name": "python3"
  },
  "language_info": {
   "codemirror_mode": {
    "name": "ipython",
    "version": 3
   },
   "file_extension": ".py",
   "mimetype": "text/x-python",
   "name": "python",
   "nbconvert_exporter": "python",
   "pygments_lexer": "ipython3",
   "version": "3.10.0"
  }
 },
 "nbformat": 4,
 "nbformat_minor": 4
}
