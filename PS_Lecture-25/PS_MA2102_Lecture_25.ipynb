{
 "cells": [
  {
   "cell_type": "markdown",
   "metadata": {},
   "source": [
    "<h2 style=\"text-align:center\"> MA2102</h2>\n",
    "<h1 style=\"text-align:center\"> Probability and Statistics</h1>\n",
    "<h4 style=\"text-align:center\"> Lecture-25</h4>"
   ]
  },
  {
   "cell_type": "markdown",
   "metadata": {},
   "source": [
    "<h1>Limit Theorems</h1>"
   ]
  },
  {
   "cell_type": "markdown",
   "metadata": {},
   "source": [
    "The most important theoretical results in probability theory are <b style=\"color:navy\">Law of Large Numbers(LLN)</b>, and <b style=\"color:purple\">Central Limit Theorem(CLT)</b>"
   ]
  },
  {
   "cell_type": "markdown",
   "metadata": {},
   "source": [
    "Law of large numbers states the conditions under which the average of a sequence of random variables converges (in some sense) to expected average. On the other hand, Central limit theorem concerned with determining  conditions under which the sum of large number of random variables has a probability distribution that is approximately normal."
   ]
  },
  {
   "cell_type": "markdown",
   "metadata": {},
   "source": [
    "<h3>Mode of convergence</h3>"
   ]
  },
  {
   "cell_type": "markdown",
   "metadata": {},
   "source": [
    "**Definition:** Let $\\{X_n\\}$ be a sequence of random variables and let $X$ be a random variable defined on a probability space $(\\Omega,\\mathscr{F},P)$. We say that $X_n$ converges <i style=\"color:navy\">in probability</i> to $X$, if for all $\\epsilon >0$"
   ]
  },
  {
   "cell_type": "markdown",
   "metadata": {},
   "source": [
    "$\\underset{n\\to\\infty}{\\lim}P(|X_n-X|\\ge \\epsilon)\\left(=\\underset{n\\to\\infty}{\\lim}P\\{\\omega\\in\\Omega:|X_n(\\omega)-X(\\omega)|\\ge \\epsilon~\\}\\right)=0$ or equivalently  $\\underset{n\\to\\infty}{\\lim}P(|X_n-X|< \\epsilon)=1$"
   ]
  },
  {
   "cell_type": "markdown",
   "metadata": {},
   "source": [
    "If so, we write $X_n\\overset{P}{\\to}X$"
   ]
  },
  {
   "cell_type": "markdown",
   "metadata": {},
   "source": [
    "**Example:** Let $\\{X_n\\}$ be a sequence of random variables with $PMF$ $P(X_n=1)=\\frac{1}{n}$, and $P(X_n=0)=1-\\frac{1}{n}$, then"
   ]
  },
  {
   "cell_type": "markdown",
   "metadata": {},
   "source": [
    "$P(|X_n-\\text{0}|\\ge \\epsilon)=P(|X_n|\\ge \\epsilon)=\\left\\{\\begin{matrix}\n",
    " P(X_n=1)=\\frac{1}{n}& \\text{if }0<\\epsilon\\le 1 \\\\ \n",
    " & \\\\ \n",
    " 0& \\text{if } \\epsilon> 1\n",
    "\\end{matrix}\\right.$"
   ]
  },
  {
   "cell_type": "markdown",
   "metadata": {},
   "source": [
    "so $P(|X_n-0|\\ge \\epsilon)\\to 0$ as $n\\to\\infty$"
   ]
  },
  {
   "cell_type": "markdown",
   "metadata": {},
   "source": [
    "$\\therefore~X_n\\overset{P}{\\to}0$"
   ]
  },
  {
   "cell_type": "markdown",
   "metadata": {},
   "source": [
    "Here $0$ means the degenerate random variable at $0$"
   ]
  },
  {
   "cell_type": "markdown",
   "metadata": {},
   "source": [
    "**Definition:** Let $\\{X_n\\}$ be a sequence of random variables and let $X$ be a random variable defined on a probability space $(\\Omega,\\mathscr{F},P)$. We say that $X_n$ converges <i style=\"color:navy\">almost surely(a.s)</i> to $X$, if"
   ]
  },
  {
   "cell_type": "markdown",
   "metadata": {},
   "source": [
    "$P(\\{\\omega\\in\\Omega:\\underset{n\\to\\infty}{\\lim}X_n(\\omega)= X(\\omega)\\})=1$"
   ]
  },
  {
   "cell_type": "markdown",
   "metadata": {},
   "source": [
    "we write $X_n\\overset{a.s}{\\to}X$ (or) $X_n{\\to}X$ with probability 1."
   ]
  },
  {
   "cell_type": "markdown",
   "metadata": {
    "slideshow": {
     "slide_type": "subslide"
    }
   },
   "source": [
    "**Note:** $X_n\\overset{a.s}{\\to}X$$\\implies$ $X_n\\overset{P}{\\to}X$"
   ]
  },
  {
   "cell_type": "markdown",
   "metadata": {
    "slideshow": {
     "slide_type": "fragment"
    }
   },
   "source": [
    "*proof:*Let $X_n\\overset{a.s}{\\to}X$ then $P(\\{\\omega\\in\\Omega:\\underset{n\\to\\infty}{\\lim}X_n(\\omega)= X(\\omega)\\})=1$"
   ]
  },
  {
   "cell_type": "markdown",
   "metadata": {
    "slideshow": {
     "slide_type": "fragment"
    }
   },
   "source": [
    "so we have, $P(\\{\\omega\\in\\Omega:\\underset{n\\to\\infty}{\\lim}X_n(\\omega)\\ne X(\\omega)\\})=0$"
   ]
  },
  {
   "cell_type": "markdown",
   "metadata": {
    "slideshow": {
     "slide_type": "fragment"
    }
   },
   "source": [
    "for given $\\epsilon >0$, Consider $A_n=\\underset{m\\ge n}{\\bigcup}\\{|X_m-X|\\ge \\epsilon\\}$"
   ]
  },
  {
   "cell_type": "markdown",
   "metadata": {},
   "source": [
    "Here $A_n\\supseteq A_{n+1}\\supseteq ...$"
   ]
  },
  {
   "cell_type": "markdown",
   "metadata": {},
   "source": [
    "$\\underset{n\\to\\infty}{\\lim}A_n=\\underset{n\\ge 1}{\\bigcap}A_n\\subseteq \\{\\omega\\in\\Omega:\\underset{n\\to\\infty}{\\lim}X_n(\\omega)\\ne X(\\omega)\\}$"
   ]
  },
  {
   "cell_type": "markdown",
   "metadata": {},
   "source": [
    "$\\underset{n\\to\\infty}{\\lim}P(A_n)=P\\left(\\underset{n\\to\\infty}{\\lim}A_n\\right)\\le P(\\{\\omega\\in\\Omega:\\underset{n\\to\\infty}{\\lim}X_n(\\omega)\\ne X(\\omega)\\})=0$"
   ]
  },
  {
   "cell_type": "markdown",
   "metadata": {},
   "source": [
    "$\\{|X_n-X|\\ge \\epsilon\\}\\subset A_n$"
   ]
  },
  {
   "cell_type": "markdown",
   "metadata": {},
   "source": [
    "$P(|X_n-X|\\ge \\epsilon)\\le P(A_n)\\to 0$ as $n\\to \\infty$"
   ]
  },
  {
   "cell_type": "markdown",
   "metadata": {},
   "source": [
    "$\\therefore$ $X_n\\overset{P}{\\to}X$"
   ]
  },
  {
   "cell_type": "markdown",
   "metadata": {
    "slideshow": {
     "slide_type": "fragment"
    }
   },
   "source": [
    "But converse is not true."
   ]
  },
  {
   "cell_type": "markdown",
   "metadata": {
    "slideshow": {
     "slide_type": "subslide"
    }
   },
   "source": [
    "**Counter Example**: For each positive integer $n$ there exists integers $m$ and $k$ (uniquely) such that"
   ]
  },
  {
   "cell_type": "markdown",
   "metadata": {
    "slideshow": {
     "slide_type": "fragment"
    }
   },
   "source": [
    "$n=2^k+m$,&nbsp; &nbsp; $0\\le m<2^k$ for $k=0,1,2,3,...$"
   ]
  },
  {
   "cell_type": "markdown",
   "metadata": {
    "slideshow": {
     "slide_type": "fragment"
    }
   },
   "source": [
    "Thus, for $n=1$,$k=0$ and $m=0$; for $n=7$,$k=2$ and $m=3$ and so on."
   ]
  },
  {
   "cell_type": "markdown",
   "metadata": {
    "slideshow": {
     "slide_type": "fragment"
    }
   },
   "source": [
    "Consider the random experiment of picking number in the interval $[0,1]$, then $\\Omega=[0,1]$, define $X_n:\\Omega\\to \\mathbb{R}$ for $n=1,2,3,...$"
   ]
  },
  {
   "cell_type": "markdown",
   "metadata": {
    "slideshow": {
     "slide_type": "fragment"
    }
   },
   "source": [
    "$X_n(\\omega)=\\left\\{\\begin{matrix}\n",
    " 2^k& \\frac{m}{2^k}\\le \\omega <\\frac{m+1}{2^k} \\\\ \n",
    " 0& \\text{otherwise}\n",
    "\\end{matrix}\\right.$"
   ]
  },
  {
   "cell_type": "markdown",
   "metadata": {
    "slideshow": {
     "slide_type": "fragment"
    }
   },
   "source": [
    "$P(X_n=2^k)=\\text{length of}\\left[\\frac{m}{2^k}, \\frac{m+1}{2^k}\\right]=\\frac{1}{2^k}$"
   ]
  },
  {
   "cell_type": "markdown",
   "metadata": {
    "slideshow": {
     "slide_type": "subslide"
    }
   },
   "source": [
    "$P(|X_n-\\text{0}|\\ge\\epsilon)=P(|X_n|\\ge\\epsilon)=\\left\\{\\begin{matrix}\n",
    " P(X_n=2^k)=\\frac{1}{2^k}& \\text{if }0<\\epsilon\\le2^k \\\\ \n",
    " & \\\\ \n",
    " 0& \\text{if } \\epsilon> 2^k\n",
    "\\end{matrix}\\right.$"
   ]
  },
  {
   "cell_type": "markdown",
   "metadata": {
    "slideshow": {
     "slide_type": "fragment"
    }
   },
   "source": [
    "we can see that $P(|X_n-0|\\ge \\epsilon)\\to 0$ as $n(\\text{ and hence }k)\\to \\infty$"
   ]
  },
  {
   "cell_type": "markdown",
   "metadata": {
    "slideshow": {
     "slide_type": "fragment"
    }
   },
   "source": [
    "Hence $X_n\\overset{P}{\\to}0$"
   ]
  },
  {
   "cell_type": "markdown",
   "metadata": {
    "slideshow": {
     "slide_type": "fragment"
    }
   },
   "source": [
    "But $\\lim_{n\\to\\infty}X_n(\\omega)$ does not exists for any $\\omega \\in \\Omega$, so $X_n$ does not converge almost surely."
   ]
  },
  {
   "cell_type": "markdown",
   "metadata": {},
   "source": [
    " "
   ]
  },
  {
   "cell_type": "markdown",
   "metadata": {},
   "source": [
    "Often the limit of a random variable is some constant $a$ (i.e $X$ is degenerate random variable at $a$), in this case, we write <br><br>$X_n\\overset{P}{\\to}a$ (if convergence in probability)<br><br>$X_n\\overset{a.s}{\\to}a$ (if almost sure convergence)"
   ]
  },
  {
   "cell_type": "markdown",
   "metadata": {},
   "source": [
    "**Theorem:** Weak Law of Large Numbers(WLLN)"
   ]
  },
  {
   "cell_type": "markdown",
   "metadata": {},
   "source": [
    "Let $\\{X_n\\}$ be a sequence of $i.i.d$ random variables having common mean $\\mu$. Let $\\overline{X_n}=\\frac{1}{n}\\sum_{i=1}^{n}X_i$, then $\\overline{X_n}\\overset{P}{\\to} \\mu$"
   ]
  },
  {
   "cell_type": "markdown",
   "metadata": {},
   "source": [
    "*proof:* we prove the result only under additional assumption that the random variables have a finite variance $\\sigma^2<\\infty$"
   ]
  },
  {
   "cell_type": "markdown",
   "metadata": {},
   "source": [
    "We already know that $E(\\overline{X_n})=\\mu$ and $Var(\\overline{X_n})=\\frac{\\sigma^2}{n}$"
   ]
  },
  {
   "cell_type": "markdown",
   "metadata": {},
   "source": [
    "Hence by, Chebyshev's inequality, we have for every $\\epsilon >0$,"
   ]
  },
  {
   "cell_type": "markdown",
   "metadata": {},
   "source": [
    "$P(|\\overline{X_n}-\\mu|\\ge\\epsilon)\\le \\frac{Var(\\overline{X_n})}{\\epsilon^2}=\\frac{\\sigma^2}{n\\epsilon^2}\\to 0$ as $n\\to \\infty$"
   ]
  },
  {
   "cell_type": "markdown",
   "metadata": {},
   "source": [
    "$\\therefore$ $\\overline{X_n}\\overset{P}{\\to} \\mu$"
   ]
  },
  {
   "cell_type": "markdown",
   "metadata": {},
   "source": [
    "**Theorem:** Strong Law of Large Numbers(SLLN)"
   ]
  },
  {
   "cell_type": "markdown",
   "metadata": {},
   "source": [
    "Let $\\{X_n\\}$ be a sequence of $i.i.d$ random variables having common mean $\\mu$. Let $\\overline{X_n}=\\frac{1}{n}\\sum_{i=1}^{n}X_i$, then $\\overline{X_n}\\overset{a.s}{\\to} \\mu$"
   ]
  },
  {
   "cell_type": "markdown",
   "metadata": {},
   "source": [
    "*proof:* we will not prove it here"
   ]
  },
  {
   "cell_type": "markdown",
   "metadata": {},
   "source": [
    "<h4>Application of SLLN:</h4>"
   ]
  },
  {
   "cell_type": "markdown",
   "metadata": {},
   "source": [
    "Suppose that a sequence of independent trails of some random experiment is performed. Let $E$ be a event, define a sequence of <i>indicator</i> random variables of $E$"
   ]
  },
  {
   "cell_type": "markdown",
   "metadata": {},
   "source": [
    "$X_i=\\left\\{\\begin{matrix}\n",
    " 1& \\text{if $E$ occurs on $i^{th}$ trial }\\\\ \n",
    "0 & \\text{if $E$ does not occurs on $i^{th}$ trial }\n",
    "\\end{matrix}\\right.$"
   ]
  },
  {
   "cell_type": "markdown",
   "metadata": {},
   "source": [
    "$E(X_i)=1\\times P(X_i=1)+0\\times P(X_i=0)=P(X_i=1)=P(E)~\\forall i=1,2,3,...$ "
   ]
  },
  {
   "cell_type": "markdown",
   "metadata": {},
   "source": [
    "$X_1,X_2,X_3,...X_n,....$ are i.i.d random variables with mean $\\mu=P(E)$"
   ]
  },
  {
   "cell_type": "markdown",
   "metadata": {},
   "source": [
    "$\\therefore$ By SLLN &nbsp; &nbsp; $\\frac{1}{n}\\sum_{i=1}^{n}X_i\\overset{a.s}{\\to}P(E)$ &nbsp; &nbsp;<b>-----(*)</b>"
   ]
  },
  {
   "cell_type": "markdown",
   "metadata": {},
   "source": [
    "Note that, relative frequency of $E$, $\\frac{f_n(E)}{n}=\\frac{1}{n}\\sum_{i=1}^{n}X_i$"
   ]
  },
  {
   "cell_type": "markdown",
   "metadata": {},
   "source": [
    "$\\therefore$ By (*) we see that $\\frac{f_n(E)}{n}\\to P(E)$ with probability 1"
   ]
  },
  {
   "cell_type": "markdown",
   "metadata": {},
   "source": [
    "Hence, relative frequency definition of probability that we discussed in the beginning actually make very good sense here."
   ]
  },
  {
   "cell_type": "markdown",
   "metadata": {},
   "source": [
    "**Definition:** Let $\\{X_n\\}$ be a sequence of random variables and let $X$ be a random variable defined on a probability space $(\\Omega,\\mathscr{F},P)$. We say that $X_n$ converges <i style=\"color:magenta\">in distribution</i> to $X$, if"
   ]
  },
  {
   "cell_type": "markdown",
   "metadata": {},
   "source": [
    "$\\underset{n\\to\\infty}{\\lim}F_{X_n}(x)=F_X(x)$ for all $x\\in\\mathbb{R}$ at which $F_X$ is continuous."
   ]
  },
  {
   "cell_type": "markdown",
   "metadata": {},
   "source": [
    "We write this convergence as $X_n\\overset{D}{\\to}X$"
   ]
  },
  {
   "cell_type": "markdown",
   "metadata": {},
   "source": [
    "**Theorem:** Let $\\{X_n\\}$ be a sequence of random variables with $MGF$, $M_{X_n}(t)$ that  exists for $-h<t<h$ for all $n$. Let $X$ be a random variable with $MGF$ $M_X(t)$ which exists for $-h_1<t<h_1$ where $(-h_1,h_1)\\subseteq (-h,h)$, and if $\\underset{n\\to\\infty}{\\lim}M_{X_{n}}(t)=M_X(t)$ for $-h_1<t<h_1$, then $X_n\\overset{D}{\\to}X$"
   ]
  },
  {
   "cell_type": "markdown",
   "metadata": {},
   "source": [
    "**Theorem:** Central Limit Theorem (CLT):"
   ]
  },
  {
   "cell_type": "markdown",
   "metadata": {},
   "source": [
    "Let $\\{X_n\\}$ be a sequence of $i.i.d$ random variables that has mean $\\mu$ and variance $\\sigma^2$, then<br><br> $\\frac{\\sqrt{n}\\left(\\overline{X_n}-\\mu\\right)}{\\sigma}\\overset{D}{\\to}Z\\sim N(0,1)$ (or) Equivalently $\\frac{\\left(\\sum_{i=1}^{n}X_i-n\\mu\\right)}{\\sqrt{n}\\sigma}\\overset{D}{\\to}Z\\sim N(0,1)$\n"
   ]
  },
  {
   "cell_type": "markdown",
   "metadata": {},
   "source": [
    "*proof:* Assuming $MGF$ of $X_n$ exists"
   ]
  },
  {
   "cell_type": "markdown",
   "metadata": {},
   "source": [
    "Let $S_n=\\frac{\\sum_{i=1}^{n}X_i-n\\mu}{\\sigma}=\\sum_{i=1}^{n}\\left(\\frac{X_i-\\mu}{\\sigma}\\right)$"
   ]
  },
  {
   "cell_type": "markdown",
   "metadata": {},
   "source": [
    "Let $Y_i=\\frac{X_i-\\mu}{\\sigma}$, for $i=1,2,3,..$"
   ]
  },
  {
   "cell_type": "markdown",
   "metadata": {},
   "source": [
    "Here $\\{Y_n\\}$ be a sequence of i.i.d random variables with mean 0 and variance 1"
   ]
  },
  {
   "cell_type": "markdown",
   "metadata": {},
   "source": [
    "$\\therefore$ $S_n=\\sum_{i=1}^nY_i$"
   ]
  },
  {
   "cell_type": "markdown",
   "metadata": {},
   "source": [
    "$\\frac{\\left(\\sum_{i=1}^{n}X_i-n\\mu\\right)}{\\sqrt{n}\\sigma}=\\frac{\\sum_{i=1}^nY_i}{\\sqrt{n}}=\\frac{S_n}{\\sqrt{n}}$"
   ]
  },
  {
   "cell_type": "markdown",
   "metadata": {},
   "source": [
    "So, it is enough to show that $\\frac{S_n}{\\sqrt{n}}\\overset{D}{\\to}Z\\sim N(0,1)$"
   ]
  },
  {
   "cell_type": "markdown",
   "metadata": {},
   "source": [
    "For that, we will show that $M_{\\frac{S_n}{\\sqrt{n}}}(t)\\to M_Z(t)=e^{\\frac{t^2}{2}}$"
   ]
  },
  {
   "cell_type": "markdown",
   "metadata": {},
   "source": [
    "$M_{\\frac{S_n}{\\sqrt{n}}}(t)=M_{S_n}\\left(\\frac{t}{\\sqrt{n}}\\right)$ &nbsp; &nbsp; ($\\because$ $M_{aX}(t)=M_X(at)$)"
   ]
  },
  {
   "cell_type": "markdown",
   "metadata": {},
   "source": [
    "&nbsp; &nbsp; &nbsp; &nbsp; &nbsp; &nbsp; &nbsp; &nbsp; &nbsp;$=M_{\\sum_{i=1}^n Y_i}\\left(\\frac{t}{\\sqrt{n}}\\right)=\\prod_{i=1}^n M_{Y_i}\\left(\\frac{t}{\\sqrt{n}}\\right)$ &nbsp; &nbsp; ($\\because~Y_1,Y_2,Y_3,...Y_n$ are independent )"
   ]
  },
  {
   "cell_type": "markdown",
   "metadata": {},
   "source": [
    "&nbsp; &nbsp; &nbsp; &nbsp; &nbsp; &nbsp; &nbsp; &nbsp; &nbsp;$=\\prod_{i=1}^n M\\left(\\frac{t}{\\sqrt{n}}\\right)=\\left(M\\left(\\frac{t}{\\sqrt{n}}\\right)\\right)^n$ &nbsp; &nbsp; ($\\because~Y_1,Y_2,Y_3,...Y_n$ are identically distributed with common $MGF$ $M(t)$ )"
   ]
  },
  {
   "cell_type": "markdown",
   "metadata": {},
   "source": [
    "now take logorithm both sides"
   ]
  },
  {
   "cell_type": "markdown",
   "metadata": {},
   "source": [
    "$\\log_e M_{\\frac{S_n}{\\sqrt{n}}}(t)=n \\log_eM\\left(\\frac{t}{\\sqrt{n}}\\right)$"
   ]
  },
  {
   "cell_type": "markdown",
   "metadata": {},
   "source": [
    "$\\underset{n\\to\\infty}{\\lim}\\log_e M_{\\frac{S_n}{\\sqrt{n}}}(t)=\\underset{n\\to\\infty}{\\lim} \\frac{\\log_e M\\left(\\frac{t}{\\sqrt{n}}\\right)}{\\frac{1}{n}}$"
   ]
  },
  {
   "cell_type": "markdown",
   "metadata": {},
   "source": [
    "take $y=\\frac{1}{\\sqrt{n}}$, then $y\\to 0 \\iff n\\to \\infty$"
   ]
  },
  {
   "cell_type": "markdown",
   "metadata": {},
   "source": [
    "$\\underset{n\\to\\infty}{\\lim}\\log_e M_{\\frac{S_n}{\\sqrt{n}}}(t)=\\underset{y\\to 0}{\\lim} \\frac{\\log_e M\\left({ty}\\right)}{y^2}$ &nbsp; &nbsp; ($\\because~\\frac{0}{0}$ form)"
   ]
  },
  {
   "cell_type": "markdown",
   "metadata": {},
   "source": [
    "&nbsp; &nbsp; &nbsp; &nbsp; &nbsp; &nbsp; &nbsp; &nbsp; &nbsp; &nbsp; &nbsp; &nbsp; &nbsp; &nbsp; &nbsp; &nbsp;$=\\underset{y\\to 0}{\\lim} \\frac{\\frac{1}{M(ty)}M^{'}(ty)t}{2y}$&nbsp; &nbsp; ($\\because~$ L'Hospital rule)"
   ]
  },
  {
   "cell_type": "markdown",
   "metadata": {},
   "source": [
    "&nbsp; &nbsp; &nbsp; &nbsp; &nbsp; &nbsp; &nbsp; &nbsp; &nbsp; &nbsp; &nbsp; &nbsp; &nbsp; &nbsp; &nbsp; &nbsp;$=\\frac{t}{2}\\underset{y\\to 0}{\\lim}\\frac{1}{M(ty)} \\times \\underset{y\\to 0}{\\lim}\\frac{M^{'}(ty)}{y}$"
   ]
  },
  {
   "cell_type": "markdown",
   "metadata": {},
   "source": [
    "&nbsp; &nbsp; &nbsp; &nbsp; &nbsp; &nbsp; &nbsp; &nbsp; &nbsp; &nbsp; &nbsp; &nbsp; &nbsp; &nbsp; &nbsp; &nbsp;$=\\frac{t}{2}\\frac{1}{M(0)} \\times \\underset{y\\to 0}{\\lim}\\frac{M^{''}(ty)t}{1}$&nbsp; &nbsp; ($\\because~$ L'Hospital rule for $\\frac{M^{'}(ty)}{y}$ as $M^{1}(0)=E(Y_i)=0$)"
   ]
  },
  {
   "cell_type": "markdown",
   "metadata": {},
   "source": [
    "&nbsp; &nbsp; &nbsp; &nbsp; &nbsp; &nbsp; &nbsp; &nbsp; &nbsp; &nbsp; &nbsp; &nbsp; &nbsp; &nbsp; &nbsp; &nbsp;$=\\frac{t^2}{2}\\frac{1}{1} \\times {M^{''}(0)}=\\frac{t^2}{2}$&nbsp; &nbsp; ($\\because~$ ${M^{''}(0)}=E(Y_i^2)=Var(Y_i)=1$ as $E(Y_i)=0$)"
   ]
  },
  {
   "cell_type": "markdown",
   "metadata": {},
   "source": [
    "$\\therefore \\underset{n\\to\\infty}{\\lim}\\log_e M_{\\frac{S_n}{\\sqrt{n}}}(t)=\\frac{t^2}{2}\\implies \\underset{n\\to\\infty}{\\lim}M_{\\frac{S_n}{\\sqrt{n}}}(t)=e^{\\frac{t^2}{2}}$"
   ]
  },
  {
   "cell_type": "markdown",
   "metadata": {},
   "source": [
    "so, $\\frac{S_n}{\\sqrt{n}}\\overset{D}{\\to}Z\\sim N(0,1)$ as $n\\to \\infty$"
   ]
  },
  {
   "cell_type": "markdown",
   "metadata": {},
   "source": [
    "Hence, $\\frac{\\sqrt{n}\\left(\\overline{X_n}-\\mu\\right)}{\\sigma}\\overset{D}{\\to}Z\\sim N(0,1)$ as $n\\to \\infty$"
   ]
  },
  {
   "cell_type": "markdown",
   "metadata": {},
   "source": [
    "**Corollary:** Let $\\{X_n\\}$ be a sequence of $i.i.d$ random variables that has mean $\\mu$ and variance $\\sigma^2$, then $\\sum_{i=1}^{n}X_i$ will be approximately $N(n\\mu,n\\sigma^2)$ for large $n$ (in the context of CLT large means $n\\ge 30$)"
   ]
  },
  {
   "cell_type": "markdown",
   "metadata": {},
   "source": [
    "<h4>Normal approximation to Binomial distribution:</h4>"
   ]
  },
  {
   "cell_type": "markdown",
   "metadata": {},
   "source": [
    "Let $X\\sim Bin(n,p)$, then $X$ can be realized as sum of $n$ i.i.d Bernoulli random variable with probability of success $p$. "
   ]
  },
  {
   "cell_type": "markdown",
   "metadata": {},
   "source": [
    "i.e $X_1,X_2,...,X_n \\overset{i.i.d}{\\sim}Bern(p)$, and $X=\\sum_{i=1}^{n}X_i$, here $E(X_i)=p,Var(X_i)=p(1-p)$ for $i=1,2,3,...$"
   ]
  },
  {
   "cell_type": "markdown",
   "metadata": {},
   "source": [
    "by CLT, $X=\\sum_{i=1}^{n}X_i$ will be approximately $N(np,np(1-p))$"
   ]
  },
  {
   "cell_type": "markdown",
   "metadata": {},
   "source": [
    "i.e $\\frac{X-np}{\\sqrt{np(1-p)}}$ will be approximately $N(0,1)$"
   ]
  },
  {
   "cell_type": "markdown",
   "metadata": {},
   "source": [
    "$\\therefore$ $P(a\\le X\\le b)=P\\left(\\frac{a-np}{\\sqrt{np(1-p)}}\\le \\frac{X-np}{\\sqrt{np(1-p)}} \\le \\frac{b-np}{\\sqrt{np(1-p)}}\\right)\\approx \\Phi\\left(\\frac{b-np}{\\sqrt{np(1-p)}}\\right) - \\Phi\\left(\\frac{a-np}{\\sqrt{np(1-p)}}\\right)$"
   ]
  },
  {
   "cell_type": "markdown",
   "metadata": {},
   "source": [
    "i.e when $n$ is large, $X$ will be approximately $N(np,np(1-p))$"
   ]
  },
  {
   "cell_type": "markdown",
   "metadata": {},
   "source": [
    "The above result also referred as <b>The DeMoivre-Laplace limit theorem</b>"
   ]
  },
  {
   "cell_type": "code",
   "execution_count": 1,
   "metadata": {},
   "outputs": [
    {
     "data": {
      "application/vnd.jupyter.widget-view+json": {
       "model_id": "280b64de73bc4cdf8cdb257ae3b9c79a",
       "version_major": 2,
       "version_minor": 0
      },
      "text/plain": [
       "interactive(children=(IntSlider(value=10, description='n:', max=150), FloatSlider(value=0.5, description='p:',…"
      ]
     },
     "metadata": {},
     "output_type": "display_data"
    }
   ],
   "source": [
    "%matplotlib inline\n",
    "import math\n",
    "import numpy as np\n",
    "import matplotlib.pyplot as plt\n",
    "from ipywidgets import interact ,interactive, fixed, interact_manual\n",
    "import ipywidgets as widgets\n",
    "from scipy import stats as sc\n",
    "\n",
    "\n",
    "def binom_bar(n,p): # as we increase n shape of the distribution gets more and more bell shapped\n",
    "    fig = plt.figure(figsize=(12,8))\n",
    "    ax=fig.add_subplot(111)\n",
    "    X = sc.binom(n, p)\n",
    "    ax.bar(list(range(n+1)),[X.pmf(k) for k in range(n+1)],label=\"n={0} p={1}\".format(n,p))\n",
    "    ax.plot(list(range(n+1)),[X.pmf(k) for k in range(n+1)],c='g')\n",
    "    ax.set_title(\"Normal approximation to Binomial Distribution\")\n",
    "    ax.set_xlabel(\"$trial$\")\n",
    "    ax.set_ylabel(\"$p_X(k)$\")\n",
    "    ax.legend()\n",
    "    plt.show()\n",
    "    \n",
    "\n",
    "# Please Click the Run Interact Button to see the Bar graph\n",
    "\n",
    "interactive(binom_bar,{'manual':False},n=widgets.IntSlider(min=0, max=150, step=1, value=10,description='n:'),p=widgets.FloatSlider(min=0, max=1, step=0.05, value=0.5,description='p:'))\n",
    "    "
   ]
  },
  {
   "cell_type": "markdown",
   "metadata": {},
   "source": [
    "<h4>Normal approximation to Poisson distribution:</h4>"
   ]
  },
  {
   "cell_type": "markdown",
   "metadata": {},
   "source": [
    "Let $X\\sim Poisson(\\lambda)$, where $\\lambda$ is large number then, $X$ can be seen as follows"
   ]
  },
  {
   "cell_type": "markdown",
   "metadata": {},
   "source": [
    "$X=\\sum_{i=1}^{\\lambda}X_i$, where $X_1,X_2,...,X_\\lambda\\overset{i.i.d}{\\sim} Poisson(1)$, so by CLT $X$ will be approximately $N(\\lambda,\\lambda)$"
   ]
  },
  {
   "cell_type": "markdown",
   "metadata": {},
   "source": [
    "i.e i.e $\\frac{X-\\lambda}{\\sqrt{\\lambda}}$ will be approximately $N(0,1)$"
   ]
  },
  {
   "cell_type": "markdown",
   "metadata": {},
   "source": [
    "<h4>Normal approximation to Chi-Squared distribution:</h4>"
   ]
  },
  {
   "cell_type": "markdown",
   "metadata": {},
   "source": [
    "$\\chi^2_n=\\sum_{i=1}^nX_i$, where $X_1,X_2,...,X_n\\overset{i.i.d}{\\sim}\\chi^2_1$  so for large $n$, By CLT $\\chi^2_n\\approx N(n,2n)$"
   ]
  },
  {
   "cell_type": "markdown",
   "metadata": {},
   "source": [
    "<h4>Normal approximation to Gamma distribution:</h4>"
   ]
  },
  {
   "cell_type": "markdown",
   "metadata": {},
   "source": [
    "Let $X\\sim Gamma(\\alpha,\\lambda)$,and  if $\\alpha$ is a large number, then $X$ can be realized as follows."
   ]
  },
  {
   "cell_type": "markdown",
   "metadata": {},
   "source": [
    "then $X=\\sum_{i=1}^{\\alpha}X_i$ $X_1,X_2,...,X_\\alpha\\overset{i.i.d}{\\sim}Exp(\\lambda)\\equiv Gamma(1,\\lambda)$"
   ]
  },
  {
   "cell_type": "markdown",
   "metadata": {},
   "source": [
    "By CLT, $X$ will be approximately $N(\\frac{\\alpha}{\\lambda},\\frac{\\alpha}{\\lambda^2})$"
   ]
  },
  {
   "cell_type": "code",
   "execution_count": 2,
   "metadata": {},
   "outputs": [
    {
     "data": {
      "application/vnd.jupyter.widget-view+json": {
       "model_id": "f83d45e0bba54c219bb4150752f13bab",
       "version_major": 2,
       "version_minor": 0
      },
      "text/plain": [
       "interactive(children=(IntSlider(value=1, description='$\\\\alpha$:', min=1), Output()), _dom_classes=('widget-in…"
      ]
     },
     "metadata": {},
     "output_type": "display_data"
    }
   ],
   "source": [
    "%matplotlib inline\n",
    "import math\n",
    "import numpy as np\n",
    "import matplotlib.pyplot as plt\n",
    "from ipywidgets import interact ,interactive, fixed, interact_manual\n",
    "import ipywidgets as widgets\n",
    "from scipy import stats as sc\n",
    "Infty = 160\n",
    "x=np.linspace(0,Infty,10000)\n",
    "def GammaPDF(alpha): # as we increase n shape of the distribution gets more and more bell shapped\n",
    "    fig = plt.figure(figsize=(12,8))\n",
    "    ax=fig.add_subplot(111)\n",
    "    X = sc.gamma(a=alpha,scale=1)\n",
    "    ax.plot(x,X.pdf(x),label=\"Gamma({0},1)\".format(alpha))\n",
    "    ax.set_title(\"Normal approximation to Gamma distribution\")\n",
    "    ax.set_xlabel(\"$x$\")\n",
    "    ax.set_ylabel(\"$f_X(x)$\")\n",
    "    ax.set_ylim(0,0.5)\n",
    "    ax.legend()\n",
    "    plt.show()\n",
    "    \n",
    "\n",
    "# Please Click the Run Interact Button to see the Bar graph\n",
    "\n",
    "interactive(GammaPDF,{'manual':False},alpha=widgets.IntSlider(min=1, max=100, step=1, value=1,description=r'$\\alpha$:'))\n",
    "    "
   ]
  },
  {
   "cell_type": "markdown",
   "metadata": {},
   "source": [
    "**Note:** we now have two possible approximations to binomial distribution, one is Poisson approximation, which yields a good approximation when $n$ is large and $p$ is small, and the other one is normal approximation which can be shown to be quite good when $np(1-p)$ is large( the normal approximation will in general be quite good for values of $n$ satisfying $np(1-p)\\ge 10$)"
   ]
  },
  {
   "cell_type": "markdown",
   "metadata": {},
   "source": [
    "**Problem:** Let $X$ be the number of times that fair coin lands on heads in 40 flips. Find $P(X=20)$ using the normal approximation and then compare it to the exact solution."
   ]
  },
  {
   "cell_type": "markdown",
   "metadata": {},
   "source": [
    "*solution:* Here $X$ is Binomial random variable which is a discrete integer valued random variable whereas the normal random variable is a continuous random variable, so first we write $(X=i)$ as $(i-\\frac{1}{2}<X<i+\\frac{1}{2})$ since only integer in the interval $(i-\\frac{1}{2}<X<i+\\frac{1}{2})$ is $i$, this is called <b>continuity correction</b>."
   ]
  },
  {
   "cell_type": "markdown",
   "metadata": {},
   "source": [
    "Here $n=40$,$p=0.5$ $np=40(0.5)=20$, and $np(1-p)=40(0.5)(1-0.5)=10$"
   ]
  },
  {
   "cell_type": "markdown",
   "metadata": {},
   "source": [
    "By CLT, $X$ will be approximately $N(20,10)$ "
   ]
  },
  {
   "cell_type": "markdown",
   "metadata": {},
   "source": [
    "$P(X=20)=P(19.5< X< 20.5)\\approx \\Phi\\left(\\frac{20.5-20}{\\sqrt{10}}\\right)-\\Phi\\left(\\frac{19.5-20}{\\sqrt{10}}\\right)$"
   ]
  },
  {
   "cell_type": "markdown",
   "metadata": {},
   "source": [
    "&nbsp; &nbsp; &nbsp; &nbsp; &nbsp; &nbsp; &nbsp; &nbsp; &nbsp; &nbsp; &nbsp; &nbsp; &nbsp; &nbsp; &nbsp; &nbsp; &nbsp; &nbsp; &nbsp; &nbsp; &nbsp; &nbsp; &nbsp; &nbsp; &nbsp; &nbsp; &nbsp; &nbsp; &nbsp; &nbsp; &nbsp; &nbsp; $\\approx \\Phi(0.16)-\\Phi(-0.16)=\\Phi(0.16)-(1-\\Phi(0.16))=2\\Phi(0.16)-1=2(0.5636)-1=0.1272$"
   ]
  },
  {
   "cell_type": "markdown",
   "metadata": {},
   "source": [
    "and exact result is, $P(X=20)=\\binom{40}{20}(0.5)^{20}(1-0.5)^{40-20}=0.1254$"
   ]
  },
  {
   "cell_type": "markdown",
   "metadata": {},
   "source": [
    " "
   ]
  },
  {
   "cell_type": "markdown",
   "metadata": {},
   "source": [
    "**Note:** Before we use normal approximation to discrete integer valued random variable, we do something called <b>continuity correction</b> to the event of interest."
   ]
  },
  {
   "cell_type": "markdown",
   "metadata": {},
   "source": [
    "<h4>Continuity Correction Table</h4>"
   ]
  },
  {
   "cell_type": "markdown",
   "metadata": {},
   "source": [
    "<table style=\"width:100%\">\n",
    "    <tr>\n",
    "         <th>Event &nbsp; &nbsp; &nbsp; &nbsp;&nbsp; &nbsp;</th>\n",
    "         <th>Event after continuity correction</th>\n",
    "    </tr>\n",
    "    <tr>\n",
    "        <td style=\"float:left\">$X=a$</td>\n",
    "        <td>$a-\\frac{1}{2}<X<a+\\frac{1}{2}$</td>\n",
    "    </tr>\n",
    "    <tr>\n",
    "        <td style=\"float:left\">$X>a$</td>\n",
    "        <td>$X>a+\\frac{1}{2}$</td>\n",
    "    </tr> \n",
    "    <tr>\n",
    "        <td style=\"float:left\">$X<a$</td>\n",
    "        <td>$X<a-\\frac{1}{2}$</td>\n",
    "    </tr> \n",
    "    <tr>\n",
    "        <td style=\"float:left\">$X\\ge a$</td>\n",
    "        <td>$X>a-\\frac{1}{2}$</td>\n",
    "    </tr>\n",
    "    <tr>\n",
    "        <td style=\"float:left\">$X\\le a$</td>\n",
    "        <td>$X<a+\\frac{1}{2}$</td>\n",
    "    </tr>      \n",
    "    <tr>\n",
    "        <td style=\"float:left\">$a<X<b$</td>\n",
    "        <td>$a+\\frac{1}{2}<X<b-\\frac{1}{2}$</td>\n",
    "    </tr> \n",
    "    <tr>\n",
    "        <td style=\"float:left\">$a<X\\le b$</td>\n",
    "        <td>$a+\\frac{1}{2}<X<b+\\frac{1}{2}$</td>\n",
    "    </tr> \n",
    "    <tr>\n",
    "        <td style=\"float:left\">$a\\le X< b$</td>\n",
    "        <td>$a-\\frac{1}{2}<X<b-\\frac{1}{2}$</td>\n",
    "    </tr> \n",
    "    <tr>\n",
    "        <td style=\"float:left\">$a\\le X\\le b$</td>\n",
    "        <td>$a-\\frac{1}{2}<X<b+\\frac{1}{2}$</td>\n",
    "    </tr> \n",
    "  \n",
    "\n",
    "    \n",
    "</table>\n"
   ]
  },
  {
   "cell_type": "markdown",
   "metadata": {},
   "source": [
    "**Example:** The ideal size of a first year class at a particular college is 150 students. The college, knowing from past experience that on the average only $30\\%$ of those accepted for admission will actually attend, uses a policy of approving the applications of 450 students. Compute the probability that more than 150 first-year students attend this college."
   ]
  },
  {
   "cell_type": "markdown",
   "metadata": {},
   "source": [
    "*solution:* Each of the 450 students who got approved may attend the college (success) or not (failure) independent to each other"
   ]
  },
  {
   "cell_type": "markdown",
   "metadata": {},
   "source": [
    "Let $X:$ number students that attend the college (Success)"
   ]
  },
  {
   "cell_type": "markdown",
   "metadata": {},
   "source": [
    "$X\\sim Bin(n,p)$ where $n=450,p=0.3$, $np=135$, and $\\sqrt{np(1-p)}=9.72$ we are interested in $P(X>150)=?$"
   ]
  },
  {
   "cell_type": "markdown",
   "metadata": {},
   "source": [
    "Here $n$ is large, so using Normal approximation to Binomial distribution, $F_X(x)\\approx\\Phi\\left(\\frac{x-135}{9.72}\\right)$"
   ]
  },
  {
   "cell_type": "markdown",
   "metadata": {},
   "source": [
    "$P(X>150)=P(X>150.5)=1-P(X\\le 150.5)=1-F_X(150.5)$"
   ]
  },
  {
   "cell_type": "markdown",
   "metadata": {},
   "source": [
    "&nbsp; &nbsp; &nbsp; &nbsp; &nbsp; &nbsp; &nbsp; &nbsp; &nbsp; &nbsp; &nbsp; $\\approx1-\\Phi\\left(\\frac{150.5-135}{9.72}\\right)=1-\\Phi(1.59)=0.0559$"
   ]
  },
  {
   "cell_type": "markdown",
   "metadata": {},
   "source": [
    "Hence less than $6\\%$ of the time more than 150 of 450 accepted actually attend."
   ]
  },
  {
   "cell_type": "markdown",
   "metadata": {},
   "source": [
    "**Problem:** Ram is standing on the number line at position 0. He rolls a die repeatedly. If the roll is 1 or 2, he takes one step right(in positive direction). If the roll is 3,4,5 or 6, he takes two steps to the right. Let $S_n$ be the Ram's position after $n$ rolls of the die. Estimate the probability that $S_{90}$ is at least 160."
   ]
  },
  {
   "cell_type": "markdown",
   "metadata": {},
   "source": [
    "*Solution:* Let $X_i=\\left\\{\\begin{matrix}\n",
    " 1& \\text{if $i^{th}$ roll of die shows up 1 or 2}\\\\ \n",
    " 2& \\text{if $i^{th}$ roll of die shows up 3,4,5,or 6}\n",
    "\\end{matrix}\\right.$ for $i=1,2,3,...$"
   ]
  },
  {
   "cell_type": "markdown",
   "metadata": {},
   "source": [
    "Here $X_1,X_2,X_3,...X_n,...$ are $i.i.d$ random variables"
   ]
  },
  {
   "cell_type": "markdown",
   "metadata": {},
   "source": [
    "$P(X_i=1)=\\frac{1}{3}$, and $P(X_i=2)=\\frac{2}{3}$ for $i=1,2,3,...$"
   ]
  },
  {
   "cell_type": "markdown",
   "metadata": {
    "cell_style": "center"
   },
   "source": [
    "$\\mu=E(X_i)=1P(X_i=1)+2P(X_i=2)=\\frac{5}{3}$"
   ]
  },
  {
   "cell_type": "markdown",
   "metadata": {
    "cell_style": "center"
   },
   "source": [
    "$E(X_i^2)=1^2P(X_i=1)+2^2P(X_i=2)=3$"
   ]
  },
  {
   "cell_type": "markdown",
   "metadata": {},
   "source": [
    "$\\sigma^2=Var(X_i)=E(X_i^2)-(E(X_i))^2=3-\\left(\\frac{5}{3}\\right)^2=\\frac{2}{9}$ for $i=1,2,3,...$"
   ]
  },
  {
   "cell_type": "markdown",
   "metadata": {},
   "source": [
    "now $S_n$ can be expressed  in terms of $X_i$'s as follows"
   ]
  },
  {
   "cell_type": "markdown",
   "metadata": {},
   "source": [
    "$S_n=\\sum_{i=1}^{n}X_i$"
   ]
  },
  {
   "cell_type": "markdown",
   "metadata": {
    "slideshow": {
     "slide_type": "fragment"
    }
   },
   "source": [
    "By $CLT$ $S_n=\\sum_{i=1}^{n}X_i$ will be approximately $N(n\\mu,n\\sigma^2)$"
   ]
  },
  {
   "cell_type": "markdown",
   "metadata": {
    "slideshow": {
     "slide_type": "fragment"
    }
   },
   "source": [
    "For $n=90$, $S_{90}$ will be approximately $N(150,20)$, i.e $F_{S_{90}}(x)=\\Phi\\left(\\frac{x-150}{4.4721}\\right)$"
   ]
  },
  {
   "cell_type": "markdown",
   "metadata": {
    "slideshow": {
     "slide_type": "fragment"
    }
   },
   "source": [
    "$P(S_{90}\\ge 160)=P(S_{90} > 159.5)=1-P(S_{90}\\le 159.5)$"
   ]
  },
  {
   "cell_type": "markdown",
   "metadata": {
    "slideshow": {
     "slide_type": "fragment"
    }
   },
   "source": [
    "&nbsp; &nbsp; &nbsp; &nbsp; &nbsp; &nbsp; &nbsp; &nbsp; &nbsp; &nbsp; &nbsp; &nbsp; &nbsp; $= 1-F_{S_{90}}(159.5)\\approx 1-\\Phi\\left(\\frac{159.5-150}{4.4721}\\right)$ "
   ]
  },
  {
   "cell_type": "markdown",
   "metadata": {
    "slideshow": {
     "slide_type": "fragment"
    }
   },
   "source": [
    "&nbsp; &nbsp; &nbsp; &nbsp; &nbsp; &nbsp; &nbsp; &nbsp; &nbsp; &nbsp; &nbsp; &nbsp; &nbsp; $\\approx1-\\Phi(2.1242)=1-0.9829=0.017$"
   ]
  },
  {
   "cell_type": "markdown",
   "metadata": {},
   "source": [
    "$\\therefore~P(S_{90}\\ge 160)\\approx 0.017$"
   ]
  },
  {
   "cell_type": "code",
   "execution_count": 3,
   "metadata": {},
   "outputs": [
    {
     "data": {
      "image/png": "[encoded data removed]",
      "text/plain": [
       "<Figure size 1152x864 with 6 Axes>"
      ]
     },
     "metadata": {
      "needs_background": "light"
     },
     "output_type": "display_data"
    }
   ],
   "source": [
    "%matplotlib inline\n",
    "import random as rd\n",
    "import numpy as np\n",
    "import matplotlib.pyplot as plt\n",
    "\n",
    "\n",
    "\n",
    "fig, ax = plt.subplots(3,2,figsize=(16, 12))\n",
    "\n",
    "n=1000\n",
    "N=10000\n",
    "lamda,bb=2,3\n",
    "a,b=0,1\n",
    "\n",
    "def UniformSample(a,b,n):\n",
    "    return np.random.uniform(a,b,n)\n",
    "\n",
    "def ExponentialSample(lmda,n):\n",
    "    u=np.random.uniform(0,1,n)\n",
    "    return (-1/lmda)*np.log(1-u)\n",
    "def RayleighSample(b,n):\n",
    "    u=np.random.uniform(0,1,n)\n",
    "    return np.sqrt((-2/b)*np.log(1-u))\n",
    "\n",
    "def LLN(x):\n",
    "    return np.array([sum(x[0:i])/(i+1) for i in range(len(x))])\n",
    "\n",
    "\n",
    "def LLNUniform(a=a,b=b):\n",
    "    return LLN(UniformSample(a,b,n))\n",
    "\n",
    "def LLNExponential(lmda=lamda):\n",
    "    return LLN(ExponentialSample(lmda,n))\n",
    "\n",
    "def LLNRayleigh(b=bb):\n",
    "    return LLN(RayleighSample(b,n))\n",
    "\n",
    "def CLTUniform(a=a,b=b):\n",
    "    s=[]\n",
    "    for _ in range(N):\n",
    "        s.append(sum(UniformSample(a,b,100)))\n",
    "    return np.array(s)\n",
    "def CLTExponential(lmda=lamda):\n",
    "    s=[]\n",
    "    for _ in range(N):\n",
    "        s.append(sum(ExponentialSample(lmda,100)))\n",
    "    return np.array(s)\n",
    "def CLTRayleigh(b=bb):\n",
    "    s=[]\n",
    "    for _ in range(N):\n",
    "        s.append(sum(RayleighSample(b,100)))\n",
    "    return np.array(s)\n",
    "\n",
    "fns=[(LLNUniform,CLTUniform,(a+b)/2,\"Uniform\"),(LLNExponential,CLTExponential,1/lamda,\"Exponential\"),(LLNRayleigh,CLTRayleigh,math.sqrt(math.pi/(2*bb)),\"Rayleigh\")]\n",
    "\n",
    "for i in range(len(fns)):\n",
    "    ax[i][0].set_title(\"Law of Large Numbers for \"+ fns[i][3]+\" random variables\")\n",
    "    ax[i][0].plot(fns[i][0]())\n",
    "    ax[i][0].plot([0,n],[fns[i][2],fns[i][2]],c=(0,1,0,0.5)) # mean line\n",
    "    ax[i][0].set_ylim(0,1)\n",
    "    ax[i][1].set_title(\"Central Limit Theorem for \"+ fns[i][3]+\" random variables\")\n",
    "    ax[i][1].hist(fns[i][1](),bins=100,density=True)\n",
    "    ax[i][0].set_ylim(0,1)\n",
    "    ax[i][1].set_ylim(0,0.25)\n",
    "    \n",
    "plt.show()"
   ]
  },
  {
   "cell_type": "markdown",
   "metadata": {
    "slideshow": {
     "slide_type": "slide"
    }
   },
   "source": [
    "**Exercise:** Write a python function which takes three parameters, $m,v$, and $n$ and returns random sample of  size $n$ from Normal Distribution with mean $m$, and  variance $v$. Then generate the random sample of size 10000, that comes from the Normal distribution with mean 10, and variance 4 (using your function), and plot the histogram using 100 bins."
   ]
  },
  {
   "cell_type": "markdown",
   "metadata": {
    "slideshow": {
     "slide_type": "slide"
    }
   },
   "source": [
    "Hint: $CLT$ "
   ]
  }
 ],
 "metadata": {
  "hide_input": false,
  "kernelspec": {
   "display_name": "Python 3 (ipykernel)",
   "language": "python",
   "name": "python3"
  },
  "language_info": {
   "codemirror_mode": {
    "name": "ipython",
    "version": 3
   },
   "file_extension": ".py",
   "mimetype": "text/x-python",
   "name": "python",
   "nbconvert_exporter": "python",
   "pygments_lexer": "ipython3",
   "version": "3.10.0"
  }
 },
 "nbformat": 4,
 "nbformat_minor": 4
}
