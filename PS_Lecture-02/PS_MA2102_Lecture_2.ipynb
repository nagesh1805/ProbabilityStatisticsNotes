{
 "cells": [
  {
   "cell_type": "markdown",
   "metadata": {
    "slideshow": {
     "slide_type": "slide"
    }
   },
   "source": [
    "<h2 style=\"text-align:center\"> MA2102</h2>\n",
    "<h1 style=\"text-align:center\"> Probability and Statistics</h1>\n",
    "<h4 style=\"text-align:center\"> Lecture-2</h4>"
   ]
  },
  {
   "cell_type": "markdown",
   "metadata": {},
   "source": [
    "<h3>Combinations:</h3><br>     \n",
    "Let $r,n$ are non-negative integers, a <u>$r$-combination</u> of n objects is an unordered selection of $r$ of $n$ objects. It can also be called combination of $n$ objects taken $r$ at a time.A $r$-combination of $n$ object simply means a subset of size $r$ from set of $n$ objects. "
   ]
  },
  {
   "cell_type": "markdown",
   "metadata": {},
   "source": [
    "If $S=\\{a,b,c\\}$, then    \n",
    "$1$-combinations of $S$ are $\\{a\\},\\{b\\},\\{c\\}$     \n",
    "$2$-combinations of $S$ are $\\{a,b\\},\\{a,c\\},\\{b,c\\}$     \n",
    "$3$-combinations of $S$ are $\\{a,b,c\\}$ and there are no 4-combinations as not possible, and.   \n",
    "there is a $0$-combination of S (empty one).      \n",
    "*Notation*:- $\\binom{n}{r} :=$number of $r$-combinations of $n$ objects. These are called binomial coefficient because of the role it played in binomial theorem(we will see later)\n",
    "\n",
    "From above example we can see that $\\binom{3}{0}=1$,$\\binom{3}{1}=3$, $\\binom{3}{2}=3$,$\\binom{3}{3}=1$ and $\\binom{3}{4}=0$       "
   ]
  },
  {
   "cell_type": "markdown",
   "metadata": {},
   "source": [
    "**Theorem:** For $0\\le r\\le n$, $^nP_r=r!\\binom{n}{r}$, Hence $\\binom{n}{r}=\\frac{n!}{r!(n-r)!}$   \n",
    "*proof:*    \n",
    "   Let $S$ be set of an $n$ objects. Each $r-$ permutation of $S$ can be made by performing following procedure that is broken down into sequence of two tasks,   \n",
    "   task-1: choose r objects from S,    \n",
    "   task-2: arrange the chosen r objects in some order.   \n",
    "   and here task-1 can be done in $\\binom{n}{r}$ ways, and task-2 can be done in $r!$ ways, so this procedure can be done in $\\binom{n}{r}r!$ ways.  \n",
    "   $\\therefore~ ^nP_r=\\binom{n}{r}r! \\Rightarrow \\binom{n}{r}=\\frac{n!}{r!(n-r)!}$     \n",
    " **Note**: $\\binom{n}{r}=\\binom{n}{n-r}$"
   ]
  },
  {
   "cell_type": "markdown",
   "metadata": {},
   "source": [
    "**Example**: Twenty five points are chosen in the plane out of which 8 points are collinear and no three points come from outside these 8 points are collinear.How many lines do they determine? How many triangle do they determine?   \n",
    "*solution:*   we know that any two points decides unique line, so we are interested in counting $2$ point subsets of given twenty five points, there are $\\binom{25}{2}$ $2$ point subsets ,but $\\binom{8}{2}$ $2$ point subsets give same line (as 8 of 25 points are collinear ) so the answer is $\\binom{25}{2}-\\binom{8}{2} +1$   \n",
    "when it comes to forming a triangle we need $3$ point subsets of given twenty give points that do not form a triangle and   $3$ point subsets of points from triangle only when all come from $8$ particular set of points, so $\\binom{25}{3}$ will not be correct, but can be fixed as we know exactly $\\binom{25}{3}$ of these won't make triangle, hence these $25$ points determine $\\binom{25}{3}-\\binom{8}{3}$"
   ]
  },
  {
   "cell_type": "markdown",
   "metadata": {},
   "source": [
    "**Problem**:How many binary strings are there of length $n$ that has exactly $r$ $1$'s (so remaining $n-r$ $0$'s)  \n",
    "*solution:* we can see that binary strings of length $n$ that has $r~1$'s and $n-r~0$'s as permutations of $n$ objects in which $r~1$'s alike and $n-r~0$'s alike, and number of such permutations are $\\frac{n!}{r!(n-r)!}$    \n",
    "Hence the number of binary strings of length $n$ that has $r~1$'s equals to $\\binom{n}{r}$"
   ]
  },
  {
   "cell_type": "markdown",
   "metadata": {},
   "source": [
    "## Combinations with repetitions:"
   ]
  },
  {
   "cell_type": "code",
   "execution_count": 1,
   "metadata": {},
   "outputs": [
    {
     "data": {
      "text/html": [
       "<iframe src=\"https://editor.p5js.org/nagi1805/embed/W5xOKxFZz\" width=\"610\" height=\"400\"></iframe>\n"
      ],
      "text/plain": [
       "<IPython.core.display.HTML object>"
      ]
     },
     "metadata": {},
     "output_type": "display_data"
    }
   ],
   "source": [
    "%%HTML\n",
    "<iframe src=\"https://editor.p5js.org/nagi1805/embed/W5xOKxFZz\" width=\"610\" height=\"400\"></iframe>"
   ]
  },
  {
   "cell_type": "markdown",
   "metadata": {},
   "source": [
    "Say you have box that contains Cadbury Gems(🔴,🟢,🔵,🟣) of four colors and enough number of each color, and you grab six gems from the box, question of interest is how many different combinations can you get? please not that gems of same color considered identical, two combinations are considered same if they have same number of gems for each color.  \n",
    "Let $x_1$=#🔴 , $x_2$=#🟢 ,$x_3$=#🔵 ,$x_4$=#🟣 then we have,    \n",
    "$x_1+x_2+x_3+x_4=6$ $x_i\\ge0$ for $i=1,2,3,4$   so there is bijection between the number of non-negative integer solution of equation $x_1+x_2+x_3+x_4=6$ and number of 6-combinations(with repetition allowed).   \n",
    "so lets encode each non-negative solution of the $x_1+x_2+x_3+x_4=6$ with binary strings with particular property. \n",
    "Here are some typical solutions with corresponding encoding.\n",
    "$(1,0,4,1)\\mapsto 011000010$     \n",
    "$(1,1,2,2)\\mapsto 010100100$      \n",
    "$(0,5,1,0)\\mapsto 010000011$   \n",
    "&nbsp; &nbsp;  &nbsp; &nbsp;.    \n",
    "&nbsp; &nbsp;  &nbsp; &nbsp;.   \n",
    "&nbsp; &nbsp;  &nbsp; &nbsp;.     \n",
    "$(x_1,x_2,x_3,x_4)\\mapsto$ binary string with $3~1$'s and $6~0$'s  in wchich $x_1~0$'s left side of first $1$ and $x_2~0$'s in between first $1$ and second $1$ and $x_3~0$'s in between second $1$ ans third $1$ and $x_4~0$'s right side of third $1$     \n",
    "and  we know the count for binary strings of length $9$ with exactly $3~ 1's$ which is$\\binom{9}{3}=\\binom{6+4-1}{4-1}$ in terms of number of colors of gems and number of gems that we picking.   \n",
    "Now we can generalize this, say we have $r$ colored gems in the box,and you grabbed $n$ gems this time, then number of combinations you can get equals to the number of non-negative integer solutions of $x_1+x_2+...+x_r=n$ for $i=1,2,...r$  and each solution can be encoded as follows,   \n",
    "$(x_1,x_2,....,x_r)\\mapsto \\underbrace{0...0}_{x_1~0's}1\\underbrace{0...0}_{x_2~ 0's}1.....1\\underbrace{0...0}_{x_{r-1}~0's}1\\underbrace{0...0}_{x_r~0's}$    \n",
    "so there is a bijection between these solutions and binary strings of length $n+r-1$ with exactly $(r-1)$ 1's and count for binary strings of that property is $\\binom{n+r-1}{r-1}$"
   ]
  },
  {
   "cell_type": "markdown",
   "metadata": {},
   "source": [
    "**Theorem**:Let $n,r$ are non-negative integers, the number of non-negative integer solutions of the equation $x_1+x_2+...+x_r=n$  is $\\binom{n+r-1}{r-1}$"
   ]
  },
  {
   "cell_type": "markdown",
   "metadata": {},
   "source": [
    "**Corollary**: Let $n,r$ are non-negative integers with $r\\le n$, the number of positive integer solutions of the equation <span style=\"color:brown\">$x_1+x_2+...+x_r=n$ </span> is <span style=\"color:purple\">$\\binom{n-1}{r-1}$</span><br><br>\n",
    "*proof*:  Let $S=\\{(x_1,x_2,...,x_r):x_1+x_2+....+x_r=n,~x_i>0 \\forall i\\}$ <br><br>\n",
    "  We are  interested in $|S|=?$  \n",
    "  take $y_i=x_i-1$ then $x_i>0 \\iff y_i\\ge 0 \\forall i$   \n",
    "  $x_1+x_2+....+x_r=n  \\iff y_1+y_2+....+y_r=n-r$\n",
    "  Let $T=\\{(y_1,y_2,...,y_r):y_1+y_2+....+y_r=n-r,~y_i\\ge0 \\forall i\\}$  \n",
    "  then $|T|=\\binom{(n-r)+r-1}{r-1}=\\binom{n-1}{r-1}$   \n",
    "  now $S\\overset{bijection}{\\rightarrow}T$ <br> $(x_1,x_2,...,x_r)\\mapsto (x_1-1,x_2-1,...,x_r-1)=(y_1,y_2,...,y_r)$  \n",
    "  therefore $|S|=|T|=\\binom{n-1}{r-1}$"
   ]
  },
  {
   "cell_type": "markdown",
   "metadata": {},
   "source": [
    "**Example**: An investor has 20 thousand dollars to invest among 4 possible investments. Each investment must be in units of thousand dollars. If the to total 20 thousand is to be invested,(a) how many different investment strategies are possible? (b)What if not all the money need be invested? (c) What if investor must keep some (positive) amount as well must invest some (positive) amount in each of 4 investments?   \n",
    "*solution:*   \n",
    "Let $x_i$ denote the number of thousands invested in investment number $i$ for $i=1,2,3,4$  \n",
    "(a) when all is to be invested $(x_1,x_2,x_3,x_4)$ are non-negative integer solutions of equation $x_1+x_2+x_3+x_4=20$ which is $\\binom{20+4-1}{4-1}=\\binom{23}{3}$   \n",
    "(b) If not all money need be invested then let $x_5$ the leftover money, now $(x_1,x_2,x_3,x_4,x_5)$ are non-negative integer solutions of equation $x_1+x_2+x_3+x_4+x_5=20$ which is $\\binom{20+5-1}{5-1}=\\binom{24}{4}$   \n",
    "(c) you can do it!"
   ]
  },
  {
   "cell_type": "markdown",
   "metadata": {},
   "source": [
    "**Exercise**: How many ways a father can distribute 10 (25g) 5Star chocolates (same brand and same size so identical objects) to his three children. What if father doesn't want to make any child cry?  \n",
    "[Hint: Think interms of integer solutions concept]"
   ]
  },
  {
   "cell_type": "markdown",
   "metadata": {},
   "source": [
    "Now lets get back to the problem that made us learn combinatorics.<br><br>\n",
    "**Problem**:A communication system is to consist of $n$ seemingly identical antennas that are to be lined up in a linear order. The resulting system will then be able to receive all incoming signals and will be called functional as long as no two consecutive antennas are defective . If it turns out that exactly $m$ of $n$ antennas are defective. What is the probability that resulting system being functional?  <br><br> \n",
    "*solution:*  we are simply going to compute the probability as number of configurations that favorable to system being functional  divided by total possible configurations.   \n",
    "Here all antennas look identical, so only difference is whether antenna is defective or not, so we have $n$ antennas in which $m$ are alike (defective:0), $n-m$ are alike (non-defective:1), so the total number of possible configurations equals to number of binary strings of length $n$ that have exactly $(n-m)$ $1$'s <br>\n",
    "=$\\frac{n!}{(n-m)!m!}=\\binom{n}{m}$,   \n",
    "now the number of configurations are actually favorable to system being functional equals to integer solutions o the equation $x_1+x_2+...+x_{m+1}=n-m$, $x_1\\ge 0$,$x_i>0$ for $i=2,3...m$,and $x_{m+1}\\ge 0$    \n",
    "$x_1$:=number of $1$'s that are  left side of first zero,   \n",
    "$x_{m+1}$:= number of $1$'s right side of last zero and  \n",
    "$x_i$:= number of $1$'s between $(i-1)^{th}$ zero and $i^{th}$ zero     \n",
    "now let us take $y_1=x_1+1$, $y_{m+1}=x_{m+1}+1$ and $y_i=x_i$ for $i=2,3...m$  then original equation reduce to $y_1+y_2+y_3+...+y_{m+1}=n-m+2$ and $y_i>0$ for $i=1,2,...,m+1$   there is 1-1 correspondence between solutions of both equations    \n",
    "and number of solutions of $y_1+y_2+y_3+...+y_{m+1}=n-m+2$ and $y_i>0$ equals to $\\binom{(n-m+2)-1}{(m+1)-1}=\\binom{n-m+1}{m}$  ($\\because$ positive integer solutions formula)  <br><br>\n",
    "the probability that system being functional is $\\frac{\\binom{n-m+1}{m}}{\\binom{n}{m}}$"
   ]
  },
  {
   "cell_type": "markdown",
   "metadata": {},
   "source": [
    "#### Combinatorial Proof:   \n",
    "A combinatorial proof of an identity is a proof that uses counting arguments to prove that both sides of the identity count the same objects but in different ways. Many identities involving binomial coefficients can be proved using combinatorial proofs"
   ]
  },
  {
   "cell_type": "markdown",
   "metadata": {},
   "source": [
    "**problem**: Prove (combinatorial proof) $\\binom{n}{r}=\\binom{n}{n-r}$   <br><br>\n",
    "*proof*: Let $S$ be the set with $n$ elements and $\\mathscr{A_1}$ denote the all subsets of $S$ of size $r$, and $\\mathscr{A_2}$ denote the all subsets of $S$ of size $n-r$, so $|\\mathscr{A_1}|=\\binom{n}{r}$, and $|\\mathscr{A_2}|=\\binom{n}{n-r}$     \n",
    "now we can see a bijection between $\\mathscr{A_1}$ and $\\mathscr{A_2}$ with mapping $A\\mapsto A^c$ ($\\because$ $|A|=r \\iff |A^c|=n-r$)   \n",
    "$\\therefore |\\mathscr{A_1}|=|\\mathscr{A_2}|$   ($\\because$ pattern recognition)    \n",
    "Hence $\\binom{n}{r}=\\binom{n}{n-r}$"
   ]
  },
  {
   "cell_type": "markdown",
   "metadata": {},
   "source": [
    "### Pascal Identity     \n",
    "\n",
    "**Theorem:** Let $n$ and $r$ be positive integers with $n\\ge r$. Then $\\binom{n}{r}=\\binom{n-1}{r-1}+\\binom{n-1}{r}$   \n",
    "*proof*: Let us consider a class with n students, and let us fix a student,say CR. Let a committee of $r$ students be selected  (idea is to count these committees in two different ways )    \n",
    "Let $\\mathscr{A}$ denote the all committees of  class that can be formed of size $r$, then $|\\mathscr{A}|=\\binom{n}{r}$     \n",
    "$\\mathscr{A_1}$ denote the all committees of  class that can be formed with CR in it of size $r$, then $|\\mathscr{A_1}|=\\binom{1}{1}\\binom{n-1}{r-1}=\\binom{n-1}{r-1}$   \n",
    "$\\mathscr{A_2}$ denote the all committees of  class that can be formed without CR in it of size $r$,then $|\\mathscr{A_2}|=\\binom{1}{0}\\binom{n-1}{r}=\\binom{n-1}{r}$   \n",
    "and we can see that $\\mathscr{A}=\\mathscr{A_1}\\cup \\mathscr{A_2}$ and $\\mathscr{A_1}\\cap \\mathscr{A_2}=\\emptyset$  ($\\because \\mathscr{A_1}\\cup \\mathscr{A_2}$ and $\\mathscr{A}$ denote the same objects, so they count same thing)    \n",
    "$\\therefore$  $|\\mathscr{A}|=|\\mathscr{A_1}|+|\\mathscr{A_2}|$   ($\\because$ Sum rule)   \n",
    "Hence $\\binom{n}{r}=\\binom{n-1}{r-1}+\\binom{n-1}{r}$ <br><br> \n",
    "*Note*: This identity together with the initial conditions $\\binom{n}{0}=\\binom{n}{n}=1$ can be used in the computation of binomial coefficients recursively, and here only additions(cheap operation for computer) and no multiplications(expensive operation for computer) involved. this recursive algorithm with memoization technique can be used to compute binomial coefficients efficiently."
   ]
  },
  {
   "cell_type": "code",
   "execution_count": 1,
   "metadata": {},
   "outputs": [
    {
     "data": {
      "application/vnd.jupyter.widget-view+json": {
       "model_id": "73834e897f9e4e30b8febe73574a79fb",
       "version_major": 2,
       "version_minor": 0
      },
      "text/plain": [
       "interactive(children=(IntSlider(value=50, description='n:', max=1000), IntSlider(value=20, description='r:', m…"
      ]
     },
     "metadata": {},
     "output_type": "display_data"
    },
    {
     "data": {
      "text/plain": [
       "<function __main__.ncr(n, r)>"
      ]
     },
     "execution_count": 1,
     "metadata": {},
     "output_type": "execute_result"
    }
   ],
   "source": [
    "import math\n",
    "from ipywidgets import interact #,interactive, fixed, interact_manual\n",
    "import ipywidgets as widgets\n",
    "\n",
    "\"\"\"\n",
    "nCr = n-1Cr-1 + n-1Cr , nC0 = nCn =1\n",
    "\n",
    "\"\"\"\n",
    "def ncr(n,r):\n",
    "    return nCr(n,r)\n",
    "          \n",
    "def nCr(n,r=3,d={}):\n",
    "    if r > n :\n",
    "        return 0\n",
    "    elif n==r or r==0:\n",
    "        return 1\n",
    "    \n",
    "    else:\n",
    "        if not (n,r) in d:\n",
    "            d[(n,r)]=nCr(n-1,r-1,d)+nCr(n-1,r,d)  # memoization\n",
    "        return d[(n,r)]\n",
    "nn=widgets.IntSlider(min=0, max=1000, step=1, value=50,description=\"n:\")\n",
    "rr=widgets.IntSlider(min=0, max=1000, step=1, value=20,description=\"r:\")\n",
    "interact(ncr,n=nn,r=rr)"
   ]
  },
  {
   "cell_type": "markdown",
   "metadata": {},
   "source": [
    "**Theorem**(Vandermonde's Identity): Let $m,n$ and $r$ be non-negative integers with $r\\le~min\\{m,n\\}$. Then $\\binom{m+n}{r}$ $=$ $\\sum_{k=0}^{r}$ $\\binom{m}{k}\\binom{n}{r-k}$   \n",
    "*proof:*   \n",
    "Let  a class having $m$ boys, and $n$ girls, Let a committee of $r$ students be selected from class(again we want to count these committees in two different ways),   \n",
    "The number of boys in any committee can be anything from $\\{0,1,2,...r\\}$   \n",
    "Let $\\mathscr{A}$ denote the all committees of  class that can be formed of size $r$, then $|\\mathscr{A}|=\\binom{m+n}{r}$    \n",
    "Let $\\mathscr{A_k}$ denote the all committees of  class that can be formed of size $r$, with exactly $k$ boys (remaining committee contains $r-k$ girls) then $|\\mathscr{A_k}|=\\binom{m}{k}\\binom{n}{r-k}$  for $k=0,1,2,..r$      <br><br>\n",
    "And $\\mathscr{A}=\\bigcup_{k=0}^{r}\\mathscr{A_k}$, $\\mathscr{A_i}\\cap \\mathscr{A_j}=\\emptyset$ for $i\\ne j$   \n",
    "$\\therefore |\\mathscr{A}|=\\sum_{k=0}^{r}|\\mathscr{A_k}|$    \n",
    "Hence $\\binom{m+n}{r}=\\sum_{k=0}^{r}\\binom{m}{k}\\binom{n}{r-k}$\n"
   ]
  },
  {
   "cell_type": "markdown",
   "metadata": {},
   "source": [
    "**Corollary**:If n is non-negative  integer, then $\\binom{2n}{n}=\\sum_{k=0}^{n}\\binom{n}{k}^2$    \n",
    "*proof*: take m=n, and r=n in the Vanddermonde's Identity"
   ]
  },
  {
   "cell_type": "markdown",
   "metadata": {},
   "source": [
    "**Exercise**: Prove that $\\binom{n}{0}+\\binom{n}{1}+\\binom{n}{2}+...+\\binom{n}{n}=2^n$  \n",
    "[Hint: You know the number of subsets of set with n objects is $2^n$, now count the subsets of all sizes (from $0$ to $n$) separately then add them to get the same count for all subsets]"
   ]
  },
  {
   "cell_type": "markdown",
   "metadata": {},
   "source": [
    "**Problem**: Prove that if $n$ and $k$ are integers with $1\\le k\\le n$, then $k\\binom{n}{k}=n\\binom{n-1}{k-1}$    \n",
    "*proof*:    \n",
    "Say we have a class of $n$ students and we are interested in selecting a group of size $k$ and one representative from it, let us count these groups in two different ways so that we end up with two different expression for the same count.    \n",
    "*First way*: First select group of k students  from class and  then pick one representative from selection,this process can be done in $\\binom{n}{k}\\binom{k}{1}=k\\binom{n}{k}$      \n",
    "*Second way*: First select one representative from class then select remaining group from remaining students, this process can be done in $\\binom{n}{1}\\binom{n-1}{k-1}=n\\binom{n-1}{k-1}$       <br><br>\n",
    "$\\therefore k\\binom{n}{k}=n\\binom{n-1}{k-1}$\n"
   ]
  },
  {
   "cell_type": "markdown",
   "metadata": {},
   "source": [
    "**Exercise**: Prove that if $n$ and $k$ are integers with $1\\le k\\le n$, then $k(k-1)\\binom{n}{k}=n(n-1)\\binom{n-2}{k-2}$    [Hint:similar to above problems but you are going to consider a group size k and two distinct representative]\n",
    "  "
   ]
  },
  {
   "cell_type": "markdown",
   "metadata": {},
   "source": [
    "**Problem**: Prove that $\\sum_{k=1}^{n}k\\binom{n}{k}=n2^{n-1}$  \n",
    "*proof*:    \n",
    "Say we have a class of $n$ students and we are interested in selecting a group (any size from $1,2,..n$) and one representative from it, let us count these groups in two different ways so that we end up with two different expression for the same count.        \n",
    "*First way*: First pick one representative from class then pick remaining group(subset) from remaining students, this process can be done in $\\binom{n}{1}2^{n-1}=n2^{n-1}$     ($\\because$ there are $2^{n-1}$ subsets for a set with $n-1$ elements) <br>    \n",
    "*Second way*: First select group of size $k$ from class of $n$ students and  then pick one representative from selection and here $k$ can be either $1$ or $2$ or ....or $n$. So this task can be done in     \n",
    "$1\\binom{n}{1}+2\\binom{n}{2}+3\\binom{n}{3}+...+n\\binom{n}{n}$   ($\\because$ Sum Rule) <br>   \n",
    "$\\therefore$ $\\sum_{k=1}^{n}k\\binom{n}{k}=n2^{n-1}$  "
   ]
  },
  {
   "cell_type": "markdown",
   "metadata": {},
   "source": [
    "**Exercise**:Prove that $\\sum_{k=2}^{n}k(k-1)\\binom{n}{k}=n(n-1)2^{n-2}$  "
   ]
  },
  {
   "cell_type": "markdown",
   "metadata": {},
   "source": [
    "Say a person has $3$ children, and he got $10$ chocolates(all different brands so they don't look identical) for them, and he wants to distribute in a way so that, younger one receives $5$ chocolates and middle one receives $3$ chocolates and elder one receives only $2$ chocolates, so question of interest is how many ways can he distribute them?   \n",
    "Here this distribution process can be broken down into sequence of three tasks,    \n",
    "task-1: distributing $5$ chocolates to younger child from $10$ chocolates, which can be done in $\\binom{10}{5}$    \n",
    "task-2: distributing $3$ chocolates to middle child from remaining $5$ chocolates,which can be done in $\\binom{5}{3}$         \n",
    "task-3: distributing $2$ chocolates to elder child from remaining $2$ chocolates, which can be done in $\\binom{2}{2}$    \n",
    "So by  product rule, this process can be done in $\\binom{10}{5}\\binom{5}{3}\\binom{2}{2}=\\frac{10!}{5!3!2!}$ "
   ]
  },
  {
   "cell_type": "markdown",
   "metadata": {},
   "source": [
    "**Theorem**: Let n be a positive integer and $n_1,n_2,...,n_k$ be positive integers with $n_1+n_2+...+n_k=n$. The number of ways to distribute a set of $n$ objects into $k$ labeled boxes $B_1,B_2,...,B_k$ in which Box $i$ contains $n_i$ objects for $i=1,2,...,k$ equals to $\\frac{n!}{n_1!n_2!...n_k!}$  \n",
    "*proof:* You try"
   ]
  },
  {
   "cell_type": "markdown",
   "metadata": {},
   "source": [
    "Question 1. How many ways can we divide $7$ objects into three labeled groups (with labels $G_1,G_2$,and $G_3$) with  sizes 2,2,3 respectively.   \n",
    "answer is $\\frac{7!}{2!2!3!}$ ($\\because$ above therem)"
   ]
  },
  {
   "cell_type": "markdown",
   "metadata": {},
   "source": [
    "Question 2. How many ways can we divide $7$ objects into three unlabeled groups with sizes 2,2,3 respectively.   \n",
    "what is the difference? Isn't it same as above, no!  \n",
    "In above setting, for example, the divisions {G1:{1,2},G2:{3,4},G3:{5,6,7}} and  {G1:{3,4},G2:{1,2},G3:{5,6,7}} would be different, but if you remove labels, they look as follows,{{1,2},{3,4},{5,6,7}},{{3,4},{1,2},{5,6,7}} both are same, so we have a over count in $\\frac{7!}{2!2!3!}$ for this case and in fact each is over counted exactly $2!$ times, we can fix the answer.   \n",
    "so after fixing, the correct answer would be $\\frac{\\frac{7!}{2!2!3!}}{2!}=\\frac{7!}{2!(2!2!3!)}$"
   ]
  },
  {
   "cell_type": "markdown",
   "metadata": {},
   "source": [
    "Question 3. How many ways can we divide $9$ objects into three unlabeled groups with 2,3,4 sizes(note that all different sizes) respectively.     \n",
    "Here the answer is simply $\\frac{9!}{2!3!4!}$, nothing to fix here, as we will not have any over count like above example, the reason is, though we said unlabeled, they actually got labeled implicitly with their corresponding sizes(all different sizes here, so no ambiguity).   "
   ]
  },
  {
   "cell_type": "markdown",
   "metadata": {},
   "source": [
    "**Theorem**:(More general version) Let n be a positive integer and $n_1,n_2,...,n_k$ be positive integers with $n_1+n_2+...+n_k=n$. The number of ways to distribute a set of $n$ objects into $k$ unlabeled boxes Box $i$ contains $n_i$ objects  for $i=1,2,..k$ and $k_1$ of the sizes are same and $k_2$ of sizes are same, ...,$k_r$ of the sizes are same, where $k_1+k_2+...+k_r=k$, $k_i\\ge1$ for $i=1,2,...r$   equals to $\\frac{n!}{(k_1!k_2!...k_r!)(n_1!n_2!...n_k!)}$  \n",
    "*proof:* Just try to feel intuitively"
   ]
  },
  {
   "cell_type": "markdown",
   "metadata": {},
   "source": [
    "**Exercise**: How many ways can we divide $mn$ people into $m$ groups (no labels) of equal size?    \n",
    "[Hint: take $k=m$, and $n_1=n_2=...=n_m=n$ $\\Rightarrow r=1$ in the above theorem ]"
   ]
  }
 ],
 "metadata": {
  "hide_input": false,
  "kernelspec": {
   "display_name": "Python 3 (ipykernel)",
   "language": "python",
   "name": "python3"
  },
  "language_info": {
   "codemirror_mode": {
    "name": "ipython",
    "version": 3
   },
   "file_extension": ".py",
   "mimetype": "text/x-python",
   "name": "python",
   "nbconvert_exporter": "python",
   "pygments_lexer": "ipython3",
   "version": "3.10.0"
  }
 },
 "nbformat": 4,
 "nbformat_minor": 4
}
