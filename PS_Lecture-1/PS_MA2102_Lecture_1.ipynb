{
 "cells": [
  {
   "cell_type": "markdown",
   "metadata": {
    "slideshow": {
     "slide_type": "slide"
    }
   },
   "source": [
    "<h2 style=\"text-align:center\"> MA2102</h2>\n",
    "<h1 style=\"text-align:center\"> Probability and Statistics</h1>\n",
    "<h4 style=\"text-align:center\"> Lecture-1</h4>"
   ]
  },
  {
   "cell_type": "markdown",
   "metadata": {
    "slideshow": {
     "slide_type": "slide"
    }
   },
   "source": [
    "Let us consider a problem involving probability. A communication system is to consist of $n(50)$ seemingly identical antennas that are to be lined up in a linear order.     \n",
    "📡📡📡📡📡📡📡📡📡📡📡📡📡📡📡📡📡📡📡📡📡📡📡📡📡📡📡📡📡📡📡📡📡📡📡📡📡📡📡📡📡📡📡📡📡📡📡📡📡📡\n",
    "\n",
    "The resulting system will then be able to receive all incoming signals and will be called functional as long as no two consecutive antennas are defective . If it turns out that exactly $m(20)$ of $n(50)$ antennas are defective, what is the probability that the resulting system will be functional ?For instance, in the special case where n=4, and m=2 there are 6 possible system configurations, namely, <span style=\"color:red\">0 1 1 0</span>, <span style=\"color:brown\">0 1 0 1</span>,<span style=\"color:green\">1 0 1 0 </span>,<span style=\"color:blue\"> 0 0 1 1</span>, <span style=\"color:orange\">1 0 0 1</span>,<span style=\"color:DeepPink\"> 1 1 0 0</span>    \n",
    "where 1:= non-defective and 0:= defective. First 3 arrangements in our listing functional and remaining 3 are not, so it seems reasonable to take $\\frac{3}{6}=\\frac{1}{2}$ as the desired probability. In the case of general $n$ and $m$, we could compute the probability that the system is functional in a similar fashion, as long as we could list them. But From for general large m , and n the number of configurations may be so large to list them all. So it would be useful to have an effective method for counting the number of ways that things can occur. In fact many problems in probability theory can be solved simply by counting the number of different ways that a certain event can occur. The mathematical theory of counting is formally known as Combinatorics."
   ]
  },
  {
   "cell_type": "markdown",
   "metadata": {
    "slideshow": {
     "slide_type": "slide"
    }
   },
   "source": [
    "# Combinatorics:"
   ]
  },
  {
   "cell_type": "markdown",
   "metadata": {
    "slideshow": {
     "slide_type": "fragment"
    }
   },
   "source": [
    "Combinatorics is concerned with arrangements of the objects of a set into patterns satisfying specified rules. There are two types of problems that occur in practice.<br>\n",
    "- *Existence of the arrangement*: If one wants to arrange the objects of a set that meets given constrains, it may not be obvious whether such an arrangement is possible. If not, then questions is,under what conditions (both necessary and sufficient) such an arrangement is possible.\n",
    "- *Enumeration of arrangements:* If an arrangement is possible, there may be several ways of achieving it. If so one might count them effectively."
   ]
  },
  {
   "cell_type": "markdown",
   "metadata": {
    "slideshow": {
     "slide_type": "slide"
    }
   },
   "source": [
    "**Problem(a)**(Existence of arrangement):A chess master who has 11 weeks to prepare for tournament decides to play at least one game every day but, in order not to tire himself, he decides not to play more than 12 games during any calender week. Show that there exists a consecutive days during which the chess master will have played exactly 21 games.  "
   ]
  },
  {
   "cell_type": "markdown",
   "metadata": {
    "slideshow": {
     "slide_type": "fragment"
    }
   },
   "source": [
    "To tackle the above problem, and variety of interesting problems often with surprising results, we use a principle called <u> Pigeonhole Principle</u>. it roughly says if a lot of pigeons fly into not too many pigeonholes, then at least one pigeonhole will be occupied by two or more pigeons. we don't want to prove it, as it is complete commonsense. A more precise statement is given below.<br>\n",
    "**The Pigeonhole Principle:**\n",
    "If $n+1$ (or more) pigeons fly into n pigeonholes, then at least one pigeonhole has two or more of pigeons. "
   ]
  },
  {
   "cell_type": "markdown",
   "metadata": {},
   "source": [
    "**Application**: Among 13 people there are at least two who celebrate their birthday in the same month.<br>\n",
    "<u>solution</u>: There 13 people(pigeons) and 12 months(pigeonholes), so at least two people must celebrate birthday on same month by Pigeonhole Principle."
   ]
  },
  {
   "cell_type": "markdown",
   "metadata": {},
   "source": [
    "Now let's tackle the problem(a) using Pigeonhole Principle.     <br><br>\n",
    "Let $a_i:=$ number of games played in up to i days, for $i$= 1,2,3,....77(11 weeks)     \n",
    "and, at least one game played on each day, so we have $1\\le a_1<a_2<a_3<...<a_{77}\\le132$  \n",
    "($\\because$ at most 12 games are played during any one week, so $a_{77}\\le 12\\times 11=132$)  \n",
    "$\\Rightarrow 1+21=22\\le a_1+21<a_2+21<a_3+21<...<a_{77}+21\\le132 +21=153$     \n",
    "Thus, each of 154 numbers, $a_1,a_2,....a_{77},a_1+21,a_2+21,...a_{77}+21$ lies between 1 and 153. so by Pigeonhole Principle two numbers must be same,and one of those two must be from $a_1,a_2,....a_{77}$,     \n",
    "and another must be from  $a_1+21,a_2+21,...a_{77}+21$ ($\\because a_1<a_2<a_3<...<a_{77}$ and $a_1+21<a_2+21<a_3+21<...<a_{77}+21 $)   \n",
    "$\\Rightarrow a_i=a_j+21$ for some $j<i$    \n",
    "Therefore on the days $j+1,j+2,...,i$ the chess master played a total of 21 games"
   ]
  },
  {
   "cell_type": "markdown",
   "metadata": {},
   "source": [
    "**The Generalized Pigeonhole Principle:**\n",
    "If $nk+1$ (or more) pigeons fly into n pigeonholes, then at least one pigeonhole has $k+1$ or more of pigeons. "
   ]
  },
  {
   "cell_type": "markdown",
   "metadata": {},
   "source": [
    "**Application**: Among $100$ people there are at least $9$ who celebrate their birthday in the same month.<br>\n",
    "<u>solution</u>: There $100=(12\\times 8+4)$ people(pigeons) and $12$ months(pigeonholes), so at least $8+1$ people must celebrate birthday on same month by Generalized Pigeonhole Principle."
   ]
  },
  {
   "cell_type": "markdown",
   "metadata": {},
   "source": [
    "**Exercise:** How many cards must be selected from a standard deck of 52 cards to guarantee that at least three cards of the same suit are chosen?"
   ]
  },
  {
   "cell_type": "markdown",
   "metadata": {
    "cell_style": "center",
    "hide_input": false
   },
   "source": [
    "**Problem(b)**(Enumeration of of arrangements):Each user on a computer system has a password, which is six to eight characters long, where each character is a lower case letter or a digit, and each password must contain at least one digit. How many possible passwords are there?\n",
    "\n",
    "Now, lets develop some counting principles and techniques which can be used to solve some simple enumeration problems like problem(b).\n",
    "\n",
    "Say you go to fashion store to buy dress(👕 + 👖) for yourself, say there are only 3 T-shirts,and 4 Jeans for your size. Question of interest is how many choices do you have for your new dress?"
   ]
  },
  {
   "cell_type": "code",
   "execution_count": 1,
   "metadata": {},
   "outputs": [
    {
     "data": {
      "text/html": [
       "<iframe src=\"https://editor.p5js.org/nagi1805/embed/1pTZicCj5\"allowfullscreen=\"true\" width=\"800\" height=\"600\"></iframe>\n"
      ],
      "text/plain": [
       "<IPython.core.display.HTML object>"
      ]
     },
     "metadata": {},
     "output_type": "display_data"
    }
   ],
   "source": [
    "%%HTML\n",
    "<iframe src=\"https://editor.p5js.org/nagi1805/embed/1pTZicCj5\"allowfullscreen=\"true\" width=\"800\" height=\"600\"></iframe>"
   ]
  },
  {
   "cell_type": "markdown",
   "metadata": {
    "cell_style": "center",
    "hide_input": true,
    "slideshow": {
     "slide_type": "fragment"
    }
   },
   "source": [
    "Here you see that there are $3$ ways you can choose your T-shirt and for each way of choosing T-shirt there are $4$ ways to choose your Jeans,so there are $12(=3\\times 4)$ choices for your new dress.   \n",
    "Let us put it differently,here the procedure of selecting a dress for yourself can be broken down into sequence of two tasks, the task-1 is selecting T-shirt, and task-2 is selecting Jeans. Here task-1 can be done in 3 ways and for each of doing task-1 there are 4 ways to do task-2, so this procedure of selecting a dress can be done in $3\\times 4=12$ ways. This is what the product rule. Now let's put the product rule in formal terms. "
   ]
  },
  {
   "cell_type": "markdown",
   "metadata": {
    "cell_style": "center",
    "slideshow": {
     "slide_type": "fragment"
    }
   },
   "source": [
    "## Product Rule (or) Multiplication Principle:    \n",
    "Suppose a procedure can be broken down into sequence of two tasks if a task-1 can be done in $m$ ways and each way of doing task-1, if there are $n$ ways to do task-2, then the procedure can be done in $m\\times n$ ways     \n"
   ]
  },
  {
   "cell_type": "markdown",
   "metadata": {},
   "source": [
    "**Generalized version**:     \n",
    "Suppose a procedure can be broken down into sequence of k tasks, if there are $n_i$ ways to do task-i, regardless of how previous tasks were done for $i=1,2,...k$ then procedure can be done in $n_1\\times n_2\\times...\\times n_k$ways."
   ]
  },
  {
   "cell_type": "markdown",
   "metadata": {},
   "source": [
    "*Example*: How many 4-digit pins are possible to set for your debit card?"
   ]
  },
  {
   "cell_type": "markdown",
   "metadata": {},
   "source": [
    "*solution*: Here typical debit card pin is of the form $p_1 p_2 p_3 p_4$ where $p_i\\in\\{0,1,2...,9\\}$ for $i=1,2,3,4$.   \n",
    "The procedure of making debit card pin can be broken down into sequence of 4 tasks, and task-$i$ is choosing $p_i$ for $i=1,2,3,4$ and task-$i$ can be done in $10$ ways for $i=1,2,3,4$. Therefore by (Generalized)Product  Rule the procedure can be done in $10 \\times 10 \\times 10 \\times=10^4$ ways.   \n",
    "Hence the number of pins that are possible for your debit card is $10^4$<br>"
   ]
  },
  {
   "cell_type": "markdown",
   "metadata": {},
   "source": [
    "*Exercise:* Show that number of binary strings of length $n$ is $2^n$"
   ]
  },
  {
   "cell_type": "markdown",
   "metadata": {},
   "source": [
    "**Note:**\n",
    "- If $A,B$ are finite sets then $|A\\times B|=|A|\\times |B| (\\because$ Product Rule)   \n",
    "- If $A_1,A_2,...,A_k$ are finite sets  for $i=1,2,...,k$ then $|A_1\\times A_2\\times...\\times A_k|=|A_1|\\times |A_2|\\times ... \\times |A_k|$ ($\\because$ (Generalized)Product Rule)"
   ]
  },
  {
   "cell_type": "markdown",
   "metadata": {
    "cell_style": "center"
   },
   "source": [
    "<br><br>\n",
    "\n",
    "Say a JEE aspirant cleared IIT-JEE Adavanced, and  trying to get into IIT kanpur where he can get into either science stream or engineering stream(not both), IIT kanpur offer $5$ UG courses in science(Chemistry,Earth Sciences, Economics, Mathematics and Scientific Computing,Physics) and $8$ UG course in engineering (AE, BSBE, CE, CHE, CSE, EE, ME, MME), then question of interest is how choices does he have to pick his Branch? with simple common sense, one can answer it that is $13(=5+8)$. Okay let's put it in the following way, the task of picking UG branch can be done in either one of $5$ science ways, or one of $8$ engineering ways (and none of any science branch is same as any of engineering branch) then this task can be done in $5+8=13$ ways. This is what a Sum Rule.    \n"
   ]
  },
  {
   "cell_type": "code",
   "execution_count": 1,
   "metadata": {},
   "outputs": [
    {
     "data": {
      "text/html": [
       "<iframe src=\"https://editor.p5js.org/nagi1805/embed/EvMCPqR-6\" width=\"605\" height=\"400\"></iframe>\n"
      ],
      "text/plain": [
       "<IPython.core.display.HTML object>"
      ]
     },
     "metadata": {},
     "output_type": "display_data"
    }
   ],
   "source": [
    "%%HTML\n",
    "<iframe src=\"https://editor.p5js.org/nagi1805/embed/EvMCPqR-6\" width=\"605\" height=\"400\"></iframe>"
   ]
  },
  {
   "cell_type": "markdown",
   "metadata": {},
   "source": [
    "## Sum Rule (or) Addition Principle:  "
   ]
  },
  {
   "cell_type": "markdown",
   "metadata": {},
   "source": [
    "Suppose a task can be done in either one of $m$ ways or in one of $n$ ways and none of the $m$ ways same as any of the $n$ ways, then the task can be done in $m+n$ ways. "
   ]
  },
  {
   "cell_type": "markdown",
   "metadata": {
    "cell_style": "center",
    "hide_input": false
   },
   "source": [
    "**Generalized version**:     \n",
    "Suppose a task can be done in one of $n_1$ ways or in one of $n_2$ ways,..., or in one $n_k$ ways, where none of $n_i$ ways same as any of $n_j$ ways for $1\\le i< j\\le k$ then the task can be done in $n_1+n_2+n_3+...+n_k$ ways."
   ]
  },
  {
   "cell_type": "markdown",
   "metadata": {
    "slideshow": {
     "slide_type": "slide"
    }
   },
   "source": [
    "*Example*: A person wants to travel from city $A$ to city $B$, and there are $10$ buses, $5$ trains and $3$ flights to travel from city $A$ to city $B$. then how many ways he can go from city $A$ to city $B$.    \n",
    "*solution:* The task of traveling from city $A$ to city $B$ can be done in one of the 10 (bus ways) or in one of the 5 (train ways) or in one of the 2 (flight ways), and none of the way from one type of travel same as any of the way from other type of travel, so by (Generalized) Sum Rule this task can be done in $10+5+2=17$ ways"
   ]
  },
  {
   "cell_type": "markdown",
   "metadata": {},
   "source": [
    "**Note:**\n",
    "- If $A,B$ are finite sets with $|A|=m$ and $|B|=n$ and $A\\cap B=\\emptyset$ then $|A\\cup B|=m+n$ i.e $|A\\cup B|=|A|+|B|$ ($\\because$ Sum Rule)   \n",
    "- If $A_1,A_2,...,A_k$ are finite sets with $|A_i|=n_i$ for $i=1,2,...,k$ and $A_i\\cap A_j = \\emptyset$ for $i \\ne j$ then $|A_1\\cup A_2\\cup...\\cup A_k|=n_1+ n_2+ ... + n_k$   \n",
    "i.e $|A_1\\cup A_2\\cup...\\cup A_k|=|A_1|+|A_2|+ ... +|A_k|$ ($\\because$ (Generalized)Sum Rule)"
   ]
  },
  {
   "cell_type": "code",
   "execution_count": 3,
   "metadata": {},
   "outputs": [
    {
     "data": {
      "text/html": [
       "<iframe src=\"https://editor.p5js.org/nagi1805/embed/WCmZF3uUK\" width=\"405\" height=\"550\"></iframe>\n"
      ],
      "text/plain": [
       "<IPython.core.display.HTML object>"
      ]
     },
     "metadata": {},
     "output_type": "display_data"
    }
   ],
   "source": [
    "%%HTML\n",
    "<iframe src=\"https://editor.p5js.org/nagi1805/embed/WCmZF3uUK\" width=\"405\" height=\"550\"></iframe>"
   ]
  },
  {
   "cell_type": "markdown",
   "metadata": {},
   "source": [
    "## Subtraction Rule (or) Complementation Principle:     \n",
    "Let $S$ be universal set and $A\\subseteq S$, then $|A|=|S|-|A^c|$<br>     \n",
    "Sometimes counting stuff ($A$) that we like may be little bit involved to count, but stuff we don't like ($A^c$) may be easier to count as well as to total stuff ($S$), in those situations this <u>Subtraction Rule</u> will be useful. "
   ]
  },
  {
   "cell_type": "markdown",
   "metadata": {},
   "source": [
    "*Example*: How many pins are possible for your debit card with at least one '7'(may be your lucky number)?<br>\n",
    "*solution*: Let $S$ be the set of all possible pins for debit card.   \n",
    "and Let $A$ be the set of all pins we like(with '7')$\\Rightarrow A^c$ will be the set of all pins that we don't like(with out '7'). Here getting count for $A^c$ and $S$ will be pretty straight forward (but not for $A$),    \n",
    "i.e $|S|=10^4$ ($\\because$ Product Rule ) and $|A^c|=9^4$($\\because$ just dont use '7' &  Product Rule), so we use Subtraction Principle, $|A|=|S|-|A^c|=10^4-9^4=3439$ "
   ]
  },
  {
   "cell_type": "markdown",
   "metadata": {},
   "source": [
    "Finally, we are ready to tackle Problem(b),that we posed earlier.<br>\n",
    "*Problem(b)*(Enumeration of of arrangements):Each user on a computer system has a password, which is six to eight characters long, where each character is a lower case letter or a digit, and each password must contain at least one digit. How many possible passwords are there?  \n",
    "*Solution:*   \n",
    "Here characters to we use to make passwords are {a,b,c,...,z,0,1,2,...,9}     \n",
    "Let $P$ denote the set of all possible passwords for the computer (with required conditions).    \n",
    "and let $P_i$ denote the set of all passwords for the computer with length $i$ for $i=6,7,8$ then $P=P_6\\cup P_7 \\cup P_8$ and $P_i\\cap P_j=\\emptyset$ ,$i\\ne j$    \n",
    "$|P|=|P_6|+|P_7|+|P_8|$ ($\\because$ Sum Rule)    \n",
    "and $|P_i|=36^i -26^i$  for $i=6,7,8$  ($\\because$ Product Rule and Subtraction Rule)    \n",
    "$\\therefore |P|=(36^6-26^6)+(36^7-26^7)+(36^8-26^8)=2684483063360$"
   ]
  },
  {
   "cell_type": "markdown",
   "metadata": {},
   "source": [
    "Let us count the number of subsets of a set $\\{e_1,e_2,e_3\\}$    \n",
    "Okay let us list them, $\\emptyset,\\{e_1\\},\\{e_2\\},\\{e_3\\},\\{e_1,e_2\\},\\{e_2,e_3\\},\\{e_1,e_3\\},\\{e_1,e_2,e_3\\}$    \n",
    "lets do the following encoding for these subsets,  Let $X$ be a subset of $\\{e_1,e_2,e_3\\}$<br>\n",
    "$X  ~~~~~~~~~~~~~~~\\rightarrow b_1b_2b_3$    ($ b_i\\in \\{0,1\\},~~b_i=1 \\iff e_i\\in X$ )     \n",
    "$\\emptyset ~~~~~~~~~~~~~~~~\\rightarrow 000$   \n",
    "$\\{e_1\\} ~~~~~~~~~~~\\rightarrow 100$    \n",
    "$\\{e_2\\} ~~~~~~~~~~~\\rightarrow 010$   \n",
    "$\\{e_3\\} ~~~~~~~~~~~\\rightarrow 001$    \n",
    "$\\{e_1,e_2\\}  ~~~~~\\rightarrow 110$   \n",
    "$\\{e_2,e_3\\} ~~~~~\\rightarrow 011$    \n",
    "$\\{e_1,e_3\\} ~~~~~\\rightarrow 101$   \n",
    "$\\{e_1,e_2,e_3\\} \\rightarrow 111$      \n",
    "So we recognized patterns here, we made these subsets of $\\{e_1,e_2,e_3\\}$ look almost like binary strings of length $3$, as there is a bijection between these subsets and binary strings of length 3, so counting the binary string is same as counting these subsets, we already have effective way of counting binary strings, we can say the number of binary strings of length $3$ is $2^3$. So count for subsets of a set $\\{e_1,e_2,e_3\\}$  is $2^3$<br>     \n",
    "In general the number of subsets of set $E=\\{e_1,e_2,...,e_n\\}$   is $2^n$    i.e $|\\mathscr{P}(E)|=2^n$ ( Here $\\mathscr{P}(E)$ denote the power set of $E$ )\n",
    "Let $B=\\{b_1b_2...b_n:b_i\\in \\{0,1\\}\\forall i\\}$  be the set of binary strings of length $n$ and $|B|=2^n$     \n",
    "and let $A=\\mathscr{P}(E)$    \n",
    "define $f:A\\rightarrow B$   \n",
    "          $f(X)=x_1x_2...x_n$ where $x_i=1 \\iff e_i\\in X ~~~\\forall X \\in A$    \n",
    "          one can easily check that $f$ is bijection that is possible only when $|A|=|B|$  \n",
    "          $\\therefore |\\mathscr{P}(E)|=2^n$     \n",
    "       "
   ]
  },
  {
   "cell_type": "markdown",
   "metadata": {},
   "source": [
    "**Pattern Recognition:**(Technique)   \n",
    "Suppose $A$ is the set for which we wish to get count, if we can to produce bijection between $A$ to some other set $B$ whose count we already know then $|A|=|B|$"
   ]
  },
  {
   "cell_type": "markdown",
   "metadata": {},
   "source": [
    "**Theorem 1**: Let $A,B$ are two sets with $|A|=r$ and $|B|=n$ then number of functions from $A$ to $B$ is $n^r$     \n",
    "*Proof:*  \n",
    "Let $A=\\{a_1,a_2,...,a_r\\}$    \n",
    "A procedure of making a function from $A$ to $B$ can be broken down into sequence of $r$ tasks, where task-$i$ is assigning $a_i$ to some element of $B$, for $i=1,2,...,r$ and each task can be done in n ways($\\because |B|=n$)   \n",
    "$\\therefore$ By product rule this procedure can be done in $\\underbrace{n\\times n\\times ...\\times n}_{r~times}=n^r$<br>\n",
    "Hence the number of functions from $A$ to $B$ is $n^r$"
   ]
  },
  {
   "cell_type": "markdown",
   "metadata": {},
   "source": [
    "**Theorem 2**: Let $A,B$ are two sets with $|A|=r$ and $|B|=n$ and $r\\le n$ then number of one-one functions from $A$ to $B$ is $n(n-1)(n-2)...(n-r+1)$<br>\n",
    "*Proof:* Let $A=\\{a_1,a_2,...,a_r\\}$    \n",
    "A procedure of making a one-one function from $A$ to $B$ can be broken down into sequence of $r$ tasks, where task-$i$ is assigning $a_i$ to some element of $B$ that is not been assigned by any previous tasks($\\because$ distinct elements should have distinct images under one-one function), for $i=1,2,...,r$ and each task-$i$ can be done in $(n-i+1)$ ways for $i=1,2,...r$   \n",
    "$\\therefore$ By product rule this procedure can be done in $n(n-1)(n-2)...(n-r+1)$    \n",
    "Hence the number of one-one functions from $A$ to $B$ is $n(n-1)(n-2)...(n-r+1)$    "
   ]
  },
  {
   "cell_type": "markdown",
   "metadata": {},
   "source": [
    " **Corollary**: Let $A,B$ are two sets with $|A|=|B|=n$ then number of bijective functions from $A$ to $B$ is $n!$<br>\n",
    " *Proof:* When we have $|A|=|B|$, a function from $A$ to $B$ is bijection iff it is one-one and we know the number of one-one functions from $A$ to $B$ is $n(n-1)(n-2)...(n-n+1)=n(n-1)(n-2)...2.1=n!$    \n",
    " Hence the number of bijective functions from $A$ to $B$ is $n!$     \n",
    " <u>*Note:*</u> We will get count for onto functions later as we will need more advanced counting technique."
   ]
  },
  {
   "cell_type": "markdown",
   "metadata": {},
   "source": [
    "*Example 1:* How many ways can we distribute $4$ chocolates (different brand) to $6$ children (with no restriction).     \n",
    "*solution*: Let $A$ be the set of $4$ chocolates and $B$ be the set  of $6$ children.      \n",
    "Here we can recognize each way of distribution of chocolates to children as a function from $A$ to $B$.\n",
    "So the number of ways we can do this distribution = number of functions from $A$ to $B$ = $6^4$ ($\\because$ pattern recognition)"
   ]
  },
  {
   "cell_type": "markdown",
   "metadata": {},
   "source": [
    "*Example 2:* How many ways can we distribute $4$ chocolates (different brand) to $6$ children so that each children can get at most one chocolate.   \n",
    "*solution:* Pretty similar to above problem, only difference going to be  that we are going to recognize these distributions as one-one functions.     \n",
    "So here answer will be $6(6-1)(6-2)(6-3)=360$"
   ]
  },
  {
   "cell_type": "markdown",
   "metadata": {},
   "source": [
    "*Example 3:* In a class room there are 30 seats that are occupied by 30 students. A teacher wants to shuffle the students as he decided to conduct a quiz. How many seating arrangements are possible.     \n",
    "*solution:* Let $A$ be the set of $30$ students and $B$ be the set of $30$ seats in the class. Here $|A|=|B|$, now we recognize each seating arrangement as bijective function from $A$ to $B$, so answer will be $30!=265252859812191058636308480000000$  ($\\because$ pattern recognition)"
   ]
  },
  {
   "cell_type": "markdown",
   "metadata": {},
   "source": [
    "In many counting problems we count arrangements (ordered selection) of objects from given set, and groups a.k.a subsets (unordered selection) of objects from given set, the former type are called <u>permutations</u>, and later type are called <u>combinations</u>.<br>  \n",
    "If we are trying to count the number of ways to select three out of five people (remaining two may be working like one may be operating camera, other may be holding soft light ) to stand in a line(<span style=\"color:blue\"> gathered in group</span>) for picture, then it is a permutation(<span style=\"color:blue\"> combination</span>) problem as order of selection matters (<span style=\"color:blue\"> doesn't matter</span>). if we want"
   ]
  },
  {
   "cell_type": "markdown",
   "metadata": {},
   "source": [
    "**Permutations**:"
   ]
  },
  {
   "cell_type": "markdown",
   "metadata": {},
   "source": [
    "Let $r,n$ are non-negative integers, a <u>*$r$-permutation*</u> of n objects is an ordered selection (or) arrangement of $r$ of $n$ objects. It can also be called permutation of $n$ objects taken $r$ at a time. If we use all of n objects in permutation then it is simply called permutation of $n$ objects.  \n",
    "Note:in making these permutations we don't repeat any objects."
   ]
  },
  {
   "cell_type": "markdown",
   "metadata": {},
   "source": [
    "If $S=\\{a,b,c\\}$, then    \n",
    "$1$-permutations of $S$ are $a,b,c$     \n",
    "$2$-permutations of $S$ are $ab,ac,ba,bc,ca,cb,$     \n",
    "$3$-permutations of $S$ are $abc,cab,bac,bca,acb,cba$ and there are no 4-permutations as not possible, and.   \n",
    "there is a $0$-permutation of S (empty one).      \n",
    "*Notation*:- $^nP_r:=$number of $r$-permutations of $n$ objects.   \n",
    "From above example we can see that $^3P_0=1$,$^3P_1=3$, $^3P_2=6$,$^3P_3=6$ and $^3P_4=0$"
   ]
  },
  {
   "cell_type": "markdown",
   "metadata": {},
   "source": [
    "**Thorem**: If $0\\le r\\le n$, the $^nP_r=\\frac{n!}{(n-r)!}$ ,and $^nP_r=0$ for $r> n$    \n",
    "Proof: Let S be the set of $n$ object that are used to make $r$-permutations. \n",
    "then a typical $r$-permutation of looks as follows,     \n",
    "$x_1 x_2 x_3...x_r$  where &nbsp; &nbsp; $x_i\\in S$ for $i=1,2,...,r$  and $x_i\\ne x_j$ for $i\\ne j$   \n",
    "If we look closely we recognize the pattern that it almost look like a one-one function from set $\\{1,2,3,...,r\\}$ to $S$ with mapping $i\\mapsto x_i$ ($\\because$ permutations without repetitions), so there is a bijection between these $r$-permutations of $n$-objects to set of one-one functions from $\\{1,2,3,...,r\\}$ to $S$ and we already know how to count one-one functions and count the is $n(n-1)(n-2)...(n-r+1)=\\frac{n(n-1)(n-2)...(n-r+1)\\times(n-r)(n-r-1)...2.1}{(n-r)(n-r-1)...2.1}=\\frac{n!}{(n-r)!}$       \n",
    "$\\therefore$ for $0\\le r\\le n$, we have $^nP_r=\\frac{n!}{(n-r)!}$      \n",
    "and obviously $^nP_r=0$ for $r>n$"
   ]
  },
  {
   "cell_type": "markdown",
   "metadata": {},
   "source": [
    "**Corollary**:The number of permutations of $n$ objects is $^nP_n=\\frac{n!}{(n-n)!}=n!$"
   ]
  },
  {
   "cell_type": "markdown",
   "metadata": {},
   "source": [
    "**Example**: Suppose there are eight runners in a race. The winner receives a gold medal, the second-place fisher receives a silver medal, and the third finisher receives a bronze medal. How many different ways are there to award these medals, if all possible outcomes of the race can occur and there are no ties?      \n",
    "*solution:* Each way to award the medals can be seen as a 3-permutation of 8 objects, so answer is $^8P_3=336$"
   ]
  },
  {
   "cell_type": "markdown",
   "metadata": {},
   "source": [
    "**Exercise:** Suppose that saleswoman has to visit eight different cities. She must begin her trip in a specified city, but she can visit the other seven cities in any order she wishes. How many possible orders can saleswoman use when visiting these cities?   "
   ]
  },
  {
   "cell_type": "markdown",
   "metadata": {},
   "source": [
    "**Example**: Let there are $n$ students, and no two student are of same height, then how many ways can we make $r$ students stand them in a line so that they stand in ascending order of heights?   \n",
    "*solution*: There are ways $^nP_r$ a to stand $r$ of them in a line, and for given $r$ students there are $r!$ ways we can stand them in line, but of of them only one way satisfies our requirement, that means means in $^nP_r$ every possible way of standing with requirement is over counted exactly $r!$ times so the answer is $\\frac{^nP_r}{r!}=\\frac{n!}{r!(n-r)!}$   <br><br>\n",
    "**Exercise** Let $S=\\{1,2,3,...,n\\}$, and $\\mathscr{S}=\\{(i_1,i_2,...i_r):1\\le i_1<i_2<...<i_r\\le n\\}$ then $|\\mathscr{S}|=?$     \n",
    "[Ans:$\\frac{n!}{r!(n-r)!}$  Hint: exactly same as above problem]"
   ]
  },
  {
   "cell_type": "markdown",
   "metadata": {},
   "source": [
    "## Circular permutations"
   ]
  },
  {
   "cell_type": "markdown",
   "metadata": {},
   "source": [
    "The permutations that we considered above are more properly called linear permutations as we think of them as being arranged in a line. But if we want to arrange the objects in a circle, then the number of arrangements(circular permutations) get reduced.Suppose $6$ animals(\"🐶🐭🐰🐻🐼🐨\") are marching in a circle, how many different circles can they form? Here animals relative positions to each other only matter as they are moving, so we consider two circular permutations are same if one can be brought to other by a rotation. There are six linear permutations for each circular permutation. and number of linear permutations of $6$ animals is $6!$, that imply number of circular permutations will be $\\frac{6!}{6}=5!$"
   ]
  },
  {
   "cell_type": "code",
   "execution_count": 10,
   "metadata": {},
   "outputs": [
    {
     "data": {
      "text/html": [
       "<iframe src=\"https://editor.p5js.org/nagi1805/full/7uwkkgV4p\" width=\"450\" height=\"300\"></iframe>\n"
      ],
      "text/plain": [
       "<IPython.core.display.HTML object>"
      ]
     },
     "metadata": {},
     "output_type": "display_data"
    }
   ],
   "source": [
    "%%HTML\n",
    "<iframe src=\"https://editor.p5js.org/nagi1805/full/7uwkkgV4p\" width=\"450\" height=\"300\"></iframe>"
   ]
  },
  {
   "cell_type": "markdown",
   "metadata": {},
   "source": [
    "**Theorem**: The number of circular r-permutations of a set of n objects equals to $\\frac{^nP_r}{r}$   \n",
    "*proof*: The number of $r$-circular permutations of n objects $\\times$ $r$= number $r$-linear permutations of n objects    \n",
    "number of $r$-circular permutations $\\times r$ = $^nP_r$    \n",
    "$\\therefore$ number of $r$-circular permutations = $\\frac{^nP_r}{r}$"
   ]
  },
  {
   "cell_type": "markdown",
   "metadata": {},
   "source": [
    "**Corollary**:The number of circular permutations of $n$ objects = $\\frac{^nP_n}{n}=\\frac{n!}{n}=(n-1)!$"
   ]
  },
  {
   "cell_type": "markdown",
   "metadata": {},
   "source": [
    "**Example:** Ten people, including two who do not wish to sit next to one another, are to be seated at a round table. How many circular seating arrangements are there?    \n",
    "*solution:* Let $P_1,P_2,P_3,...,P_{10}$ are ten people, and say $P_1,P_2$ do not want to sit together.    \n",
    "Here total circular arrangements of 10 people are $(10-1)!=9!$  and the number of circular arrangements that we are not interested in are $2!\\times 8!$ (since $P_1,P_2$ can be tied together in $2!$ ways, and treat these tied two people as single person, now there are 9 (1(two tied people)+8(remaining)), and can be arranged in circular fashion in $(9-1)!=8!$). There are two tasks in this procedure (task-1: tying, task-2: arranging nine people).   \n",
    "So the answer is $9!-2!\\times 8!=282240$\n"
   ]
  },
  {
   "cell_type": "markdown",
   "metadata": {
    "hide_input": true,
    "slideshow": {
     "slide_type": "slide"
    }
   },
   "source": [
    "**Example**:What is the number of necklaces that can be made from 20 beads, each of different color?  \n",
    "*solution:* Here each necklace can be seen as circular permutation of 20 beads but in this case two circular permutations( a circular permutation and one obtained by flipping it) need to be considered same so answer will be $\\frac{(20-1)!}{2}=\\frac{19!}{2}$ "
   ]
  },
  {
   "cell_type": "markdown",
   "metadata": {
    "slideshow": {
     "slide_type": "slide"
    }
   },
   "source": [
    "<h2>Permutations with repetitions allowed</h2>"
   ]
  },
  {
   "cell_type": "markdown",
   "metadata": {},
   "source": [
    "**Theorem**: Let $n,r$ are non-negative integer,the number of $r$-permutation of $n$ objects with repetitions is $n^r$   \n",
    "*proof*:  Let S be the set of $n$ object that are used to make $r$-permutations with allowing repetition repetition, then a typical $r$-permutation with repetitions S of looks as follows,     \n",
    "$x_1 x_2 x_3...x_r$  where &nbsp; &nbsp; $x_i\\in S$ for $i=1,2,...,r$    (please note that here no condition like $x_i\\ne x_j$ for $i\\ne j$)      \n",
    "If we look closely we recognize the pattern that it almost look like function (doesn't have to be 1-1) from set ${1,2,3,...,r}$ to $S$ with mapping $i\\mapsto x_i$, so there is a bijection between these $r$-permutations of $n$-objects with repetitions to set of functions from $\\{1,2,3,...,r\\}$ to $S$ and we already know how to count functions and count the is $n^r$       "
   ]
  },
  {
   "cell_type": "markdown",
   "metadata": {},
   "source": [
    "*Note*: Binary strings, debit card pins and passwords are examples of permutations with repetition allowed."
   ]
  },
  {
   "cell_type": "markdown",
   "metadata": {},
   "source": [
    "## Permutations with constant repetitions:"
   ]
  },
  {
   "cell_type": "code",
   "execution_count": 3,
   "metadata": {
    "code_folding": []
   },
   "outputs": [
    {
     "data": {
      "text/html": [
       "<iframe src=\"https://editor.p5js.org/nagi1805/embed/fgG7ZVJf1\" width=\"1280\" height=\"720\"></iframe>\n"
      ],
      "text/plain": [
       "<IPython.core.display.HTML object>"
      ]
     },
     "metadata": {},
     "output_type": "display_data"
    }
   ],
   "source": [
    "%%HTML\n",
    "<iframe src=\"https://editor.p5js.org/nagi1805/embed/fgG7ZVJf1\" width=\"1280\" height=\"720\"></iframe>"
   ]
  },
  {
   "cell_type": "markdown",
   "metadata": {},
   "source": [
    "How many different words can be formed using the letters of the word $PEPPER$    \n",
    "As we can see that there $3~P$'s are identical,$2~E$'s are identical,and $1~R$. If all these 6 letters are distinguished from each other, then answer would have been $6!$, but that is not the case. If we pretend all 6 letters are different then answer is $6!$, which is obviously wrong, let us see if we can fix it. starting with any permutation, in these 6! candidates, if we shuffle $P$'s among $P$'s only, $E$'s among $E$'s only and $R$'s among $R$'s only(of course there is only one R ) which can be done in $3!2!1!$ ways, then resulting permutation will not be different from the one we started with, so in $6!$ count each one being over counted exactly $3!2!1!$ times, so we can fix the $6!$ to get the correct count, which is $\\frac{6!}{3!2!1!}$"
   ]
  },
  {
   "cell_type": "markdown",
   "metadata": {},
   "source": [
    "**Theorem**: If there are n objects in which $n_1$ are alike, $n_2$ are alike,...$n_k$ are alike.Then the number of different permutations of these $n$ objects is $\\frac{n!}{n_1!n_2!...n_k!}$\n",
    "*Proof*: You try and give your own argument    <br>   \n",
    "Notation:$\\binom{n}{n_1,n_2,...,n_k}:=\\frac{n!}{n_1!n_2!...n_k!}$ these are called <i>Multinomial coefficients </i>because of their role in Multinomial theorem (we will see later)"
   ]
  },
  {
   "cell_type": "markdown",
   "metadata": {},
   "source": [
    "<h4 style=\"text-align:center\">THE END</h4>"
   ]
  }
 ],
 "metadata": {
  "hide_input": false,
  "kernelspec": {
   "display_name": "Python 3 (ipykernel)",
   "language": "python",
   "name": "python3"
  },
  "language_info": {
   "codemirror_mode": {
    "name": "ipython",
    "version": 3
   },
   "file_extension": ".py",
   "mimetype": "text/x-python",
   "name": "python",
   "nbconvert_exporter": "python",
   "pygments_lexer": "ipython3",
   "version": "3.10.0"
  }
 },
 "nbformat": 4,
 "nbformat_minor": 4
}
