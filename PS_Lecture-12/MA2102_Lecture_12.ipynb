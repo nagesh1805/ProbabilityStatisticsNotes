{
 "cells": [
  {
   "cell_type": "markdown",
   "metadata": {},
   "source": [
    "<h2 style=\"text-align:center\"> MA2102</h2>\n",
    "<h1 style=\"text-align:center\"> Probability and Statistics</h1>\n",
    "<h4 style=\"text-align:center\"> Lecture-12</h4>"
   ]
  },
  {
   "cell_type": "markdown",
   "metadata": {},
   "source": [
    "# Transformations"
   ]
  },
  {
   "cell_type": "markdown",
   "metadata": {},
   "source": [
    "Let $X$ be a random variable defined on probability space $(\\Omega,\\mathscr{F},P)$, with probability distribution $P^X$, and we are often interested in a random variable $Y$ which is some transformation of $X$, say $Y=g(X)$, then $Y$ will be another random variable on $(\\Omega,\\mathscr{F},P)$"
   ]
  },
  {
   "cell_type": "markdown",
   "metadata": {},
   "source": [
    "**Note**: Technically $g:\\mathbb{R}\\to\\mathbb{R}$ should be Borel measurable function so that $Y=g(X)$ will be again a random variable on $(\\Omega,\\mathscr{F},P)$\n",
    "(A function $f:\\mathbb{R}\\to\\mathbb{R}$ is said to be Borel measurable function if $f^{-1}(B)\\in\\mathscr{B}~\\forall B\\in\\mathscr{B}$)"
   ]
  },
  {
   "cell_type": "code",
   "execution_count": 93,
   "metadata": {},
   "outputs": [
    {
     "data": {
      "image/png": "[encoded data removed]",
      "text/plain": [
       "<Figure size 432x288 with 1 Axes>"
      ]
     },
     "metadata": {
      "needs_background": "light"
     },
     "output_type": "display_data"
    }
   ],
   "source": [
    "import numpy as np\n",
    "from matplotlib import patches\n",
    "import matplotlib.pyplot as plt\n",
    "\n",
    "fig = plt.figure()\n",
    "ax = fig.subplots()\n",
    "\n",
    "\n",
    "Omega = patches.Ellipse((0.14, 0.5), 0.2, 0.5,\n",
    "                     angle=0, linewidth=2, fill=False, zorder=2,color='purple')\n",
    "\n",
    "XR = patches.Rectangle((0.4, 0.25), 0.2, 0.5,\n",
    "                     angle=0, linewidth=2, fill=False, zorder=2,color='blue')\n",
    "\n",
    "gR = patches.Rectangle((0.75, 0.25), 0.2, 0.5,\n",
    "                     angle=0, linewidth=2, fill=False, zorder=2,color='red')\n",
    "ax.add_patch(Omega)\n",
    "ax.add_patch(XR)\n",
    "ax.add_patch(gR)\n",
    "\n",
    "ax.text(0.1,0.8,r\"$\\Omega$\",fontsize=15)\n",
    "ax.text(0.45,0.8,r\"$\\mathbb{R}$\",fontsize=15)\n",
    "ax.text(0.8,0.8,r\"$\\mathbb{R}$\",fontsize=15)\n",
    "\n",
    "ax.arrow(0.15,0.82,0.25,0,width=0.005,color='navy')\n",
    "ax.arrow(0.5,0.82,0.25,0,width=0.005,color='green')\n",
    "ax.text(0.23,0.85,r\"$X$\",fontsize=15)\n",
    "ax.text(0.63,0.85,r\"$g$\",fontsize=15)\n",
    "\n",
    "ax.arrow(0.13,0.55,0.30,0,width=0.003,color='black')\n",
    "ax.arrow(0.56,0.55,0.26,0,width=0.003,color='black')\n",
    "ax.text(0.09,0.55,r\"$\\omega$\",fontsize=15)\n",
    "ax.text(0.47,0.55,r\"$x$\",fontsize=15)\n",
    "ax.text(0.85,0.55,r\"$y$\",fontsize=15)\n",
    "plt.axis('off')\n",
    "plt.show()\n"
   ]
  },
  {
   "cell_type": "markdown",
   "metadata": {},
   "source": [
    "Now, probability distribution of $Y$ can be obtained in terms of probability distribution of $X$"
   ]
  },
  {
   "cell_type": "markdown",
   "metadata": {},
   "source": [
    "For $B\\in \\mathscr{B}$, $P^Y(B)=P(Y\\in B)=P(g(X)\\in B)$"
   ]
  },
  {
   "cell_type": "markdown",
   "metadata": {},
   "source": [
    "&nbsp; &nbsp; &nbsp; &nbsp; &nbsp; &nbsp; &nbsp; &nbsp; &nbsp; &nbsp; &nbsp; &nbsp; &nbsp; &nbsp; &nbsp; &nbsp; &nbsp; $=P(X\\in g^{-1}(B))=P^X(g^{-1}(B))$"
   ]
  },
  {
   "cell_type": "markdown",
   "metadata": {},
   "source": [
    "$\\therefore P^Y(B)=P^X(g^{-1}(B))$"
   ]
  },
  {
   "cell_type": "markdown",
   "metadata": {},
   "source": [
    "<h3> Transformations for discrete random variables:</h3>"
   ]
  },
  {
   "cell_type": "markdown",
   "metadata": {},
   "source": [
    "If $X$ is discrete random variable with support $S_X$ and $PMF$ $p_X$, then $Y=g(X)$ will also be discrete random variable with support $S_Y=\\{y\\in\\mathbb{R}:y=g(x), \\text{for some} ~x\\in S_X\\}$"
   ]
  },
  {
   "cell_type": "markdown",
   "metadata": {},
   "source": [
    "In this case we may be interested in $PMF$ of $Y$, $p_Y$"
   ]
  },
  {
   "cell_type": "markdown",
   "metadata": {},
   "source": [
    "For, $y\\in S_Y$, $p_Y(y)=P(Y=y)$"
   ]
  },
  {
   "cell_type": "markdown",
   "metadata": {},
   "source": [
    "&nbsp; &nbsp; &nbsp; &nbsp; &nbsp; &nbsp; &nbsp; &nbsp; &nbsp; &nbsp; &nbsp; &nbsp; &nbsp; &nbsp; &nbsp; &nbsp; $=P(g(X)=y)$"
   ]
  },
  {
   "cell_type": "markdown",
   "metadata": {},
   "source": [
    "&nbsp; &nbsp; &nbsp; &nbsp; &nbsp; &nbsp; &nbsp; &nbsp; &nbsp; &nbsp; &nbsp; &nbsp; &nbsp; &nbsp; &nbsp; &nbsp; $=P(X\\in g^{-1}(\\{y\\}))$"
   ]
  },
  {
   "cell_type": "markdown",
   "metadata": {},
   "source": [
    "&nbsp; &nbsp; &nbsp; &nbsp; &nbsp; &nbsp; &nbsp; &nbsp; &nbsp; &nbsp; &nbsp; $p_Y(y)=\\sum_{x\\in S_X;g(x)=y}P^X(\\{x\\})$   &nbsp; &nbsp;($\\because g^{-1}(\\{y\\})=\\{x\\in S_X:g(x)=y\\}$)"
   ]
  },
  {
   "cell_type": "markdown",
   "metadata": {},
   "source": [
    "If $g$ is one-one function then"
   ]
  },
  {
   "cell_type": "markdown",
   "metadata": {},
   "source": [
    "For $y\\in S_y$"
   ]
  },
  {
   "cell_type": "markdown",
   "metadata": {},
   "source": [
    "$p_Y(y)=p_X(g^{-1}(y))$  &nbsp; ($\\because$ $g^{-1}(\\{y\\})$ will have single pre-image that can be denoted by $g^{-1}(y)$)"
   ]
  },
  {
   "cell_type": "markdown",
   "metadata": {},
   "source": [
    "**Example**:Let us consider the random experiment of tossing  a coin with probability of head $p$, ($0<p<1$), until total of $r$ heads obtained"
   ]
  },
  {
   "cell_type": "markdown",
   "metadata": {},
   "source": [
    "Sample space $\\Omega=\\{\\underbrace{a_1a_2...a_{r+x-1}}_\\text{r-1 H's & x T's}a_{r+x}:a_i\\in\\{H,T\\}~a_{r+x}=H,x=0,1,2,3,...\\}$"
   ]
  },
  {
   "cell_type": "markdown",
   "metadata": {},
   "source": [
    "Let $X=$number of tails before the $r^{th}$ head"
   ]
  },
  {
   "cell_type": "markdown",
   "metadata": {},
   "source": [
    "Then support of $X$, $S_X=\\{0,1,2,3,...\\}$"
   ]
  },
  {
   "cell_type": "markdown",
   "metadata": {},
   "source": [
    "$PMF$ of $X$, $p_X(x)=P(X=x)$"
   ]
  },
  {
   "cell_type": "markdown",
   "metadata": {},
   "source": [
    "&nbsp; &nbsp; &nbsp;&nbsp; &nbsp; &nbsp; &nbsp; &nbsp;&nbsp;&nbsp; &nbsp;&nbsp;&nbsp; &nbsp; &nbsp;&nbsp; &nbsp; &nbsp; &nbsp;&nbsp;$=\\sum_{\\omega\\in\\Omega;X(\\omega)=x}P(\\{\\omega\\})$"
   ]
  },
  {
   "cell_type": "markdown",
   "metadata": {},
   "source": [
    "&nbsp; &nbsp; &nbsp;&nbsp; &nbsp; &nbsp; &nbsp; &nbsp;&nbsp;&nbsp; &nbsp;&nbsp;&nbsp; &nbsp; &nbsp;&nbsp; &nbsp; &nbsp; &nbsp;&nbsp;$=\\sum_{\\omega\\in\\Omega;X(\\omega)=x}(1-p)^xp^r$"
   ]
  },
  {
   "cell_type": "markdown",
   "metadata": {},
   "source": [
    "&nbsp; &nbsp; &nbsp;&nbsp; &nbsp; &nbsp; &nbsp; &nbsp;&nbsp;&nbsp; &nbsp;&nbsp;&nbsp; &nbsp; $p_X(x)=\\binom{x+r-1}{r-1}(1-p)^xp^r$, for $x=0,1,2,3,..$    ------(1)"
   ]
  },
  {
   "cell_type": "markdown",
   "metadata": {},
   "source": [
    "We can also express $p_X(x)$ as follows"
   ]
  },
  {
   "cell_type": "markdown",
   "metadata": {},
   "source": [
    "&nbsp; &nbsp; &nbsp;&nbsp; &nbsp; &nbsp; &nbsp; &nbsp;&nbsp;&nbsp; &nbsp;&nbsp;&nbsp; &nbsp; &nbsp;&nbsp; &nbsp; &nbsp; &nbsp;&nbsp;$p_X(x)=(-1)^x\\binom{-r}{x}(1-p)^xp^r$ for $x=0,1,2,3,..$   ----(2)<br><br> &nbsp; &nbsp; &nbsp;&nbsp; &nbsp; &nbsp; &nbsp; &nbsp;&nbsp;&nbsp; &nbsp;&nbsp;&nbsp; &nbsp;&nbsp; &nbsp; &nbsp;&nbsp; &nbsp; &nbsp; &nbsp; &nbsp;&nbsp;&nbsp; &nbsp;&nbsp;&nbsp; &nbsp;&nbsp; &nbsp; &nbsp;&nbsp; &nbsp; &nbsp; &nbsp; &nbsp;&nbsp;&nbsp; &nbsp;&nbsp;&nbsp; &nbsp;($\\because~\\binom{x+r-1}{r-1}=\\binom{r+x-1}{x}=(-1)^x\\binom{-r}{x}$)"
   ]
  },
  {
   "cell_type": "markdown",
   "metadata": {},
   "source": [
    "Here $X$ is said to have <b>Negative Binomial distribution</b>"
   ]
  },
  {
   "cell_type": "markdown",
   "metadata": {},
   "source": [
    "now, let $Y=$number of trials required to get $r^{th}$ head"
   ]
  },
  {
   "cell_type": "markdown",
   "metadata": {},
   "source": [
    "then, $Y=X+r$  &nbsp; &nbsp; (i.e $g(X)=X+r$ which is one-one)"
   ]
  },
  {
   "cell_type": "markdown",
   "metadata": {},
   "source": [
    "Support of $Y$, $S_Y=\\{r,r+1,r+2,...\\}$"
   ]
  },
  {
   "cell_type": "markdown",
   "metadata": {},
   "source": [
    "$X=Y-r=g^{-1}(Y)$"
   ]
  },
  {
   "cell_type": "markdown",
   "metadata": {},
   "source": [
    "$PMF$ of $Y$, $p_Y(y)=p_X(g^{-1}(y))$"
   ]
  },
  {
   "cell_type": "markdown",
   "metadata": {},
   "source": [
    "&nbsp; &nbsp; &nbsp;&nbsp; &nbsp; &nbsp; &nbsp; &nbsp; &nbsp; &nbsp;&nbsp; &nbsp; &nbsp; &nbsp; &nbsp; &nbsp;&nbsp; &nbsp;$=p_X(y-r)$"
   ]
  },
  {
   "cell_type": "markdown",
   "metadata": {},
   "source": [
    "&nbsp; &nbsp; &nbsp;&nbsp; &nbsp; &nbsp; &nbsp; &nbsp; &nbsp; &nbsp;&nbsp; &nbsp; &nbsp;$p_Y(y)=\\binom{y-r+r-1}{r-1}(1-p)^{y-r}p^r$ &nbsp; &nbsp;($\\because$ (1))"
   ]
  },
  {
   "cell_type": "markdown",
   "metadata": {},
   "source": [
    "&nbsp; &nbsp; &nbsp;&nbsp; &nbsp; &nbsp; &nbsp; &nbsp; &nbsp; &nbsp;&nbsp; &nbsp; &nbsp;$p_Y(y)=\\binom{y-1}{r-1}(1-p)^{y-r}p^r$ for $y=r,r+1,r+2,...$"
   ]
  },
  {
   "cell_type": "markdown",
   "metadata": {},
   "source": [
    "**Example**:Let $X$ be the discrete random variable with support $S_X=\\{1,2,3,4,...\\}$"
   ]
  },
  {
   "cell_type": "markdown",
   "metadata": {},
   "source": [
    "and $PMF$ $p_X(x)=\\left(\\frac{1}{2}\\right)^x$, $x=1,2,3,...$"
   ]
  },
  {
   "cell_type": "markdown",
   "metadata": {},
   "source": [
    "Take $Y=(X-2)^2$  (i.e $Y=g(X)$ where $g(X)=(X-2)^2$)"
   ]
  },
  {
   "cell_type": "markdown",
   "metadata": {},
   "source": [
    "Here $g(x)$ is not one-one"
   ]
  },
  {
   "cell_type": "markdown",
   "metadata": {},
   "source": [
    "$S_Y=\\{0,1,4,9,16,...\\}$"
   ]
  },
  {
   "cell_type": "markdown",
   "metadata": {},
   "source": [
    "$PMF$ of $Y$,"
   ]
  },
  {
   "cell_type": "markdown",
   "metadata": {},
   "source": [
    "$p_Y(y)=p_X(g^{-1}\\{y\\})=\\left\\{\\begin{matrix}\n",
    "p_X(2) &y=0 \\\\ \n",
    "p_X(1)+p_X(3)&y=1 \\\\ \n",
    "p_X(\\sqrt{y}+2) & y=4,9,16,...\n",
    "\\end{matrix}\\right.$"
   ]
  },
  {
   "cell_type": "markdown",
   "metadata": {},
   "source": [
    "$p_Y(y)=\\left\\{\\begin{matrix}\n",
    "\\frac{1}{4} &y=0 \\\\ \n",
    "\\frac{5}{8}&y=1 \\\\ \n",
    "\\frac{1}{4}\\left(\\frac{1}{2}\\right)^\\sqrt{y} & y=4,9,16,...\n",
    "\\end{matrix}\\right.$"
   ]
  },
  {
   "cell_type": "markdown",
   "metadata": {},
   "source": [
    "**Eaxmple:**"
   ]
  },
  {
   "cell_type": "markdown",
   "metadata": {},
   "source": [
    "Let $X$ be a discrete random variable with $PMF$ $p_X(-1)=\\frac{1}{3},p_X(0)=\\frac{1}{4}$,and $p_X(1)=\\frac{5}{12}$, and $Y=X^2$, Find the $PMF$ of $Y$."
   ]
  },
  {
   "cell_type": "markdown",
   "metadata": {},
   "source": [
    "*solution:* Here $S_X=\\{-1,0,1\\}$ and $Y=X^2$, i.e $g(X)=X^2$ which is not one-one, and $S_Y=\\{0,1\\}$"
   ]
  },
  {
   "cell_type": "markdown",
   "metadata": {},
   "source": [
    "$PMF$ of $Y$, $p_y(0)=p_X(g^{-1}\\{0\\})$"
   ]
  },
  {
   "cell_type": "markdown",
   "metadata": {},
   "source": [
    "&nbsp;&nbsp; &nbsp; &nbsp; &nbsp; &nbsp; &nbsp; &nbsp; &nbsp; &nbsp; &nbsp; &nbsp; &nbsp; &nbsp; &nbsp; &nbsp; &nbsp; $=p_X(0)=\\frac{1}{4}$"
   ]
  },
  {
   "cell_type": "markdown",
   "metadata": {},
   "source": [
    "$p_Y(1)=p_X(g^{-1}\\{1\\})$"
   ]
  },
  {
   "cell_type": "markdown",
   "metadata": {},
   "source": [
    " &nbsp; &nbsp; &nbsp; &nbsp; &nbsp; &nbsp; $=p_X(-1)p_X(1)=\\frac{1}{3}+\\frac{5}{12}=\\frac{3}{4}$"
   ]
  },
  {
   "cell_type": "markdown",
   "metadata": {},
   "source": [
    "$\\therefore$ $p_Y(0)=\\frac{1}{4}$, $p_Y(1)=\\frac{3}{4}$"
   ]
  },
  {
   "cell_type": "markdown",
   "metadata": {},
   "source": [
    "<h3> Transformations for continuous random variables:</h3>"
   ]
  },
  {
   "cell_type": "markdown",
   "metadata": {},
   "source": [
    "Let $X$ be a continuous random variable with $PDF$ $f_X(x)$, and $Y=g(X)$, then we want to find $PDF$ of $Y$ using $PDF$ of $X$."
   ]
  },
  {
   "cell_type": "markdown",
   "metadata": {},
   "source": [
    "One way is, first obtain $CDF$ of $Y$, then we can obtain $PDF$ of $Y$ by differentiating $CDF$"
   ]
  },
  {
   "cell_type": "markdown",
   "metadata": {},
   "source": [
    "$CDF$ of $Y$, $F_Y(y)=P(Y\\le y)=P^Y((-\\infty,y])=P^X(g^{-1}(-\\infty,y])=\\int_{g^{-1}(-\\infty,y]}f_X(t)dt$"
   ]
  },
  {
   "cell_type": "markdown",
   "metadata": {},
   "source": [
    "then, $PDF$ of $Y$, $f_Y(y)=\\frac{d}{dy}F_Y(y)$"
   ]
  },
  {
   "cell_type": "markdown",
   "metadata": {},
   "source": [
    "- Let $X$ be a continuous random variable with $PDF$ $f_X(x)$, and $CDF$ $F_X(x)$, $Y=X^2$, then $CDF$ of $Y$<br><br>for $y<0$, $F_Y(y)=P(Y\\le y)=0$\n",
    "<br><br>for $y\\ge 0$ $F_Y(y)=P(Y\\le y)=P(X^2\\le y)=P(|X|\\le \\sqrt{y})=P(-\\sqrt{y}\\le X\\le \\sqrt{y})$"
   ]
  },
  {
   "cell_type": "markdown",
   "metadata": {},
   "source": [
    "In terms of $CDF$ of $X$, $F_Y(y)=\\left\\{\\begin{matrix}\n",
    " 0&y<0 \\\\ \n",
    " F_X(\\sqrt{y})-F_X(-\\sqrt{y})& y\\ge0\n",
    "\\end{matrix}\\right.$&nbsp; &nbsp; $=\\left\\{\\begin{matrix}\n",
    "0 & y<0\\\\ \n",
    " \\int_{-\\sqrt{y}}^{\\sqrt{y}}f_X(x)dx& y\\ge0\n",
    "\\end{matrix}\\right. $"
   ]
  },
  {
   "cell_type": "markdown",
   "metadata": {},
   "source": [
    "$PDF$ of $Y$, $f_Y(y)=\\frac{d}{dy}F_Y(y)=\\left\\{\\begin{matrix}\n",
    " 0&y<0 \\\\ \n",
    "\\frac{d}{dy}(F_X(\\sqrt{y})-F_X(-\\sqrt{y}))& y\\ge0\n",
    "\\end{matrix}\\right.$"
   ]
  },
  {
   "cell_type": "markdown",
   "metadata": {},
   "source": [
    " &nbsp; &nbsp; &nbsp; &nbsp; &nbsp; &nbsp;  &nbsp; &nbsp; &nbsp; &nbsp;  &nbsp; &nbsp; &nbsp; &nbsp; &nbsp; &nbsp; &nbsp; &nbsp;  &nbsp; &nbsp; &nbsp; &nbsp;  &nbsp; &nbsp; &nbsp; &nbsp; $=\\left\\{\\begin{matrix}\n",
    " 0&y<0 \\\\ \n",
    "f_X(\\sqrt{y})\\frac{1}{2\\sqrt{y}}-f_X(-\\sqrt{y})\\frac{-1}{2\\sqrt{y}}& y\\ge0\n",
    "\\end{matrix}\\right.$"
   ]
  },
  {
   "cell_type": "markdown",
   "metadata": {},
   "source": [
    " &nbsp; &nbsp; &nbsp; &nbsp; &nbsp; &nbsp;  &nbsp; &nbsp; &nbsp; &nbsp;  &nbsp; &nbsp; &nbsp; &nbsp; &nbsp; &nbsp; &nbsp; &nbsp;  &nbsp; &nbsp; $f_Y(y)=\\left\\{\\begin{matrix}\n",
    " 0&y<0 \\\\ \n",
    "\\frac{f_X(\\sqrt{y})+f_X(-\\sqrt{y})}{2\\sqrt{y}}& y\\ge0\n",
    "\\end{matrix}\\right.$"
   ]
  },
  {
   "cell_type": "markdown",
   "metadata": {},
   "source": [
    "Further if $f_X(x)$ is even function(i.e $f_X(-x)=f_X(x)$),then"
   ]
  },
  {
   "cell_type": "markdown",
   "metadata": {},
   "source": [
    " &nbsp; &nbsp; &nbsp; &nbsp; &nbsp; &nbsp;  &nbsp; &nbsp; &nbsp; &nbsp;  &nbsp; &nbsp; &nbsp; &nbsp; &nbsp; &nbsp; &nbsp; &nbsp;  &nbsp; &nbsp; $f_Y(y)=\\left\\{\\begin{matrix}\n",
    " 0&y<0 \\\\ \n",
    "\\frac{f_X(\\sqrt{y})}{\\sqrt{y}}& y\\ge0\n",
    "\\end{matrix}\\right.$"
   ]
  },
  {
   "cell_type": "markdown",
   "metadata": {},
   "source": [
    "**Example:** Let $X$ be a continuous random variable with $CDF$ $F_X(x)=\\left\\{\\begin{matrix}\n",
    " 0&x<0 \\\\ \n",
    " x^2&0\\le x<1 \\\\ \n",
    " 1& x\\ge 1\n",
    "\\end{matrix}\\right.$ Find the $PDF$  of $Y=X^2$"
   ]
  },
  {
   "cell_type": "markdown",
   "metadata": {},
   "source": [
    "*Solution:* "
   ]
  },
  {
   "cell_type": "markdown",
   "metadata": {},
   "source": [
    "First we find the $CDF$ of $Y$"
   ]
  },
  {
   "cell_type": "markdown",
   "metadata": {},
   "source": [
    "$F_Y(y)=\\left\\{\\begin{matrix}\n",
    " 0&y<0 \\\\ \n",
    " F_X(\\sqrt{y})-F_X(-\\sqrt{y})& y\\ge0\n",
    "\\end{matrix}\\right.$"
   ]
  },
  {
   "cell_type": "markdown",
   "metadata": {},
   "source": [
    "if $0\\le y<1\\Rightarrow 0\\le \\sqrt{y}<1$, so $F_Y(y)=F_X(\\sqrt{y})-F_X(-\\sqrt{y})=(\\sqrt{y})^2-0=y$"
   ]
  },
  {
   "cell_type": "markdown",
   "metadata": {},
   "source": [
    "if $y\\ge1\\Rightarrow \\sqrt{y}\\ge1$, so $F_Y(y)=F_X(\\sqrt{y})-F_X(-\\sqrt{y})=1-0=1$"
   ]
  },
  {
   "cell_type": "markdown",
   "metadata": {},
   "source": [
    "$\\therefore$ the $CDF$ of $Y$, $F_Y(y)=\\left\\{\\begin{matrix}\n",
    " 0&y<0 \\\\ \n",
    " y&0\\le y<1 \\\\ \n",
    " 1& y\\ge 1\n",
    "\\end{matrix}\\right.$"
   ]
  },
  {
   "cell_type": "markdown",
   "metadata": {},
   "source": [
    "now, $PDF$ of $Y$, $f_Y(y)=\\frac{d}{dy}F_Y(y)=\\left\\{\\begin{matrix}\n",
    "1 &0<y<1 \\\\ \n",
    " 0& \\text{otherwsie}\n",
    "\\end{matrix}\\right.$"
   ]
  },
  {
   "cell_type": "markdown",
   "metadata": {},
   "source": [
    "$S_Y=(0,1)$"
   ]
  },
  {
   "cell_type": "markdown",
   "metadata": {},
   "source": [
    "(Here $Y$ is said to have <b>Uniform distribution</b> over interval [0,1])"
   ]
  },
  {
   "cell_type": "markdown",
   "metadata": {},
   "source": [
    "**Example**: Let $X$ be a continuous random variable with $PDF$ $f_X(x)=\\left\\{\\begin{matrix}\n",
    " \\frac{1}{2}&-1<x<1 \\\\ \n",
    " 0&\\text{otherwise} \n",
    "\\end{matrix}\\right.$,  then find the $PDF$ of $Y=X^2$"
   ]
  },
  {
   "cell_type": "markdown",
   "metadata": {},
   "source": [
    "*solution:* Here $S_X=(-1,1)$"
   ]
  },
  {
   "cell_type": "markdown",
   "metadata": {},
   "source": [
    "$CDF$ of $Y$,$F_Y(y)=\\left\\{\\begin{matrix}\n",
    "0 & y<0\\\\ \n",
    " \\int_{-\\sqrt{y}}^{\\sqrt{y}}f_X(x)dx& y\\ge0\n",
    "\\end{matrix}\\right. $"
   ]
  },
  {
   "cell_type": "markdown",
   "metadata": {},
   "source": [
    "if $0\\le y<1\\Rightarrow 0\\le \\sqrt{y}<1$, so $F_Y(y)=\\int_{-\\sqrt{y}}^{\\sqrt{y}}\\frac{1}{2}dx=\\left[\\frac{x}{2}\\right]_{-\\sqrt{y}}^{\\sqrt{y}}=\\frac{\\sqrt{y}}{2}-\\frac{-\\sqrt{y}}{2}=\\sqrt{y}$"
   ]
  },
  {
   "cell_type": "markdown",
   "metadata": {},
   "source": [
    "if $y\\ge1\\Rightarrow \\sqrt{y}\\ge1$, "
   ]
  },
  {
   "cell_type": "markdown",
   "metadata": {},
   "source": [
    "so $F_Y(y)=\\int_{-\\sqrt{y}}^{\\sqrt{y}}f_X(x)dx=\\int_{-\\sqrt{y}}^{-1}0dx+\\int_{-1}^{1}\\frac{1}{2}dx+\\int_{1}^{\\sqrt{y}}0dx=0+\\left[\\frac{x}{2}\\right]_{-1}^{1}+0=\\frac{1}{2}-\\frac{-1}{2}=1$"
   ]
  },
  {
   "cell_type": "markdown",
   "metadata": {},
   "source": [
    "$\\therefore$ the $CDF$ of $Y$, $F_Y(y)=\\left\\{\\begin{matrix}\n",
    " 0&y<0 \\\\ \n",
    " \\sqrt{y}&0\\le y<1 \\\\ \n",
    " 1& y\\ge 1\n",
    "\\end{matrix}\\right.$"
   ]
  },
  {
   "cell_type": "markdown",
   "metadata": {},
   "source": [
    "now, $PDF$ of $Y$, $f_Y(y)=\\frac{d}{dy}F_Y(y)=\\left\\{\\begin{matrix}\n",
    "\\frac{1}{2\\sqrt{y}} &0<y<1 \\\\ \n",
    " 0& \\text{otherwsie}\n",
    "\\end{matrix}\\right.$"
   ]
  },
  {
   "cell_type": "markdown",
   "metadata": {},
   "source": [
    "**Problem:** Let $X$ is a continuous random variable with $PDF$ $f_X(x)=\\frac{1}{\\sqrt{2\\pi}}e^{\\frac{-x^2}{2}}$,$-\\infty<x<\\infty$, then find $PDF$ of $Y=X^2$"
   ]
  },
  {
   "cell_type": "markdown",
   "metadata": {},
   "source": [
    "(Here $X$ is said to have **Standard Normal distribution**)"
   ]
  },
  {
   "cell_type": "markdown",
   "metadata": {},
   "source": [
    "Solution: Here support of $X$, $S_X=(-\\infty,\\infty)$, and $f_X(x)$ is even function"
   ]
  },
  {
   "cell_type": "markdown",
   "metadata": {},
   "source": [
    "So, $PDF$ of $Y$,  &nbsp; &nbsp; &nbsp; &nbsp; &nbsp; $f_Y(y)=\\left\\{\\begin{matrix}\n",
    " 0&y<0 \\\\ \n",
    "\\frac{f_X(\\sqrt{y})}{\\sqrt{y}}& y\\ge0\n",
    "\\end{matrix}\\right.$"
   ]
  },
  {
   "cell_type": "markdown",
   "metadata": {},
   "source": [
    "$\\frac{f_X(\\sqrt{y})}{\\sqrt{y}}=\\frac{\\frac{1}{\\sqrt{2\\pi}}e^{\\frac{-{\\sqrt{y}}^2}{2}}}{\\sqrt{y}}$"
   ]
  },
  {
   "cell_type": "markdown",
   "metadata": {},
   "source": [
    "&nbsp; &nbsp; &nbsp;&nbsp; &nbsp; &nbsp; &nbsp; &nbsp;$=\\frac{1}{\\sqrt{2\\pi y}}e^{\\frac{-y}{2}}=\\frac{1}{\\sqrt{\\pi}}\\frac{1}{2}\\left(\\frac{y}{2}\\right)^{\\frac{1}{2}-1}e^{\\frac{-y}{2}}$"
   ]
  },
  {
   "cell_type": "markdown",
   "metadata": {},
   "source": [
    "&nbsp; &nbsp; &nbsp;&nbsp; &nbsp; &nbsp; &nbsp; &nbsp;$=\\frac{\\frac{1}{2}\\left(\\frac{y}{2}\\right)^{\\frac{1}{2}-1}e^{\\frac{-y}{2}}}{\\Gamma \\left(\\frac{1}{2} \\right)}$   ($\\because~\\Gamma \\left(\\frac{1}{2} \\right)=\\sqrt{\\pi}$)"
   ]
  },
  {
   "cell_type": "markdown",
   "metadata": {},
   "source": [
    "&nbsp; &nbsp; &nbsp; $f_Y(y)=\\left\\{\\begin{matrix}\n",
    " 0&y<0 \\\\ \n",
    "\\frac{\\frac{1}{2}\\left(\\frac{y}{2}\\right)^{\\frac{1}{2}-1}e^{\\frac{-y}{2}}}{\\Gamma \\left(\\frac{1}{2} \\right)}& y\\ge0\n",
    "\\end{matrix}\\right.$"
   ]
  },
  {
   "cell_type": "markdown",
   "metadata": {},
   "source": [
    "(Here $Y$ is said to have <b>Chi-squared distribution</b> with 1 degree of freedom)"
   ]
  },
  {
   "cell_type": "markdown",
   "metadata": {},
   "source": [
    "**Theorem:** Let $X$ be a continuous random variable with $PDF$ $f_X(x)$ and support $S_X$. Let $y=g(X)$, where $g(x)$is one-one differentiable function on $S_X$, then the $PDF$ of $Y$ is given by $f_Y(y)=f_X(g^{-1}(y))\\begin{vmatrix}\n",
    "\\frac{d(g^{-1}(y))}{dy}\n",
    "\\end{vmatrix}$, for $y\\in S_Y=\\{y:y=g(x), \\text{for some}~ x\\in S_X\\}$"
   ]
  },
  {
   "cell_type": "markdown",
   "metadata": {},
   "source": [
    "*proof:* $g(x)$ is either strictly increasing or strictly decreasing as $g(x)$ is one-one function"
   ]
  },
  {
   "cell_type": "markdown",
   "metadata": {},
   "source": [
    "**case-i:** $g(x)$ is strictly increasing"
   ]
  },
  {
   "cell_type": "markdown",
   "metadata": {},
   "source": [
    "$CDF$ of $Y$, $F_Y(y)=P(Y\\le y)$"
   ]
  },
  {
   "cell_type": "markdown",
   "metadata": {},
   "source": [
    "&nbsp; &nbsp; &nbsp; &nbsp; &nbsp; &nbsp; &nbsp; &nbsp; &nbsp; &nbsp; &nbsp; &nbsp; $=P(g(X)\\le y)$"
   ]
  },
  {
   "cell_type": "markdown",
   "metadata": {},
   "source": [
    "&nbsp; &nbsp; &nbsp; &nbsp; &nbsp; &nbsp; &nbsp; &nbsp; &nbsp; &nbsp; &nbsp; &nbsp; $=P(g^{-1}(g(X))\\le g^{-1}(y))$   ($\\because$ $g(x)\\nearrow$$\\Leftrightarrow$ $g^{-1}(x)\\nearrow$)"
   ]
  },
  {
   "cell_type": "markdown",
   "metadata": {},
   "source": [
    "&nbsp; &nbsp; &nbsp; &nbsp; &nbsp; &nbsp; &nbsp; &nbsp; &nbsp; &nbsp; &nbsp; &nbsp; $=P(X\\le g^{-1}(y))=F_X(g^{-1}(y))$"
   ]
  },
  {
   "cell_type": "markdown",
   "metadata": {},
   "source": [
    "$\\therefore F_Y(y)=F_X(g^{-1}(y))$"
   ]
  },
  {
   "cell_type": "markdown",
   "metadata": {},
   "source": [
    "now, $PDF$ of $Y$, $f_Y(y)=\\frac{d}{dy}F_Y(y)=\\frac{d}{dy}\\left(F_X(g^{-1}(y))\\right)$"
   ]
  },
  {
   "cell_type": "markdown",
   "metadata": {},
   "source": [
    "$f_Y(y)=f_X(g^{-1}(y))\\frac{d(g^{-1}(y))}{dy}$   ($\\because$ $\\frac{d}{dx}F_X(x)=f_X(x)$, and Chain Rule)"
   ]
  },
  {
   "cell_type": "markdown",
   "metadata": {},
   "source": [
    "Here $g\\nearrow$$\\Leftrightarrow$ $g^{-1}\\nearrow \\Rightarrow \\frac{d}{dy}(g^{-1}(y))>0$"
   ]
  },
  {
   "cell_type": "markdown",
   "metadata": {},
   "source": [
    "$\\therefore$ $f_Y(y)=f_X(g^{-1}(y))\\begin{vmatrix}\n",
    "\\frac{d(g^{-1}(y))}{dy}\n",
    "\\end{vmatrix}$,$y\\in S_Y$"
   ]
  },
  {
   "cell_type": "markdown",
   "metadata": {},
   "source": [
    "**case-ii:** $g(x)$ is strictly decreasing"
   ]
  },
  {
   "cell_type": "markdown",
   "metadata": {},
   "source": [
    "$CDF$ of $Y$, $F_Y(y)=P(Y\\le y)$"
   ]
  },
  {
   "cell_type": "markdown",
   "metadata": {},
   "source": [
    "&nbsp; &nbsp; &nbsp; &nbsp; &nbsp; &nbsp; &nbsp; &nbsp; &nbsp; &nbsp; &nbsp; &nbsp; $=P(g(X)\\le y)$"
   ]
  },
  {
   "cell_type": "markdown",
   "metadata": {},
   "source": [
    "&nbsp; &nbsp; &nbsp; &nbsp; &nbsp; &nbsp; &nbsp; &nbsp; &nbsp; &nbsp; &nbsp; &nbsp; $=P(g^{-1}(g(X))\\ge g^{-1}(y))$   ($\\because$ $g(x)\\searrow$$\\Leftrightarrow$ $g^{-1}(x)\\searrow$)"
   ]
  },
  {
   "cell_type": "markdown",
   "metadata": {},
   "source": [
    "&nbsp; &nbsp; &nbsp; &nbsp; &nbsp; &nbsp; &nbsp; &nbsp; &nbsp; &nbsp; &nbsp; &nbsp; $=P(X\\ge g^{-1}(y))=1-P(X< g^{-1}(y))=1-P(X\\le g^{-1}(y))$ ($\\because$ $X$ is continuous random variable)"
   ]
  },
  {
   "cell_type": "markdown",
   "metadata": {},
   "source": [
    " $\\therefore F_Y(y)=1-F_X(g^{-1}(y))$"
   ]
  },
  {
   "cell_type": "markdown",
   "metadata": {},
   "source": [
    "now, $PDF$ of $Y$, $f_Y(y)=\\frac{d}{dy}F_Y(y)=\\frac{d}{dy}\\left(1-F_X(g^{-1}(y))\\right)=\\left(0-\\frac{d}{dy}F_X(g^{-1}(y))\\right)$"
   ]
  },
  {
   "cell_type": "markdown",
   "metadata": {},
   "source": [
    "$f_Y(y)=-f_X(g^{-1}(y))\\frac{d(g^{-1}(y))}{dy}$   ($\\because$ $\\frac{d}{dx}F_X(x)=f_X(x)$, and Chain Rule)"
   ]
  },
  {
   "cell_type": "markdown",
   "metadata": {},
   "source": [
    "Here $g\\searrow$$\\Leftrightarrow$ $g^{-1}\\searrow \\Rightarrow \\frac{d}{dy}(g^{-1}(y))<0$"
   ]
  },
  {
   "cell_type": "markdown",
   "metadata": {},
   "source": [
    "$\\therefore$ $f_Y(y)=f_X(g^{-1}(y))\\begin{vmatrix}\n",
    "\\frac{d(g^{-1}(y))}{dy}\n",
    "\\end{vmatrix}$,$y\\in S_Y$"
   ]
  },
  {
   "cell_type": "markdown",
   "metadata": {},
   "source": [
    "Here $\\frac{d(g^{-1}(y))}{dy}$ is called (one variable) <b>Jacobian</b> of inverse transformation $x=g^{-1}(y)$"
   ]
  },
  {
   "cell_type": "markdown",
   "metadata": {},
   "source": [
    "**Example**: Let $X$ be a continuous random variable with $PDF$ $f_X(x)=\\left\\{\\begin{matrix}\n",
    " 1& 0<x<1 \\\\ \n",
    "0 & \\text{otherwise}\n",
    "\\end{matrix}\\right.$. Find the $PDF$ of $Y=-2logX$"
   ]
  },
  {
   "cell_type": "markdown",
   "metadata": {},
   "source": [
    "solution: Here $S_X=(0,1)$, $Y=-2logX$, i.e here $g(x)=-2logx$ which is one-one differentiable function"
   ]
  },
  {
   "cell_type": "markdown",
   "metadata": {},
   "source": [
    "$y=-2logx$ $\\Rightarrow$ $x=g^{-1}(y)=e^\\frac{-y}{2}$"
   ]
  },
  {
   "cell_type": "markdown",
   "metadata": {},
   "source": [
    "$S_Y=\\{y\\in\\mathbb{R}:y=g(x), \\text{for some} ~x\\in S_X\\}=[0,\\infty)$"
   ]
  },
  {
   "cell_type": "markdown",
   "metadata": {},
   "source": [
    "$\\frac{d(g^{-1}(y))}{dy}=\\frac{-1}{2}e^{\\frac{-y}{2}}$"
   ]
  },
  {
   "cell_type": "markdown",
   "metadata": {},
   "source": [
    "$\\therefore$ $f_Y(y)=f_X(g^{-1}(y))\\begin{vmatrix}\n",
    "\\frac{d(g^{-1}(y))}{dy}\n",
    "\\end{vmatrix}$,  $y\\in S_Y$"
   ]
  },
  {
   "cell_type": "markdown",
   "metadata": {},
   "source": [
    "$\\therefore$ $f_Y(y)=1\\times\\begin{vmatrix}\\frac{-1}{2}e^{\\frac{-y}{2}}\\end{vmatrix}, y\\in S_Y$"
   ]
  },
  {
   "cell_type": "markdown",
   "metadata": {},
   "source": [
    "$\\therefore$ $f_Y(y)=\\left\\{\\begin{matrix}\n",
    "\\frac{1}{2}e^{\\frac{-y}{2}} & y\\ge0 \\\\ \n",
    "0 & y<0\n",
    "\\end{matrix}\\right.$"
   ]
  },
  {
   "cell_type": "markdown",
   "metadata": {},
   "source": [
    "Here $Y$ is said to have <b>Exponential distribution</b> with rate parameter $\\lambda=\\frac{1}{2}$ "
   ]
  },
  {
   "cell_type": "markdown",
   "metadata": {},
   "source": [
    "**Example:**  Let $X$ be a continuous random variable with $PDF$ $f_X(x)=\\left\\{\\begin{matrix}\n",
    " \\frac{1}{\\pi}& \\frac{-\\pi}{2}<x<\\frac{\\pi}{2} \\\\ \n",
    "0 & \\text{otherwise}\n",
    "\\end{matrix}\\right.$. Find the $PDF$ of $Y=tanX$"
   ]
  },
  {
   "cell_type": "markdown",
   "metadata": {},
   "source": [
    "*Solution:* Here $S_X=\\left(\\frac{-\\pi}{2},\\frac{\\pi}{2}\\right)$, $Y=tanX$, so $S_Y=(-\\infty,\\infty)$"
   ]
  },
  {
   "cell_type": "markdown",
   "metadata": {},
   "source": [
    "and $g(x)=tanx$ is one-one differentiable function $S_X$"
   ]
  },
  {
   "cell_type": "markdown",
   "metadata": {},
   "source": [
    "$y=tanx$ $\\Rightarrow$ $x=g^{-1}(y)=tan^{-1}y$"
   ]
  },
  {
   "cell_type": "markdown",
   "metadata": {},
   "source": [
    "$-\\infty<y<\\infty$ $\\Leftrightarrow$ $\\frac{-\\pi}{2}<tan^{-1}y<\\frac{\\pi}{2}$"
   ]
  },
  {
   "cell_type": "markdown",
   "metadata": {},
   "source": [
    "now, $f_Y(y)=f_X(g^{-1}(y))\\begin{vmatrix}\n",
    "\\frac{d(g^{-1}(y))}{dy}\n",
    "\\end{vmatrix}$,  $y\\in S_Y$"
   ]
  },
  {
   "cell_type": "markdown",
   "metadata": {},
   "source": [
    "$f_Y(y)=f_X(tan^{-1}(y))\\begin{vmatrix}\n",
    "\\frac{d(tan^{-1}(y))}{dy}\n",
    "\\end{vmatrix}$"
   ]
  },
  {
   "cell_type": "markdown",
   "metadata": {},
   "source": [
    "&nbsp;&nbsp; &nbsp; &nbsp; &nbsp; &nbsp; &nbsp; $=\\frac{1}{\\pi}\\times \\begin{vmatrix}\n",
    "\\frac{1}{1+y^2}\n",
    "\\end{vmatrix}$, $-\\infty<y<\\infty$"
   ]
  },
  {
   "cell_type": "markdown",
   "metadata": {},
   "source": [
    "$f_Y(y)=\\frac{1}{\\pi} \\frac{1}{1+y^2}$, $-\\infty<y<\\infty$"
   ]
  },
  {
   "cell_type": "markdown",
   "metadata": {},
   "source": [
    "(Here $Y$ is said to have <b>Cachy distribution</b>)"
   ]
  },
  {
   "cell_type": "markdown",
   "metadata": {},
   "source": [
    "**Probelm:**  Let $X$ be a continuous non-negative random variable with $PDF$ $Y=X^n$, $n\\in \\mathbb{N}$. Find the $PDF$ of $Y$"
   ]
  },
  {
   "cell_type": "markdown",
   "metadata": {},
   "source": [
    "*solution:* Here $g(X)=X^n$, and $S_X\\subseteq [0,\\infty)$ ($\\because$ $X\\ge0$)"
   ]
  },
  {
   "cell_type": "markdown",
   "metadata": {},
   "source": [
    "$\\therefore$ $g(x)=x^n$ is one-one on $S_X$"
   ]
  },
  {
   "cell_type": "markdown",
   "metadata": {},
   "source": [
    "$y=g(x)=x^n$ $\\Rightarrow$ $g^{-1}(y)=y^\\frac{1}{n}$"
   ]
  },
  {
   "cell_type": "markdown",
   "metadata": {},
   "source": [
    "$\\frac{d}{dy}\\left(g^{-1}(y)\\right)=\\frac{1}{n}y^{\\frac{1}{n}-1}$"
   ]
  },
  {
   "cell_type": "markdown",
   "metadata": {},
   "source": [
    "now, $f_Y(y)=f_X(g^{-1}(y))\\begin{vmatrix}\n",
    "\\frac{d(g^{-1}(y))}{dy}\n",
    "\\end{vmatrix}$,  $y\\in S_Y$"
   ]
  },
  {
   "cell_type": "markdown",
   "metadata": {},
   "source": [
    "$f_Y(y)=f_X(y^\\frac{1}{n})\\begin{vmatrix}\n",
    "\\frac{d\\left(y^\\frac{1}{n}\\right)}{dy}\n",
    "\\end{vmatrix}$"
   ]
  },
  {
   "cell_type": "markdown",
   "metadata": {},
   "source": [
    "$\\therefore f_Y(y)=\\frac{1}{n}y^{\\frac{1-n}{n}}f_X(y^{\\frac{1}{n}})$"
   ]
  }
 ],
 "metadata": {
  "hide_input": false,
  "kernelspec": {
   "display_name": "Python 3 (ipykernel)",
   "language": "python",
   "name": "python3"
  },
  "language_info": {
   "codemirror_mode": {
    "name": "ipython",
    "version": 3
   },
   "file_extension": ".py",
   "mimetype": "text/x-python",
   "name": "python",
   "nbconvert_exporter": "python",
   "pygments_lexer": "ipython3",
   "version": "3.10.0"
  }
 },
 "nbformat": 4,
 "nbformat_minor": 4
}
