{
 "cells": [
  {
   "cell_type": "markdown",
   "metadata": {},
   "source": [
    "<h2 style=\"text-align:center\"> MA2102</h2>\n",
    "<h1 style=\"text-align:center\"> Probability and Statistics</h1>\n",
    "<h4 style=\"text-align:center\"> Lecture-14</h4>"
   ]
  },
  {
   "cell_type": "markdown",
   "metadata": {},
   "source": [
    "## Special Expectations"
   ]
  },
  {
   "cell_type": "markdown",
   "metadata": {},
   "source": [
    "Now we are going to look at some important numerical measures associated with probability distribution of random variable."
   ]
  },
  {
   "cell_type": "markdown",
   "metadata": {},
   "source": [
    "Given a random variable $X$, along with its distribution, it would be extremely useful if we are able to summarize the essential properties of distribution by suitably defined measures. One such measure is $E(X)$ "
   ]
  },
  {
   "cell_type": "markdown",
   "metadata": {},
   "source": [
    "**Definition:**(Mean)<br><br>\n",
    "The mean value of random variable $X$ is denoted by $\\mu$ and defined to be $\\mu=E(X)$ provided it exists."
   ]
  },
  {
   "cell_type": "markdown",
   "metadata": {},
   "source": [
    "Here $\\mu$ is the average value that is taken by $X$ when we perform experiment a large number of times, so mean of a random variable is some kind of center of the distribution."
   ]
  },
  {
   "cell_type": "markdown",
   "metadata": {},
   "source": [
    "Here $E(X)$ is just a weighted average of possible values of $X$, it doesn't tell anything about variation(or) spread of these values."
   ]
  },
  {
   "cell_type": "markdown",
   "metadata": {},
   "source": [
    "For example $P(X=-1)=P(X=0)=P(X=1)=\\frac{1}{3}\\Rightarrow$ $E(X)=0$"
   ]
  },
  {
   "cell_type": "markdown",
   "metadata": {},
   "source": [
    "$P(Y=-10)=P(Y=0)=P(Y=10)=\\frac{1}{3}\\Rightarrow$ $E(Y)=0$"
   ]
  },
  {
   "cell_type": "markdown",
   "metadata": {},
   "source": [
    "$P(Z=-100)=P(Z=0)=P(Z=100)=\\frac{1}{3}\\Rightarrow$ $E(Z)=0$"
   ]
  },
  {
   "cell_type": "markdown",
   "metadata": {},
   "source": [
    "Here all three random variables $X,Y,Z$ have same expectation $0$, but there is much greater spread in the possible values of $Y$, than in those of $X$, and in the possible values of $Z$ than in those of $Y$"
   ]
  },
  {
   "cell_type": "markdown",
   "metadata": {},
   "source": [
    "We expect $X$ to take values around its mean $E(X)$, so one possible way to measure the variation of possible values of $X$ would be to consider the quantity $E(|X-\\mu|)$. However, it turns out to be mathematically inconvenient to deal with this quantity. So more tractable quantity that is considered to measure this variation is $E(X-\\mu)^2$"
   ]
  },
  {
   "cell_type": "markdown",
   "metadata": {},
   "source": [
    "**Definition:**(Variance)<br><br>\n",
    "Variance of $X$ is denoted by $Var(X)$ and defined as  $Var(X)=E(X-\\mu)^2$ &nbsp;(if exists)"
   ]
  },
  {
   "cell_type": "markdown",
   "metadata": {},
   "source": [
    "Variance also denoted by $\\sigma^2$"
   ]
  },
  {
   "cell_type": "markdown",
   "metadata": {},
   "source": [
    "$Var(X)=E((X-\\mu)^2)$"
   ]
  },
  {
   "cell_type": "markdown",
   "metadata": {},
   "source": [
    "&nbsp; &nbsp; &nbsp; &nbsp; &nbsp; &nbsp; &nbsp; &nbsp;$=E(X^2-2\\mu X+\\mu^2))=E(X^2)-2\\mu E(X)+\\mu^2$"
   ]
  },
  {
   "cell_type": "markdown",
   "metadata": {},
   "source": [
    "&nbsp; &nbsp; &nbsp; &nbsp; &nbsp; &nbsp; &nbsp; &nbsp;$=E(X^2)-2\\mu^2+\\mu^2=E(X^2)-\\mu^2$"
   ]
  },
  {
   "cell_type": "markdown",
   "metadata": {},
   "source": [
    "$\\therefore$ $Var(X)=E(X^2)-(E(X))^2$"
   ]
  },
  {
   "cell_type": "markdown",
   "metadata": {},
   "source": [
    "Most of the time the above formula would be handy to compute the variance of $X$, than directly from the definition"
   ]
  },
  {
   "cell_type": "markdown",
   "metadata": {},
   "source": [
    "If $X$ denote the height in cm of a random student in a school, then $E(X)$ would represent the average height in cm and $Var(X)$ would represent measure of variation from mean in $cm^2$. To get a measure of variation in same units cm, we consider other quantity called standard deviation of $X$"
   ]
  },
  {
   "cell_type": "markdown",
   "metadata": {},
   "source": [
    "**Definition**:(Standard deviation)"
   ]
  },
  {
   "cell_type": "markdown",
   "metadata": {},
   "source": [
    "Standard deviation of $X$ denoted by $SD(X)$ and defined as $SD(X)=\\sqrt{Var(X)}$, which is also denoted by $\\sigma$"
   ]
  },
  {
   "cell_type": "markdown",
   "metadata": {},
   "source": [
    "**Note:** "
   ]
  },
  {
   "cell_type": "markdown",
   "metadata": {},
   "source": [
    "1. $Var(X)\\ge 0$    ($\\because$ $Var(X)=E((X-\\mu)^2)$ and $(X-\\mu)^2\\ge 0$)"
   ]
  },
  {
   "cell_type": "markdown",
   "metadata": {},
   "source": [
    "2. $E(X^2)\\ge (E(X))^2$"
   ]
  },
  {
   "cell_type": "markdown",
   "metadata": {},
   "source": [
    "($\\because$ $E(X^2)-(E(X))^2=Var(X)\\ge 0$ $\\Rightarrow$  $E(X^2)\\ge (E(X))^2$)"
   ]
  },
  {
   "cell_type": "markdown",
   "metadata": {},
   "source": [
    "2. $Var(aX+b)=a^2Var(X)$"
   ]
  },
  {
   "cell_type": "markdown",
   "metadata": {},
   "source": [
    "$\\because$ $Var(aX+b)=E((aX+b-E(aX+b))^2)$"
   ]
  },
  {
   "cell_type": "markdown",
   "metadata": {},
   "source": [
    "&nbsp; &nbsp;&nbsp; &nbsp; &nbsp; &nbsp; &nbsp; &nbsp; &nbsp; &nbsp; &nbsp; &nbsp; &nbsp; $=E((aX+b-aE(X)-b)^2)=E((aX-aE(X))^2)=E(a^2(X-E(X))^2)$"
   ]
  },
  {
   "cell_type": "markdown",
   "metadata": {},
   "source": [
    "&nbsp; &nbsp;&nbsp; &nbsp; &nbsp; &nbsp; &nbsp; &nbsp; &nbsp; &nbsp; &nbsp; &nbsp; &nbsp;$=a^2E((X-E(X))^2)=a^2Var(X)$"
   ]
  },
  {
   "cell_type": "markdown",
   "metadata": {},
   "source": [
    "**Example:** In rolling fair die, $X$ denote the face of die, then"
   ]
  },
  {
   "cell_type": "markdown",
   "metadata": {},
   "source": [
    "$S_X=\\{1,2,3,4,5,6\\}$"
   ]
  },
  {
   "cell_type": "markdown",
   "metadata": {},
   "source": [
    "$p_X(i)=\\frac{1}{6}$ for $i=1,2,3,4,5,6$"
   ]
  },
  {
   "cell_type": "markdown",
   "metadata": {},
   "source": [
    "$\\mu=E(X)=\\sum_{i=1}^{6}ip_X(i)=\\sum_{i=1}^{6}i\\left(\\frac{1}{6}\\right)=\\frac{1}{6}\\sum_{i=1}^{6}i=\\frac{1}{6}\\frac{6(6+1)}{2}=\\frac{7}{2}=3.5$"
   ]
  },
  {
   "cell_type": "markdown",
   "metadata": {},
   "source": [
    "$E(X^2)=\\sum_{i=1}^{6}i^2p_X(i)=\\sum_{i=1}^{6}i^2\\left(\\frac{1}{6}\\right)=\\frac{1}{6}\\sum_{i=1}^{6}i^2=\\frac{1}{6}\\frac{6(6+1)(12+1)}{6}=\\frac{91}{6}$"
   ]
  },
  {
   "cell_type": "markdown",
   "metadata": {},
   "source": [
    "$Var(X)=E(X^2)-(E(X))^2$$=\\frac{91}{6}-\\left(\\frac{7}{2}\\right)^2=\\frac{35}{12}$"
   ]
  },
  {
   "cell_type": "markdown",
   "metadata": {},
   "source": [
    "$SD(X)=\\sqrt{Var(X)}=\\sqrt{\\frac{35}{12}}=1.7078$"
   ]
  },
  {
   "cell_type": "markdown",
   "metadata": {},
   "source": [
    "**Moments:** For non-negative integer $k$, the $k^{th}$ non-central moment (or moment about origin) is denoted by $\\mu_{k}^{'}$, and defined as $\\mu_k^{'}=E(X^k)$  (if exists)"
   ]
  },
  {
   "cell_type": "markdown",
   "metadata": {},
   "source": [
    "Here $\\mu_0^{'}=E(X^0)=1$ and $\\mu_1^{'}=E(X^1)=E(X)=\\mu$ "
   ]
  },
  {
   "cell_type": "markdown",
   "metadata": {},
   "source": [
    "and $k^{th}$ central moment (or moment about $\\mu$) is denoted by $\\mu_k$ and defined as $\\mu_k=E(X-\\mu)^k$ (if exists)"
   ]
  },
  {
   "cell_type": "markdown",
   "metadata": {},
   "source": [
    "Here $\\mu_0=E(X-\\mu)^0=1$, $\\mu_1=E(X-\\mu)^1=0$, $\\mu_2=E(X-\\mu)^2=\\sigma^2$"
   ]
  },
  {
   "cell_type": "markdown",
   "metadata": {},
   "source": [
    "**Note:** First non-central moment is *mean*, and second central moment is *variance*."
   ]
  },
  {
   "cell_type": "markdown",
   "metadata": {},
   "source": [
    "**Relation between central and non-central moments:**"
   ]
  },
  {
   "cell_type": "markdown",
   "metadata": {},
   "source": [
    "$\\mu_k=E((X-\\mu)^k)=E\\left(\\sum_{i=0}^{k}(-1)^i\\binom{k}{i}X^{k-i}\\mu^i\\right)$ ($\\because$ Binomial Theorem)"
   ]
  },
  {
   "cell_type": "markdown",
   "metadata": {},
   "source": [
    "&nbsp; &nbsp;&nbsp; &nbsp;&nbsp; &nbsp;$=\\sum_{i=0}^{k}(-1)^i\\binom{k}{i}\\mu^iE(X^{k-i})=\\sum_{i=0}^{k}(-1)^i\\binom{k}{i}\\mu^i\\mu_{k-i}^{'}$"
   ]
  },
  {
   "cell_type": "markdown",
   "metadata": {},
   "source": [
    "$\\therefore$  $\\mu_k=\\sum_{i=0}^{k}(-1)^i\\binom{k}{i}\\mu^i \\mu_{k-i}^{'}$"
   ]
  },
  {
   "cell_type": "markdown",
   "metadata": {},
   "source": [
    "and $\\mu_k^{'}=E(X^k)=E((X-\\mu)+\\mu)^k$"
   ]
  },
  {
   "cell_type": "markdown",
   "metadata": {},
   "source": [
    "&nbsp; &nbsp;&nbsp; &nbsp;&nbsp; &nbsp;$=E\\left(\\sum_{i=0}^{k}\\binom{k}{i}(X-\\mu)^{k-i}\\mu^i\\right)$ ($\\because$ Binomial Theorem)"
   ]
  },
  {
   "cell_type": "markdown",
   "metadata": {},
   "source": [
    "&nbsp; &nbsp;&nbsp; &nbsp;&nbsp; &nbsp;$=\\sum_{i=0}^{k}\\binom{k}{i}\\mu^iE((X-\\mu)^{k-i})=\\sum_{i=0}^{k}\\binom{k}{i}\\mu^i\\mu_{k-i}$ "
   ]
  },
  {
   "cell_type": "markdown",
   "metadata": {},
   "source": [
    "$\\therefore~\\mu_k^{'}=\\sum_{i=0}^{k}\\binom{k}{i}\\mu^i\\mu_{k-i}$"
   ]
  },
  {
   "cell_type": "markdown",
   "metadata": {},
   "source": [
    "**Absolute moments**: For a non-negative integer $k$, $k^{th}$ absolute moment about origin is denoted by $\\beta_k^{'}$ and defined as $\\beta_k^{'}=E(|X|^k)$ (if exists),"
   ]
  },
  {
   "cell_type": "markdown",
   "metadata": {},
   "source": [
    " and $k^{th}$ absolute moment about the mean is denoted by $\\beta_k$, and defined as $\\beta_k=E(|X-\\mu|^k)$ (if exists)"
   ]
  },
  {
   "cell_type": "markdown",
   "metadata": {},
   "source": [
    "**Factorial moments**:For a non-negative integer $k$, $k^{th}$ factorial moment is denoted by $\\alpha_k$ and defined as $\\alpha_{k}=E(X(X-1)(X-2)...(X-k+1))$  (if exists)"
   ]
  },
  {
   "cell_type": "markdown",
   "metadata": {},
   "source": [
    "Here $\\beta_2=E(|X-\\mu|^2)=E((X-\\mu)^2)=\\sigma^2$"
   ]
  },
  {
   "cell_type": "markdown",
   "metadata": {},
   "source": [
    "and $\\alpha_1=E(X)$, $\\alpha_2=E(X(X-1))$"
   ]
  },
  {
   "cell_type": "markdown",
   "metadata": {},
   "source": [
    "$\\mu_2^{'}=E(X^2)=E(X(X-1))+E(X)=\\alpha_2+\\alpha_1$"
   ]
  },
  {
   "cell_type": "markdown",
   "metadata": {},
   "source": [
    "$\\sigma^2=\\mu_2^{'}-\\left(\\mu_1^{'}\\right)^2=(\\alpha_2+\\alpha_1)-\\alpha_1^2$"
   ]
  },
  {
   "cell_type": "markdown",
   "metadata": {},
   "source": [
    "**Problem**: Let $X$ be a discrete random with $PMF$ $p_X(i)=\\binom{n}{i}p^i(1-p)^{n-i}$, for $i=0,1,2,...,n$ ($0<p<1$). Find mean, and variance of $X$"
   ]
  },
  {
   "cell_type": "markdown",
   "metadata": {},
   "source": [
    "*Solution:* mean $\\mu=\\alpha_1=E(X)=\\sum_{i\\in S_X}ip_X(i)$"
   ]
  },
  {
   "cell_type": "markdown",
   "metadata": {},
   "source": [
    "&nbsp; &nbsp; &nbsp; &nbsp;&nbsp; &nbsp; &nbsp; &nbsp;&nbsp; &nbsp; &nbsp; &nbsp;&nbsp; &nbsp; &nbsp; &nbsp;$=\\sum_{i=0}^{n}i\\binom{n}{i}p^i(1-p)^{n-i}=\\sum_{i=1}^{n}i\\binom{n}{i}p^i(1-p)^{n-i}$"
   ]
  },
  {
   "cell_type": "markdown",
   "metadata": {},
   "source": [
    "&nbsp; &nbsp; &nbsp; &nbsp;&nbsp; &nbsp; &nbsp; &nbsp;&nbsp; &nbsp; &nbsp; &nbsp;&nbsp; &nbsp; &nbsp; &nbsp;$=\\sum_{i=1}^{n}n\\binom{n-1}{i-1}p^i(1-p)^{n-i}$   &nbsp; &nbsp; &nbsp; &nbsp;&nbsp;($\\because$ $i\\binom{n}{i}=n\\binom{n-1}{i-1}$)"
   ]
  },
  {
   "cell_type": "markdown",
   "metadata": {},
   "source": [
    "&nbsp; &nbsp; &nbsp; &nbsp;&nbsp; &nbsp; &nbsp; &nbsp;&nbsp; &nbsp; &nbsp; &nbsp;&nbsp; &nbsp; &nbsp; &nbsp;$=np\\sum_{i=1}^{n}\\binom{n-1}{i-1}p^{i-1}(1-p)^{(n-1)-(i-1)}$  , take $j=i-1$, $j=0,1,2,...,n-1$"
   ]
  },
  {
   "cell_type": "markdown",
   "metadata": {},
   "source": [
    "&nbsp; &nbsp; &nbsp; &nbsp;&nbsp; &nbsp; &nbsp; &nbsp;&nbsp; &nbsp; &nbsp; &nbsp;&nbsp; &nbsp; &nbsp; &nbsp;$=np\\sum_{j=0}^{n-1}\\binom{n-1}{j}p^{j}(1-p)^{(n-1)-j}=np(p+(1-p))^{n-1}=np$  "
   ]
  },
  {
   "cell_type": "markdown",
   "metadata": {},
   "source": [
    "$\\therefore$ mean $\\mu=np$"
   ]
  },
  {
   "cell_type": "markdown",
   "metadata": {},
   "source": [
    "To find variance we need $\\mu_2^{'}$ (as $\\sigma^2=\\mu_2^{'}-\\left(\\mu_1^{'}\\right)^2$) and this can be computed in terms of factorial moments(as it is in this way for this particular distribution)"
   ]
  },
  {
   "cell_type": "markdown",
   "metadata": {},
   "source": [
    "&nbsp; &nbsp; &nbsp; &nbsp;&nbsp; &nbsp; &nbsp; &nbsp;&nbsp; &nbsp; &nbsp; &nbsp;&nbsp; &nbsp; &nbsp; &nbsp;$\\alpha_2=E(X(X-1))=\\sum_{i\\in S_X}i(i-1)p_X(i)$"
   ]
  },
  {
   "cell_type": "markdown",
   "metadata": {},
   "source": [
    "&nbsp; &nbsp; &nbsp; &nbsp;&nbsp; &nbsp; &nbsp; &nbsp;&nbsp; &nbsp; &nbsp; &nbsp;&nbsp; &nbsp; &nbsp; &nbsp;$=\\sum_{i=0}^{n}i(i-1)\\binom{n}{i}p^i(1-p)^{n-i}=\\sum_{i=2}^{n}i(i-1)\\binom{n}{i}p^i(1-p)^{n-i}$"
   ]
  },
  {
   "cell_type": "markdown",
   "metadata": {},
   "source": [
    "&nbsp; &nbsp; &nbsp; &nbsp;&nbsp; &nbsp; &nbsp; &nbsp;&nbsp; &nbsp; &nbsp; &nbsp;&nbsp; &nbsp; &nbsp; &nbsp;$=\\sum_{i=2}^{n}n(n-1)\\binom{n-2}{i-2}p^i(1-p)^{n-i}$  &nbsp; &nbsp; &nbsp; &nbsp;&nbsp;($\\because$ $i(i-1)\\binom{n}{i}=n(n-1)\\binom{n-2}{i-2}$)"
   ]
  },
  {
   "cell_type": "markdown",
   "metadata": {},
   "source": [
    "&nbsp; &nbsp; &nbsp; &nbsp;&nbsp; &nbsp; &nbsp; &nbsp;&nbsp; &nbsp; &nbsp; &nbsp;&nbsp; &nbsp; &nbsp; &nbsp;$=n(n-1)p^2\\sum_{i=2}^{n}\\binom{n-2}{i-2}p^{i-2}(1-p)^{(n-2)-(i-2)}$ ,  take $j=i-2$, $j=0,1,2,...,n-2$ "
   ]
  },
  {
   "cell_type": "markdown",
   "metadata": {},
   "source": [
    "&nbsp; &nbsp; &nbsp; &nbsp;&nbsp; &nbsp; &nbsp; &nbsp;&nbsp; &nbsp; &nbsp; &nbsp;&nbsp; &nbsp; &nbsp; &nbsp;$=n(n-1)p^2\\sum_{j=0}^{n-2}\\binom{n-2}{j}p^{j}(1-p)^{(n-2)-j}=n(n-1)p^2(p+(1-p))^{n-2}=n(n-1)p^2$ "
   ]
  },
  {
   "cell_type": "markdown",
   "metadata": {},
   "source": [
    "$\\therefore$ $\\alpha_2=n(n-1)p^2$"
   ]
  },
  {
   "cell_type": "markdown",
   "metadata": {},
   "source": [
    "$\\mu_2^{'}=\\alpha_2+\\alpha_1=n(n-1)p^2+np$"
   ]
  },
  {
   "cell_type": "markdown",
   "metadata": {},
   "source": [
    "$\\sigma^2=\\mu_2^{'}-\\left(\\mu_1^{'}\\right)^2=n(n-1)p^2+np-(np)^2=np(1-p)$"
   ]
  },
  {
   "cell_type": "markdown",
   "metadata": {},
   "source": [
    "$\\therefore$ variance $\\sigma^2=np(1-p)$"
   ]
  },
  {
   "cell_type": "markdown",
   "metadata": {},
   "source": [
    "**Exercise**: Let $X$ be a discrete random with $PMF$ $p_X(i)=\\binom{n}{i}p^i(1-p)^{n-i}$, for $i=0,1,2,...,n$ ($0<p<1$). Find the $\\alpha_k$, where $1\\le k\\le n$"
   ]
  },
  {
   "cell_type": "markdown",
   "metadata": {},
   "source": [
    "**Problem:** Let $X$ is a continuous (Exponential)random variable with (rate parameter $\\lambda>0$) $PDF$ $f_X(x)=\\left\\{\\begin{matrix}\n",
    " \\lambda e^{-\\lambda x}& x>0 \\\\ \n",
    " 0& x\\le 0\n",
    "\\end{matrix}\\right.$. Find all non-central moments $E(X^k)$ for $k=1,2,3,...$, hence find the $E(X)$,$Var(X)$"
   ]
  },
  {
   "cell_type": "markdown",
   "metadata": {},
   "source": [
    "*solution:* "
   ]
  },
  {
   "cell_type": "markdown",
   "metadata": {},
   "source": [
    "for $k\\ge 1$, &nbsp; &nbsp; &nbsp;$\\int_{-\\infty}^{\\infty}|x^k|f_X(x)dx=\\int_{0}^{\\infty}|x^k|(\\lambda e^{-\\lambda x})dx$"
   ]
  },
  {
   "cell_type": "markdown",
   "metadata": {},
   "source": [
    "&nbsp; &nbsp; &nbsp; &nbsp; &nbsp; &nbsp; &nbsp; &nbsp; &nbsp; &nbsp; &nbsp; &nbsp; &nbsp; &nbsp; &nbsp; &nbsp; &nbsp; &nbsp; &nbsp; &nbsp; &nbsp; &nbsp; $=\\lambda\\int_{0}^{\\infty}x^k e^{-\\lambda x}dx$, take $t=\\lambda x\\Rightarrow dt=\\lambda dx$  and $t$ limits:$0$ to $\\infty$"
   ]
  },
  {
   "cell_type": "markdown",
   "metadata": {},
   "source": [
    "&nbsp; &nbsp; &nbsp; &nbsp; &nbsp; &nbsp; &nbsp; &nbsp; &nbsp; &nbsp; &nbsp; &nbsp; &nbsp; &nbsp; &nbsp; &nbsp; &nbsp; &nbsp; &nbsp; &nbsp; &nbsp; &nbsp; $=\\int_{0}^{\\infty}\\left(\\frac{t}{\\lambda}\\right)^k e^{-t}dt=\\frac{1}{\\lambda^k}\\int_{0}^{\\infty}t^{(k+1)-1}e^{-t}dt=\\frac{1}{\\lambda^k}\\Gamma{(k+1)}=\\frac{k!}{\\lambda^k}<\\infty$"
   ]
  },
  {
   "cell_type": "markdown",
   "metadata": {},
   "source": [
    "$\\therefore$ $E(X^k)$ exists for all $k\\ge 1$"
   ]
  },
  {
   "cell_type": "markdown",
   "metadata": {},
   "source": [
    "$E(X^k)=\\int_{-\\infty}^{\\infty}x^kf_X(x)dx=\\int_{0}^{\\infty}x^k(\\lambda e^{-\\lambda x})dx=\\frac{k!}{\\lambda^k}$ for $k=1,2,3,...$"
   ]
  },
  {
   "cell_type": "markdown",
   "metadata": {},
   "source": [
    "hence $E(X)=\\frac{1!}{\\lambda}=\\frac{1}{\\lambda}$, and $E(X^2)=\\frac{2!}{\\lambda^2}=\\frac{2}{\\lambda^2}$"
   ]
  },
  {
   "cell_type": "markdown",
   "metadata": {},
   "source": [
    "now, $Var(X)=E(X^2)-(E(X))^2=\\frac{2}{\\lambda^2}-\\left(\\frac{1}{\\lambda}\\right)^2=\\frac{1}{\\lambda^2}$"
   ]
  },
  {
   "cell_type": "markdown",
   "metadata": {},
   "source": [
    "**Problem:** Let $X$ be a discrete (Poisson)random variable with (rate parameter $\\lambda>0$)  with $S_X=\\{0,1,2,3,...\\}$ and $PMF$ $p_X(x)=\\frac{e^{-\\lambda}\\lambda^x}{x!}$, $x=0,1,2,....$, then find all factorial moments. Hence find the mean and variance of $X$"
   ]
  },
  {
   "cell_type": "markdown",
   "metadata": {},
   "source": [
    "*solution:*<br><br>\n",
    "for $k\\ge 1$, $\\sum_{x=0}^{\\infty}|x(x-1)(x-2)...(x-k+1)|p_X(x)=\\sum_{x=0}^{\\infty}|x(x-1)(x-2)...(x-k+1)|\\frac{e^{-\\lambda}\\lambda^x}{x!}$"
   ]
  },
  {
   "cell_type": "markdown",
   "metadata": {},
   "source": [
    "&nbsp; &nbsp;&nbsp; &nbsp; &nbsp; &nbsp; &nbsp; &nbsp; &nbsp; &nbsp; &nbsp; &nbsp;$=\\sum_{x=0}^{\\infty}x(x-1)(x-2)...(x-k+1)\\frac{e^{-\\lambda}\\lambda^x}{x!}=\\sum_{x=k}^{\\infty}x(x-1)(x-2)...(x-k+1)\\frac{e^{-\\lambda}\\lambda^x}{x!}$"
   ]
  },
  {
   "cell_type": "markdown",
   "metadata": {},
   "source": [
    "&nbsp; &nbsp;&nbsp; &nbsp; &nbsp; &nbsp; &nbsp; &nbsp; &nbsp; &nbsp; &nbsp; &nbsp;$=\\lambda^ke^{-\\lambda}\\sum_{x=k}^{\\infty}\\frac{\\lambda^{x-k}}{(x-k)!}$  &nbsp; $y=x-k$, $y=0,1,2,3,...$"
   ]
  },
  {
   "cell_type": "markdown",
   "metadata": {},
   "source": [
    "&nbsp; &nbsp;&nbsp; &nbsp; &nbsp; &nbsp; &nbsp; &nbsp; &nbsp; &nbsp; &nbsp; &nbsp;$=\\lambda^ke^{-\\lambda}\\sum_{y=0}^{\\infty}\\frac{\\lambda^{y}}{y!}=\\lambda^k e^{-\\lambda}e^{\\lambda}=\\lambda^k<\\infty$   &nbsp; &nbsp; &nbsp; &nbsp; &nbsp; ($\\because$ $e^x=\\sum_{n=0}^{\\infty}\\frac{x^{n}}{n!}$)"
   ]
  },
  {
   "cell_type": "markdown",
   "metadata": {},
   "source": [
    "$\\therefore$ $\\alpha_k$ exists"
   ]
  },
  {
   "cell_type": "markdown",
   "metadata": {},
   "source": [
    "$\\alpha_k=E(X(X-1)(X-2)...(X-k+1))=\\sum_{x=0}^{\\infty}x(x-1)(x-2)...(x-k+1)\\frac{e^{-\\lambda}\\lambda^x}{x!}=\\lambda^k$"
   ]
  },
  {
   "cell_type": "markdown",
   "metadata": {},
   "source": [
    "mean $\\mu=\\alpha_1=\\lambda^1\\Rightarrow \\mu=\\lambda$"
   ]
  },
  {
   "cell_type": "markdown",
   "metadata": {},
   "source": [
    "variance $\\sigma^2=(\\alpha_2+\\alpha_1)-(\\alpha_1)^2=(\\lambda^2+\\lambda)-(\\lambda)^2=\\lambda$"
   ]
  },
  {
   "cell_type": "markdown",
   "metadata": {},
   "source": [
    "$\\therefore$ $\\mu=\\sigma^2=\\lambda$ For Poisson random variables with rate parameter $\\lambda>0$"
   ]
  },
  {
   "cell_type": "markdown",
   "metadata": {},
   "source": [
    "**Example:** Let $X$ be a random variable with $PDF$ $f_X(x)=\\left\\{\\begin{matrix}\n",
    " \\frac{1}{2x^3}& x\\ge 1 \\\\ \n",
    " 0& x<1 \n",
    "\\end{matrix}\\right.$"
   ]
  },
  {
   "cell_type": "markdown",
   "metadata": {},
   "source": [
    "$\\int_{-\\infty}^{\\infty}|x|f_X(x)dx=\\int_{1}^{\\infty}|x|\\left(\\frac{1}{2x^3}\\right)dx=\\frac{1}{2}\\lim_{t\\to\\infty}\\int_{1}^{t}\\frac{1}{x^2}dx=\\frac{1}{2}\\lim_{t\\to\\infty}\\left[\\frac{-1}{x}\\right]_{1}^{t}$"
   ]
  },
  {
   "cell_type": "markdown",
   "metadata": {},
   "source": [
    "$=\\frac{1}{2}\\lim_{t\\to\\infty}\\left[\\frac{-1}{t}+1\\right]=\\frac{1}{2}(0+1)=\\frac{1}{2}<\\infty$"
   ]
  },
  {
   "cell_type": "markdown",
   "metadata": {},
   "source": [
    "$E(X)$ exists"
   ]
  },
  {
   "cell_type": "markdown",
   "metadata": {},
   "source": [
    "$\\int_{-\\infty}^{\\infty}|x|^2f_X(x)dx=\\int_{1}^{\\infty}|x|^2\\left(\\frac{1}{2x^3}\\right)dx=\\frac{1}{2}\\lim_{t\\to\\infty}\\int_{1}^{t}\\frac{1}{x}=\\frac{1}{2}\\lim_{t\\to\\infty}\\left[\\log{x}\\right]_{1}^{t}$$=\\frac{1}{2}\\lim_{t\\to\\infty}\\left[\\log{t}-0\\right]=\\infty$"
   ]
  },
  {
   "cell_type": "markdown",
   "metadata": {},
   "source": [
    "$\\therefore$ $E(X^2)$ doesn't exists"
   ]
  },
  {
   "cell_type": "markdown",
   "metadata": {},
   "source": [
    "**Note:** For given random variable $X$, lower order moments, may exists, but higher order moments may not exists"
   ]
  },
  {
   "cell_type": "markdown",
   "metadata": {},
   "source": [
    "Question is if some higher order moment exist, then can we guarantee the existence of all lower order moments?"
   ]
  },
  {
   "cell_type": "markdown",
   "metadata": {},
   "source": [
    "Answer is affirmative"
   ]
  },
  {
   "cell_type": "markdown",
   "metadata": {},
   "source": [
    "**Theorem:** For two integers $k,l$ such that $k>l$. If $E(X^k)$ exists, then $E(X^l)$ exists."
   ]
  },
  {
   "cell_type": "markdown",
   "metadata": {},
   "source": [
    "*proof:* For $k>l$, Suppose $E(X^k)$ exists i.e $\\int_{-\\infty}^{\\infty}|x|^kf_X(x)dx<\\infty$"
   ]
  },
  {
   "cell_type": "markdown",
   "metadata": {},
   "source": [
    "now we want to show $E(X^l)$ exits"
   ]
  },
  {
   "cell_type": "markdown",
   "metadata": {},
   "source": [
    "$\\int_{-\\infty}^{\\infty}|x|^lf_X(x)dx=\\int_{|x|\\le 1}|x|^lf_X(x)dx+\\int_{|x|>1}|x|^lf_X(x)dx$"
   ]
  },
  {
   "cell_type": "markdown",
   "metadata": {},
   "source": [
    "&nbsp; &nbsp; &nbsp; &nbsp; &nbsp; &nbsp; &nbsp; &nbsp; &nbsp; &nbsp; &nbsp; &nbsp; &nbsp; &nbsp; &nbsp; &nbsp; $\\le \\int_{|x|\\le 1}f_X(x)dx+\\int_{|x|>1}|x|^kf_X(x)dx\\le P(|X|\\le 1)+\\int_{-\\infty}^{\\infty}|x|^kf_X(x)dx <\\infty$<br>\n",
    "&nbsp; &nbsp; &nbsp; &nbsp; &nbsp; &nbsp; &nbsp; &nbsp; &nbsp; &nbsp; &nbsp; &nbsp; &nbsp; &nbsp; &nbsp; &nbsp;&nbsp; &nbsp; &nbsp; &nbsp; &nbsp; &nbsp; &nbsp; &nbsp; &nbsp; &nbsp; &nbsp; &nbsp; &nbsp; &nbsp; &nbsp; &nbsp;&nbsp; &nbsp; &nbsp; &nbsp; &nbsp; &nbsp; &nbsp; &nbsp; &nbsp; &nbsp; &nbsp; &nbsp; &nbsp; &nbsp; &nbsp; &nbsp;($\\because$ $|x|\\le 1\\Rightarrow |x|^l\\le 1$ and  for $|x|>1$ $|x|^l\\le|x|^k$)"
   ]
  },
  {
   "cell_type": "markdown",
   "metadata": {},
   "source": [
    "$\\therefore$ $\\int_{-\\infty}^{\\infty}|x|^lf_X(x)dx<\\infty$"
   ]
  },
  {
   "cell_type": "markdown",
   "metadata": {},
   "source": [
    "Hence $E(X^l)$ exists"
   ]
  },
  {
   "cell_type": "markdown",
   "metadata": {},
   "source": [
    "**Corollary**: For $k>l$, If $E(X^l)$ does not exists, then $E(X^k)$ will not exists."
   ]
  },
  {
   "cell_type": "markdown",
   "metadata": {},
   "source": [
    "We have seen that for some probability distributions even the (first order moment) mean doesn't exists, so of course none of any higher order moments exist. We know that mean is kind of center of distribution, and when it doesn't exists we look at other parameter called median of the distribution, which is one special parameter from the family of order parameters(a.k.a quantiles), and these order parameters always exists."
   ]
  },
  {
   "cell_type": "markdown",
   "metadata": {},
   "source": [
    "**Quantile:** A number $x\\in\\mathbb{R}$ satisfying $P(X\\le x)\\ge p$, and $P(X\\ge x)\\ge 1-p$, $0<p<1$ called, quantile of order $p$ (or $p^{th}$ quantile) and it is denoted by $Q_p$"
   ]
  },
  {
   "cell_type": "markdown",
   "metadata": {},
   "source": [
    "$p\\le P(X\\le Q_p)\\Rightarrow p\\le F_X(Q_p)$   &nbsp; &nbsp;-----(1)"
   ]
  },
  {
   "cell_type": "markdown",
   "metadata": {},
   "source": [
    "$1-p\\le P(X\\ge Q_p)\\Rightarrow$ $1-p\\le 1-P(X<Q_p)\\Rightarrow$ $p\\ge P(X<Q_p)$"
   ]
  },
  {
   "cell_type": "markdown",
   "metadata": {},
   "source": [
    "$p\\ge P(X\\le Q_p)-P(X=Q_p)\\Rightarrow P(X\\le Q_p)\\le p+P(X=Q_p)$"
   ]
  },
  {
   "cell_type": "markdown",
   "metadata": {},
   "source": [
    "$F_X(Q_p)\\le p+ P(X=Q_p)$ &nbsp; &nbsp; ------(2)"
   ]
  },
  {
   "cell_type": "markdown",
   "metadata": {},
   "source": [
    "From (1)&(2), we have"
   ]
  },
  {
   "cell_type": "markdown",
   "metadata": {},
   "source": [
    "$p\\le F_X(Q_p) \\le p+ P(X=Q_p)$"
   ]
  },
  {
   "cell_type": "markdown",
   "metadata": {},
   "source": [
    "$0\\le F_X(Q_p)-p \\le P(X=Q_p)$  &nbsp; &nbsp; -----(3)"
   ]
  },
  {
   "cell_type": "markdown",
   "metadata": {},
   "source": [
    "If $X$ is continuous random variable, then we have $P(X=Q_p)=0$"
   ]
  },
  {
   "cell_type": "markdown",
   "metadata": {},
   "source": [
    "(3) $\\Rightarrow$ $F_X(Q_p)-p=0\\Rightarrow F_X(Q_p)=p$"
   ]
  },
  {
   "cell_type": "code",
   "execution_count": 22,
   "metadata": {},
   "outputs": [
    {
     "data": {
      "image/png": "[encoded data removed]",
      "text/plain": [
       "<Figure size 720x216 with 1 Axes>"
      ]
     },
     "metadata": {},
     "output_type": "display_data"
    }
   ],
   "source": [
    "import matplotlib.pyplot as plt\n",
    "import numpy as np\n",
    "from scipy.stats import norm\n",
    "x=np.linspace(-5,5,100)\n",
    "xx1=np.linspace(-5,-1,50)\n",
    "xx2=np.linspace(-1,5,50)\n",
    "fig, ax = plt.subplots(figsize=(10,3))\n",
    "\n",
    "ax.plot(x,norm.pdf(x),color='blue')\n",
    "ax.fill_between(xx1,norm.pdf(xx1),alpha=0.4,color='purple')\n",
    "ax.fill_between(xx2,norm.pdf(xx2),alpha=0.4,color='magenta')\n",
    "ax.set_xticks([])\n",
    "ax.set_yticks([])\n",
    "ax.set_ylim(0,0.7)\n",
    "ax.text(-1,-0.05,r\"$Q_p$\")\n",
    "ax.text(-1.5,0.05,r\"$p$\")\n",
    "ax.text(0.5,0.05,r\"$1-p$\")\n",
    "ax.text(1.7,0.1,r\"$f_x(x)$\",color='navy')\n",
    "plt.show()"
   ]
  },
  {
   "cell_type": "markdown",
   "metadata": {},
   "source": [
    "that is $Q_p$ is a inverse image of $p$ under $F_X$"
   ]
  },
  {
   "cell_type": "markdown",
   "metadata": {},
   "source": [
    "If $F_X(x)$ is strictly increasing(then $F_X$ is one-one) then there is unique $Q_p\\in \\mathbb{R}$ such that $F_X(Q_p)=p$ then $Q_p=F_X^{-1}(p)$"
   ]
  },
  {
   "cell_type": "markdown",
   "metadata": {},
   "source": [
    "**Note:**: There may be more than one value of $Q_p$ that satisfies (3), so quantiles of order $p$ may not be unique."
   ]
  },
  {
   "cell_type": "markdown",
   "metadata": {},
   "source": [
    "- $Q_{\\frac{1}{2}}$ is called <u>median</u> of $X$"
   ]
  },
  {
   "cell_type": "code",
   "execution_count": 46,
   "metadata": {},
   "outputs": [
    {
     "data": {
      "image/png": "[encoded data removed]",
      "text/plain": [
       "<Figure size 720x216 with 1 Axes>"
      ]
     },
     "metadata": {},
     "output_type": "display_data"
    }
   ],
   "source": [
    "import matplotlib.pyplot as plt\n",
    "import numpy as np\n",
    "from scipy.stats import norm\n",
    "x=np.linspace(-5,5,100)\n",
    "xx1=np.linspace(-5,0,50)\n",
    "xx2=np.linspace(0,5,50)\n",
    "fig, ax = plt.subplots(figsize=(10,3))\n",
    "\n",
    "ax.plot(x,norm.pdf(x),color='blue')\n",
    "ax.fill_between(xx1,norm.pdf(xx1),alpha=0.4,color='purple')\n",
    "ax.fill_between(xx2,norm.pdf(xx2),alpha=0.4,color='magenta')\n",
    "ax.set_xticks([])\n",
    "ax.set_yticks([])\n",
    "ax.set_ylim(0,0.7)\n",
    "ax.text(-0.1,-0.05,r\"$Q_{\\frac{1}{2}}$\",fontsize=14)\n",
    "ax.text(-1,0.05,r\"$\\frac{1}{2}$\")\n",
    "ax.text(1,0.05,r\"$\\frac{1}{2}$\")\n",
    "ax.text(1.7,0.1,r\"$f_x(x)$\",color='navy')\n",
    "plt.show()"
   ]
  },
  {
   "cell_type": "markdown",
   "metadata": {},
   "source": [
    "- $Q_{\\frac{1}{4}},Q_{\\frac{1}{2}},Q_{\\frac{3}{4}}$ are called <u>quartiles</u> of $X$"
   ]
  },
  {
   "cell_type": "code",
   "execution_count": 47,
   "metadata": {},
   "outputs": [
    {
     "data": {
      "image/png": "[encoded data removed]",
      "text/plain": [
       "<Figure size 720x216 with 1 Axes>"
      ]
     },
     "metadata": {},
     "output_type": "display_data"
    }
   ],
   "source": [
    "import matplotlib.pyplot as plt\n",
    "import numpy as np\n",
    "from scipy.stats import norm\n",
    "x=np.linspace(-5,5,100)\n",
    "xx1=np.linspace(-5,-0.8,50)\n",
    "xx2=np.linspace(-0.8,0,50)\n",
    "xx3=np.linspace(0,0.8,50)\n",
    "xx4=np.linspace(0.8,5,50)\n",
    "fig, ax = plt.subplots(figsize=(10,3))\n",
    "\n",
    "ax.plot(x,norm.pdf(x),color='blue')\n",
    "ax.fill_between(xx1,norm.pdf(xx1),alpha=0.4,color='purple')\n",
    "ax.fill_between(xx2,norm.pdf(xx2),alpha=0.4,color='magenta')\n",
    "ax.fill_between(xx3,norm.pdf(xx3),alpha=0.4,color='orange')\n",
    "ax.fill_between(xx4,norm.pdf(xx4),alpha=0.4,color='yellow')\n",
    "ax.set_xticks([])\n",
    "ax.set_yticks([])\n",
    "ax.set_ylim(0,0.7)\n",
    "ax.text(-0.1,-0.05,r\"$Q_{\\frac{1}{2}}$\",fontsize=14)\n",
    "ax.text(-0.9,-0.05,r\"$Q_{\\frac{1}{4}}$\",fontsize=14)\n",
    "ax.text(0.7,-0.05,r\"$Q_{\\frac{3}{4}}$\",fontsize=14)\n",
    "ax.text(-1.2,0.05,r\"$\\frac{1}{4}$\")\n",
    "ax.text(-0.6,0.05,r\"$\\frac{1}{4}$\")\n",
    "ax.text(0.6,0.05,r\"$\\frac{1}{4}$\")\n",
    "ax.text(1.2,0.05,r\"$\\frac{1}{4}$\")\n",
    "ax.text(1.7,0.1,r\"$f_x(x)$\",color='navy')\n",
    "plt.show()"
   ]
  },
  {
   "cell_type": "markdown",
   "metadata": {},
   "source": [
    "- $Q_{\\frac{1}{10}},Q_{\\frac{2}{10}},Q_{\\frac{3}{10}},...,Q_{\\frac{9}{10}}$ are called <u> deciles</u> of $X$"
   ]
  },
  {
   "cell_type": "markdown",
   "metadata": {},
   "source": [
    "- $Q_{\\frac{1}{100}},Q_{\\frac{2}{100}},Q_{\\frac{3}{100}},...,Q_{\\frac{99}{100}}$ are called <u>percentiles</u> of $X$"
   ]
  },
  {
   "cell_type": "markdown",
   "metadata": {},
   "source": [
    "Median will be an important numerical measure of probability distribution, especially when mean does not exists."
   ]
  },
  {
   "cell_type": "markdown",
   "metadata": {},
   "source": [
    "**Problem:** Let $X$ be a random variable with $PDF$ $f_X(x)=\\frac{1}{\\pi}\\frac{1}{1+x^2}$, $-\\infty<x<\\infty$, then find the quartiles of $X$."
   ]
  },
  {
   "cell_type": "markdown",
   "metadata": {},
   "source": [
    "*solution:* $CDF$ of $X$, $F_X(x)=\\int_{-\\infty}^{x}f_X(t)dt$"
   ]
  },
  {
   "cell_type": "markdown",
   "metadata": {},
   "source": [
    "&nbsp; &nbsp; &nbsp; &nbsp; &nbsp; &nbsp; &nbsp; &nbsp; &nbsp; &nbsp; &nbsp; &nbsp; &nbsp; &nbsp; &nbsp; &nbsp;&nbsp; &nbsp; &nbsp; &nbsp; &nbsp; &nbsp; &nbsp; &nbsp;$=\\frac{1}{\\pi}\\int_{-\\infty}^{x}\\frac{1}{1+t^2}dt=\\frac{1}{\\pi}\\left[\\tan^{-1}t\\right]_{-\\infty}^{x}=\\frac{1}{\\pi}\\left[tan^{-1}x-(-\\frac{\\pi}{2})\\right]$"
   ]
  },
  {
   "cell_type": "markdown",
   "metadata": {},
   "source": [
    "$\\therefore$ $CDF$ of $X$, $F_X(x)=\\frac{1}{\\pi}\\tan^{-1}x+\\frac{1}{2}$, $-\\infty<x<\\infty$"
   ]
  },
  {
   "cell_type": "markdown",
   "metadata": {},
   "source": [
    "Here $F_X^{'}(x)=\\frac{1}{\\pi(1+y^2)}>0$, $F_X(x)$ is strictly increasing, so for $0<p<1$, there is unique quantile of order $p$, and $Q_p=F_X^{-1}(p)$"
   ]
  },
  {
   "cell_type": "markdown",
   "metadata": {},
   "source": [
    "$y=F_X(x)=\\frac{1}{\\pi}\\tan^{-1}x+\\frac{1}{2}\\Rightarrow x=\\tan(\\pi\\left(y-\\frac{1}{2}\\right))$"
   ]
  },
  {
   "cell_type": "markdown",
   "metadata": {},
   "source": [
    "$\\therefore$ $F_X^{-1}(y)=\\tan(\\pi\\left(y-\\frac{1}{2}\\right))$"
   ]
  },
  {
   "cell_type": "markdown",
   "metadata": {},
   "source": [
    "$Q_{\\frac{1}{4}}=F_X^{-1}\\left(\\frac{1}{4}\\right)=\\tan(\\pi(\\frac{1}{4}-\\frac{1}{2}))=\\tan\\left(\\frac{-\\pi}{4}\\right)=-1$"
   ]
  },
  {
   "cell_type": "markdown",
   "metadata": {},
   "source": [
    "$Q_{\\frac{1}{2}}=F_X^{-1}\\left(\\frac{1}{2}\\right)=\\tan(\\pi(\\frac{1}{2}-\\frac{1}{2}))=\\tan\\left(0\\right)=0$"
   ]
  },
  {
   "cell_type": "markdown",
   "metadata": {},
   "source": [
    "$Q_{\\frac{3}{4}}=F_X^{-1}\\left(\\frac{3}{4}\\right)=\\tan(\\pi(\\frac{3}{4}-\\frac{1}{2}))=\\tan\\left(\\frac{\\pi}{4}\\right)=1$"
   ]
  },
  {
   "cell_type": "markdown",
   "metadata": {},
   "source": [
    "**Problem:** Let $X$ be a non-negative integer valued discrete random variable, for which $E(X)$ exists, then show that $E(X)=\\sum_{x=0}^{\\infty}(1-F_X(x))$"
   ]
  },
  {
   "cell_type": "markdown",
   "metadata": {},
   "source": [
    "*solution:* $\\sum_{x=0}^{\\infty}(1-F_X(x))=\\sum_{x=0}^{\\infty}P(X>x)$  &nbsp; &nbsp; &nbsp; ($\\because~F_X(x)=P(X\\le x)$)"
   ]
  },
  {
   "cell_type": "markdown",
   "metadata": {},
   "source": [
    "&nbsp; &nbsp; &nbsp; &nbsp; &nbsp; &nbsp; &nbsp; &nbsp; &nbsp; &nbsp; &nbsp; &nbsp; &nbsp; &nbsp; &nbsp; &nbsp;&nbsp; &nbsp; &nbsp; &nbsp; &nbsp; &nbsp; &nbsp; &nbsp;\n",
    "$=\\sum_{x=0}^{\\infty}\\sum_{i=x+1}^{\\infty}p_X(i)$"
   ]
  },
  {
   "cell_type": "markdown",
   "metadata": {},
   "source": [
    "&nbsp; &nbsp; &nbsp; &nbsp; &nbsp; &nbsp; &nbsp; &nbsp; &nbsp; &nbsp; &nbsp; &nbsp; &nbsp; &nbsp; &nbsp; &nbsp;&nbsp; &nbsp; &nbsp; &nbsp; &nbsp; &nbsp; &nbsp; &nbsp;\n",
    "$=\\left(p_X(1)+p_X(2)+p_X(3)+...\\right)+\\left(p_X(2)+p_X(3)+p_X(4)+...\\right)+\\left(p_X(3)+p_X(4)+p_X(5)+...\\right)+....$"
   ]
  },
  {
   "cell_type": "markdown",
   "metadata": {},
   "source": [
    "&nbsp; &nbsp; &nbsp; &nbsp; &nbsp; &nbsp; &nbsp; &nbsp; &nbsp; &nbsp; &nbsp; &nbsp; &nbsp; &nbsp; &nbsp; &nbsp;&nbsp; &nbsp; &nbsp; &nbsp; &nbsp; &nbsp; &nbsp; &nbsp;\n",
    "$=\\left(1p_X(1)+2p_X(2)+3p_X(3)+...\\right)$"
   ]
  },
  {
   "cell_type": "markdown",
   "metadata": {},
   "source": [
    "&nbsp; &nbsp; &nbsp; &nbsp; &nbsp; &nbsp; &nbsp; &nbsp; &nbsp; &nbsp; &nbsp; &nbsp; &nbsp; &nbsp; &nbsp; &nbsp;&nbsp; &nbsp; &nbsp; &nbsp; &nbsp; &nbsp; &nbsp; &nbsp;\n",
    "$=\\sum_{x=0}^{\\infty}xp_X(x)=E(X)$"
   ]
  },
  {
   "cell_type": "markdown",
   "metadata": {},
   "source": [
    "$\\therefore \\sum_{x=0}^{\\infty}(1-F_X(x))=E(X)$"
   ]
  },
  {
   "cell_type": "markdown",
   "metadata": {},
   "source": [
    "**Exercise:** Let $X$ be a contunous random variable with $PDF$ $f_X(x)$, and $S_X=(0,b)$ for which $E(X)$ exists, then show that $E(X)=\\int_{0}^{b}(1-F_X(x))dx$"
   ]
  },
  {
   "cell_type": "markdown",
   "metadata": {},
   "source": [
    "**Hint:** Use integration by parts on $\\int_{0}^{b}(1-F_X(x))dx$ and try realise it as $\\int_{0}^{b}xf_X(x)dx$"
   ]
  }
 ],
 "metadata": {
  "hide_input": false,
  "kernelspec": {
   "display_name": "Python 3 (ipykernel)",
   "language": "python",
   "name": "python3"
  },
  "language_info": {
   "codemirror_mode": {
    "name": "ipython",
    "version": 3
   },
   "file_extension": ".py",
   "mimetype": "text/x-python",
   "name": "python",
   "nbconvert_exporter": "python",
   "pygments_lexer": "ipython3",
   "version": "3.10.0"
  }
 },
 "nbformat": 4,
 "nbformat_minor": 4
}
