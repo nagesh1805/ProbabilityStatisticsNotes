{
 "cells": [
  {
   "cell_type": "markdown",
   "metadata": {},
   "source": [
    "<h2 style=\"text-align:center\"> MA2102</h2>\n",
    "<h1 style=\"text-align:center\"> Probability and Statistics</h1>\n",
    "<h4 style=\"text-align:center\"> Lecture-17(Part-b)</h4>"
   ]
  },
  {
   "cell_type": "markdown",
   "metadata": {},
   "source": [
    "# Some Special Continuous Distributions"
   ]
  },
  {
   "cell_type": "markdown",
   "metadata": {},
   "source": [
    "Now, we are going to see some most frequently  used continuous distributions and describe their important properties."
   ]
  },
  {
   "cell_type": "markdown",
   "metadata": {},
   "source": [
    "### (Continuous) Uniform Distributions: "
   ]
  },
  {
   "cell_type": "markdown",
   "metadata": {},
   "source": [
    "Consider the random experiment of selecting a number at random from the interval $[a,b]$."
   ]
  },
  {
   "cell_type": "markdown",
   "metadata": {},
   "source": [
    "Sample space $\\Omega=[a,b]$"
   ]
  },
  {
   "cell_type": "markdown",
   "metadata": {},
   "source": [
    "define, $X:\\Omega\\to\\mathbb{R}$ with mapping $\\omega\\mapsto \\omega$"
   ]
  },
  {
   "cell_type": "markdown",
   "metadata": {},
   "source": [
    "$S_X=[a,b]$"
   ]
  },
  {
   "cell_type": "markdown",
   "metadata": {},
   "source": [
    "For $a\\le a_1<b_1\\le b$, the probability of selecting number in the interval $[a_1,b_1]$ will be proportional to the length of the interval $[a_1,b_1]$"
   ]
  },
  {
   "cell_type": "markdown",
   "metadata": {},
   "source": [
    "$\\therefore$ $P(a_1\\le X \\le b_1])=k(b_1-a_1)$  (where $k$ is proportional to constant)"
   ]
  },
  {
   "cell_type": "markdown",
   "metadata": {},
   "source": [
    "and  $P(a\\le X\\le b)=P(\\Omega)=1$&nbsp;&nbsp; ($\\therefore$ Axiom (2))"
   ]
  },
  {
   "cell_type": "markdown",
   "metadata": {},
   "source": [
    "$P(a\\le X \\le b)=1\\Rightarrow k(b-a)=1\\Rightarrow k=\\frac{1}{b-a}$  "
   ]
  },
  {
   "cell_type": "markdown",
   "metadata": {},
   "source": [
    "$\\therefore$ $P(a_1\\le X \\le b_1)=\\frac{b_1-a_1}{b-a}$  for $a\\le a_1<b_1\\le b$"
   ]
  },
  {
   "cell_type": "markdown",
   "metadata": {},
   "source": [
    "For $x<a$, $F_X(x)=P(X\\le x)=0$"
   ]
  },
  {
   "cell_type": "markdown",
   "metadata": {},
   "source": [
    "For $a\\le x<b$, $F_X(x)=P(X\\le x)=P(-\\infty<X<a)+P(a\\le X\\le x)=0+\\frac{x-a}{b-a}=\\frac{x-a}{b-a}$"
   ]
  },
  {
   "cell_type": "markdown",
   "metadata": {},
   "source": [
    "For $x\\ge b$, $F_X(x)=P(X\\le x)=P(-\\infty<X<a)+P(a\\le X\\le b)+P(b<X\\le x)=0+\\frac{b-a}{b-a}+0=1$"
   ]
  },
  {
   "cell_type": "markdown",
   "metadata": {
    "cell_style": "split"
   },
   "source": [
    "$F_X(x)=\\left\\{\\begin{matrix}\n",
    " 0&x<a \\\\ \n",
    " \\frac{x-a}{b-a}&a\\le x < b\\\\ \n",
    " 1& x\\ge b\n",
    "\\end{matrix}\\right.$"
   ]
  },
  {
   "cell_type": "markdown",
   "metadata": {
    "cell_style": "split"
   },
   "source": [
    "and $PDF$ of $X$, $f_X(x)=\\frac{d}{dx}F_X(x)=\\left\\{\\begin{matrix}\n",
    "\\frac{1}{b-a} & a\\le x\\le b \\\\ \n",
    " 0 & \\text{otherwise} \n",
    "\\end{matrix}\\right.$"
   ]
  },
  {
   "cell_type": "markdown",
   "metadata": {},
   "source": [
    "  "
   ]
  },
  {
   "cell_type": "code",
   "execution_count": 88,
   "metadata": {},
   "outputs": [
    {
     "data": {
      "image/png": "[encoded data removed]",
      "text/plain": [
       "<Figure size 1296x144 with 2 Axes>"
      ]
     },
     "metadata": {
      "needs_background": "light"
     },
     "output_type": "display_data"
    }
   ],
   "source": [
    "import matplotlib.pyplot as plt\n",
    "import numpy as np\n",
    "\n",
    "fig,ax = plt.subplots(1,2,figsize=(18,2))\n",
    "#Example Uniform CDF Graph\n",
    "ax[0].set_title(\"CDF\",fontsize=15,color='black')\n",
    "ax[0].plot([-5,5],[0,0],color='black') # x-axis\n",
    "ax[0].plot([0,0],[0,2],color='black') # y-axis\n",
    "ax[0].plot([-5,1],[0,0],color='b')\n",
    "ax[0].plot([1,2],[0,1],color='b')\n",
    "ax[0].plot([2,4],[1,1],color='b')\n",
    "ax[0].text(1,-0.1,\"a\")\n",
    "ax[0].text(2,-0.1,\"b\")\n",
    "ax[0].text(0,1,\"1\")\n",
    "ax[0].text(-0.1,1,\"-\",fontsize=18)\n",
    "ax[0].set_ylim(0,3)\n",
    "ax[0].axis('off')\n",
    "\n",
    "#Example Uniform PDF Graph\n",
    "ax[1].set_title(\"PDF\",fontsize=15,color='black')\n",
    "ax[1].plot([-5,5],[0,0],color='black') # x-axis\n",
    "ax[1].plot([0,0],[0,2],color='black') # y-axis\n",
    "ax[1].plot([-5,1],[0,0],color='b')\n",
    "ax[1].plot([1,2],[1,1],color='b')\n",
    "ax[1].plot([2,5],[0,0],color='b')\n",
    "ax[1].text(1,-0.1,\"a\")\n",
    "ax[1].text(2,-0.1,\"b\")\n",
    "ax[1].text(-0.6,1,r\"$\\frac{1}{b-a}$\")\n",
    "ax[1].text(-0.1,1,\"-\",fontsize=18)\n",
    "ax[1].set_ylim(0,3)\n",
    "ax[1].axis('off')\n",
    "plt.show()"
   ]
  },
  {
   "cell_type": "markdown",
   "metadata": {},
   "source": [
    "Here the $PDF$ of $X$, $f_X(x)$ is constant over $[a,b]$. That means, $X$ is just likely to be near any value in $[a,b]$ as any other value."
   ]
  },
  {
   "cell_type": "markdown",
   "metadata": {},
   "source": [
    "($\\because$ $f(x)$ is the measure of likelihood of $X$ being around $x$)"
   ]
  },
  {
   "cell_type": "markdown",
   "metadata": {},
   "source": [
    "Here $X$ is said to have <b>Uniform Distribution</b> over interval $[a,b]$ and $a,b$ are parameters for this distribution."
   ]
  },
  {
   "cell_type": "markdown",
   "metadata": {},
   "source": [
    "**Notation:** $X\\sim U[a,b]$"
   ]
  },
  {
   "cell_type": "markdown",
   "metadata": {},
   "source": [
    "$M.G.F:$ $M_X(t)=\\left\\{\\begin{matrix}\n",
    " \\frac{e^{tb}-e^{ta}}{t(b-a)}& t\\ne 0 \\\\ \n",
    " 1& t=0 \n",
    "\\end{matrix}\\right.$"
   ]
  },
  {
   "cell_type": "markdown",
   "metadata": {},
   "source": [
    "$E(X)=\\frac{a+b}{2}$, &nbsp; &nbsp; $Var(X)=\\frac{(b-a)^2}{12}$, and $E(X^k)=\\frac{b^{k+1}-a^{k+1}}{(k+1)(b-a)}$, for $k=1,2,3,...$"
   ]
  },
  {
   "cell_type": "markdown",
   "metadata": {},
   "source": [
    "**Example:** Buses arrive at a specified stop at 15 minute intervals starting at 7 am. That is, they arrive at 7:00,7:15,7:30,7:45 and so on. If a passenger arrives at a stop at a time that is uniformly distributed between 7 and 7:30, then find the probability that he waits<br>\n",
    "(a) Less than 5 minutes for bus<br>\n",
    "(b) More than 10 minutes for bus"
   ]
  },
  {
   "cell_type": "markdown",
   "metadata": {},
   "source": [
    "*solution:* Let $X$ denote the time(in minutes) past $7:00$ am that passenger arrives at the stop.\n"
   ]
  },
  {
   "cell_type": "markdown",
   "metadata": {},
   "source": [
    " $X\\sim U[0,30]$"
   ]
  },
  {
   "cell_type": "markdown",
   "metadata": {},
   "source": [
    "$f_X(x)=\\left\\{\\begin{matrix}\n",
    " \\frac{1}{30}& 0\\le x\\le 30 \\\\ \n",
    " 0 & \\text{otherwise}\n",
    "\\end{matrix}\\right.$,   &nbsp; &nbsp; $F_X(x)=\\left\\{\\begin{matrix}\n",
    " 0&x<0 \\\\ \n",
    " \\frac{x}{30}& 0\\le x<30 \\\\\n",
    " 1& x\\ge 30\n",
    "\\end{matrix}\\right.$"
   ]
  },
  {
   "cell_type": "markdown",
   "metadata": {},
   "source": [
    "(a) Let $A$ be the event that passenger will have to wait less than 5 minutes"
   ]
  },
  {
   "cell_type": "markdown",
   "metadata": {},
   "source": [
    "$A$ happens $\\iff$ ($10<X<15$) or ($25<X<30$)"
   ]
  },
  {
   "cell_type": "markdown",
   "metadata": {},
   "source": [
    "$P(A)=P(10<X<15)+P(25<X<30)=\\int_{10}^{15}\\frac{1}{30}dx+\\int_{25}^{30}\\frac{1}{30}dx=\\frac{15-10}{30}+\\frac{30-25}{30}=\\frac{1}{3}$"
   ]
  },
  {
   "cell_type": "markdown",
   "metadata": {},
   "source": [
    "$\\therefore$ $P(A)=\\frac{1}{3}$"
   ]
  },
  {
   "cell_type": "markdown",
   "metadata": {},
   "source": [
    "(b) Let $B$ be the event that passenger will have to wait more than 10 minutes for bus."
   ]
  },
  {
   "cell_type": "markdown",
   "metadata": {},
   "source": [
    "$B$ happens $\\iff$ ($0<X<5$) or ($15<X<20$)"
   ]
  },
  {
   "cell_type": "markdown",
   "metadata": {},
   "source": [
    "$P(B)=P(0<X<5)+P(15<X<20)=(F_X(5)-F_X(0))+(F_X(20)-F_X(15))=(\\frac{5}{30}-\\frac{0}{30})+(\\frac{20}{30}-\\frac{15}{30})=\\frac{5}{30}+\\frac{5}{30}=\\frac{1}{3}$"
   ]
  },
  {
   "cell_type": "markdown",
   "metadata": {},
   "source": [
    "### Erlang Distribution:"
   ]
  },
  {
   "cell_type": "markdown",
   "metadata": {},
   "source": [
    "Consider a Poisson process with rate parameter $\\lambda0$ (i.e $\\lambda=$ average number of event occurrences in unit time interval)"
   ]
  },
  {
   "cell_type": "markdown",
   "metadata": {},
   "source": [
    "Let $X_t$ denote the number of event occurrences in the interval $[0,t]$"
   ]
  },
  {
   "cell_type": "markdown",
   "metadata": {},
   "source": [
    "then average number of occurrences in the interval $[0,t]=\\lambda t$"
   ]
  },
  {
   "cell_type": "markdown",
   "metadata": {},
   "source": [
    "$\\therefore$ $X_t\\sim Poisson(\\lambda t)$  ($\\because$ Think of $[0,t]$ as unit time interval)"
   ]
  },
  {
   "cell_type": "markdown",
   "metadata": {},
   "source": [
    "$P(X_t=k)=\\frac{e^{-\\lambda t}(\\lambda t)^k}{k!}$  for $k=0,1,2,3,...$"
   ]
  },
  {
   "cell_type": "markdown",
   "metadata": {},
   "source": [
    "Let $T_r$ denote the time taken for the $r^{th}$ event occurrence,(Here $r$ is positive integer)"
   ]
  },
  {
   "cell_type": "markdown",
   "metadata": {},
   "source": [
    "$CDF$ of $T_r$, $F_{T_r}(t)=P(T_r\\le t)$"
   ]
  },
  {
   "cell_type": "markdown",
   "metadata": {},
   "source": [
    "for $t<0$, $F_{T_r}(t)=0$"
   ]
  },
  {
   "cell_type": "markdown",
   "metadata": {},
   "source": [
    "for $t>0$,&nbsp; &nbsp; $F_{T_r}(t)=P(T_r\\le t)$"
   ]
  },
  {
   "cell_type": "markdown",
   "metadata": {},
   "source": [
    "&nbsp; &nbsp; &nbsp;&nbsp; &nbsp; &nbsp; &nbsp; &nbsp; &nbsp; &nbsp; &nbsp; &nbsp;$=1-P(T_r>t)$"
   ]
  },
  {
   "cell_type": "markdown",
   "metadata": {},
   "source": [
    "&nbsp;&nbsp; &nbsp; &nbsp;&nbsp; &nbsp; &nbsp;&nbsp; &nbsp; &nbsp;&nbsp; &nbsp; &nbsp;$=1-P(X_t\\le r-1)$"
   ]
  },
  {
   "cell_type": "markdown",
   "metadata": {},
   "source": [
    "&nbsp;&nbsp; &nbsp; &nbsp; &nbsp; &nbsp; &nbsp; &nbsp;$F_{T_r}(t)=1-\\sum_{k=0}^{r-1}\\frac{e^{-\\lambda t}(\\lambda t)^k}{k!}$"
   ]
  },
  {
   "cell_type": "markdown",
   "metadata": {},
   "source": [
    "$\\therefore$ $F_{T_r}(t)=\\left\\{\\begin{matrix}\n",
    " 1-e^{-\\lambda t}-\\sum_{k=1}^{r-1}\\frac{e^{-\\lambda t}(\\lambda t)^k}{k!}& t>0\\\\ \n",
    " 0& t\\le 0\n",
    "\\end{matrix}\\right.$"
   ]
  },
  {
   "cell_type": "markdown",
   "metadata": {},
   "source": [
    "$PDF$ of $T_r$, $f_{T_r}(t)=\\frac{d}{dt}\\left(F_{T_r}(t)\\right)$"
   ]
  },
  {
   "cell_type": "markdown",
   "metadata": {},
   "source": [
    "&nbsp; &nbsp; &nbsp; &nbsp; &nbsp; &nbsp; &nbsp; &nbsp; &nbsp; &nbsp; &nbsp; &nbsp; &nbsp; &nbsp; &nbsp; &nbsp; &nbsp; $=\\frac{d}{dt}\\left(1-e^{-\\lambda t}-\\sum_{k=1}^{r-1}\\frac{e^{-\\lambda t}(\\lambda t)^k}{k!}\\right)$"
   ]
  },
  {
   "cell_type": "markdown",
   "metadata": {},
   "source": [
    "&nbsp; &nbsp; &nbsp; &nbsp; &nbsp; &nbsp; &nbsp; &nbsp; &nbsp; &nbsp; &nbsp; &nbsp; &nbsp; &nbsp; &nbsp; &nbsp; &nbsp; $=\\left(0+\\lambda e^{-\\lambda t}-\\sum_{k=1}^{r-1}\\frac{d}{dt}\\left(\\frac{e^{-\\lambda t}(\\lambda t)^k}{k!}\\right)\\right)$"
   ]
  },
  {
   "cell_type": "markdown",
   "metadata": {},
   "source": [
    "$=\\left(\\lambda e^{-\\lambda t}-\\sum_{k=1}^{r-1}\\left[\\frac{e^{-\\lambda t}k(\\lambda t)^{k-1}(\\lambda)}{k!}+\\frac{e^{-\\lambda t}(-\\lambda )(\\lambda t)^k}{k!}\\right]\\right)$"
   ]
  },
  {
   "cell_type": "markdown",
   "metadata": {},
   "source": [
    "$=\\lambda e^{-\\lambda t}\\left(1-\\sum_{k=1}^{r-1}\\left[\\frac{(\\lambda t)^{k-1}}{(k-1)!}-\\frac{(\\lambda t)^k}{k!}\\right]\\right)=\\lambda e^{-\\lambda t}\\frac{(\\lambda t)^{r-1}}{(r-1)!}$"
   ]
  },
  {
   "cell_type": "markdown",
   "metadata": {},
   "source": [
    "Here $T_r$ is said to have <b> Erlang Distribution</b> with rate parameter $\\lambda$, and shape parameter $r$. This is a special case of <b>Gamma Distribution</b>. We can rewrite the $PDF$ of $T_r$ in the following form."
   ]
  },
  {
   "cell_type": "markdown",
   "metadata": {},
   "source": [
    "$f_{T_r}=\\left\\{\\begin{matrix}\n",
    " \\frac{\\lambda e^{-\\lambda t}(\\lambda t)^{r-1}}{\\Gamma(r)}& t>0\\\\ \n",
    " 0& t\\le 0\n",
    "\\end{matrix}\\right.$"
   ]
  },
  {
   "cell_type": "markdown",
   "metadata": {},
   "source": [
    "### Gamma Distribution:"
   ]
  },
  {
   "cell_type": "markdown",
   "metadata": {},
   "source": [
    "A random variable $X$ is said to have a <b>Gamma Distribution</b> with <i>rate parameter</i> $\\lambda >0$, and <i>shape parameter</i> $\\alpha >0$, if its $PDF$ is given by"
   ]
  },
  {
   "cell_type": "markdown",
   "metadata": {},
   "source": [
    "$f_X(x)=\\left\\{\\begin{matrix}\n",
    " \\frac{\\lambda e^{-\\lambda x}(\\lambda x)^{\\alpha -1}}{\\Gamma(\\alpha)}& x>0 \\\\ \n",
    " 0& x\\le 0\n",
    "\\end{matrix}\\right.$"
   ]
  },
  {
   "cell_type": "markdown",
   "metadata": {},
   "source": [
    "**Notation:** $X\\sim Gamma(\\alpha,\\lambda)$"
   ]
  },
  {
   "cell_type": "markdown",
   "metadata": {},
   "source": [
    "$E(X)=\\frac{\\alpha}{\\lambda}$, &nbsp; &nbsp; $Var(X)=\\frac{\\alpha}{\\lambda^2}$"
   ]
  },
  {
   "cell_type": "markdown",
   "metadata": {},
   "source": [
    "$MGF:$ $M_X(t)=\\left(\\frac{\\lambda}{\\lambda-t}\\right)^\\alpha$, $-\\lambda<t<\\lambda$"
   ]
  },
  {
   "cell_type": "markdown",
   "metadata": {},
   "source": [
    "**Exercise:** If $X\\sim Gamma(\\alpha,\\lambda)$ , then show that $\\mu=\\frac{\\alpha}{\\lambda}$, $\\sigma^2=\\frac{\\alpha}{\\lambda^2}$ through its $MGF$"
   ]
  },
  {
   "cell_type": "markdown",
   "metadata": {},
   "source": [
    "$\\left[\\text{Hint}: \\mu=M_X^{(1)}(0),~~ \\sigma^2=M_X^{(2)}(0)-\\left(M_X^{(1)}(0)\\right)^2\\right]$"
   ]
  },
  {
   "cell_type": "code",
   "execution_count": 89,
   "metadata": {},
   "outputs": [
    {
     "data": {
      "application/vnd.jupyter.widget-view+json": {
       "model_id": "bdf8c816ae14486ba6358454968aec4b",
       "version_major": 2,
       "version_minor": 0
      },
      "text/plain": [
       "interactive(children=(FloatSlider(value=1.0, description='$\\\\alpha$ :', max=50.0, min=0.25, step=0.25), FloatS…"
      ]
     },
     "metadata": {},
     "output_type": "display_data"
    }
   ],
   "source": [
    "%matplotlib inline\n",
    "import math\n",
    "import numpy as np\n",
    "import matplotlib.pyplot as plt\n",
    "from ipywidgets import interact ,interactive, fixed, interact_manual\n",
    "import ipywidgets as widgets\n",
    "\n",
    "Infty0=100   \n",
    "\n",
    "def GammaPDFGraph(alpa,lamda):\n",
    "    #fig, ax = plt.subplots()\n",
    "    x=np.linspace(0,Infty0,10000)\n",
    "    fig = plt.figure(figsize=(12,8))\n",
    "    ax=fig.add_subplot(111)\n",
    "    ax.plot(x,(lamda*np.exp(-lamda*x)*(lamda*x)**(alpa-1))/math.gamma(alpa))\n",
    "    ax.set_title(\"Gamma Distribution\")\n",
    "    ax.set_xlabel(\"$x$\")\n",
    "    ax.set_ylabel(\"$f_X(x)$\")\n",
    "    ax.set_yticks([0,0.2,0.4,0.6,0.8,1])\n",
    "    ax.set_xlim(0,Infty0)\n",
    "    ax.set_ylim(0,1)\n",
    "    plt.show()\n",
    "    \n",
    "\n",
    "# Please Click the Run Interact Button to see the PDF graph\n",
    "interactive(GammaPDFGraph,{'manual':True},alpa=widgets.FloatSlider(min=0.25, max=50, step=0.25, value=1,description=r'$\\alpha$ :'),lamda=widgets.FloatSlider(min=0.1, max=5, step=0.5, value=2,description=r'$\\lambda$:'))\n",
    "#interactive(GammaPDFGraph,{'manual':False},alpa=widgets.FloatSlider(min=0.25, max=50, step=0.25, value=1,description=r'$\\alpha$ :'),lamda=widgets.FloatSlider(min=0.1, max=5, step=0.5, value=2,description=r'$\\lambda$:'))\n",
    "    "
   ]
  },
  {
   "cell_type": "code",
   "execution_count": 90,
   "metadata": {},
   "outputs": [
    {
     "data": {
      "application/javascript": [
       "/* Put everything inside the global mpl namespace */\n",
       "/* global mpl */\n",
       "window.mpl = {};\n",
       "\n",
       "mpl.get_websocket_type = function () {\n",
       "    if (typeof WebSocket !== 'undefined') {\n",
       "        return WebSocket;\n",
       "    } else if (typeof MozWebSocket !== 'undefined') {\n",
       "        return MozWebSocket;\n",
       "    } else {\n",
       "        alert(\n",
       "            'Your browser does not have WebSocket support. ' +\n",
       "                'Please try Chrome, Safari or Firefox ≥ 6. ' +\n",
       "                'Firefox 4 and 5 are also supported but you ' +\n",
       "                'have to enable WebSockets in about:config.'\n",
       "        );\n",
       "    }\n",
       "};\n",
       "\n",
       "mpl.figure = function (figure_id, websocket, ondownload, parent_element) {\n",
       "    this.id = figure_id;\n",
       "\n",
       "    this.ws = websocket;\n",
       "\n",
       "    this.supports_binary = this.ws.binaryType !== undefined;\n",
       "\n",
       "    if (!this.supports_binary) {\n",
       "        var warnings = document.getElementById('mpl-warnings');\n",
       "        if (warnings) {\n",
       "            warnings.style.display = 'block';\n",
       "            warnings.textContent =\n",
       "                'This browser does not support binary websocket messages. ' +\n",
       "                'Performance may be slow.';\n",
       "        }\n",
       "    }\n",
       "\n",
       "    this.imageObj = new Image();\n",
       "\n",
       "    this.context = undefined;\n",
       "    this.message = undefined;\n",
       "    this.canvas = undefined;\n",
       "    this.rubberband_canvas = undefined;\n",
       "    this.rubberband_context = undefined;\n",
       "    this.format_dropdown = undefined;\n",
       "\n",
       "    this.image_mode = 'full';\n",
       "\n",
       "    this.root = document.createElement('div');\n",
       "    this.root.setAttribute('style', 'display: inline-block');\n",
       "    this._root_extra_style(this.root);\n",
       "\n",
       "    parent_element.appendChild(this.root);\n",
       "\n",
       "    this._init_header(this);\n",
       "    this._init_canvas(this);\n",
       "    this._init_toolbar(this);\n",
       "\n",
       "    var fig = this;\n",
       "\n",
       "    this.waiting = false;\n",
       "\n",
       "    this.ws.onopen = function () {\n",
       "        fig.send_message('supports_binary', { value: fig.supports_binary });\n",
       "        fig.send_message('send_image_mode', {});\n",
       "        if (fig.ratio !== 1) {\n",
       "            fig.send_message('set_dpi_ratio', { dpi_ratio: fig.ratio });\n",
       "        }\n",
       "        fig.send_message('refresh', {});\n",
       "    };\n",
       "\n",
       "    this.imageObj.onload = function () {\n",
       "        if (fig.image_mode === 'full') {\n",
       "            // Full images could contain transparency (where diff images\n",
       "            // almost always do), so we need to clear the canvas so that\n",
       "            // there is no ghosting.\n",
       "            fig.context.clearRect(0, 0, fig.canvas.width, fig.canvas.height);\n",
       "        }\n",
       "        fig.context.drawImage(fig.imageObj, 0, 0);\n",
       "    };\n",
       "\n",
       "    this.imageObj.onunload = function () {\n",
       "        fig.ws.close();\n",
       "    };\n",
       "\n",
       "    this.ws.onmessage = this._make_on_message_function(this);\n",
       "\n",
       "    this.ondownload = ondownload;\n",
       "};\n",
       "\n",
       "mpl.figure.prototype._init_header = function () {\n",
       "    var titlebar = document.createElement('div');\n",
       "    titlebar.classList =\n",
       "        'ui-dialog-titlebar ui-widget-header ui-corner-all ui-helper-clearfix';\n",
       "    var titletext = document.createElement('div');\n",
       "    titletext.classList = 'ui-dialog-title';\n",
       "    titletext.setAttribute(\n",
       "        'style',\n",
       "        'width: 100%; text-align: center; padding: 3px;'\n",
       "    );\n",
       "    titlebar.appendChild(titletext);\n",
       "    this.root.appendChild(titlebar);\n",
       "    this.header = titletext;\n",
       "};\n",
       "\n",
       "mpl.figure.prototype._canvas_extra_style = function (_canvas_div) {};\n",
       "\n",
       "mpl.figure.prototype._root_extra_style = function (_canvas_div) {};\n",
       "\n",
       "mpl.figure.prototype._init_canvas = function () {\n",
       "    var fig = this;\n",
       "\n",
       "    var canvas_div = (this.canvas_div = document.createElement('div'));\n",
       "    canvas_div.setAttribute(\n",
       "        'style',\n",
       "        'border: 1px solid #ddd;' +\n",
       "            'box-sizing: content-box;' +\n",
       "            'clear: both;' +\n",
       "            'min-height: 1px;' +\n",
       "            'min-width: 1px;' +\n",
       "            'outline: 0;' +\n",
       "            'overflow: hidden;' +\n",
       "            'position: relative;' +\n",
       "            'resize: both;'\n",
       "    );\n",
       "\n",
       "    function on_keyboard_event_closure(name) {\n",
       "        return function (event) {\n",
       "            return fig.key_event(event, name);\n",
       "        };\n",
       "    }\n",
       "\n",
       "    canvas_div.addEventListener(\n",
       "        'keydown',\n",
       "        on_keyboard_event_closure('key_press')\n",
       "    );\n",
       "    canvas_div.addEventListener(\n",
       "        'keyup',\n",
       "        on_keyboard_event_closure('key_release')\n",
       "    );\n",
       "\n",
       "    this._canvas_extra_style(canvas_div);\n",
       "    this.root.appendChild(canvas_div);\n",
       "\n",
       "    var canvas = (this.canvas = document.createElement('canvas'));\n",
       "    canvas.classList.add('mpl-canvas');\n",
       "    canvas.setAttribute('style', 'box-sizing: content-box;');\n",
       "\n",
       "    this.context = canvas.getContext('2d');\n",
       "\n",
       "    var backingStore =\n",
       "        this.context.backingStorePixelRatio ||\n",
       "        this.context.webkitBackingStorePixelRatio ||\n",
       "        this.context.mozBackingStorePixelRatio ||\n",
       "        this.context.msBackingStorePixelRatio ||\n",
       "        this.context.oBackingStorePixelRatio ||\n",
       "        this.context.backingStorePixelRatio ||\n",
       "        1;\n",
       "\n",
       "    this.ratio = (window.devicePixelRatio || 1) / backingStore;\n",
       "\n",
       "    var rubberband_canvas = (this.rubberband_canvas = document.createElement(\n",
       "        'canvas'\n",
       "    ));\n",
       "    rubberband_canvas.setAttribute(\n",
       "        'style',\n",
       "        'box-sizing: content-box; position: absolute; left: 0; top: 0; z-index: 1;'\n",
       "    );\n",
       "\n",
       "    // Apply a ponyfill if ResizeObserver is not implemented by browser.\n",
       "    if (this.ResizeObserver === undefined) {\n",
       "        if (window.ResizeObserver !== undefined) {\n",
       "            this.ResizeObserver = window.ResizeObserver;\n",
       "        } else {\n",
       "            var obs = _JSXTOOLS_RESIZE_OBSERVER({});\n",
       "            this.ResizeObserver = obs.ResizeObserver;\n",
       "        }\n",
       "    }\n",
       "\n",
       "    this.resizeObserverInstance = new this.ResizeObserver(function (entries) {\n",
       "        var nentries = entries.length;\n",
       "        for (var i = 0; i < nentries; i++) {\n",
       "            var entry = entries[i];\n",
       "            var width, height;\n",
       "            if (entry.contentBoxSize) {\n",
       "                if (entry.contentBoxSize instanceof Array) {\n",
       "                    // Chrome 84 implements new version of spec.\n",
       "                    width = entry.contentBoxSize[0].inlineSize;\n",
       "                    height = entry.contentBoxSize[0].blockSize;\n",
       "                } else {\n",
       "                    // Firefox implements old version of spec.\n",
       "                    width = entry.contentBoxSize.inlineSize;\n",
       "                    height = entry.contentBoxSize.blockSize;\n",
       "                }\n",
       "            } else {\n",
       "                // Chrome <84 implements even older version of spec.\n",
       "                width = entry.contentRect.width;\n",
       "                height = entry.contentRect.height;\n",
       "            }\n",
       "\n",
       "            // Keep the size of the canvas and rubber band canvas in sync with\n",
       "            // the canvas container.\n",
       "            if (entry.devicePixelContentBoxSize) {\n",
       "                // Chrome 84 implements new version of spec.\n",
       "                canvas.setAttribute(\n",
       "                    'width',\n",
       "                    entry.devicePixelContentBoxSize[0].inlineSize\n",
       "                );\n",
       "                canvas.setAttribute(\n",
       "                    'height',\n",
       "                    entry.devicePixelContentBoxSize[0].blockSize\n",
       "                );\n",
       "            } else {\n",
       "                canvas.setAttribute('width', width * fig.ratio);\n",
       "                canvas.setAttribute('height', height * fig.ratio);\n",
       "            }\n",
       "            canvas.setAttribute(\n",
       "                'style',\n",
       "                'width: ' + width + 'px; height: ' + height + 'px;'\n",
       "            );\n",
       "\n",
       "            rubberband_canvas.setAttribute('width', width);\n",
       "            rubberband_canvas.setAttribute('height', height);\n",
       "\n",
       "            // And update the size in Python. We ignore the initial 0/0 size\n",
       "            // that occurs as the element is placed into the DOM, which should\n",
       "            // otherwise not happen due to the minimum size styling.\n",
       "            if (fig.ws.readyState == 1 && width != 0 && height != 0) {\n",
       "                fig.request_resize(width, height);\n",
       "            }\n",
       "        }\n",
       "    });\n",
       "    this.resizeObserverInstance.observe(canvas_div);\n",
       "\n",
       "    function on_mouse_event_closure(name) {\n",
       "        return function (event) {\n",
       "            return fig.mouse_event(event, name);\n",
       "        };\n",
       "    }\n",
       "\n",
       "    rubberband_canvas.addEventListener(\n",
       "        'mousedown',\n",
       "        on_mouse_event_closure('button_press')\n",
       "    );\n",
       "    rubberband_canvas.addEventListener(\n",
       "        'mouseup',\n",
       "        on_mouse_event_closure('button_release')\n",
       "    );\n",
       "    rubberband_canvas.addEventListener(\n",
       "        'dblclick',\n",
       "        on_mouse_event_closure('dblclick')\n",
       "    );\n",
       "    // Throttle sequential mouse events to 1 every 20ms.\n",
       "    rubberband_canvas.addEventListener(\n",
       "        'mousemove',\n",
       "        on_mouse_event_closure('motion_notify')\n",
       "    );\n",
       "\n",
       "    rubberband_canvas.addEventListener(\n",
       "        'mouseenter',\n",
       "        on_mouse_event_closure('figure_enter')\n",
       "    );\n",
       "    rubberband_canvas.addEventListener(\n",
       "        'mouseleave',\n",
       "        on_mouse_event_closure('figure_leave')\n",
       "    );\n",
       "\n",
       "    canvas_div.addEventListener('wheel', function (event) {\n",
       "        if (event.deltaY < 0) {\n",
       "            event.step = 1;\n",
       "        } else {\n",
       "            event.step = -1;\n",
       "        }\n",
       "        on_mouse_event_closure('scroll')(event);\n",
       "    });\n",
       "\n",
       "    canvas_div.appendChild(canvas);\n",
       "    canvas_div.appendChild(rubberband_canvas);\n",
       "\n",
       "    this.rubberband_context = rubberband_canvas.getContext('2d');\n",
       "    this.rubberband_context.strokeStyle = '#000000';\n",
       "\n",
       "    this._resize_canvas = function (width, height, forward) {\n",
       "        if (forward) {\n",
       "            canvas_div.style.width = width + 'px';\n",
       "            canvas_div.style.height = height + 'px';\n",
       "        }\n",
       "    };\n",
       "\n",
       "    // Disable right mouse context menu.\n",
       "    this.rubberband_canvas.addEventListener('contextmenu', function (_e) {\n",
       "        event.preventDefault();\n",
       "        return false;\n",
       "    });\n",
       "\n",
       "    function set_focus() {\n",
       "        canvas.focus();\n",
       "        canvas_div.focus();\n",
       "    }\n",
       "\n",
       "    window.setTimeout(set_focus, 100);\n",
       "};\n",
       "\n",
       "mpl.figure.prototype._init_toolbar = function () {\n",
       "    var fig = this;\n",
       "\n",
       "    var toolbar = document.createElement('div');\n",
       "    toolbar.classList = 'mpl-toolbar';\n",
       "    this.root.appendChild(toolbar);\n",
       "\n",
       "    function on_click_closure(name) {\n",
       "        return function (_event) {\n",
       "            return fig.toolbar_button_onclick(name);\n",
       "        };\n",
       "    }\n",
       "\n",
       "    function on_mouseover_closure(tooltip) {\n",
       "        return function (event) {\n",
       "            if (!event.currentTarget.disabled) {\n",
       "                return fig.toolbar_button_onmouseover(tooltip);\n",
       "            }\n",
       "        };\n",
       "    }\n",
       "\n",
       "    fig.buttons = {};\n",
       "    var buttonGroup = document.createElement('div');\n",
       "    buttonGroup.classList = 'mpl-button-group';\n",
       "    for (var toolbar_ind in mpl.toolbar_items) {\n",
       "        var name = mpl.toolbar_items[toolbar_ind][0];\n",
       "        var tooltip = mpl.toolbar_items[toolbar_ind][1];\n",
       "        var image = mpl.toolbar_items[toolbar_ind][2];\n",
       "        var method_name = mpl.toolbar_items[toolbar_ind][3];\n",
       "\n",
       "        if (!name) {\n",
       "            /* Instead of a spacer, we start a new button group. */\n",
       "            if (buttonGroup.hasChildNodes()) {\n",
       "                toolbar.appendChild(buttonGroup);\n",
       "            }\n",
       "            buttonGroup = document.createElement('div');\n",
       "            buttonGroup.classList = 'mpl-button-group';\n",
       "            continue;\n",
       "        }\n",
       "\n",
       "        var button = (fig.buttons[name] = document.createElement('button'));\n",
       "        button.classList = 'mpl-widget';\n",
       "        button.setAttribute('role', 'button');\n",
       "        button.setAttribute('aria-disabled', 'false');\n",
       "        button.addEventListener('click', on_click_closure(method_name));\n",
       "        button.addEventListener('mouseover', on_mouseover_closure(tooltip));\n",
       "\n",
       "        var icon_img = document.createElement('img');\n",
       "        icon_img.src = '_images/' + image + '.png';\n",
       "        icon_img.srcset = '_images/' + image + '_large.png 2x';\n",
       "        icon_img.alt = tooltip;\n",
       "        button.appendChild(icon_img);\n",
       "\n",
       "        buttonGroup.appendChild(button);\n",
       "    }\n",
       "\n",
       "    if (buttonGroup.hasChildNodes()) {\n",
       "        toolbar.appendChild(buttonGroup);\n",
       "    }\n",
       "\n",
       "    var fmt_picker = document.createElement('select');\n",
       "    fmt_picker.classList = 'mpl-widget';\n",
       "    toolbar.appendChild(fmt_picker);\n",
       "    this.format_dropdown = fmt_picker;\n",
       "\n",
       "    for (var ind in mpl.extensions) {\n",
       "        var fmt = mpl.extensions[ind];\n",
       "        var option = document.createElement('option');\n",
       "        option.selected = fmt === mpl.default_extension;\n",
       "        option.innerHTML = fmt;\n",
       "        fmt_picker.appendChild(option);\n",
       "    }\n",
       "\n",
       "    var status_bar = document.createElement('span');\n",
       "    status_bar.classList = 'mpl-message';\n",
       "    toolbar.appendChild(status_bar);\n",
       "    this.message = status_bar;\n",
       "};\n",
       "\n",
       "mpl.figure.prototype.request_resize = function (x_pixels, y_pixels) {\n",
       "    // Request matplotlib to resize the figure. Matplotlib will then trigger a resize in the client,\n",
       "    // which will in turn request a refresh of the image.\n",
       "    this.send_message('resize', { width: x_pixels, height: y_pixels });\n",
       "};\n",
       "\n",
       "mpl.figure.prototype.send_message = function (type, properties) {\n",
       "    properties['type'] = type;\n",
       "    properties['figure_id'] = this.id;\n",
       "    this.ws.send(JSON.stringify(properties));\n",
       "};\n",
       "\n",
       "mpl.figure.prototype.send_draw_message = function () {\n",
       "    if (!this.waiting) {\n",
       "        this.waiting = true;\n",
       "        this.ws.send(JSON.stringify({ type: 'draw', figure_id: this.id }));\n",
       "    }\n",
       "};\n",
       "\n",
       "mpl.figure.prototype.handle_save = function (fig, _msg) {\n",
       "    var format_dropdown = fig.format_dropdown;\n",
       "    var format = format_dropdown.options[format_dropdown.selectedIndex].value;\n",
       "    fig.ondownload(fig, format);\n",
       "};\n",
       "\n",
       "mpl.figure.prototype.handle_resize = function (fig, msg) {\n",
       "    var size = msg['size'];\n",
       "    if (size[0] !== fig.canvas.width || size[1] !== fig.canvas.height) {\n",
       "        fig._resize_canvas(size[0], size[1], msg['forward']);\n",
       "        fig.send_message('refresh', {});\n",
       "    }\n",
       "};\n",
       "\n",
       "mpl.figure.prototype.handle_rubberband = function (fig, msg) {\n",
       "    var x0 = msg['x0'] / fig.ratio;\n",
       "    var y0 = (fig.canvas.height - msg['y0']) / fig.ratio;\n",
       "    var x1 = msg['x1'] / fig.ratio;\n",
       "    var y1 = (fig.canvas.height - msg['y1']) / fig.ratio;\n",
       "    x0 = Math.floor(x0) + 0.5;\n",
       "    y0 = Math.floor(y0) + 0.5;\n",
       "    x1 = Math.floor(x1) + 0.5;\n",
       "    y1 = Math.floor(y1) + 0.5;\n",
       "    var min_x = Math.min(x0, x1);\n",
       "    var min_y = Math.min(y0, y1);\n",
       "    var width = Math.abs(x1 - x0);\n",
       "    var height = Math.abs(y1 - y0);\n",
       "\n",
       "    fig.rubberband_context.clearRect(\n",
       "        0,\n",
       "        0,\n",
       "        fig.canvas.width / fig.ratio,\n",
       "        fig.canvas.height / fig.ratio\n",
       "    );\n",
       "\n",
       "    fig.rubberband_context.strokeRect(min_x, min_y, width, height);\n",
       "};\n",
       "\n",
       "mpl.figure.prototype.handle_figure_label = function (fig, msg) {\n",
       "    // Updates the figure title.\n",
       "    fig.header.textContent = msg['label'];\n",
       "};\n",
       "\n",
       "mpl.figure.prototype.handle_cursor = function (fig, msg) {\n",
       "    var cursor = msg['cursor'];\n",
       "    switch (cursor) {\n",
       "        case 0:\n",
       "            cursor = 'pointer';\n",
       "            break;\n",
       "        case 1:\n",
       "            cursor = 'default';\n",
       "            break;\n",
       "        case 2:\n",
       "            cursor = 'crosshair';\n",
       "            break;\n",
       "        case 3:\n",
       "            cursor = 'move';\n",
       "            break;\n",
       "    }\n",
       "    fig.rubberband_canvas.style.cursor = cursor;\n",
       "};\n",
       "\n",
       "mpl.figure.prototype.handle_message = function (fig, msg) {\n",
       "    fig.message.textContent = msg['message'];\n",
       "};\n",
       "\n",
       "mpl.figure.prototype.handle_draw = function (fig, _msg) {\n",
       "    // Request the server to send over a new figure.\n",
       "    fig.send_draw_message();\n",
       "};\n",
       "\n",
       "mpl.figure.prototype.handle_image_mode = function (fig, msg) {\n",
       "    fig.image_mode = msg['mode'];\n",
       "};\n",
       "\n",
       "mpl.figure.prototype.handle_history_buttons = function (fig, msg) {\n",
       "    for (var key in msg) {\n",
       "        if (!(key in fig.buttons)) {\n",
       "            continue;\n",
       "        }\n",
       "        fig.buttons[key].disabled = !msg[key];\n",
       "        fig.buttons[key].setAttribute('aria-disabled', !msg[key]);\n",
       "    }\n",
       "};\n",
       "\n",
       "mpl.figure.prototype.handle_navigate_mode = function (fig, msg) {\n",
       "    if (msg['mode'] === 'PAN') {\n",
       "        fig.buttons['Pan'].classList.add('active');\n",
       "        fig.buttons['Zoom'].classList.remove('active');\n",
       "    } else if (msg['mode'] === 'ZOOM') {\n",
       "        fig.buttons['Pan'].classList.remove('active');\n",
       "        fig.buttons['Zoom'].classList.add('active');\n",
       "    } else {\n",
       "        fig.buttons['Pan'].classList.remove('active');\n",
       "        fig.buttons['Zoom'].classList.remove('active');\n",
       "    }\n",
       "};\n",
       "\n",
       "mpl.figure.prototype.updated_canvas_event = function () {\n",
       "    // Called whenever the canvas gets updated.\n",
       "    this.send_message('ack', {});\n",
       "};\n",
       "\n",
       "// A function to construct a web socket function for onmessage handling.\n",
       "// Called in the figure constructor.\n",
       "mpl.figure.prototype._make_on_message_function = function (fig) {\n",
       "    return function socket_on_message(evt) {\n",
       "        if (evt.data instanceof Blob) {\n",
       "            var img = evt.data;\n",
       "            if (img.type !== 'image/png') {\n",
       "                /* FIXME: We get \"Resource interpreted as Image but\n",
       "                 * transferred with MIME type text/plain:\" errors on\n",
       "                 * Chrome.  But how to set the MIME type?  It doesn't seem\n",
       "                 * to be part of the websocket stream */\n",
       "                img.type = 'image/png';\n",
       "            }\n",
       "\n",
       "            /* Free the memory for the previous frames */\n",
       "            if (fig.imageObj.src) {\n",
       "                (window.URL || window.webkitURL).revokeObjectURL(\n",
       "                    fig.imageObj.src\n",
       "                );\n",
       "            }\n",
       "\n",
       "            fig.imageObj.src = (window.URL || window.webkitURL).createObjectURL(\n",
       "                img\n",
       "            );\n",
       "            fig.updated_canvas_event();\n",
       "            fig.waiting = false;\n",
       "            return;\n",
       "        } else if (\n",
       "            typeof evt.data === 'string' &&\n",
       "            evt.data.slice(0, 21) === 'data:image/png;base64'\n",
       "        ) {\n",
       "            fig.imageObj.src = evt.data;\n",
       "            fig.updated_canvas_event();\n",
       "            fig.waiting = false;\n",
       "            return;\n",
       "        }\n",
       "\n",
       "        var msg = JSON.parse(evt.data);\n",
       "        var msg_type = msg['type'];\n",
       "\n",
       "        // Call the  \"handle_{type}\" callback, which takes\n",
       "        // the figure and JSON message as its only arguments.\n",
       "        try {\n",
       "            var callback = fig['handle_' + msg_type];\n",
       "        } catch (e) {\n",
       "            console.log(\n",
       "                \"No handler for the '\" + msg_type + \"' message type: \",\n",
       "                msg\n",
       "            );\n",
       "            return;\n",
       "        }\n",
       "\n",
       "        if (callback) {\n",
       "            try {\n",
       "                // console.log(\"Handling '\" + msg_type + \"' message: \", msg);\n",
       "                callback(fig, msg);\n",
       "            } catch (e) {\n",
       "                console.log(\n",
       "                    \"Exception inside the 'handler_\" + msg_type + \"' callback:\",\n",
       "                    e,\n",
       "                    e.stack,\n",
       "                    msg\n",
       "                );\n",
       "            }\n",
       "        }\n",
       "    };\n",
       "};\n",
       "\n",
       "// from http://stackoverflow.com/questions/1114465/getting-mouse-location-in-canvas\n",
       "mpl.findpos = function (e) {\n",
       "    //this section is from http://www.quirksmode.org/js/events_properties.html\n",
       "    var targ;\n",
       "    if (!e) {\n",
       "        e = window.event;\n",
       "    }\n",
       "    if (e.target) {\n",
       "        targ = e.target;\n",
       "    } else if (e.srcElement) {\n",
       "        targ = e.srcElement;\n",
       "    }\n",
       "    if (targ.nodeType === 3) {\n",
       "        // defeat Safari bug\n",
       "        targ = targ.parentNode;\n",
       "    }\n",
       "\n",
       "    // pageX,Y are the mouse positions relative to the document\n",
       "    var boundingRect = targ.getBoundingClientRect();\n",
       "    var x = e.pageX - (boundingRect.left + document.body.scrollLeft);\n",
       "    var y = e.pageY - (boundingRect.top + document.body.scrollTop);\n",
       "\n",
       "    return { x: x, y: y };\n",
       "};\n",
       "\n",
       "/*\n",
       " * return a copy of an object with only non-object keys\n",
       " * we need this to avoid circular references\n",
       " * http://stackoverflow.com/a/24161582/3208463\n",
       " */\n",
       "function simpleKeys(original) {\n",
       "    return Object.keys(original).reduce(function (obj, key) {\n",
       "        if (typeof original[key] !== 'object') {\n",
       "            obj[key] = original[key];\n",
       "        }\n",
       "        return obj;\n",
       "    }, {});\n",
       "}\n",
       "\n",
       "mpl.figure.prototype.mouse_event = function (event, name) {\n",
       "    var canvas_pos = mpl.findpos(event);\n",
       "\n",
       "    if (name === 'button_press') {\n",
       "        this.canvas.focus();\n",
       "        this.canvas_div.focus();\n",
       "    }\n",
       "\n",
       "    var x = canvas_pos.x * this.ratio;\n",
       "    var y = canvas_pos.y * this.ratio;\n",
       "\n",
       "    this.send_message(name, {\n",
       "        x: x,\n",
       "        y: y,\n",
       "        button: event.button,\n",
       "        step: event.step,\n",
       "        guiEvent: simpleKeys(event),\n",
       "    });\n",
       "\n",
       "    /* This prevents the web browser from automatically changing to\n",
       "     * the text insertion cursor when the button is pressed.  We want\n",
       "     * to control all of the cursor setting manually through the\n",
       "     * 'cursor' event from matplotlib */\n",
       "    event.preventDefault();\n",
       "    return false;\n",
       "};\n",
       "\n",
       "mpl.figure.prototype._key_event_extra = function (_event, _name) {\n",
       "    // Handle any extra behaviour associated with a key event\n",
       "};\n",
       "\n",
       "mpl.figure.prototype.key_event = function (event, name) {\n",
       "    // Prevent repeat events\n",
       "    if (name === 'key_press') {\n",
       "        if (event.key === this._key) {\n",
       "            return;\n",
       "        } else {\n",
       "            this._key = event.key;\n",
       "        }\n",
       "    }\n",
       "    if (name === 'key_release') {\n",
       "        this._key = null;\n",
       "    }\n",
       "\n",
       "    var value = '';\n",
       "    if (event.ctrlKey && event.key !== 'Control') {\n",
       "        value += 'ctrl+';\n",
       "    }\n",
       "    else if (event.altKey && event.key !== 'Alt') {\n",
       "        value += 'alt+';\n",
       "    }\n",
       "    else if (event.shiftKey && event.key !== 'Shift') {\n",
       "        value += 'shift+';\n",
       "    }\n",
       "\n",
       "    value += 'k' + event.key;\n",
       "\n",
       "    this._key_event_extra(event, name);\n",
       "\n",
       "    this.send_message(name, { key: value, guiEvent: simpleKeys(event) });\n",
       "    return false;\n",
       "};\n",
       "\n",
       "mpl.figure.prototype.toolbar_button_onclick = function (name) {\n",
       "    if (name === 'download') {\n",
       "        this.handle_save(this, null);\n",
       "    } else {\n",
       "        this.send_message('toolbar_button', { name: name });\n",
       "    }\n",
       "};\n",
       "\n",
       "mpl.figure.prototype.toolbar_button_onmouseover = function (tooltip) {\n",
       "    this.message.textContent = tooltip;\n",
       "};\n",
       "\n",
       "///////////////// REMAINING CONTENT GENERATED BY embed_js.py /////////////////\n",
       "// prettier-ignore\n",
       "var _JSXTOOLS_RESIZE_OBSERVER=function(A){var t,i=new WeakMap,n=new WeakMap,a=new WeakMap,r=new WeakMap,o=new Set;function s(e){if(!(this instanceof s))throw new TypeError(\"Constructor requires 'new' operator\");i.set(this,e)}function h(){throw new TypeError(\"Function is not a constructor\")}function c(e,t,i,n){e=0 in arguments?Number(arguments[0]):0,t=1 in arguments?Number(arguments[1]):0,i=2 in arguments?Number(arguments[2]):0,n=3 in arguments?Number(arguments[3]):0,this.right=(this.x=this.left=e)+(this.width=i),this.bottom=(this.y=this.top=t)+(this.height=n),Object.freeze(this)}function d(){t=requestAnimationFrame(d);var s=new WeakMap,p=new Set;o.forEach((function(t){r.get(t).forEach((function(i){var r=t instanceof window.SVGElement,o=a.get(t),d=r?0:parseFloat(o.paddingTop),f=r?0:parseFloat(o.paddingRight),l=r?0:parseFloat(o.paddingBottom),u=r?0:parseFloat(o.paddingLeft),g=r?0:parseFloat(o.borderTopWidth),m=r?0:parseFloat(o.borderRightWidth),w=r?0:parseFloat(o.borderBottomWidth),b=u+f,F=d+l,v=(r?0:parseFloat(o.borderLeftWidth))+m,W=g+w,y=r?0:t.offsetHeight-W-t.clientHeight,E=r?0:t.offsetWidth-v-t.clientWidth,R=b+v,z=F+W,M=r?t.width:parseFloat(o.width)-R-E,O=r?t.height:parseFloat(o.height)-z-y;if(n.has(t)){var k=n.get(t);if(k[0]===M&&k[1]===O)return}n.set(t,[M,O]);var S=Object.create(h.prototype);S.target=t,S.contentRect=new c(u,d,M,O),s.has(i)||(s.set(i,[]),p.add(i)),s.get(i).push(S)}))})),p.forEach((function(e){i.get(e).call(e,s.get(e),e)}))}return s.prototype.observe=function(i){if(i instanceof window.Element){r.has(i)||(r.set(i,new Set),o.add(i),a.set(i,window.getComputedStyle(i)));var n=r.get(i);n.has(this)||n.add(this),cancelAnimationFrame(t),t=requestAnimationFrame(d)}},s.prototype.unobserve=function(i){if(i instanceof window.Element&&r.has(i)){var n=r.get(i);n.has(this)&&(n.delete(this),n.size||(r.delete(i),o.delete(i))),n.size||r.delete(i),o.size||cancelAnimationFrame(t)}},A.DOMRectReadOnly=c,A.ResizeObserver=s,A.ResizeObserverEntry=h,A}; // eslint-disable-line\n",
       "mpl.toolbar_items = [[\"Home\", \"Reset original view\", \"fa fa-home icon-home\", \"home\"], [\"Back\", \"Back to previous view\", \"fa fa-arrow-left icon-arrow-left\", \"back\"], [\"Forward\", \"Forward to next view\", \"fa fa-arrow-right icon-arrow-right\", \"forward\"], [\"\", \"\", \"\", \"\"], [\"Pan\", \"Left button pans, Right button zooms\\nx/y fixes axis, CTRL fixes aspect\", \"fa fa-arrows icon-move\", \"pan\"], [\"Zoom\", \"Zoom to rectangle\\nx/y fixes axis, CTRL fixes aspect\", \"fa fa-square-o icon-check-empty\", \"zoom\"], [\"\", \"\", \"\", \"\"], [\"Download\", \"Download plot\", \"fa fa-floppy-o icon-save\", \"download\"]];\n",
       "\n",
       "mpl.extensions = [\"eps\", \"jpeg\", \"pgf\", \"pdf\", \"png\", \"ps\", \"raw\", \"svg\", \"tif\"];\n",
       "\n",
       "mpl.default_extension = \"png\";/* global mpl */\n",
       "\n",
       "var comm_websocket_adapter = function (comm) {\n",
       "    // Create a \"websocket\"-like object which calls the given IPython comm\n",
       "    // object with the appropriate methods. Currently this is a non binary\n",
       "    // socket, so there is still some room for performance tuning.\n",
       "    var ws = {};\n",
       "\n",
       "    ws.binaryType = comm.kernel.ws.binaryType;\n",
       "    ws.readyState = comm.kernel.ws.readyState;\n",
       "    function updateReadyState(_event) {\n",
       "        if (comm.kernel.ws) {\n",
       "            ws.readyState = comm.kernel.ws.readyState;\n",
       "        } else {\n",
       "            ws.readyState = 3; // Closed state.\n",
       "        }\n",
       "    }\n",
       "    comm.kernel.ws.addEventListener('open', updateReadyState);\n",
       "    comm.kernel.ws.addEventListener('close', updateReadyState);\n",
       "    comm.kernel.ws.addEventListener('error', updateReadyState);\n",
       "\n",
       "    ws.close = function () {\n",
       "        comm.close();\n",
       "    };\n",
       "    ws.send = function (m) {\n",
       "        //console.log('sending', m);\n",
       "        comm.send(m);\n",
       "    };\n",
       "    // Register the callback with on_msg.\n",
       "    comm.on_msg(function (msg) {\n",
       "        //console.log('receiving', msg['content']['data'], msg);\n",
       "        var data = msg['content']['data'];\n",
       "        if (data['blob'] !== undefined) {\n",
       "            data = {\n",
       "                data: new Blob(msg['buffers'], { type: data['blob'] }),\n",
       "            };\n",
       "        }\n",
       "        // Pass the mpl event to the overridden (by mpl) onmessage function.\n",
       "        ws.onmessage(data);\n",
       "    });\n",
       "    return ws;\n",
       "};\n",
       "\n",
       "mpl.mpl_figure_comm = function (comm, msg) {\n",
       "    // This is the function which gets called when the mpl process\n",
       "    // starts-up an IPython Comm through the \"matplotlib\" channel.\n",
       "\n",
       "    var id = msg.content.data.id;\n",
       "    // Get hold of the div created by the display call when the Comm\n",
       "    // socket was opened in Python.\n",
       "    var element = document.getElementById(id);\n",
       "    var ws_proxy = comm_websocket_adapter(comm);\n",
       "\n",
       "    function ondownload(figure, _format) {\n",
       "        window.open(figure.canvas.toDataURL());\n",
       "    }\n",
       "\n",
       "    var fig = new mpl.figure(id, ws_proxy, ondownload, element);\n",
       "\n",
       "    // Call onopen now - mpl needs it, as it is assuming we've passed it a real\n",
       "    // web socket which is closed, not our websocket->open comm proxy.\n",
       "    ws_proxy.onopen();\n",
       "\n",
       "    fig.parent_element = element;\n",
       "    fig.cell_info = mpl.find_output_cell(\"<div id='\" + id + \"'></div>\");\n",
       "    if (!fig.cell_info) {\n",
       "        console.error('Failed to find cell for figure', id, fig);\n",
       "        return;\n",
       "    }\n",
       "    fig.cell_info[0].output_area.element.on(\n",
       "        'cleared',\n",
       "        { fig: fig },\n",
       "        fig._remove_fig_handler\n",
       "    );\n",
       "};\n",
       "\n",
       "mpl.figure.prototype.handle_close = function (fig, msg) {\n",
       "    var width = fig.canvas.width / fig.ratio;\n",
       "    fig.cell_info[0].output_area.element.off(\n",
       "        'cleared',\n",
       "        fig._remove_fig_handler\n",
       "    );\n",
       "    fig.resizeObserverInstance.unobserve(fig.canvas_div);\n",
       "\n",
       "    // Update the output cell to use the data from the current canvas.\n",
       "    fig.push_to_output();\n",
       "    var dataURL = fig.canvas.toDataURL();\n",
       "    // Re-enable the keyboard manager in IPython - without this line, in FF,\n",
       "    // the notebook keyboard shortcuts fail.\n",
       "    IPython.keyboard_manager.enable();\n",
       "    fig.parent_element.innerHTML =\n",
       "        '<img src=\"' + dataURL + '\" width=\"' + width + '\">';\n",
       "    fig.close_ws(fig, msg);\n",
       "};\n",
       "\n",
       "mpl.figure.prototype.close_ws = function (fig, msg) {\n",
       "    fig.send_message('closing', msg);\n",
       "    // fig.ws.close()\n",
       "};\n",
       "\n",
       "mpl.figure.prototype.push_to_output = function (_remove_interactive) {\n",
       "    // Turn the data on the canvas into data in the output cell.\n",
       "    var width = this.canvas.width / this.ratio;\n",
       "    var dataURL = this.canvas.toDataURL();\n",
       "    this.cell_info[1]['text/html'] =\n",
       "        '<img src=\"' + dataURL + '\" width=\"' + width + '\">';\n",
       "};\n",
       "\n",
       "mpl.figure.prototype.updated_canvas_event = function () {\n",
       "    // Tell IPython that the notebook contents must change.\n",
       "    IPython.notebook.set_dirty(true);\n",
       "    this.send_message('ack', {});\n",
       "    var fig = this;\n",
       "    // Wait a second, then push the new image to the DOM so\n",
       "    // that it is saved nicely (might be nice to debounce this).\n",
       "    setTimeout(function () {\n",
       "        fig.push_to_output();\n",
       "    }, 1000);\n",
       "};\n",
       "\n",
       "mpl.figure.prototype._init_toolbar = function () {\n",
       "    var fig = this;\n",
       "\n",
       "    var toolbar = document.createElement('div');\n",
       "    toolbar.classList = 'btn-toolbar';\n",
       "    this.root.appendChild(toolbar);\n",
       "\n",
       "    function on_click_closure(name) {\n",
       "        return function (_event) {\n",
       "            return fig.toolbar_button_onclick(name);\n",
       "        };\n",
       "    }\n",
       "\n",
       "    function on_mouseover_closure(tooltip) {\n",
       "        return function (event) {\n",
       "            if (!event.currentTarget.disabled) {\n",
       "                return fig.toolbar_button_onmouseover(tooltip);\n",
       "            }\n",
       "        };\n",
       "    }\n",
       "\n",
       "    fig.buttons = {};\n",
       "    var buttonGroup = document.createElement('div');\n",
       "    buttonGroup.classList = 'btn-group';\n",
       "    var button;\n",
       "    for (var toolbar_ind in mpl.toolbar_items) {\n",
       "        var name = mpl.toolbar_items[toolbar_ind][0];\n",
       "        var tooltip = mpl.toolbar_items[toolbar_ind][1];\n",
       "        var image = mpl.toolbar_items[toolbar_ind][2];\n",
       "        var method_name = mpl.toolbar_items[toolbar_ind][3];\n",
       "\n",
       "        if (!name) {\n",
       "            /* Instead of a spacer, we start a new button group. */\n",
       "            if (buttonGroup.hasChildNodes()) {\n",
       "                toolbar.appendChild(buttonGroup);\n",
       "            }\n",
       "            buttonGroup = document.createElement('div');\n",
       "            buttonGroup.classList = 'btn-group';\n",
       "            continue;\n",
       "        }\n",
       "\n",
       "        button = fig.buttons[name] = document.createElement('button');\n",
       "        button.classList = 'btn btn-default';\n",
       "        button.href = '#';\n",
       "        button.title = name;\n",
       "        button.innerHTML = '<i class=\"fa ' + image + ' fa-lg\"></i>';\n",
       "        button.addEventListener('click', on_click_closure(method_name));\n",
       "        button.addEventListener('mouseover', on_mouseover_closure(tooltip));\n",
       "        buttonGroup.appendChild(button);\n",
       "    }\n",
       "\n",
       "    if (buttonGroup.hasChildNodes()) {\n",
       "        toolbar.appendChild(buttonGroup);\n",
       "    }\n",
       "\n",
       "    // Add the status bar.\n",
       "    var status_bar = document.createElement('span');\n",
       "    status_bar.classList = 'mpl-message pull-right';\n",
       "    toolbar.appendChild(status_bar);\n",
       "    this.message = status_bar;\n",
       "\n",
       "    // Add the close button to the window.\n",
       "    var buttongrp = document.createElement('div');\n",
       "    buttongrp.classList = 'btn-group inline pull-right';\n",
       "    button = document.createElement('button');\n",
       "    button.classList = 'btn btn-mini btn-primary';\n",
       "    button.href = '#';\n",
       "    button.title = 'Stop Interaction';\n",
       "    button.innerHTML = '<i class=\"fa fa-power-off icon-remove icon-large\"></i>';\n",
       "    button.addEventListener('click', function (_evt) {\n",
       "        fig.handle_close(fig, {});\n",
       "    });\n",
       "    button.addEventListener(\n",
       "        'mouseover',\n",
       "        on_mouseover_closure('Stop Interaction')\n",
       "    );\n",
       "    buttongrp.appendChild(button);\n",
       "    var titlebar = this.root.querySelector('.ui-dialog-titlebar');\n",
       "    titlebar.insertBefore(buttongrp, titlebar.firstChild);\n",
       "};\n",
       "\n",
       "mpl.figure.prototype._remove_fig_handler = function (event) {\n",
       "    var fig = event.data.fig;\n",
       "    if (event.target !== this) {\n",
       "        // Ignore bubbled events from children.\n",
       "        return;\n",
       "    }\n",
       "    fig.close_ws(fig, {});\n",
       "};\n",
       "\n",
       "mpl.figure.prototype._root_extra_style = function (el) {\n",
       "    el.style.boxSizing = 'content-box'; // override notebook setting of border-box.\n",
       "};\n",
       "\n",
       "mpl.figure.prototype._canvas_extra_style = function (el) {\n",
       "    // this is important to make the div 'focusable\n",
       "    el.setAttribute('tabindex', 0);\n",
       "    // reach out to IPython and tell the keyboard manager to turn it's self\n",
       "    // off when our div gets focus\n",
       "\n",
       "    // location in version 3\n",
       "    if (IPython.notebook.keyboard_manager) {\n",
       "        IPython.notebook.keyboard_manager.register_events(el);\n",
       "    } else {\n",
       "        // location in version 2\n",
       "        IPython.keyboard_manager.register_events(el);\n",
       "    }\n",
       "};\n",
       "\n",
       "mpl.figure.prototype._key_event_extra = function (event, _name) {\n",
       "    var manager = IPython.notebook.keyboard_manager;\n",
       "    if (!manager) {\n",
       "        manager = IPython.keyboard_manager;\n",
       "    }\n",
       "\n",
       "    // Check for shift+enter\n",
       "    if (event.shiftKey && event.which === 13) {\n",
       "        this.canvas_div.blur();\n",
       "        // select the cell after this one\n",
       "        var index = IPython.notebook.find_cell_index(this.cell_info[0]);\n",
       "        IPython.notebook.select(index + 1);\n",
       "    }\n",
       "};\n",
       "\n",
       "mpl.figure.prototype.handle_save = function (fig, _msg) {\n",
       "    fig.ondownload(fig, null);\n",
       "};\n",
       "\n",
       "mpl.find_output_cell = function (html_output) {\n",
       "    // Return the cell and output element which can be found *uniquely* in the notebook.\n",
       "    // Note - this is a bit hacky, but it is done because the \"notebook_saving.Notebook\"\n",
       "    // IPython event is triggered only after the cells have been serialised, which for\n",
       "    // our purposes (turning an active figure into a static one), is too late.\n",
       "    var cells = IPython.notebook.get_cells();\n",
       "    var ncells = cells.length;\n",
       "    for (var i = 0; i < ncells; i++) {\n",
       "        var cell = cells[i];\n",
       "        if (cell.cell_type === 'code') {\n",
       "            for (var j = 0; j < cell.output_area.outputs.length; j++) {\n",
       "                var data = cell.output_area.outputs[j];\n",
       "                if (data.data) {\n",
       "                    // IPython >= 3 moved mimebundle to data attribute of output\n",
       "                    data = data.data;\n",
       "                }\n",
       "                if (data['text/html'] === html_output) {\n",
       "                    return [cell, data, j];\n",
       "                }\n",
       "            }\n",
       "        }\n",
       "    }\n",
       "};\n",
       "\n",
       "// Register the function which deals with the matplotlib target/channel.\n",
       "// The kernel may be null if the page has been refreshed.\n",
       "if (IPython.notebook.kernel !== null) {\n",
       "    IPython.notebook.kernel.comm_manager.register_target(\n",
       "        'matplotlib',\n",
       "        mpl.mpl_figure_comm\n",
       "    );\n",
       "}\n"
      ],
      "text/plain": [
       "<IPython.core.display.Javascript object>"
      ]
     },
     "metadata": {},
     "output_type": "display_data"
    },
    {
     "data": {
      "text/html": [
       "<img src=\"data:image/png;base64,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\" width=\"720\">"
      ],
      "text/plain": [
       "<IPython.core.display.HTML object>"
      ]
     },
     "metadata": {},
     "output_type": "display_data"
    },
    {
     "data": {
      "application/vnd.jupyter.widget-view+json": {
       "model_id": "a947e4abdeed43deabeb7563bab1dedf",
       "version_major": 2,
       "version_minor": 0
      },
      "text/plain": [
       "interactive(children=(FloatSlider(value=2.0, description='$\\\\alpha$ :', max=40.0, min=0.1), FloatSlider(value=…"
      ]
     },
     "metadata": {},
     "output_type": "display_data"
    }
   ],
   "source": [
    "import math\n",
    "import numpy as np\n",
    "import matplotlib.pyplot as plt\n",
    "from ipywidgets import interact ,interactive, fixed, interact_manual\n",
    "import ipywidgets as widgets\n",
    "%matplotlib nbagg\n",
    "\n",
    "\n",
    "def GammaPDFGraph(alpa,lamda):\n",
    "    plt.plot(x,(lamda*np.exp(-lamda*x)*(lamda*x)**(alpa-1))/math.gamma(alpa),label=r\"$\\alpha$={0} $\\lambda$={1}\".format(alpa,lamda))\n",
    "    plt.legend(loc='upper right')\n",
    "\n",
    "\n",
    "Infty0=100   \n",
    "x=np.linspace(0,Infty0,10000)\n",
    "plt.figure(figsize=(10,8))\n",
    "plt.title(\"Gamma Distribution\")\n",
    "plt.xlabel(\"$x$\")\n",
    "plt.ylabel(\"$f_X(x)$\")\n",
    "plt.yticks([0,0.5,1,1.5,2])\n",
    "plt.xlim(0,20)\n",
    "plt.ylim(0,2)\n",
    "plt.show()\n",
    "\n",
    "#interact(GammaPDFGraph,alpa=widgets.FloatSlider(min=0.5, max=50, step=0.5, value=1,description=r'$\\alpha$ :'),lamda=widgets.FloatSlider(min=0.5, max=5, step=0.5, value=2,description=r'$\\lambda$:'))\n",
    "interactive(GammaPDFGraph,{'manual':True},alpa=widgets.FloatSlider(min=0.1, max=40, step=0.1, value=2,description=r'$\\alpha$ :'),lamda=widgets.FloatSlider(min=0.1, max=10, step=0.1, value=2,description=r'$\\lambda$:'))\n",
    "    "
   ]
  },
  {
   "cell_type": "markdown",
   "metadata": {},
   "source": [
    "**Problem:** The CPU time requirement $T$ for jobs has a Gamma distribution with mean $\\mu=40$ seconds, and standard deviation $\\sigma=20$ seconds.A job taken less than 20 seconds is a shorter job. What is the probability that of 5 randomly selected jobs, at least 2 are short jobs."
   ]
  },
  {
   "cell_type": "markdown",
   "metadata": {},
   "source": [
    "*solution:* Here $T\\sim Gamma(\\alpha,\\lambda)$,&nbsp; $\\mu=\\frac{\\alpha}{\\lambda}=40$----(1), and $\\sigma^2=\\frac{\\alpha}{\\lambda^2}=(20)^2$----(2)   &nbsp;($\\because$ $\\sigma=20$)"
   ]
  },
  {
   "cell_type": "markdown",
   "metadata": {},
   "source": [
    "(1)/(2) $\\Rightarrow$ $\\frac{\\frac{\\alpha}{\\lambda}}{\\frac{\\alpha}{\\lambda^2}}=\\frac{40}{400}\\Rightarrow \\lambda=\\frac{1}{10}$"
   ]
  },
  {
   "cell_type": "markdown",
   "metadata": {},
   "source": [
    "(1)$\\Rightarrow$ $\\frac{\\alpha}{\\frac{1}{10}}=40\\Rightarrow \\alpha=4$"
   ]
  },
  {
   "cell_type": "markdown",
   "metadata": {},
   "source": [
    "$\\therefore$ $T\\sim Gamma(4,\\frac{1}{10})$"
   ]
  },
  {
   "cell_type": "markdown",
   "metadata": {},
   "source": [
    "$f_T(t)=\\left\\{\\begin{matrix}\n",
    " \\frac{\\frac{1}{10}\\left(\\frac{t}{10}\\right)^{3}e^{-\\frac{t}{10}}}{3!}& t>0\\\\ \n",
    " 0& t\\le 0\n",
    "\\end{matrix}\\right.$"
   ]
  },
  {
   "cell_type": "markdown",
   "metadata": {},
   "source": [
    "Let $A$ be the event that a randomly selected job is short job."
   ]
  },
  {
   "cell_type": "markdown",
   "metadata": {},
   "source": [
    "Let $p=P(A)=P(T<20)=\\frac{1}{60}\\int_{0}^{20}\\left(\\frac{t}{10}\\right)^3e^{-\\frac{t}{10}}dt$"
   ]
  },
  {
   "cell_type": "markdown",
   "metadata": {},
   "source": [
    "Take $y=\\frac{t}{10}\\Rightarrow$ $dy=\\frac{dt}{10}$ and $y$ limits from 0 to 2"
   ]
  },
  {
   "cell_type": "markdown",
   "metadata": {},
   "source": [
    "$p=\\frac{1}{6}\\int_{0}^{2}y^3e^{-y}dy=\\frac{1}{6}\\int_{0}^{2}y^3d(-e^{-y})$"
   ]
  },
  {
   "cell_type": "markdown",
   "metadata": {},
   "source": [
    "&nbsp; &nbsp; &nbsp;$=\\frac{1}{6}\\left[\\left[y^3(-e^{-y})\\right]_{0}^{2}-\\int_{0}^{2}(-e^{-y})3y^2dy\\right]$ &nbsp; &nbsp; $\\left[\\therefore\\int_{a}^{b}udv=[uv]_{a}^{b}-\\int_{a}^{b}vdu\\right]$"
   ]
  },
  {
   "cell_type": "markdown",
   "metadata": {},
   "source": [
    "&nbsp; &nbsp; &nbsp;$=\\frac{1}{6}\\left[2^3\\left[-e^{-2}-0\\right]+3\\int_{0}^{2}y^2d(-e^{-y})dy\\right]$"
   ]
  },
  {
   "cell_type": "markdown",
   "metadata": {},
   "source": [
    "&nbsp; &nbsp; &nbsp;$=\\frac{-8}{6e^2}+\\frac{3}{6}\\left(\\left[y^2(-e^{-y})\\right]_{0}^{2}-\\int_{0}^{2}(-e^{-y}2y dy)\\right)$"
   ]
  },
  {
   "cell_type": "markdown",
   "metadata": {},
   "source": [
    "&nbsp; &nbsp; &nbsp;$=\\frac{-4}{3e^2}+\\frac{1}{2}\\left(\\left[2^2(-e^{-2}-0)+2\\int_{0}^{2}yd(-e^{-y})\\right]\\right)$"
   ]
  },
  {
   "cell_type": "markdown",
   "metadata": {},
   "source": [
    "&nbsp; &nbsp; &nbsp;$=\\frac{-4}{3e^2}-\\frac{2}{e^2}+\\left[y(-e^{-y})\\right]_{0}^{2}-\\int_{0}^{2}(-e^{-y}dy)$"
   ]
  },
  {
   "cell_type": "markdown",
   "metadata": {},
   "source": [
    "&nbsp; &nbsp; &nbsp;$=\\frac{-4}{3e^2}-\\frac{2}{e^2}+\\left[2(-e^{-y}-0)\\right]+\\left[-e^{-y}\\right]_{0}^{2}$"
   ]
  },
  {
   "cell_type": "markdown",
   "metadata": {},
   "source": [
    "&nbsp; &nbsp; &nbsp;$=\\frac{-4}{3e^2}-\\frac{2}{e^2}-\\frac{2}{e^2}+\\left[-e^{-2}+1\\right]$"
   ]
  },
  {
   "cell_type": "markdown",
   "metadata": {},
   "source": [
    "&nbsp; &nbsp; &nbsp;$=1-\\frac{4}{3e^2}-\\frac{5}{e^2}=1-\\frac{1}{e^2}\\left(\\frac{4+15}{3}\\right)=1-\\frac{19}{3e^2}=0.1428765$"
   ]
  },
  {
   "cell_type": "markdown",
   "metadata": {},
   "source": [
    "Let $X=$ number of short jobs out of 5 jobs, then $X\\sim Bin(5,0.1428)$ "
   ]
  },
  {
   "cell_type": "markdown",
   "metadata": {},
   "source": [
    "Here we are interested in $P(X\\ge 2)=?$"
   ]
  },
  {
   "cell_type": "markdown",
   "metadata": {},
   "source": [
    "$P(X\\ge 2)=1-P(X<2)=1-P(X=0)-P(X=1)$"
   ]
  },
  {
   "cell_type": "markdown",
   "metadata": {},
   "source": [
    "&nbsp; &nbsp; &nbsp;&nbsp; &nbsp; &nbsp; &nbsp;&nbsp; &nbsp; &nbsp; &nbsp;$=1-\\binom{5}{0}(0.1428)^0(1-0.1428)^5-\\binom{5}{1}(0.1428)^1(1-0.1428)^4\\approx0.1519$"
   ]
  },
  {
   "cell_type": "markdown",
   "metadata": {},
   "source": [
    "$\\therefore$ $P(X\\ge 2)=0.1519$"
   ]
  }
 ],
 "metadata": {
  "hide_input": false,
  "kernelspec": {
   "display_name": "Python 3 (ipykernel)",
   "language": "python",
   "name": "python3"
  },
  "language_info": {
   "codemirror_mode": {
    "name": "ipython",
    "version": 3
   },
   "file_extension": ".py",
   "mimetype": "text/x-python",
   "name": "python",
   "nbconvert_exporter": "python",
   "pygments_lexer": "ipython3",
   "version": "3.10.0"
  }
 },
 "nbformat": 4,
 "nbformat_minor": 4
}
