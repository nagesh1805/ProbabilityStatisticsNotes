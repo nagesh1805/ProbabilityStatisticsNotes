{
 "cells": [
  {
   "cell_type": "markdown",
   "metadata": {},
   "source": [
    "<h2 style=\"text-align:center\"> MA2102</h2>\n",
    "<h1 style=\"text-align:center\"> Probability and Statistics</h1>\n",
    "<h4 style=\"text-align:center\"> Lecture-17(Part-b)</h4>"
   ]
  },
  {
   "cell_type": "markdown",
   "metadata": {},
   "source": [
    "# Some Special Continuous Distributions"
   ]
  },
  {
   "cell_type": "markdown",
   "metadata": {},
   "source": [
    "Now, we are going to see some most frequently  used continuous distributions and describe their important properties."
   ]
  },
  {
   "cell_type": "markdown",
   "metadata": {},
   "source": [
    "### (Continuous) Uniform Distributions: "
   ]
  },
  {
   "cell_type": "markdown",
   "metadata": {},
   "source": [
    "Consider the random experiment of selecting a number at random from the interval $[a,b]$."
   ]
  },
  {
   "cell_type": "markdown",
   "metadata": {},
   "source": [
    "Sample space $\\Omega=[a,b]$"
   ]
  },
  {
   "cell_type": "markdown",
   "metadata": {},
   "source": [
    "define, $X:\\Omega\\to\\mathbb{R}$ with mapping $\\omega\\mapsto \\omega$"
   ]
  },
  {
   "cell_type": "markdown",
   "metadata": {},
   "source": [
    "$S_X=[a,b]$"
   ]
  },
  {
   "cell_type": "markdown",
   "metadata": {},
   "source": [
    "For $a\\le a_1<b_1\\le b$, the probability of selecting number in the interval $[a_1,b_1]$ will be proportional to the length of the interval $[a_1,b_1]$"
   ]
  },
  {
   "cell_type": "markdown",
   "metadata": {},
   "source": [
    "$\\therefore$ $P(a_1\\le X \\le b_1])=k(b_1-a_1)$  (where $k$ is proportional to constant)"
   ]
  },
  {
   "cell_type": "markdown",
   "metadata": {},
   "source": [
    "and  $P(a\\le X\\le b)=P(\\Omega)=1$&nbsp;&nbsp; ($\\therefore$ Axiom (2))"
   ]
  },
  {
   "cell_type": "markdown",
   "metadata": {},
   "source": [
    "$P(a\\le X \\le b)=1\\Rightarrow k(b-a)=1\\Rightarrow k=\\frac{1}{b-a}$  "
   ]
  },
  {
   "cell_type": "markdown",
   "metadata": {},
   "source": [
    "$\\therefore$ $P(a_1\\le X \\le b_1)=\\frac{b_1-a_1}{b-a}$  for $a\\le a_1<b_1\\le b$"
   ]
  },
  {
   "cell_type": "markdown",
   "metadata": {},
   "source": [
    "For $x<a$, $F_X(x)=P(X\\le x)=0$"
   ]
  },
  {
   "cell_type": "markdown",
   "metadata": {},
   "source": [
    "For $a\\le x<b$, $F_X(x)=P(X\\le x)=P(-\\infty<X<a)+P(a\\le X\\le x)=0+\\frac{x-a}{b-a}=\\frac{x-a}{b-a}$"
   ]
  },
  {
   "cell_type": "markdown",
   "metadata": {},
   "source": [
    "For $x\\ge b$, $F_X(x)=P(X\\le x)=P(-\\infty<X<a)+P(a\\le X\\le b)+P(b<X\\le x)=0+\\frac{b-a}{b-a}+0=1$"
   ]
  },
  {
   "cell_type": "markdown",
   "metadata": {
    "cell_style": "split"
   },
   "source": [
    "$F_X(x)=\\left\\{\\begin{matrix}\n",
    " 0&x<a \\\\ \n",
    " \\frac{x-a}{b-a}&a\\le x < b\\\\ \n",
    " 1& x\\ge b\n",
    "\\end{matrix}\\right.$"
   ]
  },
  {
   "cell_type": "markdown",
   "metadata": {
    "cell_style": "split"
   },
   "source": [
    "and $PDF$ of $X$, $f_X(x)=\\frac{d}{dx}F_X(x)=\\left\\{\\begin{matrix}\n",
    "\\frac{1}{b-a} & a\\le x\\le b \\\\ \n",
    " 0 & \\text{otherwise} \n",
    "\\end{matrix}\\right.$"
   ]
  },
  {
   "cell_type": "markdown",
   "metadata": {},
   "source": [
    "  "
   ]
  },
  {
   "cell_type": "code",
   "execution_count": 88,
   "metadata": {},
   "outputs": [
    {
     "data": {
      "image/png": "[encoded data removed]",
      "text/plain": [
       "<Figure size 1296x144 with 2 Axes>"
      ]
     },
     "metadata": {
      "needs_background": "light"
     },
     "output_type": "display_data"
    }
   ],
   "source": [
    "import matplotlib.pyplot as plt\n",
    "import numpy as np\n",
    "\n",
    "fig,ax = plt.subplots(1,2,figsize=(18,2))\n",
    "#Example Uniform CDF Graph\n",
    "ax[0].set_title(\"CDF\",fontsize=15,color='black')\n",
    "ax[0].plot([-5,5],[0,0],color='black') # x-axis\n",
    "ax[0].plot([0,0],[0,2],color='black') # y-axis\n",
    "ax[0].plot([-5,1],[0,0],color='b')\n",
    "ax[0].plot([1,2],[0,1],color='b')\n",
    "ax[0].plot([2,4],[1,1],color='b')\n",
    "ax[0].text(1,-0.1,\"a\")\n",
    "ax[0].text(2,-0.1,\"b\")\n",
    "ax[0].text(0,1,\"1\")\n",
    "ax[0].text(-0.1,1,\"-\",fontsize=18)\n",
    "ax[0].set_ylim(0,3)\n",
    "ax[0].axis('off')\n",
    "\n",
    "#Example Uniform PDF Graph\n",
    "ax[1].set_title(\"PDF\",fontsize=15,color='black')\n",
    "ax[1].plot([-5,5],[0,0],color='black') # x-axis\n",
    "ax[1].plot([0,0],[0,2],color='black') # y-axis\n",
    "ax[1].plot([-5,1],[0,0],color='b')\n",
    "ax[1].plot([1,2],[1,1],color='b')\n",
    "ax[1].plot([2,5],[0,0],color='b')\n",
    "ax[1].text(1,-0.1,\"a\")\n",
    "ax[1].text(2,-0.1,\"b\")\n",
    "ax[1].text(-0.6,1,r\"$\\frac{1}{b-a}$\")\n",
    "ax[1].text(-0.1,1,\"-\",fontsize=18)\n",
    "ax[1].set_ylim(0,3)\n",
    "ax[1].axis('off')\n",
    "plt.show()"
   ]
  },
  {
   "cell_type": "markdown",
   "metadata": {},
   "source": [
    "Here the $PDF$ of $X$, $f_X(x)$ is constant over $[a,b]$. That means, $X$ is just likely to be near any value in $[a,b]$ as any other value."
   ]
  },
  {
   "cell_type": "markdown",
   "metadata": {},
   "source": [
    "($\\because$ $f(x)$ is the measure of likelihood of $X$ being around $x$)"
   ]
  },
  {
   "cell_type": "markdown",
   "metadata": {},
   "source": [
    "Here $X$ is said to have <b>Uniform Distribution</b> over interval $[a,b]$ and $a,b$ are parameters for this distribution."
   ]
  },
  {
   "cell_type": "markdown",
   "metadata": {},
   "source": [
    "**Notation:** $X\\sim U[a,b]$"
   ]
  },
  {
   "cell_type": "markdown",
   "metadata": {},
   "source": [
    "$M.G.F:$ $M_X(t)=\\left\\{\\begin{matrix}\n",
    " \\frac{e^{tb}-e^{ta}}{t(b-a)}& t\\ne 0 \\\\ \n",
    " 1& t=0 \n",
    "\\end{matrix}\\right.$"
   ]
  },
  {
   "cell_type": "markdown",
   "metadata": {},
   "source": [
    "$E(X)=\\frac{a+b}{2}$, &nbsp; &nbsp; $Var(X)=\\frac{(b-a)^2}{12}$, and $E(X^k)=\\frac{b^{k+1}-a^{k+1}}{(k+1)(b-a)}$, for $k=1,2,3,...$"
   ]
  },
  {
   "cell_type": "markdown",
   "metadata": {},
   "source": [
    "**Example:** Buses arrive at a specified stop at 15 minute intervals starting at 7 am. That is, they arrive at 7:00,7:15,7:30,7:45 and so on. If a passenger arrives at a stop at a time that is uniformly distributed between 7 and 7:30, then find the probability that he waits<br>\n",
    "(a) Less than 5 minutes for bus<br>\n",
    "(b) More than 10 minutes for bus"
   ]
  },
  {
   "cell_type": "markdown",
   "metadata": {},
   "source": [
    "*solution:* Let $X$ denote the time(in minutes) past $7:00$ am that passenger arrives at the stop.\n"
   ]
  },
  {
   "cell_type": "markdown",
   "metadata": {},
   "source": [
    " $X\\sim U[0,30]$"
   ]
  },
  {
   "cell_type": "markdown",
   "metadata": {},
   "source": [
    "$f_X(x)=\\left\\{\\begin{matrix}\n",
    " \\frac{1}{30}& 0\\le x\\le 30 \\\\ \n",
    " 0 & \\text{otherwise}\n",
    "\\end{matrix}\\right.$,   &nbsp; &nbsp; $F_X(x)=\\left\\{\\begin{matrix}\n",
    " 0&x<0 \\\\ \n",
    " \\frac{x}{30}& 0\\le x<30 \\\\\n",
    " 1& x\\ge 30\n",
    "\\end{matrix}\\right.$"
   ]
  },
  {
   "cell_type": "markdown",
   "metadata": {},
   "source": [
    "(a) Let $A$ be the event that passenger will have to wait less than 5 minutes"
   ]
  },
  {
   "cell_type": "markdown",
   "metadata": {},
   "source": [
    "$A$ happens $\\iff$ ($10<X<15$) or ($25<X<30$)"
   ]
  },
  {
   "cell_type": "markdown",
   "metadata": {},
   "source": [
    "$P(A)=P(10<X<15)+P(25<X<30)=\\int_{10}^{15}\\frac{1}{30}dx+\\int_{25}^{30}\\frac{1}{30}dx=\\frac{15-10}{30}+\\frac{30-25}{30}=\\frac{1}{3}$"
   ]
  },
  {
   "cell_type": "markdown",
   "metadata": {},
   "source": [
    "$\\therefore$ $P(A)=\\frac{1}{3}$"
   ]
  },
  {
   "cell_type": "markdown",
   "metadata": {},
   "source": [
    "(b) Let $B$ be the event that passenger will have to wait more than 10 minutes for bus."
   ]
  },
  {
   "cell_type": "markdown",
   "metadata": {},
   "source": [
    "$B$ happens $\\iff$ ($0<X<5$) or ($15<X<20$)"
   ]
  },
  {
   "cell_type": "markdown",
   "metadata": {},
   "source": [
    "$P(B)=P(0<X<5)+P(15<X<20)=(F_X(5)-F_X(0))+(F_X(20)-F_X(15))=(\\frac{5}{30}-\\frac{0}{30})+(\\frac{20}{30}-\\frac{15}{30})=\\frac{5}{30}+\\frac{5}{30}=\\frac{1}{3}$"
   ]
  },
  {
   "cell_type": "markdown",
   "metadata": {},
   "source": [
    "### Erlang Distribution:"
   ]
  },
  {
   "cell_type": "markdown",
   "metadata": {},
   "source": [
    "Consider a Poisson process with rate parameter $\\lambda0$ (i.e $\\lambda=$ average number of event occurrences in unit time interval)"
   ]
  },
  {
   "cell_type": "markdown",
   "metadata": {},
   "source": [
    "Let $X_t$ denote the number of event occurrences in the interval $[0,t]$"
   ]
  },
  {
   "cell_type": "markdown",
   "metadata": {},
   "source": [
    "then average number of occurrences in the interval $[0,t]=\\lambda t$"
   ]
  },
  {
   "cell_type": "markdown",
   "metadata": {},
   "source": [
    "$\\therefore$ $X_t\\sim Poisson(\\lambda t)$  ($\\because$ Think of $[0,t]$ as unit time interval)"
   ]
  },
  {
   "cell_type": "markdown",
   "metadata": {},
   "source": [
    "$P(X_t=k)=\\frac{e^{-\\lambda t}(\\lambda t)^k}{k!}$  for $k=0,1,2,3,...$"
   ]
  },
  {
   "cell_type": "markdown",
   "metadata": {},
   "source": [
    "Let $T_r$ denote the time taken for the $r^{th}$ event occurrence,(Here $r$ is positive integer)"
   ]
  },
  {
   "cell_type": "markdown",
   "metadata": {},
   "source": [
    "$CDF$ of $T_r$, $F_{T_r}(t)=P(T_r\\le t)$"
   ]
  },
  {
   "cell_type": "markdown",
   "metadata": {},
   "source": [
    "for $t<0$, $F_{T_r}(t)=0$"
   ]
  },
  {
   "cell_type": "markdown",
   "metadata": {},
   "source": [
    "for $t>0$,&nbsp; &nbsp; $F_{T_r}(t)=P(T_r\\le t)$"
   ]
  },
  {
   "cell_type": "markdown",
   "metadata": {},
   "source": [
    "&nbsp; &nbsp; &nbsp;&nbsp; &nbsp; &nbsp; &nbsp; &nbsp; &nbsp; &nbsp; &nbsp; &nbsp;$=1-P(T_r>t)$"
   ]
  },
  {
   "cell_type": "markdown",
   "metadata": {},
   "source": [
    "&nbsp;&nbsp; &nbsp; &nbsp;&nbsp; &nbsp; &nbsp;&nbsp; &nbsp; &nbsp;&nbsp; &nbsp; &nbsp;$=1-P(X_t\\le r-1)$"
   ]
  },
  {
   "cell_type": "markdown",
   "metadata": {},
   "source": [
    "&nbsp;&nbsp; &nbsp; &nbsp; &nbsp; &nbsp; &nbsp; &nbsp;$F_{T_r}(t)=1-\\sum_{k=0}^{r-1}\\frac{e^{-\\lambda t}(\\lambda t)^k}{k!}$"
   ]
  },
  {
   "cell_type": "markdown",
   "metadata": {},
   "source": [
    "$\\therefore$ $F_{T_r}(t)=\\left\\{\\begin{matrix}\n",
    " 1-e^{-\\lambda t}-\\sum_{k=1}^{r-1}\\frac{e^{-\\lambda t}(\\lambda t)^k}{k!}& t>0\\\\ \n",
    " 0& t\\le 0\n",
    "\\end{matrix}\\right.$"
   ]
  },
  {
   "cell_type": "markdown",
   "metadata": {},
   "source": [
    "$PDF$ of $T_r$, $f_{T_r}(t)=\\frac{d}{dt}\\left(F_{T_r}(t)\\right)$"
   ]
  },
  {
   "cell_type": "markdown",
   "metadata": {},
   "source": [
    "&nbsp; &nbsp; &nbsp; &nbsp; &nbsp; &nbsp; &nbsp; &nbsp; &nbsp; &nbsp; &nbsp; &nbsp; &nbsp; &nbsp; &nbsp; &nbsp; &nbsp; $=\\frac{d}{dt}\\left(1-e^{-\\lambda t}-\\sum_{k=1}^{r-1}\\frac{e^{-\\lambda t}(\\lambda t)^k}{k!}\\right)$"
   ]
  },
  {
   "cell_type": "markdown",
   "metadata": {},
   "source": [
    "&nbsp; &nbsp; &nbsp; &nbsp; &nbsp; &nbsp; &nbsp; &nbsp; &nbsp; &nbsp; &nbsp; &nbsp; &nbsp; &nbsp; &nbsp; &nbsp; &nbsp; $=\\left(0+\\lambda e^{-\\lambda t}-\\sum_{k=1}^{r-1}\\frac{d}{dt}\\left(\\frac{e^{-\\lambda t}(\\lambda t)^k}{k!}\\right)\\right)$"
   ]
  },
  {
   "cell_type": "markdown",
   "metadata": {},
   "source": [
    "$=\\left(\\lambda e^{-\\lambda t}-\\sum_{k=1}^{r-1}\\left[\\frac{e^{-\\lambda t}k(\\lambda t)^{k-1}(\\lambda)}{k!}+\\frac{e^{-\\lambda t}(-\\lambda )(\\lambda t)^k}{k!}\\right]\\right)$"
   ]
  },
  {
   "cell_type": "markdown",
   "metadata": {},
   "source": [
    "$=\\lambda e^{-\\lambda t}\\left(1-\\sum_{k=1}^{r-1}\\left[\\frac{(\\lambda t)^{k-1}}{(k-1)!}-\\frac{(\\lambda t)^k}{k!}\\right]\\right)=\\lambda e^{-\\lambda t}\\frac{(\\lambda t)^{r-1}}{(r-1)!}$"
   ]
  },
  {
   "cell_type": "markdown",
   "metadata": {},
   "source": [
    "Here $T_r$ is said to have <b> Erlang Distribution</b> with rate parameter $\\lambda$, and shape parameter $r$. This is a special case of <b>Gamma Distribution</b>. We can rewrite the $PDF$ of $T_r$ in the following form."
   ]
  },
  {
   "cell_type": "markdown",
   "metadata": {},
   "source": [
    "$f_{T_r}=\\left\\{\\begin{matrix}\n",
    " \\frac{\\lambda e^{-\\lambda t}(\\lambda t)^{r-1}}{\\Gamma(r)}& t>0\\\\ \n",
    " 0& t\\le 0\n",
    "\\end{matrix}\\right.$"
   ]
  },
  {
   "cell_type": "markdown",
   "metadata": {},
   "source": [
    "### Gamma Distribution:"
   ]
  },
  {
   "cell_type": "markdown",
   "metadata": {},
   "source": [
    "A random variable $X$ is said to have a <b>Gamma Distribution</b> with <i>rate parameter</i> $\\lambda >0$, and <i>shape parameter</i> $\\alpha >0$, if its $PDF$ is given by"
   ]
  },
  {
   "cell_type": "markdown",
   "metadata": {},
   "source": [
    "$f_X(x)=\\left\\{\\begin{matrix}\n",
    " \\frac{\\lambda e^{-\\lambda x}(\\lambda x)^{\\alpha -1}}{\\Gamma(\\alpha)}& x>0 \\\\ \n",
    " 0& x\\le 0\n",
    "\\end{matrix}\\right.$"
   ]
  },
  {
   "cell_type": "markdown",
   "metadata": {},
   "source": [
    "**Notation:** $X\\sim Gamma(\\alpha,\\lambda)$"
   ]
  },
  {
   "cell_type": "markdown",
   "metadata": {},
   "source": [
    "$E(X)=\\frac{\\alpha}{\\lambda}$, &nbsp; &nbsp; $Var(X)=\\frac{\\alpha}{\\lambda^2}$"
   ]
  },
  {
   "cell_type": "markdown",
   "metadata": {},
   "source": [
    "$MGF:$ $M_X(t)=\\left(\\frac{\\lambda}{\\lambda-t}\\right)^\\alpha$, $-\\lambda<t<\\lambda$"
   ]
  },
  {
   "cell_type": "markdown",
   "metadata": {},
   "source": [
    "**Exercise:** If $X\\sim Gamma(\\alpha,\\lambda)$ , then show that $\\mu=\\frac{\\alpha}{\\lambda}$, $\\sigma^2=\\frac{\\alpha}{\\lambda^2}$ through its $MGF$"
   ]
  },
  {
   "cell_type": "markdown",
   "metadata": {},
   "source": [
    "$\\left[\\text{Hint}: \\mu=M_X^{(1)}(0),~~ \\sigma^2=M_X^{(2)}(0)-\\left(M_X^{(1)}(0)\\right)^2\\right]$"
   ]
  },
  {
   "cell_type": "code",
   "execution_count": 6,
   "metadata": {
    "scrolled": true
   },
   "outputs": [
    {
     "data": {
      "application/vnd.jupyter.widget-view+json": {
       "model_id": "b669986f4e714cc1a221a5ca3d64f9eb",
       "version_major": 2,
       "version_minor": 0
      },
      "text/plain": [
       "interactive(children=(FloatSlider(value=1.0, description='$\\\\alpha$ :', max=50.0, min=0.25, step=0.25), FloatS…"
      ]
     },
     "metadata": {},
     "output_type": "display_data"
    }
   ],
   "source": [
    "import math\n",
    "import numpy as np\n",
    "import matplotlib.pyplot as plt\n",
    "from ipywidgets import interact ,interactive, fixed, interact_manual\n",
    "import ipywidgets as widgets\n",
    "%matplotlib inline\n",
    "Infty0=100   \n",
    "\n",
    "def GammaPDFGraph(alpa,lamda):\n",
    "    #fig, ax = plt.subplots()\n",
    "    x=np.linspace(0,Infty0,10000)\n",
    "    fig = plt.figure(figsize=(12,8))\n",
    "    ax=fig.add_subplot(111)\n",
    "    ax.plot(x,(lamda*np.exp(-lamda*x)*(lamda*x)**(alpa-1))/math.gamma(alpa))\n",
    "    ax.set_title(\"Gamma Distribution\")\n",
    "    ax.set_xlabel(\"$x$\")\n",
    "    ax.set_ylabel(\"$f_X(x)$\")\n",
    "    ax.set_yticks([0,0.2,0.4,0.6,0.8,1])\n",
    "    ax.set_xlim(0,Infty0)\n",
    "    ax.set_ylim(0,1)\n",
    "    plt.show()\n",
    "    \n",
    "\n",
    "# Please Click the Run Interact Button to see the PDF graph\n",
    "interactive(GammaPDFGraph,{'manual':True},alpa=widgets.FloatSlider(min=0.25, max=50, step=0.25, value=1,description=r'$\\alpha$ :'),lamda=widgets.FloatSlider(min=0.1, max=5, step=0.5, value=2,description=r'$\\lambda$:'))\n",
    "#interactive(GammaPDFGraph,{'manual':False},alpa=widgets.FloatSlider(min=0.25, max=50, step=0.25, value=1,description=r'$\\alpha$ :'),lamda=widgets.FloatSlider(min=0.1, max=5, step=0.5, value=2,description=r'$\\lambda$:'))\n",
    "    "
   ]
  },
  {
   "cell_type": "code",
   "execution_count": 1,
   "metadata": {},
   "outputs": [
    {
     "data": {
      "application/javascript": [
       "/* Put everything inside the global mpl namespace */\n",
       "/* global mpl */\n",
       "window.mpl = {};\n",
       "\n",
       "mpl.get_websocket_type = function () {\n",
       "    if (typeof WebSocket !== 'undefined') {\n",
       "        return WebSocket;\n",
       "    } else if (typeof MozWebSocket !== 'undefined') {\n",
       "        return MozWebSocket;\n",
       "    } else {\n",
       "        alert(\n",
       "            'Your browser does not have WebSocket support. ' +\n",
       "                'Please try Chrome, Safari or Firefox ≥ 6. ' +\n",
       "                'Firefox 4 and 5 are also supported but you ' +\n",
       "                'have to enable WebSockets in about:config.'\n",
       "        );\n",
       "    }\n",
       "};\n",
       "\n",
       "mpl.figure = function (figure_id, websocket, ondownload, parent_element) {\n",
       "    this.id = figure_id;\n",
       "\n",
       "    this.ws = websocket;\n",
       "\n",
       "    this.supports_binary = this.ws.binaryType !== undefined;\n",
       "\n",
       "    if (!this.supports_binary) {\n",
       "        var warnings = document.getElementById('mpl-warnings');\n",
       "        if (warnings) {\n",
       "            warnings.style.display = 'block';\n",
       "            warnings.textContent =\n",
       "                'This browser does not support binary websocket messages. ' +\n",
       "                'Performance may be slow.';\n",
       "        }\n",
       "    }\n",
       "\n",
       "    this.imageObj = new Image();\n",
       "\n",
       "    this.context = undefined;\n",
       "    this.message = undefined;\n",
       "    this.canvas = undefined;\n",
       "    this.rubberband_canvas = undefined;\n",
       "    this.rubberband_context = undefined;\n",
       "    this.format_dropdown = undefined;\n",
       "\n",
       "    this.image_mode = 'full';\n",
       "\n",
       "    this.root = document.createElement('div');\n",
       "    this.root.setAttribute('style', 'display: inline-block');\n",
       "    this._root_extra_style(this.root);\n",
       "\n",
       "    parent_element.appendChild(this.root);\n",
       "\n",
       "    this._init_header(this);\n",
       "    this._init_canvas(this);\n",
       "    this._init_toolbar(this);\n",
       "\n",
       "    var fig = this;\n",
       "\n",
       "    this.waiting = false;\n",
       "\n",
       "    this.ws.onopen = function () {\n",
       "        fig.send_message('supports_binary', { value: fig.supports_binary });\n",
       "        fig.send_message('send_image_mode', {});\n",
       "        if (fig.ratio !== 1) {\n",
       "            fig.send_message('set_dpi_ratio', { dpi_ratio: fig.ratio });\n",
       "        }\n",
       "        fig.send_message('refresh', {});\n",
       "    };\n",
       "\n",
       "    this.imageObj.onload = function () {\n",
       "        if (fig.image_mode === 'full') {\n",
       "            // Full images could contain transparency (where diff images\n",
       "            // almost always do), so we need to clear the canvas so that\n",
       "            // there is no ghosting.\n",
       "            fig.context.clearRect(0, 0, fig.canvas.width, fig.canvas.height);\n",
       "        }\n",
       "        fig.context.drawImage(fig.imageObj, 0, 0);\n",
       "    };\n",
       "\n",
       "    this.imageObj.onunload = function () {\n",
       "        fig.ws.close();\n",
       "    };\n",
       "\n",
       "    this.ws.onmessage = this._make_on_message_function(this);\n",
       "\n",
       "    this.ondownload = ondownload;\n",
       "};\n",
       "\n",
       "mpl.figure.prototype._init_header = function () {\n",
       "    var titlebar = document.createElement('div');\n",
       "    titlebar.classList =\n",
       "        'ui-dialog-titlebar ui-widget-header ui-corner-all ui-helper-clearfix';\n",
       "    var titletext = document.createElement('div');\n",
       "    titletext.classList = 'ui-dialog-title';\n",
       "    titletext.setAttribute(\n",
       "        'style',\n",
       "        'width: 100%; text-align: center; padding: 3px;'\n",
       "    );\n",
       "    titlebar.appendChild(titletext);\n",
       "    this.root.appendChild(titlebar);\n",
       "    this.header = titletext;\n",
       "};\n",
       "\n",
       "mpl.figure.prototype._canvas_extra_style = function (_canvas_div) {};\n",
       "\n",
       "mpl.figure.prototype._root_extra_style = function (_canvas_div) {};\n",
       "\n",
       "mpl.figure.prototype._init_canvas = function () {\n",
       "    var fig = this;\n",
       "\n",
       "    var canvas_div = (this.canvas_div = document.createElement('div'));\n",
       "    canvas_div.setAttribute(\n",
       "        'style',\n",
       "        'border: 1px solid #ddd;' +\n",
       "            'box-sizing: content-box;' +\n",
       "            'clear: both;' +\n",
       "            'min-height: 1px;' +\n",
       "            'min-width: 1px;' +\n",
       "            'outline: 0;' +\n",
       "            'overflow: hidden;' +\n",
       "            'position: relative;' +\n",
       "            'resize: both;'\n",
       "    );\n",
       "\n",
       "    function on_keyboard_event_closure(name) {\n",
       "        return function (event) {\n",
       "            return fig.key_event(event, name);\n",
       "        };\n",
       "    }\n",
       "\n",
       "    canvas_div.addEventListener(\n",
       "        'keydown',\n",
       "        on_keyboard_event_closure('key_press')\n",
       "    );\n",
       "    canvas_div.addEventListener(\n",
       "        'keyup',\n",
       "        on_keyboard_event_closure('key_release')\n",
       "    );\n",
       "\n",
       "    this._canvas_extra_style(canvas_div);\n",
       "    this.root.appendChild(canvas_div);\n",
       "\n",
       "    var canvas = (this.canvas = document.createElement('canvas'));\n",
       "    canvas.classList.add('mpl-canvas');\n",
       "    canvas.setAttribute('style', 'box-sizing: content-box;');\n",
       "\n",
       "    this.context = canvas.getContext('2d');\n",
       "\n",
       "    var backingStore =\n",
       "        this.context.backingStorePixelRatio ||\n",
       "        this.context.webkitBackingStorePixelRatio ||\n",
       "        this.context.mozBackingStorePixelRatio ||\n",
       "        this.context.msBackingStorePixelRatio ||\n",
       "        this.context.oBackingStorePixelRatio ||\n",
       "        this.context.backingStorePixelRatio ||\n",
       "        1;\n",
       "\n",
       "    this.ratio = (window.devicePixelRatio || 1) / backingStore;\n",
       "\n",
       "    var rubberband_canvas = (this.rubberband_canvas = document.createElement(\n",
       "        'canvas'\n",
       "    ));\n",
       "    rubberband_canvas.setAttribute(\n",
       "        'style',\n",
       "        'box-sizing: content-box; position: absolute; left: 0; top: 0; z-index: 1;'\n",
       "    );\n",
       "\n",
       "    // Apply a ponyfill if ResizeObserver is not implemented by browser.\n",
       "    if (this.ResizeObserver === undefined) {\n",
       "        if (window.ResizeObserver !== undefined) {\n",
       "            this.ResizeObserver = window.ResizeObserver;\n",
       "        } else {\n",
       "            var obs = _JSXTOOLS_RESIZE_OBSERVER({});\n",
       "            this.ResizeObserver = obs.ResizeObserver;\n",
       "        }\n",
       "    }\n",
       "\n",
       "    this.resizeObserverInstance = new this.ResizeObserver(function (entries) {\n",
       "        var nentries = entries.length;\n",
       "        for (var i = 0; i < nentries; i++) {\n",
       "            var entry = entries[i];\n",
       "            var width, height;\n",
       "            if (entry.contentBoxSize) {\n",
       "                if (entry.contentBoxSize instanceof Array) {\n",
       "                    // Chrome 84 implements new version of spec.\n",
       "                    width = entry.contentBoxSize[0].inlineSize;\n",
       "                    height = entry.contentBoxSize[0].blockSize;\n",
       "                } else {\n",
       "                    // Firefox implements old version of spec.\n",
       "                    width = entry.contentBoxSize.inlineSize;\n",
       "                    height = entry.contentBoxSize.blockSize;\n",
       "                }\n",
       "            } else {\n",
       "                // Chrome <84 implements even older version of spec.\n",
       "                width = entry.contentRect.width;\n",
       "                height = entry.contentRect.height;\n",
       "            }\n",
       "\n",
       "            // Keep the size of the canvas and rubber band canvas in sync with\n",
       "            // the canvas container.\n",
       "            if (entry.devicePixelContentBoxSize) {\n",
       "                // Chrome 84 implements new version of spec.\n",
       "                canvas.setAttribute(\n",
       "                    'width',\n",
       "                    entry.devicePixelContentBoxSize[0].inlineSize\n",
       "                );\n",
       "                canvas.setAttribute(\n",
       "                    'height',\n",
       "                    entry.devicePixelContentBoxSize[0].blockSize\n",
       "                );\n",
       "            } else {\n",
       "                canvas.setAttribute('width', width * fig.ratio);\n",
       "                canvas.setAttribute('height', height * fig.ratio);\n",
       "            }\n",
       "            canvas.setAttribute(\n",
       "                'style',\n",
       "                'width: ' + width + 'px; height: ' + height + 'px;'\n",
       "            );\n",
       "\n",
       "            rubberband_canvas.setAttribute('width', width);\n",
       "            rubberband_canvas.setAttribute('height', height);\n",
       "\n",
       "            // And update the size in Python. We ignore the initial 0/0 size\n",
       "            // that occurs as the element is placed into the DOM, which should\n",
       "            // otherwise not happen due to the minimum size styling.\n",
       "            if (fig.ws.readyState == 1 && width != 0 && height != 0) {\n",
       "                fig.request_resize(width, height);\n",
       "            }\n",
       "        }\n",
       "    });\n",
       "    this.resizeObserverInstance.observe(canvas_div);\n",
       "\n",
       "    function on_mouse_event_closure(name) {\n",
       "        return function (event) {\n",
       "            return fig.mouse_event(event, name);\n",
       "        };\n",
       "    }\n",
       "\n",
       "    rubberband_canvas.addEventListener(\n",
       "        'mousedown',\n",
       "        on_mouse_event_closure('button_press')\n",
       "    );\n",
       "    rubberband_canvas.addEventListener(\n",
       "        'mouseup',\n",
       "        on_mouse_event_closure('button_release')\n",
       "    );\n",
       "    rubberband_canvas.addEventListener(\n",
       "        'dblclick',\n",
       "        on_mouse_event_closure('dblclick')\n",
       "    );\n",
       "    // Throttle sequential mouse events to 1 every 20ms.\n",
       "    rubberband_canvas.addEventListener(\n",
       "        'mousemove',\n",
       "        on_mouse_event_closure('motion_notify')\n",
       "    );\n",
       "\n",
       "    rubberband_canvas.addEventListener(\n",
       "        'mouseenter',\n",
       "        on_mouse_event_closure('figure_enter')\n",
       "    );\n",
       "    rubberband_canvas.addEventListener(\n",
       "        'mouseleave',\n",
       "        on_mouse_event_closure('figure_leave')\n",
       "    );\n",
       "\n",
       "    canvas_div.addEventListener('wheel', function (event) {\n",
       "        if (event.deltaY < 0) {\n",
       "            event.step = 1;\n",
       "        } else {\n",
       "            event.step = -1;\n",
       "        }\n",
       "        on_mouse_event_closure('scroll')(event);\n",
       "    });\n",
       "\n",
       "    canvas_div.appendChild(canvas);\n",
       "    canvas_div.appendChild(rubberband_canvas);\n",
       "\n",
       "    this.rubberband_context = rubberband_canvas.getContext('2d');\n",
       "    this.rubberband_context.strokeStyle = '#000000';\n",
       "\n",
       "    this._resize_canvas = function (width, height, forward) {\n",
       "        if (forward) {\n",
       "            canvas_div.style.width = width + 'px';\n",
       "            canvas_div.style.height = height + 'px';\n",
       "        }\n",
       "    };\n",
       "\n",
       "    // Disable right mouse context menu.\n",
       "    this.rubberband_canvas.addEventListener('contextmenu', function (_e) {\n",
       "        event.preventDefault();\n",
       "        return false;\n",
       "    });\n",
       "\n",
       "    function set_focus() {\n",
       "        canvas.focus();\n",
       "        canvas_div.focus();\n",
       "    }\n",
       "\n",
       "    window.setTimeout(set_focus, 100);\n",
       "};\n",
       "\n",
       "mpl.figure.prototype._init_toolbar = function () {\n",
       "    var fig = this;\n",
       "\n",
       "    var toolbar = document.createElement('div');\n",
       "    toolbar.classList = 'mpl-toolbar';\n",
       "    this.root.appendChild(toolbar);\n",
       "\n",
       "    function on_click_closure(name) {\n",
       "        return function (_event) {\n",
       "            return fig.toolbar_button_onclick(name);\n",
       "        };\n",
       "    }\n",
       "\n",
       "    function on_mouseover_closure(tooltip) {\n",
       "        return function (event) {\n",
       "            if (!event.currentTarget.disabled) {\n",
       "                return fig.toolbar_button_onmouseover(tooltip);\n",
       "            }\n",
       "        };\n",
       "    }\n",
       "\n",
       "    fig.buttons = {};\n",
       "    var buttonGroup = document.createElement('div');\n",
       "    buttonGroup.classList = 'mpl-button-group';\n",
       "    for (var toolbar_ind in mpl.toolbar_items) {\n",
       "        var name = mpl.toolbar_items[toolbar_ind][0];\n",
       "        var tooltip = mpl.toolbar_items[toolbar_ind][1];\n",
       "        var image = mpl.toolbar_items[toolbar_ind][2];\n",
       "        var method_name = mpl.toolbar_items[toolbar_ind][3];\n",
       "\n",
       "        if (!name) {\n",
       "            /* Instead of a spacer, we start a new button group. */\n",
       "            if (buttonGroup.hasChildNodes()) {\n",
       "                toolbar.appendChild(buttonGroup);\n",
       "            }\n",
       "            buttonGroup = document.createElement('div');\n",
       "            buttonGroup.classList = 'mpl-button-group';\n",
       "            continue;\n",
       "        }\n",
       "\n",
       "        var button = (fig.buttons[name] = document.createElement('button'));\n",
       "        button.classList = 'mpl-widget';\n",
       "        button.setAttribute('role', 'button');\n",
       "        button.setAttribute('aria-disabled', 'false');\n",
       "        button.addEventListener('click', on_click_closure(method_name));\n",
       "        button.addEventListener('mouseover', on_mouseover_closure(tooltip));\n",
       "\n",
       "        var icon_img = document.createElement('img');\n",
       "        icon_img.src = '_images/' + image + '.png';\n",
       "        icon_img.srcset = '_images/' + image + '_large.png 2x';\n",
       "        icon_img.alt = tooltip;\n",
       "        button.appendChild(icon_img);\n",
       "\n",
       "        buttonGroup.appendChild(button);\n",
       "    }\n",
       "\n",
       "    if (buttonGroup.hasChildNodes()) {\n",
       "        toolbar.appendChild(buttonGroup);\n",
       "    }\n",
       "\n",
       "    var fmt_picker = document.createElement('select');\n",
       "    fmt_picker.classList = 'mpl-widget';\n",
       "    toolbar.appendChild(fmt_picker);\n",
       "    this.format_dropdown = fmt_picker;\n",
       "\n",
       "    for (var ind in mpl.extensions) {\n",
       "        var fmt = mpl.extensions[ind];\n",
       "        var option = document.createElement('option');\n",
       "        option.selected = fmt === mpl.default_extension;\n",
       "        option.innerHTML = fmt;\n",
       "        fmt_picker.appendChild(option);\n",
       "    }\n",
       "\n",
       "    var status_bar = document.createElement('span');\n",
       "    status_bar.classList = 'mpl-message';\n",
       "    toolbar.appendChild(status_bar);\n",
       "    this.message = status_bar;\n",
       "};\n",
       "\n",
       "mpl.figure.prototype.request_resize = function (x_pixels, y_pixels) {\n",
       "    // Request matplotlib to resize the figure. Matplotlib will then trigger a resize in the client,\n",
       "    // which will in turn request a refresh of the image.\n",
       "    this.send_message('resize', { width: x_pixels, height: y_pixels });\n",
       "};\n",
       "\n",
       "mpl.figure.prototype.send_message = function (type, properties) {\n",
       "    properties['type'] = type;\n",
       "    properties['figure_id'] = this.id;\n",
       "    this.ws.send(JSON.stringify(properties));\n",
       "};\n",
       "\n",
       "mpl.figure.prototype.send_draw_message = function () {\n",
       "    if (!this.waiting) {\n",
       "        this.waiting = true;\n",
       "        this.ws.send(JSON.stringify({ type: 'draw', figure_id: this.id }));\n",
       "    }\n",
       "};\n",
       "\n",
       "mpl.figure.prototype.handle_save = function (fig, _msg) {\n",
       "    var format_dropdown = fig.format_dropdown;\n",
       "    var format = format_dropdown.options[format_dropdown.selectedIndex].value;\n",
       "    fig.ondownload(fig, format);\n",
       "};\n",
       "\n",
       "mpl.figure.prototype.handle_resize = function (fig, msg) {\n",
       "    var size = msg['size'];\n",
       "    if (size[0] !== fig.canvas.width || size[1] !== fig.canvas.height) {\n",
       "        fig._resize_canvas(size[0], size[1], msg['forward']);\n",
       "        fig.send_message('refresh', {});\n",
       "    }\n",
       "};\n",
       "\n",
       "mpl.figure.prototype.handle_rubberband = function (fig, msg) {\n",
       "    var x0 = msg['x0'] / fig.ratio;\n",
       "    var y0 = (fig.canvas.height - msg['y0']) / fig.ratio;\n",
       "    var x1 = msg['x1'] / fig.ratio;\n",
       "    var y1 = (fig.canvas.height - msg['y1']) / fig.ratio;\n",
       "    x0 = Math.floor(x0) + 0.5;\n",
       "    y0 = Math.floor(y0) + 0.5;\n",
       "    x1 = Math.floor(x1) + 0.5;\n",
       "    y1 = Math.floor(y1) + 0.5;\n",
       "    var min_x = Math.min(x0, x1);\n",
       "    var min_y = Math.min(y0, y1);\n",
       "    var width = Math.abs(x1 - x0);\n",
       "    var height = Math.abs(y1 - y0);\n",
       "\n",
       "    fig.rubberband_context.clearRect(\n",
       "        0,\n",
       "        0,\n",
       "        fig.canvas.width / fig.ratio,\n",
       "        fig.canvas.height / fig.ratio\n",
       "    );\n",
       "\n",
       "    fig.rubberband_context.strokeRect(min_x, min_y, width, height);\n",
       "};\n",
       "\n",
       "mpl.figure.prototype.handle_figure_label = function (fig, msg) {\n",
       "    // Updates the figure title.\n",
       "    fig.header.textContent = msg['label'];\n",
       "};\n",
       "\n",
       "mpl.figure.prototype.handle_cursor = function (fig, msg) {\n",
       "    var cursor = msg['cursor'];\n",
       "    switch (cursor) {\n",
       "        case 0:\n",
       "            cursor = 'pointer';\n",
       "            break;\n",
       "        case 1:\n",
       "            cursor = 'default';\n",
       "            break;\n",
       "        case 2:\n",
       "            cursor = 'crosshair';\n",
       "            break;\n",
       "        case 3:\n",
       "            cursor = 'move';\n",
       "            break;\n",
       "    }\n",
       "    fig.rubberband_canvas.style.cursor = cursor;\n",
       "};\n",
       "\n",
       "mpl.figure.prototype.handle_message = function (fig, msg) {\n",
       "    fig.message.textContent = msg['message'];\n",
       "};\n",
       "\n",
       "mpl.figure.prototype.handle_draw = function (fig, _msg) {\n",
       "    // Request the server to send over a new figure.\n",
       "    fig.send_draw_message();\n",
       "};\n",
       "\n",
       "mpl.figure.prototype.handle_image_mode = function (fig, msg) {\n",
       "    fig.image_mode = msg['mode'];\n",
       "};\n",
       "\n",
       "mpl.figure.prototype.handle_history_buttons = function (fig, msg) {\n",
       "    for (var key in msg) {\n",
       "        if (!(key in fig.buttons)) {\n",
       "            continue;\n",
       "        }\n",
       "        fig.buttons[key].disabled = !msg[key];\n",
       "        fig.buttons[key].setAttribute('aria-disabled', !msg[key]);\n",
       "    }\n",
       "};\n",
       "\n",
       "mpl.figure.prototype.handle_navigate_mode = function (fig, msg) {\n",
       "    if (msg['mode'] === 'PAN') {\n",
       "        fig.buttons['Pan'].classList.add('active');\n",
       "        fig.buttons['Zoom'].classList.remove('active');\n",
       "    } else if (msg['mode'] === 'ZOOM') {\n",
       "        fig.buttons['Pan'].classList.remove('active');\n",
       "        fig.buttons['Zoom'].classList.add('active');\n",
       "    } else {\n",
       "        fig.buttons['Pan'].classList.remove('active');\n",
       "        fig.buttons['Zoom'].classList.remove('active');\n",
       "    }\n",
       "};\n",
       "\n",
       "mpl.figure.prototype.updated_canvas_event = function () {\n",
       "    // Called whenever the canvas gets updated.\n",
       "    this.send_message('ack', {});\n",
       "};\n",
       "\n",
       "// A function to construct a web socket function for onmessage handling.\n",
       "// Called in the figure constructor.\n",
       "mpl.figure.prototype._make_on_message_function = function (fig) {\n",
       "    return function socket_on_message(evt) {\n",
       "        if (evt.data instanceof Blob) {\n",
       "            var img = evt.data;\n",
       "            if (img.type !== 'image/png') {\n",
       "                /* FIXME: We get \"Resource interpreted as Image but\n",
       "                 * transferred with MIME type text/plain:\" errors on\n",
       "                 * Chrome.  But how to set the MIME type?  It doesn't seem\n",
       "                 * to be part of the websocket stream */\n",
       "                img.type = 'image/png';\n",
       "            }\n",
       "\n",
       "            /* Free the memory for the previous frames */\n",
       "            if (fig.imageObj.src) {\n",
       "                (window.URL || window.webkitURL).revokeObjectURL(\n",
       "                    fig.imageObj.src\n",
       "                );\n",
       "            }\n",
       "\n",
       "            fig.imageObj.src = (window.URL || window.webkitURL).createObjectURL(\n",
       "                img\n",
       "            );\n",
       "            fig.updated_canvas_event();\n",
       "            fig.waiting = false;\n",
       "            return;\n",
       "        } else if (\n",
       "            typeof evt.data === 'string' &&\n",
       "            evt.data.slice(0, 21) === 'data:image/png;base64'\n",
       "        ) {\n",
       "            fig.imageObj.src = evt.data;\n",
       "            fig.updated_canvas_event();\n",
       "            fig.waiting = false;\n",
       "            return;\n",
       "        }\n",
       "\n",
       "        var msg = JSON.parse(evt.data);\n",
       "        var msg_type = msg['type'];\n",
       "\n",
       "        // Call the  \"handle_{type}\" callback, which takes\n",
       "        // the figure and JSON message as its only arguments.\n",
       "        try {\n",
       "            var callback = fig['handle_' + msg_type];\n",
       "        } catch (e) {\n",
       "            console.log(\n",
       "                \"No handler for the '\" + msg_type + \"' message type: \",\n",
       "                msg\n",
       "            );\n",
       "            return;\n",
       "        }\n",
       "\n",
       "        if (callback) {\n",
       "            try {\n",
       "                // console.log(\"Handling '\" + msg_type + \"' message: \", msg);\n",
       "                callback(fig, msg);\n",
       "            } catch (e) {\n",
       "                console.log(\n",
       "                    \"Exception inside the 'handler_\" + msg_type + \"' callback:\",\n",
       "                    e,\n",
       "                    e.stack,\n",
       "                    msg\n",
       "                );\n",
       "            }\n",
       "        }\n",
       "    };\n",
       "};\n",
       "\n",
       "// from http://stackoverflow.com/questions/1114465/getting-mouse-location-in-canvas\n",
       "mpl.findpos = function (e) {\n",
       "    //this section is from http://www.quirksmode.org/js/events_properties.html\n",
       "    var targ;\n",
       "    if (!e) {\n",
       "        e = window.event;\n",
       "    }\n",
       "    if (e.target) {\n",
       "        targ = e.target;\n",
       "    } else if (e.srcElement) {\n",
       "        targ = e.srcElement;\n",
       "    }\n",
       "    if (targ.nodeType === 3) {\n",
       "        // defeat Safari bug\n",
       "        targ = targ.parentNode;\n",
       "    }\n",
       "\n",
       "    // pageX,Y are the mouse positions relative to the document\n",
       "    var boundingRect = targ.getBoundingClientRect();\n",
       "    var x = e.pageX - (boundingRect.left + document.body.scrollLeft);\n",
       "    var y = e.pageY - (boundingRect.top + document.body.scrollTop);\n",
       "\n",
       "    return { x: x, y: y };\n",
       "};\n",
       "\n",
       "/*\n",
       " * return a copy of an object with only non-object keys\n",
       " * we need this to avoid circular references\n",
       " * http://stackoverflow.com/a/24161582/3208463\n",
       " */\n",
       "function simpleKeys(original) {\n",
       "    return Object.keys(original).reduce(function (obj, key) {\n",
       "        if (typeof original[key] !== 'object') {\n",
       "            obj[key] = original[key];\n",
       "        }\n",
       "        return obj;\n",
       "    }, {});\n",
       "}\n",
       "\n",
       "mpl.figure.prototype.mouse_event = function (event, name) {\n",
       "    var canvas_pos = mpl.findpos(event);\n",
       "\n",
       "    if (name === 'button_press') {\n",
       "        this.canvas.focus();\n",
       "        this.canvas_div.focus();\n",
       "    }\n",
       "\n",
       "    var x = canvas_pos.x * this.ratio;\n",
       "    var y = canvas_pos.y * this.ratio;\n",
       "\n",
       "    this.send_message(name, {\n",
       "        x: x,\n",
       "        y: y,\n",
       "        button: event.button,\n",
       "        step: event.step,\n",
       "        guiEvent: simpleKeys(event),\n",
       "    });\n",
       "\n",
       "    /* This prevents the web browser from automatically changing to\n",
       "     * the text insertion cursor when the button is pressed.  We want\n",
       "     * to control all of the cursor setting manually through the\n",
       "     * 'cursor' event from matplotlib */\n",
       "    event.preventDefault();\n",
       "    return false;\n",
       "};\n",
       "\n",
       "mpl.figure.prototype._key_event_extra = function (_event, _name) {\n",
       "    // Handle any extra behaviour associated with a key event\n",
       "};\n",
       "\n",
       "mpl.figure.prototype.key_event = function (event, name) {\n",
       "    // Prevent repeat events\n",
       "    if (name === 'key_press') {\n",
       "        if (event.key === this._key) {\n",
       "            return;\n",
       "        } else {\n",
       "            this._key = event.key;\n",
       "        }\n",
       "    }\n",
       "    if (name === 'key_release') {\n",
       "        this._key = null;\n",
       "    }\n",
       "\n",
       "    var value = '';\n",
       "    if (event.ctrlKey && event.key !== 'Control') {\n",
       "        value += 'ctrl+';\n",
       "    }\n",
       "    else if (event.altKey && event.key !== 'Alt') {\n",
       "        value += 'alt+';\n",
       "    }\n",
       "    else if (event.shiftKey && event.key !== 'Shift') {\n",
       "        value += 'shift+';\n",
       "    }\n",
       "\n",
       "    value += 'k' + event.key;\n",
       "\n",
       "    this._key_event_extra(event, name);\n",
       "\n",
       "    this.send_message(name, { key: value, guiEvent: simpleKeys(event) });\n",
       "    return false;\n",
       "};\n",
       "\n",
       "mpl.figure.prototype.toolbar_button_onclick = function (name) {\n",
       "    if (name === 'download') {\n",
       "        this.handle_save(this, null);\n",
       "    } else {\n",
       "        this.send_message('toolbar_button', { name: name });\n",
       "    }\n",
       "};\n",
       "\n",
       "mpl.figure.prototype.toolbar_button_onmouseover = function (tooltip) {\n",
       "    this.message.textContent = tooltip;\n",
       "};\n",
       "\n",
       "///////////////// REMAINING CONTENT GENERATED BY embed_js.py /////////////////\n",
       "// prettier-ignore\n",
       "var _JSXTOOLS_RESIZE_OBSERVER=function(A){var t,i=new WeakMap,n=new WeakMap,a=new WeakMap,r=new WeakMap,o=new Set;function s(e){if(!(this instanceof s))throw new TypeError(\"Constructor requires 'new' operator\");i.set(this,e)}function h(){throw new TypeError(\"Function is not a constructor\")}function c(e,t,i,n){e=0 in arguments?Number(arguments[0]):0,t=1 in arguments?Number(arguments[1]):0,i=2 in arguments?Number(arguments[2]):0,n=3 in arguments?Number(arguments[3]):0,this.right=(this.x=this.left=e)+(this.width=i),this.bottom=(this.y=this.top=t)+(this.height=n),Object.freeze(this)}function d(){t=requestAnimationFrame(d);var s=new WeakMap,p=new Set;o.forEach((function(t){r.get(t).forEach((function(i){var r=t instanceof window.SVGElement,o=a.get(t),d=r?0:parseFloat(o.paddingTop),f=r?0:parseFloat(o.paddingRight),l=r?0:parseFloat(o.paddingBottom),u=r?0:parseFloat(o.paddingLeft),g=r?0:parseFloat(o.borderTopWidth),m=r?0:parseFloat(o.borderRightWidth),w=r?0:parseFloat(o.borderBottomWidth),b=u+f,F=d+l,v=(r?0:parseFloat(o.borderLeftWidth))+m,W=g+w,y=r?0:t.offsetHeight-W-t.clientHeight,E=r?0:t.offsetWidth-v-t.clientWidth,R=b+v,z=F+W,M=r?t.width:parseFloat(o.width)-R-E,O=r?t.height:parseFloat(o.height)-z-y;if(n.has(t)){var k=n.get(t);if(k[0]===M&&k[1]===O)return}n.set(t,[M,O]);var S=Object.create(h.prototype);S.target=t,S.contentRect=new c(u,d,M,O),s.has(i)||(s.set(i,[]),p.add(i)),s.get(i).push(S)}))})),p.forEach((function(e){i.get(e).call(e,s.get(e),e)}))}return s.prototype.observe=function(i){if(i instanceof window.Element){r.has(i)||(r.set(i,new Set),o.add(i),a.set(i,window.getComputedStyle(i)));var n=r.get(i);n.has(this)||n.add(this),cancelAnimationFrame(t),t=requestAnimationFrame(d)}},s.prototype.unobserve=function(i){if(i instanceof window.Element&&r.has(i)){var n=r.get(i);n.has(this)&&(n.delete(this),n.size||(r.delete(i),o.delete(i))),n.size||r.delete(i),o.size||cancelAnimationFrame(t)}},A.DOMRectReadOnly=c,A.ResizeObserver=s,A.ResizeObserverEntry=h,A}; // eslint-disable-line\n",
       "mpl.toolbar_items = [[\"Home\", \"Reset original view\", \"fa fa-home icon-home\", \"home\"], [\"Back\", \"Back to previous view\", \"fa fa-arrow-left icon-arrow-left\", \"back\"], [\"Forward\", \"Forward to next view\", \"fa fa-arrow-right icon-arrow-right\", \"forward\"], [\"\", \"\", \"\", \"\"], [\"Pan\", \"Left button pans, Right button zooms\\nx/y fixes axis, CTRL fixes aspect\", \"fa fa-arrows icon-move\", \"pan\"], [\"Zoom\", \"Zoom to rectangle\\nx/y fixes axis, CTRL fixes aspect\", \"fa fa-square-o icon-check-empty\", \"zoom\"], [\"\", \"\", \"\", \"\"], [\"Download\", \"Download plot\", \"fa fa-floppy-o icon-save\", \"download\"]];\n",
       "\n",
       "mpl.extensions = [\"eps\", \"jpeg\", \"pgf\", \"pdf\", \"png\", \"ps\", \"raw\", \"svg\", \"tif\"];\n",
       "\n",
       "mpl.default_extension = \"png\";/* global mpl */\n",
       "\n",
       "var comm_websocket_adapter = function (comm) {\n",
       "    // Create a \"websocket\"-like object which calls the given IPython comm\n",
       "    // object with the appropriate methods. Currently this is a non binary\n",
       "    // socket, so there is still some room for performance tuning.\n",
       "    var ws = {};\n",
       "\n",
       "    ws.binaryType = comm.kernel.ws.binaryType;\n",
       "    ws.readyState = comm.kernel.ws.readyState;\n",
       "    function updateReadyState(_event) {\n",
       "        if (comm.kernel.ws) {\n",
       "            ws.readyState = comm.kernel.ws.readyState;\n",
       "        } else {\n",
       "            ws.readyState = 3; // Closed state.\n",
       "        }\n",
       "    }\n",
       "    comm.kernel.ws.addEventListener('open', updateReadyState);\n",
       "    comm.kernel.ws.addEventListener('close', updateReadyState);\n",
       "    comm.kernel.ws.addEventListener('error', updateReadyState);\n",
       "\n",
       "    ws.close = function () {\n",
       "        comm.close();\n",
       "    };\n",
       "    ws.send = function (m) {\n",
       "        //console.log('sending', m);\n",
       "        comm.send(m);\n",
       "    };\n",
       "    // Register the callback with on_msg.\n",
       "    comm.on_msg(function (msg) {\n",
       "        //console.log('receiving', msg['content']['data'], msg);\n",
       "        var data = msg['content']['data'];\n",
       "        if (data['blob'] !== undefined) {\n",
       "            data = {\n",
       "                data: new Blob(msg['buffers'], { type: data['blob'] }),\n",
       "            };\n",
       "        }\n",
       "        // Pass the mpl event to the overridden (by mpl) onmessage function.\n",
       "        ws.onmessage(data);\n",
       "    });\n",
       "    return ws;\n",
       "};\n",
       "\n",
       "mpl.mpl_figure_comm = function (comm, msg) {\n",
       "    // This is the function which gets called when the mpl process\n",
       "    // starts-up an IPython Comm through the \"matplotlib\" channel.\n",
       "\n",
       "    var id = msg.content.data.id;\n",
       "    // Get hold of the div created by the display call when the Comm\n",
       "    // socket was opened in Python.\n",
       "    var element = document.getElementById(id);\n",
       "    var ws_proxy = comm_websocket_adapter(comm);\n",
       "\n",
       "    function ondownload(figure, _format) {\n",
       "        window.open(figure.canvas.toDataURL());\n",
       "    }\n",
       "\n",
       "    var fig = new mpl.figure(id, ws_proxy, ondownload, element);\n",
       "\n",
       "    // Call onopen now - mpl needs it, as it is assuming we've passed it a real\n",
       "    // web socket which is closed, not our websocket->open comm proxy.\n",
       "    ws_proxy.onopen();\n",
       "\n",
       "    fig.parent_element = element;\n",
       "    fig.cell_info = mpl.find_output_cell(\"<div id='\" + id + \"'></div>\");\n",
       "    if (!fig.cell_info) {\n",
       "        console.error('Failed to find cell for figure', id, fig);\n",
       "        return;\n",
       "    }\n",
       "    fig.cell_info[0].output_area.element.on(\n",
       "        'cleared',\n",
       "        { fig: fig },\n",
       "        fig._remove_fig_handler\n",
       "    );\n",
       "};\n",
       "\n",
       "mpl.figure.prototype.handle_close = function (fig, msg) {\n",
       "    var width = fig.canvas.width / fig.ratio;\n",
       "    fig.cell_info[0].output_area.element.off(\n",
       "        'cleared',\n",
       "        fig._remove_fig_handler\n",
       "    );\n",
       "    fig.resizeObserverInstance.unobserve(fig.canvas_div);\n",
       "\n",
       "    // Update the output cell to use the data from the current canvas.\n",
       "    fig.push_to_output();\n",
       "    var dataURL = fig.canvas.toDataURL();\n",
       "    // Re-enable the keyboard manager in IPython - without this line, in FF,\n",
       "    // the notebook keyboard shortcuts fail.\n",
       "    IPython.keyboard_manager.enable();\n",
       "    fig.parent_element.innerHTML =\n",
       "        '<img src=\"' + dataURL + '\" width=\"' + width + '\">';\n",
       "    fig.close_ws(fig, msg);\n",
       "};\n",
       "\n",
       "mpl.figure.prototype.close_ws = function (fig, msg) {\n",
       "    fig.send_message('closing', msg);\n",
       "    // fig.ws.close()\n",
       "};\n",
       "\n",
       "mpl.figure.prototype.push_to_output = function (_remove_interactive) {\n",
       "    // Turn the data on the canvas into data in the output cell.\n",
       "    var width = this.canvas.width / this.ratio;\n",
       "    var dataURL = this.canvas.toDataURL();\n",
       "    this.cell_info[1]['text/html'] =\n",
       "        '<img src=\"' + dataURL + '\" width=\"' + width + '\">';\n",
       "};\n",
       "\n",
       "mpl.figure.prototype.updated_canvas_event = function () {\n",
       "    // Tell IPython that the notebook contents must change.\n",
       "    IPython.notebook.set_dirty(true);\n",
       "    this.send_message('ack', {});\n",
       "    var fig = this;\n",
       "    // Wait a second, then push the new image to the DOM so\n",
       "    // that it is saved nicely (might be nice to debounce this).\n",
       "    setTimeout(function () {\n",
       "        fig.push_to_output();\n",
       "    }, 1000);\n",
       "};\n",
       "\n",
       "mpl.figure.prototype._init_toolbar = function () {\n",
       "    var fig = this;\n",
       "\n",
       "    var toolbar = document.createElement('div');\n",
       "    toolbar.classList = 'btn-toolbar';\n",
       "    this.root.appendChild(toolbar);\n",
       "\n",
       "    function on_click_closure(name) {\n",
       "        return function (_event) {\n",
       "            return fig.toolbar_button_onclick(name);\n",
       "        };\n",
       "    }\n",
       "\n",
       "    function on_mouseover_closure(tooltip) {\n",
       "        return function (event) {\n",
       "            if (!event.currentTarget.disabled) {\n",
       "                return fig.toolbar_button_onmouseover(tooltip);\n",
       "            }\n",
       "        };\n",
       "    }\n",
       "\n",
       "    fig.buttons = {};\n",
       "    var buttonGroup = document.createElement('div');\n",
       "    buttonGroup.classList = 'btn-group';\n",
       "    var button;\n",
       "    for (var toolbar_ind in mpl.toolbar_items) {\n",
       "        var name = mpl.toolbar_items[toolbar_ind][0];\n",
       "        var tooltip = mpl.toolbar_items[toolbar_ind][1];\n",
       "        var image = mpl.toolbar_items[toolbar_ind][2];\n",
       "        var method_name = mpl.toolbar_items[toolbar_ind][3];\n",
       "\n",
       "        if (!name) {\n",
       "            /* Instead of a spacer, we start a new button group. */\n",
       "            if (buttonGroup.hasChildNodes()) {\n",
       "                toolbar.appendChild(buttonGroup);\n",
       "            }\n",
       "            buttonGroup = document.createElement('div');\n",
       "            buttonGroup.classList = 'btn-group';\n",
       "            continue;\n",
       "        }\n",
       "\n",
       "        button = fig.buttons[name] = document.createElement('button');\n",
       "        button.classList = 'btn btn-default';\n",
       "        button.href = '#';\n",
       "        button.title = name;\n",
       "        button.innerHTML = '<i class=\"fa ' + image + ' fa-lg\"></i>';\n",
       "        button.addEventListener('click', on_click_closure(method_name));\n",
       "        button.addEventListener('mouseover', on_mouseover_closure(tooltip));\n",
       "        buttonGroup.appendChild(button);\n",
       "    }\n",
       "\n",
       "    if (buttonGroup.hasChildNodes()) {\n",
       "        toolbar.appendChild(buttonGroup);\n",
       "    }\n",
       "\n",
       "    // Add the status bar.\n",
       "    var status_bar = document.createElement('span');\n",
       "    status_bar.classList = 'mpl-message pull-right';\n",
       "    toolbar.appendChild(status_bar);\n",
       "    this.message = status_bar;\n",
       "\n",
       "    // Add the close button to the window.\n",
       "    var buttongrp = document.createElement('div');\n",
       "    buttongrp.classList = 'btn-group inline pull-right';\n",
       "    button = document.createElement('button');\n",
       "    button.classList = 'btn btn-mini btn-primary';\n",
       "    button.href = '#';\n",
       "    button.title = 'Stop Interaction';\n",
       "    button.innerHTML = '<i class=\"fa fa-power-off icon-remove icon-large\"></i>';\n",
       "    button.addEventListener('click', function (_evt) {\n",
       "        fig.handle_close(fig, {});\n",
       "    });\n",
       "    button.addEventListener(\n",
       "        'mouseover',\n",
       "        on_mouseover_closure('Stop Interaction')\n",
       "    );\n",
       "    buttongrp.appendChild(button);\n",
       "    var titlebar = this.root.querySelector('.ui-dialog-titlebar');\n",
       "    titlebar.insertBefore(buttongrp, titlebar.firstChild);\n",
       "};\n",
       "\n",
       "mpl.figure.prototype._remove_fig_handler = function (event) {\n",
       "    var fig = event.data.fig;\n",
       "    if (event.target !== this) {\n",
       "        // Ignore bubbled events from children.\n",
       "        return;\n",
       "    }\n",
       "    fig.close_ws(fig, {});\n",
       "};\n",
       "\n",
       "mpl.figure.prototype._root_extra_style = function (el) {\n",
       "    el.style.boxSizing = 'content-box'; // override notebook setting of border-box.\n",
       "};\n",
       "\n",
       "mpl.figure.prototype._canvas_extra_style = function (el) {\n",
       "    // this is important to make the div 'focusable\n",
       "    el.setAttribute('tabindex', 0);\n",
       "    // reach out to IPython and tell the keyboard manager to turn it's self\n",
       "    // off when our div gets focus\n",
       "\n",
       "    // location in version 3\n",
       "    if (IPython.notebook.keyboard_manager) {\n",
       "        IPython.notebook.keyboard_manager.register_events(el);\n",
       "    } else {\n",
       "        // location in version 2\n",
       "        IPython.keyboard_manager.register_events(el);\n",
       "    }\n",
       "};\n",
       "\n",
       "mpl.figure.prototype._key_event_extra = function (event, _name) {\n",
       "    var manager = IPython.notebook.keyboard_manager;\n",
       "    if (!manager) {\n",
       "        manager = IPython.keyboard_manager;\n",
       "    }\n",
       "\n",
       "    // Check for shift+enter\n",
       "    if (event.shiftKey && event.which === 13) {\n",
       "        this.canvas_div.blur();\n",
       "        // select the cell after this one\n",
       "        var index = IPython.notebook.find_cell_index(this.cell_info[0]);\n",
       "        IPython.notebook.select(index + 1);\n",
       "    }\n",
       "};\n",
       "\n",
       "mpl.figure.prototype.handle_save = function (fig, _msg) {\n",
       "    fig.ondownload(fig, null);\n",
       "};\n",
       "\n",
       "mpl.find_output_cell = function (html_output) {\n",
       "    // Return the cell and output element which can be found *uniquely* in the notebook.\n",
       "    // Note - this is a bit hacky, but it is done because the \"notebook_saving.Notebook\"\n",
       "    // IPython event is triggered only after the cells have been serialised, which for\n",
       "    // our purposes (turning an active figure into a static one), is too late.\n",
       "    var cells = IPython.notebook.get_cells();\n",
       "    var ncells = cells.length;\n",
       "    for (var i = 0; i < ncells; i++) {\n",
       "        var cell = cells[i];\n",
       "        if (cell.cell_type === 'code') {\n",
       "            for (var j = 0; j < cell.output_area.outputs.length; j++) {\n",
       "                var data = cell.output_area.outputs[j];\n",
       "                if (data.data) {\n",
       "                    // IPython >= 3 moved mimebundle to data attribute of output\n",
       "                    data = data.data;\n",
       "                }\n",
       "                if (data['text/html'] === html_output) {\n",
       "                    return [cell, data, j];\n",
       "                }\n",
       "            }\n",
       "        }\n",
       "    }\n",
       "};\n",
       "\n",
       "// Register the function which deals with the matplotlib target/channel.\n",
       "// The kernel may be null if the page has been refreshed.\n",
       "if (IPython.notebook.kernel !== null) {\n",
       "    IPython.notebook.kernel.comm_manager.register_target(\n",
       "        'matplotlib',\n",
       "        mpl.mpl_figure_comm\n",
       "    );\n",
       "}\n"
      ],
      "text/plain": [
       "<IPython.core.display.Javascript object>"
      ]
     },
     "metadata": {},
     "output_type": "display_data"
    },
    {
     "data": {
      "text/html": [
       "<img src=\"data:image/png;base64,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\" width=\"1000\">"
      ],
      "text/plain": [
       "<IPython.core.display.HTML object>"
      ]
     },
     "metadata": {},
     "output_type": "display_data"
    },
    {
     "data": {
      "application/vnd.jupyter.widget-view+json": {
       "model_id": "70fe515a2ec540b09cea134157ec90a9",
       "version_major": 2,
       "version_minor": 0
      },
      "text/plain": [
       "interactive(children=(FloatSlider(value=2.0, description='$\\\\alpha$ :', max=40.0, min=0.1), FloatSlider(value=…"
      ]
     },
     "metadata": {},
     "output_type": "display_data"
    }
   ],
   "source": [
    "import math\n",
    "import numpy as np\n",
    "import matplotlib.pyplot as plt\n",
    "from ipywidgets import interact ,interactive, fixed, interact_manual\n",
    "import ipywidgets as widgets\n",
    "%matplotlib nbagg\n",
    "\n",
    "\n",
    "def GammaPDFGraph(alpa,lamda):\n",
    "    plt.plot(x,(lamda*np.exp(-lamda*x)*(lamda*x)**(alpa-1))/math.gamma(alpa),label=r\"$\\alpha$={0} $\\lambda$={1}\".format(alpa,lamda))\n",
    "    plt.legend(loc='upper right')\n",
    "\n",
    "\n",
    "Infty0=100   \n",
    "x=np.linspace(0,Infty0,10000)\n",
    "plt.figure(figsize=(10,8))\n",
    "plt.title(\"Gamma Distribution\")\n",
    "plt.xlabel(\"$x$\")\n",
    "plt.ylabel(\"$f_X(x)$\")\n",
    "plt.yticks([0,0.5,1,1.5,2])\n",
    "plt.xlim(0,20)\n",
    "plt.ylim(0,2)\n",
    "plt.show()\n",
    "\n",
    "#interact(GammaPDFGraph,alpa=widgets.FloatSlider(min=0.5, max=50, step=0.5, value=1,description=r'$\\alpha$ :'),lamda=widgets.FloatSlider(min=0.5, max=5, step=0.5, value=2,description=r'$\\lambda$:'))\n",
    "interactive(GammaPDFGraph,{'manual':True},alpa=widgets.FloatSlider(min=0.1, max=40, step=0.1, value=2,description=r'$\\alpha$ :'),lamda=widgets.FloatSlider(min=0.1, max=10, step=0.1, value=2,description=r'$\\lambda$:'))\n",
    "    "
   ]
  },
  {
   "cell_type": "markdown",
   "metadata": {},
   "source": [
    "**Problem:** The CPU time requirement $T$ for jobs has a Gamma distribution with mean $\\mu=40$ seconds, and standard deviation $\\sigma=20$ seconds.A job taken less than 20 seconds is a shorter job. What is the probability that of 5 randomly selected jobs, at least 2 are short jobs."
   ]
  },
  {
   "cell_type": "markdown",
   "metadata": {},
   "source": [
    "*solution:* Here $T\\sim Gamma(\\alpha,\\lambda)$,&nbsp; $\\mu=\\frac{\\alpha}{\\lambda}=40$----(1), and $\\sigma^2=\\frac{\\alpha}{\\lambda^2}=(20)^2$----(2)   &nbsp;($\\because$ $\\sigma=20$)"
   ]
  },
  {
   "cell_type": "markdown",
   "metadata": {},
   "source": [
    "(1)/(2) $\\Rightarrow$ $\\frac{\\frac{\\alpha}{\\lambda}}{\\frac{\\alpha}{\\lambda^2}}=\\frac{40}{400}\\Rightarrow \\lambda=\\frac{1}{10}$"
   ]
  },
  {
   "cell_type": "markdown",
   "metadata": {},
   "source": [
    "(1)$\\Rightarrow$ $\\frac{\\alpha}{\\frac{1}{10}}=40\\Rightarrow \\alpha=4$"
   ]
  },
  {
   "cell_type": "markdown",
   "metadata": {},
   "source": [
    "$\\therefore$ $T\\sim Gamma(4,\\frac{1}{10})$"
   ]
  },
  {
   "cell_type": "markdown",
   "metadata": {},
   "source": [
    "$f_T(t)=\\left\\{\\begin{matrix}\n",
    " \\frac{\\frac{1}{10}\\left(\\frac{t}{10}\\right)^{3}e^{-\\frac{t}{10}}}{3!}& t>0\\\\ \n",
    " 0& t\\le 0\n",
    "\\end{matrix}\\right.$"
   ]
  },
  {
   "cell_type": "markdown",
   "metadata": {},
   "source": [
    "Let $A$ be the event that a randomly selected job is short job."
   ]
  },
  {
   "cell_type": "markdown",
   "metadata": {},
   "source": [
    "Let $p=P(A)=P(T<20)=\\frac{1}{60}\\int_{0}^{20}\\left(\\frac{t}{10}\\right)^3e^{-\\frac{t}{10}}dt$"
   ]
  },
  {
   "cell_type": "markdown",
   "metadata": {},
   "source": [
    "Take $y=\\frac{t}{10}\\Rightarrow$ $dy=\\frac{dt}{10}$ and $y$ limits from 0 to 2"
   ]
  },
  {
   "cell_type": "markdown",
   "metadata": {},
   "source": [
    "$p=\\frac{1}{6}\\int_{0}^{2}y^3e^{-y}dy=\\frac{1}{6}\\int_{0}^{2}y^3d(-e^{-y})$"
   ]
  },
  {
   "cell_type": "markdown",
   "metadata": {},
   "source": [
    "&nbsp; &nbsp; &nbsp;$=\\frac{1}{6}\\left[\\left[y^3(-e^{-y})\\right]_{0}^{2}-\\int_{0}^{2}(-e^{-y})3y^2dy\\right]$ &nbsp; &nbsp; $\\left[\\therefore\\int_{a}^{b}udv=[uv]_{a}^{b}-\\int_{a}^{b}vdu\\right]$"
   ]
  },
  {
   "cell_type": "markdown",
   "metadata": {},
   "source": [
    "&nbsp; &nbsp; &nbsp;$=\\frac{1}{6}\\left[2^3\\left[-e^{-2}-0\\right]+3\\int_{0}^{2}y^2d(-e^{-y})dy\\right]$"
   ]
  },
  {
   "cell_type": "markdown",
   "metadata": {},
   "source": [
    "&nbsp; &nbsp; &nbsp;$=\\frac{-8}{6e^2}+\\frac{3}{6}\\left(\\left[y^2(-e^{-y})\\right]_{0}^{2}-\\int_{0}^{2}(-e^{-y}2y dy)\\right)$"
   ]
  },
  {
   "cell_type": "markdown",
   "metadata": {},
   "source": [
    "&nbsp; &nbsp; &nbsp;$=\\frac{-4}{3e^2}+\\frac{1}{2}\\left(\\left[2^2(-e^{-2}-0)+2\\int_{0}^{2}yd(-e^{-y})\\right]\\right)$"
   ]
  },
  {
   "cell_type": "markdown",
   "metadata": {},
   "source": [
    "&nbsp; &nbsp; &nbsp;$=\\frac{-4}{3e^2}-\\frac{2}{e^2}+\\left[y(-e^{-y})\\right]_{0}^{2}-\\int_{0}^{2}(-e^{-y}dy)$"
   ]
  },
  {
   "cell_type": "markdown",
   "metadata": {},
   "source": [
    "&nbsp; &nbsp; &nbsp;$=\\frac{-4}{3e^2}-\\frac{2}{e^2}+\\left[2(-e^{-y}-0)\\right]+\\left[-e^{-y}\\right]_{0}^{2}$"
   ]
  },
  {
   "cell_type": "markdown",
   "metadata": {},
   "source": [
    "&nbsp; &nbsp; &nbsp;$=\\frac{-4}{3e^2}-\\frac{2}{e^2}-\\frac{2}{e^2}+\\left[-e^{-2}+1\\right]$"
   ]
  },
  {
   "cell_type": "markdown",
   "metadata": {},
   "source": [
    "&nbsp; &nbsp; &nbsp;$=1-\\frac{4}{3e^2}-\\frac{5}{e^2}=1-\\frac{1}{e^2}\\left(\\frac{4+15}{3}\\right)=1-\\frac{19}{3e^2}=0.1428765$"
   ]
  },
  {
   "cell_type": "markdown",
   "metadata": {},
   "source": [
    "Let $X=$ number of short jobs out of 5 jobs, then $X\\sim Bin(5,0.1428)$ "
   ]
  },
  {
   "cell_type": "markdown",
   "metadata": {},
   "source": [
    "Here we are interested in $P(X\\ge 2)=?$"
   ]
  },
  {
   "cell_type": "markdown",
   "metadata": {},
   "source": [
    "$P(X\\ge 2)=1-P(X<2)=1-P(X=0)-P(X=1)$"
   ]
  },
  {
   "cell_type": "markdown",
   "metadata": {},
   "source": [
    "&nbsp; &nbsp; &nbsp;&nbsp; &nbsp; &nbsp; &nbsp;&nbsp; &nbsp; &nbsp; &nbsp;$=1-\\binom{5}{0}(0.1428)^0(1-0.1428)^5-\\binom{5}{1}(0.1428)^1(1-0.1428)^4\\approx0.1519$"
   ]
  },
  {
   "cell_type": "markdown",
   "metadata": {},
   "source": [
    "$\\therefore$ $P(X\\ge 2)=0.1519$"
   ]
  }
 ],
 "metadata": {
  "hide_input": false,
  "kernelspec": {
   "display_name": "Python 3 (ipykernel)",
   "language": "python",
   "name": "python3"
  },
  "language_info": {
   "codemirror_mode": {
    "name": "ipython",
    "version": 3
   },
   "file_extension": ".py",
   "mimetype": "text/x-python",
   "name": "python",
   "nbconvert_exporter": "python",
   "pygments_lexer": "ipython3",
   "version": "3.10.0"
  }
 },
 "nbformat": 4,
 "nbformat_minor": 4
}
