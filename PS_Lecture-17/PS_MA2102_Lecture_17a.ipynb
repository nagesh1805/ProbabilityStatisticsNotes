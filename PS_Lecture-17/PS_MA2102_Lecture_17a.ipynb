{
 "cells": [
  {
   "cell_type": "markdown",
   "metadata": {},
   "source": [
    "<h2 style=\"text-align:center\"> MA2102</h2>\n",
    "<h1 style=\"text-align:center\"> Probability and Statistics</h1>\n",
    "<h4 style=\"text-align:center\"> Lecture-17(Part-a)</h4>"
   ]
  },
  {
   "cell_type": "markdown",
   "metadata": {},
   "source": [
    "### Hyper Geometric Distribution:"
   ]
  },
  {
   "cell_type": "markdown",
   "metadata": {},
   "source": [
    " Suppose a population consist of $N$ items in which $M$ are type-I and remaining $N-M$ are type-II. $n$ items are drawn at random from the population without replacement. Let $X$ denote the number of items of type-I in the selection."
   ]
  },
  {
   "cell_type": "markdown",
   "metadata": {},
   "source": [
    "$S_X=\\{x:x\\text{ is an integer and }  max(0,n-(N-M))\\le x \\le min(M,n)\\}$"
   ]
  },
  {
   "cell_type": "markdown",
   "metadata": {},
   "source": [
    "$PMF:$ $p_X(x)=P(X=x)=\\frac{\\binom{M}{x}\\binom{N-M}{n-x}}{\\binom{N}{n}}$, $x\\in S_X$"
   ]
  },
  {
   "cell_type": "markdown",
   "metadata": {},
   "source": [
    "**Validity of PMF**"
   ]
  },
  {
   "cell_type": "markdown",
   "metadata": {},
   "source": [
    "- $p_X(x)>0$ for $x\\in S_X$"
   ]
  },
  {
   "cell_type": "markdown",
   "metadata": {},
   "source": [
    "- $\\sum_{x\\in S_X}p_X(x)=\\sum_{x\\in S_X}\\frac{\\binom{M}{x}\\binom{N-M}{n-x}}{\\binom{N}{n}}=\\frac{\\sum_{x\\in S_X}\\binom{M}{x}\\binom{N-M}{n-x}}{\\binom{N}{n}}=\\frac{\\binom{N}{n}}{\\binom{N}{n}}=1$ &nbsp; &nbsp;($\\because$ Vandermands identity)"
   ]
  },
  {
   "cell_type": "markdown",
   "metadata": {},
   "source": [
    "Here $X$ is said to have <b>Hyper Geometric distribution</b> with parameters $N$(population size), $M$(type-I items), $n$(sample size)"
   ]
  },
  {
   "cell_type": "markdown",
   "metadata": {},
   "source": [
    "**Notation:** $X\\sim HypGeom(N,M,n)$"
   ]
  },
  {
   "cell_type": "markdown",
   "metadata": {},
   "source": [
    "$E(X)=\\frac{nM}{N}$, and $Var(X)=\\frac{nM(N-M)(N-n)}{N^2(N-1)}$"
   ]
  },
  {
   "cell_type": "markdown",
   "metadata": {},
   "source": [
    "**Capture-Recapture Method:** Suppose we want to estimate the fish population in certain lake, then we can do the following procedure."
   ]
  },
  {
   "cell_type": "markdown",
   "metadata": {},
   "source": [
    "Let $N$(Unknown) be the to total fish in a lake. First we capture $M$ fish  from the lake, mark them and we release back to the lake (So these $M$ marked fish are our type-I). Next day we catch again $n$ fish at random locations of lake(so these $n$ fish is our sample)"
   ]
  },
  {
   "cell_type": "markdown",
   "metadata": {},
   "source": [
    "let $k$= number of marked fish from the sample(second catch)"
   ]
  },
  {
   "cell_type": "markdown",
   "metadata": {},
   "source": [
    "Here $N$ is unknown, and $M,n,k$ are known"
   ]
  },
  {
   "cell_type": "markdown",
   "metadata": {},
   "source": [
    "Now, lake has two types of fish (marked fish(type-I) and unmarked fish(type-II))"
   ]
  },
  {
   "cell_type": "markdown",
   "metadata": {},
   "source": [
    "Let $X$ denote the number of marked fish (type-I) in the sample(second catch)"
   ]
  },
  {
   "cell_type": "markdown",
   "metadata": {},
   "source": [
    "then $X\\sim HypGeom(N,M,n)$"
   ]
  },
  {
   "cell_type": "markdown",
   "metadata": {},
   "source": [
    "so, $E(X)\\approx k$  ($\\because$ Expected number of marked fish in the sample should be approximately close to $k$)"
   ]
  },
  {
   "cell_type": "markdown",
   "metadata": {},
   "source": [
    "$\\frac{Mn}{N}\\approx k$ $\\Rightarrow$ $N\\approx \\frac{Mn}{k}$  &nbsp; &nbsp;($\\because$ $E(X)=\\frac{nM}{N}$)"
   ]
  },
  {
   "cell_type": "markdown",
   "metadata": {},
   "source": [
    "$\\therefore$ Approximately lake will have $\\frac{Mn}{k}$ fish."
   ]
  },
  {
   "cell_type": "markdown",
   "metadata": {},
   "source": [
    "### Poisson Process"
   ]
  },
  {
   "cell_type": "markdown",
   "metadata": {},
   "source": [
    "We consider a event occurrences over a time(distance, area, or volume), happening under a <b>Poisson Process</b>, provided they satisfy the following assumptions(we state over time only)."
   ]
  },
  {
   "cell_type": "markdown",
   "metadata": {},
   "source": [
    "i). The probability of single event occurrence during a small time interval is proportional to the length of time interval(area of region)."
   ]
  },
  {
   "cell_type": "markdown",
   "metadata": {},
   "source": [
    "ii). The probability of more than one event occurrence during a small time interval is negligible"
   ]
  },
  {
   "cell_type": "markdown",
   "metadata": {},
   "source": [
    "iii). The number of event occurrences during disjoint time intervals are independent"
   ]
  },
  {
   "cell_type": "markdown",
   "metadata": {},
   "source": [
    "**Examples:**"
   ]
  },
  {
   "cell_type": "markdown",
   "metadata": {},
   "source": [
    "1). Email occurrences on given day (over time)"
   ]
  },
  {
   "cell_type": "markdown",
   "metadata": {},
   "source": [
    "2). Wrong telephone numbers that are dialed in a day (over time)"
   ]
  },
  {
   "cell_type": "markdown",
   "metadata": {},
   "source": [
    "3). Misprints on a page of a book (over area)"
   ]
  },
  {
   "cell_type": "markdown",
   "metadata": {},
   "source": [
    "4). People living more than 100 years in a community (over area)"
   ]
  },
  {
   "cell_type": "markdown",
   "metadata": {},
   "source": [
    "5). Packages of dog biscuits sold in a particular store (over time)"
   ]
  },
  {
   "cell_type": "markdown",
   "metadata": {},
   "source": [
    "6). Customer entering in a Post office/Bank/Shopping mall on a given day(over time)"
   ]
  },
  {
   "cell_type": "markdown",
   "metadata": {},
   "source": [
    "### Poisson Distribution:"
   ]
  },
  {
   "cell_type": "markdown",
   "metadata": {},
   "source": [
    "Consider Poisson process(over time)"
   ]
  },
  {
   "cell_type": "markdown",
   "metadata": {},
   "source": [
    "Let $X=$ number of event occurrences in unit time interval $S_X=\\{0,1,2,3,...\\}$"
   ]
  },
  {
   "cell_type": "markdown",
   "metadata": {},
   "source": [
    "Let the unit time interval be $[0,1]$"
   ]
  },
  {
   "cell_type": "markdown",
   "metadata": {},
   "source": [
    "For large $n$, we divide interval $[0,1]$ into $n$ non-overlapping subintervals of equal length."
   ]
  },
  {
   "cell_type": "code",
   "execution_count": 49,
   "metadata": {},
   "outputs": [
    {
     "data": {
      "image/png": "[encoded data removed]",
      "text/plain": [
       "<Figure size 864x144 with 1 Axes>"
      ]
     },
     "metadata": {
      "needs_background": "light"
     },
     "output_type": "display_data"
    }
   ],
   "source": [
    "import matplotlib.pyplot as plt\n",
    "fig, ax = plt.subplots(figsize=(12,2))\n",
    "ax.plot([-5,5],[0,0],color='black')\n",
    "ax.text(-5.2,-0.01,\"0\",fontsize=15)\n",
    "ax.text(-5,0,r\"|\",fontsize=5)\n",
    "ax.text(-4.5,0,r\"|\",fontsize=5)\n",
    "ax.text(-4.5,-0.02,r\"$\\frac{1}{n}$\",fontsize=15)\n",
    "\n",
    "ax.text(-4,0,r\"|\",fontsize=5)\n",
    "ax.text(-4,-0.02,r\"$\\frac{2}{n}$\",fontsize=15)\n",
    "\n",
    "ax.text(-3.5,0,r\"|\",fontsize=5)\n",
    "ax.text(-3,0,r\"|\",fontsize=5)\n",
    "\n",
    "\n",
    "ax.text(-0.5,0,r\"|\",fontsize=5)\n",
    "ax.text(-0.5,-0.02,r\"$\\frac{i-1}{n}$\",fontsize=15)\n",
    "\n",
    "ax.text(0,0,r\"|\",fontsize=5)\n",
    "ax.text(0,-0.02,r\"$\\frac{i}{n}$\",fontsize=15)\n",
    "\n",
    "ax.text(-0.25,0.01,r\"$I_i$\",fontsize=18)\n",
    "\n",
    "\n",
    "ax.text(3.5,0,r\"|\",fontsize=5)\n",
    "ax.text(4,0,r\"|\",fontsize=5)\n",
    "\n",
    "ax.text(4.5,0,r\"|\",fontsize=5)\n",
    "ax.text(4.5,-0.02,r\"$\\frac{n-1}{n}$\",fontsize=15)\n",
    "\n",
    "ax.text(5,0,r\"|\",fontsize=5)\n",
    "ax.text(5,-0.02,r\"$\\frac{n}{n}=1$\",fontsize=15)\n",
    "\n",
    "ax.axis('off')\n",
    "plt.show()"
   ]
  },
  {
   "cell_type": "markdown",
   "metadata": {},
   "source": [
    "Let $I_i=\\left[\\frac{i-1}{n},\\frac{i}{n}\\right]$, length($I_i$)=$\\frac{1}{n}$ for $i=1,2,...n$"
   ]
  },
  {
   "cell_type": "markdown",
   "metadata": {},
   "source": [
    "Probability of more than one occurrence during time interval $I_i$ is negligible [$\\because$  length($I_i$) is small & by assumption (ii)] for $i=1,2,...n$"
   ]
  },
  {
   "cell_type": "markdown",
   "metadata": {},
   "source": [
    "Therefore (for large $n$) there will be at most one event occurrence during the time interval $I_i$ for $i=1,2,...n$"
   ]
  },
  {
   "cell_type": "markdown",
   "metadata": {},
   "source": [
    "In any subinterval there may be event occurrence(success) or not(failure), and probability of single event occurrence during small time interval is proportional to the length of interval (by assumption (i))"
   ]
  },
  {
   "cell_type": "markdown",
   "metadata": {},
   "source": [
    "$\\therefore$ $p$=P(success)=P(single event occurrence in $I_i$)=$\\lambda$(length($I_i$))=$\\lambda\\left(\\frac{1}{n}\\right)=\\frac{\\lambda}{n}$"
   ]
  },
  {
   "cell_type": "markdown",
   "metadata": {},
   "source": [
    "Here $\\lambda$ is proportional constant, also called rate parameter"
   ]
  },
  {
   "cell_type": "markdown",
   "metadata": {},
   "source": [
    "Observing if there is a event occurrence(success) in each subinterval $I_i$ for $i=1,2,...n$ is kind of like performing $n$ independent (by assumption(iii)),and identical Bernoulli trials with probability of success $p=\\frac{\\lambda}{n}$"
   ]
  },
  {
   "cell_type": "markdown",
   "metadata": {},
   "source": [
    " $X\\sim Bin(n,\\frac{\\lambda}{n})$"
   ]
  },
  {
   "cell_type": "markdown",
   "metadata": {},
   "source": [
    "$PMF:$ $p_X(k)=P(X=k)=\\binom{n}{k}\\left(\\frac{\\lambda}{n}\\right)^k\\left(1-\\frac{\\lambda}{n}\\right)^{n-k}$ $\\to$ $\\frac{e^{-\\lambda}\\lambda^k}{k!}$ as $n\\to\\infty$"
   ]
  },
  {
   "cell_type": "markdown",
   "metadata": {},
   "source": [
    "$\\therefore$ $p_X(k)=\\frac{e^{-\\lambda}\\lambda^k}{k!}$, for $k=0,1,2,3,...$"
   ]
  },
  {
   "cell_type": "markdown",
   "metadata": {},
   "source": [
    "Here $X$ is said to have <b>Poisson distribution</b> with rate parameter $\\lambda$"
   ]
  },
  {
   "cell_type": "markdown",
   "metadata": {},
   "source": [
    "**Validity of PMF:**"
   ]
  },
  {
   "cell_type": "markdown",
   "metadata": {},
   "source": [
    "- $p_X(k)>0$ for $k=0,1,2,3,...$"
   ]
  },
  {
   "cell_type": "markdown",
   "metadata": {},
   "source": [
    "- $\\sum_{k=0}^{\\infty}p_X(k)=\\sum_{k=0}^{\\infty}\\frac{e^{-\\lambda}\\lambda^k}{k!}$=$e^{-\\lambda}\\sum_{k=0}^{\\infty}\\frac{{\\lambda^k}}{k!}=e^{-\\lambda}e^{\\lambda}=1$"
   ]
  },
  {
   "cell_type": "markdown",
   "metadata": {},
   "source": [
    "**Notation:** $X\\sim Poisson(\\lambda)$"
   ]
  },
  {
   "cell_type": "markdown",
   "metadata": {},
   "source": [
    "$MGF:$ $M_X(t)=E(e^{tX})=\\sum_{k=0}^{\\infty}e^{tk}p_X(k)=\\sum_{k=0}^{\\infty}e^{tk}\\frac{e^{-\\lambda}\\lambda^k}{k!}=e^{-\\lambda}\\sum_{k=0}^{\\infty}\\frac{{\\left(\\lambda e^{t}\\right)}^k}{k!}=e^{-\\lambda}e^{\\lambda e^t}=e^{\\lambda(e^t-1)}$"
   ]
  },
  {
   "cell_type": "markdown",
   "metadata": {},
   "source": [
    "$E(X)=Var(X)=\\lambda$"
   ]
  },
  {
   "cell_type": "markdown",
   "metadata": {},
   "source": [
    "**Note:** Here the rate parameter $\\lambda=$average number of event occurrence in unit time interval."
   ]
  },
  {
   "cell_type": "markdown",
   "metadata": {},
   "source": [
    "**Exercise:** Let $X\\sim Poisson(\\lambda)$. Show that $E(X)=Var(X)=\\lambda$ through $MGF$ of $X$"
   ]
  },
  {
   "cell_type": "markdown",
   "metadata": {},
   "source": [
    "$\\left[ Hint:\\mu=M_X^{(1)}(0),\\sigma^2=M_X^{(2)}(0)-\\left(M_X^{(1)}(0)\\right)^2\\right]$"
   ]
  },
  {
   "cell_type": "code",
   "execution_count": 3,
   "metadata": {},
   "outputs": [
    {
     "data": {
      "application/vnd.jupyter.widget-view+json": {
       "model_id": "497bd0504b4b46ecadc234722527384c",
       "version_major": 2,
       "version_minor": 0
      },
      "text/plain": [
       "interactive(children=(FloatSlider(value=2.0, description='$\\\\lambda$:', max=20.0, min=1.0, step=0.5), Button(d…"
      ]
     },
     "metadata": {},
     "output_type": "display_data"
    }
   ],
   "source": [
    "%matplotlib inline\n",
    "import math\n",
    "import numpy as np\n",
    "import matplotlib.pyplot as plt\n",
    "from ipywidgets import interact ,interactive, fixed, interact_manual\n",
    "import ipywidgets as widgets\n",
    "\n",
    "Infty=100    \n",
    "def poisson_pmf(lmda,k):\n",
    "    if k>=0:\n",
    "        return ((math.e**(-lmda))*lmda**k)/math.factorial(k)\n",
    "    else:\n",
    "        return 0\n",
    "\n",
    "def poisson_cdf(lmda,x):\n",
    "    s=0;\n",
    "    for k in range(0,math.floor(x)+1):\n",
    "        s+=poisson_pmf(lmda,k)\n",
    "    return s\n",
    "def poisson_pmf_vec(lmda):\n",
    "    v=[]\n",
    "    for k in range(0,Infty):\n",
    "        v.append(poisson_pmf(lmda,k))\n",
    "    return v\n",
    "\n",
    "def poisson_bar(lmda):\n",
    "    #fig, ax = plt.subplots()\n",
    "    fig = plt.figure(figsize=(12,8))\n",
    "    ax=fig.add_subplot(111)\n",
    "    ax.bar(list(range(0,Infty)),poisson_pmf_vec(lmda))\n",
    "    ax.set_title(\"Poisson Distribution\")\n",
    "    ax.set_xlabel(\"$trial$\")\n",
    "    ax.set_ylabel(\"$p_X(k)$\")\n",
    "    plt.show()\n",
    "    \n",
    "\n",
    "# Please Click the Run Interact Button to see the Bar graph\n",
    "interactive(poisson_bar,{'manual':True},lmda=widgets.FloatSlider(min=1, max=20, step=0.5, value=2,description='$\\lambda$:'))\n",
    "    "
   ]
  },
  {
   "cell_type": "markdown",
   "metadata": {},
   "source": [
    "**Example:** Customers arrive in a shopping mall at rate 5 per minute. What is the probability no customer arrive in 1 minute period."
   ]
  },
  {
   "cell_type": "markdown",
   "metadata": {},
   "source": [
    "*Solution:* Let $X=$ number of customer arrive at shopping mall in $1$ minute"
   ]
  },
  {
   "cell_type": "markdown",
   "metadata": {},
   "source": [
    "$\\lambda=5$ (rate parameter)"
   ]
  },
  {
   "cell_type": "markdown",
   "metadata": {},
   "source": [
    "$\\therefore$ $X\\sim Poisson(\\lambda)$, $p_X(k)=\\frac{e^{-5}5^k}{k!}$, for $k=0,1,2,...$"
   ]
  },
  {
   "cell_type": "markdown",
   "metadata": {},
   "source": [
    "$P(\\text{no customer in one minute period})=P(X=0)=\\frac{e^{-5}5^0}{0!}=e^{-5}=0.0067379$"
   ]
  },
  {
   "cell_type": "markdown",
   "metadata": {},
   "source": [
    "**Example:** In a length manuscript, it is discovered that only $13.5\\%$ of pages contain no typing errors. Find the percentage of pages that contain one error."
   ]
  },
  {
   "cell_type": "markdown",
   "metadata": {},
   "source": [
    "*Solution:* Let $X=$ number of typing errors in a page"
   ]
  },
  {
   "cell_type": "markdown",
   "metadata": {},
   "source": [
    "then $X\\sim Poisson(\\lambda)$ $\\Rightarrow$ $p_X(k)=\\frac{e^{-\\lambda}\\lambda^k}{k!}$, for $k=0,1,2,..$"
   ]
  },
  {
   "cell_type": "markdown",
   "metadata": {},
   "source": [
    "It is given that $P(X=0)=0.135$ $\\Rightarrow$ $\\frac{e^{-\\lambda}\\lambda^0}{0!}=0.135\\Rightarrow e^{-\\lambda}=0.135$"
   ]
  },
  {
   "cell_type": "markdown",
   "metadata": {},
   "source": [
    "$\\lambda=\\log_e{\\frac{1}{0.135}}=2.002481\\approx 2$"
   ]
  },
  {
   "cell_type": "markdown",
   "metadata": {},
   "source": [
    "Here we are interested in $P(X=1)=?$"
   ]
  },
  {
   "cell_type": "markdown",
   "metadata": {},
   "source": [
    "$P(X=1)=\\frac{e^{-2}2^1}{1!}=0.2706$"
   ]
  },
  {
   "cell_type": "markdown",
   "metadata": {},
   "source": [
    "Hence 27 percent of pages contains exactly 1 error"
   ]
  },
  {
   "cell_type": "markdown",
   "metadata": {},
   "source": [
    "**Problem:** Each of 500 soldiers in an army company independently has certain disease with probability $\\frac{1}{1000}$. This disease will show up in a blood test, and to facilitate matters blood samples from all 500 are pooled and tested. What is (approximate) probability that the blood test will be positive."
   ]
  },
  {
   "cell_type": "markdown",
   "metadata": {},
   "source": [
    "*solution:* Each person may have disease(success) or not(failure)"
   ]
  },
  {
   "cell_type": "markdown",
   "metadata": {},
   "source": [
    "$p=P(\\text{success})=\\frac{1}{1000}=0.001$"
   ]
  },
  {
   "cell_type": "markdown",
   "metadata": {},
   "source": [
    "$X=$ number of soldiers who has disease among 500 soldiers"
   ]
  },
  {
   "cell_type": "markdown",
   "metadata": {},
   "source": [
    "$X\\sim Bin(500,0.001)$"
   ]
  },
  {
   "cell_type": "markdown",
   "metadata": {},
   "source": [
    "blood test will be positive $\\iff$ $X\\ge 1$"
   ]
  },
  {
   "cell_type": "markdown",
   "metadata": {},
   "source": [
    "Here we are interested in  $P(X\\ge 1)=?$"
   ]
  },
  {
   "cell_type": "markdown",
   "metadata": {},
   "source": [
    "$P(X\\ge 1)=1-P(X<1)=1-P(X=0)=1-\\binom{500}{0}(0.001)^0(1-0.001)^{500}$"
   ]
  },
  {
   "cell_type": "markdown",
   "metadata": {},
   "source": [
    "&nbsp; &nbsp; &nbsp; &nbsp; &nbsp; &nbsp; &nbsp; &nbsp; &nbsp; $=1-(0.999)^{500}=0.3936210551388153$"
   ]
  },
  {
   "cell_type": "markdown",
   "metadata": {},
   "source": [
    "But above expression $1-(0.999)^{500}$ needs a lot of computation."
   ]
  },
  {
   "cell_type": "markdown",
   "metadata": {},
   "source": [
    "since $n=500$(large) & $p=0.001$ (small) & $np=\\frac{1}{2}$(moderate size). So we can use Poisson approximation to Binomial distribution"
   ]
  },
  {
   "cell_type": "markdown",
   "metadata": {},
   "source": [
    "i.e &nbsp; &nbsp; $\\binom{n}{k}p^k(1-p)^{n-k}\\approx \\frac{e^{-\\lambda}\\lambda^k}{k!}$"
   ]
  },
  {
   "cell_type": "markdown",
   "metadata": {},
   "source": [
    "$\\therefore$ $P(X\\ge 1)=1-P(X=0)=1-\\frac{e^{-\\frac{1}{2}}\\left(\\frac{1}{2}\\right)^0}{0!}=0.3934693402873666$"
   ]
  },
  {
   "cell_type": "markdown",
   "metadata": {},
   "source": [
    "As we can see that above approximation is quite good and does not need too much computation."
   ]
  }
 ],
 "metadata": {
  "hide_input": false,
  "kernelspec": {
   "display_name": "Python 3 (ipykernel)",
   "language": "python",
   "name": "python3"
  },
  "language_info": {
   "codemirror_mode": {
    "name": "ipython",
    "version": 3
   },
   "file_extension": ".py",
   "mimetype": "text/x-python",
   "name": "python",
   "nbconvert_exporter": "python",
   "pygments_lexer": "ipython3",
   "version": "3.10.0"
  }
 },
 "nbformat": 4,
 "nbformat_minor": 4
}
