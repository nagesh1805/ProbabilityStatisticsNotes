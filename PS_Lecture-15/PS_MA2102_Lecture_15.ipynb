{
 "cells": [
  {
   "cell_type": "markdown",
   "metadata": {},
   "source": [
    "<h2 style=\"text-align:center\"> MA2102</h2>\n",
    "<h1 style=\"text-align:center\"> Probability and Statistics</h1>\n",
    "<h4 style=\"text-align:center\"> Lecture-15</h4>"
   ]
  },
  {
   "cell_type": "markdown",
   "metadata": {},
   "source": [
    "## Moment Generating Function(MGF)"
   ]
  },
  {
   "cell_type": "markdown",
   "metadata": {},
   "source": [
    "Let $X$ be a random variable defined on $(\\Omega,\\mathscr{F},P)$, and if $E(e^tX)$ exists in some neighbourhood of $0$(i.e $-h<t<h$, for some $h>0$) then we say $MGF$ exists and we write as $M_X(t)=E(e^{tX})$, $-h<t<h$, $h>0$"
   ]
  },
  {
   "cell_type": "markdown",
   "metadata": {},
   "source": [
    "**Example:** Let $X$ be a discrete random variable with support $S_X=\\{1,2,3,....\\}$ and $PMF$ $p_X(n)=\\left(\\frac{1}{3}\\right)\\left(\\frac{2}{3}\\right)^{n-1}$, $n=1,2,3,...$"
   ]
  },
  {
   "cell_type": "markdown",
   "metadata": {},
   "source": [
    "$\\sum_{n=1}^{\\infty}|e^{tn}|p_X(n)=\\sum_{n=1}^{\\infty}e^{tn}\\left(\\frac{1}{3}\\right)\\left(\\frac{2}{3}\\right)^{n-1}$ ($\\because$ $|e^n|=e^{n}\\forall n\\in\\mathbb{R}$ as $e^n>0$)"
   ]
  },
  {
   "cell_type": "markdown",
   "metadata": {},
   "source": [
    "&nbsp; &nbsp; &nbsp; &nbsp; &nbsp; &nbsp; &nbsp; &nbsp; &nbsp; &nbsp; &nbsp; &nbsp; &nbsp; &nbsp; &nbsp; $=\\frac{1}{3}\\frac{3}{2}\\sum_{n=1}^{\\infty}\\left(\\frac{2}{3}e^t\\right)^{n}$ converges for $|\\frac{2}{3}e^t|<1$  ($\\because$ $x+x^2+x^3+...$ converges for $|x|<1$ )"
   ]
  },
  {
   "cell_type": "markdown",
   "metadata": {},
   "source": [
    "$\\therefore$  $E(e^{tX})$ exists for $\\frac{2}{3}e^t<1$"
   ]
  },
  {
   "cell_type": "markdown",
   "metadata": {},
   "source": [
    "&nbsp; &nbsp; &nbsp; &nbsp; &nbsp;&nbsp; &nbsp; &nbsp; &nbsp; &nbsp; &nbsp; &nbsp; &nbsp;&nbsp; &nbsp; &nbsp; &nbsp;    $M_X(t)=E(e^{tX})=\\sum_{n=1}^{\\infty}e^{tn}p_X(x)=\\sum_{n=1}^{\\infty}e^{tn}\\left(\\frac{1}{3}\\right)\\left(\\frac{2}{3}\\right)^{n-1}=\\frac{1}{2}\\left(\\frac{\\frac{2}{3}e^t}{1-\\frac{2}{3}e^t}\\right)$ for $e^t<\\frac{3}{2}\\Rightarrow t<\\log_{e}\\left(\\frac{3}{2}\\right)$"
   ]
  },
  {
   "cell_type": "markdown",
   "metadata": {},
   "source": [
    "Hence $MGF$ of $X$, $M_X(t)=\\frac{e^t}{3-2e^t}$,$-h<t<h$ where $h=\\log_{e}(3/2)$"
   ]
  },
  {
   "cell_type": "markdown",
   "metadata": {},
   "source": [
    "**Example:** Let $X$ be a continuous random variable with $PDF$ $f_X(x)=\\left\\{\\begin{matrix}\n",
    " \\frac{1}{2}e^{\\frac{-x}{2}}& x>0 \\\\ \n",
    " 0& x\\le 0\n",
    "\\end{matrix}\\right.$"
   ]
  },
  {
   "cell_type": "markdown",
   "metadata": {},
   "source": [
    "$\\int_{-\\infty}^{\\infty}|e^{tx}|f_X(x)dx=\\int_{0}^{\\infty}e^{tx}\\left(\\frac{1}{2}e^{\\frac{-x}{2}}\\right)dx$"
   ]
  },
  {
   "cell_type": "markdown",
   "metadata": {},
   "source": [
    "&nbsp; &nbsp; &nbsp; &nbsp; &nbsp; &nbsp; &nbsp; &nbsp; &nbsp; &nbsp; &nbsp; &nbsp; &nbsp; &nbsp; &nbsp; &nbsp; $=\\frac{1}{2}\\lim_{k\\to\\infty}\\int_{0}^{k}e^{\\left(t-\\frac{1}{2}\\right)x}dx=\\frac{1}{2}\\lim_{k\\to\\infty}\\left[\\frac{e^{\\left(t-\\frac{1}{2}\\right)x}}{\\left(t-\\frac{1}{2}\\right)}\\right]_{0}^{k}$"
   ]
  },
  {
   "cell_type": "markdown",
   "metadata": {},
   "source": [
    "&nbsp; &nbsp; &nbsp; &nbsp; &nbsp; &nbsp; &nbsp; &nbsp; &nbsp; &nbsp; &nbsp; &nbsp; &nbsp; &nbsp; &nbsp; &nbsp;$=\\frac{1}{2}\\lim_{k\\to\\infty}\\left[\\frac{e^{\\left(t-\\frac{1}{2}\\right)k}}{\\left(t-\\frac{1}{2}\\right)}-\\frac{1}{\\left(t-\\frac{1}{2}\\right)}\\right]=\\frac{1}{2}\\left[\\lim_{k\\to\\infty}\\frac{e^{\\left(t-\\frac{1}{2}\\right)k}}{\\left(t-\\frac{1}{2}\\right)}-\\frac{1}{\\left(t-\\frac{1}{2}\\right)}\\right]$"
   ]
  },
  {
   "cell_type": "markdown",
   "metadata": {},
   "source": [
    "$\\lim_{k\\to\\infty}\\frac{e^{\\left(t-\\frac{1}{2}\\right)k}}{\\left(t-\\frac{1}{2}\\right)}$ exists only for $t-\\frac{1}{2}<0$ and limit equals to $0$"
   ]
  },
  {
   "cell_type": "markdown",
   "metadata": {},
   "source": [
    "$\\therefore$  $E(e^{tX})$ exists for $t<\\frac{1}{2}$"
   ]
  },
  {
   "cell_type": "markdown",
   "metadata": {},
   "source": [
    "$MGF$of $X$, $M_X(t)=E(e^{tX})=\\int_{-\\infty}^{\\infty}e^{tx}f_X(x)dx=\\int_{0}^{\\infty}e^{tx}\\left(\\frac{1}{2}e^{\\frac{-x}{2}}\\right)dx=\\frac{1}{2} \\left[0 -\\frac{1}{\\left(t-\\frac{1}{2}\\right)}\\right]=\\frac{1}{1-2t}$ for $-\\frac{1}{2}<t<\\frac{1}{2}$  (our choice of $h$ is $\\frac{1}{2}$)"
   ]
  },
  {
   "cell_type": "markdown",
   "metadata": {},
   "source": [
    "now, we are going to see examples of random variables for which $M.G.F$ doesn't exists"
   ]
  },
  {
   "cell_type": "markdown",
   "metadata": {},
   "source": [
    "**Example:** Let $X$ be a discrete random variable with support $S_X=\\{1,2,3,...\\}$, and $PMF$ $p_X(n)=\\frac{6}{\\pi^2}\\frac{1}{n^2}$ $n=1,2,3,...$"
   ]
  },
  {
   "cell_type": "markdown",
   "metadata": {},
   "source": [
    "$\\sum_{n=1}^{\\infty}|e^{tn}|p_X(n)=\\sum_{n=1}^{\\infty}e^{tn}\\frac{6}{\\pi^2}\\frac{1}{n^2}=\\frac{6}{\\pi^2}\\sum_{n=1}^{\\infty}\\frac{e^{tn}}{n^2}$ "
   ]
  },
  {
   "cell_type": "markdown",
   "metadata": {},
   "source": [
    "For $t>0$, $\\lim_{n\\to\\infty}\\frac{e^{tn}}{n^2}\\ne 0$ ($\\because$ L'Hospital rule), By $n^{th}$ term test $\\sum_{n=1}^{\\infty}\\frac{e^{tn}}{n^2}$ diverges to $\\infty$"
   ]
  },
  {
   "cell_type": "markdown",
   "metadata": {},
   "source": [
    "$\\therefore$ $E(e^{tX}$ will not exists in any neighbourhood of $0$"
   ]
  },
  {
   "cell_type": "markdown",
   "metadata": {},
   "source": [
    "Hence $MGF$ of $X$ doesn't exists"
   ]
  },
  {
   "cell_type": "markdown",
   "metadata": {},
   "source": [
    "**Example:** Let $X$ be a continuous random variable with $PDF$ $f_X(x)=\\frac{1}{\\pi}\\frac{1}{1+x^2}$, $-\\infty<x<\\infty$"
   ]
  },
  {
   "cell_type": "markdown",
   "metadata": {},
   "source": [
    "$\\int_{-\\infty}^{\\infty}|e^{tx}|f_X(x)dx=\\int_{-\\infty}^{\\infty}e^{tx}\\left(\\frac{1}{\\pi}\\frac{1}{1+x^2}\\right)dx$"
   ]
  },
  {
   "cell_type": "markdown",
   "metadata": {},
   "source": [
    "$=\\frac{1}{\\pi}\\int_{-\\infty}^{0}\\frac{e^{tx}}{1+x^2}dx + \\frac{1}{\\pi}\\int_{0}^{\\infty}\\frac{e^{tx}}{1+x^2}dx$"
   ]
  },
  {
   "cell_type": "markdown",
   "metadata": {},
   "source": [
    "If $\\frac{1}{\\pi}\\int_{-\\infty}^{\\infty}e^{tx}\\left(\\frac{1}{1+x^2}\\right)dx$ converges then both $\\frac{1}{\\pi}\\int_{-\\infty}^{0}\\frac{e^{tx}}{1+x^2}dx$, $\\frac{1}{\\pi}\\int_{0}^{\\infty}\\frac{e^{tx}}{1+x^2}dx$ must converges"
   ]
  },
  {
   "cell_type": "markdown",
   "metadata": {},
   "source": [
    "But for $t>0$ $\\lim_{x\\to\\infty} \\frac{e^{tx}}{1+x^2}\\ne 0$, so $\\frac{1}{\\pi}\\int_{0}^{\\infty}\\frac{e^{tx}}{1+x^2}dx$ diverges to $\\infty$"
   ]
  },
  {
   "cell_type": "markdown",
   "metadata": {},
   "source": [
    "$\\therefore$ $E(e^{tX})$ will not exists in any neighbourhood of $0$"
   ]
  },
  {
   "cell_type": "markdown",
   "metadata": {},
   "source": [
    "Hence $MGF$ of $X$ doesn't exists"
   ]
  },
  {
   "cell_type": "markdown",
   "metadata": {},
   "source": [
    "So far we have seen that $CDF/PMF/PDF$ as an alternative specification of probability distribution of a random variable, now We are going to state a important theorem which says that $MGF$(when exists) is also serve as a alternative specification of its probability distribution."
   ]
  },
  {
   "cell_type": "markdown",
   "metadata": {},
   "source": [
    "**Theorem:** The $MGF$ of random variable $X$ uniquely determine its probability distribution $P^X$ and, conversely, if the $MGF$ exists, then it is unique.<br><br>"
   ]
  },
  {
   "cell_type": "markdown",
   "metadata": {},
   "source": [
    "Since the probability distribution of a random variable that has $MGF$ is completely determined by $MGF$, so it should not be surprising if we could obtain some properties of probability distribution directly from its $MGF$. Especially for finding moments $MGF$ comes in very handy."
   ]
  },
  {
   "cell_type": "markdown",
   "metadata": {},
   "source": [
    "- If the $MGF$ $M_X(t)$ of a random variable exists in $(-h,h)$ for some $h>0$, then the derivatives of all orders exists at $t=0$ and can be evaluated as follows:<br><br> $M_X^{(k)}(t)=\\frac{d^k}{dt^k}E(e^{tX})=E\\left(\\frac{d^k}{dt^k}e^{tX}\\right)=E\\left({X^k}e^{tX}\\right)$"
   ]
  },
  {
   "cell_type": "markdown",
   "metadata": {},
   "source": [
    "The technical reason that we can do differentiation inside is the following:<br><br>\n",
    "If $X$ is a discrete random variable the $M_X(t)=E(e^{tX})=\\sum_{x\\in S_X}e^{tx}p_X(x)$"
   ]
  },
  {
   "cell_type": "markdown",
   "metadata": {},
   "source": [
    "$\\frac{d}{dt}M_X(t)=\\frac{d}{dt}\\sum_{x\\in S_X}e^{tx}p_X(x)$"
   ]
  },
  {
   "cell_type": "markdown",
   "metadata": {},
   "source": [
    "&nbsp; &nbsp; &nbsp; &nbsp; &nbsp; &nbsp; &nbsp; &nbsp; &nbsp; $=\\sum_{x\\in S_X}\\frac{d}{dt}{e^{tx}}p_X(x)=E\\left(\\frac{d}{dt}{e^{tX}}\\right)=E\\left(X{e^{tX}}\\right)$  "
   ]
  },
  {
   "cell_type": "markdown",
   "metadata": {},
   "source": [
    "Here the term by term differentiation can be done even it is infinite series (as series converges uniformly in the neighborhood 0)"
   ]
  },
  {
   "cell_type": "markdown",
   "metadata": {},
   "source": [
    "If $X$ is a continuous random variable the $M_X(t)=E(e^{tX})=\\int_{-\\infty}^{\\infty}e^{tx}f_X(x)dx$"
   ]
  },
  {
   "cell_type": "markdown",
   "metadata": {},
   "source": [
    "$\\frac{d}{dt}M_X(t)=\\frac{d}{dt}\\int_{-\\infty}^{\\infty}e^{tx}f_X(x)dx$"
   ]
  },
  {
   "cell_type": "markdown",
   "metadata": {},
   "source": [
    "&nbsp; &nbsp; &nbsp; &nbsp; &nbsp; &nbsp; &nbsp; &nbsp; &nbsp;  $=\\int_{-\\infty}^{\\infty}\\frac{d}{dt}e^{tx}f_X(x)dx$    ($\\because$ <b>Leibnitz's Rule</b>)"
   ]
  },
  {
   "cell_type": "markdown",
   "metadata": {},
   "source": [
    "&nbsp; &nbsp; &nbsp; &nbsp; &nbsp; &nbsp; &nbsp; &nbsp; &nbsp;  $=E\\left(\\frac{d}{dt}{e^{tX}}\\right)=E\\left(X{e^{tX}}\\right)$"
   ]
  },
  {
   "cell_type": "markdown",
   "metadata": {},
   "source": [
    "In general $M_X^{(k)}(t)=\\frac{d^k}{dt^k}E(e^{tX})=E\\left(\\frac{d^k}{dt^k}e^{tX}\\right)=E\\left({X^k}e^{tX}\\right)$"
   ]
  },
  {
   "cell_type": "markdown",
   "metadata": {},
   "source": [
    "So, $M_X^{(k)}(0)=E(X^k)=\\mu_k^{'}$ for $k=1,2,3,...$"
   ]
  },
  {
   "cell_type": "markdown",
   "metadata": {},
   "source": [
    "If $MGF$ of $X$, $M_X(t)$ exists in $(-h,h)$ for $h>0$, then one can express $M_X(t)$(uniquely) in <b>Maclaurin</b> series expansion"
   ]
  },
  {
   "cell_type": "markdown",
   "metadata": {},
   "source": [
    "$M_X(t)=M_X(0)+M_X^{(1)}(0)\\frac{t}{1!}+M_X^{(2)}(0)\\frac{t^2}{2!}+M_X^{(3)}(0)\\frac{t^3}{3!}+...+M_X^{(k)}(0)\\frac{t^k}{k!}+...$"
   ]
  },
  {
   "cell_type": "markdown",
   "metadata": {},
   "source": [
    "$\\therefore$ $\\mu_k^{'}=E(X^k)=$ coefficient of $\\frac{t^k}{k!}$ in the expansion of $M_X(t)$"
   ]
  },
  {
   "cell_type": "markdown",
   "metadata": {},
   "source": [
    "**Note**: <br>\n",
    "1. mean $\\mu=\\mu_{1}^{'}=M_X^{(1)}(0)$ "
   ]
  },
  {
   "cell_type": "markdown",
   "metadata": {},
   "source": [
    "2. variance $\\sigma^2=\\mu_2^{'}-(\\mu_1^{'})^2=M_X^{(2)}(0)-\\left(M_X^{(1)}(0)\\right)^2$"
   ]
  },
  {
   "cell_type": "markdown",
   "metadata": {},
   "source": [
    "**Problem:** Let $X$ be discrete random variable with $MGF$ $M_X(t)=\\frac{pe^t}{1-(1-p)e^t}$, then find the mean and variance of $X$"
   ]
  },
  {
   "cell_type": "markdown",
   "metadata": {},
   "source": [
    "*Solution:* &nbsp; &nbsp;$M_X^{(1)}(t)=\\frac{(1-(1-p)e^t)pe^t-(0-(1-p)e^t)pe^t}{(1-(1-p)e^t)^2}=\\frac{pe^t}{(1-(1-p)e^t)^2}$"
   ]
  },
  {
   "cell_type": "markdown",
   "metadata": {},
   "source": [
    "$\\mu=M_X^{(1)}(0)=\\frac{p}{(1-(1-p))^2}=\\frac{1}{p}$"
   ]
  },
  {
   "cell_type": "markdown",
   "metadata": {},
   "source": [
    "$M_X^{(2)}(t)=\\frac{((1-(1-p)e^t)^2)pe^t-(2(1-(1-p)e^t)(0-(1-p)e^t))pe^t}{(1-(1-p)e^t)^4}$"
   ]
  },
  {
   "cell_type": "markdown",
   "metadata": {},
   "source": [
    "$M_X^{(2)}(0)=\\frac{((1-(1-p))^2)p-(2(1-(1-p))(0-(1-p)))p}{(1-(1-p))^4}=\\frac{2-p}{p^2}$"
   ]
  },
  {
   "cell_type": "markdown",
   "metadata": {},
   "source": [
    "$\\sigma^2=M_X^{(2)}(0)-\\left(M_X^{(1)}(0)\\right)^2=\\frac{2-p}{p^2}-\\left(\\frac{1}{p}\\right)^2=\\frac{1-p}{p^2}$"
   ]
  },
  {
   "cell_type": "markdown",
   "metadata": {},
   "source": [
    "**Problem:** Find all moments of $X$ whose $MGF$ $M_X(t)=\\frac{1}{1-2t}$,&nbsp; $-\\frac{1}{2}<t<\\frac{1}{2}$"
   ]
  },
  {
   "cell_type": "markdown",
   "metadata": {},
   "source": [
    "*solution:* We know that $\\mu_k^{'}=$ coefficient of $\\frac{t^k}{k!}$ in the <b>Maclaurin</b> series expansion of $M_X(t)$"
   ]
  },
  {
   "cell_type": "markdown",
   "metadata": {},
   "source": [
    "$M_X(t)=\\frac{1}{1-2t}=\\sum_{k=0}^{\\infty}(2t)^k$  ($\\because$ $\\frac{1}{1-x}=\\sum_{k=0}^{\\infty}x^k$)"
   ]
  },
  {
   "cell_type": "markdown",
   "metadata": {},
   "source": [
    "&nbsp; &nbsp; &nbsp; &nbsp; &nbsp; &nbsp; &nbsp; &nbsp; &nbsp; &nbsp;&nbsp; &nbsp; &nbsp; &nbsp;$=\\sum_{k=0}^{\\infty}(2^kk!)\\frac{t^k}{k!}$"
   ]
  },
  {
   "cell_type": "markdown",
   "metadata": {},
   "source": [
    "$\\therefore$ $\\mu_k^{'}=2^kk!$, for $k=0,1,2,3,...$"
   ]
  },
  {
   "cell_type": "markdown",
   "metadata": {},
   "source": [
    "**Example:**  Find all moments of $X$ whose $MGF$ $M_X(t)=e^{\\frac{t^2}{2}}$"
   ]
  },
  {
   "cell_type": "markdown",
   "metadata": {},
   "source": [
    "*solution:* $M_X(t)=e^{\\frac{t^2}{2}}$"
   ]
  },
  {
   "cell_type": "markdown",
   "metadata": {},
   "source": [
    " &nbsp; &nbsp; &nbsp; &nbsp; &nbsp; &nbsp; &nbsp; &nbsp; &nbsp; &nbsp; &nbsp; &nbsp; &nbsp; &nbsp;$=\\sum_{k=0}^{\\infty}\\frac{\\left (\\frac{t^2}{2}\\right)^k}{k!}$  &nbsp; &nbsp; ($\\because$ $e^x=\\sum_{k=0}^{\\infty}\\frac{x^k}{k!}$)"
   ]
  },
  {
   "cell_type": "markdown",
   "metadata": {},
   "source": [
    "&nbsp; &nbsp; &nbsp; &nbsp; &nbsp; &nbsp; &nbsp; &nbsp; &nbsp; &nbsp; &nbsp; &nbsp; &nbsp; &nbsp;$=\\sum_{k=0}^{\\infty}\\frac{t^{2k}}{2^kk!}==\\sum_{k=0}^{\\infty}\\frac{(2k)!}{2^kk!}\\frac{t^{2k}}{(2k)!}$"
   ]
  },
  {
   "cell_type": "markdown",
   "metadata": {},
   "source": [
    "$\\therefore$ $\\mu_{2k}^{'}=$ coefficient of $\\frac{t^{2k}}{(2k)!}=\\frac{(2k)!}{2^kk!}$ for $k=0,1,2,3,...$"
   ]
  },
  {
   "cell_type": "markdown",
   "metadata": {},
   "source": [
    "$\\therefore$ $\\mu_{2k+1}^{'}=$ coefficient of $\\frac{t^{2k+1}}{(2k+1)!}=0$ for $k=0,1,2,3,...$<br><br>"
   ]
  },
  {
   "cell_type": "markdown",
   "metadata": {},
   "source": [
    "**Theorem:** Let $\\{\\mu_k^{'}\\}$ be the moment sequence of a random variable $X$. If the series $\\sum_{k=0}^{\\infty}\\frac{\\mu_k^{'}}{k!}t^k$ converges absolutely for some $t=t_0>0$, then $\\{\\mu_k^{'}\\}$ uniquely determine the probability distribution."
   ]
  },
  {
   "cell_type": "markdown",
   "metadata": {},
   "source": [
    "**Note:** $M_{aX+b}(t)=e^{tb}M_X(at)$"
   ]
  },
  {
   "cell_type": "markdown",
   "metadata": {},
   "source": [
    "*proof:* $M_{aX+b}(t)=E(e^{t(aX+b)})$"
   ]
  },
  {
   "cell_type": "markdown",
   "metadata": {},
   "source": [
    "&nbsp; &nbsp; &nbsp; &nbsp; &nbsp; &nbsp; &nbsp; &nbsp; &nbsp; &nbsp; &nbsp; &nbsp; &nbsp;&nbsp; &nbsp;$=E(e^{tb}e^{t(aX)})=e^{tb}E(e^{(at)X})=e^{tb}M_X(at)$"
   ]
  },
  {
   "cell_type": "markdown",
   "metadata": {},
   "source": [
    "So, when $MGF$ exists, it uniquely determine probability distribution. That is technically we should be able to find the probability distribution ($PMF$(or)$PDF$) of random variable whose $MGF$ is given, this problem of finding probability distribution from $MGF$ will be very easy in the case of discrete random variable, but not for continuous random variable"
   ]
  },
  {
   "cell_type": "markdown",
   "metadata": {},
   "source": [
    "<h4>Finding $PMF$ when $MGF$ of discrete random variable is given:</h4>"
   ]
  },
  {
   "cell_type": "markdown",
   "metadata": {},
   "source": [
    "Let $M_X(t)$ ,$-h<t<h$, for $h>0$ is $MGF$ of $X$"
   ]
  },
  {
   "cell_type": "markdown",
   "metadata": {},
   "source": [
    "Try express $M_X(t)$ in the form $\\sum_{x\\in S}e^{tx}q(x)$ for some countable set $S\\subset \\mathbb{R}$ and some $q(x)$"
   ]
  },
  {
   "cell_type": "markdown",
   "metadata": {},
   "source": [
    "but $M_X(t)=\\sum_{x\\in S_X}e^{tx}p_X(x)$  and $\\{e^{tx}:x\\in S_X\\}$ is Linearly independent set, so we will have unique representation for every linear combination of $\\{e^{tx}:x\\in S_X\\}$"
   ]
  },
  {
   "cell_type": "markdown",
   "metadata": {},
   "source": [
    "$\\therefore$ $S_X$ must be equal to $S$ and $p_X(x)=q(x)$ $\\forall x\\in S_X$"
   ]
  },
  {
   "cell_type": "markdown",
   "metadata": {},
   "source": [
    "<br>"
   ]
  },
  {
   "cell_type": "markdown",
   "metadata": {},
   "source": [
    "But finding  the $PDF$ is not easy problem when $MGF$ of continuous random variable is given."
   ]
  },
  {
   "cell_type": "markdown",
   "metadata": {},
   "source": [
    "Because problem reduce to solving an integral equation $M(t)=\\int_{-\\infty}^{\\infty}e^{tx}f(x)dx$, where $M$ is known function, $f$ is unknown function, and solving this integral equation is not an easy problem"
   ]
  },
  {
   "cell_type": "markdown",
   "metadata": {},
   "source": [
    "**Problem:** If $M_X(t)=\\frac{1}{10}e^t+\\frac{2}{10}e^{2t}+\\frac{3}{10}e^{3t}+\\frac{4}{10}e^{4t}$, then find $PMF$ of $X$"
   ]
  },
  {
   "cell_type": "markdown",
   "metadata": {},
   "source": [
    "*solution:* Here $M_X(t)$ already in the form that we want to see, that is\n",
    "$M_X(t)=\\sum_{x\\in S_X}e^{tx}p_X(x)$"
   ]
  },
  {
   "cell_type": "markdown",
   "metadata": {},
   "source": [
    "$\\therefore$ $S_X=\\{1,2,3,4\\}$ and $p_X(x)=\\frac{x}{10}$, $x\\in S_X$ "
   ]
  },
  {
   "cell_type": "markdown",
   "metadata": {},
   "source": [
    "**Problem:** If the $MGF$ of discrete random variable $M_X(t)=e^{\\lambda(e^t-1)}$, then find $PMF$ of $X$"
   ]
  },
  {
   "cell_type": "markdown",
   "metadata": {},
   "source": [
    "*solution:* $M_X(t)=e^{\\lambda(e^t-1)}=e^{-\\lambda}e^{\\lambda{e^t}}$"
   ]
  },
  {
   "cell_type": "markdown",
   "metadata": {},
   "source": [
    "&nbsp; &nbsp; &nbsp;&nbsp; &nbsp; &nbsp; &nbsp; &nbsp; &nbsp; &nbsp; &nbsp; &nbsp; &nbsp; &nbsp; &nbsp;$=e^{-\\lambda}\\sum_{k=0}^{\\infty}\\frac{(\\lambda{e^t})^k}{k!}$ &nbsp; &nbsp; ($\\because$ $e^x=\\sum_{k=0}^{\\infty}\\frac{x^k}{k!}$)"
   ]
  },
  {
   "cell_type": "markdown",
   "metadata": {},
   "source": [
    "&nbsp; &nbsp; &nbsp;&nbsp; &nbsp; &nbsp; &nbsp; &nbsp; &nbsp; &nbsp; &nbsp; &nbsp; &nbsp; &nbsp; &nbsp;$=e^{-\\lambda}\\sum_{k=0}^{\\infty}\\frac{\\lambda^k{e^{kt}}}{k!}$ $=\\sum_{k=0}^{\\infty}{e^{kt}}\\frac{e^{-\\lambda}\\lambda^k }{k!}$ "
   ]
  },
  {
   "cell_type": "markdown",
   "metadata": {},
   "source": [
    "We managed to express $M_X(t)$ in the form $\\sum_{k\\in S_X}e^{kt}p_X(k)$"
   ]
  },
  {
   "cell_type": "markdown",
   "metadata": {},
   "source": [
    "$\\therefore$ $S_X=\\{0,1,2,3,...\\}$ and $p_X(k)=\\frac{e^{-\\lambda}\\lambda^k}{k!}$ for $k\\in S_X$"
   ]
  },
  {
   "cell_type": "markdown",
   "metadata": {},
   "source": [
    "**Exercise:** If the $MGF$ of discrete random variable $M_X(t)=(pe^t+1-p)^n$,$-\\infty<t<\\infty$ then find the $PMF$ of $X$<br><br>"
   ]
  },
  {
   "cell_type": "markdown",
   "metadata": {},
   "source": [
    "Suppose we have partial information about probability distribution, like having knowledge of some moments, say we only know mean (or) mean & variance, then question is, can we say something about probabilities of certain events, like giving upper bound/lower bound for probabilities of those events. Answer is yes, we can give bounds on probabilities of certain type of events using some inequalities without having knowledge of actual probability distribution."
   ]
  },
  {
   "cell_type": "markdown",
   "metadata": {},
   "source": [
    "## Probability Inequalities"
   ]
  },
  {
   "cell_type": "markdown",
   "metadata": {},
   "source": [
    "**Theorem:**(Markov's Inequality)<br>\n",
    "Let $u(X)$ be a non-negative function of random variable $X$. If $E(u(X))$ exists, then for every $c>0$, $P(u(X)\\ge c)\\le \\frac{E(u(X))}{c}$"
   ]
  },
  {
   "cell_type": "markdown",
   "metadata": {},
   "source": [
    "*proof:* We will prove this inequality in the continuous case(in the same way one can prove in discrete case)"
   ]
  },
  {
   "cell_type": "markdown",
   "metadata": {},
   "source": [
    "$E(u(X))=\\int_{-\\infty}^{\\infty}u(x)f_X(x)dx$"
   ]
  },
  {
   "cell_type": "markdown",
   "metadata": {},
   "source": [
    "&nbsp; &nbsp; &nbsp; &nbsp; &nbsp; &nbsp; &nbsp; &nbsp;$=\\int_{x:u(x)\\ge c}u(x)f_X(x)dx+\\int_{x:u(x)<c}u(x)f_X(x)dx$"
   ]
  },
  {
   "cell_type": "markdown",
   "metadata": {},
   "source": [
    "&nbsp; &nbsp; &nbsp; &nbsp; &nbsp; &nbsp; &nbsp; &nbsp;$\\ge \\int_{x:u(x)\\ge c}c f_X(x)dx +\\int_{x:u(x)<c}u(x)f_X(x)dx$"
   ]
  },
  {
   "cell_type": "markdown",
   "metadata": {},
   "source": [
    "&nbsp; &nbsp; &nbsp; &nbsp; &nbsp; &nbsp; &nbsp; &nbsp;$\\ge c\\int_{x:u(x)\\ge c} f_X(x)dx$  &nbsp; &nbsp; $\\left(\\because ~\\int_{x:u(x)<c}u(x)f_X(x)dx \\ge 0\\right)$"
   ]
  },
  {
   "cell_type": "markdown",
   "metadata": {},
   "source": [
    "$E(u(X))\\ge cP({u(X)\\ge c})$"
   ]
  },
  {
   "cell_type": "markdown",
   "metadata": {},
   "source": [
    "$\\therefore$ $P(u(X)\\ge c)\\le \\frac{E(u(X))}{c}$  &nbsp; &nbsp; ($\\because$ $c>0$)"
   ]
  },
  {
   "cell_type": "markdown",
   "metadata": {},
   "source": [
    "**Corollary:** "
   ]
  },
  {
   "cell_type": "markdown",
   "metadata": {},
   "source": [
    "1.  $P(|X|\\ge c)\\le \\frac{E(|X|)}{c}$, for $c>0$  &nbsp; &nbsp; ($\\because$ $u(X)=|X|\\ge0$)"
   ]
  },
  {
   "cell_type": "markdown",
   "metadata": {},
   "source": [
    "2. If $X$ is a non-negative random variable then $P(X\\ge c)\\le \\frac{E(X)}{c}$ for $c>0$ &nbsp; &nbsp; ($\\because$ $u(X)=X\\ge0$)"
   ]
  },
  {
   "cell_type": "markdown",
   "metadata": {},
   "source": [
    "**Theorem:**(Chebyshev's Inequality)<br>\n",
    "Let $X$ be a random variable with mean $\\mu$ and variance $\\sigma^2$, then for every $k>0$, $P\\left(|X-\\mu|\\ge k\\sigma\\right)\\le \\frac{1}{k^2}$ (or) equivalently $P\\left(|X-\\mu|< k\\sigma\\right)\\ge 1-\\frac{1}{k^2}$"
   ]
  },
  {
   "cell_type": "markdown",
   "metadata": {},
   "source": [
    "*proof:* Take $u(X)=(X-\\mu)^2\\ge0$ and $c=k\\sigma>0$"
   ]
  },
  {
   "cell_type": "markdown",
   "metadata": {},
   "source": [
    "and $|X-\\mu|\\ge k\\sigma$ $\\Leftrightarrow$ $(X-\\mu)^2\\ge k^2\\sigma^2$"
   ]
  },
  {
   "cell_type": "markdown",
   "metadata": {},
   "source": [
    "$\\therefore$ $P(|X-\\mu|\\ge k\\sigma)=P((X-\\mu)^2\\ge k^2\\sigma^2)\\le \\frac{E\\left((X-\\mu)^2\\right)}{k^2\\sigma^2}=\\frac{\\sigma^2}{k^2\\sigma^2}$  ($\\because$ Markov's inequality)"
   ]
  },
  {
   "cell_type": "markdown",
   "metadata": {},
   "source": [
    "Hence $P(|X-\\mu|\\ge k\\sigma)\\le \\frac{1}{k^2}$"
   ]
  },
  {
   "cell_type": "markdown",
   "metadata": {},
   "source": [
    "$1-P(|X-\\mu|< k\\sigma)\\le \\frac{1}{k^2}$  $\\Rightarrow$  $P(|X-\\mu|< k\\sigma)\\ge 1-\\frac{1}{k^2}$"
   ]
  },
  {
   "cell_type": "markdown",
   "metadata": {},
   "source": [
    "*Example:* Suppose that it is known that the number of items produced in a factory during a week is a random variable with mean $\\mu=50$<br><br>\n",
    "(a) What can be said about the probability that this week's production will exceed 75?,<br><br>\n",
    "(b) If the variance $\\sigma^2$ of a week's production is known to equal 25, then what can be said about the probability that this week's production will be between 40 and 60."
   ]
  },
  {
   "cell_type": "markdown",
   "metadata": {},
   "source": [
    "*solution:* Let $X$ be the number of items that will be produced in a week "
   ]
  },
  {
   "cell_type": "markdown",
   "metadata": {},
   "source": [
    "(a) $P(X>75)\\le \\frac{E(X)}{75}=\\frac{50}{75}=\\frac{2}{3}$ &nbsp; &nbsp; ($\\because$ corollary 2 of <b>Markov's inequality</b>)"
   ]
  },
  {
   "cell_type": "markdown",
   "metadata": {},
   "source": [
    "(b) $P(40<X<60)=P(40-50<X-50<60-50)$"
   ]
  },
  {
   "cell_type": "markdown",
   "metadata": {},
   "source": [
    "&nbsp; &nbsp; &nbsp; &nbsp; &nbsp; &nbsp; &nbsp; &nbsp; &nbsp; &nbsp; &nbsp; &nbsp; &nbsp; &nbsp; &nbsp;&nbsp; &nbsp; &nbsp; &nbsp;$=P(-10<X-\\mu<10)$&nbsp; &nbsp; &nbsp; &nbsp; ($\\because$ $\\mu=50$)"
   ]
  },
  {
   "cell_type": "markdown",
   "metadata": {},
   "source": [
    "&nbsp; &nbsp; &nbsp; &nbsp; &nbsp; &nbsp; &nbsp; &nbsp; &nbsp; &nbsp; &nbsp; &nbsp; &nbsp; &nbsp; &nbsp; &nbsp; &nbsp; &nbsp; $=P(|X-\\mu|<2(\\sigma))\\ge 1-\\frac{1}{2^2}=\\frac{3}{4}$  &nbsp; &nbsp;($\\because$ $\\sigma=5$ ,$k=2$)"
   ]
  },
  {
   "cell_type": "markdown",
   "metadata": {},
   "source": [
    "So, the probability that this week's production will be between 40 and 60 is at least 0.75"
   ]
  },
  {
   "cell_type": "markdown",
   "metadata": {},
   "source": [
    "**Exercise:** The number of customer who visit a store everyday is a random variable $X$ with mean $\\mu=18$, and $\\sigma=2.5$, then with what probability can we assert that there will be between 8 and 28 customers."
   ]
  },
  {
   "cell_type": "markdown",
   "metadata": {},
   "source": [
    "**Example:** Let $X$ be a random variable with $PDF$ $f_X(x)=\\left\\{\\begin{matrix}\n",
    " \\frac{1}{2\\sqrt{3}}&-\\sqrt{3}<x<\\sqrt{3} \\\\ \n",
    " 0& \\text{otherwise} \n",
    "\\end{matrix}\\right.$ "
   ]
  },
  {
   "cell_type": "markdown",
   "metadata": {},
   "source": [
    "$\\mu=E(X)=\\int_{-\\sqrt{3}}^{\\sqrt{3}}x\\left(\\frac{1}{2\\sqrt{3}}\\right)dx=0$"
   ]
  },
  {
   "cell_type": "markdown",
   "metadata": {},
   "source": [
    "$\\sigma^2=Var(X)=E(X^2)-\\left(E(X)\\right)^2=E(X^2)-0^2=E(X^2)$"
   ]
  },
  {
   "cell_type": "markdown",
   "metadata": {},
   "source": [
    "$E(X^2)=\\int_{-\\sqrt{3}}^{\\sqrt{3}}x^2\\left(\\frac{1}{2\\sqrt{3}}\\right)dx=1$"
   ]
  },
  {
   "cell_type": "markdown",
   "metadata": {},
   "source": [
    "$\\therefore$ $\\sigma^2=1$"
   ]
  },
  {
   "cell_type": "markdown",
   "metadata": {},
   "source": [
    "If we take $k=\\frac{3}{2}$"
   ]
  },
  {
   "cell_type": "markdown",
   "metadata": {},
   "source": [
    "$P(|X-\\mu|\\ge k\\sigma)=P(|X-0|\\ge \\frac{3}{2}(1))$"
   ]
  },
  {
   "cell_type": "markdown",
   "metadata": {},
   "source": [
    "&nbsp; &nbsp;&nbsp; &nbsp; &nbsp; &nbsp;&nbsp; &nbsp; &nbsp; &nbsp;&nbsp; &nbsp; &nbsp; &nbsp;&nbsp; &nbsp; &nbsp; &nbsp;$=P(|X|\\ge\\frac{3}{2})=1-P(|X|<\\frac{3}{2})$"
   ]
  },
  {
   "cell_type": "markdown",
   "metadata": {},
   "source": [
    "&nbsp; &nbsp;&nbsp; &nbsp; &nbsp; &nbsp;&nbsp; &nbsp; &nbsp; &nbsp;&nbsp; &nbsp; &nbsp; &nbsp;&nbsp; &nbsp; &nbsp; &nbsp;$=1-\\int_{\\frac{-3}{2}}^{\\frac{3}{2}}\\left(\\frac{1}{2\\sqrt{3}}\\right)dx=1-\\frac{1}{2\\sqrt{3}}\\left[x\\right]_{-\\frac{3}{2}}^{\\frac{3}{2}}=1-\\frac{1}{2\\sqrt{3}}\\left[\\frac{3}{2}+\\frac{3}{2}\\right]=1-\\frac{\\sqrt{3}}{2}=0.1339$"
   ]
  },
  {
   "cell_type": "markdown",
   "metadata": {},
   "source": [
    "But if we try and apply Chebyshev's inequality, then $P(|X-\\mu|\\ge k\\sigma)\\le \\frac{1}{k^2}=\\frac{1}{\\left(\\frac{3}{2}\\right)^2}=\\frac{4}{9}=0.44$"
   ]
  },
  {
   "cell_type": "markdown",
   "metadata": {},
   "source": [
    "As we see in this case upper bound that we are giving using Chebyshev's inequality is 0.44, but actual probability is only 0.1339, so in this case bound i snot so tight."
   ]
  },
  {
   "cell_type": "markdown",
   "metadata": {},
   "source": [
    "**Example:** Let $X$ be discrete random variable with $S_X=\\{-1,0,1\\}$, $p_X(-1)=\\frac{1}{8},~p_X(0)=\\frac{6}{8},~p_X(1)=\\frac{1}{8}$"
   ]
  },
  {
   "cell_type": "markdown",
   "metadata": {},
   "source": [
    "*solution:* $\\mu=E(X)=(-1)\\times\\frac{1}{8}+(0)\\times\\frac{6}{8}+(1)\\times\\frac{1}{8}=0$"
   ]
  },
  {
   "cell_type": "markdown",
   "metadata": {},
   "source": [
    "$\\sigma^2=Var(X)=E(X^2)-\\left(E(X)\\right)^2=E(X^2)-0^2=E(X^2)$"
   ]
  },
  {
   "cell_type": "markdown",
   "metadata": {},
   "source": [
    "$E(X^2)=(-1)^2\\times\\frac{1}{8}+(0)^2\\times\\frac{6}{8}+(1)^2\\times\\frac{1}{8}=\\frac{1}{4}$"
   ]
  },
  {
   "cell_type": "markdown",
   "metadata": {},
   "source": [
    "$\\therefore$ $\\sigma^2=\\frac{1}{4}\\Rightarrow \\sigma=\\frac{1}{2}$"
   ]
  },
  {
   "cell_type": "markdown",
   "metadata": {},
   "source": [
    "If we take $k=2$"
   ]
  },
  {
   "cell_type": "markdown",
   "metadata": {},
   "source": [
    "$P(|X-\\mu|\\ge k\\sigma)=P\\left(|X-0|\\ge 2(\\frac{1}{2})\\right)$$=P(|X|\\ge 1)=P(X=-1)+P(X=1)=\\frac{1}{8}+\\frac{1}{8}=\\frac{1}{4}$"
   ]
  },
  {
   "cell_type": "markdown",
   "metadata": {},
   "source": [
    "But if we try apply Chebyshev's inequality, $P(|X-\\mu|\\ge k\\sigma)\\le \\frac{1}{k^2}=\\frac{1}{4}$"
   ]
  },
  {
   "cell_type": "markdown",
   "metadata": {},
   "source": [
    "In this case the upper bound  that we got from chebyshev's inequality and actual probability of the event happened to be same. So, here the upper bound is very tight(in fact upper bound equals to actual probability)"
   ]
  },
  {
   "cell_type": "markdown",
   "metadata": {},
   "source": [
    "$\\therefore$ In some problems the bounds we are giving using inequalities can be very tight, and in some other problems it may not be the case."
   ]
  },
  {
   "cell_type": "markdown",
   "metadata": {},
   "source": [
    "**Note:**  Other forms of Chebyshev's inequality"
   ]
  },
  {
   "cell_type": "markdown",
   "metadata": {},
   "source": [
    "1. $P(|X-\\mu|\\ge\\epsilon)\\le \\frac{\\sigma^2}{\\epsilon^2}$"
   ]
  },
  {
   "cell_type": "markdown",
   "metadata": {},
   "source": [
    "*proof:* $P(|X-\\mu|\\ge \\epsilon)=P(|X-\\mu|\\ge \\frac{\\epsilon}{\\sigma}(\\sigma))\\le \\frac{1}{\\left(\\frac{\\epsilon}{\\sigma}\\right)^2}=\\frac{\\sigma^2}{\\epsilon^2}$   ($\\because$ $k=\\frac{\\epsilon}{\\sigma}$)"
   ]
  },
  {
   "cell_type": "markdown",
   "metadata": {},
   "source": [
    "2. $P(|X-\\mu|<\\epsilon)\\ge 1-\\frac{\\sigma^2}{\\epsilon^2}$"
   ]
  },
  {
   "cell_type": "markdown",
   "metadata": {},
   "source": [
    "*proof:* follow from Note 1"
   ]
  },
  {
   "cell_type": "markdown",
   "metadata": {},
   "source": [
    "**Definition:** <br><br>A function $\\varphi$ defined on $(a,b)$ $-\\infty\\le a<b\\le \\infty$, is said to be convex function, if $\\varphi(tx+(1-t)y)\\le t\\varphi(x)+(1-t)\\varphi(y)$ $\\forall x,y\\in (a,b)$, $0<t<1$"
   ]
  },
  {
   "cell_type": "markdown",
   "metadata": {},
   "source": [
    "**Example:** "
   ]
  },
  {
   "cell_type": "code",
   "execution_count": 176,
   "metadata": {},
   "outputs": [
    {
     "data": {
      "image/png": "[encoded data removed]",
      "text/plain": [
       "<Figure size 1296x432 with 2 Axes>"
      ]
     },
     "metadata": {},
     "output_type": "display_data"
    }
   ],
   "source": [
    "import matplotlib.pyplot as plt\n",
    "import numpy as np\n",
    "x1=np.linspace(-2,6,100)\n",
    "fig, ax = plt.subplots(1,2,figsize=(18,6))\n",
    "\n",
    "# Convex function graph example\n",
    "ax[0].plot(x1,10+x1**2,color='blue')\n",
    "ax[0].text(5,34,\"$\\phi(x)$\")\n",
    "ax[0].set_title(\"(i) Convex function\",fontsize=10,color='blue')\n",
    "ax[0].set_yticks([])\n",
    "ax[0].set_xticks([])\n",
    "ax[0].set_ylim(-20,50)\n",
    "ax[0].plot([-2,6],[0,0],color='brown')\n",
    "ax[0].scatter([-1,2],[0,0],color='navy')\n",
    "ax[0].text(-1,-2,\"$x$\",fontsize=8,color='navy')\n",
    "ax[0].text(2,-2,\"$y$\",fontsize=8,color='navy')\n",
    "ax[0].text(0,-2,\"$tx+(1-t)y$\",fontsize=8,color='orange')\n",
    "ax[0].scatter([0.5],[0],color='orange')\n",
    "ax[0].scatter([-1,2],[11,15],color='green')\n",
    "ax[0].scatter([0.5],[10+0.5**2],color='purple')\n",
    "ax[0].scatter([0.5],[(4/3)*(0.5-2)+15],color='red')\n",
    "ax[0].text(-1,11,\"$(x,\\phi(x))$\",fontsize=8,color='green')\n",
    "ax[0].text(2,15,\"$(y,\\phi(y))$\",fontsize=8,color='green')\n",
    "ax[0].text(0,10+0.5**2 - 2,\"$(tx+(1-t)y,\\phi(tx+(1-t)y))$\",fontsize=8,color='purple')\n",
    "ax[0].text(-1,(4/3)*(0.5-2)+15 +2,\"$(tx+(1-t)y,t\\phi(x)+(1-t)\\phi(y))$\",fontsize=8,color='red')\n",
    "ax[0].plot([-1,2],[11,15])\n",
    "ax[0].axis('off')\n",
    "\n",
    "\n",
    "# Non-convex function graph example\n",
    "x2=np.linspace(-3,3,100)\n",
    "ax[1].plot(x2,20+x2**3,color='blue')\n",
    "ax[1].set_title(\"(ii) Non-convex(and Non-concave) function\",fontsize=10,color='blue')\n",
    "ax[1].set_yticks([])\n",
    "ax[1].set_xticks([])\n",
    "ax[1].set_ylim(-20,60)\n",
    "ax[1].plot([-3,3],[0,0],color='brown')\n",
    "ax[1].text(2.5,20+2.5**3,\"$\\phi(x)$\")\n",
    "ax[1].scatter([-2,2],[0,0],color='navy')\n",
    "ax[1].scatter([-1],[0],color='orange')\n",
    "ax[1].text(-2,-2,\"$x$\",fontsize=8,color='navy')\n",
    "ax[1].text(2,-2,\"$y$\",fontsize=8,color='navy')\n",
    "ax[1].text(-1.5,-2,\"$tx+(1-t)y$\",fontsize=8,color='orange')\n",
    "\n",
    "ax[1].scatter([-2,2],[12,28],color='green')\n",
    "ax[1].scatter([-1],[19],color='purple')\n",
    "ax[1].scatter([-1],[4*(-1+2)+12],color='red')\n",
    "ax[1].text(-2,12,\"$(x,\\phi(x))$\",fontsize=8,color='green')\n",
    "ax[1].text(2,28,\"$(y,\\phi(y))$\",fontsize=8,color='green')\n",
    "ax[1].text(-2,19,\"$(tx+(1-t)y,\\phi(tx+(1-t)y))$\",fontsize=8,color='purple')\n",
    "ax[1].text(-1,4*(-1+2)+12-3,\"$(tx+(1-t)y,t\\phi(x)+(1-t)\\phi(y))$\",fontsize=8,color='red')\n",
    "ax[1].plot([-2,2],[12,28])\n",
    "\n",
    "ax[1].axis('off')\n",
    "\n",
    "plt.show()"
   ]
  },
  {
   "cell_type": "code",
   "execution_count": 1,
   "metadata": {},
   "outputs": [
    {
     "data": {
      "text/html": [
       "<iframe src=\"https://editor.p5js.org/nagi1805/embed/ggqRzHT9V\" width=\"600\" height=\"300\"></iframe>\n"
      ],
      "text/plain": [
       "<IPython.core.display.HTML object>"
      ]
     },
     "metadata": {},
     "output_type": "display_data"
    }
   ],
   "source": [
    "%%HTML\n",
    "<iframe src=\"https://editor.p5js.org/nagi1805/embed/ggqRzHT9V\" width=\"600\" height=\"300\"></iframe>"
   ]
  },
  {
   "cell_type": "markdown",
   "metadata": {},
   "source": [
    "**Theorem:** If $\\varphi$ is differentiable, then<br>\n",
    "i). $\\varphi$ is convex iff $\\varphi^{'}(x)\\le \\varphi^{'}(y)~\\forall~a<x<y<b$<br><br>\n",
    "If $\\varphi$ is twice differentiable, then<br>\n",
    "ii). $\\varphi$ is convex iff $\\varphi^{''}(x)\\ge 0 ~\\forall~x\\in(a,b)$"
   ]
  },
  {
   "cell_type": "markdown",
   "metadata": {},
   "source": [
    "### Jensen's Inequality: \n",
    "**Theorem**:If $\\varphi$ is convex function on open interval $I$ and $X$ is a random variable with $S_X\\subseteq I$, and has finite expectation, then $\\varphi(E(X))\\le E(\\varphi(X))$"
   ]
  },
  {
   "cell_type": "markdown",
   "metadata": {},
   "source": [
    "*proof*: We prove this inequality assuming $\\varphi$ is twice differentiable on $I$."
   ]
  },
  {
   "cell_type": "markdown",
   "metadata": {},
   "source": [
    "and $\\mu=E(X)\\in I$  &nbsp; &nbsp;($\\because$ $S_X\\subset I$)"
   ]
  },
  {
   "cell_type": "markdown",
   "metadata": {},
   "source": [
    "We write Taylor polynomial of second degree about $\\mu$ for $\\varphi$"
   ]
  },
  {
   "cell_type": "markdown",
   "metadata": {},
   "source": [
    "for $x\\in I$, $\\varphi(x)=\\varphi(\\mu)+\\varphi^{'}(\\mu)\\frac{(x-\\mu)}{1!}+\\varphi^{''}(c)\\frac{(x-\\mu)^2}{2!}$, where $c$ lies between $\\mu$ and $x$"
   ]
  },
  {
   "cell_type": "markdown",
   "metadata": {},
   "source": [
    "$\\varphi(X)=\\varphi(\\mu)+\\varphi^{'}(\\mu)\\frac{(X-\\mu)}{1!}+\\varphi^{''}(c)\\frac{(X-\\mu)^2}{2!}$"
   ]
  },
  {
   "cell_type": "markdown",
   "metadata": {},
   "source": [
    "$\\varphi(X)\\ge \\varphi(\\mu)+\\varphi^{'}(\\mu){(X-\\mu)}$  &nbsp; &nbsp; ($\\because$ $(X-\\mu)^2\\ge 0$ & $\\varphi^{''}(c)\\ge 0$ $\\Rightarrow$ $\\frac{\\varphi^{''}(c)(X-\\mu)^2}{2!}\\ge 0$)"
   ]
  },
  {
   "cell_type": "markdown",
   "metadata": {},
   "source": [
    "$E(\\varphi(X))\\ge E\\left(\\varphi(\\mu)+\\varphi^{'}(\\mu){(X-\\mu)}\\right)$ &nbsp; &nbsp; ($\\because$ $g_1(X)\\ge g_2(X)\\Rightarrow E(g_1(X))\\ge E(g_2(X))$"
   ]
  },
  {
   "cell_type": "markdown",
   "metadata": {},
   "source": [
    "$E(\\varphi(X))\\ge \\varphi(\\mu)+\\varphi^{'}(\\mu){E(X-\\mu)}$"
   ]
  },
  {
   "cell_type": "markdown",
   "metadata": {},
   "source": [
    "$E(\\varphi(X))\\ge \\varphi(\\mu)$ &nbsp; &nbsp; &nbsp; &nbsp;($\\because$ $E(X-\\mu)=0$)"
   ]
  },
  {
   "cell_type": "markdown",
   "metadata": {},
   "source": [
    "$\\therefore$  $E(\\varphi(X))\\ge \\varphi(E(X))$"
   ]
  },
  {
   "cell_type": "markdown",
   "metadata": {},
   "source": [
    "**Example:** $E(X^2)\\ge (E(X))^2$"
   ]
  },
  {
   "cell_type": "markdown",
   "metadata": {},
   "source": [
    "Let $\\varphi(x)=x^2 \\Rightarrow \\varphi^{''}(x)=2>0$ $\\Rightarrow$ $\\varphi$ is convex function"
   ]
  },
  {
   "cell_type": "markdown",
   "metadata": {},
   "source": [
    "$\\therefore$ By Jensen's inequality $E(\\varphi(X))\\ge \\varphi(E(X))$"
   ]
  },
  {
   "cell_type": "markdown",
   "metadata": {},
   "source": [
    "Hence $E(X^2)\\ge (E(X))^2$"
   ]
  },
  {
   "cell_type": "markdown",
   "metadata": {},
   "source": [
    "**problem:** $H.M\\le G.M\\le A.M$"
   ]
  },
  {
   "cell_type": "markdown",
   "metadata": {},
   "source": [
    "*solution*: Let $a_1,a_2,...,a_n$ are $n$ positive numbers then<br><br>\n",
    "$A.M=\\frac{1}{n}\\sum_{i=1}^{n}a_i$, &nbsp;$G.M=\\left(\\prod_{i=1}^{n}a_i\\right)^{\\frac{1}{n}}$, &nbsp;$H.M=\\frac{n}{\\sum_{i=1}^{n}\\frac{1}{a_i}}$"
   ]
  },
  {
   "cell_type": "markdown",
   "metadata": {},
   "source": [
    "Let $X$ be a random variable with $S_X=\\{a_1,a_2,...,a_n\\}$,and $PMF$ $p_X(a_i)=\\frac{1}{n}$, for $i=1,2,...,n$ "
   ]
  },
  {
   "cell_type": "markdown",
   "metadata": {},
   "source": [
    "then $E(X)=\\sum_{i=1}^{n}a_ip_X(a_i)=\\sum_{i=1}^{n}a_i\\left(\\frac{1}{n}\\right)=\\frac{1}{n}\\sum_{i=1}^{n}a_i$"
   ]
  },
  {
   "cell_type": "markdown",
   "metadata": {},
   "source": [
    "$E(\\log{X})=\\sum_{i=1}^{n}\\log{(a_i)}p_X(a_i)=\\frac{1}{n}\\sum_{i=1}^{n}\\log{(a_i)}=\\frac{1}{n}\\log(a_1a_2...a_n)=\\log{\\left(\\prod_{i=1}^{n}a_i\\right)^{\\frac{1}{n}}}$"
   ]
  },
  {
   "cell_type": "markdown",
   "metadata": {},
   "source": [
    "Take $\\varphi(x)=-\\log{x}\\Rightarrow~\\varphi^{'}(x)=\\frac{-1}{x}=\\Rightarrow~\\varphi^{''}(x)=\\frac{1}{x^2}>0$"
   ]
  },
  {
   "cell_type": "markdown",
   "metadata": {},
   "source": [
    "$\\therefore$ $\\varphi(x)=-\\log{x}$ convex"
   ]
  },
  {
   "cell_type": "markdown",
   "metadata": {},
   "source": [
    "By Jensen's inequality we have $E(\\varphi(X))\\ge \\varphi(E(X))$"
   ]
  },
  {
   "cell_type": "markdown",
   "metadata": {},
   "source": [
    "$E(-\\log{X})\\ge -\\log{E(X)}\\Rightarrow -E(\\log{X})\\ge -\\log{E(X)} \\Rightarrow E(\\log{X})\\le \\log{E(X)}$"
   ]
  },
  {
   "cell_type": "markdown",
   "metadata": {},
   "source": [
    "$\\log{\\left(\\prod_{i=1}^{n}a_i\\right)^{\\frac{1}{n}}}\\le \\log\\left(\\frac{1}{n}\\sum_{i=1}^{n}a_i\\right)$"
   ]
  },
  {
   "cell_type": "markdown",
   "metadata": {},
   "source": [
    "${\\left(\\prod_{i=1}^{n}a_i\\right)^{\\frac{1}{n}}}\\le \\frac{1}{n}\\sum_{i=1}^{n}a_i$ ($\\because$ $\\log{x}$ is increasing function)"
   ]
  },
  {
   "cell_type": "markdown",
   "metadata": {},
   "source": [
    "$\\therefore$ $G.M\\le A.M$ &nbsp; &nbsp; &nbsp; &nbsp; &nbsp; &nbsp;<b>-----(1)</b>"
   ]
  },
  {
   "cell_type": "markdown",
   "metadata": {},
   "source": [
    "Let  $b_1,b_2,...,b_n$ are $n$ positive numbers where $b_i=\\frac{1}{a_i}$ for $i=1,2,3,...n$"
   ]
  },
  {
   "cell_type": "markdown",
   "metadata": {},
   "source": [
    "now apply $A.M-G.M$ inequality to $b_1,b_2,...,b_n$"
   ]
  },
  {
   "cell_type": "markdown",
   "metadata": {},
   "source": [
    "${\\left(\\prod_{i=1}^{n}b_i\\right)^{\\frac{1}{n}}}\\le \\frac{1}{n}\\sum_{i=1}^{n}b_i$"
   ]
  },
  {
   "cell_type": "markdown",
   "metadata": {},
   "source": [
    "${\\left(\\prod_{i=1}^{n}\\frac{1}{a_i}\\right)^{\\frac{1}{n}}}\\le \\frac{1}{n}\\sum_{i=1}^{n}\\frac{1}{a_i}\\Rightarrow$ $\\frac{1}{{\\left(\\prod_{i=1}^{n}{a_i}\\right)^{\\frac{1}{n}}}}\\le \\frac{1}{n}\\sum_{i=1}^{n}\\frac{1}{a_i}\\Rightarrow$ $\\frac{n}{\\sum_{i=1}^{n}\\frac{1}{a_i}}\\le{\\left(\\prod_{i=1}^{n}{a_i}\\right)^{\\frac{1}{n}}}$"
   ]
  },
  {
   "cell_type": "markdown",
   "metadata": {},
   "source": [
    "$\\therefore$ $H.M\\le G.M$ &nbsp; &nbsp; &nbsp; &nbsp; &nbsp; &nbsp;<b>-----(2)</b>"
   ]
  },
  {
   "cell_type": "markdown",
   "metadata": {},
   "source": [
    "from (1)&(2) we have, $H.M\\le G.M\\le A.M$"
   ]
  }
 ],
 "metadata": {
  "hide_input": false,
  "kernelspec": {
   "display_name": "Python 3 (ipykernel)",
   "language": "python",
   "name": "python3"
  },
  "language_info": {
   "codemirror_mode": {
    "name": "ipython",
    "version": 3
   },
   "file_extension": ".py",
   "mimetype": "text/x-python",
   "name": "python",
   "nbconvert_exporter": "python",
   "pygments_lexer": "ipython3",
   "version": "3.10.0"
  }
 },
 "nbformat": 4,
 "nbformat_minor": 4
}
