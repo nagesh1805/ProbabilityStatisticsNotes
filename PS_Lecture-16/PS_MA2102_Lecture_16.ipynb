{
 "cells": [
  {
   "cell_type": "markdown",
   "metadata": {},
   "source": [
    "<h2 style=\"text-align:center\"> MA2102</h2>\n",
    "<h1 style=\"text-align:center\"> Probability and Statistics</h1>\n",
    "<h4 style=\"text-align:center\"> Lecture-16</h4>"
   ]
  },
  {
   "cell_type": "markdown",
   "metadata": {},
   "source": [
    "# Some Special Discrete Distributions"
   ]
  },
  {
   "cell_type": "markdown",
   "metadata": {},
   "source": [
    "There are some specific distributions that come up in practice a lot, thus they have been given special names. Behind each of these special distributions there is a random experiment, so we study and understand these random experiments on which the random variable is defined, then we derive corresponding $PMF/PDF$, and $MGF$(when exists), then we can use this knowledge directly(without deriving) every time when these distributions comes in practice."
   ]
  },
  {
   "cell_type": "markdown",
   "metadata": {},
   "source": [
    "### Discrete Uniform distribution:"
   ]
  },
  {
   "cell_type": "markdown",
   "metadata": {},
   "source": [
    "Consider a random experiment of picking a number from $1,2,3,...,N$ at random.<br><br>\n",
    "Let $X$ denote the number we picked. $S_X=\\{1,2,...N\\}$<br><br>"
   ]
  },
  {
   "cell_type": "markdown",
   "metadata": {},
   "source": [
    "$PMF$ $p_X(i)=\\frac{1}{N}$, for $i\\in S_X$"
   ]
  },
  {
   "cell_type": "markdown",
   "metadata": {},
   "source": [
    "**Validity of PMF:**"
   ]
  },
  {
   "cell_type": "markdown",
   "metadata": {},
   "source": [
    "- $p_X(i)>0$ for $i=1...N$"
   ]
  },
  {
   "cell_type": "markdown",
   "metadata": {},
   "source": [
    "- $\\sum_{i=1}^{N}p_X(i)\\sum_{i=1}^{N}\\frac{1}{N}=1$"
   ]
  },
  {
   "cell_type": "markdown",
   "metadata": {},
   "source": [
    "Here $X$ is said to have <b>Discrete Uniform distribution</b> over $\\{1,2,3,...,N\\}$"
   ]
  },
  {
   "cell_type": "markdown",
   "metadata": {},
   "source": [
    "**Notation:** $X\\sim U[1...N]$"
   ]
  },
  {
   "cell_type": "markdown",
   "metadata": {},
   "source": [
    "$E(X)=\\frac{N+1}{2}$, &nbsp; &nbsp; $E(X^2)=\\frac{(N+1)(2N+1)}{6}$, &nbsp; &nbsp; $Var(X)=\\frac{N^2-1}{12}$"
   ]
  },
  {
   "cell_type": "markdown",
   "metadata": {},
   "source": [
    "$M_X(t)=E(e^{tX})=\\sum_{i=1}^{N}e^{ti}p_X(i)=\\frac{1}{N}\\sum_{i=1}^{N}(e^t)^i$"
   ]
  },
  {
   "cell_type": "markdown",
   "metadata": {},
   "source": [
    "$M_X(t)=\\left\\{\\begin{matrix}\n",
    "\\frac{e^t(e^{Nt}-1)}{N(e^t-1)} & t\\ne 0\\\\ \n",
    " 1& t=0\n",
    "\\end{matrix}\\right.$"
   ]
  },
  {
   "cell_type": "markdown",
   "metadata": {},
   "source": [
    "**Example:** Consider a random experiment where you pick a ball at random from the box which contains $20$ balls with labels $1,2,3,...,20$."
   ]
  },
  {
   "cell_type": "markdown",
   "metadata": {},
   "source": [
    "Let $X$ be the random variable denoting the label of selected ball, then $X\\sim U[1...20]$"
   ]
  },
  {
   "cell_type": "markdown",
   "metadata": {},
   "source": [
    "$S_X=\\{1,2,...,20\\}$, and $PMF$ $p_X(i)=\\frac{1}{20}$ for $i\\in S_X$"
   ]
  },
  {
   "cell_type": "markdown",
   "metadata": {},
   "source": [
    "$E(X)=\\frac{20+1}{2}=10.5$"
   ]
  },
  {
   "cell_type": "markdown",
   "metadata": {},
   "source": [
    "$Var(X)=\\frac{20^2-1}{12}=\\frac{399}{12}$, &nbsp; &nbsp; $SD(X)=\\sqrt{\\frac{399}{12}}=5.766$"
   ]
  },
  {
   "cell_type": "markdown",
   "metadata": {},
   "source": [
    "### Degenerate distribution:"
   ]
  },
  {
   "cell_type": "markdown",
   "metadata": {},
   "source": [
    "Consider a random experiment where a particular event $E$ happens with probability 1, then we can define random variable as $X(\\omega)=c$ if $\\omega \\in E$"
   ]
  },
  {
   "cell_type": "markdown",
   "metadata": {},
   "source": [
    "then $P(X=c)=1$"
   ]
  },
  {
   "cell_type": "markdown",
   "metadata": {},
   "source": [
    "Here $X$ is said to have <b>Degenerate distribution</b> at c"
   ]
  },
  {
   "cell_type": "markdown",
   "metadata": {},
   "source": [
    "**Example:** Consider  a random experiment of picking a number at random from $[0,1]$,then $\\Omega=[0,1]$"
   ]
  },
  {
   "cell_type": "markdown",
   "metadata": {},
   "source": [
    "define $X:\\Omega\\to \\mathbb{R}$, $X(\\omega)=\\left\\{\\begin{matrix}\n",
    "1 & \\text{if } \\omega \\text{ is irrational} \\\\ \n",
    "\\omega& \\text{if } \\omega \\text{ is rational}\n",
    "\\end{matrix}\\right.$"
   ]
  },
  {
   "cell_type": "markdown",
   "metadata": {},
   "source": [
    "Here $P(X=1)=P(\\text{picking a irrational number in} [0,1])=1$"
   ]
  },
  {
   "cell_type": "markdown",
   "metadata": {},
   "source": [
    "$\\therefore$ $X$ is degenerate random variable at $1$"
   ]
  },
  {
   "cell_type": "markdown",
   "metadata": {},
   "source": [
    "<br>"
   ]
  },
  {
   "cell_type": "markdown",
   "metadata": {},
   "source": [
    "The distributions that we are going to talk next arises in experiments called Bernouli trials"
   ]
  },
  {
   "cell_type": "markdown",
   "metadata": {},
   "source": [
    "**Bernoulli Experiment:** A random experiment in which outcomes can be classified as <span style=\"color:green\">$SUCESS$</span>$/$<span style=\"color:red\">$FAILURE$</span> type."
   ]
  },
  {
   "cell_type": "markdown",
   "metadata": {},
   "source": [
    "Examples of Bernouli experiments:\n",
    "1.  *Tossing a coin*: Head:<span style=\"color:green\"> Success</span>, Tail:<span style=\"color:red\"> Failure</span>"
   ]
  },
  {
   "cell_type": "markdown",
   "metadata": {},
   "source": [
    "2.  *Rolling a die*: Even:<span style=\"color:green\"> Success</span>, Odd:<span style=\"color:red\"> Failure</span>"
   ]
  },
  {
   "cell_type": "markdown",
   "metadata": {},
   "source": [
    "3. *Picking a card from deck*: Red:<span style=\"color:green\"> Success</span>, Black:<span style=\"color:red\"> Failure</span>"
   ]
  },
  {
   "cell_type": "markdown",
   "metadata": {},
   "source": [
    "4. *Picking a item from alot*: Defective:<span style=\"color:green\"> Success</span>, Non-defective:<span style=\"color:red\"> Failure</span>"
   ]
  },
  {
   "cell_type": "markdown",
   "metadata": {},
   "source": [
    "5. *Appearing for GATE Exam*: Qualified:<span style=\"color:green\"> Success</span>, Disqualified:<span style=\"color:red\"> Failure</span>"
   ]
  },
  {
   "cell_type": "markdown",
   "metadata": {},
   "source": [
    "A particular performance of a Bernouli experiment is called Bernouli trial."
   ]
  },
  {
   "cell_type": "markdown",
   "metadata": {},
   "source": [
    "**Bernoulli Distribution:** In a Bernouli trial, define a random variable $X$, $X(\\text{success})=1,X(\\text{failure})=0$"
   ]
  },
  {
   "cell_type": "markdown",
   "metadata": {},
   "source": [
    "Let $p~(0<p<1)$ be the probability of success, then"
   ]
  },
  {
   "cell_type": "markdown",
   "metadata": {},
   "source": [
    "$p_X(1)=P(X=1)=P(\\text{success})=p$, $p_X(0)=P(X=0)=P(\\text{failure})=1-p$"
   ]
  },
  {
   "cell_type": "markdown",
   "metadata": {},
   "source": [
    "**Validity of PMF:**"
   ]
  },
  {
   "cell_type": "markdown",
   "metadata": {},
   "source": [
    "- $p_X(i)>0$ for $i=0,1$"
   ]
  },
  {
   "cell_type": "markdown",
   "metadata": {},
   "source": [
    "- $p_X(0)+p_X(1)=(1-p)+p=1$"
   ]
  },
  {
   "cell_type": "markdown",
   "metadata": {},
   "source": [
    "Here $X$ is said to have a <b>Bernoulli distribution</b> with parameter $p$, where $p$ is probability of success."
   ]
  },
  {
   "cell_type": "markdown",
   "metadata": {},
   "source": [
    "**Notation:** $X\\sim Bern(p)$"
   ]
  },
  {
   "cell_type": "markdown",
   "metadata": {},
   "source": [
    "Here $S_X=\\{0,1\\}$, $p_X(0)=1-p$, $p_X(1)=p$"
   ]
  },
  {
   "cell_type": "markdown",
   "metadata": {},
   "source": [
    "$E(X^k)=0^kp_X(0)+1^kp_X(1)=p$"
   ]
  },
  {
   "cell_type": "markdown",
   "metadata": {},
   "source": [
    "$\\therefore$ $E(X)=p$, $Var(X)=E(X^2)-E(X)^2=p-p^2=p(1-p)$"
   ]
  },
  {
   "cell_type": "markdown",
   "metadata": {},
   "source": [
    "$MGF:$ $M_X(t)=E(e^{tX})=e^0p_X(0)+e^tp_X(1)=(1-p+pe^t)$ $-\\infty<t<\\infty$"
   ]
  },
  {
   "cell_type": "markdown",
   "metadata": {},
   "source": [
    "Now, we are going to look at generalization of Bernouli distribution, that is <b>Binomial Distribution</b>"
   ]
  },
  {
   "cell_type": "markdown",
   "metadata": {},
   "source": [
    "### Binomial Distribution:"
   ]
  },
  {
   "cell_type": "markdown",
   "metadata": {},
   "source": [
    "Consider a random experiment where we perform sequence of $n$ independent and identical Bernouli trials each with probability of success $p$. "
   ]
  },
  {
   "cell_type": "markdown",
   "metadata": {},
   "source": [
    "Sample space $\\Omega=\\{\\omega:\\omega=b_1b_2...b_n, b_i\\in\\{S,F\\} \\text{ for }i=1,2...n\\}$"
   ]
  },
  {
   "cell_type": "markdown",
   "metadata": {},
   "source": [
    "Let $E_k=\\{\\omega \\in \\Omega: \\text{ number of S in } \\omega=k \\}$ for $k=0,1,2,...n$"
   ]
  },
  {
   "cell_type": "markdown",
   "metadata": {},
   "source": [
    "$|E_k|=\\binom{n}{k}$ for $k=0,1,2,...n$"
   ]
  },
  {
   "cell_type": "markdown",
   "metadata": {},
   "source": [
    "$P(\\{\\omega\\})=p^k(1-p)^{n-k}$ $\\forall \\omega \\in E_k$  &nbsp; ($\\because$ trails are independent)"
   ]
  },
  {
   "cell_type": "markdown",
   "metadata": {},
   "source": [
    "define $X:\\Omega\\to\\mathbb{R}$"
   ]
  },
  {
   "cell_type": "markdown",
   "metadata": {},
   "source": [
    "$X(\\omega)=\\text{ number of S in } \\omega$, &nbsp; &nbsp; $S_X=\\{0,1,2,3,...n\\}$"
   ]
  },
  {
   "cell_type": "markdown",
   "metadata": {},
   "source": [
    "$PMF$ of $X$, $p_X(k)=P(X=k)=P(E_k)=\\sum_{\\omega\\in E_k}P(\\{\\omega\\})=\\sum_{\\omega\\in E_k}p^k(1-p)^{n-k}=|E_k|p^k(1-p)^{n-k}=\\binom{n}{k}p^k(1-p)^{n-k}$"
   ]
  },
  {
   "cell_type": "markdown",
   "metadata": {},
   "source": [
    "$\\therefore$ $PMF$ $p_X(k)=\\binom{n}{k}p^k(1-p)^{n-k}$ for $k=0,1,2,...n$"
   ]
  },
  {
   "cell_type": "markdown",
   "metadata": {},
   "source": [
    "**Validity of PMF:**"
   ]
  },
  {
   "cell_type": "markdown",
   "metadata": {},
   "source": [
    "- $p_X(k)>0$ for $k=0,1,2,..n$"
   ]
  },
  {
   "cell_type": "markdown",
   "metadata": {},
   "source": [
    "- $\\sum_{k=0}^{n}p_X(k)=\\sum_{k=0}^{n}\\binom{n}{k}p^k(1-p)^{n-k}=(p+(1-p))^n=1$"
   ]
  },
  {
   "cell_type": "markdown",
   "metadata": {},
   "source": [
    "Here $X$ is said to have <b>Binomial distribution</b> with parameters $n$(number of trials) ,and $p$(probability of success) "
   ]
  },
  {
   "cell_type": "markdown",
   "metadata": {},
   "source": [
    "**Notation:** $X\\sim Bin(n,p)$"
   ]
  },
  {
   "cell_type": "markdown",
   "metadata": {},
   "source": [
    "$MGF:$ $M_X(t)=\\left(1-p+pe^t\\right)^n$, $-\\infty<t<\\infty$"
   ]
  },
  {
   "cell_type": "markdown",
   "metadata": {},
   "source": [
    "**Exercise:** For $X\\sim Bin(n,p)$, show that $\\mu=np$, and $\\sigma^2=np(1-p)$ through $MGF$ of $X$<br>\n",
    "$\\left[ Hint:\\mu=M_X^{(1)}(0),\\sigma^2=M_X^{(2)}(0)-\\left(M_X^{(1)}(0)\\right)^2\\right]$"
   ]
  },
  {
   "cell_type": "markdown",
   "metadata": {},
   "source": [
    "### Python scipy Binomial Distribution:"
   ]
  },
  {
   "cell_type": "code",
   "execution_count": 5,
   "metadata": {},
   "outputs": [
    {
     "name": "stdout",
     "output_type": "stream",
     "text": [
      "0.08808038400000008\n",
      "0.9991356416\n",
      "2.0\n",
      "1.6\n",
      "1.2649110640673518\n"
     ]
    }
   ],
   "source": [
    "from scipy import stats\n",
    "X = stats.binom(10, 0.2) # Declare X to be a binomial random variable\n",
    "print(X.pmf(4))           # P(X = 4)\n",
    "print(X.cdf(6))           # P(X <= 6)\n",
    "print(X.mean())           # E[X]\n",
    "print(X.var())            # Var(X)\n",
    "print(X.std())            #SD(X)\n",
    "#help(X)                  # List all methods defined for X"
   ]
  },
  {
   "cell_type": "markdown",
   "metadata": {},
   "source": [
    "**Problem:** An airline knows that $5%$ people who makes reservation do not turn up for the flight, so it sells 52 tickets for a 50 seat flight. What is the probability that every passenger who turn up for the flight will get a seat?"
   ]
  },
  {
   "cell_type": "markdown",
   "metadata": {},
   "source": [
    "*solution:* Each of the 52 passenger either turn up for flight(success)  or do not turn up for flight(failure)"
   ]
  },
  {
   "cell_type": "markdown",
   "metadata": {},
   "source": [
    "So, checking out these 52 passengers is like a performing a 52 independent and identical Bernoulli trials. Each with probability of success $p=0.95$"
   ]
  },
  {
   "cell_type": "markdown",
   "metadata": {},
   "source": [
    "Let $X=$ number of passenger who turn up (success)"
   ]
  },
  {
   "cell_type": "markdown",
   "metadata": {},
   "source": [
    "$X\\sim Bin(52,0.95)$  ($\\because$ $n=52$,$p=0.95$)"
   ]
  },
  {
   "cell_type": "markdown",
   "metadata": {},
   "source": [
    "Let $A$ be the event that every passenger who turn up will get a seat."
   ]
  },
  {
   "cell_type": "markdown",
   "metadata": {},
   "source": [
    "$A$ happens $\\Leftrightarrow$ $X\\le 50$"
   ]
  },
  {
   "cell_type": "markdown",
   "metadata": {},
   "source": [
    "$P(A)=P(X\\le 50)=1-P(X>50)=1-P(X=51)-P(X=52)$"
   ]
  },
  {
   "cell_type": "markdown",
   "metadata": {},
   "source": [
    "&nbsp; &nbsp; &nbsp; &nbsp; &nbsp; &nbsp; &nbsp; &nbsp; &nbsp; &nbsp; &nbsp; &nbsp; &nbsp; &nbsp; &nbsp; &nbsp; &nbsp; &nbsp; &nbsp; &nbsp; &nbsp; &nbsp; &nbsp; &nbsp; &nbsp; &nbsp; &nbsp; &nbsp; &nbsp; &nbsp; &nbsp; &nbsp; &nbsp; &nbsp; &nbsp; $=1-\\binom{52}{51}(0.95)^{51}(0.05)-\\binom{52}{52}(0.95)^{52}\\approx0.74$"
   ]
  },
  {
   "cell_type": "markdown",
   "metadata": {},
   "source": [
    "**Problem:** It is known that the screws produced by certain company will be defective with probability 0.01 independently of each other. The company sells the screws in packages of 10 and offers a money-back guarantee that at most 1 of the 10 screws is defective. What proportion of packages sold must the company replace?"
   ]
  },
  {
   "cell_type": "markdown",
   "metadata": {},
   "source": [
    "*solution:* Here each of the 10 screws in packages is either non-defective(failure) or defective (success)"
   ]
  },
  {
   "cell_type": "markdown",
   "metadata": {},
   "source": [
    "So, observing these 10 screws in the package is kind of like performing 10 independent and identical Bernoulli trials with probability of success $p=0.01$"
   ]
  },
  {
   "cell_type": "markdown",
   "metadata": {},
   "source": [
    "Let $X=$ number of defective screws(success) in package"
   ]
  },
  {
   "cell_type": "markdown",
   "metadata": {},
   "source": [
    "$X\\sim Bin(10,0.01)$ i.e $n=10$, $p=0.01$"
   ]
  },
  {
   "cell_type": "markdown",
   "metadata": {},
   "source": [
    "then $P(X=k)=\\binom{10}{k}(0.01)^k(1-0.01)^{10-k}$, for $k=0,1,2,...10$"
   ]
  },
  {
   "cell_type": "markdown",
   "metadata": {},
   "source": [
    "Let $A$ be the event that a random package that is sold coming back to company for replacement."
   ]
  },
  {
   "cell_type": "markdown",
   "metadata": {},
   "source": [
    "$A$ happens $\\Leftrightarrow$ $X>1$"
   ]
  },
  {
   "cell_type": "markdown",
   "metadata": {},
   "source": [
    "$P(A)=P(X>1)=1-P(X\\le 1)=1-P(X=0)-P(X=1)$"
   ]
  },
  {
   "cell_type": "markdown",
   "metadata": {},
   "source": [
    "$=1-\\binom{10}{0}(1-0.01)^{10}-\\binom{10}{1}(0.01)(1-0.01)^{9}\\approx 0.004$"
   ]
  },
  {
   "cell_type": "markdown",
   "metadata": {},
   "source": [
    "Hence only $0.4\\%$ of packages will have to be replaced"
   ]
  },
  {
   "cell_type": "code",
   "execution_count": 1,
   "metadata": {},
   "outputs": [
    {
     "data": {
      "application/vnd.jupyter.widget-view+json": {
       "model_id": "7bbb588bc8024c648ec2ff66cd903780",
       "version_major": 2,
       "version_minor": 0
      },
      "text/plain": [
       "interactive(children=(IntSlider(value=10, description='n:'), FloatSlider(value=0.5, description='p:', max=1.0,…"
      ]
     },
     "metadata": {},
     "output_type": "display_data"
    }
   ],
   "source": [
    "%matplotlib inline\n",
    "import math\n",
    "import numpy as np\n",
    "import matplotlib.pyplot as plt\n",
    "from ipywidgets import interact ,interactive, fixed, interact_manual\n",
    "import ipywidgets as widgets\n",
    "\n",
    "def nCr(n,r=3,d={}):\n",
    "    if r > n :\n",
    "        return 0\n",
    "    elif n==r or r==0:\n",
    "        return 1\n",
    "    \n",
    "    else:\n",
    "        if not (n,r) in d:\n",
    "            d[(n,r)]=nCr(n-1,r-1,d)+nCr(n-1,r,d)  # memoization\n",
    "        return d[(n,r)]\n",
    "    \n",
    "def binom_pmf(n,p,k):\n",
    "    if k>=0 and k<=n:\n",
    "        return nCr(n,k)*(p**k)*(1-p)**(n-k)\n",
    "    else:\n",
    "        return 0\n",
    "\n",
    "def binom_cdf(n,p,x):\n",
    "    s=0;\n",
    "    for k in range(0,math.floor(x)+1):\n",
    "        s+=binom_pmf(n,p,k)\n",
    "    return s\n",
    "def binom_pmf_vec(n,p):\n",
    "    v=[]\n",
    "    for k in range(0,n+1):\n",
    "        v.append(binom_pmf(n,p,k))\n",
    "    return v\n",
    "\n",
    "def binom_bar(n,p):\n",
    "    #fig, ax = plt.subplots()\n",
    "    fig = plt.figure(figsize=(12,8))\n",
    "    ax=fig.add_subplot(111)\n",
    "    ax.bar(list(range(n+1)),binom_pmf_vec(n,p))\n",
    "    ax.set_title(\"Binomial Distribution\")\n",
    "    ax.set_xlabel(\"$trial$\")\n",
    "    ax.set_ylabel(\"$p_X(k)$\")\n",
    "    plt.show()\n",
    "    \n",
    "\n",
    "# Please Click the Run Interact Button to see the Bar graph\n",
    "\n",
    "interactive(binom_bar,{'manual':True},n=widgets.IntSlider(min=0, max=100, step=1, value=10,description='n:'),p=widgets.FloatSlider(min=0, max=1, step=0.05, value=0.5,description='p:'))\n",
    "    "
   ]
  },
  {
   "cell_type": "markdown",
   "metadata": {},
   "source": [
    "**Theorem:** Let $n$ is large and $p$ is small and $np=\\lambda$,then $\\binom{n}{k}p^k(1-p)^{n-k}\\approx \\frac{e^{-\\lambda}\\lambda^k}{k!}$, for $k=0,1,2,3,...$"
   ]
  },
  {
   "cell_type": "markdown",
   "metadata": {},
   "source": [
    "i.e If $\\lim_{n\\to\\infty,p\\to 0}np=\\lambda$, then $\\lim_{n\\to\\infty}\\binom{n}{k}p^k(1-p)^{n-k}=\\frac{e^{-\\lambda}\\lambda^k}{k!}$"
   ]
  },
  {
   "cell_type": "markdown",
   "metadata": {},
   "source": [
    "*proof:* For large $n$, small $p$, $np=\\lambda\\Rightarrow$ $p=\\frac{\\lambda}{n}$"
   ]
  },
  {
   "cell_type": "markdown",
   "metadata": {},
   "source": [
    "$\\binom{n}{k}p^k(1-p)^{n-k}=\\frac{n(n-1)(n-2)...(n-k+1)}{k!}\\left(\\frac{\\lambda}{n}\\right)^k\\left(1-\\frac{\\lambda}{n}\\right)^{n-k}$"
   ]
  },
  {
   "cell_type": "markdown",
   "metadata": {},
   "source": [
    "&nbsp; &nbsp; &nbsp; &nbsp; &nbsp; &nbsp; &nbsp; &nbsp; &nbsp; &nbsp; &nbsp; &nbsp; &nbsp; &nbsp; $=\\frac{n(n-1)(n-2)...(n-k+1)}{n^k}\\left(\\frac{\\lambda^k}{k!}\\right)\\frac{\\left(1-\\frac{\\lambda}{n}\\right)^{n}}{\\left(1-\\frac{\\lambda}{n}\\right)^{k}}$"
   ]
  },
  {
   "cell_type": "markdown",
   "metadata": {},
   "source": [
    "&nbsp; &nbsp; &nbsp; &nbsp; &nbsp; &nbsp; &nbsp; &nbsp; &nbsp; &nbsp; &nbsp; &nbsp; &nbsp; &nbsp; $=\\left(\\frac{\\lambda^k}{k!}\\right)(1)\\left((1-\\frac{1}{n}\\right)\\left(1-\\frac{2}{n}\\right)...\\left(1-\\frac{(k-1)}{n}\\right)\\frac{\\left(1-\\frac{\\lambda}{n}\\right)^{n}}{\\left(1-\\frac{\\lambda}{n}\\right)^{k}}$"
   ]
  },
  {
   "cell_type": "markdown",
   "metadata": {},
   "source": [
    "$\\lim_{n\\to\\infty}\\binom{n}{k}p^k(1-p)^{n-k}=\\left(\\frac{\\lambda^k}{k!}\\right)\\lim_{n\\to\\infty}\\left[(1)\\left((1-\\frac{1}{n}\\right)\\left(1-\\frac{2}{n}\\right)...\\left(1-\\frac{(k-1)}{n}\\right)\\right]\\frac{\\left(1-\\frac{\\lambda}{n}\\right)^{n}}{\\left(1-\\frac{\\lambda}{n}\\right)^{k}}$"
   ]
  },
  {
   "cell_type": "markdown",
   "metadata": {},
   "source": [
    "&nbsp; &nbsp;  &nbsp; &nbsp; &nbsp; &nbsp; &nbsp; &nbsp; &nbsp; &nbsp; &nbsp;  &nbsp; &nbsp; &nbsp; &nbsp; &nbsp; &nbsp; &nbsp; &nbsp; &nbsp; &nbsp; &nbsp; &nbsp; &nbsp; &nbsp; $=\\left(\\frac{\\lambda^k}{k!}\\right)\\left[(1)(1-0)(1-0)...(1-0)\\right]\\frac{e^{-\\lambda}}{\\left(1-0\\right)^{k}}=\\frac{e^{-\\lambda}\\lambda^k}{k!}$ for $k=0,1,2,...,n$"
   ]
  },
  {
   "cell_type": "markdown",
   "metadata": {},
   "source": [
    "<br><br>We may have some situations where we look for specified number of success."
   ]
  },
  {
   "cell_type": "markdown",
   "metadata": {},
   "source": [
    "## Negative Binomial distribution:"
   ]
  },
  {
   "cell_type": "markdown",
   "metadata": {},
   "source": [
    "Consider a random experiment, where we perform sequence of independent, and identical Bernouli trials with probability of success $p$, until $r^{th}$ success id obtained."
   ]
  },
  {
   "cell_type": "markdown",
   "metadata": {},
   "source": [
    "Sample space $\\Omega=\\{\\omega:\\omega=\\underbrace{b_1b_2...b_{n}}_{\\text{exactly r of } b_i's  \\text{ equals to} S\\text{ and }b_n=S}, b_i\\in\\{S,F\\} \\text{ for }i=1,2...n, \\text{ and } n\\ge r\\}$"
   ]
  },
  {
   "cell_type": "markdown",
   "metadata": {},
   "source": [
    "Let $E_k=\\{\\omega\\in\\Omega: \\text{number of }F's \\text{ in }\\omega=k \\}$ for $k=0,1,2,...$"
   ]
  },
  {
   "cell_type": "markdown",
   "metadata": {},
   "source": [
    "Here each $\\omega\\in E_k$ is a sequence of $S$,$F$ of length $k+r$($k~F's$, and $r~S's$), that end with $S$"
   ]
  },
  {
   "cell_type": "markdown",
   "metadata": {},
   "source": [
    "$|E_k|=\\binom{k+r-1}{r-1}$ for $k=0,1,2,3,...$"
   ]
  },
  {
   "cell_type": "markdown",
   "metadata": {},
   "source": [
    "and $P(\\{\\omega\\})=p^r(1-p)^{k}~\\forall \\omega\\in E_k$  ($\\because$ trails are independent)"
   ]
  },
  {
   "cell_type": "markdown",
   "metadata": {},
   "source": [
    "define $X:\\Omega\\to\\mathbb{R}$"
   ]
  },
  {
   "cell_type": "markdown",
   "metadata": {},
   "source": [
    "$X(\\omega)=\\text{ number of F in }\\omega$, &nbsp; &nbsp; $S_X=\\{0,1,2,3,...\\}$"
   ]
  },
  {
   "cell_type": "markdown",
   "metadata": {},
   "source": [
    "Here $X$ denote the number of failures that are observed before the $r^{th}$ success"
   ]
  },
  {
   "cell_type": "markdown",
   "metadata": {},
   "source": [
    "$PMF$ of $X$, $p_X(k)=P(X=k)=P(E_k)=\\sum_{\\omega\\in E_k}P(\\{\\omega\\})=\\sum_{\\omega\\in E_k}p^r(1-p)^{k}=p^r(1-p)^{k}|E_k|=\\binom{k+r-1}{r-1}p^r(1-p)^{k}$"
   ]
  },
  {
   "cell_type": "markdown",
   "metadata": {},
   "source": [
    "$\\therefore$ $p_X(k)=\\binom{k+r-1}{r-1}p^r(1-p)^k$, $k=0,1,2,3,...$"
   ]
  },
  {
   "cell_type": "markdown",
   "metadata": {},
   "source": [
    "we can also write the $PMF$ of in terms of extended(negative) binomial coefficient as follows"
   ]
  },
  {
   "cell_type": "markdown",
   "metadata": {},
   "source": [
    "$p_X(k)=(-1)^k\\binom{-r}{k}p^r(1-p)^k$, $k=0,1,2,3,...$  $\\left[\\because\\binom{-r}{k}=(-1)^k\\binom{k+r-1}{k}=(-1)^k\\binom{k+r-1}{r-1}\\right]$"
   ]
  },
  {
   "cell_type": "markdown",
   "metadata": {},
   "source": [
    "**Validity of PMF:**"
   ]
  },
  {
   "cell_type": "markdown",
   "metadata": {},
   "source": [
    "- $p_X(k)>0$ for $k=0,1,2,...$"
   ]
  },
  {
   "cell_type": "markdown",
   "metadata": {},
   "source": [
    "- $\\sum_{k=0}^{\\infty}p_X(k)=\\sum_{k=0}^{\\infty}(-1)^k\\binom{-r}{k}p^r(1-p)^k=p^r\\sum_{k=0}^{\\infty}(-1)^k\\binom{-r}{k}(1-p)^k=p^r(1-(1-p))^{-r}=1$"
   ]
  },
  {
   "cell_type": "markdown",
   "metadata": {},
   "source": [
    "Here $X$ is said to have <b>Negative Binomial distribution</b> with parameters $r$(number of success need to achieve),$p$ (probability of success)"
   ]
  },
  {
   "cell_type": "markdown",
   "metadata": {},
   "source": [
    "**Notation:** $X\\sim NB(r,p)$"
   ]
  },
  {
   "cell_type": "markdown",
   "metadata": {},
   "source": [
    "$MGF:$ $M_X(t)=\\left(\\frac{p}{1-(1-p)e^t}\\right)^r$, $-\\log\\left(\\frac{1}{1-p}\\right)<t<\\log\\left(\\frac{1}{1-p}\\right)$"
   ]
  },
  {
   "cell_type": "markdown",
   "metadata": {},
   "source": [
    "**Exercise:** For $X\\sim NB(r,p)$, show that $\\mu=\\frac{r(1-p)}{p}$, and $\\sigma^2=\\frac{r(1-p)}{p^2}$ through $MGF$<br>\n",
    "$\\left[ Hint:\\mu=M_X^{(1)}(0),\\sigma^2=M_X^{(2)}(0)-\\left(M_X^{(1)}(0)\\right)^2\\right]$"
   ]
  },
  {
   "cell_type": "markdown",
   "metadata": {},
   "source": [
    "### Python scipy Negative Binomial Distribution:"
   ]
  },
  {
   "cell_type": "code",
   "execution_count": 4,
   "metadata": {},
   "outputs": [
    {
     "name": "stdout",
     "output_type": "stream",
     "text": [
      "2.9989273599999987e-05\n",
      "0.0002475776081920002\n",
      "40.0\n",
      "200.0\n",
      "14.142135623730951\n"
     ]
    }
   ],
   "source": [
    "from scipy import stats\n",
    "X = stats.nbinom(10, 0.2) # Declare X to be a negative binomial random variable\n",
    "print(X.pmf(4))           # P(X = 4)\n",
    "print(X.cdf(6))           # P(X <= 6)\n",
    "print(X.mean())           # E[X]\n",
    "print(X.var())            # Var(X)\n",
    "print(X.std())            #SD(X)\n",
    "#help(X)                  # List all methods defined for X"
   ]
  },
  {
   "cell_type": "code",
   "execution_count": 2,
   "metadata": {},
   "outputs": [
    {
     "data": {
      "application/vnd.jupyter.widget-view+json": {
       "model_id": "fd8383e552094fb29a9a8d2c90bce3ef",
       "version_major": 2,
       "version_minor": 0
      },
      "text/plain": [
       "interactive(children=(IntSlider(value=3, description='r:', max=10, min=1), FloatSlider(value=0.2, description=…"
      ]
     },
     "metadata": {},
     "output_type": "display_data"
    }
   ],
   "source": [
    "import math\n",
    "import numpy as np\n",
    "import matplotlib.pyplot as plt\n",
    "from ipywidgets import interact ,interactive, fixed, interact_manual\n",
    "import ipywidgets as widgets\n",
    "INFNITY=200\n",
    "def nCr(n,r=3,d={}):\n",
    "    if r > n :\n",
    "        return 0\n",
    "    elif n==r or r==0:\n",
    "        return 1\n",
    "    \n",
    "    else:\n",
    "        if not (n,r) in d:\n",
    "            d[(n,r)]=nCr(n-1,r-1,d)+nCr(n-1,r,d)  # memoization\n",
    "        return d[(n,r)]\n",
    "    \n",
    "def nbinom_pmf(r,p,k):\n",
    "    if k>=0:\n",
    "        return nCr(k+r-1,r-1)*(p**r)*(1-p)**k\n",
    "    else:\n",
    "        return 0\n",
    "\n",
    "def nbinom_cdf(n,p,x):\n",
    "    s=0;\n",
    "    for k in range(0,math.floor(x)+1):\n",
    "        s+=nbinom_pmf(r,p,k)\n",
    "    return s\n",
    "def nbinom_pmf_vec(r,p):\n",
    "    v=[]\n",
    "    for k in range(0,INFNITY):\n",
    "        v.append(nbinom_pmf(r,p,k))\n",
    "    return v\n",
    "\n",
    "def nbinom_bar(r,p):\n",
    "    #fig, ax = plt.subplots()\n",
    "    fig = plt.figure(figsize=(12,8))\n",
    "    ax=fig.add_subplot(111)\n",
    "    ax.bar(list(range(0,INFNITY)),nbinom_pmf_vec(r,p))\n",
    "    ax.set_title(\"Negative Binomial Distribution\")\n",
    "    ax.set_xlabel(\"$trial$\")\n",
    "    ax.set_ylabel(\"$p_X(k)$\")\n",
    "    plt.show()\n",
    "    \n",
    "\n",
    "# Please Click the Run Interact Button to see the Bar graph\n",
    "\n",
    "\n",
    "interactive(nbinom_bar,{'manual':True},r=widgets.IntSlider(min=1, max=10, step=1, value=3,description='r:'),p=widgets.FloatSlider(min=0, max=1, step=0.05, value=0.2,description='p:'))\n",
    "    "
   ]
  },
  {
   "cell_type": "markdown",
   "metadata": {},
   "source": [
    "If we are interested in $Y=$ number of trials required to see $r^{th}$ success"
   ]
  },
  {
   "cell_type": "markdown",
   "metadata": {},
   "source": [
    "then $Y=X+r$, $S_Y=\\{r,r+1,r+2,...\\}$"
   ]
  },
  {
   "cell_type": "markdown",
   "metadata": {},
   "source": [
    "$p_Y(y)=P(Y=y)=P(X+r=y)=P(X=y-r)=\\binom{(y-r)+r-1}{r-1}p^r(1-p)^{y-r}$"
   ]
  },
  {
   "cell_type": "markdown",
   "metadata": {},
   "source": [
    "$\\therefore~$ $p_Y(y)=\\binom{y-1}{r-1}p^r(1-p)^{y-r}$, $y\\in S_Y$"
   ]
  },
  {
   "cell_type": "markdown",
   "metadata": {},
   "source": [
    "$E(Y)=E(X+r)=E(X)+r=\\frac{r(1-p)}{p}+r=\\frac{r}{p}$"
   ]
  },
  {
   "cell_type": "markdown",
   "metadata": {},
   "source": [
    "$Var(Y)=Var(X+r)=Var(X)=\\frac{r(1-p)}{p^2}$"
   ]
  },
  {
   "cell_type": "markdown",
   "metadata": {},
   "source": [
    "$MGF:$ $M_Y(t)=e^{tr}M_X(t)$   ($\\because~M_{aX+b}=e^{tb}M_X(at)$, here $a=1,b=r$)"
   ]
  },
  {
   "cell_type": "markdown",
   "metadata": {},
   "source": [
    "&nbsp; &nbsp;  &nbsp; &nbsp; &nbsp; &nbsp; &nbsp; &nbsp; &nbsp; &nbsp; &nbsp; &nbsp; &nbsp; &nbsp; $=e^{tr}\\left(\\frac{p}{1-(1-p)e^t}\\right)^r$"
   ]
  },
  {
   "cell_type": "markdown",
   "metadata": {},
   "source": [
    "&nbsp; &nbsp;  &nbsp; &nbsp; &nbsp; &nbsp; &nbsp; &nbsp; &nbsp; &nbsp; &nbsp; &nbsp; &nbsp; &nbsp; $=\\left(\\frac{pe^t}{1-(1-p)e^t}\\right)^r$, $-\\log\\left(\\frac{1}{1-p}\\right)<t<\\log\\left(\\frac{1}{1-p}\\right)$"
   ]
  },
  {
   "cell_type": "markdown",
   "metadata": {},
   "source": [
    "**Note:** In some books this $Y$ (number of trials required to see $r^{th}$ success) defined as <b>Negative Binomial Random variable</b>"
   ]
  },
  {
   "cell_type": "markdown",
   "metadata": {},
   "source": [
    "**Problem:** Suppose you are surveying people exiting from a polling booth and asking them if they voted independent. it is estimated that the probability that person voted independent is 0.2.<br>\n",
    "(i) What is the probability that 15 people say 'No' before you find 5 people who voted independent<br>\n",
    "(ii) What is the probability 12 people must be asked before you find 6 people who voted independent."
   ]
  },
  {
   "cell_type": "markdown",
   "metadata": {},
   "source": [
    "*solution:* Asking people who are exiting from a polling booth if they voted independent is kind of like performing sequence of independent and identical Bernoulli trials with probability of success $p=0.2$"
   ]
  },
  {
   "cell_type": "markdown",
   "metadata": {},
   "source": [
    "Let $X=$ number of people who say  $No$ before you find 5 people who say $YES$"
   ]
  },
  {
   "cell_type": "markdown",
   "metadata": {},
   "source": [
    "(i) $X\\sim NB(5,0.2)$, here we are interested in $P(X=15)=?$"
   ]
  },
  {
   "cell_type": "markdown",
   "metadata": {},
   "source": [
    "$P(X=15)=\\binom{15+5-1}{5-1}(0.2)^5(1-0.2)^{15}=0.0436$"
   ]
  },
  {
   "cell_type": "markdown",
   "metadata": {},
   "source": [
    "(ii) Let $Y=$ number of people must be asked before you find 6 people who voted independent."
   ]
  },
  {
   "cell_type": "markdown",
   "metadata": {},
   "source": [
    "Here $r=6$, $p=0.2$"
   ]
  },
  {
   "cell_type": "markdown",
   "metadata": {},
   "source": [
    "$P(Y=12)=\\binom{12-1}{6-1}(0.2)^6(1-0.2)^{12-6}=0.00775$"
   ]
  },
  {
   "cell_type": "markdown",
   "metadata": {},
   "source": [
    "### Banach Matchbox problem:"
   ]
  },
  {
   "cell_type": "markdown",
   "metadata": {},
   "source": [
    "A pipe-smoking mathematician carries at all time 2 match boxes.Each time he needs a match he will take it from left pocket with probability $p$, and from right pocket with probability $1-p$. Consider the moment when mathematician first discover that one of his matchbox is empty. If it is assumed that both match boxes initially contained $N$ matches, what is the probability that there are exactly $k$ matches in the other box, $k=0,1,2,3,...N$"
   ]
  },
  {
   "cell_type": "markdown",
   "metadata": {},
   "source": [
    "*solution:* We can see that picking match is like performing a Bernoulli experiment(choice of left pocket;Success,choice of right pocket:Failure)"
   ]
  },
  {
   "cell_type": "markdown",
   "metadata": {},
   "source": [
    "So going for matches each time he needs like performing sequence of independent and identical Bernoulli trials each with probability of success $p$"
   ]
  },
  {
   "cell_type": "markdown",
   "metadata": {},
   "source": [
    "Let $L_k$ be the event, that discovering left box empty and right box containing exactly $k$ matches for $k=0,1,2,3,...,N$"
   ]
  },
  {
   "cell_type": "markdown",
   "metadata": {},
   "source": [
    "$L_k$ happens $\\Leftrightarrow$ $N-k$ failures before the $(N+1)^{th}$ success ($\\because$ $N-k$ matches taken from right pocket before $(N+1)^{th}$ match taken from left pocket)"
   ]
  },
  {
   "cell_type": "markdown",
   "metadata": {},
   "source": [
    "Let $X=$ number of failures before the $(N+1)^{th}$ success "
   ]
  },
  {
   "cell_type": "markdown",
   "metadata": {},
   "source": [
    "$X\\sim NB(N+1,p)$"
   ]
  },
  {
   "cell_type": "markdown",
   "metadata": {},
   "source": [
    "$P(L_k)=P(X=N-k)=\\binom{N-k+(N+1)-1}{(N+1)-1}p^{N+1}(1-p)^{N-k}=\\binom{2N-k}{N}p^{N+1}(1-p)^{N-k}$"
   ]
  },
  {
   "cell_type": "markdown",
   "metadata": {},
   "source": [
    "Similarly Let $R_k$ be the event that discovering right box empty for $k=0,1,2,...N$"
   ]
  },
  {
   "cell_type": "markdown",
   "metadata": {},
   "source": [
    "we can argue similarly to show that $P(R_k)=\\binom{2N-k}{N}(1-p)^{N+1}p^{N-k}$"
   ]
  },
  {
   "cell_type": "markdown",
   "metadata": {},
   "source": [
    "Let $A_k$ be the event that there are exactly $k$ matches in one box when other box found empty for $k=0,1,2,...N$"
   ]
  },
  {
   "cell_type": "markdown",
   "metadata": {},
   "source": [
    "$A_k=L_k\\cup R_k$, and $L_k\\cap R_k=\\emptyset$"
   ]
  },
  {
   "cell_type": "markdown",
   "metadata": {},
   "source": [
    "$P(A_k)=P(L_k)+P(R_k)$  ($\\because$ Finite additivity)"
   ]
  },
  {
   "cell_type": "markdown",
   "metadata": {},
   "source": [
    "$P(A_k)=\\binom{2N-k}{N}p^{N+1}(1-p)^{N-k}+\\binom{2N-k}{N}(1-p)^{N+1}p^{N-k}$"
   ]
  },
  {
   "cell_type": "markdown",
   "metadata": {},
   "source": [
    "$P(A_k)=\\binom{2N-k}{N}\\left(p^{N+1}(1-p)^{N-k}+(1-p)^{N+1}p^{N-k}\\right)$, for $k=0,1,2,...N$"
   ]
  },
  {
   "cell_type": "markdown",
   "metadata": {},
   "source": [
    "### Geometric distribution: "
   ]
  },
  {
   "cell_type": "markdown",
   "metadata": {},
   "source": [
    "In a sequence of independent and identical Bernoulli trials each with probability of success $p$"
   ]
  },
  {
   "cell_type": "markdown",
   "metadata": {},
   "source": [
    "Let $X=$ number of failures before we see $1^{st}$ success"
   ]
  },
  {
   "cell_type": "markdown",
   "metadata": {},
   "source": [
    "then $X\\sim NB(1,p)$, $S_X=\\{0,1,2,3,..\\}$"
   ]
  },
  {
   "cell_type": "markdown",
   "metadata": {},
   "source": [
    "$PMF:$ $p_X(k)=\\binom{k+1-1}{1-1}p^1(1-p)^k=(1-p)^kp$, $k=0,1,2,3,...$"
   ]
  },
  {
   "cell_type": "markdown",
   "metadata": {},
   "source": [
    "Here $X$ is said to have <b> Geometric distribution</b> with parameter $p$"
   ]
  },
  {
   "cell_type": "markdown",
   "metadata": {},
   "source": [
    "**Notation:** $X\\sim Geom(p)$"
   ]
  },
  {
   "cell_type": "markdown",
   "metadata": {},
   "source": [
    "$MGF:$ $M_X(t)=\\left(\\frac{p}{1-(1-p)e^t}\\right)$, $-\\log\\left(\\frac{1}{1-p}\\right)<t<\\log\\left(\\frac{1}{1-p}\\right)$"
   ]
  },
  {
   "cell_type": "markdown",
   "metadata": {},
   "source": [
    "$E(X)=\\frac{1-p}{p}$,&nbsp; &nbsp; &nbsp; &nbsp; $Var(X)=\\frac{1-p}{p^2}$  ($\\because~X\\sim NB(1,p)$)"
   ]
  },
  {
   "cell_type": "markdown",
   "metadata": {},
   "source": [
    "If $Y=$ number of trials required to see first success"
   ]
  },
  {
   "cell_type": "markdown",
   "metadata": {},
   "source": [
    "then $Y=X+1$, $S_Y=\\{1,2,3,...\\}$"
   ]
  },
  {
   "cell_type": "markdown",
   "metadata": {},
   "source": [
    "$p_Y(y)=\\binom{y-1}{1-1}p(1-p)^{y-1}$  ($\\because$ $r=1$)"
   ]
  },
  {
   "cell_type": "markdown",
   "metadata": {},
   "source": [
    "$PMF:$ $p_Y(y)=(1-p)^{y-1}p$ for $y=1,2,...$"
   ]
  },
  {
   "cell_type": "markdown",
   "metadata": {},
   "source": [
    "$E(Y)=\\frac{1}{p}$,&nbsp; &nbsp; &nbsp; &nbsp; $Var(Y)=\\frac{1-p}{p^2}$"
   ]
  },
  {
   "cell_type": "markdown",
   "metadata": {},
   "source": [
    "$MGF:M_Y(t)=\\left(\\frac{pe^t}{1-(1-p)e^t}\\right)$, $-\\log\\left(\\frac{1}{1-p}\\right)<t<\\log\\left(\\frac{1}{1-p}\\right)$ "
   ]
  },
  {
   "cell_type": "markdown",
   "metadata": {
    "slideshow": {
     "slide_type": "fragment"
    }
   },
   "source": [
    "**Note:** In some books this $Y$ (number of trials required to see $1^{st}$ success) defined as <b>Geometric Random variable</b>"
   ]
  },
  {
   "cell_type": "markdown",
   "metadata": {},
   "source": [
    "The reason we are interested in the Geometric distribution, which is special case of  <b>Negative Binomial distribution</b>  is that, this special case has the special property called <b>Memoryless property</b> and Geometric distribution is the only discrete distribution which has this special property."
   ]
  },
  {
   "cell_type": "markdown",
   "metadata": {},
   "source": [
    "**Theorem:** If $X\\sim Geom(p)$, then for any two non-negative integers $m$ and $n$, $P(X>m+n/X>m)=P(X\\ge n)$"
   ]
  },
  {
   "cell_type": "markdown",
   "metadata": {},
   "source": [
    "*proof:* $X\\sim Geom(p)$"
   ]
  },
  {
   "cell_type": "markdown",
   "metadata": {},
   "source": [
    "$p_X(k)=(1-p)^kp$, &nbsp; &nbsp; $k=0,1,2,3,...$"
   ]
  },
  {
   "cell_type": "markdown",
   "metadata": {},
   "source": [
    "$P(X>i)=\\sum_{k=i+1}^{\\infty}p_X(k)=\\sum_{k=i+1}^{\\infty}(1-p)^kp=p(1-p)^{i+1}\\sum_{k=0}^{\\infty}(1-p)^k$"
   ]
  },
  {
   "cell_type": "markdown",
   "metadata": {},
   "source": [
    "&nbsp; &nbsp; &nbsp; &nbsp; &nbsp; &nbsp; &nbsp; &nbsp; $=p(1-p)^{i+1}\\left(\\frac{1}{1-(1-p)}\\right)=(1-p)^{i+1}$"
   ]
  },
  {
   "cell_type": "markdown",
   "metadata": {},
   "source": [
    "$\\therefore P(X>i)=(1-p)^{i+1}$"
   ]
  },
  {
   "cell_type": "markdown",
   "metadata": {},
   "source": [
    "$P(X>m+n/X>m)=\\frac{P(X>m+n,X>m)}{P(X>m)}=\\frac{P(X>m+n)}{P(X>m)}$&nbsp; &nbsp; ($\\because$ Let $A=(X>m+n),B=(X>m)$,then $B\\subset A$,so $A\\cap B=B$)"
   ]
  },
  {
   "cell_type": "markdown",
   "metadata": {},
   "source": [
    "&nbsp; &nbsp; &nbsp; &nbsp; &nbsp; &nbsp; &nbsp; &nbsp; &nbsp; &nbsp;  &nbsp; &nbsp; &nbsp; &nbsp; &nbsp; &nbsp; &nbsp; &nbsp; &nbsp; &nbsp; $=\\frac{(1-p)^{m+n+1}}{(1-p)^{m+1}}=(1-p)^n=(1-p)^{(n-1)+1}=P(X>n-1)=P(X\\ge n)$"
   ]
  },
  {
   "cell_type": "markdown",
   "metadata": {},
   "source": [
    "$\\therefore$ $P(X>m+n/X>m)=P(X\\ge n)$&nbsp; &nbsp;$\\leftarrow$ <b>Memoryless property</b>"
   ]
  },
  {
   "cell_type": "markdown",
   "metadata": {},
   "source": [
    "That is information of no success in $m$ trials is forgotten in subsequent calculations."
   ]
  },
  {
   "cell_type": "markdown",
   "metadata": {},
   "source": [
    "And next we prove that <b>Geometric distribution</b> is the only discrete distribution which has the memoryless property."
   ]
  },
  {
   "cell_type": "markdown",
   "metadata": {},
   "source": [
    "**Theorem:** Let $X$ be a non-negative integer valued random variable satisfying $P(X>m+1/X>m)=P(X\\ge1)$ for any integer $m$ then $X$ must follow geometric distribution."
   ]
  },
  {
   "cell_type": "markdown",
   "metadata": {},
   "source": [
    "*proof:* Let $PMF$  of $X$ ,$p_X(k)=p_k$ for $k=0,1,2,3,...$"
   ]
  },
  {
   "cell_type": "markdown",
   "metadata": {},
   "source": [
    "Let $q_m=P(X>m)=\\sum_{k=m+1}^{\\infty}p_k$"
   ]
  },
  {
   "cell_type": "markdown",
   "metadata": {},
   "source": [
    "so, $P(X\\ge 1)=P(X>0)=q_0$"
   ]
  },
  {
   "cell_type": "markdown",
   "metadata": {},
   "source": [
    "It is given that $P(X>m+1/X>m)=P(X\\ge 1)$$\\Rightarrow$ $\\frac{P(X>m+1)}{P(X>m)}=q_0$"
   ]
  },
  {
   "cell_type": "markdown",
   "metadata": {},
   "source": [
    "$\\Rightarrow$ $\\frac{q_{m+1}}{q_m}=q_0$&nbsp;$\\Rightarrow$&nbsp;$q_{m+1}=q_mq_0$  $\\forall m\\ge 0$"
   ]
  },
  {
   "cell_type": "markdown",
   "metadata": {},
   "source": [
    "$q_{m}=q_{m-1}q_0=q_{m-2}q_0^2=q_{m-3}q_0^3=...=q_1q_0^{m-1}=q_0q_0^{m}=q_0^{m+1}$ "
   ]
  },
  {
   "cell_type": "markdown",
   "metadata": {},
   "source": [
    "$q_0=P(X>0)=\\sum_{k=1}^{\\infty}p_k=1-p_0$&nbsp;($\\because$ $\\sum_{k=0}^{\\infty}p_k=1$)"
   ]
  },
  {
   "cell_type": "markdown",
   "metadata": {},
   "source": [
    "and $p_k=P(X=k)=p(X>k-1)-P(X>k)$"
   ]
  },
  {
   "cell_type": "markdown",
   "metadata": {},
   "source": [
    "&nbsp; &nbsp; &nbsp; &nbsp; &nbsp; &nbsp; &nbsp; &nbsp; $=q_{k-1}-q_k=q_0^{k}-q_0^{k+1}=q_0^k(1-q_0)=(1-p_0)^kp_0$"
   ]
  },
  {
   "cell_type": "markdown",
   "metadata": {},
   "source": [
    "$\\therefore$ $p_k=(1-p_0)^kp_0$, $0<p_0<1$, $k=0,1,2,3,...$"
   ]
  },
  {
   "cell_type": "markdown",
   "metadata": {},
   "source": [
    "$\\therefore$ $X\\sim Geom(p_0)$"
   ]
  },
  {
   "cell_type": "markdown",
   "metadata": {},
   "source": [
    "**Example:** A coin has been weighted so that it has 0.9 chance of landing on heads when flipped. What is the probability that the first time the coin lands on heads is after the 3 flips"
   ]
  },
  {
   "cell_type": "markdown",
   "metadata": {},
   "source": [
    "*Solution:* Let $X$ denote the number of tails(failures) before we see first head(success), then $X\\sim Geom(p)$, where $p=0.9$"
   ]
  },
  {
   "cell_type": "markdown",
   "metadata": {},
   "source": [
    "$P(X>k)=\\sum_{i=k+1}^{\\infty}(1-p)^ip=p(1-p)^{k+1}\\sum_{i=0}^{\\infty}(1-p)^i=p(1-p)^{k+1}\\left(\\frac{1}{1-(1-p)}\\right)=(1-p)^{k+1}$"
   ]
  },
  {
   "cell_type": "markdown",
   "metadata": {},
   "source": [
    "Let $A$ be the event that the first time the coin lands on heads is after 3 flips"
   ]
  },
  {
   "cell_type": "markdown",
   "metadata": {},
   "source": [
    "A happens $\\iff$ $X>3$"
   ]
  },
  {
   "cell_type": "markdown",
   "metadata": {},
   "source": [
    "$\\therefore$ $P(A)=P(X>3)=(1-0.9)^{3+1}=(0.1)^4=0.0001$<br><br>"
   ]
  }
 ],
 "metadata": {
  "hide_input": false,
  "kernelspec": {
   "display_name": "Python 3 (ipykernel)",
   "language": "python",
   "name": "python3"
  },
  "language_info": {
   "codemirror_mode": {
    "name": "ipython",
    "version": 3
   },
   "file_extension": ".py",
   "mimetype": "text/x-python",
   "name": "python",
   "nbconvert_exporter": "python",
   "pygments_lexer": "ipython3",
   "version": "3.10.0"
  }
 },
 "nbformat": 4,
 "nbformat_minor": 4
}
