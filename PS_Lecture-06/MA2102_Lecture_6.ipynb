{
 "cells": [
  {
   "cell_type": "markdown",
   "metadata": {},
   "source": [
    "<h2 style=\"text-align:center\"> MA2102</h2>\n",
    "<h1 style=\"text-align:center\"> Probability and Statistics</h1>\n",
    "<h4 style=\"text-align:center\"> Lecture-6</h4>"
   ]
  },
  {
   "cell_type": "markdown",
   "metadata": {},
   "source": [
    "Say there is a school with $n$ students and you are asked to write a (database)software to maintain student records, and one should be able to retrieve student record quickly(almost in constant time) using your software. To achieve that fast access you should be using data structure called Hash table to store student records. Hash tables are array like data structures in which particular record gets stored in at particular index which is determined through hashing using some hash function. Here is process of getting index of record. Fist we feed key of the record to hash function which spits the  number called hash code then this hash code may be converted to index(by taking modulo of size of array so that index fall in the range of array indices).\n",
    "\n",
    "Suppose our keys are tuple (FullName,DOB). Say the following hash functions is in your mind;<br>\n",
    "       (Name,DOB)$\\overset{hash function}{\\rightarrow}$ $d$ where $d$ is day of the years i.e $d\\in\\{1,2,3,...365\\}$(Assuming nobody born in leap year)<br><br>\n",
    "So our hash function maps student keys to {1,2,...,365}. This hash code can be used as index to store records in hash table. One problem with hashing is collisions (two students may have born on the same day of the year), one way to deal with collisions is chaining(keeping the linked list of records(instead of single record) who have born on same day of the year at their corresponding index). Let us assume that our hash function uniformly distribute keys over set of index values{1,2,...,365} so that we will not have clusters. Still we would like to have less collisions to reduce the average time to retrieve a record. For that we can't use too many students records to store in the hash table as we have only 365 slots in this set up. And less than 365 students doesn't mean that we will not have any collisions though our hash function uniformly distribute the  keys over indices, But we can feel that more students we have more chances of collisions (so more number of collisions) that will increase average time to retrieve a record. But What is the trade-off between the number of students that we can store and probability of collision in the hash table?"
   ]
  },
  {
   "cell_type": "markdown",
   "metadata": {},
   "source": [
    "### Birthday Problem(Paradox): \n",
    "<p style=\"color:red\">If $n$ people are present in a room. What is the probability at least two of them celebrate birthday on the same day of the year</p>      \n",
    "\n",
    "*solution* : Let us assume nobody born on leap year.     \n",
    "**case i:** $n>365$    \n",
    "In this case the probability at least two people having same birthday is 1 ($\\because$ *Pigeon hole principle*)    \n",
    "**case ii:** $n\\le 365$     \n",
    "Let us assume that a person could be born any day of the year with same probability( It is not true as there are seasonal effects, that means in some seasons more marriages takes place,so after nine months of that season more babies are born) But with this equally likely assumption the problem will become easy and the answer we get also very reasonable to reality.    \n",
    "&nbsp; &nbsp; Let us observe birthdays (DD/MM only) of a random class with n people.    \n",
    "Sample space $\\Omega=\\{b_{1}b_{2}b_{3}...b_{n}:b_{i}\\in \\{1,2,3...365\\}\\}$    \n",
    "(Here 1:= 0/1/01, 2:= 02/01,.....365:=31/12)   \n",
    "$|\\Omega|=365^{n}$      ($\\because$ outcomes in $\\Omega$ are n-permutation of 365 objects with repetition )     \n",
    "Let $E$ denote the event that at least two people in class having same birthday, and $P(E)=1-P(E^{c})$   \n",
    "where $E^{c}$ will denote the event that no two people in the class having same birthday   \n",
    "$|E^{c}|=~^{365}P_{n}$  ($\\because$ outcomes in $E^{c}$ are n-permutation of 365 objects without repetition )   \n",
    "now, $P(E^{c})=\\frac{|E^{c}|}{|\\Omega|}=\\frac{^{365}P_{n}}{365^{n}}$ ($\\because$ we assumed outcomes are equally likely )      \n",
    "$\\therefore P(E)= 1- \\frac{^{365}P_{n}}{365^{n}}$"
   ]
  },
  {
   "cell_type": "code",
   "execution_count": 1,
   "metadata": {
    "code_folding": []
   },
   "outputs": [
    {
     "data": {
      "application/vnd.jupyter.widget-view+json": {
       "model_id": "919da80ff35e43c5be5891f5df75d7d7",
       "version_major": 2,
       "version_minor": 0
      },
      "text/plain": [
       "HBox(children=(IntSlider(value=0, description='n:'), FloatProgress(value=0.0, bar_style='info', description='p…"
      ]
     },
     "metadata": {},
     "output_type": "display_data"
    }
   ],
   "source": [
    "\"\"\"Birth day Paradox\"\"\"\n",
    "import matplotlib.pyplot as plt\n",
    "from ipywidgets import interact #,interactive, fixed, interact_manual\n",
    "import ipywidgets as widgets\n",
    "from IPython.display import display\n",
    "%matplotlib nbagg\n",
    "\n",
    "def npr(n,r): #npr=n(n-1)(n-2)...(n-(r-1))\n",
    "    p=1\n",
    "    for i in range(0,r):\n",
    "        p=p*(n-i)\n",
    "    return p\n",
    "\n",
    "def birthdayProblem(n):\n",
    "    if n > 365:\n",
    "        return 1\n",
    "    else:\n",
    "        return round(1-npr(365,n)/365**n,4)\n",
    "def n_value_changed(change):\n",
    "    prob.value = birthdayProblem(change.new)\n",
    "    prob.description = \"p={}\".format(round(prob.value,6))\n",
    "\n",
    "numberOfpeople=widgets.IntSlider(min=0.0,max=100,value=0,description=\"n:\")\n",
    "prob = widgets.FloatProgress(min=0.0,max=1.0,step=0.01,value=0.0,description=\"p={}\".format(0),bar_style='info',orientation='vertical')\n",
    "\n",
    "numberOfpeople.observe(n_value_changed, 'value')\n",
    "widgets.HBox([numberOfpeople, prob])"
   ]
  },
  {
   "cell_type": "markdown",
   "metadata": {},
   "source": [
    "<H3 style=\"text-align:left;\">Table:</H3>\n",
    "<table style=\"border: 1px solid black;align:left\">\n",
    "  <tr style=\"border: 1px solid black;\">\n",
    "    <th style=\"border: 1px solid black;height: 30px;text-align:center\">n</th>\n",
    "    <th style=\"border: 1px solid black;height: 30px;text-align:center\">p</th>\n",
    "  </tr>\n",
    "  <tr style=\"border: 1px solid black; 30px;\">\n",
    "    <td style=\"border: 1px solid black;30px;text-align:center;\">23</td>\n",
    "    <td style=\"border: 1px solid black;30px;text-align:center;\">0.5073</td>\n",
    "  </tr>\n",
    "  <tr style=\"border: 1px solid black;\">\n",
    "    <td style=\"border: 1px solid black;30px;text-align:center;\">30</td>\n",
    "    <td style=\"border: 1px solid black;30px;text-align:center;\">0.7063</td>\n",
    "  </tr>\n",
    "   <tr style=\"border: 1px solid black;\">\n",
    "    <td style=\"border: 1px solid black;30px;text-align:center;\">40</td>\n",
    "    <td style=\"border: 1px solid black;30px;text-align:center;\">0.8912</td>\n",
    "  </tr> \n",
    "  <tr style=\"border: 1px solid black;\">\n",
    "    <td style=\"border: 1px solid black;30px;text-align:center;\">50</td>\n",
    "    <td style=\"border: 1px solid black;30px;text-align:center;\">0.9704</td>\n",
    "  </tr> \n",
    "  <tr style=\"border: 1px solid black;\">\n",
    "    <td style=\"border: 1px solid black;30px;text-align:center;\">60</td>\n",
    "    <td style=\"border: 1px solid black;30px;text-align:center;\">0.9941</td>\n",
    "  </tr> \n",
    "    \n",
    "  <tr style=\"border: 1px solid black;\">\n",
    "    <td style=\"border: 1px solid black;30px;text-align:center;\">70</td>\n",
    "    <td style=\"border: 1px solid black;30px;text-align:center;\">0.9992</td>\n",
    "  </tr> \n",
    "</table>\n"
   ]
  },
  {
   "cell_type": "markdown",
   "metadata": {},
   "source": [
    "**Note:** The solution of birthday problem must be surprising for you, since 23 seems so small when you compared to 365, the number of days of the year. So our intuition does not match with the solution (think why!)"
   ]
  },
  {
   "cell_type": "markdown",
   "metadata": {},
   "source": [
    "Let us formulate the birthday problem in terms of hashing and collisions<br><br>\n",
    "**Problem:** Let the range of hash function $\\{1,2,3...,k\\}$ and number of records that we inserts is $n$, and the hash function produces a perfectly uniform distribution of the keys used in insertions. <span style=\"color:blue\">(</span>i.e for all keys of records, and all integers in the range 1 to k, the $P($hashCode(key)=i$)=\\frac{1}{k}$<span style=\"color:blue\">)</span>, then probability that at least one collision occurs is $1-\\frac{^kP_n}{k^n}$ "
   ]
  },
  {
   "cell_type": "markdown",
   "metadata": {},
   "source": [
    "<p style=\"color:red\"><u>Problem 4:</u> Suppose $P(A)=\\frac{3}{4}$ and $P(B)=\\frac{1}{3}$. Show that $\\frac{1}{12} \\le P(A\\cap B) \\le \\frac{1}{3}$</p>  \n",
    "\n",
    "*solution*:  We know that $0\\le P(A\\cup B) \\le 1$  \n",
    "$\\Rightarrow 0\\le P(A)+P(B)-P(A\\cap B) \\le 1 \\Rightarrow 0 \\le \\frac{3}{4} + \\frac{1}{3} -P(A\\cap B) \\le 1$     \n",
    "$\\Rightarrow 0 \\le \\frac{13}{12}-P(A\\cap B) \\le 1 \\Rightarrow -1\\le P(A\\cap B) -\\frac{13}{12} \\le 0$   \n",
    "$\\Rightarrow \\frac{13}{12}-1\\le P(A\\cap B) \\le \\frac{13}{12} \\Rightarrow \\frac{1}{12} \\le P(A\\cap B)\\le \\frac{13}{12}$ ......(1)    \n",
    "and $\\emptyset  \\subseteq A\\cap B \\subseteq B \\Rightarrow P(\\emptyset )\\le P(A \\cap B) \\le P(B)$  ($\\because$ Monotone property)    \n",
    "$\\Rightarrow 0 \\le P(A\\cap B_) \\le \\frac{1}{3}$ .....(2)    \n",
    "from (1) & (2) we have, $\\frac{1}{12} \\le P(A \\cap B) \\le \\frac{1}{3}$"
   ]
  },
  {
   "cell_type": "markdown",
   "metadata": {},
   "source": [
    "#### Monotone sequence of events:\n",
    " A sequence of events $\\{E_{n}\\}_{n=1}^{\\infty}$ is said to be <u>increasing</u> ($\\nearrow$)(<span style=\"color:brown\"><u>decreasing</u> ($\\searrow$)</span>) if $E_{n}\\subseteq E_{n+1} \\forall n \\ge 1$(<span style=\"color:brown\">$E_{n}\\supseteq E_{n+1} \\forall n \\ge 1$</span>)    \n",
    " and $\\lim_{n\\to \\infty}E_{n}:=\\bigcup_{n=1}^{\\infty}E_{n}$ (<span style=\"color:brown\">$\\lim_{n\\to \\infty}E_{n}:=\\bigcap_{n=1}^{\\infty}E_{n}$</span>)       \n",
    " A sequence of events $\\{E_{n}\\}_{n=1}^{\\infty}$ is said to be <u>monotone</u> sequence if it is either increasing or decreasing sequence\n",
    " \n",
    "Examples:    \n",
    "1) $E_{n}=[\\frac{1}{n},3-\\frac{1}{n}]$ then $\\{E_{n}\\}_{n=1}^{\\infty}(\\nearrow)$ ($\\because [1,2]\\subset [\\frac{1}{2},3-\\frac{1}{2}]\\subset [\\frac{1}{3},3-\\frac{1}{3}]\\subset...$ ) and $lim_{n \\to \\infty}E_{n}=\\bigcup_{n=1}^{\\infty}E_{n}=(0,3)$ <br><br>\n",
    "2) $E_{n}=[2,2+\\frac{1}{n}]$ then $\\{E_{n}\\}_{n=1}^{\\infty}(\\searrow)$ ($\\because [2,3]\\supset [2,2+\\frac{1}{2}]\\supset [2,2+\\frac{1}{3}]\\supset...$ ) and $lim_{n \\to \\infty}E_{n}=\\bigcap_{n=1}^{\\infty}E_{n}=\\{2\\}$\n",
    "\n"
   ]
  },
  {
   "cell_type": "markdown",
   "metadata": {},
   "source": [
    "**Theorem 9**(Continuity of probability set function):     \n",
    "A sequence of events $\\{E_{n}\\}_{n=1}^{\\infty}$ is monotone sequence, then $P(\\lim_{n\\to \\infty}E_{n})=\\lim_{n\\to \\infty}P(E_{n})$ <br><br>\n",
    "\n",
    "*proof*:    \n",
    "<u>*case i*</u>: $\\{E_{n}\\}_{n=1}^{\\infty}(\\nearrow)$ i.e $E_{1}\\subseteq E_{2} \\subseteq E_{3} \\subseteq ... E_{n}\\subseteq E_{n+1} .....$    \n",
    "now define $F_{1}=E_{1}$ and $F_{n}=E_{n}\\cap (\\cup_{i=1}^{n-1}E_{i})^{c}=E_{n}\\cap E_{n-1}^{c}$ ($\\because \\cup_{i=1}^{n-1}E_{i}=E_{n-1}$ ) for n=2,3,4,...   \n",
    "then $\\cup_{i=1}^{\\infty}F_{i}=\\cup_{i=1}^{\\infty}E_{i}$  and $\\cup_{i=1}^{n}F_{i}=\\cup_{i=1}^{n}E_{i}=E_{n}$    \n",
    "and $F_1,F_2,F_3,...F_n,...$ are mutually exclusive events.   \n",
    "$P(lim_{n \\to \\infty}E_{n})=P(\\cup_{n=1}^{\\infty}E_n)$      \n",
    "&nbsp; &nbsp; &nbsp; &nbsp; &nbsp; &nbsp; &nbsp; &nbsp; &nbsp; &nbsp; &nbsp; &nbsp; &nbsp; $=P(\\cup_{n=1}^{\\infty}F_n)$     \n",
    "&nbsp; &nbsp; &nbsp; &nbsp; &nbsp; &nbsp; &nbsp; &nbsp; &nbsp; &nbsp; &nbsp; &nbsp; &nbsp; $=\\sum_{n=1}^{\\infty}P(F_n)$ ($\\because$ Axiom 3)    \n",
    "&nbsp; &nbsp; &nbsp; &nbsp; &nbsp; &nbsp; &nbsp; &nbsp; &nbsp; &nbsp; &nbsp; &nbsp; &nbsp; $=\\lim_{n \\to \\infty}\\sum_{i=1}^{n}P(F_i)$   \n",
    "&nbsp; &nbsp; &nbsp; &nbsp; &nbsp; &nbsp; &nbsp; &nbsp; &nbsp; &nbsp; &nbsp; &nbsp; &nbsp; $=\\lim_{n \\to \\infty}P(\\cup_{i=1}^{n}F_i)$ ($\\because$ Additivity)     \n",
    "&nbsp; &nbsp; &nbsp; &nbsp; &nbsp; &nbsp; &nbsp; &nbsp; &nbsp; &nbsp; &nbsp; &nbsp; &nbsp; $=\\lim_{n \\to \\infty}P(E_{n})$ ($\\because$ Additivity)     \n",
    "$\\therefore P(lim_{n \\to \\infty}E_{n})=\\lim_{n \\to \\infty}P(E_{n})$  <br><br>\n",
    "\n",
    "<u>*case ii*</u>:$\\{E_n\\}_{n=1}^{\\infty}(\\searrow)$ i.e $E_{1}\\supseteq E_{2} \\supseteq E_{3} \\supseteq ... E_{n}\\supseteq E_{n+1} .....$  \n",
    "then $\\{E_n^c\\}_{n=1}^{\\infty}(\\nearrow)$   ($\\because E_n\\supseteq E_{n+1} \\Rightarrow E_n^c \\subseteq E_{n+1}^c$)  \n",
    "now apply case-i to $\\{E_n^c\\}_{n=1}^{\\infty}$  ($\\because \\{E_n^c\\}_{n=1}^{\\infty}(\\nearrow)$)   \n",
    "$P(lim_{n \\to \\infty}E_n^c)=\\lim_{n \\to \\infty}P(E_n^c)$    \n",
    "$P(\\cup_{n=1}^{\\infty}E_n^c)=lim_{n\\to \\infty}(1-P(E_n))$    \n",
    "$P((\\cap_{n=1}^{\\infty}E_n)^c)=1-lim_{n\\to \\infty}P(E_n)$    ($\\because$ De Morgan's law)  \n",
    "$1-P(\\cap_{n=1}^{\\infty}E_n)=1-lim_{n\\to \\infty}P(E_n) \\Rightarrow P(\\cap_{n=1}^{\\infty}E_n)=lim_{n\\to \\infty}P(E_n)$     \n",
    "$\\therefore P(\\lim_{n\\to\\infty}E_n)=lim_{n\\to \\infty}P(E_n)$"
   ]
  },
  {
   "cell_type": "markdown",
   "metadata": {},
   "source": [
    "### Sub-additivity of probability:    \n",
    "**Theorem 10:** For $E_1,E_2 \\in\\mathscr{F}$, $P(E_1\\cup E_2)\\le P(E_1)+P(E_2)$     \n",
    "*proof*:     \n",
    "$P(E_1\\cup E_2)=P(E_1)+P(E_2) - P(E_1\\cup E_2)$   ($\\because$ Addition theorem of probability)   \n",
    "$P(E_1\\cup E_2)\\le P(E_1)+P(E_2)$   ($\\because P(E_1\\cap E_2)\\ge0$ by Axiom 1)"
   ]
  },
  {
   "cell_type": "markdown",
   "metadata": {},
   "source": [
    "**Theorem 11:** For $E_1,E_2,...,E_n \\in\\mathscr{F}$, $P(\\cup_{i=1}^{n}E_i)\\le \\sum_{i=1}^{n}P(E_i)$      \n",
    "*proof*:    By Induction (try!) \\[Hint:Use n=2 as base case for which theorem true by above theorem \\] "
   ]
  },
  {
   "cell_type": "markdown",
   "metadata": {},
   "source": [
    "**Theorem 12:**(countable sub-additivity ) For $E_1,E_2,...,E_n,... \\in\\mathscr{F}$, $P(\\bigcup_{i=1}^{\\infty}E_i)\\le \\sum_{i=1}^{\\infty}P(E_i)$    \n",
    "*proof*:     \n",
    "Define $F_{1}=E_{1}$ and $F_{n}=E_{n}\\cap (\\cup_{i=1}^{n-1}E_{i})^{c}$ for n=2,3,4,...    \n",
    "$\\Rightarrow F_n \\subseteq E_n \\Rightarrow P(F_n)\\le P(E_n)~ \\forall n \\ge 1$  ($\\because$ Monotone property)    \n",
    "now the new sequence of events $F_1,F_2,F_3,...,F_n,..$ are mutually exclusive events in $\\mathscr{F}$  \n",
    "we have $\\bigcup_{i=1}^{\\infty}E_i= \\bigcup_{i=1}^{\\infty}F_i$   \n",
    "now, $P(\\bigcup_{i=1}^{\\infty}E_i)= P(\\bigcup_{i=1}^{\\infty}F_i)$    \n",
    "&nbsp; &nbsp; &nbsp; &nbsp; &nbsp; &nbsp; &nbsp; &nbsp; &nbsp; &nbsp; &nbsp; &nbsp; &nbsp; &nbsp; &nbsp;&nbsp;$=\\sum_{i=1}^{\\infty}P(F_i)$     &nbsp;  ($\\because$ Axiom 3)    \n",
    "&nbsp; &nbsp; &nbsp; &nbsp; &nbsp; &nbsp; &nbsp; &nbsp; &nbsp; &nbsp; &nbsp; &nbsp; &nbsp; &nbsp; &nbsp;&nbsp;$\\le\\sum_{i=1}^{\\infty}P(E_i)$   &nbsp;   ($\\because$ $P(F_i)\\le P(E_i)\\forall i=1,2,3,..$ (Monotone property))    \n",
    "$P(\\bigcup_{i=1}^{\\infty}E_i)\\le\\sum_{i=1}^{\\infty}P(E_i)$   This inequality is also called the <u>Bool's inequality</u>"
   ]
  },
  {
   "cell_type": "markdown",
   "metadata": {},
   "source": [
    "### Probability and Paradox:      \n",
    "Let us suppose that we have infinitely large box and infinite collection of balls labeled 1,2,3,...,n,... <br>        consider the experiment performed as follows.    \n",
    "At $\\frac{1}{2^i}$ minute to 12:00 pm balls with label $10(i-1)+1$ to $10i$ (<span style=\"color:blue;\">10 balls</span>) are added in the box and ball with label $10i$ is removed (Assume it takes no time to add/remove balls) for $i$=1,2,3,...,n,....    \n",
    "That is at $\\frac{1}{2}$ minute to 12:00 pm we add balls with label 1 to 10 and remove ball 10. And at $\\frac{1}{4}$ minute to 12:00 pm we add balls with label 11 to 20 and remove ball 20 so on.    \n",
    "now question of interest is how many(finite, infinite or empty) balls in the box at 12:00 pm?   \n",
    "Answer is infinite (As we never remove any ball with label that is not multiple of 10)    \n",
    "Now let us change the experiment slightly, this time, at $\\frac{1}{2^i}$ minute to 12:00 pm  balls with label $10(i-1)+1$ to $10i$ are added to the box and ball with label $i$ is removed. for $i=$1,2,3...   \n",
    "Now again same question, how many balls in the box at 12:00 pm?   \n",
    "This time answer is zero ($\\because$ Every ball that has been added got removed eventually. For example ball with label i got removed at the time $\\frac{1}{2^i}$ minutes to 12:00 pm $\\forall i=$1,2,3,..)    \n",
    "$\\therefore$ no ball in the box at 12:00 pm    \n",
    "Thus we can see that the manner in which balls removed from the box actually makes difference.   \n",
    "Now, lets change the experiment again, this time at $\\frac{1}{2^i}$ minute to 12:00 pm. balls with label $10(i-1)+1$ to $10i$ are added to the box and and random ball is removed from the box.    \n",
    "Now it is a random experiment as there are more than one possible outcome(as above two cases are included here). \n",
    "If I ask the same question again that how many balls are there in the box at 12:00 pm, then it won't make much sense as there are more than one possible answers.    \n",
    "Rather we can ask, with what probability the box will be empty at 12:00 pm?\n",
    "We will show that with probability 1 the box will be empty at 12:00 pm"
   ]
  },
  {
   "cell_type": "markdown",
   "metadata": {},
   "source": [
    "*solution:*    \n",
    "&nbsp; &nbsp; Let $E_n$ denote the event that ball 1 in the box after first n removals, then clearly.  \n",
    "$P(E_n)=\\frac{9\\times18\\times27\\times...\\times9n}{10\\times19\\times28\\times...\\times(9n+1)}=\\prod_{i=1}^{n}\\left (\\frac{9i}{9i+1}\\right)$      \n",
    "Let $F_1$ denote the event that ball 1 in the box at 12:00 pm (i.e ball 1 still in the box after all removals)   \n",
    "then $F_1=\\bigcap_{n=1}^{\\infty} E_n \\leftarrow$ ball 1 still in the box after all removals    \n",
    "$E_{n+1}\\subseteq E_n \\forall n$  ($\\because$ If ball 1 is not removed in first n+1 removals, of course that imply ball 1 is not removed in first n removals)      \n",
    "That is $\\{E_n\\}_{n=1}^\\infty (\\searrow)$  \n",
    "then $F_1=\\lim_{n\\to\\infty}E_n$     \n",
    "$P(F_1)=P(\\lim_{n\\to\\infty}E_n)=\\lim_{n\\to\\infty}P(E_n)$  ($\\because$ continuity of probability)   \n",
    "$P(F_1)=\\lim_{n\\to\\infty}\\prod_{i=1}^{n}\\left (\\frac{9i}{9i+1}\\right)=\\frac{1}{\\lim_{n\\to\\infty}\\prod_{i=1}^{n}\\left (\\frac{9i+1}{9i}\\right)}=\\frac{1}{\\lim_{n\\to\\infty}\\prod_{i=1}^{n}\\left (1+\\frac{1}{9i}\\right)}$     \n",
    "We want to show that $P(F_1)=0$, For that it is enough to show that $\\lim_{n\\to\\infty}\\prod_{i=1}^{n}\\left (1+\\frac{1}{9i}\\right)=\\infty$    \n",
    "now, $\\prod_{i=1}^{n}\\left (1+\\frac{1}{9i}\\right) \\ge \\sum_{i=1}^{n}\\frac{1}{9i}=\\frac{1}{9}\\sum_{i=1}^{n}\\frac{1}{i}$    \n",
    "so $\\lim_{n\\to\\infty}\\prod_{i=1}^{n}\\left (1+\\frac{1}{9i}\\right)=\\infty$  ($\\because$ harmonic series $\\sum_{i=1}^{\\infty}\\frac{1}{i}$ diverges to $\\infty \\Rightarrow \\sum_{i=1}^{n}\\frac{1}{i} \\rightarrow \\infty$ as $n \\rightarrow \\infty$)    \n",
    "Hence $P(F_1)=0$    \n",
    "now let $F_k$ denote the event the ball with label $k$ in the box at 12:00 pm, with similar reasoning one can show that $P(F_k)=0$   \n",
    "i.e $P(F_k)=0~\\forall k=$1,2,3,...     \n",
    "Let $E$ be the event that box will be empty at 12:00 pm, then $E^c$ will be the event that box will be non-empty at 12:00 pm,      \n",
    "and $E^c=\\bigcup_{k=1}^{\\infty}F_k \\leftarrow$at least one ball in the box at 12:00 pm    \n",
    "$P(E^c)=P(\\bigcup_{k=1}^{\\infty}F_k)\\le \\sum_{k=1}^{\\infty}P(F_k)$   ($\\because$ Bool's inequality)  \n",
    "$\\therefore P(E^c)=0$  ($\\because P(F_k)=0\\forall k=1,2,3...$)  \n",
    "now, $P(E)=1-P(E^c)=1-0=1$    \n",
    "Hence $P($box will be empty at 12:00 pm $)=1$\n",
    " "
   ]
  }
 ],
 "metadata": {
  "hide_input": false,
  "kernelspec": {
   "display_name": "Python 3 (ipykernel)",
   "language": "python",
   "name": "python3"
  },
  "language_info": {
   "codemirror_mode": {
    "name": "ipython",
    "version": 3
   },
   "file_extension": ".py",
   "mimetype": "text/x-python",
   "name": "python",
   "nbconvert_exporter": "python",
   "pygments_lexer": "ipython3",
   "version": "3.10.0"
  },
  "latex_envs": {
   "LaTeX_envs_menu_present": true,
   "autoclose": false,
   "autocomplete": true,
   "bibliofile": "biblio.bib",
   "cite_by": "apalike",
   "current_citInitial": 1,
   "eqLabelWithNumbers": true,
   "eqNumInitial": 1,
   "hotkeys": {
    "equation": "Ctrl-E",
    "itemize": "Ctrl-I"
   },
   "labels_anchors": false,
   "latex_user_defs": false,
   "report_style_numbering": false,
   "user_envs_cfg": false
  },
  "widgets": {
   "application/vnd.jupyter.widget-state+json": {
    "state": {
     "067bf8ab606847d4ba0336a03849e5b7": {
      "model_module": "@jupyter-widgets/output",
      "model_module_version": "1.0.0",
      "model_name": "OutputModel",
      "state": {
       "layout": "IPY_MODEL_6907f3fa705f40f98cb5b996e1b3e512"
      }
     },
     "15d7cc102cbb42f3a5db1e6209d593ee": {
      "model_module": "@jupyter-widgets/controls",
      "model_module_version": "1.5.0",
      "model_name": "ProgressStyleModel",
      "state": {
       "description_width": ""
      }
     },
     "192a0fd6a9b549c487228b34fc9e3ffa": {
      "model_module": "@jupyter-widgets/controls",
      "model_module_version": "1.5.0",
      "model_name": "IntSliderModel",
      "state": {
       "description": "#trials:",
       "layout": "IPY_MODEL_1b97c2a31ad14f6c982a0857ca8f4b84",
       "max": 1000,
       "step": 100,
       "style": "IPY_MODEL_2063cd0f3b2c4fb2aa17cbcd45b598fc",
       "value": 1000
      }
     },
     "1b97c2a31ad14f6c982a0857ca8f4b84": {
      "model_module": "@jupyter-widgets/base",
      "model_module_version": "1.2.0",
      "model_name": "LayoutModel",
      "state": {}
     },
     "1f733d943674433fa2486d8ba108efab": {
      "model_module": "@jupyter-widgets/base",
      "model_module_version": "1.2.0",
      "model_name": "LayoutModel",
      "state": {}
     },
     "2063cd0f3b2c4fb2aa17cbcd45b598fc": {
      "model_module": "@jupyter-widgets/controls",
      "model_module_version": "1.5.0",
      "model_name": "SliderStyleModel",
      "state": {
       "description_width": ""
      }
     },
     "23e86068ff414460bb6b2604f5186ee1": {
      "model_module": "@jupyter-widgets/controls",
      "model_module_version": "1.5.0",
      "model_name": "HBoxModel",
      "state": {
       "children": [
        "IPY_MODEL_b4f6edc9da7a444baf6ca13371e3ad4b",
        "IPY_MODEL_80a82b153b53423784e3ee7d378bb4f7"
       ],
       "layout": "IPY_MODEL_9e6c8bf71a72424e9ca0673ed3a888c6"
      }
     },
     "32b96a1f5d734adc90be7d199f5d243d": {
      "model_module": "@jupyter-widgets/base",
      "model_module_version": "1.2.0",
      "model_name": "LayoutModel",
      "state": {}
     },
     "3e366e8d4cb64ecaa3fad8d465a6c800": {
      "model_module": "@jupyter-widgets/base",
      "model_module_version": "1.2.0",
      "model_name": "LayoutModel",
      "state": {}
     },
     "4587aaaf0e744be0b76ecb560fb0e2dd": {
      "model_module": "@jupyter-widgets/base",
      "model_module_version": "1.2.0",
      "model_name": "LayoutModel",
      "state": {}
     },
     "585942f4c7284f5e85446e30c4dcc01a": {
      "model_module": "@jupyter-widgets/controls",
      "model_module_version": "1.5.0",
      "model_name": "ProgressStyleModel",
      "state": {
       "description_width": ""
      }
     },
     "5f682f2810c54acc9cf3cd689a6e951d": {
      "model_module": "@jupyter-widgets/controls",
      "model_module_version": "1.5.0",
      "model_name": "SliderStyleModel",
      "state": {
       "description_width": ""
      }
     },
     "6907f3fa705f40f98cb5b996e1b3e512": {
      "model_module": "@jupyter-widgets/base",
      "model_module_version": "1.2.0",
      "model_name": "LayoutModel",
      "state": {}
     },
     "6c895705c7b548289ebc0c88ce7680ce": {
      "model_module": "@jupyter-widgets/base",
      "model_module_version": "1.2.0",
      "model_name": "LayoutModel",
      "state": {}
     },
     "71b9cdbb90d24003a393c4ebc769f478": {
      "model_module": "@jupyter-widgets/base",
      "model_module_version": "1.2.0",
      "model_name": "LayoutModel",
      "state": {}
     },
     "80a82b153b53423784e3ee7d378bb4f7": {
      "model_module": "@jupyter-widgets/controls",
      "model_module_version": "1.5.0",
      "model_name": "FloatProgressModel",
      "state": {
       "bar_style": "info",
       "description": "p=0.5073",
       "layout": "IPY_MODEL_4587aaaf0e744be0b76ecb560fb0e2dd",
       "max": 1,
       "orientation": "vertical",
       "style": "IPY_MODEL_585942f4c7284f5e85446e30c4dcc01a",
       "value": 0.5073
      }
     },
     "80f50c3302b546c3aa6b09fa0c61c9b8": {
      "model_module": "@jupyter-widgets/controls",
      "model_module_version": "1.5.0",
      "model_name": "IntSliderModel",
      "state": {
       "description": "#trials:",
       "layout": "IPY_MODEL_32b96a1f5d734adc90be7d199f5d243d",
       "max": 1000,
       "step": 100,
       "style": "IPY_MODEL_5f682f2810c54acc9cf3cd689a6e951d",
       "value": 400
      }
     },
     "9302d365084b4685a55df6fe226deacc": {
      "model_module": "@jupyter-widgets/controls",
      "model_module_version": "1.5.0",
      "model_name": "VBoxModel",
      "state": {
       "_dom_classes": [
        "widget-interact"
       ],
       "children": [
        "IPY_MODEL_80f50c3302b546c3aa6b09fa0c61c9b8",
        "IPY_MODEL_067bf8ab606847d4ba0336a03849e5b7"
       ],
       "layout": "IPY_MODEL_3e366e8d4cb64ecaa3fad8d465a6c800"
      }
     },
     "9c5c2ed4dc6c4c6aa78126c63a5a4aa5": {
      "model_module": "@jupyter-widgets/controls",
      "model_module_version": "1.5.0",
      "model_name": "SliderStyleModel",
      "state": {
       "description_width": ""
      }
     },
     "9e6c8bf71a72424e9ca0673ed3a888c6": {
      "model_module": "@jupyter-widgets/base",
      "model_module_version": "1.2.0",
      "model_name": "LayoutModel",
      "state": {}
     },
     "9fee2f6a367a4564b7d094d92d1f535f": {
      "model_module": "@jupyter-widgets/base",
      "model_module_version": "1.2.0",
      "model_name": "LayoutModel",
      "state": {}
     },
     "a5718431971c4efab18908e14adce24a": {
      "model_module": "@jupyter-widgets/controls",
      "model_module_version": "1.5.0",
      "model_name": "FloatProgressModel",
      "state": {
       "bar_style": "info",
       "description": "p=0.7063",
       "layout": "IPY_MODEL_1f733d943674433fa2486d8ba108efab",
       "max": 1,
       "orientation": "vertical",
       "style": "IPY_MODEL_15d7cc102cbb42f3a5db1e6209d593ee",
       "value": 0.7063
      }
     },
     "a74661814248473d9bf1e5ee305cef29": {
      "model_module": "@jupyter-widgets/controls",
      "model_module_version": "1.5.0",
      "model_name": "IntSliderModel",
      "state": {
       "description": "n:",
       "layout": "IPY_MODEL_9fee2f6a367a4564b7d094d92d1f535f",
       "style": "IPY_MODEL_9c5c2ed4dc6c4c6aa78126c63a5a4aa5",
       "value": 30
      }
     },
     "a8362324eb194d6a997823b6b30e2e74": {
      "model_module": "@jupyter-widgets/controls",
      "model_module_version": "1.5.0",
      "model_name": "VBoxModel",
      "state": {
       "_dom_classes": [
        "widget-interact"
       ],
       "children": [
        "IPY_MODEL_192a0fd6a9b549c487228b34fc9e3ffa",
        "IPY_MODEL_e31ae817fbb249b7a3d320ced1f4d640"
       ],
       "layout": "IPY_MODEL_d8c3e459f4f9476390bb301a4db9b788"
      }
     },
     "b4f6edc9da7a444baf6ca13371e3ad4b": {
      "model_module": "@jupyter-widgets/controls",
      "model_module_version": "1.5.0",
      "model_name": "IntSliderModel",
      "state": {
       "description": "n:",
       "layout": "IPY_MODEL_71b9cdbb90d24003a393c4ebc769f478",
       "style": "IPY_MODEL_d549408189914859a1be4004a704d1ea",
       "value": 23
      }
     },
     "d549408189914859a1be4004a704d1ea": {
      "model_module": "@jupyter-widgets/controls",
      "model_module_version": "1.5.0",
      "model_name": "SliderStyleModel",
      "state": {
       "description_width": ""
      }
     },
     "d8c3e459f4f9476390bb301a4db9b788": {
      "model_module": "@jupyter-widgets/base",
      "model_module_version": "1.2.0",
      "model_name": "LayoutModel",
      "state": {}
     },
     "e03fdfc4cd6948379d5375846e6df2ed": {
      "model_module": "@jupyter-widgets/controls",
      "model_module_version": "1.5.0",
      "model_name": "HBoxModel",
      "state": {
       "children": [
        "IPY_MODEL_a74661814248473d9bf1e5ee305cef29",
        "IPY_MODEL_a5718431971c4efab18908e14adce24a"
       ],
       "layout": "IPY_MODEL_e6e1d84b36424bd4b93f6cc79d6e0845"
      }
     },
     "e31ae817fbb249b7a3d320ced1f4d640": {
      "model_module": "@jupyter-widgets/output",
      "model_module_version": "1.0.0",
      "model_name": "OutputModel",
      "state": {
       "layout": "IPY_MODEL_6c895705c7b548289ebc0c88ce7680ce"
      }
     },
     "e6e1d84b36424bd4b93f6cc79d6e0845": {
      "model_module": "@jupyter-widgets/base",
      "model_module_version": "1.2.0",
      "model_name": "LayoutModel",
      "state": {}
     }
    },
    "version_major": 2,
    "version_minor": 0
   }
  }
 },
 "nbformat": 4,
 "nbformat_minor": 4
}
