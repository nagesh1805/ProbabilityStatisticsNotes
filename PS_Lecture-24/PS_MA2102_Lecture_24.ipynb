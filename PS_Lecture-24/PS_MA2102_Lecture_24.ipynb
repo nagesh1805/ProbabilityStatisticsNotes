{
 "cells": [
  {
   "cell_type": "markdown",
   "metadata": {},
   "source": [
    "<h2 style=\"text-align:center\"> MA2102</h2>\n",
    "<h1 style=\"text-align:center\"> Probability and Statistics</h1>\n",
    "<h4 style=\"text-align:center\"> Lecture-24</h4>"
   ]
  },
  {
   "cell_type": "markdown",
   "metadata": {},
   "source": [
    "## Student-t Distribution:"
   ]
  },
  {
   "cell_type": "markdown",
   "metadata": {},
   "source": [
    "Let $X,Y$ are two independent random variables, $X\\sim N(0,1)$, & $Y\\sim \\chi^2_n$, then $T=\\frac{X}{\\sqrt{\\frac{Y}{n}}}=\\frac{\\sqrt{n}X}{\\sqrt{Y}}$ is said to have a <b> student-t</b> distribution on $n-$degrees of freedom."
   ]
  },
  {
   "cell_type": "markdown",
   "metadata": {},
   "source": [
    "$f_X(x)=\\frac{1}{\\sqrt{2\\pi}}e^{-\\frac{x^2}{2}}$,$-\\infty<x<\\infty$, $f_Y(y)=\\frac{1}{2^{\\frac{n}{2}}\\Gamma{\\left(\\frac{n}{2}\\right)}}y^{\\frac{n}{2}-1}e^{-\\frac{y}{2}}$, $y>0$"
   ]
  },
  {
   "cell_type": "markdown",
   "metadata": {},
   "source": [
    "The $JPDF$ of $X,Y$, $f_{X,Y}(x,y)=f_X(x)f_Y(y)$ &nbsp; &nbsp; ($\\because$ $X,Y$ are independent)"
   ]
  },
  {
   "cell_type": "markdown",
   "metadata": {},
   "source": [
    "$f_{X,Y}(x,y)=\\frac{1}{2^{\\frac{n+1}{2}}\\sqrt{\\pi}~\\Gamma{\\left(\\frac{n}{2}\\right)}}y^{\\frac{n}{2}-1}e^{-\\frac{1}{2}(y+x^2)}$,$-\\infty<x<\\infty,y>0$"
   ]
  },
  {
   "cell_type": "markdown",
   "metadata": {},
   "source": [
    "consider, $T=\\frac{\\sqrt{n}X}{\\sqrt{Y}}$, &nbsp; &nbsp; $U=Y$"
   ]
  },
  {
   "cell_type": "markdown",
   "metadata": {},
   "source": [
    "$t=\\frac{\\sqrt{n}x}{\\sqrt{y}}$, $u=y\\implies~x=t\\sqrt{\\frac{u}{n}}$ & $y=u$"
   ]
  },
  {
   "cell_type": "markdown",
   "metadata": {},
   "source": [
    "$\\frac{\\partial(x,y)}{\\partial(t,u)}=\\begin{vmatrix}\n",
    "\\frac{\\partial x}{\\partial t} & \\frac{\\partial x}{\\partial u} \\\\ \n",
    "\\frac{\\partial y}{\\partial t} & \\frac{\\partial y}{\\partial u}\n",
    "\\end{vmatrix}=\\sqrt{\\frac{u}{n}}$"
   ]
  },
  {
   "cell_type": "markdown",
   "metadata": {},
   "source": [
    "$JPDF$ of $(T,U)$, &nbsp; $f_{T,U}(t,u)=f_{X,Y}(t\\sqrt{\\frac{u}{n}},u)\\begin{vmatrix}\\frac{\\partial(x,y)}{\\partial(t,u)}\\end{vmatrix}$,&nbsp; &nbsp; $t\\in\\mathbb{R},u>0$"
   ]
  },
  {
   "cell_type": "markdown",
   "metadata": {},
   "source": [
    "&nbsp; &nbsp; &nbsp; &nbsp; &nbsp; &nbsp;&nbsp; &nbsp; &nbsp;&nbsp; &nbsp; &nbsp;&nbsp; &nbsp; &nbsp;&nbsp; &nbsp; &nbsp;&nbsp; &nbsp; &nbsp;&nbsp; &nbsp; &nbsp;&nbsp; &nbsp; &nbsp; &nbsp; &nbsp; &nbsp;$=\\frac{1}{2^{\\frac{n+1}{2}}\\sqrt{\\pi}~\\Gamma{\\left(\\frac{n}{2}\\right)}}u^{\\frac{n}{2}-1}e^{-\\frac{1}{2}(u+t^2\\left(\\frac{u}{n}\\right))}\\left(\\sqrt{\\frac{u}{n}}\\right)$"
   ]
  },
  {
   "cell_type": "markdown",
   "metadata": {},
   "source": [
    "&nbsp; &nbsp; &nbsp; &nbsp; &nbsp; &nbsp;&nbsp; &nbsp; &nbsp;&nbsp; &nbsp; &nbsp;&nbsp; &nbsp; &nbsp;&nbsp; &nbsp; $f_{T,U}(t,u)=\\frac{1}{2^{\\frac{n+1}{2}}\\sqrt{n}\\sqrt{\\pi}~\\Gamma{\\left(\\frac{n}{2}\\right)}}e^{-\\frac{u}{2}\\left(1+\\frac{t^2}{n}\\right)}u^{\\frac{n+1}{2}-1}$, $-\\infty<t<\\infty,u>0$"
   ]
  },
  {
   "cell_type": "markdown",
   "metadata": {},
   "source": [
    "$PDF$ of $T$, $f_T(t)=\\int_{-\\infty}^{\\infty}f_{T,U}(t,u)du$"
   ]
  },
  {
   "cell_type": "markdown",
   "metadata": {},
   "source": [
    "$f_T(t)=\\frac{1}{\\sqrt{n}~2^{\\frac{n+1}{2}}\\sqrt{\\pi}~\\Gamma{\\left(\\frac{n}{2}\\right)}}\\int_{0}^{\\infty}e^{-\\frac{u}{2}\\left(1+\\frac{t^2}{n}\\right)}u^{\\frac{n+1}{2}-1}du$"
   ]
  },
  {
   "cell_type": "markdown",
   "metadata": {},
   "source": [
    "take $s=\\frac{u}{2}\\left(1+\\frac{t^2}{n}\\right)\\implies ds=\\frac{1}{2}\\left(1+\\frac{t^2}{n}\\right)du$, and $u=\\frac{2s}{1+\\frac{t^2}{n}}$"
   ]
  },
  {
   "cell_type": "markdown",
   "metadata": {},
   "source": [
    "$f_T(t)=\\frac{1}{\\sqrt{n}~2^{\\frac{n+1}{2}}\\sqrt{\\pi}~\\Gamma{\\left(\\frac{n}{2}\\right)}}\\int_{0}^{\\infty}e^{-s}\\left({\\frac{2s}{1+\\frac{t^2}{n}}}\\right)^{\\frac{n+1}{2}-1}\\frac{ds}{\\frac{1}{2}\\left(1+\\frac{t^2}{n}\\right)}$"
   ]
  },
  {
   "cell_type": "markdown",
   "metadata": {},
   "source": [
    "&nbsp; &nbsp; &nbsp; &nbsp; &nbsp; &nbsp; $=\\frac{2^{\\frac{n+1}{2}}}{\\sqrt{n}~2^{\\frac{n+1}{2}}\\sqrt{\\pi}~\\Gamma{\\left(\\frac{n}{2}\\right)}\\left(1+\\frac{t^2}{n}\\right)^{\\frac{n+1}{2}}}\\int_{0}^{\\infty}e^{-s}{s}^{\\frac{n+1}{2}-1}ds$"
   ]
  },
  {
   "cell_type": "markdown",
   "metadata": {},
   "source": [
    "&nbsp; &nbsp; &nbsp; &nbsp; &nbsp; &nbsp; $=\\frac{1}{\\sqrt{n}\\sqrt{\\pi}~\\Gamma{\\left(\\frac{n}{2}\\right)}\\left(1+\\frac{t^2}{n}\\right)^{\\frac{n+1}{2}}}\\Gamma{\\left(\\frac{n+1}{2}\\right)}$"
   ]
  },
  {
   "cell_type": "markdown",
   "metadata": {},
   "source": [
    "&nbsp; &nbsp; &nbsp; &nbsp; &nbsp; &nbsp; $=\\frac{\\Gamma{\\left(\\frac{n}{2}+\\frac{1}{2}\\right)} \\left(1+\\frac{t^2}{n}\\right)^{-\\frac{n+1}{2}}}{\\sqrt{n}~\\Gamma{\\left(\\frac{1}{2}\\right)}~\\Gamma{\\left(\\frac{n}{2}\\right)}}$"
   ]
  },
  {
   "cell_type": "markdown",
   "metadata": {},
   "source": [
    "$f_T(t)=\\frac{ 1}{\\sqrt{n}~B\\left(\\frac{n}{2},\\frac{1}{2}\\right)}\\left(1+\\frac{t^2}{n}\\right)^{-\\frac{n+1}{2}}$, $-\\infty<t<\\infty$"
   ]
  },
  {
   "cell_type": "markdown",
   "metadata": {},
   "source": [
    "**Notation:** $T\\sim t_n$"
   ]
  },
  {
   "cell_type": "markdown",
   "metadata": {},
   "source": [
    "**Properties:**"
   ]
  },
  {
   "cell_type": "markdown",
   "metadata": {},
   "source": [
    "1. $f_T$ is symmetric about $0$ &nbsp; &nbsp; (i.e $f_T(-t)=f_T(t)$)"
   ]
  },
  {
   "cell_type": "markdown",
   "metadata": {},
   "source": [
    "2. for n=1 $f_T(t)=\\frac{1}{{\\pi}{\\left(1+{t^2}\\right)}}$, $-\\infty<t<\\infty$ &nbsp; &nbsp; ($\\because B\\left(\\frac{1}{2},\\frac{1}{2}\\right)=\\pi$)<br><br>\n",
    "$T$ follows Cauchy distribution, and we know that Expectation do not exists for Cauchy distribution."
   ]
  },
  {
   "cell_type": "markdown",
   "metadata": {},
   "source": [
    "3. for $n\\ge 2$, $E(T)=E\\left(\\frac{X}{\\sqrt{\\frac{Y}{n}}}\\right)=E(X)E\\left(\\frac{1}{\\sqrt{\\frac{Y}{n}}}\\right)=0$ &nbsp; ($\\because~X,Y$ are independent and $E(X)=0$"
   ]
  },
  {
   "cell_type": "markdown",
   "metadata": {},
   "source": [
    "$Var(T)=E(T^2)$ &nbsp; ($\\because E(T)=0$)"
   ]
  },
  {
   "cell_type": "markdown",
   "metadata": {},
   "source": [
    "&nbsp; &nbsp; &nbsp; &nbsp; &nbsp; &nbsp; &nbsp; &nbsp;$=E\\left(\\frac{X^2}{\\frac{Y}{n}}\\right)=E(X^2)E\\left(\\frac{n}{Y}\\right)=1\\times n E\\left(\\frac{1}{Y}\\right)=\\frac{n}{n-2}$"
   ]
  },
  {
   "cell_type": "markdown",
   "metadata": {},
   "source": [
    "$\\left(\\because E\\left(\\frac{1}{Y}\\right)=\\int_{0}^{\\infty}\\frac{1}{y}\\frac{1}{2^{\\frac{n}{2}}\\Gamma{\\left(\\frac{n}{2}\\right)}}y^{\\frac{n}{2}-1}e^{-\\frac{y}{2}}dy=\\frac{1}{\\frac{2(n-2)}{2}}\\int_{0}^{\\infty}\\frac{1}{2^{\\frac{n-2}{2}}\\Gamma{\\left(\\frac{n-2}{2}\\right)}}y^{\\frac{n-2}{2}-1}e^{-\\frac{y}{2}}dy= \\frac{1}{n-2}\\times 1 \\right)$"
   ]
  },
  {
   "cell_type": "code",
   "execution_count": 1,
   "metadata": {},
   "outputs": [
    {
     "data": {
      "image/png": "[encoded data removed]",
      "text/plain": [
       "<Figure size 576x432 with 1 Axes>"
      ]
     },
     "metadata": {
      "needs_background": "light"
     },
     "output_type": "display_data"
    }
   ],
   "source": [
    "import math\n",
    "import numpy as np\n",
    "import matplotlib.pyplot as plt\n",
    "import scipy.special as sc\n",
    "%matplotlib inline\n",
    "\n",
    "Infty=20   \n",
    "t=np.linspace(-Infty,Infty,1000)\n",
    "plt.figure(figsize=(8,6))\n",
    "dfs = [1,2,3,5,9] # degree of freedoms\n",
    "for n in dfs:\n",
    "    # ploting thw pdf of Student-t distribution with n degrees of freedom\n",
    "    plt.plot(t,(1/(math.sqrt(n)*sc.beta(n/2,1/2)))*(1+(t**2)/n)**(-(n+1)/2),label=r\"{0}DF\".format(n))\n",
    "plt.legend(loc='upper right')\n",
    "plt.title(r\"$t-$ Distribution\")\n",
    "plt.xlabel(\"$x$\")\n",
    "plt.ylabel(\"$f_X(x)$\")\n",
    "plt.xlim(-20,20)\n",
    "plt.ylim(0,0.5)\n",
    "plt.show()\n",
    "\n",
    "\n"
   ]
  },
  {
   "cell_type": "markdown",
   "metadata": {},
   "source": [
    "$CDF$, of $T\\sim t_n$, $F_T(x)=P(T\\le x)=\\int_{-\\infty}^{x}\\frac{ 1}{\\sqrt{n}~B\\left(\\frac{n}{2},\\frac{1}{2}\\right)}\\left(1+\\frac{t^2}{n}\\right)^{-\\frac{n+1}{2}}dt$"
   ]
  },
  {
   "cell_type": "code",
   "execution_count": 11,
   "metadata": {},
   "outputs": [
    {
     "data": {
      "application/vnd.jupyter.widget-view+json": {
       "model_id": "0557852ce8594ca19599b8334149fd95",
       "version_major": 2,
       "version_minor": 0
      },
      "text/plain": [
       "interactive(children=(IntSlider(value=3, description='$n$ :', max=50, min=1), FloatSlider(value=2.0, descripti…"
      ]
     },
     "metadata": {},
     "output_type": "display_data"
    }
   ],
   "source": [
    "%matplotlib inline\n",
    "import math\n",
    "import numpy as np\n",
    "import matplotlib.pyplot as plt\n",
    "from ipywidgets import interact ,interactive, fixed, interact_manual\n",
    "import ipywidgets as widgets\n",
    "from scipy import stats as st\n",
    "\n",
    "Infty =15\n",
    "\n",
    "def AreaUnderStudent_t_PDF(n,x):\n",
    "    fig, ax = plt.subplots(figsize=(12,8))\n",
    "    \n",
    "    xx=np.linspace(-Infty,Infty,1000)\n",
    "    T=st.t(n)  # Student-t random variable with n degrees of freedom from scipy.stats \n",
    "    ax.plot(xx,T.pdf(xx),label=r\"{0}DF\".format(n)) # poting graph of pdf\n",
    "    \n",
    "    xx=list(np.linspace(-Infty,x,1000))\n",
    "\n",
    "    ax.fill_between(xx,0,T.pdf(xx),color='g',label=r'$F_T(%s)=%s$'%(x,round(T.cdf(x),4)))\n",
    "    ax.set_title(r\"AREA UNDER THE $t_{n}$ PDF CURVE TO THE LEFT OF $x$\" )\n",
    "    ax.set_xlabel(r\"$t$\")\n",
    "    ax.set_ylabel(r\"$f_{T}(t)$\")\n",
    "    ax.text(x,-0.02,r'%s'%(x))\n",
    "    ax.set_xticks([-15,0,15])\n",
    "    ax.set_xlim(-Infty,Infty)\n",
    "    ax.set_ylim(0,0.5)\n",
    "    ax.legend()\n",
    "    plt.show()\n",
    "    \n",
    "# Please Click the Run Interact Button to see the Bar graph\n",
    "interactive(AreaUnderStudent_t_PDF,{'manual':False},n=widgets.IntSlider(min=1, max=50, step=1, value=3,description='$n$ :'),x=widgets.FloatSlider(min=-Infty, max=Infty, step=0.01, value=2,description='$x$ :'))\n"
   ]
  },
  {
   "cell_type": "markdown",
   "metadata": {},
   "source": [
    "For $0< \\alpha <1$, the number $x\\in \\mathbb{R}$ such that $P(t_n>x)=\\alpha$ is denoted by $t_{\\alpha,n}$, and to find these $t_{\\alpha,n}$ values one has to either use software or refer to t-distribution Table (Which can be found any statistics book)<br><br>\n",
    "By symmetry we can see that $P(t_n\\le -t_{\\alpha,n})=\\alpha\\implies 1-P(t_n>-t_{\\alpha,n})=\\alpha\\implies P(t_n>-t_{\\alpha,n})=1-\\alpha$<br><br>\n",
    "Hence we have, $-t_{\\alpha,n}=t_{1-\\alpha,n}$"
   ]
  },
  {
   "cell_type": "code",
   "execution_count": 10,
   "metadata": {},
   "outputs": [
    {
     "data": {
      "application/vnd.jupyter.widget-view+json": {
       "model_id": "c9d4326f49574b29ad9a65b7f14af55d",
       "version_major": 2,
       "version_minor": 0
      },
      "text/plain": [
       "interactive(children=(IntSlider(value=3, description='$n$ :', max=50, min=1), FloatSlider(value=0.1, descripti…"
      ]
     },
     "metadata": {},
     "output_type": "display_data"
    }
   ],
   "source": [
    "%matplotlib inline\n",
    "import math\n",
    "import numpy as np\n",
    "import matplotlib.pyplot as plt\n",
    "from ipywidgets import interact ,interactive, fixed, interact_manual\n",
    "import ipywidgets as widgets\n",
    "from scipy import stats as st\n",
    "\n",
    "Infty =15\n",
    "\n",
    "def t_alpha_n(n,alpha):\n",
    "    fig, ax = plt.subplots(figsize=(12,8))\n",
    "    T=st.t(n)  # Student-t random variable with n degrees of freedom from scipy.stats \n",
    "    x=np.linspace(-Infty,Infty,1000)\n",
    "\n",
    "    ax.plot(x,T.pdf(x),label=r\"{0}DF\".format(n)) # poting graph of pdf\n",
    "    \n",
    "    \n",
    "    xx=np.linspace(T.ppf(1-alpha),Infty,1000)\n",
    "    ax.fill_between(xx,0,T.pdf(xx),color='y',label=r'$\\alpha=%s$'%(round(alpha,4)))\n",
    "    \n",
    "    # X.ppf(p) returns pth quantile of X\n",
    "    ax.scatter([T.ppf(1-alpha)],[0],s=10,color=(1,0,0),label=r'$t_{%s,%s}=%s$'%(alpha,n,round(T.ppf(1-alpha),3)))\n",
    "    ax.set_title(r\"AREA UNDER THE $t_{n}$ PDF CURVE TO THE right OF $t_{\\alpha,n}$\" )\n",
    "    ax.set_xlabel(r\"$t$\")\n",
    "    ax.set_ylabel(r\"$f_X(t)$\")\n",
    "    ax.set_xlim(-Infty,Infty)\n",
    "    ax.set_xticks([-15,0,15])\n",
    "    ax.set_ylim(0,0.5)\n",
    "    ax.text(T.ppf(1-alpha),-0.02,r'$t_{%s,%s}$'%(round(alpha,4),n),color=(0,0,1))\n",
    "    ax.legend()\n",
    "    plt.show()\n",
    "    \n",
    "# Please Click the Run Interact Button to see the Bar graph\n",
    "interactive(t_alpha_n,{'manual':False},n=widgets.IntSlider(min=1, max=50, step=1, value=3,description='$n$ :'),alpha=widgets.FloatSlider(min=0, max=0.2, step=0.01, value=0.1,description=r'$\\alpha$ :'))\n",
    "\n",
    "\n",
    "\n",
    "\n",
    "    "
   ]
  },
  {
   "cell_type": "code",
   "execution_count": 9,
   "metadata": {},
   "outputs": [
    {
     "data": {
      "text/markdown": [
       "&nbsp; &nbsp; &nbsp; &nbsp; &nbsp; &nbsp; &nbsp; &nbsp; &nbsp; &nbsp; &nbsp; &nbsp; &nbsp; &nbsp; &nbsp; &nbsp; &nbsp; &nbsp; &nbsp; &nbsp; &nbsp; &nbsp; &nbsp; &nbsp; &nbsp; &nbsp; &nbsp; &nbsp; &nbsp; &nbsp; **$t_{\\alpha,n}$  Table**"
      ],
      "text/plain": [
       "<IPython.core.display.Markdown object>"
      ]
     },
     "metadata": {},
     "output_type": "display_data"
    },
    {
     "data": {
      "text/html": [
       "<span style=\"color:blue\">----------------------------------------------------------------------------------------------------</span>"
      ],
      "text/plain": [
       "<IPython.core.display.HTML object>"
      ]
     },
     "metadata": {},
     "output_type": "display_data"
    },
    {
     "data": {
      "text/markdown": [
       "n &nbsp; &nbsp; &nbsp; &nbsp; &nbsp; &nbsp; $\\alpha$=0.1&nbsp; &nbsp; &nbsp; &nbsp; &nbsp; &nbsp; $\\alpha$=0.05&nbsp; &nbsp; &nbsp; &nbsp; &nbsp; &nbsp; $\\alpha$=0.025&nbsp; &nbsp; &nbsp; &nbsp; &nbsp; &nbsp; $\\alpha$=0.01&nbsp; &nbsp; &nbsp; &nbsp; &nbsp; &nbsp; $\\alpha$=0.005"
      ],
      "text/plain": [
       "<IPython.core.display.Markdown object>"
      ]
     },
     "metadata": {},
     "output_type": "display_data"
    },
    {
     "data": {
      "text/html": [
       "<span style=\"color:blue\">----------------------------------------------------------------------------------------------------</span>"
      ],
      "text/plain": [
       "<IPython.core.display.HTML object>"
      ]
     },
     "metadata": {},
     "output_type": "display_data"
    },
    {
     "data": {
      "text/markdown": [
       "1&nbsp; &nbsp; &nbsp; &nbsp; &nbsp; &nbsp; &nbsp; 3.0780&nbsp; &nbsp; &nbsp; &nbsp; &nbsp; &nbsp; &nbsp; 6.3140&nbsp; &nbsp; &nbsp; &nbsp; &nbsp; &nbsp; &nbsp; 12.706&nbsp; &nbsp; &nbsp; &nbsp; &nbsp; &nbsp; &nbsp; 31.821&nbsp; &nbsp; &nbsp; &nbsp; &nbsp; &nbsp; &nbsp; 63.657"
      ],
      "text/plain": [
       "<IPython.core.display.Markdown object>"
      ]
     },
     "metadata": {},
     "output_type": "display_data"
    },
    {
     "data": {
      "text/markdown": [
       "2&nbsp; &nbsp; &nbsp; &nbsp; &nbsp; &nbsp; &nbsp; 1.8860&nbsp; &nbsp; &nbsp; &nbsp; &nbsp; &nbsp; &nbsp; 2.9200&nbsp; &nbsp; &nbsp; &nbsp; &nbsp; &nbsp; &nbsp; 4.3030&nbsp; &nbsp; &nbsp; &nbsp; &nbsp; &nbsp; &nbsp; 6.9650&nbsp; &nbsp; &nbsp; &nbsp; &nbsp; &nbsp; &nbsp; 9.9250"
      ],
      "text/plain": [
       "<IPython.core.display.Markdown object>"
      ]
     },
     "metadata": {},
     "output_type": "display_data"
    },
    {
     "data": {
      "text/markdown": [
       "3&nbsp; &nbsp; &nbsp; &nbsp; &nbsp; &nbsp; &nbsp; 1.6380&nbsp; &nbsp; &nbsp; &nbsp; &nbsp; &nbsp; &nbsp; 2.3530&nbsp; &nbsp; &nbsp; &nbsp; &nbsp; &nbsp; &nbsp; 3.1820&nbsp; &nbsp; &nbsp; &nbsp; &nbsp; &nbsp; &nbsp; 4.5410&nbsp; &nbsp; &nbsp; &nbsp; &nbsp; &nbsp; &nbsp; 5.8410"
      ],
      "text/plain": [
       "<IPython.core.display.Markdown object>"
      ]
     },
     "metadata": {},
     "output_type": "display_data"
    },
    {
     "data": {
      "text/markdown": [
       "4&nbsp; &nbsp; &nbsp; &nbsp; &nbsp; &nbsp; &nbsp; 1.5330&nbsp; &nbsp; &nbsp; &nbsp; &nbsp; &nbsp; &nbsp; 2.1320&nbsp; &nbsp; &nbsp; &nbsp; &nbsp; &nbsp; &nbsp; 2.7760&nbsp; &nbsp; &nbsp; &nbsp; &nbsp; &nbsp; &nbsp; 3.7470&nbsp; &nbsp; &nbsp; &nbsp; &nbsp; &nbsp; &nbsp; 4.6040"
      ],
      "text/plain": [
       "<IPython.core.display.Markdown object>"
      ]
     },
     "metadata": {},
     "output_type": "display_data"
    },
    {
     "data": {
      "text/markdown": [
       "5&nbsp; &nbsp; &nbsp; &nbsp; &nbsp; &nbsp; &nbsp; 1.4760&nbsp; &nbsp; &nbsp; &nbsp; &nbsp; &nbsp; &nbsp; 2.0150&nbsp; &nbsp; &nbsp; &nbsp; &nbsp; &nbsp; &nbsp; 2.5710&nbsp; &nbsp; &nbsp; &nbsp; &nbsp; &nbsp; &nbsp; 3.3650&nbsp; &nbsp; &nbsp; &nbsp; &nbsp; &nbsp; &nbsp; 4.0320"
      ],
      "text/plain": [
       "<IPython.core.display.Markdown object>"
      ]
     },
     "metadata": {},
     "output_type": "display_data"
    },
    {
     "data": {
      "text/markdown": [
       "6&nbsp; &nbsp; &nbsp; &nbsp; &nbsp; &nbsp; &nbsp; 1.4400&nbsp; &nbsp; &nbsp; &nbsp; &nbsp; &nbsp; &nbsp; 1.9430&nbsp; &nbsp; &nbsp; &nbsp; &nbsp; &nbsp; &nbsp; 2.4470&nbsp; &nbsp; &nbsp; &nbsp; &nbsp; &nbsp; &nbsp; 3.1430&nbsp; &nbsp; &nbsp; &nbsp; &nbsp; &nbsp; &nbsp; 3.7070"
      ],
      "text/plain": [
       "<IPython.core.display.Markdown object>"
      ]
     },
     "metadata": {},
     "output_type": "display_data"
    },
    {
     "data": {
      "text/markdown": [
       "7&nbsp; &nbsp; &nbsp; &nbsp; &nbsp; &nbsp; &nbsp; 1.4150&nbsp; &nbsp; &nbsp; &nbsp; &nbsp; &nbsp; &nbsp; 1.8950&nbsp; &nbsp; &nbsp; &nbsp; &nbsp; &nbsp; &nbsp; 2.3650&nbsp; &nbsp; &nbsp; &nbsp; &nbsp; &nbsp; &nbsp; 2.9980&nbsp; &nbsp; &nbsp; &nbsp; &nbsp; &nbsp; &nbsp; 3.4990"
      ],
      "text/plain": [
       "<IPython.core.display.Markdown object>"
      ]
     },
     "metadata": {},
     "output_type": "display_data"
    },
    {
     "data": {
      "text/markdown": [
       "8&nbsp; &nbsp; &nbsp; &nbsp; &nbsp; &nbsp; &nbsp; 1.3970&nbsp; &nbsp; &nbsp; &nbsp; &nbsp; &nbsp; &nbsp; 1.8600&nbsp; &nbsp; &nbsp; &nbsp; &nbsp; &nbsp; &nbsp; 2.3060&nbsp; &nbsp; &nbsp; &nbsp; &nbsp; &nbsp; &nbsp; 2.8960&nbsp; &nbsp; &nbsp; &nbsp; &nbsp; &nbsp; &nbsp; 3.3550"
      ],
      "text/plain": [
       "<IPython.core.display.Markdown object>"
      ]
     },
     "metadata": {},
     "output_type": "display_data"
    },
    {
     "data": {
      "text/markdown": [
       "9&nbsp; &nbsp; &nbsp; &nbsp; &nbsp; &nbsp; &nbsp; 1.3830&nbsp; &nbsp; &nbsp; &nbsp; &nbsp; &nbsp; &nbsp; 1.8330&nbsp; &nbsp; &nbsp; &nbsp; &nbsp; &nbsp; &nbsp; 2.2620&nbsp; &nbsp; &nbsp; &nbsp; &nbsp; &nbsp; &nbsp; 2.8210&nbsp; &nbsp; &nbsp; &nbsp; &nbsp; &nbsp; &nbsp; 3.2500"
      ],
      "text/plain": [
       "<IPython.core.display.Markdown object>"
      ]
     },
     "metadata": {},
     "output_type": "display_data"
    },
    {
     "data": {
      "text/markdown": [
       "10&nbsp; &nbsp; &nbsp; &nbsp; &nbsp; &nbsp; &nbsp; 1.3720&nbsp; &nbsp; &nbsp; &nbsp; &nbsp; &nbsp; &nbsp; 1.8120&nbsp; &nbsp; &nbsp; &nbsp; &nbsp; &nbsp; &nbsp; 2.2280&nbsp; &nbsp; &nbsp; &nbsp; &nbsp; &nbsp; &nbsp; 2.7640&nbsp; &nbsp; &nbsp; &nbsp; &nbsp; &nbsp; &nbsp; 3.1690"
      ],
      "text/plain": [
       "<IPython.core.display.Markdown object>"
      ]
     },
     "metadata": {},
     "output_type": "display_data"
    },
    {
     "data": {
      "text/markdown": [
       "11&nbsp; &nbsp; &nbsp; &nbsp; &nbsp; &nbsp; &nbsp; 1.3630&nbsp; &nbsp; &nbsp; &nbsp; &nbsp; &nbsp; &nbsp; 1.7960&nbsp; &nbsp; &nbsp; &nbsp; &nbsp; &nbsp; &nbsp; 2.2010&nbsp; &nbsp; &nbsp; &nbsp; &nbsp; &nbsp; &nbsp; 2.7180&nbsp; &nbsp; &nbsp; &nbsp; &nbsp; &nbsp; &nbsp; 3.1060"
      ],
      "text/plain": [
       "<IPython.core.display.Markdown object>"
      ]
     },
     "metadata": {},
     "output_type": "display_data"
    },
    {
     "data": {
      "text/markdown": [
       "12&nbsp; &nbsp; &nbsp; &nbsp; &nbsp; &nbsp; &nbsp; 1.3560&nbsp; &nbsp; &nbsp; &nbsp; &nbsp; &nbsp; &nbsp; 1.7820&nbsp; &nbsp; &nbsp; &nbsp; &nbsp; &nbsp; &nbsp; 2.1790&nbsp; &nbsp; &nbsp; &nbsp; &nbsp; &nbsp; &nbsp; 2.6810&nbsp; &nbsp; &nbsp; &nbsp; &nbsp; &nbsp; &nbsp; 3.0550"
      ],
      "text/plain": [
       "<IPython.core.display.Markdown object>"
      ]
     },
     "metadata": {},
     "output_type": "display_data"
    },
    {
     "data": {
      "text/markdown": [
       "13&nbsp; &nbsp; &nbsp; &nbsp; &nbsp; &nbsp; &nbsp; 1.3500&nbsp; &nbsp; &nbsp; &nbsp; &nbsp; &nbsp; &nbsp; 1.7710&nbsp; &nbsp; &nbsp; &nbsp; &nbsp; &nbsp; &nbsp; 2.1600&nbsp; &nbsp; &nbsp; &nbsp; &nbsp; &nbsp; &nbsp; 2.6500&nbsp; &nbsp; &nbsp; &nbsp; &nbsp; &nbsp; &nbsp; 3.0120"
      ],
      "text/plain": [
       "<IPython.core.display.Markdown object>"
      ]
     },
     "metadata": {},
     "output_type": "display_data"
    },
    {
     "data": {
      "text/markdown": [
       "14&nbsp; &nbsp; &nbsp; &nbsp; &nbsp; &nbsp; &nbsp; 1.3450&nbsp; &nbsp; &nbsp; &nbsp; &nbsp; &nbsp; &nbsp; 1.7610&nbsp; &nbsp; &nbsp; &nbsp; &nbsp; &nbsp; &nbsp; 2.1450&nbsp; &nbsp; &nbsp; &nbsp; &nbsp; &nbsp; &nbsp; 2.6240&nbsp; &nbsp; &nbsp; &nbsp; &nbsp; &nbsp; &nbsp; 2.9770"
      ],
      "text/plain": [
       "<IPython.core.display.Markdown object>"
      ]
     },
     "metadata": {},
     "output_type": "display_data"
    },
    {
     "data": {
      "text/markdown": [
       "15&nbsp; &nbsp; &nbsp; &nbsp; &nbsp; &nbsp; &nbsp; 1.3410&nbsp; &nbsp; &nbsp; &nbsp; &nbsp; &nbsp; &nbsp; 1.7530&nbsp; &nbsp; &nbsp; &nbsp; &nbsp; &nbsp; &nbsp; 2.1310&nbsp; &nbsp; &nbsp; &nbsp; &nbsp; &nbsp; &nbsp; 2.6020&nbsp; &nbsp; &nbsp; &nbsp; &nbsp; &nbsp; &nbsp; 2.9470"
      ],
      "text/plain": [
       "<IPython.core.display.Markdown object>"
      ]
     },
     "metadata": {},
     "output_type": "display_data"
    },
    {
     "data": {
      "text/markdown": [
       "16&nbsp; &nbsp; &nbsp; &nbsp; &nbsp; &nbsp; &nbsp; 1.3370&nbsp; &nbsp; &nbsp; &nbsp; &nbsp; &nbsp; &nbsp; 1.7460&nbsp; &nbsp; &nbsp; &nbsp; &nbsp; &nbsp; &nbsp; 2.1200&nbsp; &nbsp; &nbsp; &nbsp; &nbsp; &nbsp; &nbsp; 2.5830&nbsp; &nbsp; &nbsp; &nbsp; &nbsp; &nbsp; &nbsp; 2.9210"
      ],
      "text/plain": [
       "<IPython.core.display.Markdown object>"
      ]
     },
     "metadata": {},
     "output_type": "display_data"
    },
    {
     "data": {
      "text/markdown": [
       "17&nbsp; &nbsp; &nbsp; &nbsp; &nbsp; &nbsp; &nbsp; 1.3330&nbsp; &nbsp; &nbsp; &nbsp; &nbsp; &nbsp; &nbsp; 1.7400&nbsp; &nbsp; &nbsp; &nbsp; &nbsp; &nbsp; &nbsp; 2.1100&nbsp; &nbsp; &nbsp; &nbsp; &nbsp; &nbsp; &nbsp; 2.5670&nbsp; &nbsp; &nbsp; &nbsp; &nbsp; &nbsp; &nbsp; 2.8980"
      ],
      "text/plain": [
       "<IPython.core.display.Markdown object>"
      ]
     },
     "metadata": {},
     "output_type": "display_data"
    },
    {
     "data": {
      "text/markdown": [
       "18&nbsp; &nbsp; &nbsp; &nbsp; &nbsp; &nbsp; &nbsp; 1.3300&nbsp; &nbsp; &nbsp; &nbsp; &nbsp; &nbsp; &nbsp; 1.7340&nbsp; &nbsp; &nbsp; &nbsp; &nbsp; &nbsp; &nbsp; 2.1010&nbsp; &nbsp; &nbsp; &nbsp; &nbsp; &nbsp; &nbsp; 2.5520&nbsp; &nbsp; &nbsp; &nbsp; &nbsp; &nbsp; &nbsp; 2.8780"
      ],
      "text/plain": [
       "<IPython.core.display.Markdown object>"
      ]
     },
     "metadata": {},
     "output_type": "display_data"
    },
    {
     "data": {
      "text/markdown": [
       "19&nbsp; &nbsp; &nbsp; &nbsp; &nbsp; &nbsp; &nbsp; 1.3280&nbsp; &nbsp; &nbsp; &nbsp; &nbsp; &nbsp; &nbsp; 1.7290&nbsp; &nbsp; &nbsp; &nbsp; &nbsp; &nbsp; &nbsp; 2.0930&nbsp; &nbsp; &nbsp; &nbsp; &nbsp; &nbsp; &nbsp; 2.5390&nbsp; &nbsp; &nbsp; &nbsp; &nbsp; &nbsp; &nbsp; 2.8610"
      ],
      "text/plain": [
       "<IPython.core.display.Markdown object>"
      ]
     },
     "metadata": {},
     "output_type": "display_data"
    },
    {
     "data": {
      "text/markdown": [
       "20&nbsp; &nbsp; &nbsp; &nbsp; &nbsp; &nbsp; &nbsp; 1.3250&nbsp; &nbsp; &nbsp; &nbsp; &nbsp; &nbsp; &nbsp; 1.7250&nbsp; &nbsp; &nbsp; &nbsp; &nbsp; &nbsp; &nbsp; 2.0860&nbsp; &nbsp; &nbsp; &nbsp; &nbsp; &nbsp; &nbsp; 2.5280&nbsp; &nbsp; &nbsp; &nbsp; &nbsp; &nbsp; &nbsp; 2.8450"
      ],
      "text/plain": [
       "<IPython.core.display.Markdown object>"
      ]
     },
     "metadata": {},
     "output_type": "display_data"
    },
    {
     "data": {
      "text/markdown": [
       "21&nbsp; &nbsp; &nbsp; &nbsp; &nbsp; &nbsp; &nbsp; 1.3230&nbsp; &nbsp; &nbsp; &nbsp; &nbsp; &nbsp; &nbsp; 1.7210&nbsp; &nbsp; &nbsp; &nbsp; &nbsp; &nbsp; &nbsp; 2.0800&nbsp; &nbsp; &nbsp; &nbsp; &nbsp; &nbsp; &nbsp; 2.5180&nbsp; &nbsp; &nbsp; &nbsp; &nbsp; &nbsp; &nbsp; 2.8310"
      ],
      "text/plain": [
       "<IPython.core.display.Markdown object>"
      ]
     },
     "metadata": {},
     "output_type": "display_data"
    },
    {
     "data": {
      "text/markdown": [
       "22&nbsp; &nbsp; &nbsp; &nbsp; &nbsp; &nbsp; &nbsp; 1.3210&nbsp; &nbsp; &nbsp; &nbsp; &nbsp; &nbsp; &nbsp; 1.7170&nbsp; &nbsp; &nbsp; &nbsp; &nbsp; &nbsp; &nbsp; 2.0740&nbsp; &nbsp; &nbsp; &nbsp; &nbsp; &nbsp; &nbsp; 2.5080&nbsp; &nbsp; &nbsp; &nbsp; &nbsp; &nbsp; &nbsp; 2.8190"
      ],
      "text/plain": [
       "<IPython.core.display.Markdown object>"
      ]
     },
     "metadata": {},
     "output_type": "display_data"
    },
    {
     "data": {
      "text/markdown": [
       "23&nbsp; &nbsp; &nbsp; &nbsp; &nbsp; &nbsp; &nbsp; 1.3190&nbsp; &nbsp; &nbsp; &nbsp; &nbsp; &nbsp; &nbsp; 1.7140&nbsp; &nbsp; &nbsp; &nbsp; &nbsp; &nbsp; &nbsp; 2.0690&nbsp; &nbsp; &nbsp; &nbsp; &nbsp; &nbsp; &nbsp; 2.5000&nbsp; &nbsp; &nbsp; &nbsp; &nbsp; &nbsp; &nbsp; 2.8070"
      ],
      "text/plain": [
       "<IPython.core.display.Markdown object>"
      ]
     },
     "metadata": {},
     "output_type": "display_data"
    },
    {
     "data": {
      "text/markdown": [
       "24&nbsp; &nbsp; &nbsp; &nbsp; &nbsp; &nbsp; &nbsp; 1.3180&nbsp; &nbsp; &nbsp; &nbsp; &nbsp; &nbsp; &nbsp; 1.7110&nbsp; &nbsp; &nbsp; &nbsp; &nbsp; &nbsp; &nbsp; 2.0640&nbsp; &nbsp; &nbsp; &nbsp; &nbsp; &nbsp; &nbsp; 2.4920&nbsp; &nbsp; &nbsp; &nbsp; &nbsp; &nbsp; &nbsp; 2.7970"
      ],
      "text/plain": [
       "<IPython.core.display.Markdown object>"
      ]
     },
     "metadata": {},
     "output_type": "display_data"
    },
    {
     "data": {
      "text/markdown": [
       "25&nbsp; &nbsp; &nbsp; &nbsp; &nbsp; &nbsp; &nbsp; 1.3160&nbsp; &nbsp; &nbsp; &nbsp; &nbsp; &nbsp; &nbsp; 1.7080&nbsp; &nbsp; &nbsp; &nbsp; &nbsp; &nbsp; &nbsp; 2.0600&nbsp; &nbsp; &nbsp; &nbsp; &nbsp; &nbsp; &nbsp; 2.4850&nbsp; &nbsp; &nbsp; &nbsp; &nbsp; &nbsp; &nbsp; 2.7870"
      ],
      "text/plain": [
       "<IPython.core.display.Markdown object>"
      ]
     },
     "metadata": {},
     "output_type": "display_data"
    },
    {
     "data": {
      "text/markdown": [
       "26&nbsp; &nbsp; &nbsp; &nbsp; &nbsp; &nbsp; &nbsp; 1.3150&nbsp; &nbsp; &nbsp; &nbsp; &nbsp; &nbsp; &nbsp; 1.7060&nbsp; &nbsp; &nbsp; &nbsp; &nbsp; &nbsp; &nbsp; 2.0560&nbsp; &nbsp; &nbsp; &nbsp; &nbsp; &nbsp; &nbsp; 2.4790&nbsp; &nbsp; &nbsp; &nbsp; &nbsp; &nbsp; &nbsp; 2.7790"
      ],
      "text/plain": [
       "<IPython.core.display.Markdown object>"
      ]
     },
     "metadata": {},
     "output_type": "display_data"
    },
    {
     "data": {
      "text/markdown": [
       "27&nbsp; &nbsp; &nbsp; &nbsp; &nbsp; &nbsp; &nbsp; 1.3140&nbsp; &nbsp; &nbsp; &nbsp; &nbsp; &nbsp; &nbsp; 1.7030&nbsp; &nbsp; &nbsp; &nbsp; &nbsp; &nbsp; &nbsp; 2.0520&nbsp; &nbsp; &nbsp; &nbsp; &nbsp; &nbsp; &nbsp; 2.4730&nbsp; &nbsp; &nbsp; &nbsp; &nbsp; &nbsp; &nbsp; 2.7710"
      ],
      "text/plain": [
       "<IPython.core.display.Markdown object>"
      ]
     },
     "metadata": {},
     "output_type": "display_data"
    },
    {
     "data": {
      "text/markdown": [
       "28&nbsp; &nbsp; &nbsp; &nbsp; &nbsp; &nbsp; &nbsp; 1.3130&nbsp; &nbsp; &nbsp; &nbsp; &nbsp; &nbsp; &nbsp; 1.7010&nbsp; &nbsp; &nbsp; &nbsp; &nbsp; &nbsp; &nbsp; 2.0480&nbsp; &nbsp; &nbsp; &nbsp; &nbsp; &nbsp; &nbsp; 2.4670&nbsp; &nbsp; &nbsp; &nbsp; &nbsp; &nbsp; &nbsp; 2.7630"
      ],
      "text/plain": [
       "<IPython.core.display.Markdown object>"
      ]
     },
     "metadata": {},
     "output_type": "display_data"
    },
    {
     "data": {
      "text/markdown": [
       "29&nbsp; &nbsp; &nbsp; &nbsp; &nbsp; &nbsp; &nbsp; 1.3110&nbsp; &nbsp; &nbsp; &nbsp; &nbsp; &nbsp; &nbsp; 1.6990&nbsp; &nbsp; &nbsp; &nbsp; &nbsp; &nbsp; &nbsp; 2.0450&nbsp; &nbsp; &nbsp; &nbsp; &nbsp; &nbsp; &nbsp; 2.4620&nbsp; &nbsp; &nbsp; &nbsp; &nbsp; &nbsp; &nbsp; 2.7560"
      ],
      "text/plain": [
       "<IPython.core.display.Markdown object>"
      ]
     },
     "metadata": {},
     "output_type": "display_data"
    },
    {
     "data": {
      "text/markdown": [
       "30&nbsp; &nbsp; &nbsp; &nbsp; &nbsp; &nbsp; &nbsp; 1.3100&nbsp; &nbsp; &nbsp; &nbsp; &nbsp; &nbsp; &nbsp; 1.6970&nbsp; &nbsp; &nbsp; &nbsp; &nbsp; &nbsp; &nbsp; 2.0420&nbsp; &nbsp; &nbsp; &nbsp; &nbsp; &nbsp; &nbsp; 2.4570&nbsp; &nbsp; &nbsp; &nbsp; &nbsp; &nbsp; &nbsp; 2.7500"
      ],
      "text/plain": [
       "<IPython.core.display.Markdown object>"
      ]
     },
     "metadata": {},
     "output_type": "display_data"
    },
    {
     "data": {
      "text/html": [
       "<span style=\"color:blue\">----------------------------------------------------------------------------------------------------</span>"
      ],
      "text/plain": [
       "<IPython.core.display.HTML object>"
      ]
     },
     "metadata": {},
     "output_type": "display_data"
    }
   ],
   "source": [
    "%matplotlib inline\n",
    "import math\n",
    "import numpy as np\n",
    "from IPython.display import display, Markdown,HTML\n",
    "from scipy import stats as st\n",
    "\n",
    "def printLine(n):\n",
    "    sline=\"\"\n",
    "    for _ in range(n):\n",
    "        sline=sline+\"-\"\n",
    "    display(HTML('<span style=\"color:blue\">{0}</span>'.format(sline)))\n",
    "\n",
    "nn=[r for r in range(1,31) ]\n",
    "alphas=[0.10,0.05,0.025,0.01,0.005]\n",
    "display(Markdown(\"&nbsp; \"*30+\"**$t_{\\\\alpha,n}$  Table**\"))\n",
    "printLine(100)\n",
    "s=\"n \"\n",
    "for a in alphas:\n",
    "    s=s+\"&nbsp; \"*6+r\"$\\alpha$=\"+str(a)\n",
    "display(Markdown(s))\n",
    "printLine(100)\n",
    "for n in nn:\n",
    "    T=st.t(n)\n",
    "    s=str(n)\n",
    "    for a in alphas:\n",
    "        ss=str(round(T.ppf(1-a),3))\n",
    "\n",
    "        ss=ss+(6-len(str(ss)))*'0'\n",
    "        s= s+\"&nbsp; \"*7+ss\n",
    "    display(Markdown(s))\n",
    "\n",
    "printLine(100)"
   ]
  },
  {
   "cell_type": "markdown",
   "metadata": {},
   "source": [
    "<h2>$F$-distribution:</h2>\n",
    "\n",
    "Let $X\\sim \\chi^2_n$, $Y\\sim \\chi^2_m$ are two independent random variables, then $U=\\frac{\\frac{X}{n}}{{\\frac{Y}{m}}}=\\frac{mX}{nY}$ is said to have a <b> $F-$</b> distribution on $n$, and $m$ degrees of freedom."
   ]
  },
  {
   "cell_type": "markdown",
   "metadata": {},
   "source": [
    "$f_X(x)=\\frac{1}{2^{\\frac{n}{2}}\\Gamma{\\left(\\frac{n}{2}\\right)}}x^{\\frac{n}{2}-1}e^{-\\frac{x}{2}}$, $x>0$"
   ]
  },
  {
   "cell_type": "markdown",
   "metadata": {},
   "source": [
    "$f_Y(y)=\\frac{1}{2^{\\frac{m}{2}}\\Gamma{\\left(\\frac{m}{2}\\right)}}y^{\\frac{m}{2}-1}e^{-\\frac{y}{2}}$, $y>0$"
   ]
  },
  {
   "cell_type": "markdown",
   "metadata": {},
   "source": [
    "$JPDF$ of $(X,Y)$, $f_{X,Y}(x,y)=f_X(x)f_Y(y)$ &nbsp; ($\\because$ $X,Y$ are independent)"
   ]
  },
  {
   "cell_type": "markdown",
   "metadata": {},
   "source": [
    "$f_{X,Y}(x,y)=\\frac{1}{2^{\\frac{n+m}{2}}\\Gamma{\\left(\\frac{n}{2}\\right)}\\Gamma{\\left(\\frac{m}{2}\\right)}}x^{\\frac{n}{2}-1}y^{\\frac{m}{2}-1}e^{-\\frac{x+y}{2}}$, &nbsp; &nbsp; $x>0,y>0$"
   ]
  },
  {
   "cell_type": "markdown",
   "metadata": {},
   "source": [
    "  consider, $U=\\frac{mX}{nY}$, &nbsp; &nbsp; $V=Y$"
   ]
  },
  {
   "cell_type": "markdown",
   "metadata": {
    "slideshow": {
     "slide_type": "fragment"
    }
   },
   "source": [
    "$u=\\frac{mx}{ny}$,&nbsp; $v=y\\implies x=\\frac{nuv}{m},y=v$"
   ]
  },
  {
   "cell_type": "markdown",
   "metadata": {
    "slideshow": {
     "slide_type": "fragment"
    }
   },
   "source": [
    "$\\frac{\\partial(x,y)}{\\partial(u,v)}=\\begin{vmatrix}\n",
    "\\frac{\\partial x}{\\partial u} & \\frac{\\partial x}{\\partial v} \\\\ \n",
    "\\frac{\\partial y}{\\partial u} & \\frac{\\partial y}{\\partial v}\n",
    "\\end{vmatrix}=\\begin{vmatrix}\n",
    "\\frac{nv}{m} & \\frac{nu}{m} \\\\ \n",
    "0 & 1\n",
    "\\end{vmatrix}=\\frac{nv}{m}$"
   ]
  },
  {
   "cell_type": "markdown",
   "metadata": {
    "slideshow": {
     "slide_type": "fragment"
    }
   },
   "source": [
    "$f_{U,V}(u,v)=f_{X,Y}(\\frac{nuv}{m},v)\\begin{vmatrix}\\frac{\\partial(x,y)}{\\partial(u,v)}\\end{vmatrix}$"
   ]
  },
  {
   "cell_type": "markdown",
   "metadata": {
    "slideshow": {
     "slide_type": "fragment"
    }
   },
   "source": [
    "$f_{U,V}(u,v)=\\frac{1}{2^{\\frac{n+m}{2}}\\Gamma{\\left(\\frac{n}{2}\\right)}\\Gamma{\\left(\\frac{m}{2}\\right)}}{\\left(\\frac{nuv}{m}\\right)}^{\\frac{n}{2}-1}v^{\\frac{m}{2}-1}e^{-\\frac{\\frac{nuv}{m}+v}{2}} \\begin{vmatrix}\\frac{nv}{m}\\end{vmatrix}$"
   ]
  },
  {
   "cell_type": "markdown",
   "metadata": {
    "slideshow": {
     "slide_type": "subslide"
    }
   },
   "source": [
    "$f_{U,V}(u,v)=\\frac{\\left(\\frac{n}{m}\\right)^{\\frac{n}{2}}}{2^{\\frac{n+m}{2}}\\Gamma{\\left(\\frac{n}{2}\\right)}\\Gamma{\\left(\\frac{m}{2}\\right)}}{v}^{\\frac{n+m}{2}-1}{u^{\\frac{n}{2}-1}}e^{-\\frac{v}{2}(\\frac{nu}{m}+1)}$, $u>0,v>0$"
   ]
  },
  {
   "cell_type": "markdown",
   "metadata": {
    "slideshow": {
     "slide_type": "fragment"
    }
   },
   "source": [
    "$PDF$ of $U$, $f_U(u)=\\int_{-\\infty}^{\\infty}f_{U,V}(u,v)dv$"
   ]
  },
  {
   "cell_type": "markdown",
   "metadata": {
    "slideshow": {
     "slide_type": "fragment"
    }
   },
   "source": [
    "$f_U(u)=\\frac{\\left(\\frac{n}{m}\\right)^{\\frac{n}{2}}u^{\\frac{n}{2}-1}}{{2^{\\frac{n+m}{2}}\\Gamma{\\left(\\frac{n}{2}\\right)}\\Gamma{\\left(\\frac{m}{2}\\right)}}}\\int_{0}^{\\infty}{v}^{\\frac{n+m}{2}-1}e^{-\\frac{v}{2}(\\frac{nu}{m}+1)}dv$"
   ]
  },
  {
   "cell_type": "markdown",
   "metadata": {
    "slideshow": {
     "slide_type": "fragment"
    }
   },
   "source": [
    "take $t=\\frac{v}{2}(\\frac{nu}{m}+1)\\implies dt=\\frac{1}{2}(\\frac{nu}{m}+1)dv$"
   ]
  },
  {
   "cell_type": "markdown",
   "metadata": {},
   "source": [
    "$f_U(u)=\\frac{\\left(\\frac{n}{m}\\right)^{\\frac{n}{2}}u^{\\frac{n}{2}-1}}{{2^{\\frac{n+m}{2}}\\Gamma{\\left(\\frac{n}{2}\\right)}\\Gamma{\\left(\\frac{m}{2}\\right)}}}\\int_{0}^{\\infty}{\\left({\\frac{2t}{\\left(\\frac{nu}{m}+1\\right)}}\\right)}^{\\frac{n+m}{2}-1}e^{-t}\\frac{2dt}{(\\frac{nu}{m}+1)}$"
   ]
  },
  {
   "cell_type": "markdown",
   "metadata": {},
   "source": [
    "&nbsp; &nbsp; &nbsp; &nbsp; &nbsp; &nbsp; $=\\frac{\\left(\\frac{n}{m}\\right)^{\\frac{n}{2}}u^{\\frac{n}{2}-1}}{{\\Gamma{\\left(\\frac{n}{2}\\right)}\\Gamma{\\left(\\frac{m}{2}\\right)} {\\left(\\frac{nu}{m}+1\\right)}^{\\frac{n+m}{2}} }}\\int_{0}^{\\infty}{t}^{\\left(\\frac{n}{2}+\\frac{m}{2}\\right)-1}e^{-t}{dt}$"
   ]
  },
  {
   "cell_type": "markdown",
   "metadata": {},
   "source": [
    "&nbsp; &nbsp; &nbsp; &nbsp; &nbsp; &nbsp; $=\\frac{\\left(\\frac{n}{m}\\right)^{\\frac{n}{2}}u^{\\frac{n}{2}-1}}{\\Gamma{\\left(\\frac{n}{2}\\right)}\\Gamma{\\left(\\frac{m}{2}\\right)} {\\left(\\frac{nu}{m}+1\\right)}^{\\frac{n+m}{2}} }\\Gamma\\left(\\frac{n}{2}+\\frac{m}{2}\\right)$"
   ]
  },
  {
   "cell_type": "markdown",
   "metadata": {},
   "source": [
    "$f_U(u)=\\left\\{\\begin{matrix}\n",
    " \\frac{\\left(\\frac{n}{m}\\right)^{\\frac{n}{2}}u^{\\frac{n}{2}-1}}{{B{\\left(\\frac{n}{2},\\frac{m}{2}\\right)} {\\left(\\frac{nu}{m}+1\\right)}^{\\frac{n+m}{2}} }}& u>0\\\\ \n",
    " &\\\\\n",
    " 0& u\\le 0 \n",
    "\\end{matrix}\\right.$"
   ]
  },
  {
   "cell_type": "code",
   "execution_count": 5,
   "metadata": {},
   "outputs": [
    {
     "data": {
      "image/png": "[encoded data removed]",
      "text/plain": [
       "<Figure size 864x576 with 1 Axes>"
      ]
     },
     "metadata": {
      "needs_background": "light"
     },
     "output_type": "display_data"
    }
   ],
   "source": [
    "import math\n",
    "import numpy as np\n",
    "import matplotlib.pyplot as plt\n",
    "import scipy.special as sc\n",
    "from scipy import stats as st\n",
    "%matplotlib inline\n",
    "\n",
    "def f(t):\n",
    "    return (((n/m)**(n/2))*(t**(n/2-1)))/((sc.beta(n/2,m/2))*(((n*t)/m +1)**((m+n)/2)))\n",
    "Infty=40   \n",
    "np.seterr(divide = 'ignore')\n",
    "t=np.linspace(0,Infty,1000)\n",
    "plt.figure(figsize=(12,8))\n",
    "dfs = [(1,1),(2,1),(5,2),(10,1),(50,50)] # degree of freedoms\n",
    "for n,m in dfs:\n",
    "    # ploting the pdf of F distribution with n,m degrees of freedom\n",
    "    plt.plot(t,f(t),label=r\"DF:n={0} m={1}\".format(n,m))\n",
    "plt.legend(loc='upper right')\n",
    "plt.title(r\"$F_{n,m}-$ Distribution\")\n",
    "plt.xlabel(\"$x$\")\n",
    "plt.ylabel(\"$f_X(x)$\")\n",
    "plt.xlim(0,10)\n",
    "plt.ylim(0,2)\n",
    "plt.show()\n"
   ]
  },
  {
   "cell_type": "markdown",
   "metadata": {
    "slideshow": {
     "slide_type": "fragment"
    }
   },
   "source": [
    "<span style=\"color:brown\">**Notation:**</span> $U\\sim F_{n,m}$"
   ]
  },
  {
   "cell_type": "markdown",
   "metadata": {
    "slideshow": {
     "slide_type": "slide"
    }
   },
   "source": [
    "$CDF$ of $U$, $F_U(x)=P(U\\le x)=\\int_{0}^{x} \\frac{\\left(\\frac{n}{m}\\right)^{\\frac{n}{2}}t^{\\frac{n}{2}-1}}{{B{\\left(\\frac{n}{2},\\frac{m}{2}\\right)} {\\left(\\frac{nt}{m}+1\\right)}^{\\frac{n+m}{2}} }}dt$"
   ]
  },
  {
   "cell_type": "code",
   "execution_count": 9,
   "metadata": {},
   "outputs": [
    {
     "data": {
      "application/vnd.jupyter.widget-view+json": {
       "model_id": "ce710fb9895c44b69a024a2e2b7c6efc",
       "version_major": 2,
       "version_minor": 0
      },
      "text/plain": [
       "interactive(children=(IntSlider(value=3, description='$n$ :', max=50, min=1), IntSlider(value=3, description='…"
      ]
     },
     "metadata": {},
     "output_type": "display_data"
    }
   ],
   "source": [
    "%matplotlib inline\n",
    "import math\n",
    "import numpy as np\n",
    "import matplotlib.pyplot as plt\n",
    "from ipywidgets import interact ,interactive, fixed, interact_manual\n",
    "import ipywidgets as widgets\n",
    "from scipy import stats as st\n",
    "\n",
    "Infty =15\n",
    "\n",
    "def AreaUnderStudent_Fnm_PDF(n,m,x):\n",
    "    fig, ax = plt.subplots(figsize=(12,8))\n",
    "    \n",
    "    xx=np.linspace(0,Infty,1000)\n",
    "    F=st.f(n,m)  # F random variable with n,m degrees of freedom from scipy.stats \n",
    "    ax.plot(xx,F.pdf(xx),label=r\"DF: n={0} m={1}\".format(n,m)) # poting graph of pdf\n",
    "    \n",
    "    xx=list(np.linspace(0,x,1000))\n",
    "\n",
    "    ax.fill_between(xx,0,F.pdf(xx),color='g',label=r'$F_U(%s)=%s$'%(x,round(F.cdf(x),4)))\n",
    "    ax.set_title(r\"AREA UNDER THE $F_{n,m}$ PDF CURVE TO THE LEFT OF $x$\" )\n",
    "    ax.set_xlabel(r\"$t$\")\n",
    "    ax.set_ylabel(r\"$f_{U}(t)$\")\n",
    "    ax.text(x,-0.06,r'%s'%(x))\n",
    "    ax.set_xticks([0,25])\n",
    "    ax.set_xlim(0,Infty)\n",
    "    ax.set_ylim(0,2)\n",
    "    ax.legend()\n",
    "    plt.show()\n",
    "    \n",
    "# Please Click the Run Interact Button to see the Bar graph\n",
    "n=widgets.IntSlider(min=1, max=50, step=1, value=3,description='$n$ :')\n",
    "m=widgets.IntSlider(min=1, max=50, step=1, value=3,description='$m$ :')\n",
    "x=widgets.FloatSlider(min=0, max=Infty, step=0.01, value=2,description='$x$ :')\n",
    "interactive(AreaUnderStudent_Fnm_PDF,{'manual':False},n=n,m=m,x=x)\n",
    "\n"
   ]
  },
  {
   "cell_type": "markdown",
   "metadata": {},
   "source": [
    "$E(U)=E\\left(\\frac{mX}{nY}\\right)=\\frac{m}{n}E\\left(\\frac{X}{Y}\\right)=\\frac{m}{n}E(X)E\\left(\\frac{1}{Y}\\right)=\\frac{m}{n}\\times n\\times \\frac{1}{m-2}=\\frac{m}{m-2}$ &nbsp; ($\\because~X,Y$ are independent and $E(X)=E(\\chi^2_n)=n$)"
   ]
  },
  {
   "cell_type": "markdown",
   "metadata": {},
   "source": [
    "$\\left(\\because E\\left(\\frac{1}{Y}\\right)=\\int_{0}^{\\infty}\\frac{1}{y}\\frac{1}{2^{\\frac{m}{2}}\\Gamma{\\left(\\frac{m}{2}\\right)}}y^{\\frac{m}{2}-1}e^{-\\frac{y}{2}}dy=\\frac{1}{\\frac{2(m-2)}{2}}\\int_{0}^{\\infty}\\frac{1}{2^{\\frac{m-2}{2}}\\Gamma{\\left(\\frac{m-2}{2}\\right)}}y^{\\frac{m-2}{2}-1}e^{-\\frac{y}{2}}dy= \\frac{1}{m-2}\\times 1 \\right)$"
   ]
  },
  {
   "cell_type": "markdown",
   "metadata": {},
   "source": [
    "$E(U^2)=E\\left(\\frac{m^2X^2}{n^2Y^2}\\right)=\\frac{m^2}{n^2}E\\left(\\frac{X^2}{Y^2}\\right)=\\frac{m^2}{n^2}E(X^2)E\\left(\\frac{1}{Y^2}\\right)=\\frac{m^2}{n^2}\\times (2n+n^2)\\times \\frac{1}{(m-2)(m-4)}=\\frac{m^2(2+n)}{n(m-2)(m-4)}$<br><br>\n",
    "($\\because~X,Y$ are independent and $E(X^2)=Var(X)+(E(X))^2=Var(\\chi^2_n)+E(\\chi^2_n)^2=2n+n^2$)"
   ]
  },
  {
   "cell_type": "markdown",
   "metadata": {},
   "source": [
    "$\\left(\\because E\\left(\\frac{1}{Y^2}\\right)=\\int_{0}^{\\infty}\\frac{1}{y^2}\\frac{1}{2^{\\frac{m}{2}}\\Gamma{\\left(\\frac{m}{2}\\right)}}y^{\\frac{m}{2}-1}e^{-\\frac{y}{2}}dy=\\frac{1}{\\frac{4(m-2)(m-4)}{4}}\\int_{0}^{\\infty}\\frac{1}{2^{\\frac{m-4}{2}}\\Gamma{\\left(\\frac{m-4}{2}\\right)}}y^{\\frac{m-4}{2}-1}e^{-\\frac{y}{2}}dy= \\frac{1}{(m-2)(m-4)}\\times 1 \\right)$"
   ]
  },
  {
   "cell_type": "markdown",
   "metadata": {},
   "source": [
    "$Var(U)=E(U^2)-(E(U))^2=\\frac{m^2(2+n)}{n(m-2)(m-4)}-\\frac{m^2}{(m-2)^2}=\\frac{2m^2(m+n-2)}{n(m-2)^2(m-4)}$"
   ]
  },
  {
   "cell_type": "markdown",
   "metadata": {},
   "source": [
    "For $0< \\alpha <1$, the number $x\\in \\mathbb{R}$ such that $P(F_{n,m}>x)=\\alpha$ is denoted by $F_{\\alpha,n,m}$, and to find these $F_{\\alpha,n,m}$ values one has to either use software or refer to F-distribution Table (Which can be found any statistics book)<br><br>\n"
   ]
  },
  {
   "cell_type": "markdown",
   "metadata": {},
   "source": [
    "**Note:** <br>1. $ F_{1-\\alpha,m,n}=\\frac{1}{F_{\\alpha,n,m}}$"
   ]
  },
  {
   "cell_type": "markdown",
   "metadata": {},
   "source": [
    "*proof:* $P(F_{n,m}>F_{\\alpha,n,m})=\\alpha$"
   ]
  },
  {
   "cell_type": "markdown",
   "metadata": {},
   "source": [
    "$P(\\frac{mX}{nY}>F_{\\alpha,n,m})=\\alpha$ &nbsp; &nbsp; where $X\\sim \\chi^2_n,Y\\sim \\chi^2_m$ and $F_{n,m}=\\frac{mX}{nY}$"
   ]
  },
  {
   "cell_type": "markdown",
   "metadata": {},
   "source": [
    "$P(\\frac{nY}{mX}<\\frac{1}{F_{\\alpha,n,m}})=\\alpha$"
   ]
  },
  {
   "cell_type": "markdown",
   "metadata": {},
   "source": [
    "$P(F_{m,n}<\\frac{1}{F_{\\alpha,n,m}})=\\alpha$ &nbsp; &nbsp; ($\\because F_{m,n}=\\frac{nY}{mX}$ ) where $X\\sim \\chi^2_n,Y\\sim \\chi^2_m$ "
   ]
  },
  {
   "cell_type": "markdown",
   "metadata": {},
   "source": [
    "$1-P(F_{m,n}\\ge \\frac{1}{F_{\\alpha,n,m}})=\\alpha\\implies P(F_{m,n}\\ge \\frac{1}{F_{\\alpha,n,m}})=1-\\alpha$ "
   ]
  },
  {
   "cell_type": "markdown",
   "metadata": {},
   "source": [
    "$\\therefore F_{1-\\alpha,m,n}=\\frac{1}{F_{\\alpha,n,m}}$ "
   ]
  },
  {
   "cell_type": "markdown",
   "metadata": {},
   "source": [
    "2. If $X\\sim t_m\\implies X^2\\sim F_{1,m}$"
   ]
  },
  {
   "cell_type": "markdown",
   "metadata": {},
   "source": [
    "*proof:* $X=\\frac{Z}{\\sqrt{\\frac{\\chi^2_m}{m}}}\\implies X^2=\\frac{Z^2}{\\frac{\\chi^2_m}{m}}=\\frac{\\frac{\\chi^2_1}{1}}{\\frac{\\chi^2_m}{m}}\\sim F_{1,m}$"
   ]
  },
  {
   "cell_type": "code",
   "execution_count": 8,
   "metadata": {},
   "outputs": [
    {
     "data": {
      "application/vnd.jupyter.widget-view+json": {
       "model_id": "97849c32dc0043a8b300aad70d9c58fb",
       "version_major": 2,
       "version_minor": 0
      },
      "text/plain": [
       "interactive(children=(IntSlider(value=3, description='$n$ :', max=50, min=1), IntSlider(value=3, description='…"
      ]
     },
     "metadata": {},
     "output_type": "display_data"
    }
   ],
   "source": [
    "%matplotlib inline\n",
    "import math\n",
    "import numpy as np\n",
    "import matplotlib.pyplot as plt\n",
    "from ipywidgets import interact ,interactive, fixed, interact_manual\n",
    "import ipywidgets as widgets\n",
    "from scipy import stats as st\n",
    "\n",
    "Infty =15\n",
    "\n",
    "def Fnm_alpha(n,m,alpha):\n",
    "    fig, ax = plt.subplots(figsize=(12,8))\n",
    "    F=st.f(n,m)  # F random variable with n degrees of freedom from scipy.stats \n",
    "    x=np.linspace(0,Infty,1000)\n",
    "\n",
    "    ax.plot(x,F.pdf(x),label=r\"DF:n={0} m={1}\".format(n,m)) # poting graph of pdf\n",
    "    \n",
    "    \n",
    "    xx=np.linspace(F.ppf(1-alpha),Infty,1000)\n",
    "    ax.fill_between(xx,0,F.pdf(xx),color='y',label=r'$\\alpha=%s$'%(round(alpha,4)))\n",
    "    \n",
    "    # X.ppf(p) returns pth quantile of X\n",
    "    ax.scatter([F.ppf(1-alpha)],[0],s=10,color=(1,0,0),label=r'$F_{%s,%s,%s}=%s$'%(alpha,n,m,round(F.ppf(1-alpha),3)))\n",
    "    ax.set_title(r\"AREA UNDER THE $F_{n,m}$ PDF CURVE TO THE right OF $F_{\\alpha,n,m}$\" )\n",
    "    ax.set_xlabel(r\"$t$\")\n",
    "    ax.set_ylabel(r\"$f_X(t)$\")\n",
    "    ax.set_xlim(0,Infty)\n",
    "    ax.set_xticks([0,15])\n",
    "    ax.set_ylim(0,2)\n",
    "    ax.text(F.ppf(1-alpha),-0.06,r'$F_{%s,%s,%s}$'%(round(alpha,4),n,m),color=(0,0,1))\n",
    "    ax.legend()\n",
    "    plt.show()\n",
    "    \n",
    "n=widgets.IntSlider(min=1, max=50, step=1, value=3,description='$n$ :')\n",
    "m=widgets.IntSlider(min=1, max=50, step=1, value=3,description='$m$ :')\n",
    "alpha=widgets.FloatSlider(min=0, max=0.2, step=0.01, value=0.1,description=r'$\\alpha$ :')\n",
    "# Please Click the Run Interact Button to see the Bar graph\n",
    "interactive(Fnm_alpha,{'manual':False},n=n,m=m,alpha=alpha)\n",
    "\n",
    "    "
   ]
  },
  {
   "cell_type": "markdown",
   "metadata": {},
   "source": [
    "<h2>Sampling Distributions</h2>"
   ]
  },
  {
   "cell_type": "markdown",
   "metadata": {},
   "source": [
    "**Population:** A population is a collection of measurements"
   ]
  },
  {
   "cell_type": "markdown",
   "metadata": {},
   "source": [
    "**Sample:** A subset of a population"
   ]
  },
  {
   "cell_type": "markdown",
   "metadata": {},
   "source": [
    "**Random Sample:** Let $X_1,X_2,...,X_n$ i.i.d random variables with $CDF$ $F(x)$ is called a random sample of size $n$ from the population with $CDF$ $F(x)$"
   ]
  },
  {
   "cell_type": "markdown",
   "metadata": {},
   "source": [
    "**Statistic:** Let $X_1,X_2,...,X_n$ be a random sample, then a function of random sample $T=T(X_1,X_2,...,X_n)$  is called a statistic."
   ]
  },
  {
   "cell_type": "markdown",
   "metadata": {},
   "source": [
    "**Examples:** <br>\n",
    "1. Sample mean: $\\overline{X}=\\frac{1}{n}\\sum_{i=1}^nX_i$"
   ]
  },
  {
   "cell_type": "markdown",
   "metadata": {},
   "source": [
    "2. Sample variance: $S^2=\\frac{1}{n-1}\\sum_{i=1}^n(X_i-\\overline{X})^2$"
   ]
  },
  {
   "cell_type": "markdown",
   "metadata": {},
   "source": [
    "3. Sample median: $\\left\\{\\begin{matrix}\n",
    " X_{\\left(\\frac{n+1}{2}\\right)}& \\text{if n is odd}\\\\ \n",
    " \\frac{1}{2} \\left( X_{\\left(\\frac{n}{2}\\right)}+X_{\\left(\\frac{n}{2}+1\\right)} \\right)& \\text{if n is even}\n",
    "\\end{matrix}\\right.$"
   ]
  },
  {
   "cell_type": "markdown",
   "metadata": {},
   "source": [
    "4. Sample Range: $X_{(n)}-X_{(1)}$"
   ]
  },
  {
   "cell_type": "markdown",
   "metadata": {},
   "source": [
    "**Theorem:** Let $X_1,X_2,...,X_n\\overset{i.i.d}{\\sim}N(\\mu,\\sigma^2)$, then $\\frac{\\sqrt{n}\\left(\\overline{X}-\\mu\\right)}{\\sigma}\\sim N(0,1)$ and $\\frac{\\sqrt{n}\\left(\\overline{X}-\\mu\\right)}{S}\\sim t_{n-1}$"
   ]
  },
  {
   "cell_type": "markdown",
   "metadata": {},
   "source": [
    "*proof:* First we know that any linear combinations of normal random variables again normal random variable, so $\\overline{X}$ is normal for sure, and "
   ]
  },
  {
   "cell_type": "markdown",
   "metadata": {},
   "source": [
    "$E(\\overline{X})=E\\left(\\frac{1}{n}\\sum_{i=1}^{n}X_i\\right)=\\frac{1}{n}\\left(\\sum_{i=1}^{n}E(X_i)\\right)\\frac{1}{n}\\times n\\mu=\\mu$"
   ]
  },
  {
   "cell_type": "markdown",
   "metadata": {},
   "source": [
    "$Var(\\overline{X})=Var\\left(\\frac{1}{n}\\sum_{i=1}^{n}X_i\\right)=\\frac{1}{n^2}\\left(\\sum_{i=1}^{n}Var(X_i)\\right)\\frac{1}{n^2}\\times n\\sigma^2=\\frac{\\sigma^2}{n}$,&nbsp; &nbsp;($\\because X_1,X_2,...,X_n$ are independent)"
   ]
  },
  {
   "cell_type": "markdown",
   "metadata": {},
   "source": [
    "So,  $\\overline{X}\\sim N(\\mu,\\frac{\\sigma^2}{n})\\implies \\frac{\\overline{X}-\\mu}{\\frac{\\sigma}{\\sqrt{n}}}\\sim N(0,1)$"
   ]
  },
  {
   "cell_type": "markdown",
   "metadata": {},
   "source": [
    "Hence $\\frac{\\sqrt{n}\\left(\\overline{X}-\\mu\\right)}{\\sigma}\\sim N(0,1)$"
   ]
  },
  {
   "cell_type": "markdown",
   "metadata": {},
   "source": [
    "now, consider, $\\sum_{i=1}^{n}\\left(X_i-\\mu\\right)^2=\\sum_{i=1}^{n}\\left(X_i-\\overline{X}+\\overline{X}-\\mu\\right)^2$"
   ]
  },
  {
   "cell_type": "markdown",
   "metadata": {},
   "source": [
    "&nbsp; &nbsp; &nbsp; &nbsp; &nbsp; &nbsp; &nbsp; &nbsp; &nbsp; &nbsp; &nbsp; &nbsp; &nbsp; &nbsp; &nbsp; &nbsp; &nbsp; &nbsp; &nbsp; &nbsp; &nbsp; &nbsp; &nbsp; &nbsp; &nbsp; &nbsp; $=\\sum_{i=1}^{n}\\left[(X_i-\\overline{X})^2+(\\overline{X}-\\mu)^2+2(X_i-\\overline{X})(\\overline{X}-\\mu)\\right]$"
   ]
  },
  {
   "cell_type": "markdown",
   "metadata": {},
   "source": [
    "&nbsp; &nbsp; &nbsp; &nbsp; &nbsp; &nbsp; &nbsp; &nbsp; &nbsp; &nbsp; &nbsp; &nbsp; &nbsp; &nbsp; &nbsp; &nbsp; &nbsp; &nbsp; &nbsp; &nbsp; &nbsp; &nbsp; &nbsp; &nbsp; &nbsp; &nbsp; $=\\sum_{i=1}^{n}(X_i-\\overline{X})^2+\\sum_{i=1}^{n}(\\overline{X}-\\mu)^2+2(\\overline{X}-\\mu)\\sum_{i=1}^{n}(X_i-\\overline{X})$"
   ]
  },
  {
   "cell_type": "markdown",
   "metadata": {
    "slideshow": {
     "slide_type": "slide"
    }
   },
   "source": [
    "&nbsp; &nbsp; &nbsp; &nbsp; &nbsp; &nbsp; &nbsp; &nbsp; &nbsp; &nbsp; &nbsp; &nbsp; &nbsp; &nbsp; &nbsp; &nbsp; &nbsp; &nbsp; &nbsp; &nbsp; &nbsp; &nbsp; &nbsp; &nbsp; &nbsp; &nbsp; $=\\sum_{i=1}^{n}(X_i-\\overline{X})^2+n(\\overline{X}-\\mu)^2+2(\\overline{X}-\\mu)\\times 0$ <br><br>&nbsp; &nbsp; &nbsp; &nbsp; &nbsp; &nbsp; &nbsp; &nbsp; &nbsp; &nbsp; &nbsp; &nbsp; &nbsp; &nbsp; &nbsp; &nbsp; &nbsp; &nbsp; &nbsp; &nbsp; &nbsp; &nbsp; &nbsp; &nbsp; &nbsp; &nbsp; &nbsp; &nbsp; &nbsp; &nbsp; &nbsp; &nbsp; &nbsp; &nbsp; &nbsp; &nbsp;($\\because~\\sum_{i=1}^{n}(X_i-\\overline{X})=\\sum_{i=1}^{n}X_i-n\\overline{X}=n\\overline{X}-n\\overline{X}=0$)"
   ]
  },
  {
   "cell_type": "markdown",
   "metadata": {
    "slideshow": {
     "slide_type": "slide"
    }
   },
   "source": [
    "$\\therefore $ $\\sum_{i=1}^{n}\\left(X_i-\\mu\\right)^2 =\\sum_{i=1}^{n}(X_i-\\overline{X})^2+\\left(\\sqrt{n}(\\overline{X}-\\mu)\\right)^2$"
   ]
  },
  {
   "cell_type": "markdown",
   "metadata": {
    "slideshow": {
     "slide_type": "fragment"
    }
   },
   "source": [
    "$\\therefore $ $\\sum_{i=1}^{n}\\left(\\frac{X_i-\\mu}{\\sigma}\\right)^2 =\\sum_{i=1}^{n}\\left(\\frac{X_i-\\overline{X}}{\\sigma}\\right)^2+\\left(\\frac{\\sqrt{n}\\left(\\overline{X}-\\mu\\right)}{\\sigma}\\right)^2$"
   ]
  },
  {
   "cell_type": "markdown",
   "metadata": {
    "slideshow": {
     "slide_type": "skip"
    }
   },
   "source": [
    "Here $\\sum_{i=1}^{n}\\left(\\frac{X_i-\\mu}{\\sigma}\\right)^2 \\sim \\chi^2_n$&nbsp; &nbsp; ($\\because~\\frac{X_i-\\mu}{\\sigma}\\sim N(0,1)$)"
   ]
  },
  {
   "cell_type": "markdown",
   "metadata": {
    "slideshow": {
     "slide_type": "skip"
    }
   },
   "source": [
    "$\\left(\\frac{\\sqrt{n}\\left(\\overline{X}-\\mu\\right)}{\\sigma}\\right)^2\\sim \\chi^2_1$ &nbsp; &nbsp; ($\\because~ \\frac{\\sqrt{n}\\left(\\overline{X}-\\mu\\right)}{\\sigma}\\sim N(0,1)$)"
   ]
  },
  {
   "cell_type": "markdown",
   "metadata": {
    "slideshow": {
     "slide_type": "skip"
    }
   },
   "source": [
    "$\\implies \\sum_{i=1}^{n}\\left(\\frac{X_i-\\overline{X}}{\\sigma}\\right)^2\\sim \\chi^2_{n-1}$"
   ]
  },
  {
   "cell_type": "markdown",
   "metadata": {
    "slideshow": {
     "slide_type": "fragment"
    }
   },
   "source": [
    "Hence $ \\sum_{i=1}^{n}\\left(\\frac{X_i-\\overline{X}}{\\sigma}\\right)^2=\\frac{(n-1)S^2}{\\sigma^2}\\sim \\chi^2_{n-1}$"
   ]
  },
  {
   "cell_type": "markdown",
   "metadata": {
    "slideshow": {
     "slide_type": "slide"
    }
   },
   "source": [
    "now, $\\frac{\\sqrt{n}\\left(\\overline{X}-\\mu\\right)}{S}=\\frac{\\frac{\\sqrt{n}\\left(\\overline{X}-\\mu\\right)}{\\sigma}}{\\sqrt{\\frac{(n-1)S^2}{\\sigma^2 (n-1)}}}=\\frac{\\frac{\\sqrt{n}\\left(\\overline{X}-\\mu\\right)}{\\sigma}}{\\sqrt{\\frac{\\frac{(n-1)S^2}{\\sigma^2}}{(n-1)}}}\\sim t_{n-1}$ &nbsp;($\\because~ \\frac{\\sqrt{n}\\left(\\overline{X}-\\mu\\right)}{\\sigma}\\sim N(0,1)$ and $\\frac{(n-1)S^2}{\\sigma^2} \\sim \\chi^2_{n-1}$ and $\\overline{X}-\\mu$, $S^2$ $\\text{are independent}$)"
   ]
  },
  {
   "cell_type": "markdown",
   "metadata": {},
   "source": [
    "**Note-1:** $\\overline{X}-\\mu$, $S^2$ are independent, when $X_1,X_2,...,X_n\\overset{i.i.d}{\\sim}N(\\mu,\\sigma^2)$"
   ]
  },
  {
   "cell_type": "markdown",
   "metadata": {},
   "source": [
    "proof: $X_1,X_2,...,X_n\\overset{i.i.d}{\\sim}N(\\mu,\\sigma^2)$"
   ]
  },
  {
   "cell_type": "markdown",
   "metadata": {},
   "source": [
    "$\\overline{X}=\\frac{1}{n}\\sum_{i=1}^nX_i$, and $S^2=\\frac{1}{n-1}\\sum_{i=1}^n(X_i-\\overline{X})^2$"
   ]
  },
  {
   "cell_type": "markdown",
   "metadata": {},
   "source": [
    "We already know that $\\overline{X}\\sim N(\\mu,\\frac{\\sigma^2}{n})$. So $\\overline{X},X_i-\\overline{X}$ follows Bivariate Normal distributions, so we can say that $Cov(\\overline{X},X_i-\\overline{X})=0\\implies\\overline{X},X_i-\\overline{X}$ are independent."
   ]
  },
  {
   "cell_type": "markdown",
   "metadata": {},
   "source": [
    "$Cov(\\overline{X},X_i-\\overline{X})=Cov(\\frac{1}{n}\\sum_{j=1}^nX_j,X_i)-Cov(\\overline{X},\\overline{X})=\\frac{1}{n}\\left(\\sum_{j=1}^nCov(X_j,X_i)\\right)-Var(\\overline{X})$"
   ]
  },
  {
   "cell_type": "markdown",
   "metadata": {},
   "source": [
    "&nbsp; &nbsp; &nbsp; &nbsp; &nbsp; &nbsp; &nbsp; &nbsp; &nbsp; &nbsp; &nbsp; &nbsp; &nbsp; &nbsp; &nbsp; &nbsp; $=\\frac{1}{n}\\left(Cov(X_i,X_i)\\right)-\\frac{\\sigma^2}{n}$ &nbsp; ($\\because~Cov(X_j,X_i)=0$ for $i\\ne j$)"
   ]
  },
  {
   "cell_type": "markdown",
   "metadata": {},
   "source": [
    "&nbsp; &nbsp; &nbsp; &nbsp; &nbsp; &nbsp; &nbsp; &nbsp; &nbsp; &nbsp; &nbsp; &nbsp; &nbsp; &nbsp; &nbsp; &nbsp; $=\\frac{1}{n}\\left(\\sigma^2\\right)-\\frac{\\sigma^2}{n}=0$"
   ]
  },
  {
   "cell_type": "markdown",
   "metadata": {},
   "source": [
    "i.e $\\overline{X}$ is independent of $X_i-\\overline{X}$ $\\forall i=1,2,...,n$"
   ]
  },
  {
   "cell_type": "markdown",
   "metadata": {},
   "source": [
    "$\\implies$ $\\overline{X}$ is independent of $\\sum_{i=1}^{n}(X_i-\\overline{X})^2$ "
   ]
  },
  {
   "cell_type": "markdown",
   "metadata": {},
   "source": [
    "Hence $\\overline{X}$, $S^2$ are independent $\\implies$ $\\overline{X}-\\mu$, $S^2$ are independent"
   ]
  },
  {
   "cell_type": "markdown",
   "metadata": {},
   "source": [
    "**Note-2:**Let $X_1,X_2,...,X_m\\overset{i.i.d}{\\sim}N(\\mu_X,\\sigma^2_X)$, and Let $Y_1,Y_2,...,Y_n\\overset{i.i.d}{\\sim}N(\\mu_Y,\\sigma^2_Y)$, and let $S_X^2=\\frac{1}{m-1}\\sum_{i=1}^{m}(X_i-\\overline{X})^2$, and $S_Y^2=\\frac{1}{m-1}\\sum_{i=1}^{m}(Y_i-\\overline{Y})^2$, then $\\frac{\\sigma_Y^2S_X^2}{\\sigma_X^2S_Y^2}\\sim F_{m-1,n-1}$"
   ]
  },
  {
   "cell_type": "markdown",
   "metadata": {},
   "source": [
    "*proof:* $\\frac{\\sigma_Y^2S_X^2}{\\sigma_X^2S_Y^2}=\\frac{\\frac{\\left({\\frac{(m-1)S_X^2}{\\sigma_X^2}}\\right)}{m-1}}{\\frac{\\left({\\frac{(n-1)S_Y^2}{\\sigma_Y^2}}\\right)}{n-1}}=\\frac{\\frac{\\chi^2_{m-1}}{m-1}}{\\frac{\\chi^2_{n-1}}{n-1}}\\sim F_{m-1,n-1}$"
   ]
  },
  {
   "cell_type": "markdown",
   "metadata": {},
   "source": [
    "**Example:** Suppose scores on a $IQ$ test are normally distributed with a population mean of 100. and Suppose 20 people are randomly selected and tested. The standard deviation in the sample group is 15. What is the probability that the average test score in the sample group will be at most 110."
   ]
  },
  {
   "cell_type": "markdown",
   "metadata": {},
   "source": [
    "*solution:* Let $X_1,X_2,...,X_{20}$ represent (random sample) score of 20 people, here the random sample size $n=20$"
   ]
  },
  {
   "cell_type": "markdown",
   "metadata": {},
   "source": [
    "$\\overline{X}=\\frac{1}{20}\\sum_{i=1}^{20}X_i$, $s=15$, $\\mu=100$"
   ]
  },
  {
   "cell_type": "markdown",
   "metadata": {},
   "source": [
    "Let $T=\\frac{\\sqrt{20}(\\overline{X}-100)}{15}\\sim t_{19}$ &nbsp; &nbsp; ($\\because \\frac{\\sqrt{n}\\left(\\overline{X}-\\mu\\right)}{S}\\sim t_{n-1}$)"
   ]
  },
  {
   "cell_type": "markdown",
   "metadata": {},
   "source": [
    "and we are interested in $P(\\overline{X}\\le 110 )=?$"
   ]
  },
  {
   "cell_type": "markdown",
   "metadata": {},
   "source": [
    "$P(\\overline{X}\\le 110 )= P\\left(\\frac{\\sqrt{20}(\\overline{X}-100)}{15}\\le \\frac{\\sqrt{20}({110}-100)}{15}\\right)$"
   ]
  },
  {
   "cell_type": "markdown",
   "metadata": {},
   "source": [
    "$P(T\\le 2.981)=F_{t_{19}}(2.981)=0.9961611$"
   ]
  },
  {
   "cell_type": "code",
   "execution_count": 6,
   "metadata": {},
   "outputs": [
    {
     "data": {
      "text/plain": [
       "0.9961610961634425"
      ]
     },
     "execution_count": 6,
     "metadata": {},
     "output_type": "execute_result"
    }
   ],
   "source": [
    "from scipy import stats\n",
    "stats.t(19).cdf(2.981)"
   ]
  },
  {
   "cell_type": "markdown",
   "metadata": {},
   "source": [
    "**Example:** The time it takes a $CPU$ unit to process a certain types of job is normally distributed with mean 20 seconds and standard deviation 3 seconds. If a sample of 15 jobs is observed, what is the probability that the sample variance will exceed 12?"
   ]
  },
  {
   "cell_type": "markdown",
   "metadata": {},
   "source": [
    "*solution:* Here the sample size $n=15$, and population variance $\\sigma^2=9$"
   ]
  },
  {
   "cell_type": "markdown",
   "metadata": {},
   "source": [
    "and let $X=\\frac{14 S^2}{9}\\sim \\chi^2_{14}$ &nbsp; &nbsp; ($\\because~\\frac{(n-1)S^2}{\\sigma^2}\\sim \\chi^2_{n-1}$)"
   ]
  },
  {
   "cell_type": "markdown",
   "metadata": {},
   "source": [
    "and Here we are interested in $P(S^2 >12)=?$"
   ]
  },
  {
   "cell_type": "markdown",
   "metadata": {},
   "source": [
    "$P(S^2>12)=P\\left(\\frac{14S^2}{9} >\\frac{14(12)}{9}\\right)$"
   ]
  },
  {
   "cell_type": "markdown",
   "metadata": {},
   "source": [
    "$=P(X>18.67)=1-P(X\\le 18.67)=1-F_{\\chi^2_{14}}(18.67)=1-0.8221=0.1779$"
   ]
  },
  {
   "cell_type": "code",
   "execution_count": 4,
   "metadata": {},
   "outputs": [
    {
     "data": {
      "text/plain": [
       "0.8220541939050066"
      ]
     },
     "execution_count": 4,
     "metadata": {},
     "output_type": "execute_result"
    }
   ],
   "source": [
    "from scipy import stats\n",
    "stats.chi2(14).cdf(18.67)"
   ]
  },
  {
   "cell_type": "markdown",
   "metadata": {
    "slideshow": {
     "slide_type": "slide"
    }
   },
   "source": [
    "**Example:** In a particular college girls weights are normally distributed with mean $50kg$ and standard deviation $6kg$, and boys weights are normally distributed with mean $60kg$ and standard deviation $5kg$. If we select $10$ girls at random which makes $group-1$, and $12$ boys at random which makes $group-2$. Find the probability that sample standard deviation of $group-1$ less than sample standard deviation of $group-2$."
   ]
  },
  {
   "cell_type": "markdown",
   "metadata": {},
   "source": [
    "<span style=\"color:blue\">*solution:*</span> Let $X_1,X_2,...,X_{n}\\overset{i.i.d}{\\sim}N(\\mu_X,\\sigma^2_X)$ be the random sample representing $group-1$"
   ]
  },
  {
   "cell_type": "markdown",
   "metadata": {},
   "source": [
    "and $Y_1,Y_2,...,Y_{m}\\overset{i.i.d}{\\sim}N(\\mu_Y,\\sigma^2_Y)$ be the random sample representing $group-2$"
   ]
  },
  {
   "cell_type": "markdown",
   "metadata": {},
   "source": [
    "Here $n=10$,$\\mu_X=50$,$\\sigma_X^2=36$, $m=12$,$\\mu_Y=60$, and $\\sigma_Y^2=25$"
   ]
  },
  {
   "cell_type": "markdown",
   "metadata": {},
   "source": [
    "We know that $\\frac{\\sigma_Y^2S_X^2}{\\sigma_X^2S_Y^2}\\sim F_{n-1,m-1}$"
   ]
  },
  {
   "cell_type": "markdown",
   "metadata": {},
   "source": [
    "We are interested in $P(S_X<S_Y)=?$"
   ]
  },
  {
   "cell_type": "markdown",
   "metadata": {},
   "source": [
    "$P(S_X<S_Y)=P(\\frac{S_X^2}{S_Y^2}<1)$"
   ]
  },
  {
   "cell_type": "markdown",
   "metadata": {},
   "source": [
    "&nbsp; &nbsp; &nbsp; &nbsp;&nbsp; &nbsp;&nbsp; &nbsp; &nbsp; &nbsp;&nbsp; &nbsp; &nbsp; &nbsp;$=P(\\frac{\\sigma_Y^2S_X^2}{\\sigma_Y^2S_Y^2}<\\frac{25}{36}\\times1)$"
   ]
  },
  {
   "cell_type": "markdown",
   "metadata": {},
   "source": [
    "&nbsp; &nbsp; &nbsp; &nbsp;&nbsp; &nbsp;&nbsp; &nbsp; &nbsp; &nbsp;&nbsp; &nbsp; &nbsp; &nbsp;$=P(F_{9,11}<0.694)=P(F_{9,11}\\le 0.694)=F_{F_{9,11}}(0.694)=0.2966$"
   ]
  },
  {
   "cell_type": "code",
   "execution_count": 5,
   "metadata": {},
   "outputs": [
    {
     "data": {
      "text/plain": [
       "0.2966113082587052"
      ]
     },
     "execution_count": 5,
     "metadata": {},
     "output_type": "execute_result"
    }
   ],
   "source": [
    "from scipy import stats\n",
    "stats.f(9,11).cdf(0.694)"
   ]
  },
  {
   "cell_type": "markdown",
   "metadata": {
    "slideshow": {
     "slide_type": "slide"
    }
   },
   "source": [
    "    "
   ]
  }
 ],
 "metadata": {
  "hide_input": false,
  "kernelspec": {
   "display_name": "Python 3 (ipykernel)",
   "language": "python",
   "name": "python3"
  },
  "language_info": {
   "codemirror_mode": {
    "name": "ipython",
    "version": 3
   },
   "file_extension": ".py",
   "mimetype": "text/x-python",
   "name": "python",
   "nbconvert_exporter": "python",
   "pygments_lexer": "ipython3",
   "version": "3.10.0"
  }
 },
 "nbformat": 4,
 "nbformat_minor": 4
}
