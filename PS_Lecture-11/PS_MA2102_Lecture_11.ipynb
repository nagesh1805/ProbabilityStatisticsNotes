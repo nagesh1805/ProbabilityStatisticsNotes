{
 "cells": [
  {
   "cell_type": "markdown",
   "metadata": {},
   "source": [
    "<h2 style=\"text-align:center\"> MA2102</h2>\n",
    "<h1 style=\"text-align:center\"> Probability and Statistics</h1>\n",
    "<h4 style=\"text-align:center\"> Lecture-11</h4>"
   ]
  },
  {
   "cell_type": "markdown",
   "metadata": {},
   "source": [
    "# Types of Random Variables"
   ]
  },
  {
   "cell_type": "markdown",
   "metadata": {},
   "source": [
    "Let $X$ be a random variable defined on $(\\Omega,\\mathscr{F},P)$, and $(\\mathbb{R},\\mathscr{B},P^X)$ be induced probability space by $X$, then $CDF$ $F_X$ will be either continuous everywhere or it will have countably many (finite/countably infinite) (jump)discontinuities where the sum of jump lengths at the point of discontinuities always $\\le$1. We will use these properties to classify random variables. "
   ]
  },
  {
   "cell_type": "code",
   "execution_count": 69,
   "metadata": {},
   "outputs": [
    {
     "data": {
      "image/png": "[encoded data removed]",
      "text/plain": [
       "<Figure size 1080x720 with 3 Axes>"
      ]
     },
     "metadata": {
      "needs_background": "light"
     },
     "output_type": "display_data"
    }
   ],
   "source": [
    "import matplotlib.pyplot as plt\n",
    "import numpy as np\n",
    "x=np.linspace(-10,10,100)\n",
    "fig, ax = plt.subplots(3,1,figsize=(15,10))\n",
    "# Continuous type example CDF Plot\n",
    "ax[0].plot(x,1/2+(1/np.pi)*np.arctan(x),color='blue')\n",
    "ax[0].set_title(\"(i) Continuous type\",fontsize=10,color='blue')\n",
    "\n",
    "# Discrete type exmaple CDF Plot\n",
    "x1=[0,1,2,3]\n",
    "y1=[0,1/8,1/2,7/8]\n",
    "x2=[0,1,2,3]\n",
    "y2=[1/8,1/2,7/8,1]\n",
    "ax[1].scatter(x1,y1,facecolors='none', edgecolors='black')\n",
    "ax[1].scatter(x2,y2,facecolors='black', edgecolors='black')\n",
    "ax[1].set_xlim(-2,5)\n",
    "ax[1].plot([-2,0],[0,0],color='purple')\n",
    "ax[1].plot([0,1],[1/8,1/8],color='purple')\n",
    "ax[1].plot([1,2],[1/2,1/2],color='purple')\n",
    "ax[1].plot([2,3],[7/8,7/8],color='purple')\n",
    "ax[1].plot([3,5],[1,1],color='purple')\n",
    "ax[1].set_title(\"(ii) Descrete type\",fontsize=10,color='purple')\n",
    "\n",
    "# Mixture Type example CDF Plot\n",
    "ax[2].plot([-3,1],[0,0],color='navy')\n",
    "xx=np.linspace(1,2,50)\n",
    "ax[2].plot(xx,(xx-1)*(xx-1)/2,color='navy')\n",
    "ax[2].plot([2,3],[1/2,1/2],color='navy')\n",
    "ax[2].plot([3,5],[1,1],color='navy')\n",
    "ax[2].scatter([3],[1/2],facecolors='none', edgecolors='black')\n",
    "ax[2].scatter([3],[1],facecolors='black', edgecolors='black')\n",
    "ax[2].plot([3,5],[1,1],color='navy')\n",
    "ax[2].set_title(\"(iii) Mixture type\",fontsize=10,color='navy')\n",
    "# ax[0].set_xticks([])\n",
    "\n",
    "plt.show()"
   ]
  },
  {
   "cell_type": "markdown",
   "metadata": {},
   "source": [
    "**Definition:** A random variable $X$ is said to be of <span style=\"color:navy\">discrete type</span> if it's $CDF$ has countably many discontinuities with sum of jump at the point of discontinuities exactly equals to $1$."
   ]
  },
  {
   "cell_type": "markdown",
   "metadata": {},
   "source": [
    "For discrete type random variable  $X$,  there exist a countable set(finite/countably infinite) $S_X$(set of discontinuities of $F_X$) such that $P(X=x)=F_X(x)-F_X(x-)>0~\\forall x\\in S_X$, and $\\sum_{x\\in S_X}\\underbrace{(F_X(x)-F_X(x-))}_{\\text{jump length at }x}=1$. This set $S_X$ is called the <span style=\"color:blue\">support</span> of $X$"
   ]
  },
  {
   "cell_type": "markdown",
   "metadata": {},
   "source": [
    "**Note:** Discrete random variable can take only countably many values that are precisely discontinuities of its $CDF$, and $P(X\\in S_X)=1$ and  $P(X\\in S_X^c)=0$"
   ]
  },
  {
   "cell_type": "markdown",
   "metadata": {},
   "source": [
    "For any $B\\in\\mathscr{B}$, $P^X(B)=P^X(B\\cap S_X)$"
   ]
  },
  {
   "cell_type": "markdown",
   "metadata": {},
   "source": [
    "&nbsp;&nbsp; &nbsp; &nbsp;&nbsp; &nbsp;&nbsp; &nbsp;&nbsp; &nbsp;&nbsp;&nbsp; &nbsp;&nbsp; &nbsp;&nbsp; &nbsp;&nbsp; &nbsp;&nbsp; &nbsp;&nbsp; &nbsp;&nbsp; &nbsp;&nbsp; &nbsp;$=P^X(\\cup_{x\\in B\\cap S_X}\\{x\\})$"
   ]
  },
  {
   "cell_type": "markdown",
   "metadata": {},
   "source": [
    "&nbsp;&nbsp; &nbsp; &nbsp;&nbsp; &nbsp;&nbsp; &nbsp;&nbsp; &nbsp;&nbsp;&nbsp; &nbsp;&nbsp; &nbsp;&nbsp; &nbsp;&nbsp; &nbsp;&nbsp; &nbsp;&nbsp; &nbsp;&nbsp; &nbsp;&nbsp; &nbsp;$=\\sum_{x\\in B\\cap S_X}P^X(\\{x\\})$"
   ]
  },
  {
   "cell_type": "markdown",
   "metadata": {},
   "source": [
    "&nbsp;&nbsp; &nbsp; &nbsp;&nbsp; &nbsp;&nbsp; &nbsp;&nbsp; &nbsp;&nbsp;&nbsp; &nbsp;&nbsp; &nbsp;&nbsp; &nbsp;&nbsp; &nbsp;&nbsp;$P^X(B)=\\sum_{x\\in B\\cap S_X}P(X=x)$"
   ]
  },
  {
   "cell_type": "markdown",
   "metadata": {},
   "source": [
    "So, for discrete type random variable $X$, the probability distribution $P^X$ will be completely determined once we know $P(X=x)~\\forall x\\in S_X$"
   ]
  },
  {
   "cell_type": "markdown",
   "metadata": {},
   "source": [
    "and we can get $CDF$ $F_X$ with the knowledge of these countably many probabilities $P(X=x)$ for $x\\in S_X$"
   ]
  },
  {
   "cell_type": "markdown",
   "metadata": {},
   "source": [
    "$F_X(x)=\\sum_{a\\in S_X;a\\le x}P(X=a)$, $x\\in\\mathbb{R}$"
   ]
  },
  {
   "cell_type": "markdown",
   "metadata": {},
   "source": [
    "Now, we define an important function related to discrete type random variable, called the <span style=\"color:navy\">Probability mass function($PMF$)</span>"
   ]
  },
  {
   "cell_type": "markdown",
   "metadata": {},
   "source": [
    "**Definition**:Let $X$ be a discrete type random variable with support $S_X$, the function $p_X:\\mathbb{R}\\to\\mathbb{R}$,defined by $p_X(x)=\\left\\{\\begin{matrix}\n",
    " P(X=x)&x\\in S_X \\\\ \n",
    " 0& \\text{otherwise}\n",
    "\\end{matrix}\\right.$"
   ]
  },
  {
   "cell_type": "markdown",
   "metadata": {},
   "source": [
    "is called the <u>Probability mass function($PMF$)</u> of $X$"
   ]
  },
  {
   "cell_type": "markdown",
   "metadata": {},
   "source": [
    "**Note**:$PMF$ $p_X$of discrete random variable $X$ will completely determine the probability distribution $P^X$ "
   ]
  },
  {
   "cell_type": "markdown",
   "metadata": {},
   "source": [
    "In a random experiment of tossing a fair coin $3$ times"
   ]
  },
  {
   "cell_type": "markdown",
   "metadata": {},
   "source": [
    "$\\Omega=\\{HHH,HHT,HTH,THH,HTT,THT,TTH,TTT\\}$"
   ]
  },
  {
   "cell_type": "markdown",
   "metadata": {},
   "source": [
    "Let $X$ denote the number of heads,then $X$ can take values 0,1,2,3"
   ]
  },
  {
   "cell_type": "markdown",
   "metadata": {},
   "source": [
    "for $x<0$, $(X\\le x)=\\emptyset \\Rightarrow F_X(x)=P(X\\le x)=P(\\emptyset)=0$"
   ]
  },
  {
   "cell_type": "markdown",
   "metadata": {},
   "source": [
    "for $0\\le x< 1$, $(X\\le x)=\\{TTT\\} \\Rightarrow F_X(x)=P(X\\le x)=P(\\{TTT\\})=\\frac{1}{8}$"
   ]
  },
  {
   "cell_type": "markdown",
   "metadata": {},
   "source": [
    "for $1\\le x< 2$, $(X\\le x)=\\{TTT,TTH,THT,HTT\\} \\Rightarrow F_X(x)=P(X\\le x)=P(\\{TTT,TTH,THT,HTT\\})=\\frac{1}{2}$"
   ]
  },
  {
   "cell_type": "markdown",
   "metadata": {},
   "source": [
    "for $2\\le x< 3$, $(X\\le x)=\\{TTT,TTH,THT,HTT,HHT,HTH,THH\\}$ <br><br>$F_X(x)=P(X\\le x)=P(\\{TTT,TTH,THT,HTT,HHT,HTH,THH\\})=\\frac{7}{8}$"
   ]
  },
  {
   "cell_type": "markdown",
   "metadata": {},
   "source": [
    "for $x \\ge 3$, $(X\\le x)=\\Omega$ <br><br>$F_X(x)=P(X\\le x)=P(\\Omega)=1$"
   ]
  },
  {
   "cell_type": "markdown",
   "metadata": {
    "cell_style": "center"
   },
   "source": [
    "$F_X(x)=\\left\\{\\begin{matrix}\n",
    " 0&x<0 \\\\ \n",
    " \\frac{1}{8}&0\\le x<1 \\\\ \n",
    " \\frac{1}{2}&1\\le x<2 \\\\ \n",
    " \\frac{7}{8}&2\\le x<3 \\\\ \n",
    " 1& x\\ge 3\n",
    "\\end{matrix}\\right.$"
   ]
  },
  {
   "cell_type": "code",
   "execution_count": 20,
   "metadata": {},
   "outputs": [
    {
     "data": {
      "image/png": "[encoded data removed]",
      "text/plain": [
       "<Figure size 432x288 with 1 Axes>"
      ]
     },
     "metadata": {
      "needs_background": "light"
     },
     "output_type": "display_data"
    }
   ],
   "source": [
    "import matplotlib.pyplot as plt\n",
    "fig, ax = plt.subplots()\n",
    "ax.scatter([0,1,2,3], [1/8,1/2,7/8,1],s=40,facecolors='black')\n",
    "ax.scatter([0,1,2,3], [0,1/8,1/2,7/8],s=40,facecolors='none', edgecolors='black' )\n",
    "x=[-1,0,1,2,3,4]\n",
    "y=[0,1/8,1/2,7/8,1]\n",
    "for i in range(0,5):\n",
    "    ax.plot([x[i],x[i+1]],[y[i],y[i]])\n",
    "ax.set_xlim(-1,4)\n",
    "ax.set_ylim(0,1.1)\n",
    "ax.set_xticks([0,1,2,3,4])\n",
    "ax.set_yticks([1/8,1/2,7/8,1])\n",
    "ax.set_xlabel('$x$')  \n",
    "ax.set_ylabel('$F_X(x)$') \n",
    "ax.set_title(\"CDF\")  \n",
    "plt.show()"
   ]
  },
  {
   "cell_type": "markdown",
   "metadata": {},
   "source": [
    "Here $S_X=\\{0,1,2,3\\}$"
   ]
  },
  {
   "cell_type": "markdown",
   "metadata": {},
   "source": [
    "$P(X=0)=F_X(0)-F_X(0-)=\\frac{1}{8}-0=\\frac{1}{8}$ <span style=\"color:blue\">$=\\binom{3}{0}\\frac{1}{2^3}$</span>"
   ]
  },
  {
   "cell_type": "markdown",
   "metadata": {},
   "source": [
    "$P(X=1)=F_X(1)-F_X(1-)=\\frac{1}{2}-\\frac{1}{8}=\\frac{3}{8}$ <span style=\"color:blue\">$=\\binom{3}{1}\\frac{1}{2^3}$</span>"
   ]
  },
  {
   "cell_type": "markdown",
   "metadata": {},
   "source": [
    "$P(X=2)=F_X(2)-F_X(2-)=\\frac{7}{8}-\\frac{1}{2}=\\frac{3}{8}$ <span style=\"color:blue\">$=\\binom{3}{2}\\frac{1}{2^3}$</span>"
   ]
  },
  {
   "cell_type": "markdown",
   "metadata": {},
   "source": [
    "$P(X=3)=F_X(3)-F_X(3-)=1-\\frac{7}{8}=\\frac{1}{8}$ <span style=\"color:blue\">$=\\binom{3}{3}\\frac{1}{2^3}$</span>"
   ]
  },
  {
   "cell_type": "markdown",
   "metadata": {},
   "source": [
    "$\\therefore$ $PMF$ of $X$ $p_X(x)=\\left\\{\\begin{matrix}\n",
    " \\binom{3}{x}\\frac{1}{2^3}& x=0,1,2,3\\\\ \n",
    " 0& \\text{otherwise} \n",
    "\\end{matrix}\\right.$"
   ]
  },
  {
   "cell_type": "code",
   "execution_count": 6,
   "metadata": {},
   "outputs": [
    {
     "data": {
      "image/png": "[encoded data removed]",
      "text/plain": [
       "<Figure size 432x288 with 1 Axes>"
      ]
     },
     "metadata": {
      "needs_background": "light"
     },
     "output_type": "display_data"
    }
   ],
   "source": [
    "import matplotlib.pyplot as plt\n",
    "fig, ax = plt.subplots()\n",
    "px=[1/8,3/8,3/8,1/8]\n",
    "x=['0','1','2','3']\n",
    "bar_list=ax.bar(x,px,width=0.5)\n",
    "bar_list[0].set_color('r')\n",
    "bar_list[1].set_color('b')\n",
    "bar_list[2].set_color('b')\n",
    "bar_list[3].set_color('r')\n",
    "ax.set_title(\"$p_X$\")  \n",
    "plt.show()"
   ]
  },
  {
   "cell_type": "markdown",
   "metadata": {},
   "source": [
    "**Properties of PMF of $X$:**"
   ]
  },
  {
   "cell_type": "markdown",
   "metadata": {},
   "source": [
    "- $p_X(x)>0~\\forall x\\in S_X$ and $p_X(x)=0~\\forall x\\in S_X^c$<br><br>\n",
    "- $\\sum_{x\\in S_X}p_X(x)=1$"
   ]
  },
  {
   "cell_type": "markdown",
   "metadata": {},
   "source": [
    "For $B\\in\\mathscr{B}$,  $P^X(B)=\\sum_{x\\in B\\cap S_X}p_X(x)$"
   ]
  },
  {
   "cell_type": "markdown",
   "metadata": {},
   "source": [
    "so we can study probability  distribution of discrete random variable $X$ through the study of it's $PMF$ $p_X$ "
   ]
  },
  {
   "cell_type": "markdown",
   "metadata": {},
   "source": [
    "We also have,<br><br>\n",
    "$F_X(x)=\\sum_{a\\in S_X;a\\le x}p_X(a)$, $x\\in\\mathbb{R}$, and $p_X(a)=P(X=a)=F_X(a)-F_X(a-)$"
   ]
  },
  {
   "cell_type": "markdown",
   "metadata": {},
   "source": [
    "Thus, given $p_X$, we can find $F_X$ and vice-versa."
   ]
  },
  {
   "cell_type": "markdown",
   "metadata": {},
   "source": [
    "**Theorem**: Suppose $\\emptyset \\neq S\\subset \\mathbb{R}$ is countable set and $g:\\mathbb{R}\\to\\mathbb{R}$ satisfying (i)$~g(x)>0~\\forall x\\in S$ and $g(x)=0~\\forall x\\in S^c$, (ii)$\\sum_{x\\in S}g(x)=1$. Then $g$ will be $PMF$ for some random variable."
   ]
  },
  {
   "cell_type": "markdown",
   "metadata": {},
   "source": [
    "*proof*: Define $P:\\mathscr{B}\\to\\mathbb{R}$, with mapping $B\\mapsto \\sum_{x\\in B\\cap S}g(x)$"
   ]
  },
  {
   "cell_type": "markdown",
   "metadata": {},
   "source": [
    "we can easily verify that $P$ actually a probability measure(satisfies three axioms), that is $(\\mathbb{R},\\mathscr{B},P)$ is a probability space"
   ]
  },
  {
   "cell_type": "markdown",
   "metadata": {},
   "source": [
    "now, define $X:\\mathbb{R}\\to \\mathbb{R}$ with mapping $x\\mapsto x$"
   ]
  },
  {
   "cell_type": "markdown",
   "metadata": {},
   "source": [
    "So, $X$ is a random variable on probability space $(\\mathbb{R},\\mathscr{B},P)$, and it induces the same probability space $(\\mathbb{R},\\mathscr{B},P)$ (i.e $P^X=P$)"
   ]
  },
  {
   "cell_type": "markdown",
   "metadata": {},
   "source": [
    "and it is easy to see that $P(X=x)=g(x),x\\in \\mathbb{R}$"
   ]
  },
  {
   "cell_type": "markdown",
   "metadata": {},
   "source": [
    "$\\therefore$ $X$ is a discrete random variable with support $S$ and $PMF$ $g$"
   ]
  },
  {
   "cell_type": "markdown",
   "metadata": {},
   "source": [
    "**Example:** A random variable $X$ has the $CDF$,"
   ]
  },
  {
   "cell_type": "markdown",
   "metadata": {
    "cell_style": "center"
   },
   "source": [
    "$F_X(x)=\\left\\{\\begin{matrix}\n",
    " 0&x<2 \\\\ \n",
    " \\frac{2}{3}&2\\le x<5 \\\\ \n",
    " \\frac{7-6k}{6}&5\\le x<9 \\\\ \n",
    " \\frac{3k^2-6k+7}{6}& 9\\le x<14 \\\\ \n",
    " \\frac{16k^2-16k+19}{16}& 14\\le x\\le20 \\\\ \n",
    " 1& x>20\n",
    "\\end{matrix}\\right.$"
   ]
  },
  {
   "cell_type": "markdown",
   "metadata": {
    "cell_style": "center"
   },
   "source": [
    "where $k\\in \\mathbb{R}$"
   ]
  },
  {
   "cell_type": "markdown",
   "metadata": {
    "cell_style": "center"
   },
   "source": [
    "(i) Find $k$"
   ]
  },
  {
   "cell_type": "markdown",
   "metadata": {
    "cell_style": "center"
   },
   "source": [
    "(ii)Show that $X$ is discrete type and find its support"
   ]
  },
  {
   "cell_type": "markdown",
   "metadata": {
    "cell_style": "center"
   },
   "source": [
    "(iii) Find the PMF of $X$"
   ]
  },
  {
   "cell_type": "markdown",
   "metadata": {},
   "source": [
    "*solution:* (i) Since $F_X(X)$ is right continuous,we have $F_X(20)=F_X(20+)$"
   ]
  },
  {
   "cell_type": "markdown",
   "metadata": {},
   "source": [
    "$\\frac{16k^2-16k+19}{16}=1$   &nbsp; &nbsp; ($\\because$ $F_X(20)=\\frac{16k^2-16k+19}{16}$ and $F_X(20+)=1$ )"
   ]
  },
  {
   "cell_type": "markdown",
   "metadata": {},
   "source": [
    "$16k^2-16k+3=0$ $\\Rightarrow~k=\\frac{1}{4} ~\\text{or}~ k=\\frac{3}{4}$"
   ]
  },
  {
   "cell_type": "markdown",
   "metadata": {},
   "source": [
    "and also $F_X(x)$ is non-decreasing, so we must have $F_X(5-)\\le F_X(5+)=F_X(5)$"
   ]
  },
  {
   "cell_type": "markdown",
   "metadata": {},
   "source": [
    "$\\frac{2}{3}\\le \\frac{7-6k}{6}$ $\\Rightarrow~k\\le \\frac{1}{2}$, so we should take $k=\\frac{1}{4}$"
   ]
  },
  {
   "cell_type": "markdown",
   "metadata": {},
   "source": [
    "$\\therefore~k=\\frac{1}{4}$"
   ]
  },
  {
   "cell_type": "markdown",
   "metadata": {},
   "source": [
    "$F_X(x)=\\left\\{\\begin{matrix}\n",
    " 0&x<2 \\\\ \n",
    " \\frac{2}{3}&2\\le x<5 \\\\ \n",
    " \\frac{11}{12}&5\\le x<9 \\\\ \n",
    " \\frac{91}{96}& 9\\le x<14\\\\ \n",
    " 1 & x\\ge 14 \n",
    "\\end{matrix}\\right.$"
   ]
  },
  {
   "cell_type": "markdown",
   "metadata": {
    "cell_style": "split"
   },
   "source": [
    "(ii) "
   ]
  },
  {
   "cell_type": "code",
   "execution_count": 21,
   "metadata": {
    "cell_style": "center"
   },
   "outputs": [
    {
     "data": {
      "image/png": "[encoded data removed]",
      "text/plain": [
       "<Figure size 432x288 with 1 Axes>"
      ]
     },
     "metadata": {
      "needs_background": "light"
     },
     "output_type": "display_data"
    }
   ],
   "source": [
    "import matplotlib.pyplot as plt\n",
    "fig, ax = plt.subplots()\n",
    "ax.scatter([2,5,9,14], [2/3,11/12,91/96,1],s=40, facecolors='black' )\n",
    "ax.scatter([2,5,9,14], [0,2/3,11/12,91/96],s=40,facecolors='none', edgecolors='black')\n",
    "x=[0,2,5,9,14,16]\n",
    "y=[0,2/3,11/12,91/96,1]\n",
    "for i in range(0,5):\n",
    "    ax.plot([x[i],x[i+1]],[y[i],y[i]])\n",
    "ax.set_xlim(0,16)\n",
    "ax.set_ylim(0,1.1)\n",
    "ax.set_xticks([x for x in range(0,16)])\n",
    "ax.set_yticks([2/3,11/12,91/96,1])\n",
    "ax.set_xlabel('$x$')  \n",
    "ax.set_ylabel('$F_X(x)$') \n",
    "ax.set_title(\"CDF\")  \n",
    "plt.show()"
   ]
  },
  {
   "cell_type": "markdown",
   "metadata": {},
   "source": [
    "$CDF$ has finitely many discontinuities that are 2,5,9,14 and sum of jump lengths at these discontinuities equals to 1(clear from figure). So $X$ is discrete type random variable. and support of $X$ is $S_X=\\{2,5,9,14\\}$"
   ]
  },
  {
   "cell_type": "markdown",
   "metadata": {},
   "source": [
    "(iii)"
   ]
  },
  {
   "cell_type": "markdown",
   "metadata": {},
   "source": [
    "$P(X=2)=F_X(2)-F_X(2-)=\\frac{2}{3}-0=\\frac{2}{3}$"
   ]
  },
  {
   "cell_type": "markdown",
   "metadata": {},
   "source": [
    "$P(X=5)=F_X(5)-F_X(5-)=\\frac{11}{12}-\\frac{2}{3}=\\frac{1}{4}$"
   ]
  },
  {
   "cell_type": "markdown",
   "metadata": {},
   "source": [
    "$P(X=9)=F_X(9)-F_X(9-)=\\frac{91}{12}-\\frac{11}{12}=\\frac{1}{32}$"
   ]
  },
  {
   "cell_type": "markdown",
   "metadata": {},
   "source": [
    "$P(X=14)=F_X(14)-F_X(14-)=1-\\frac{91}{96}=\\frac{5}{96}$"
   ]
  },
  {
   "cell_type": "markdown",
   "metadata": {},
   "source": [
    "$\\therefore~PMF$ of $X$, $p_X(x)=\\left\\{\\begin{matrix}\n",
    " \\frac{2}{3}& x=2 \\\\ \n",
    " \\frac{1}{4}& x=5 \\\\ \n",
    " \\frac{1}{32}& x=9 \\\\ \n",
    " \\frac{5}{96}& x=14 \\\\ \n",
    " 0& \\text{otherwise}\n",
    "\\end{matrix}\\right.$"
   ]
  },
  {
   "cell_type": "markdown",
   "metadata": {},
   "source": [
    "**Definition:** A random variable $X$ is said to be of <span style=\"color:navy\">continuous type</span> if it's $CDF$ is a continuous function"
   ]
  },
  {
   "cell_type": "markdown",
   "metadata": {},
   "source": [
    "For the most continuous random variables, there will be a non-negative function $f_X:\\mathbb{R}\\to \\mathbb{R}$ such that"
   ]
  },
  {
   "cell_type": "markdown",
   "metadata": {},
   "source": [
    "$F_X(x)=\\int_{-\\infty}^{x}f_X(t)dt$"
   ]
  },
  {
   "cell_type": "markdown",
   "metadata": {},
   "source": [
    "The function $f_X(x)$ is called a <span style=\"color:navy\">probability density function(PDF)</span> of random variable $X$"
   ]
  },
  {
   "cell_type": "markdown",
   "metadata": {},
   "source": [
    "- If $f_X(x)$ is also continuous function, then we will have $\\frac{d}{dx}F_X(x)=f_X(x)$  ($\\because$ First Fundamental Theorem of Calculus)"
   ]
  },
  {
   "cell_type": "markdown",
   "metadata": {},
   "source": [
    "- For a continuous random variable $X$, support of $X$ defined as, $S_X=\\{x\\in \\mathbb{R}:f_X(x)>0\\}$"
   ]
  },
  {
   "cell_type": "markdown",
   "metadata": {},
   "source": [
    "- For a continuous random variable $X$, with $PDF$ $f_X$, $P(a<X\\le b)=P(a\\le X< b)=P(a<X< b)=P(a\\le X\\le b)=\\int_{a}^{b}f_X(t)dt$"
   ]
  },
  {
   "cell_type": "markdown",
   "metadata": {
    "cell_style": "center"
   },
   "source": [
    "*proof:* Here $CDF$ is continuous as $X$ is continuous random variable, and in particular $F_X(x)$ will be continuous at $a,b$, then we have <br><br> $P(a<X\\le b)=P(a\\le X< b)=P(a<X< b)=P(a\\le X\\le b)=F_X(b)-F_X(a)$"
   ]
  },
  {
   "cell_type": "markdown",
   "metadata": {
    "cell_style": "center"
   },
   "source": [
    "&nbsp; &nbsp; &nbsp;&nbsp; &nbsp; &nbsp; &nbsp;&nbsp; &nbsp; &nbsp; &nbsp;&nbsp; &nbsp; &nbsp; &nbsp;&nbsp; &nbsp; &nbsp;&nbsp; &nbsp; &nbsp;$=\\int_{-\\infty}^{b}f_X(t)dt-\\int_{-\\infty}^{a}f_X(t)dt=\\int_{a}^{b}f_X(t)dt$"
   ]
  },
  {
   "cell_type": "markdown",
   "metadata": {
    "cell_style": "center"
   },
   "source": [
    "&nbsp; &nbsp; &nbsp;&nbsp; &nbsp; &nbsp; &nbsp;&nbsp; &nbsp; &nbsp; &nbsp;&nbsp; &nbsp; &nbsp; &nbsp;&nbsp; &nbsp; &nbsp;&nbsp; &nbsp; &nbsp;$=\\int_{-\\infty}^{a}f_X(t)dt+\\int_{a}^{b}f_X(t)dt-\\int_{-\\infty}^{a}f_X(t)dt=\\int_{a}^{b}f_X(t)dt$"
   ]
  },
  {
   "cell_type": "markdown",
   "metadata": {
    "cell_style": "center"
   },
   "source": [
    "and $F_X(b)-F_X(a)=\\int_{-\\infty}^{b}f_X(t)dt-\\int_{-\\infty}^{a}f_X(t)dt$"
   ]
  },
  {
   "cell_type": "markdown",
   "metadata": {
    "cell_style": "center"
   },
   "source": [
    "**Note:** Since $f_X(x)$ is non-negative function,the integral of $f_X(x)$ can be interpreted as area under the curve."
   ]
  },
  {
   "cell_type": "markdown",
   "metadata": {
    "cell_style": "center"
   },
   "source": [
    "$P(a<X\\le b)=P(a\\le X< b)=P(a<X< b)=P(a\\le X\\le b)=$Area under the curve $f_X(x)$ over interval $[a,b]$"
   ]
  },
  {
   "cell_type": "code",
   "execution_count": 87,
   "metadata": {},
   "outputs": [
    {
     "data": {
      "image/png": "[encoded data removed]",
      "text/plain": [
       "<Figure size 720x216 with 1 Axes>"
      ]
     },
     "metadata": {},
     "output_type": "display_data"
    }
   ],
   "source": [
    "import matplotlib.pyplot as plt\n",
    "import numpy as np\n",
    "from scipy.stats import norm\n",
    "x=np.linspace(-5,5,100)\n",
    "xx=np.linspace(-2,2,50)\n",
    "fig, ax = plt.subplots(figsize=(10,3))\n",
    "\n",
    "ax.plot(x,norm.pdf(x),color='blue')\n",
    "ax.fill_between(xx,norm.pdf(xx),alpha=0.4,color='green')\n",
    "ax.set_xticks([])\n",
    "ax.set_yticks([])\n",
    "ax.text(-2,0,\"a\")\n",
    "ax.text(2,0,\"b\")\n",
    "ax.text(1.7,0.1,r\"$f_x(x)$\",color='navy')\n",
    "plt.show()"
   ]
  },
  {
   "cell_type": "markdown",
   "metadata": {},
   "source": [
    "$\\int_{-\\infty}^{\\infty}f(t)dt=\\lim_{x\\to \\infty}\\int_{-\\infty}^{x}f(t)dt=\\lim_{x\\to \\infty}F_X(x)=F_X(\\infty)=1$"
   ]
  },
  {
   "cell_type": "markdown",
   "metadata": {},
   "source": [
    "$\\therefore$ Total area under the $PDF$ curve $f_X(x)$ is equal to 1"
   ]
  },
  {
   "cell_type": "markdown",
   "metadata": {},
   "source": [
    "**Properties of PDF:**"
   ]
  },
  {
   "cell_type": "markdown",
   "metadata": {},
   "source": [
    "(i) $f_X(x)\\ge0~\\forall x\\in\\mathbb{R}$"
   ]
  },
  {
   "cell_type": "markdown",
   "metadata": {},
   "source": [
    "(ii)$\\int_{-\\infty}^{\\infty}f_X(t)dt=1$"
   ]
  },
  {
   "cell_type": "markdown",
   "metadata": {},
   "source": [
    "In advanced course on probability theory, it can be shown that if a function satisfies the above (i),(ii) properties, then it is a $PDF$ for some random variable."
   ]
  },
  {
   "cell_type": "markdown",
   "metadata": {},
   "source": [
    "**Note:** for $x_0\\in S_X$"
   ]
  },
  {
   "cell_type": "code",
   "execution_count": 120,
   "metadata": {},
   "outputs": [
    {
     "data": {
      "image/png": "[encoded data removed]",
      "text/plain": [
       "<Figure size 720x216 with 1 Axes>"
      ]
     },
     "metadata": {},
     "output_type": "display_data"
    }
   ],
   "source": [
    "import matplotlib.pyplot as plt\n",
    "import numpy as np\n",
    "from scipy.stats import norm\n",
    "x=np.linspace(-5,1.5,100)\n",
    "fig, ax = plt.subplots(figsize=(10,3))\n",
    "\n",
    "ax.plot(x,norm.pdf(x),color='blue')\n",
    "ax.fill_between([-0.3,0.3],norm.pdf([0,0]),alpha=0.4,color='orange')\n",
    "ax.set_xticks([])\n",
    "ax.set_yticks([])\n",
    "ax.set_ylim(0,0.6)\n",
    "ax.scatter([-0.3,0,0.3],[0,0,0],facecolors='black',s=10)\n",
    "ax.scatter([0],[norm.pdf(0)],facecolors='black',s=10)\n",
    "ax.text(0,-0.03,r\"$x_0$\")\n",
    "ax.text(-0.5,-0.03,r\"$x_0-\\frac{\\epsilon}{2}$\")\n",
    "ax.text(0.3,-0.03,r\"$x_0+\\frac{\\epsilon}{2}$\")\n",
    "ax.text(0,norm.pdf(0),r\"$(x_0,f_x(x_0))$\")\n",
    "ax.text(-2,0.1,r\"$f_x(x)$\",color='navy')\n",
    "plt.show()"
   ]
  },
  {
   "cell_type": "markdown",
   "metadata": {
    "cell_style": "center"
   },
   "source": [
    "$P(x_0-\\frac{\\varepsilon}{2}<X<x_0+\\frac{\\varepsilon}{2})=\\int_{x_0-\\frac{\\varepsilon}{2}}^{x_0+\\frac{\\varepsilon}{2}}f(t)dt\\approx f_X(x_0)\\varepsilon$"
   ]
  },
  {
   "cell_type": "markdown",
   "metadata": {
    "cell_style": "center"
   },
   "source": [
    "So, $f_X(x_0)$ is a measure of how likely it is that the random variable will be near x_0"
   ]
  },
  {
   "cell_type": "markdown",
   "metadata": {},
   "source": [
    "Please note that $f_X(x_0)$ is not $P(X=x_0)$(actually for continuous random variables $P(X=x)=0\\forall x$)"
   ]
  },
  {
   "cell_type": "markdown",
   "metadata": {},
   "source": [
    "- Let $X$ be a continuous random variable with $PDF$ $f_X(x)$, for $B\\in \\mathscr{B}$, then $P^X(B)=P(X\\in B)=\\int_{B}f_X(t)dt$"
   ]
  },
  {
   "cell_type": "markdown",
   "metadata": {},
   "source": [
    "Let us consider the random experiment of selecting a point in the interior of unit circle"
   ]
  },
  {
   "cell_type": "markdown",
   "metadata": {},
   "source": [
    "Sample space $\\Omega=\\{(a,b)\\in\\mathbb{R}^2:a^2+b^2<1\\}$"
   ]
  },
  {
   "cell_type": "markdown",
   "metadata": {},
   "source": [
    "For event $A\\subseteq\\Omega$,$P(A)=\\frac{area(A)}{\\pi}$"
   ]
  },
  {
   "cell_type": "markdown",
   "metadata": {},
   "source": [
    "($\\because$ we select point in $\\Omega$ at random, so $P(A)$ should be proportional to $area(A)$"
   ]
  },
  {
   "cell_type": "markdown",
   "metadata": {},
   "source": [
    "$\\Rightarrow$ $P(A)=c.area(A)$, and $P(\\Omega)=c.area(\\Omega)=1$$\\Rightarrow$ $c.\\pi.1^2=1\\Rightarrow~c=\\frac{1}{\\pi}$"
   ]
  },
  {
   "cell_type": "markdown",
   "metadata": {
    "cell_style": "center"
   },
   "source": [
    "Define $X:\\Omega \\to \\mathbb{R}$ with mapping $(a,b)\\mapsto distance((0,0),(a,b))=\\sqrt{a^2+b^2}$"
   ]
  },
  {
   "cell_type": "code",
   "execution_count": 3,
   "metadata": {
    "cell_style": "center"
   },
   "outputs": [
    {
     "data": {
      "text/html": [
       "<iframe src=\"https://editor.p5js.org/nagi1805/embed/taXzRKHXK\" width=\"800\" height=\"300\"></iframe>\n"
      ],
      "text/plain": [
       "<IPython.core.display.HTML object>"
      ]
     },
     "metadata": {},
     "output_type": "display_data"
    }
   ],
   "source": [
    "%%HTML\n",
    "<iframe src=\"https://editor.p5js.org/nagi1805/embed/taXzRKHXK\" width=\"800\" height=\"300\"></iframe>"
   ]
  },
  {
   "cell_type": "markdown",
   "metadata": {
    "cell_style": "center"
   },
   "source": [
    "\n",
    "Here the range of $X$ $\\mathscr{X}=[0,1)$"
   ]
  },
  {
   "cell_type": "markdown",
   "metadata": {
    "cell_style": "center"
   },
   "source": [
    " $\\{X\\le x\\}=\\{(a,b)\\in\\Omega:\\sqrt{a^2+b^2}\\le x\\}$ "
   ]
  },
  {
   "cell_type": "markdown",
   "metadata": {},
   "source": [
    "$CDF$ of $X$,"
   ]
  },
  {
   "cell_type": "markdown",
   "metadata": {},
   "source": [
    "for $x<0$,$F_X(x)=P(X\\le x)=0$"
   ]
  },
  {
   "cell_type": "markdown",
   "metadata": {},
   "source": [
    "for $0\\le x<1$,$F_X(x)=P(X\\le x)=\\frac{\\pi x^2}{\\pi}=x^2$"
   ]
  },
  {
   "cell_type": "markdown",
   "metadata": {},
   "source": [
    "for $x\\ge 1$,$F_X(x)=P(X\\le x)=1$"
   ]
  },
  {
   "cell_type": "markdown",
   "metadata": {},
   "source": [
    "$\\therefore$ $F_X(x)=\\left\\{\\begin{matrix}\n",
    " 0&x<0 \\\\ \n",
    " x^2&0\\le x<1 \\\\ \n",
    " 1&x\\ge 1 \n",
    "\\end{matrix}\\right.$"
   ]
  },
  {
   "cell_type": "markdown",
   "metadata": {},
   "source": [
    "$PDF$ of $X$, $f_X(x)=\\frac{d}{dx}F_X(x)=\\left\\{\\begin{matrix}\n",
    " 2x& 0\\le x<1\\\\ \n",
    " 0& \\text{otherwise} \n",
    "\\end{matrix}\\right.$"
   ]
  },
  {
   "cell_type": "markdown",
   "metadata": {},
   "source": [
    "Probability of selected point fall in the ring with radii $\\frac{1}{4}$ and $\\frac{1}{2}$ is"
   ]
  },
  {
   "cell_type": "code",
   "execution_count": 4,
   "metadata": {},
   "outputs": [
    {
     "data": {
      "text/html": [
       "<iframe src=\"https://editor.p5js.org/nagi1805/embed/CdWtOok09\" width=\"400\" height=\"300\"></iframe>\n"
      ],
      "text/plain": [
       "<IPython.core.display.HTML object>"
      ]
     },
     "metadata": {},
     "output_type": "display_data"
    }
   ],
   "source": [
    "%%HTML\n",
    "<iframe src=\"https://editor.p5js.org/nagi1805/embed/CdWtOok09\" width=\"400\" height=\"300\"></iframe>"
   ]
  },
  {
   "cell_type": "markdown",
   "metadata": {},
   "source": [
    "$P(\\frac{1}{4}<X<\\frac{1}{2})=\\int_{\\frac{1}{4}}^{\\frac{1}{2}}2tdt=[t^2]_{\\frac{1}{4}}^{\\frac{1}{2}}=\\frac{3}{16}$"
   ]
  },
  {
   "cell_type": "markdown",
   "metadata": {},
   "source": [
    "**Example**: Let $X$ be the time in seconds between incoming telephone calls at a busy switchboard. Suppose that a reasonable probability model for $X$ is given by $PDF$, $f_X(x)=\\left\\{\\begin{matrix}\n",
    " \\frac{1}{4}e^{\\frac{-x}{4}}& 0<x<\\infty \\\\ \n",
    " 0& \\text{otherwise} \n",
    "\\end{matrix}\\right.$<br><br>\n",
    "then, find the probability that the time between successive phone calls exceeds 4 seconds."
   ]
  },
  {
   "cell_type": "markdown",
   "metadata": {},
   "source": [
    "*solution*:<br><br>\n",
    "$P(X>4)=\\int_{4}^{\\infty}e^{\\frac{-x}{4}}dx$"
   ]
  },
  {
   "cell_type": "markdown",
   "metadata": {},
   "source": [
    "take $t=\\frac{x}{4}\\Rightarrow dt=\\frac{dx}{4}$"
   ]
  },
  {
   "cell_type": "markdown",
   "metadata": {},
   "source": [
    "$t$ vary from $1$ to $\\infty$ as $x$ vary from $4$ to $\\infty$"
   ]
  },
  {
   "cell_type": "markdown",
   "metadata": {},
   "source": [
    "$P(X>4)=\\int_{1}^{\\infty}e^{-t}dt=\\lim_{x\\to \\infty}\\int_{1}^{x}e^{-t}dt$"
   ]
  },
  {
   "cell_type": "markdown",
   "metadata": {},
   "source": [
    "&nbsp; &nbsp; &nbsp; &nbsp; &nbsp; &nbsp; &nbsp; &nbsp; &nbsp; &nbsp;$=lim_{x\\to \\infty}[-e^{-t}]_{1}^{x}=lim_{x\\to \\infty}[e^{-1}-e^{-x}]=e^{-1}-lim_{x\\to \\infty}e^{-x}=e^{-1}-0$"
   ]
  },
  {
   "cell_type": "markdown",
   "metadata": {},
   "source": [
    "$\\therefore$ $P(X>4)=\\frac{1}{e}$"
   ]
  },
  {
   "cell_type": "markdown",
   "metadata": {},
   "source": [
    "**Example:** The life time in hours of certain kind of radio tube is a random variable $X$ with $PDF$,<br><br>\n",
    "$f_X(x)=\\left\\{\\begin{matrix}\n",
    " 0&x\\le 100 \\\\ \n",
    " \\frac{100}{x^2}&x>100 \n",
    "\\end{matrix}\\right.$<br><br>\n",
    "What is the probability that exactly 2 of 5 such a tubes in a radio set will have to be replaced within the first 150 hours of operation?"
   ]
  },
  {
   "cell_type": "markdown",
   "metadata": {},
   "source": [
    "*solution*:<br><br>\n",
    "Let $A_i$ be the event that $i^{th}$ tube in a radio set failing within first 150 hours of operation, for $i=1,2,3,4,5$"
   ]
  },
  {
   "cell_type": "markdown",
   "metadata": {},
   "source": [
    "$P(A_i)=P(X<150)=\\int_{-\\infty}^{150}f_X(x)dx$"
   ]
  },
  {
   "cell_type": "markdown",
   "metadata": {},
   "source": [
    "&nbsp; &nbsp; &nbsp; &nbsp; &nbsp; &nbsp; $=\\int_{100}^{150}\\frac{100}{x^2}dx=\\left[\\frac{-100}{x}\\right ]_{100}^{150}=1-\\frac{2}{3}=\\frac{1}{3}$"
   ]
  },
  {
   "cell_type": "markdown",
   "metadata": {},
   "source": [
    "$\\therefore~P(A_i)=\\frac{1}{3}\\Rightarrow P(A_i^c)=\\frac{2}{3}$ for $i=1,2,3,4,5$ "
   ]
  },
  {
   "cell_type": "markdown",
   "metadata": {},
   "source": [
    "Let $Y$ denote the number of tubes that fails in first 150 hours of operation out of 5 tubes in a radio set"
   ]
  },
  {
   "cell_type": "markdown",
   "metadata": {},
   "source": [
    "$Y$ takes values $0,1,2,3,4,5$"
   ]
  },
  {
   "cell_type": "markdown",
   "metadata": {},
   "source": [
    "Here we are interested in $P(Y=2)=?$"
   ]
  },
  {
   "cell_type": "markdown",
   "metadata": {},
   "source": [
    "$P(Y=2)=\\sum_{\\{i_1,i_2\\}\\cup\\{i_3,i_4,i_5\\}=\\{1,2,3,4,5\\}}P(A_{i_1}\\cap A_{i_2}\\cap A_{i_3}^c\\cap A_{i_4}^c\\cap A_{i_5}^c)$"
   ]
  },
  {
   "cell_type": "markdown",
   "metadata": {},
   "source": [
    "$P(Y=2)=\\sum_{\\{i_1,i_2\\}\\cup\\{i_3,i_4,i_5\\}=\\{1,2,3,4,5\\}}P(A_{i_1})P(A_{i_2})P(A_{i_3}^c)P(A_{i_4}^c)P(A_{i_5}^c)$"
   ]
  },
  {
   "cell_type": "markdown",
   "metadata": {},
   "source": [
    "$P(Y=2)=\\sum_{\\{i_1,i_2\\}\\cup\\{i_3,i_4,i_5\\}=\\{1,2,3,4,5\\}}\\left(\\frac{1}{3}\\right)^2\\left(\\frac{2}{3}\\right)^{3}=\\binom{5}{2}\\left(\\frac{1}{3}\\right)^2\\left(\\frac{2}{3}\\right)^{3}\\approx 0.3292$"
   ]
  },
  {
   "cell_type": "markdown",
   "metadata": {},
   "source": [
    "**Example**: Suppose $X$ is a continuous random variable whose $PDF$ is given by, $f_X(x)=\\left\\{\\begin{matrix}\n",
    "k(4x-2x^2) &0<x<2 \\\\ \n",
    " 0& \\text{otherwise} \n",
    "\\end{matrix}\\right.$"
   ]
  },
  {
   "cell_type": "markdown",
   "metadata": {},
   "source": [
    "then (i) Find $k$, (ii) Find $P(X>1)$"
   ]
  },
  {
   "cell_type": "markdown",
   "metadata": {},
   "source": [
    "*solution*:(i)<br><br>\n",
    "Since $f_X(x)$ is $PDF$, $\\int_{-\\infty}^{\\infty}f_X(x)=1$"
   ]
  },
  {
   "cell_type": "markdown",
   "metadata": {},
   "source": [
    "$\\int_{-\\infty}^{0}0+\\int_{0}^{2}k(4x-2x^2)+\\int_{2}^{\\infty}0=1\\Rightarrow k\\int_{0}^{2}(4x-2x^2)=1$"
   ]
  },
  {
   "cell_type": "markdown",
   "metadata": {},
   "source": [
    "$k\\left[2x^2-\\frac{2x^3}{3}\\right]=1\\Rightarrow k\\left[8-\\frac{16}{3}\\right]=1$"
   ]
  },
  {
   "cell_type": "markdown",
   "metadata": {},
   "source": [
    "$k=\\frac{3}{8}$"
   ]
  },
  {
   "cell_type": "markdown",
   "metadata": {},
   "source": [
    "$\\therefore$ $f_X(x)=\\left\\{\\begin{matrix}\n",
    " \\frac{3}{8}(4x-2x^2)&0<x<2 \\\\ \n",
    " 0& \\text{otherwise} \n",
    "\\end{matrix}\\right.$ "
   ]
  },
  {
   "cell_type": "markdown",
   "metadata": {},
   "source": [
    "(ii)<br><br>\n",
    "$P(X>1)=1-P(X\\le 1)$"
   ]
  },
  {
   "cell_type": "markdown",
   "metadata": {},
   "source": [
    "&nbsp;&nbsp; &nbsp; &nbsp; &nbsp; &nbsp; &nbsp; &nbsp; &nbsp; &nbsp; $=1-\\int_{-\\infty}^{1}f_X(x)$"
   ]
  },
  {
   "cell_type": "markdown",
   "metadata": {},
   "source": [
    "&nbsp;&nbsp; &nbsp; &nbsp; &nbsp; &nbsp; &nbsp; &nbsp; &nbsp; &nbsp; $=1-\\int_{0}^{1}\\frac{3}{8}(4x-2x^2)dx=1-\\frac{3}{8}\\left[2x^2-\\frac{2x^3}{3}\\right]_{0}^{1}=\\frac{1}{2}$"
   ]
  },
  {
   "cell_type": "markdown",
   "metadata": {},
   "source": [
    "$\\therefore$ $P(X>1)=\\frac{1}{2}$"
   ]
  },
  {
   "cell_type": "markdown",
   "metadata": {},
   "source": [
    "so $F_Y(y)=\\int_{-\\sqrt{y}}^{\\sqrt{y}}f_X(x)dx=\\int_{-\\sqrt{y}}^{-1}0dx+\\int_{-1}^{1}\\frac{1}{2}dx+\\int_{1}^{\\sqrt{y}}0dx=0+\\left[\\frac{x}{2}\\right]_{-1}^{1}+0=\\frac{1}{2}-\\frac{-1}{2}=1$"
   ]
  },
  {
   "cell_type": "markdown",
   "metadata": {},
   "source": [
    "$\\therefore$ the $CDF$ of $Y$, $F_Y(y)=\\left\\{\\begin{matrix}\n",
    " 0&y<0 \\\\ \n",
    " \\sqrt{y}&0\\le y<1 \\\\ \n",
    " 1& y\\ge 1\n",
    "\\end{matrix}\\right.$"
   ]
  },
  {
   "cell_type": "markdown",
   "metadata": {},
   "source": [
    "now, $PDF$ of $Y$, $f_Y(y)=\\frac{d}{dy}F_Y(y)=\\left\\{\\begin{matrix}\n",
    "\\frac{1}{2\\sqrt{y}} &0<y<1 \\\\ \n",
    " 0& \\text{otherwsie}\n",
    "\\end{matrix}\\right.$"
   ]
  }
 ],
 "metadata": {
  "hide_input": false,
  "kernelspec": {
   "display_name": "Python 3 (ipykernel)",
   "language": "python",
   "name": "python3"
  },
  "language_info": {
   "codemirror_mode": {
    "name": "ipython",
    "version": 3
   },
   "file_extension": ".py",
   "mimetype": "text/x-python",
   "name": "python",
   "nbconvert_exporter": "python",
   "pygments_lexer": "ipython3",
   "version": "3.10.0"
  }
 },
 "nbformat": 4,
 "nbformat_minor": 4
}
