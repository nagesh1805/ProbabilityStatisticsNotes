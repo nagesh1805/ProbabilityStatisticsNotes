{
 "cells": [
  {
   "cell_type": "markdown",
   "metadata": {},
   "source": [
    "<h2 style=\"text-align:center\"> MA2102</h2>\n",
    "<h1 style=\"text-align:center\"> Probability and Statistics</h1>\n",
    "<h4 style=\"text-align:center\"> Lecture-9</h4>"
   ]
  },
  {
   "cell_type": "markdown",
   "metadata": {},
   "source": [
    "# Random Variables"
   ]
  },
  {
   "cell_type": "markdown",
   "metadata": {},
   "source": [
    "Most of the time when we consider a random experiment, we may not be interested in full physical description of the outcome, rather we may be interested in certain numerical characteristic of an outcomes."
   ]
  },
  {
   "cell_type": "markdown",
   "metadata": {},
   "source": [
    "Consider the situation of you appearing for GATE exam without any preparation, so it is going to be a random experiment as you can't predict any answer to any question with certainty.<br>   \n",
    "\n",
    "Sample space $\\Omega=\\{(a_1,a_2,...,a_{65}): a_i\\in\\{A,B,C,D\\} ~\\text{for}~ $i=1,2,...65$\\}$\n",
    "<span style=\"color:blue\">(For simplicity, we are assuming all 65 questions in GATE are M.C.Q and no negative marking)</span>"
   ]
  },
  {
   "cell_type": "markdown",
   "metadata": {},
   "source": [
    "\n",
    "$|\\Omega|=4^{65}=1361129467683753853853498429727072845824$"
   ]
  },
  {
   "cell_type": "markdown",
   "metadata": {},
   "source": [
    "Thing is you don't really care about, how you answer (<span style=\"color:blue\">A</span> or <span style=\"color:red\">B</span> or <span style=\"color:green\">C</span> or <span style=\"color:purple\">D</span>) each individual question. What you all care is about the final marks, which is numerical summary of your performance. Most of the time people care about only this numerical aspect of exam. If we quantify each way of attempting exam by its marks, then there are very few quantities to observe, that are possible scores $0,1,2,...100$ (<span style=\"color:orange\">$30\\times 1+35 \\times 2=100 marks$</span>) we assumed no negative marking to avoid fractions in marks"
   ]
  },
  {
   "cell_type": "markdown",
   "metadata": {},
   "source": [
    "If you care about only the $X$ which denote the final marks(numerical summary of exam), then there is no reason to deal with the huge space $\\Omega$, instead we can look at the space of possible marks that is $\\{0,1,2,...,100\\}$ which looks much prettier than $\\Omega$ and easy to deal with as outcomes are numbers as opposed to some weird objects. We should be happy to work with real numbers as we studied their properties and functions on real numbers, with some analytical properties such as continuity, differentiability, integrability etc. So we can use calculus of real variables to study, and understand better about probability structure on $(\\mathbb{R},\\mathscr{B})$<br><br>\n",
    "*Note*: when we observe real numbers as outcomes then  events are going to be Borel sets in $\\mathbb{R}$ so the event space will be Borel $\\sigma$-Field."
   ]
  },
  {
   "cell_type": "markdown",
   "metadata": {},
   "source": [
    "So whenever we are interested only in some numerical aspect of a random experiment, the idea is to quantify each outcome of random experiment by its numerical summary. This leads to the concept of random variable. Before defining random variable, lets have a look at an example."
   ]
  },
  {
   "cell_type": "markdown",
   "metadata": {},
   "source": [
    "*Example:* Three balls are randomly selected without replacement from a box containing $20$ balls numbered $1$ through $20$. If we bet that at least one of the drawn ball has the number greater than are equal to $17$. What is the probability that we win the bet?"
   ]
  },
  {
   "cell_type": "markdown",
   "metadata": {},
   "source": [
    "*solution:* Here the sample space $\\Omega=\\{\\{a,b,c\\}:\\{a,b,c\\}\\subset\\{1,2,3,...20\\}\\}$     \n",
    "Let $E$ be the event that we winning bet(at least one of the drawn ball is grater than or equal to $17$)"
   ]
  },
  {
   "cell_type": "markdown",
   "metadata": {},
   "source": [
    "Actually there is a numerical aspect of random experiment using which, we can describe our event of interest $E$"
   ]
  },
  {
   "cell_type": "markdown",
   "metadata": {},
   "source": [
    "define $X:\\Omega \\to \\mathbb{R}$<br> with $X(\\{a,b,c\\})=\\text{max}\\{a,b,c\\}$ for $\\{a,b,c\\}\\in\\Omega$"
   ]
  },
  {
   "cell_type": "markdown",
   "metadata": {},
   "source": [
    "Let $\\mathscr{X}$ denote the range of $X$<br>\n",
    "$\\mathscr{X}=\\{3,4,5,...,20\\}$   \n",
    "now $E$ can be expressed in terms of $X$ as follows,   \n",
    "$E=\\{\\omega:X(\\omega)\\ge 17\\}$ i.e $E$ happens $\\iff$ maximum of drawn balls $\\ge 17$"
   ]
  },
  {
   "cell_type": "markdown",
   "metadata": {},
   "source": [
    "$P(X=i)=P(\\{\\omega:X(\\omega)=i\\})=\\frac{\\binom{1}{1}\\binom{i-1}{2}}{\\binom{20}{3}}=\\frac{\\binom{i-1}{2}}{\\binom{20}{3}}$ for $i=3,4,...,20$"
   ]
  },
  {
   "cell_type": "markdown",
   "metadata": {},
   "source": [
    "$\\therefore P(\\text{we win the bet})=P(X\\ge 17)$   \n",
    "&nbsp; &nbsp; &nbsp; &nbsp; &nbsp; &nbsp; &nbsp; &nbsp; &nbsp; &nbsp; &nbsp; &nbsp; &nbsp; &nbsp; &nbsp; &nbsp; &nbsp; &nbsp; &nbsp;$=P(\\{X=17\\}\\cup \\{X=18\\}\\cup \\{X=19\\}\\cup \\{X=20\\})$    \n",
    "&nbsp; &nbsp; &nbsp; &nbsp; &nbsp; &nbsp; &nbsp; &nbsp; &nbsp; &nbsp; &nbsp; &nbsp; &nbsp; &nbsp; &nbsp; &nbsp; &nbsp; &nbsp; &nbsp;$=P(X=17)+ P(X=18)+ P(X=19)+P(X=20)$    \n",
    "&nbsp; &nbsp; &nbsp; &nbsp; &nbsp; &nbsp; &nbsp; &nbsp; &nbsp; &nbsp; &nbsp; &nbsp; &nbsp; &nbsp; &nbsp; &nbsp; &nbsp; &nbsp; &nbsp;$=\\frac{\\binom{16}{2}}{\\binom{20}{3}}+\\frac{\\binom{17}{2}}{\\binom{20}{3}}+\\frac{\\binom{18}{2}}{\\binom{20}{3}}+\\frac{\\binom{19}{2}}{\\binom{20}{3}}\\approx 0.508$"
   ]
  },
  {
   "cell_type": "markdown",
   "metadata": {},
   "source": [
    "$\\therefore P(\\text{we win the bet})=0.508$"
   ]
  },
  {
   "cell_type": "markdown",
   "metadata": {},
   "source": [
    "**Definition:** Let $(\\Omega,\\mathscr{F},P)$ be a probability space, a function $X:\\Omega \\to \\mathbb{R}$ is called a random variable, if inverse images under $X$ of all Borel sets in $\\mathbb{R}$ are events<br>\n",
    "i.e $X^{-1}(B)\\in \\mathscr{F}$ for every $B\\in \\mathscr{B}$, where $\\mathscr{B}$ is a Borel $\\sigma-\\text{Field}$ "
   ]
  },
  {
   "cell_type": "markdown",
   "metadata": {},
   "source": [
    "To verify a function $X:\\Omega\\to\\mathbb{R}$ is a random variable, it suffices to verify that $X^{-1}((-\\infty,x])\\in \\mathscr{F}~\\forall x\\in\\mathbb{R}$"
   ]
  },
  {
   "cell_type": "markdown",
   "metadata": {},
   "source": [
    "**Theorem:** Let $X$ be a random variable on probability space $(\\Omega,\\mathscr{F},P)$ iff $X^{-1}(-\\infty,x]\\in\\mathscr{F}$ $\\forall x\\in \\mathbb{R}$    "
   ]
  },
  {
   "cell_type": "markdown",
   "metadata": {},
   "source": [
    "*proof:* ($\\Rightarrow$)Suppose $X$ is a random variable, then $X^{-1}(B)\\in \\mathscr{F}~\\forall B\\in \\mathscr{B}$   \n",
    "In particular for $B=(-\\infty,x]\\in \\mathscr{B}$   \n",
    "$\\therefore X^{-1}(-\\infty,x]\\in \\mathscr{F}~\\forall x\\in \\mathbb{R}$"
   ]
  },
  {
   "cell_type": "markdown",
   "metadata": {},
   "source": [
    "($\\Leftarrow$) Suppose $X^{-1}(-\\infty,x]\\in\\mathscr{F}$ $\\forall x\\in \\mathbb{R}$   \n",
    "Consider $\\mathscr{B_0}=\\{B\\in \\mathscr{B}:X^{-1}(B)\\in \\mathscr{F}\\}\\subseteq\\mathscr{B} $"
   ]
  },
  {
   "cell_type": "markdown",
   "metadata": {},
   "source": [
    "*claim*:$\\mathscr{B_0}$ is a $\\sigma-\\text{Field}$     \n",
    "(i). $\\emptyset \\in \\mathscr{B_0}$  ($\\because X^{-1}(\\emptyset)=\\emptyset$)<br><br>   \n",
    "\n",
    "(ii). if $B\\in \\mathscr{B_0}$ then $X^{-1}(B)\\in \\mathscr{F}$   \n",
    "then $X^{-1}(B^c)=(X^{-1}(B))^c \\in \\mathscr{F}$  ($\\because \\mathscr{F}$ is $\\sigma-\\text{Field}$)   \n",
    "$\\therefore B^c\\in\\mathscr{B_0}$   \n",
    "(iii). if $B_1,B_2,...B_n,...\\in \\mathscr{B_0} \\Rightarrow X^{-1}(B_i)\\in \\mathscr{F}~\\text{for}~i=1,2,3,...$   \n",
    "now,$X^{-1}(\\bigcup_{i=1}^{\\infty}B_i)=\\bigcup_{i=1}^{\\infty}X^{-1}(B_i)\\in \\mathscr{F}$ ($\\because X^{-1}(B_i)\\in \\mathscr{F} ~\\forall ~i$)   \n",
    "$\\Rightarrow \\bigcup_{i=1}^{\\infty}B_i \\in \\mathscr{B_0}$  \n",
    "hence $\\mathscr{B_0}$ is a $\\sigma-\\text{Field}$   \n",
    "$\\mathscr{J}=\\{(-\\infty,x]:x\\in\\mathbb{R}\\}\\subseteq \\mathscr{B_0}$ ($\\because X^{-1}(-\\infty,x]\\in\\mathscr{F}$ $\\forall x\\in \\mathbb{R}$)  \n",
    "$\\sigma(\\mathscr{J})\\subseteq \\mathscr{B_0}$ ($\\because \\sigma(\\mathscr{J})$ is a smallest $\\sigma-\\text{Field}$ containing $\\mathscr{J}$)    \n",
    "and we know that $\\sigma(\\mathscr{J})=\\mathscr{B} \\Rightarrow \\mathscr{B}\\subseteq \\mathscr{B_0}$   \n",
    "hence $\\mathscr{B}= \\mathscr{B_0}$  \n",
    "i.e $x^{-1}(B)\\in \\mathscr{F} ~\\forall B\\in \\mathscr{B}$, so, $X$ is a random variable"
   ]
  },
  {
   "cell_type": "markdown",
   "metadata": {},
   "source": [
    "Example 1:Let $(\\Omega,\\mathscr{F})$ be a measurable space, and $E\\subseteq \\Omega$,<br>\n",
    "define $I_E(\\omega)=\\left\\{\\begin{matrix}\n",
    " 0,& \\omega\\notin E\\\\ \n",
    " 1,& \\omega\\in E\n",
    "\\end{matrix}\\right.$   <br>\n",
    "$I_E$ is called the indicator function of$E$, and $I_E$ is random variable iff $E\\in \\mathscr{F}$"
   ]
  },
  {
   "cell_type": "markdown",
   "metadata": {},
   "source": [
    "Example 2: Let $\\Omega=\\{H,T\\}$, and $\\mathscr{F}=\\mathscr{P}(\\Omega)$. Define $X:\\Omega\\to\\mathbb{R}$, $X(H)=1,X(T)=0$<br>\n",
    "then $X^{-1}((-\\infty,x])=\\left\\{\\begin{matrix}\n",
    " \\emptyset,&x<0 \\\\ \n",
    " \\{T\\},&0\\le x<1 \\\\ \n",
    " \\{H,T\\}&x\\ge 1 \n",
    "\\end{matrix}\\right.$  <br>\n",
    "we can see that $X$ is a random variable"
   ]
  },
  {
   "cell_type": "markdown",
   "metadata": {},
   "source": [
    "Example 3: Let $\\Omega=\\{HH,HT,TH,TT\\}$, and $\\mathscr{F}=\\mathscr{P}(\\Omega)$. Define $X:\\Omega\\to\\mathbb{R}$, $X(\\omega)=$#heads for $\\omega\\in\\Omega$<br>\n",
    "then $X^{-1}((-\\infty,x])=\\left\\{\\begin{matrix}\n",
    " \\emptyset&x<0 \\\\ \n",
    " \\{TT\\}&0\\le x<1 \\\\ \n",
    "\\{TT,HT,TH\\} &1\\le x<2 \\\\ \n",
    "\\Omega & x\\ge 2 \n",
    "\\end{matrix}\\right.$<br>\n",
    "Here also $X$ is random variable"
   ]
  },
  {
   "cell_type": "markdown",
   "metadata": {},
   "source": [
    "**Note**: \n",
    "1. When $\\Omega$ is uncountable set (like interval) then it is not possible(it is proved in measure theory) to come up with a probability measure (satisfying three axioms). on $(\\Omega,\\mathscr{P}(\\Omega))$, so In general our event space may not be whole $\\mathscr{P}(\\Omega)$. But when $\\Omega$ is finite or countably infinite then probability measure on $(\\Omega,\\mathscr{P}(\\Omega))$ is possible.     \n",
    "\n",
    "2. In a probability space $(\\Omega,\\mathscr{F},P)$, if $\\mathscr{F}=\\mathscr{P}(\\Omega)$ then any function from $X:\\Omega \\to \\mathbb{R}$ is a random variable<br>($\\because$ $X^{-1}(B)\\subseteq \\Omega \\Rightarrow X^{-1}(B)\\in \\mathscr{F}=\\mathscr{P}(\\Omega)$)  \n",
    "3. The good news is,in practice, we never have to check the condition that whether $X^{-1}(B)\\in \\mathscr{F}~\\forall~B\\in \\mathscr{B}$. Because whatever functions(numerical characteristic) that occur in practice,all good. So, in practice we can simply take any function(that we can think of) from $\\Omega$ into $\\mathbb{R}$ as a random variable "
   ]
  },
  {
   "cell_type": "markdown",
   "metadata": {},
   "source": [
    "#### Examples of a random variables associated with random experiment:"
   ]
  },
  {
   "cell_type": "markdown",
   "metadata": {},
   "source": [
    "<table>\n",
    "    <tr>\n",
    "        <td></td>\n",
    "       <th>Experiment</th>\n",
    "       <th>Random variable</th>\n",
    "        <th> $X$ can take values</th>\n",
    "    </tr>\n",
    "    <tr>   <td>1.</td>\n",
    "           <td>Rolling a pair of dice</td>\n",
    "          <td>$X=$sum of dice</td>\n",
    "        <td>{2,3,4,...,12}</td>\n",
    "    </tr>\n",
    "     <tr>  <td>2.</td>\n",
    "           <td>Tossing a coin until head appears</td>\n",
    "          <td>$X=$ number of trials required</td>\n",
    "         <td>{1,2,3,...}</td>\n",
    "    </tr>\n",
    "      <tr> <td>3.</td>\n",
    "           <td>Selecting a random student in a class</td>\n",
    "          <td>$X=$ weight of student in kgs</td>\n",
    "           <td>[40,70]</td>\n",
    "    </tr>\n",
    "\n",
    "</table>"
   ]
  },
  {
   "cell_type": "markdown",
   "metadata": {},
   "source": [
    "<h3>Probability distribution of a random variable:</h3>"
   ]
  },
  {
   "cell_type": "markdown",
   "metadata": {},
   "source": [
    "Let $X$ be the random variable defined on probability space $(\\Omega,\\mathscr{F},P)$, then there is a probability function $P^X:\\mathscr{B}\\to\\mathbb{R}$ on measurable space $(\\mathbb{R},\\mathscr{B})$ defined as follows,    \n",
    "$P^X(B)=P(X^{-1}(B))$=<span style=\"color:blue>\">$P(\\{\\omega\\in\\Omega:X(\\omega)\\in B\\})$</span> for $B\\in\\mathscr{B}$"
   ]
  },
  {
   "cell_type": "markdown",
   "metadata": {},
   "source": [
    "*Claim*: $P^X$ is a probability function(measure) on $(\\mathbb{R},\\mathscr{B})$"
   ]
  },
  {
   "cell_type": "markdown",
   "metadata": {},
   "source": [
    "we are going to check three probability axioms for $P^X$   <br><br>\n",
    "i) $P^X(B)=P(X^{-1}(B))\\ge 0$  ($\\because \\text{Axiom 1 for}~ P$)\n",
    "$\\therefore$ Axiom 1 for $P^X$ <span style=\"color:green\">✓</span>"
   ]
  },
  {
   "cell_type": "markdown",
   "metadata": {},
   "source": [
    "ii) $P^X(\\mathbb{R})=P(X^{-1}(\\mathbb{R})=P(\\Omega)=1$  ($\\because~X:\\Omega\\to\\mathbb{R}\\Rightarrow~X^{-1}(\\mathbb{R})=\\Omega$ and Axiom 2 for $P$)    \n",
    "$\\therefore$ Axiom 2 for $P^X$ <span style=\"color:green\">✓</span>"
   ]
  },
  {
   "cell_type": "markdown",
   "metadata": {},
   "source": [
    "iii) Let $B_1,B_2,...,B_n,...$ are mutually exclusive events in $\\mathscr{B}$  <br><br>\n",
    "$P^X(\\bigcup_{i=1}^{\\infty}B_i)=P(X^{-1}(\\bigcup_{i=1}^{\\infty}B_i))$<br><br>\n",
    "&nbsp; &nbsp; &nbsp; &nbsp; &nbsp; &nbsp; &nbsp; &nbsp; &nbsp; &nbsp; &nbsp; &nbsp;&nbsp;$=P(\\bigcup_{i=1}^{\\infty}X^{-1}(B_i))$<br>  \n",
    "&nbsp; &nbsp; &nbsp; &nbsp; &nbsp; &nbsp; &nbsp; &nbsp; &nbsp; &nbsp; &nbsp; &nbsp;&nbsp;$=\\sum_{i=1}^{\\infty}P(X^{-1}(B_i))$&nbsp; ($\\because$ $X^{-1}(B_1),X^{-1}(B_2),...,X^{-1}(B_n),...$ also mutually exclusive otherwise $X$ would not be a function)"
   ]
  },
  {
   "cell_type": "markdown",
   "metadata": {},
   "source": [
    "\n",
    "&nbsp; &nbsp; &nbsp; &nbsp; &nbsp; &nbsp; &nbsp; &nbsp; &nbsp; &nbsp; &nbsp; &nbsp;&nbsp;$=\\sum_{i=1}^{\\infty}P^X(B_i)$&nbsp; ($\\because P^X(B_i)=P(X^{-1}(B_i)~\\forall i$)<br><br> \n",
    "$\\therefore$ Axiom 3 for $P^X$ <span style=\"color:green\">✓</span>"
   ]
  },
  {
   "cell_type": "markdown",
   "metadata": {},
   "source": [
    "$\\therefore P^X$ is a probability measure on $(\\mathbb{R},\\mathscr{B})$"
   ]
  },
  {
   "cell_type": "markdown",
   "metadata": {},
   "source": [
    "Hence $(\\mathbb{R},\\mathscr{B},P^X)$ is a probability space, this is called the <span style=\"color:navy\">induced probability space</span> by random variable $X$ on $(\\Omega,\\mathscr{F},P)$ and $P^X$ is called <span style=\"color:navy\">Probability distribution</span> of random variable $X$"
   ]
  },
  {
   "cell_type": "markdown",
   "metadata": {},
   "source": [
    "Now, we will shift our focus from probability space $(\\Omega,\\mathscr{F},P)$ to induced probability space $(\\mathbb{R},\\mathscr{B},P^X)$"
   ]
  },
  {
   "cell_type": "markdown",
   "metadata": {},
   "source": [
    "**Notation:** $\\mathscr{X}:=$Range($X$)"
   ]
  },
  {
   "cell_type": "markdown",
   "metadata": {},
   "source": [
    "**Theorem**:&nbsp; $P^X(B)=P^X(B\\cap \\mathscr{X})~\\forall B\\in \\mathscr{B}$ "
   ]
  },
  {
   "cell_type": "markdown",
   "metadata": {},
   "source": [
    "<span style=\"color:blue\">proof</span>: For any $B\\in\\mathscr{B}$, $B=B\\cap\\mathbb{R}$ &nbsp;($\\because B\\subseteq \\mathbb{R}$)<br><br>\n",
    "$P^X(B)=P^X(B\\cap \\mathbb{R})$  &nbsp; &nbsp; <br><br>\n",
    "&nbsp; &nbsp; &nbsp; &nbsp; &nbsp; &nbsp; &nbsp; $=P^X(B\\cap (\\mathscr{X}\\cup \\mathscr{X}^c))$<br><br>\n",
    "&nbsp; &nbsp; &nbsp; &nbsp; &nbsp; &nbsp; &nbsp; $=P^X((B\\cap\\mathscr{X})\\cup (B\\cap\\mathscr{X}^c))$<br><br>\n",
    "&nbsp; &nbsp; &nbsp; &nbsp; &nbsp; &nbsp; &nbsp; $=P(X^{-1}((B\\cap\\mathscr{X})\\cup (B\\cap\\mathscr{X}^c)))$<br><br>\n",
    "&nbsp; &nbsp; &nbsp; &nbsp; &nbsp; &nbsp; &nbsp; $=P(X^{-1}(B\\cap\\mathscr{X})\\cup X^{-1}(B\\cap\\mathscr{X}^c))$<br><br>\n",
    "&nbsp; &nbsp; &nbsp; &nbsp; &nbsp; &nbsp; &nbsp; $=P(X^{-1}(B\\cap\\mathscr{X})\\cup \\emptyset)$ &nbsp; &nbsp;($\\because X^{-1}(B\\cap\\mathscr{X}^c)=\\emptyset$)<br><br>\n",
    "&nbsp; &nbsp; &nbsp; &nbsp; &nbsp; &nbsp; &nbsp; $=P(X^{-1}(B\\cap\\mathscr{X}))=P^X(B\\cap\\mathscr{X})$"
   ]
  },
  {
   "cell_type": "markdown",
   "metadata": {},
   "source": [
    "$\\therefore P^X(B)=P^X(B\\cap \\mathscr{X})~\\forall B\\in \\mathscr{B}$ "
   ]
  },
  {
   "cell_type": "markdown",
   "metadata": {},
   "source": [
    "In our course $\\mathscr{X}$ will generally be finite/countably infinite(<span style=\"color:navy\">In this case we call $X$ as a <u>discrete random variable</u></span>) or an interval of real numbers(<span style=\"color:navy\">In this case we call $X$ as a <u>continuous random variable</u></span>)"
   ]
  },
  {
   "cell_type": "markdown",
   "metadata": {},
   "source": [
    "Let $X$ be a discrete random variable on $(\\Omega,\\mathscr{F},P)$(i.e <span style=\"color:blue\">$\\mathscr{X}$ is finite or countably infinite</span>), then for any $B\\in\\mathscr{B}$, $B\\cap \\mathscr{X}$ is also countable ($\\because B\\cap\\mathscr{X}\\subseteq \\mathscr{X}$)"
   ]
  },
  {
   "cell_type": "markdown",
   "metadata": {},
   "source": [
    "$P^X(B)=P^X(B\\cap \\mathscr{X})$<br><br>\n",
    "&nbsp; &nbsp; &nbsp; &nbsp; &nbsp; &nbsp; &nbsp;$=P^X(\\bigcup_{x\\in B\\cap\\mathscr{X}}\\{x\\})$<br><br>\n",
    "&nbsp; &nbsp; &nbsp; &nbsp; &nbsp; &nbsp; &nbsp;$=\\sum_{x\\in B\\cap\\mathscr{X}}P^X(\\{x\\})$ ($\\because$ Finite/Countable additivity)<br><br>"
   ]
  },
  {
   "cell_type": "markdown",
   "metadata": {},
   "source": [
    "$\\therefore P^X(B)=\\sum_{x\\in B\\cap \\mathscr{X}}P^X(\\{x\\})$, for $B\\in \\mathscr{B}$"
   ]
  },
  {
   "cell_type": "markdown",
   "metadata": {},
   "source": [
    "For an example of a discrete random variable, consider the random variable, consider the random experiment of rolling two fair dice, then we have $\\Omega=\\{(i,j):i,j\\in\\{1,2,3,4,5,6\\}\\}$"
   ]
  },
  {
   "cell_type": "markdown",
   "metadata": {},
   "source": [
    "Let $(\\Omega,\\mathscr{F},P)$ be a probability space, where $\\mathscr{F}=\\mathscr{P}(\\Omega)$ and $P(A)=\\frac{|A|}{|\\Omega|}$ for $A\\in\\mathscr{F}$"
   ]
  },
  {
   "cell_type": "markdown",
   "metadata": {},
   "source": [
    "define $X:\\Omega\\to\\mathbb{R}$ with mapping $(i,j)\\mapsto i+j$, then $\\mathscr{X}=\\{2,3,...,12\\}\\subset \\mathbb{R}$"
   ]
  },
  {
   "cell_type": "markdown",
   "metadata": {},
   "source": [
    "for $B\\in\\mathscr{B},~ P^X(B)=\\sum_{x\\in B\\cap \\mathscr{X}}P^X(\\{x\\})$"
   ]
  },
  {
   "cell_type": "markdown",
   "metadata": {},
   "source": [
    "$P^X(\\{2\\})=P(X^{-1}({2}))=P(\\{(1,1)\\})=\\frac{1}{36}$"
   ]
  },
  {
   "cell_type": "markdown",
   "metadata": {},
   "source": [
    "$P^X(\\{3\\})=P(X^{-1}({3}))=P(\\{(1,2),(2,1)\\})=\\frac{2}{36}$"
   ]
  },
  {
   "cell_type": "markdown",
   "metadata": {},
   "source": [
    "$P^X([1,3])=P^X([1,3]\\cap\\mathscr{X})=P^X(\\{2,3\\})=P^X(\\{2\\})+P^X(\\{3\\})=\\frac{1}{36}+\\frac{2}{36}=\\frac{1}{12}$"
   ]
  },
  {
   "cell_type": "markdown",
   "metadata": {},
   "source": [
    "<table>\n",
    "    <tr>\n",
    "     <th>    <span style=\"color:blue\">$x$</span></th>\n",
    "        <th>2</th>\n",
    "        <th>3</th>\n",
    "         <th>4</th>\n",
    "        <th>5</th>\n",
    "         <th>6</th>\n",
    "        <th>7</th>\n",
    "         <th>8</th>\n",
    "        <th>9</th>\n",
    "         <th>10</th>\n",
    "         <th>11</th>\n",
    "        <th>12</th>\n",
    "    </tr>\n",
    "     <tr>\n",
    "         <td><span style=\"color:blue\">$P^X(\\{x\\})$</span></td>\n",
    "        <td>$\\frac{1}{36}$</td>\n",
    "        <td>$\\frac{2}{36}$</td>\n",
    "        <td>$\\frac{3}{36}$</td>\n",
    "        <td>$\\frac{4}{36}$</td>\n",
    "         <td>$\\frac{5}{36}$</td>\n",
    "        <td>$\\frac{6}{36}$</td>\n",
    "        <td>$\\frac{5}{36}$</td>\n",
    "        <td>$\\frac{4}{36}$</td>\n",
    "         <td>$\\frac{3}{36}$</td>\n",
    "        <td>$\\frac{3}{36}$</td>\n",
    "        <td>$\\frac{1}{36}$</td>\n",
    "    </tr>\n",
    "\n",
    "</table>"
   ]
  },
  {
   "cell_type": "markdown",
   "metadata": {},
   "source": [
    "For an example of continuous random variable, consider a random experiment of picking a real number at random from interval $[0,1]$"
   ]
  },
  {
   "cell_type": "markdown",
   "metadata": {},
   "source": [
    "Sample space $\\Omega=[0,1]$"
   ]
  },
  {
   "cell_type": "markdown",
   "metadata": {},
   "source": [
    "$X:\\Omega \\to \\mathbb{R}$ with mapping $x \\mapsto x$, then $\\mathscr{X}=[0,1]$"
   ]
  },
  {
   "cell_type": "markdown",
   "metadata": {},
   "source": [
    "It is not obvious as it was in the last example that what $P^X$ is, but we can assign probabilities to certain events in $\\mathscr{B}$ intuitively as we are picking numbers at random,   \n",
    "for $(a,b]\\in\\mathscr{B}$, $0\\le a<b\\le 1$"
   ]
  },
  {
   "cell_type": "markdown",
   "metadata": {},
   "source": [
    "the probability that we pick number from interval $(a,b]$ should be proportional to length of $(a,b]$ and $P(X\\in[0,1])=1=$length of $[0,1]$"
   ]
  },
  {
   "cell_type": "markdown",
   "metadata": {},
   "source": [
    "$P^X((a,b])=b-a$"
   ]
  },
  {
   "cell_type": "markdown",
   "metadata": {},
   "source": [
    "It can be shown in more advanced course on Probability theory that $P^X$ will be completely determined on $\\mathscr{B}$, once we know $P^X$ values on intervals of the from $(a,b]$($\\because \\mathscr{B}$ is generated by $\\mathscr{I}=\\{(a,b]:a,b\\in\\mathbb{R},a<b\\}$)"
   ]
  },
  {
   "cell_type": "markdown",
   "metadata": {},
   "source": [
    "And we also know that $\\mathscr{B}$ can be generated by $\\mathscr{J}=\\{(-\\infty,x]:x\\in\\mathbb{R}\\}$. So, $P^X$ values on $(-\\infty,x]$, for $x\\in\\mathbb{R}$, uniquely determine $P^X$ on $\\mathscr{B}$. This defines a very important function called <span style=\"color:navy\">Cumulative distribution function($CDF$)</span> of $X$"
   ]
  },
  {
   "cell_type": "markdown",
   "metadata": {},
   "source": [
    "**Definition:**(Cumulative distribution function)   \n",
    "Let $X$ be a random variable defined on $(\\Omega,\\mathscr{F},P)$, then the function $F_X:\\mathbb{R}\\to\\mathbb{R}$,<br>\n",
    "defined by, $F_X(x)=P^X(-\\infty,x]$$=$<span style=\"color:magenta\">$P(X\\le x)$</span>$=$<span style=\"color:purple\">$P(\\{\\omega\\in\\Omega:X(\\omega)\\le x\\})$</span>   \n",
    "is called <span style=\"color:navy\">Cumulative distribution function($CDF$)</span> of $X$"
   ]
  },
  {
   "cell_type": "markdown",
   "metadata": {},
   "source": [
    "We are not so good with dealing with set functions(like <span style=\"color:navy\">$P^X$</span>), but we are good with dealing with functions of real variable(like <span style=\"color:navy\">$F_X$</span>)<span style=\"color:green\"> thanks to Calculus</span>."
   ]
  },
  {
   "cell_type": "markdown",
   "metadata": {},
   "source": [
    "To study probability distribution $P^X$ of $X$, it is suffices to study the $CDF$ $F_X$ of $X$, as $P^X$ is completely determined by values of $F_X$"
   ]
  }
 ],
 "metadata": {
  "hide_input": false,
  "kernelspec": {
   "display_name": "Python 3 (ipykernel)",
   "language": "python",
   "name": "python3"
  },
  "language_info": {
   "codemirror_mode": {
    "name": "ipython",
    "version": 3
   },
   "file_extension": ".py",
   "mimetype": "text/x-python",
   "name": "python",
   "nbconvert_exporter": "python",
   "pygments_lexer": "ipython3",
   "version": "3.10.0"
  }
 },
 "nbformat": 4,
 "nbformat_minor": 4
}
