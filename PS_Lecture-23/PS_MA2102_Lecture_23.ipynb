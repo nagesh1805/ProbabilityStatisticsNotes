{
 "cells": [
  {
   "cell_type": "markdown",
   "metadata": {},
   "source": [
    "<h2 style=\"text-align:center\"> MA2102</h2>\n",
    "<h1 style=\"text-align:center\"> Probability and Statistics</h1>\n",
    "<h4 style=\"text-align:center\"> Lecture-23</h4>"
   ]
  },
  {
   "cell_type": "markdown",
   "metadata": {},
   "source": [
    "## Bivariate Normal Distributions:"
   ]
  },
  {
   "cell_type": "markdown",
   "metadata": {},
   "source": [
    "A continuous bivariate random variable $(X,Y)$ is said to have <b>Bivariate Normal</b> distribution with parameters $\\mu_1,\\mu_2,\\sigma_1^2,\\sigma_2^2$, and $\\rho$ "
   ]
  },
  {
   "cell_type": "markdown",
   "metadata": {},
   "source": [
    "if it's $JPDF$ is given by, $f_{X,Y}(x,y)=\\frac{1}{2\\pi\\sigma_1\\sigma_2\\sqrt{1-\\rho^2}}e^{{-\\frac{1}{2(1-\\rho^2)}}\\left[\\left(\\frac{x-\\mu_1}{\\sigma_1}\\right)^2+\\left(\\frac{y-\\mu_2}{\\sigma_2}\\right)^2-2\\rho\\left(\\frac{x-\\mu_1}{\\sigma_1}\\right)\\left(\\frac{y-\\mu_2}{\\sigma_2}\\right)\\right]}$<br><br>\n",
    "&nbsp; &nbsp; &nbsp; &nbsp; &nbsp; &nbsp; &nbsp; &nbsp; &nbsp; &nbsp; &nbsp; &nbsp; &nbsp; &nbsp; &nbsp; &nbsp; &nbsp; &nbsp; &nbsp; &nbsp; &nbsp; &nbsp; &nbsp; &nbsp; &nbsp; &nbsp; &nbsp; &nbsp; &nbsp; &nbsp; &nbsp; &nbsp; &nbsp; &nbsp; &nbsp; &nbsp; &nbsp; &nbsp; &nbsp; &nbsp; &nbsp; &nbsp;$x,y,\\mu_1,\\mu_2\\in\\mathbb{R}$, $\\sigma_1,\\sigma_2>0$,$-1<\\rho<1$"
   ]
  },
  {
   "cell_type": "code",
   "execution_count": 2,
   "metadata": {
    "hide_input": false
   },
   "outputs": [],
   "source": [
    "import numpy as np\n",
    "import matplotlib.pyplot as plt\n",
    "from scipy.stats import multivariate_normal\n",
    "from mpl_toolkits.mplot3d import Axes3D\n",
    "import ipyvolume as ipv\n",
    "from matplotlib import cm\n",
    "from ipywidgets import interact ,interactive, fixed, interact_manual\n",
    "import ipywidgets as widgets\n",
    "%matplotlib inline\n",
    "\n",
    "def BVN1(mu1,mu2,s1,s2,r): # Interactive 3D surface plot using ipyvolume\n",
    "    \n",
    "    #Create grid and Bivariate normal\n",
    "    \n",
    "    x = np.linspace(-10,10,100)\n",
    "    y = np.linspace(-10,10,100)\n",
    "    X, Y = np.meshgrid(x,y)\n",
    "    # Z=f(X,Y)\n",
    "    Z=(1/(2*np.pi*s1*s2*np.sqrt(1-r**2)))*(np.exp((-1/(2*(1-r**2)))*( ((X-mu1)/s1)**2 + ((Y-mu2)/s2)**2  -2*r* ((X-mu1)/s1)*((Y-mu2)/s2))))\n",
    "    colormap = cm.coolwarm\n",
    "    znorm = Z - Z.min()\n",
    "    znorm /= znorm.ptp()\n",
    "    znorm.min(), znorm.max()\n",
    "    color = colormap(znorm)\n",
    "    #Make a 3D plot\n",
    "    ipv.figure()\n",
    "    ipv.pylab.plot_surface(X,Y,Z,color=color[...,:3])\n",
    "    #ipv.plot_wireframe(X, Z, Y, color=\"red\")\n",
    "    ipv.pylab.zlim(0,Z.max())\n",
    "    #ipv.pylab.style.box_off()\n",
    "    ipv.show()\n",
    "\n",
    "\n",
    "\n",
    "def BVN2(mu1,mu2,s1,s2,r):  #  3D surface plot using matplotlib\n",
    "    #Create grid and multivariate normal\n",
    "    x = np.linspace(-10,10,500)\n",
    "    y = np.linspace(-10,10,500)\n",
    "    X, Y = np.meshgrid(x,y)\n",
    "    pos = np.empty(X.shape + (2,))\n",
    "    pos[:, :, 0] = X; pos[:, :, 1] = Y\n",
    "    brv = multivariate_normal([mu1, mu2], [[s1**2, r*s1*s2], [r*s1*s2, s2**2]])\n",
    "\n",
    "    #Make a 3D plot\n",
    "    fig= plt.figure(figsize=(10,10))\n",
    "   # ax = fig.add_subplot(1,1,1,projection='3d')\n",
    "    ax = fig.gca(projection='3d')\n",
    "    ax.plot_surface(X, Y, brv.pdf(pos),cmap='viridis',linewidth=0)\n",
    "    ax.set_xlabel('X axis')\n",
    "    ax.set_ylabel('Y axis')\n",
    "    ax.set_zlabel('Z axis')\n",
    "    ax.set_xlim(-10,10)\n",
    "    ax.set_ylim(-10,10)\n",
    "    plt.show()\n",
    "\n",
    "mu_1=widgets.FloatSlider(min=-3, max=3, step=0.5, value=0,description=r'$\\mu_1$ :')\n",
    "mu_2=widgets.FloatSlider(min=-3, max=3, step=0.5, value=0,description=r'$\\mu_2$ :')\n",
    "s_1=widgets.FloatSlider(min=0, max=3, step=0.5, value=1,description=r'$\\sigma_1$ :')\n",
    "s_2=widgets.FloatSlider(min=0, max=3, step=0.5, value=1,description=r'$\\sigma_2$ :')\n",
    "r=widgets.FloatSlider(min=-1, max=1, step=0.1, value=0,description=r'$\\rho$ :')\n",
    "\n",
    "\n"
   ]
  },
  {
   "cell_type": "code",
   "execution_count": 3,
   "metadata": {},
   "outputs": [
    {
     "data": {
      "application/vnd.jupyter.widget-view+json": {
       "model_id": "ee90a4576add48d9b1fff1b1645989de",
       "version_major": 2,
       "version_minor": 0
      },
      "text/plain": [
       "interactive(children=(FloatSlider(value=0.0, description='$\\\\mu_1$ :', max=3.0, min=-3.0, step=0.5), FloatSlid…"
      ]
     },
     "metadata": {},
     "output_type": "display_data"
    }
   ],
   "source": [
    "interactive(BVN2,mu1=mu_1,mu2=mu_2,s1=s_1,s2=s_2,r=r)"
   ]
  },
  {
   "cell_type": "code",
   "execution_count": 4,
   "metadata": {},
   "outputs": [
    {
     "data": {
      "application/vnd.jupyter.widget-view+json": {
       "model_id": "947fe9fe482f4ee8b72977409f679901",
       "version_major": 2,
       "version_minor": 0
      },
      "text/plain": [
       "interactive(children=(FloatSlider(value=0.0, description='$\\\\mu_1$ :', max=3.0, min=-3.0, step=0.5), FloatSlid…"
      ]
     },
     "metadata": {},
     "output_type": "display_data"
    }
   ],
   "source": [
    "## you have to install ipyvolume: pip install ipyvolume\n",
    "interactive(BVN1,mu1=mu_1,mu2=mu_2,s1=s_1,s2=s_2,r=r)\n"
   ]
  },
  {
   "cell_type": "markdown",
   "metadata": {},
   "source": [
    "**Notation:** $(X,Y)\\sim BVN(\\mu_1,\\mu_2,\\sigma_1^2,\\sigma_2^2,\\rho)$"
   ]
  },
  {
   "cell_type": "markdown",
   "metadata": {},
   "source": [
    "$f_{X,Y}(x,y)=\\frac{1}{2\\pi\\sigma_1\\sigma_2\\sqrt{1-\\rho^2}}e^{{-\\frac{1}{2(1-\\rho^2)}}\\left[\\left(\\frac{x-\\mu_1}{\\sigma_1}\\right)^2+\\rho^2\\left(\\frac{y-\\mu_2}{\\sigma_2}\\right)^2-2\\rho\\left(\\frac{x-\\mu_1}{\\sigma_1}\\right)\\left(\\frac{y-\\mu_2}{\\sigma_2}\\right) + (1-\\rho^2)\\left(\\frac{y-\\mu_2}{\\sigma_2}\\right)^2\\right]}$"
   ]
  },
  {
   "cell_type": "markdown",
   "metadata": {},
   "source": [
    "&nbsp; &nbsp; &nbsp; &nbsp; &nbsp; &nbsp; &nbsp; &nbsp; &nbsp; &nbsp; $=\\frac{1}{2\\pi\\sigma_1\\sigma_2\\sqrt{1-\\rho^2}}e^{{-\\frac{1}{2(1-\\rho^2)}}\\left[\\left(\\left(\\frac{x-\\mu_1}{\\sigma_1}\\right)-\\rho\\left(\\frac{y-\\mu_2}{\\sigma_2}\\right)\\right)^2 + (1-\\rho^2)\\left(\\frac{y-\\mu_2}{\\sigma_2}\\right)^2\\right]}$"
   ]
  },
  {
   "cell_type": "markdown",
   "metadata": {},
   "source": [
    "&nbsp; &nbsp; &nbsp; &nbsp; &nbsp; &nbsp; &nbsp; &nbsp; &nbsp; &nbsp; $=\\frac{1}{2\\pi\\sigma_1\\sigma_2\\sqrt{1-\\rho^2}}e^{{-\\frac{1}{2(1-\\rho^2)}}\\left[\\left(\\left(\\frac{x-\\mu_1}{\\sigma_1}\\right)-\\rho\\left(\\frac{y-\\mu_2}{\\sigma_2}\\right)\\right)^2 \\right]} e^{-\\frac{1}{2}\\left(\\frac{y-\\mu_2}{\\sigma_2}\\right)^2}$"
   ]
  },
  {
   "cell_type": "markdown",
   "metadata": {},
   "source": [
    "&nbsp; &nbsp; &nbsp; &nbsp; &nbsp; &nbsp; &nbsp; &nbsp; &nbsp; &nbsp; $=\\frac{1}{2\\pi\\sigma_1\\sigma_2\\sqrt{1-\\rho^2}}e^{{-\\frac{1}{2(1-\\rho^2)\\sigma_1^2}}\\left[\\left(\\left({x-\\mu_1}\\right)-\\rho\\sigma_1\\left(\\frac{y-\\mu_2}{\\sigma_2}\\right)\\right)^2 \\right]} e^{-\\frac{1}{2}\\left(\\frac{y-\\mu_2}{\\sigma_2}\\right)^2}$"
   ]
  },
  {
   "cell_type": "markdown",
   "metadata": {},
   "source": [
    " $f_{X,Y}(x,y)=\\frac{1}{\\sqrt{2\\pi}\\sigma_2}e^{-\\frac{1}{2}\\left(\\frac{y-\\mu_2}{\\sigma_2}\\right)^2}\\frac{1}{\\sqrt{2\\pi}\\sigma_1\\sqrt{1-\\rho^2}}e^{{-\\frac{1}{2(1-\\rho^2)\\sigma_1^2}}\\left[\\left({x-(\\mu_1}+\\rho\\frac{\\sigma_1}{\\sigma_2}\\left({y-\\mu_2}\\right)\\right)^2 \\right]} $&nbsp; &nbsp; ----------<b>(1)</b>"
   ]
  },
  {
   "cell_type": "markdown",
   "metadata": {},
   "source": [
    "similarly we can also express $JPDF$ $f_{X,Y}(x,y)$ as follows"
   ]
  },
  {
   "cell_type": "markdown",
   "metadata": {},
   "source": [
    " $f_{X,Y}(x,y)=\\frac{1}{\\sqrt{2\\pi}\\sigma_1}e^{-\\frac{1}{2}\\left(\\frac{x-\\mu_1}{\\sigma_1}\\right)^2}\\frac{1}{\\sqrt{2\\pi}\\sigma_2\\sqrt{1-\\rho^2}}e^{{-\\frac{1}{2(1-\\rho^2)\\sigma_2^2}}\\left[\\left({y-(\\mu_2}+\\rho\\frac{\\sigma_2}{\\sigma_1}\\left({x-\\mu_1}\\right)\\right)^2 \\right]} $ &nbsp; &nbsp; ----------<b>(2)</b>"
   ]
  },
  {
   "cell_type": "markdown",
   "metadata": {},
   "source": [
    "## Marginal PDF's of (X,Y)"
   ]
  },
  {
   "cell_type": "markdown",
   "metadata": {},
   "source": [
    "$f_X(x)=\\int_{-\\infty}^{\\infty}f_{X,Y}(x,y)dy$"
   ]
  },
  {
   "cell_type": "markdown",
   "metadata": {},
   "source": [
    "&nbsp; &nbsp; &nbsp; &nbsp; &nbsp; &nbsp; $=\\int_{-\\infty}^{\\infty}\\frac{1}{\\sqrt{2\\pi}\\sigma_1}e^{-\\frac{1}{2}\\left(\\frac{x-\\mu_1}{\\sigma_1}\\right)^2}\\frac{1}{\\sqrt{2\\pi}\\sigma_2\\sqrt{1-\\rho^2}}e^{{-\\frac{1}{2(1-\\rho^2)\\sigma_2^2}}\\left[\\left({y-(\\mu_2}+\\rho\\frac{\\sigma_2}{\\sigma_1}\\left({x-\\mu_1}\\right)\\right)^2 \\right]}dy$ &nbsp; &nbsp; ($\\because$ (2))"
   ]
  },
  {
   "cell_type": "markdown",
   "metadata": {},
   "source": [
    "&nbsp; &nbsp; &nbsp; &nbsp; &nbsp; &nbsp; $=\\frac{1}{\\sqrt{2\\pi}\\sigma_1}e^{-\\frac{1}{2}\\left(\\frac{x-\\mu_1}{\\sigma_1}\\right)^2}\\int_{-\\infty}^{\\infty}\\frac{1}{\\sqrt{2\\pi}\\sigma_2\\sqrt{1-\\rho^2}}e^{{-\\frac{1}{2(1-\\rho^2)\\sigma_2^2}}\\left[\\left({y-(\\mu_2}+\\rho\\frac{\\sigma_2}{\\sigma_1}\\left({x-\\mu_1}\\right)\\right)^2 \\right]}dy$ "
   ]
  },
  {
   "cell_type": "markdown",
   "metadata": {},
   "source": [
    "&nbsp; &nbsp; &nbsp; &nbsp; &nbsp; &nbsp; $=\\frac{1}{\\sqrt{2\\pi}\\sigma_1}e^{-\\frac{1}{2}\\left(\\frac{x-\\mu_1}{\\sigma_1}\\right)^2}\\times 1$ &nbsp;&nbsp; $\\left(\\because~\\frac{1}{\\sqrt{2\\pi}\\sigma_2\\sqrt{1-\\rho^2}}e^{{-\\frac{1}{2(1-\\rho^2)\\sigma_2^2}}\\left[\\left({y-(\\mu_2}+\\rho\\frac{\\sigma_2}{\\sigma_1}\\left({x-\\mu_1}\\right)\\right)^2 \\right]}\\text{ is } PDF \\text{ of } N\\left(\\mu_2+\\rho\\frac{\\sigma_2}{\\sigma_1}(z-\\mu_1),(1-\\rho^2)\\sigma_2^2\\right)\\right)$"
   ]
  },
  {
   "cell_type": "markdown",
   "metadata": {},
   "source": [
    "$f_X(x)=\\frac{1}{\\sqrt{2\\pi}\\sigma_1}e^{-\\frac{1}{2}\\left(\\frac{x-\\mu_1}{\\sigma_1}\\right)^2}$"
   ]
  },
  {
   "cell_type": "markdown",
   "metadata": {},
   "source": [
    "$\\therefore~X\\sim N(\\mu_1,\\sigma_1^2)$"
   ]
  },
  {
   "cell_type": "markdown",
   "metadata": {},
   "source": [
    "similarly we can show that(from (1)) that $f_Y(y)=\\frac{1}{\\sqrt{2\\pi}\\sigma_2}e^{-\\frac{1}{2}\\left(\\frac{y-\\mu_2}{\\sigma_2}\\right)^2}$"
   ]
  },
  {
   "cell_type": "markdown",
   "metadata": {},
   "source": [
    "$\\therefore~Y\\sim N(\\mu_2,\\sigma_2^2)$"
   ]
  },
  {
   "cell_type": "markdown",
   "metadata": {},
   "source": [
    "## Conditional PDF's of (X,Y)"
   ]
  },
  {
   "cell_type": "markdown",
   "metadata": {},
   "source": [
    "$f_{X/Y}(x/y)=\\frac{f_{X,Y}(x,y)}{f_Y(y)}=\\frac{\\frac{1}{\\sqrt{2\\pi}\\sigma_2}e^{-\\frac{1}{2}\\left(\\frac{y-\\mu_2}{\\sigma_2}\\right)^2}\\frac{1}{\\sqrt{2\\pi}\\sigma_1\\sqrt{1-\\rho^2}}e^{{-\\frac{1}{2(1-\\rho^2)\\sigma_1^2}}\\left[\\left({x-(\\mu_1}+\\rho\\frac{\\sigma_1}{\\sigma_2}\\left({y-\\mu_2}\\right)\\right)^2 \\right]}}{\\frac{1}{\\sqrt{2\\pi}\\sigma_2}e^{-\\frac{1}{2}\\left(\\frac{y-\\mu_2}{\\sigma_2}\\right)^2}}$&nbsp; &nbsp; ($\\because$(1))"
   ]
  },
  {
   "cell_type": "markdown",
   "metadata": {},
   "source": [
    "$\\therefore~f_{X/Y}(x/y)=\\frac{1}{\\sqrt{2\\pi}\\sigma_1\\sqrt{1-\\rho^2}}e^{{-\\frac{1}{2(1-\\rho^2)\\sigma_1^2}}\\left[\\left({x-(\\mu_1}+\\rho\\frac{\\sigma_1}{\\sigma_2}\\left({y-\\mu_2}\\right)\\right)^2 \\right]}$"
   ]
  },
  {
   "cell_type": "markdown",
   "metadata": {},
   "source": [
    "Hence $X/Y=y\\sim N\\left(\\mu_1+\\rho\\frac{\\sigma_1}{\\sigma_2}(y-\\mu_2),\\sigma_1^2(1-\\rho^2)\\right)$"
   ]
  },
  {
   "cell_type": "markdown",
   "metadata": {},
   "source": [
    "similarly $Y/X=x\\sim N\\left(\\mu_2+\\rho\\frac{\\sigma_2}{\\sigma_1}(x-\\mu_1),\\sigma_2^2(1-\\rho^2)\\right)$"
   ]
  },
  {
   "cell_type": "markdown",
   "metadata": {},
   "source": [
    "**Theorem:** If $(X,Y)\\sim BVN(\\mu_1,\\mu_2,\\sigma_1^2,\\sigma_2^2,\\rho)$, then marginal, and conditional distributions of $X,Y,X/Y$ and $Y/X$ are all univariate normal and conversely if the marginal and conditional distributions are univariate normal then Joint distributions will be bivariate normal."
   ]
  },
  {
   "cell_type": "markdown",
   "metadata": {},
   "source": [
    "**Note:**"
   ]
  },
  {
   "cell_type": "markdown",
   "metadata": {},
   "source": [
    "1. If $(X,Y)\\sim BVN(\\mu_1,\\mu_2,\\sigma_1^2,\\sigma_2^2,\\rho)$, then we have $E(X)=\\mu_1$, $E(Y)=\\mu_2$, $Var(X)=\\sigma_1^2$, and $Var(Y)=\\sigma_2^2$<br><br>&nbsp;($\\because~X\\sim N(\\mu_1,\\sigma_1^2),\\text{and } Y\\sim N(\\mu_2,\\sigma_2^2)$)"
   ]
  },
  {
   "cell_type": "markdown",
   "metadata": {},
   "source": [
    "now, $Cov(X,Y)=E((X-\\mu_1)(Y-\\mu_2))$"
   ]
  },
  {
   "cell_type": "markdown",
   "metadata": {},
   "source": [
    "&nbsp; &nbsp; &nbsp; &nbsp; &nbsp; &nbsp; &nbsp; &nbsp; &nbsp; &nbsp; &nbsp; &nbsp; &nbsp; &nbsp; &nbsp; \n",
    "$=E(E((X-\\mu_1)(Y-\\mu_2))/X)$&nbsp; &nbsp; &nbsp;($\\because~E(g(X,Y))=E(E(g(X,Y))/X)$)"
   ]
  },
  {
   "cell_type": "markdown",
   "metadata": {},
   "source": [
    "&nbsp; &nbsp; &nbsp; &nbsp; &nbsp; &nbsp; &nbsp; &nbsp; &nbsp; &nbsp; &nbsp; &nbsp; &nbsp; &nbsp; &nbsp; \n",
    "$=E((X-\\mu_1)(E(Y-\\mu_2)/X))$"
   ]
  },
  {
   "cell_type": "markdown",
   "metadata": {},
   "source": [
    "&nbsp; &nbsp; &nbsp; &nbsp; &nbsp; &nbsp; &nbsp; &nbsp; &nbsp; &nbsp; &nbsp; &nbsp; &nbsp; &nbsp; &nbsp; \n",
    "$=E((X-\\mu_1)\\rho\\frac{\\sigma_2}{\\sigma_1}(X-\\mu_1))$ &nbsp; &nbsp; ($\\because~Y/X\\sim N\\left(\\mu_2+\\rho\\frac{\\sigma_2}{\\sigma_1}(X-\\mu_1),\\sigma_2^2(1-\\rho^2)\\right)$)"
   ]
  },
  {
   "cell_type": "markdown",
   "metadata": {},
   "source": [
    "&nbsp; &nbsp; &nbsp; &nbsp; &nbsp; &nbsp; &nbsp; &nbsp; &nbsp; &nbsp; &nbsp; &nbsp; &nbsp; &nbsp; &nbsp; \n",
    "$=\\rho\\frac{\\sigma_2}{\\sigma_1}E((X-\\mu_1)^2)=\\rho\\frac{\\sigma_2}{\\sigma_1}\\times \\sigma_1^2=\\rho\\sigma_1\\sigma_2$"
   ]
  },
  {
   "cell_type": "markdown",
   "metadata": {},
   "source": [
    "$\\implies \\rho=\\frac{Cov(X,Y)}{\\sigma_1\\sigma_2}=\\rho_{XY}$"
   ]
  },
  {
   "cell_type": "markdown",
   "metadata": {},
   "source": [
    "Here the parameter $\\rho$ represents the correlation coefficient between $X,Y$"
   ]
  },
  {
   "cell_type": "markdown",
   "metadata": {},
   "source": [
    "2. If $(X,Y)\\sim BVN(\\mu_1,\\mu_2,\\sigma_1^2,\\sigma_2^2,\\rho)$ and if $\\rho =0$, then $X,Y$ are independent"
   ]
  },
  {
   "cell_type": "markdown",
   "metadata": {},
   "source": [
    "*proof:* if $\\rho=0$, then"
   ]
  },
  {
   "cell_type": "markdown",
   "metadata": {},
   "source": [
    "$f_{X,Y}(x,y)=\\frac{1}{\\sqrt{2\\pi}\\sigma_1}e^{-\\frac{1}{2}\\left(\\frac{x-\\mu_1}{\\sigma_1}\\right)^2}\\frac{1}{\\sqrt{2\\pi}\\sigma_2\\sqrt{1-0^2}}e^{{-\\frac{1}{2(1-0^2)\\sigma_2^2}}\\left[\\left({y-(\\mu_2}+(0)\\frac{\\sigma_2}{\\sigma_1}\\left({x-\\mu_1}\\right)\\right)^2 \\right]}$ &nbsp; &nbsp; ($\\because$ (2))"
   ]
  },
  {
   "cell_type": "markdown",
   "metadata": {},
   "source": [
    "&nbsp; &nbsp; &nbsp; &nbsp; &nbsp; &nbsp; &nbsp; &nbsp; &nbsp; &nbsp; $=\\frac{1}{\\sqrt{2\\pi}\\sigma_1}e^{-\\frac{1}{2}\\left(\\frac{x-\\mu_1}{\\sigma_1}\\right)^2}\\times \\frac{1}{\\sqrt{2\\pi}\\sigma_2}e^{-\\frac{1}{2}\\left(\\frac{y-\\mu_2}{\\sigma_2}\\right)^2}$"
   ]
  },
  {
   "cell_type": "markdown",
   "metadata": {},
   "source": [
    "we have, $f_{X,Y}(x,y)=f_X(x)f_Y(y)$"
   ]
  },
  {
   "cell_type": "markdown",
   "metadata": {},
   "source": [
    "For general Bivariate random variable $(X,Y)$ we know that $X,Y$ independent implies $\\rho_{XY}=0$, and converse may not be true"
   ]
  },
  {
   "cell_type": "markdown",
   "metadata": {},
   "source": [
    "But for Bivariate Normal random variable $(X,Y)$, $X,Y$ independent $\\iff$ $\\rho_{XY}=0$"
   ]
  },
  {
   "cell_type": "markdown",
   "metadata": {},
   "source": [
    "**Problem:** The amount of rain fall recorded at US weather station in January, February are $X, Y$ respectively. Suppose $(X,Y)\\sim BVN(6,4,1,0.25,0.1)$, then find(i) $P(X\\le 5)$, (ii)$P(Y\\le 5/X=5)$"
   ]
  },
  {
   "cell_type": "markdown",
   "metadata": {},
   "source": [
    "*solution:* Here $(X,Y)\\sim BVN(6,4,1,0.25,0.1)$"
   ]
  },
  {
   "cell_type": "markdown",
   "metadata": {},
   "source": [
    "$X\\sim N(6,1)$, and $Y/X=5 \\sim N\\left(4+(0.1)\\frac{0.5}{1}(5-6),(0.25)(1-(0.1)^2)\\right)\\implies Y/X=5 \\sim N(3.975,0.2475)$"
   ]
  },
  {
   "cell_type": "markdown",
   "metadata": {},
   "source": [
    "(i) $P(X\\le 5)=F_X(5)=\\Phi\\left(\\frac{5-6}{1}\\right)=\\Phi(-1)=1-\\Phi(1)$ &nbsp; ($\\because X\\sim N(6,1)\\implies F_X(x)=\\Phi\\left(\\frac{x-6}{1}\\right)$)"
   ]
  },
  {
   "cell_type": "markdown",
   "metadata": {},
   "source": [
    "&nbsp; &nbsp; &nbsp; &nbsp;&nbsp; &nbsp; &nbsp;&nbsp; &nbsp; &nbsp; &nbsp; &nbsp; &nbsp;$=1-0.8413=0.1587$"
   ]
  },
  {
   "cell_type": "markdown",
   "metadata": {},
   "source": [
    "(ii) $P(Y\\le 5/X=5)=F_{Y/X=5}(5)=\\Phi\\left(\\frac{5-3.975}{0.4975}\\right)$&nbsp; ($\\because Y/X=5\\sim N(3.975,0.2475)\\implies F_{Y/X=5}(x)=\\Phi\\left(\\frac{x-3.975}{0.4975\n",
    "}\\right)$)"
   ]
  },
  {
   "cell_type": "markdown",
   "metadata": {},
   "source": [
    "&nbsp; &nbsp; &nbsp; &nbsp; &nbsp; &nbsp; &nbsp; &nbsp; &nbsp; &nbsp; &nbsp; &nbsp; &nbsp; &nbsp; &nbsp; &nbsp; &nbsp; &nbsp; $=\\Phi(2.06)=0.9803$"
   ]
  },
  {
   "cell_type": "markdown",
   "metadata": {},
   "source": [
    " "
   ]
  },
  {
   "cell_type": "markdown",
   "metadata": {},
   "source": [
    "- If $(X,Y)\\sim BVN(\\mu_1,\\mu_2,\\sigma_1^2,\\sigma_2^2,\\rho)$, then"
   ]
  },
  {
   "cell_type": "markdown",
   "metadata": {},
   "source": [
    "$M_X(t)=e^{\\mu_1t+\\frac{1}{2}\\sigma_1^2t^2}$&nbsp; &nbsp; ($\\because~X\\sim N(\\mu_1,\\sigma_1^2)$)\n"
   ]
  },
  {
   "cell_type": "markdown",
   "metadata": {},
   "source": [
    "$M_Y(t)=e^{\\mu_2t+\\frac{1}{2}\\sigma_2^2t^2}$&nbsp; &nbsp; ($\\because~Y\\sim N(\\mu_2,\\sigma_2^2)$)\n"
   ]
  },
  {
   "cell_type": "markdown",
   "metadata": {},
   "source": [
    "$M_{X/Y=y}(t)=e^{\\left(\\mu_1+\\rho\\frac{\\sigma_1}{\\sigma_2}(y-\\mu_2)\\right)t+\\frac{1}{2}(1-\\rho^2)\\sigma_1^2t^2}$ &nbsp; &nbsp; ($\\because~X/Y=y\\sim N\\left(\\mu_1+\\rho\\frac{\\sigma_1}{\\sigma_2}(y-\\mu_2),\\sigma_1^2(1-\\rho^2)\\right)$)"
   ]
  },
  {
   "cell_type": "markdown",
   "metadata": {},
   "source": [
    "$M_{Y/X=x}(t)=e^{\\left(\\mu_2+\\rho\\frac{\\sigma_2}{\\sigma_1}(x-\\mu_1)\\right)t+\\frac{1}{2}(1-\\rho^2)\\sigma_2^2t^2}$ &nbsp; &nbsp; ($\\because~Y/X=x\\sim N\\left(\\mu_2+\\rho\\frac{\\sigma_2}{\\sigma_1}(x-\\mu_1),\\sigma_2^2(1-\\rho^2)\\right)$)"
   ]
  },
  {
   "cell_type": "markdown",
   "metadata": {},
   "source": [
    "$JMGF$ of $(X,Y)$ $M_{X,Y}(t_1,t_2)=E(e^{t_1X+t_2Y})$"
   ]
  },
  {
   "cell_type": "markdown",
   "metadata": {},
   "source": [
    "&nbsp; &nbsp; &nbsp; &nbsp; &nbsp; &nbsp; &nbsp; &nbsp; &nbsp; &nbsp; &nbsp; &nbsp; &nbsp; &nbsp; &nbsp; &nbsp; &nbsp; &nbsp; &nbsp; &nbsp; &nbsp; &nbsp; &nbsp; &nbsp; &nbsp; &nbsp; &nbsp; $=E(E(e^{t_1X+t_2Y}/Y))$ &nbsp; &nbsp; &nbsp;($\\because~E(g(X,Y))=E(E(g(X,Y))/Y)$)"
   ]
  },
  {
   "cell_type": "markdown",
   "metadata": {},
   "source": [
    "&nbsp; &nbsp; &nbsp; &nbsp; &nbsp; &nbsp; &nbsp; &nbsp; &nbsp; &nbsp; &nbsp; &nbsp; &nbsp; &nbsp; &nbsp; &nbsp; &nbsp; &nbsp; &nbsp; &nbsp; &nbsp; &nbsp; &nbsp; &nbsp; &nbsp; &nbsp; &nbsp; $=E(e^{t_2Y}E(e^{t_1X}/Y))$ "
   ]
  },
  {
   "cell_type": "markdown",
   "metadata": {},
   "source": [
    "&nbsp; &nbsp; &nbsp; &nbsp; &nbsp; &nbsp; &nbsp; &nbsp; &nbsp; &nbsp; &nbsp; &nbsp; &nbsp; &nbsp; &nbsp; &nbsp; &nbsp; &nbsp; &nbsp; &nbsp; &nbsp; &nbsp; &nbsp; &nbsp; &nbsp; &nbsp; &nbsp; $=E(e^{t_2Y}M_{X/Y}(t_1))$ "
   ]
  },
  {
   "cell_type": "markdown",
   "metadata": {},
   "source": [
    "&nbsp; &nbsp; &nbsp; &nbsp; &nbsp; &nbsp; &nbsp; &nbsp; &nbsp; &nbsp; &nbsp; &nbsp; &nbsp; &nbsp; &nbsp; &nbsp; &nbsp; &nbsp; &nbsp; &nbsp; &nbsp; &nbsp; &nbsp; &nbsp; &nbsp; &nbsp; &nbsp; $=E\\left(e^{t_2Y}e^{\\left(\\mu_1+\\rho\\frac{\\sigma_1}{\\sigma_2}(y-\\mu_2)\\right)t_1+\\frac{1}{2}(1-\\rho^2)\\sigma_1^2t_1^2}\\right)$ "
   ]
  },
  {
   "cell_type": "markdown",
   "metadata": {},
   "source": [
    "&nbsp; &nbsp; &nbsp; &nbsp; &nbsp; &nbsp; &nbsp; &nbsp; &nbsp; &nbsp; &nbsp; &nbsp; &nbsp; &nbsp; &nbsp; &nbsp; &nbsp; &nbsp; &nbsp; &nbsp; &nbsp; &nbsp; &nbsp; &nbsp; &nbsp; &nbsp; &nbsp; $=e^{\\mu_1t_1-\\rho\\frac{\\sigma_1}{\\sigma_2}\\mu_2t_1+\\frac{1}{2}(1-\\rho^2)\\sigma_1^2t_1^2}E\\left(e^{\\left(t_2+\\rho\\frac{\\sigma_1}{\\sigma_2}t_1\\right)Y}\\right)$ "
   ]
  },
  {
   "cell_type": "markdown",
   "metadata": {},
   "source": [
    "&nbsp; &nbsp; &nbsp; &nbsp; &nbsp; &nbsp; &nbsp; &nbsp; &nbsp; &nbsp; &nbsp; &nbsp; &nbsp; &nbsp; &nbsp; &nbsp; &nbsp; &nbsp; &nbsp; &nbsp; &nbsp; &nbsp; &nbsp; &nbsp; &nbsp; &nbsp; &nbsp; $=e^{\\mu_1t_1-\\rho\\frac{\\sigma_1}{\\sigma_2}\\mu_2t_1+\\frac{1}{2}(1-\\rho^2)\\sigma_1^2t_1^2}M_Y\\left((t_2+\\rho\\frac{\\sigma_1}{\\sigma_2}t_1\\right)$ "
   ]
  },
  {
   "cell_type": "markdown",
   "metadata": {},
   "source": [
    "&nbsp; &nbsp; &nbsp; &nbsp; &nbsp; &nbsp; &nbsp; &nbsp; &nbsp; &nbsp; &nbsp; &nbsp; &nbsp; &nbsp; &nbsp; &nbsp; &nbsp; &nbsp; &nbsp; &nbsp; &nbsp; &nbsp; &nbsp; &nbsp; &nbsp; &nbsp; &nbsp; $=e^{\\mu_1t_1-\\rho\\frac{\\sigma_1}{\\sigma_2}\\mu_2t_1+\\frac{1}{2}(1-\\rho^2)\\sigma_1^2t_1^2}\\times e^{\\mu_2\\left(t_2+\\rho\\frac{\\sigma_1}{\\sigma_2}t_1\\right)+\\frac{1}{2}\\sigma_2^2\\left(t_2+\\rho\\frac{\\sigma_1}{\\sigma_2}t_1\\right)^2}$ "
   ]
  },
  {
   "cell_type": "markdown",
   "metadata": {},
   "source": [
    "&nbsp; &nbsp; &nbsp; &nbsp; &nbsp; &nbsp; &nbsp; &nbsp; &nbsp; &nbsp; &nbsp; &nbsp; &nbsp; &nbsp; &nbsp; &nbsp; &nbsp; &nbsp; &nbsp; &nbsp; &nbsp; &nbsp; &nbsp; &nbsp; &nbsp; &nbsp; &nbsp; $=e^{\\mu_1t_1-\\rho\\frac{\\sigma_1}{\\sigma_2}\\mu_2t_1+\\frac{1}{2}\\sigma_1^2t_1^2-\\frac{1}{2}\\rho^2\\sigma_1^2t_1^2}\\times e^{\\mu_2t_2+\\mu_2\\rho\\frac{\\sigma_1}{\\sigma_2}t_1+\\frac{1}{2}\\sigma_2^2t_2^2+\\frac{1}{2}\\rho^2{\\sigma_1^2}t_1^2+\\rho\\sigma_1\\sigma_2 t_1t_2}$ "
   ]
  },
  {
   "cell_type": "markdown",
   "metadata": {},
   "source": [
    "$M_{X,Y}(t_1,t_2)=e^{\\mu_1t_1+\\mu_2t_2+\\frac{1}{2}\\sigma_1^2 t_1^2+\\frac{1}{2}\\sigma_2^2 t_2^2 +\\rho\\sigma_1\\sigma_2t_1 t_2}$"
   ]
  },
  {
   "cell_type": "markdown",
   "metadata": {},
   "source": [
    "we can rewrite the $JMGF$ of $(X,Y)$ as follows"
   ]
  },
  {
   "cell_type": "markdown",
   "metadata": {},
   "source": [
    "$M_{X,Y}(t_1,t_2)=e^{{\\underline{\\mu}^{T}\\underline{t}}+\\frac{1}{2}\\underline{t}^{T}\\Sigma \\underline{t}}$"
   ]
  },
  {
   "cell_type": "markdown",
   "metadata": {},
   "source": [
    "where $\\underline{\\mu}=\\begin{bmatrix}\n",
    "\\mu_1\\\\ \n",
    "\\mu_2\n",
    "\\end{bmatrix}$,&nbsp; $\\underline{t}=\\begin{bmatrix}\n",
    "t_1\\\\ \n",
    "t_2\n",
    "\\end{bmatrix}$, and $\\Sigma=\\begin{bmatrix}\n",
    " Cov(X,X)&Cov(X,Y) \\\\ \n",
    " Cov(Y,X)&Cov(Y,Y) \n",
    "\\end{bmatrix}$$=\\begin{bmatrix}\n",
    "\\sigma_1^2&\\rho\\sigma_1\\sigma_2 \\\\ \n",
    " \\rho\\sigma_1\\sigma_2&\\sigma_2^2 \n",
    "\\end{bmatrix}$"
   ]
  },
  {
   "cell_type": "markdown",
   "metadata": {},
   "source": [
    "Here $\\Sigma$ is called Covariance matrix of $(X,Y)$"
   ]
  },
  {
   "cell_type": "markdown",
   "metadata": {},
   "source": [
    "**Theorem:** $(X,Y)\\sim BVN(\\mu_1,\\mu_2,\\sigma_1^2,\\sigma_2^2,\\rho)$ $\\iff$ $aX+bY\\sim N(a\\mu_1+b\\mu_2,a^2\\sigma_1^2+b^2\\sigma_2^2+2ab\\rho\\sigma_1\\sigma_2)~\\forall a,b\\in\\mathbb{R}$"
   ]
  },
  {
   "cell_type": "markdown",
   "metadata": {},
   "source": [
    "*proof:* Let $W=aX+bY$"
   ]
  },
  {
   "cell_type": "markdown",
   "metadata": {},
   "source": [
    "$M_W(t)=E\\left(e^{tW}\\right)=E\\left(e^{t(aX+bY)}\\right)$"
   ]
  },
  {
   "cell_type": "markdown",
   "metadata": {},
   "source": [
    "&nbsp; &nbsp; &nbsp; &nbsp;&nbsp; &nbsp;&nbsp; &nbsp;$=E\\left(e^{taX+tbY}\\right)=M_{X,Y}(at,bt)=e^{\\mu_1(at)+\\mu_2(bt)+\\frac{1}{2}\\sigma_1^2a^2t^2+\\frac{1}{2}\\sigma_2^2b^2t^2+\\rho\\sigma_1\\sigma_2(at)(bt)}$"
   ]
  },
  {
   "cell_type": "markdown",
   "metadata": {},
   "source": [
    "&nbsp; &nbsp; &nbsp; &nbsp;&nbsp; &nbsp;&nbsp; &nbsp;$=e^{(a\\mu_1+b\\mu_2)t+\\frac{1}{2}(a^2\\sigma_1^2+b^2\\sigma_2^2+2ab\\rho\\sigma_1\\sigma_2)t^2}$"
   ]
  },
  {
   "cell_type": "markdown",
   "metadata": {},
   "source": [
    "Which is $MGF$ of $N(a\\mu_1+b\\mu_2,a^2\\sigma_1^2+b^2\\sigma_2^2+2ab\\rho\\sigma_1\\sigma_2)$"
   ]
  },
  {
   "cell_type": "markdown",
   "metadata": {},
   "source": [
    "By uniqueness of $M.G.F$, $W=aX+bY\\sim N(a\\mu_1+b\\mu_2,a^2\\sigma_1^2+b^2\\sigma_2^2+2ab\\rho\\sigma_1\\sigma_2)$"
   ]
  },
  {
   "cell_type": "markdown",
   "metadata": {},
   "source": [
    "conversely, suppose for $t_1,t_2\\in \\mathbb{R}$"
   ]
  },
  {
   "cell_type": "markdown",
   "metadata": {},
   "source": [
    "$t_1X+t_2Y\\sim N(t_1\\mu_1+t_2\\mu_2,t_1^2\\sigma_1^2+t_2^2\\sigma_2^2+2t_1t_2\\rho\\sigma_1\\sigma_2)$"
   ]
  },
  {
   "cell_type": "markdown",
   "metadata": {},
   "source": [
    "$\\implies M_{t_1X+t_2Y}(t)=e^{(t_1\\mu_1+t_2\\mu_2)t + \\frac{1}{2}(t_1^2\\sigma_1^2+t_2^2\\sigma_2^2+2t_1t_2\\rho\\sigma_1\\sigma_2)t^2}$"
   ]
  },
  {
   "cell_type": "markdown",
   "metadata": {},
   "source": [
    "$JMGF$ of $(X,Y)$, $M_{X,Y}(t_1,t_2)=E(e^{t_1X+t_2Y})=E(e^{(t_1X+t_2Y)(1)})$"
   ]
  },
  {
   "cell_type": "markdown",
   "metadata": {},
   "source": [
    "&nbsp;&nbsp; &nbsp;&nbsp; &nbsp;&nbsp; &nbsp;&nbsp; &nbsp;&nbsp; &nbsp; &nbsp; &nbsp; &nbsp; &nbsp;&nbsp; &nbsp;&nbsp; &nbsp;&nbsp; &nbsp;&nbsp; &nbsp; &nbsp; &nbsp; &nbsp; &nbsp;&nbsp; &nbsp;&nbsp; &nbsp;&nbsp; &nbsp;&nbsp; &nbsp;$=M_{t_1X+t_2Y}(1)=e^{(t_1\\mu_1+t_2\\mu_2)(1)+\\frac{1}{2}\\left(\\sigma_1^2t_1^2+\\sigma_2^2t_2^2+2t_1t_2\\rho\\sigma_1\\sigma_2\\right)1^2}$"
   ]
  },
  {
   "cell_type": "markdown",
   "metadata": {},
   "source": [
    "&nbsp; &nbsp; &nbsp; &nbsp; &nbsp; &nbsp; &nbsp; &nbsp; &nbsp; &nbsp;&nbsp; &nbsp; &nbsp; &nbsp;&nbsp; &nbsp; &nbsp; &nbsp;$M_{X,Y}(t_1,t_2)=e^{(t_1\\mu_1+t_2\\mu_2)+\\frac{1}{2}\\sigma_1^2t_1^2+\\frac{1}{2}\\sigma_2^2t_2^2+\\rho t_1t_2\\sigma_1\\sigma_2}$"
   ]
  },
  {
   "cell_type": "markdown",
   "metadata": {},
   "source": [
    "$\\therefore ~(X,Y)\\sim BVN(\\mu_1,\\mu_2,\\sigma_1^2,\\sigma_2^2,\\rho)$"
   ]
  },
  {
   "cell_type": "markdown",
   "metadata": {},
   "source": [
    "**Example:** Let $(X,Y)\\sim BVN(1,0,1,4,\\frac{1}{2})$, then find"
   ]
  },
  {
   "cell_type": "markdown",
   "metadata": {},
   "source": [
    "i) $P(2X+Y \\le 3)$"
   ]
  },
  {
   "cell_type": "markdown",
   "metadata": {},
   "source": [
    "ii) $Cov(X+Y,2X-Y)$"
   ]
  },
  {
   "cell_type": "markdown",
   "metadata": {},
   "source": [
    "iii) $P(Y>2/X=2)$"
   ]
  },
  {
   "cell_type": "markdown",
   "metadata": {},
   "source": [
    "$(X,Y)\\sim BVN(1,0,1,4,\\frac{1}{2})$, $\\mu_1=1,\\mu_2=0,\\sigma_1^2=1,\\sigma_2^2=4,\\rho=\\frac{1}{2}$"
   ]
  },
  {
   "cell_type": "markdown",
   "metadata": {},
   "source": [
    "*solution*: Let $W=2X+Y\\sim N\\left(2(1)+0,~2^2(1)+1^2(4)+2(2)(1)\\left(\\frac{1}{2}\\right)(1)(2)\\right)$&nbsp;($\\because$ above theorem)"
   ]
  },
  {
   "cell_type": "markdown",
   "metadata": {},
   "source": [
    "i.e $W\\sim N(2,12)\\implies F_W(x)=\\Phi\\left(\\frac{x-2}{\\sqrt{12}}\\right)$"
   ]
  },
  {
   "cell_type": "markdown",
   "metadata": {},
   "source": [
    "i) $P(W\\le 3)=F_W(3)=\\Phi\\left(\\frac{3-2}{\\sqrt{12}}\\right)=\\Phi(0.29)=0.61409$"
   ]
  },
  {
   "cell_type": "markdown",
   "metadata": {},
   "source": [
    "ii) $Cov(X,Y)=\\rho\\sigma_1\\sigma_2=\\left(\\frac{1}{2}\\right)(1)(2)=1$"
   ]
  },
  {
   "cell_type": "markdown",
   "metadata": {},
   "source": [
    "$Cov(X+Y,2X-Y)=2Cov(X,X)-Cov(X,Y)+2Cov(Y,X)-Cov(Y,Y)$"
   ]
  },
  {
   "cell_type": "markdown",
   "metadata": {},
   "source": [
    "&nbsp; &nbsp; &nbsp; &nbsp; &nbsp; &nbsp; &nbsp;&nbsp;  &nbsp; &nbsp; &nbsp; &nbsp;&nbsp; &nbsp; &nbsp; &nbsp; &nbsp; &nbsp; &nbsp; &nbsp; &nbsp;$=2Var(X)+Cov(X,Y)-Var(Y)=2(1)+1-4=-1$"
   ]
  },
  {
   "cell_type": "markdown",
   "metadata": {},
   "source": [
    "(iii) $Y/X=2\\sim N\\left((0+\\frac{1}{2}\\left(\\frac{2}{1}\\right)(2-1),4\\left(1-\\left(\\frac{1}{2}\\right)^2\\right)\\right)$"
   ]
  },
  {
   "cell_type": "markdown",
   "metadata": {},
   "source": [
    "i.e $Y/X=2\\sim N(1,3)\\implies F_{Y/X=2}(y)=\\Phi\\left(\\frac{y-1}{\\sqrt{3}}\\right)$"
   ]
  },
  {
   "cell_type": "markdown",
   "metadata": {},
   "source": [
    "$P(Y>2/X=2)=1-P(Y\\le 2/X=2)=1-F_{Y/X=2}(2)=1-\\Phi\\left(\\frac{2-1}{\\sqrt{3}}\\right)$"
   ]
  },
  {
   "cell_type": "markdown",
   "metadata": {},
   "source": [
    "&nbsp; &nbsp; &nbsp; &nbsp; &nbsp;&nbsp; &nbsp; &nbsp; &nbsp; &nbsp; &nbsp; &nbsp; &nbsp; &nbsp;&nbsp; &nbsp; &nbsp;$=1-\\Phi(\\frac{1}{\\sqrt{3}})=1-\\Phi(0.58)=1-0.7190=0.281$"
   ]
  },
  {
   "cell_type": "markdown",
   "metadata": {},
   "source": [
    "## Multivariate Normal Distribution:"
   ]
  },
  {
   "cell_type": "markdown",
   "metadata": {},
   "source": [
    "We say a $k-$dimensional random vector $\\underline{X}\\equiv(X_1,X_2,...,X_k)$ has <b>multivariate normal</b>  distribution with mean vector $\\underline{\\mu}$ and covariance matrix ${\\Sigma}$ if its $JPDF$ is given by"
   ]
  },
  {
   "cell_type": "markdown",
   "metadata": {},
   "source": [
    "$f_{\\underline{X}}(\\underline{x})=\\frac{1}{(2\\pi)^{k/2}|\\Sigma|^{1/2}}e^{-\\frac{1}{2}(\\underline{x}-\\underline{\\mu})^T\\Sigma^{-1}(\\underline{x}-\\underline{\\mu})}$, <br><br>$\\underline{x}=\\begin{bmatrix}\n",
    " x_1 \\\\ \n",
    " x_2 \\\\\n",
    " . \\\\\n",
    " . \\\\\n",
    " x_k\n",
    "\\end{bmatrix}\\in \\mathbb{R}^k$,$\\underline{\\mu}=\\begin{bmatrix}\n",
    " \\mu_1 \\\\ \n",
    " \\mu_2 \\\\\n",
    " . \\\\\n",
    " . \\\\\n",
    " \\mu_k\n",
    "\\end{bmatrix}$, and $\\Sigma=[\\sigma_{ij}]_{k\\times k}$ where $\\sigma_{ij}=Cov(X_i,X_j)$"
   ]
  },
  {
   "cell_type": "markdown",
   "metadata": {},
   "source": [
    "**Notation:** $\\underline{X}\\sim N_k(\\underline{\\mu},\\Sigma)$"
   ]
  },
  {
   "cell_type": "markdown",
   "metadata": {},
   "source": [
    "$JMGF$, $M_{\\underline{X}}(\\underline{t})=e^{~\\underline{t}^T\\underline{\\mu}+\\frac{1}{2}\\underline{t}^T \\Sigma ~\\underline{t}}$"
   ]
  },
  {
   "cell_type": "markdown",
   "metadata": {},
   "source": [
    "<h1>Order statistics</h1>"
   ]
  },
  {
   "cell_type": "markdown",
   "metadata": {},
   "source": [
    "In practice, there are observations like, marks by students, and we may be interested in ordered observations like highest marks, second highest marks etc."
   ]
  },
  {
   "cell_type": "markdown",
   "metadata": {},
   "source": [
    "In general we are interested in probability distributions of what are called <b>Order Statistics</b>"
   ]
  },
  {
   "cell_type": "markdown",
   "metadata": {},
   "source": [
    "Let $X_1,X_2,...,X_n$ are independent and identically distributed (i.i.d) continuous random variables with common $PDF$ $f(x)$ and $CDF$ $F(x)$"
   ]
  },
  {
   "cell_type": "markdown",
   "metadata": {},
   "source": [
    "Define <br><br>$X_{(1)}=$ smallest of $X_1,X_2,...,X_n$"
   ]
  },
  {
   "cell_type": "markdown",
   "metadata": {},
   "source": [
    "$X_{(2)}=$ second smallest of $X_1,X_2,...,X_n$"
   ]
  },
  {
   "cell_type": "markdown",
   "metadata": {},
   "source": [
    ".<br>.<br>."
   ]
  },
  {
   "cell_type": "markdown",
   "metadata": {},
   "source": [
    "$X_{(j)}=$ $j^{th}$ smallest of $X_1,X_2,...,X_n$"
   ]
  },
  {
   "cell_type": "markdown",
   "metadata": {},
   "source": [
    ".<br>.<br>"
   ]
  },
  {
   "cell_type": "markdown",
   "metadata": {},
   "source": [
    "$X_{(n)}=$ largest of $X_1,X_2,...,X_n$"
   ]
  },
  {
   "cell_type": "markdown",
   "metadata": {},
   "source": [
    "then $(X_{(1)},X_{(2)},...,X_{(n)})$ are called <b>Order statistics</b> of $(X_{1},X_{2},...,X_{n})$"
   ]
  },
  {
   "cell_type": "markdown",
   "metadata": {},
   "source": [
    "**Note:** $X_{(1)},X_{(2)},...,X_{(n)}$ are neither independent nor identically distributed, and $X_{(j)}$ is function of $X_{1},X_{2},...,X_{n}$ for $j=1,2,...,n$"
   ]
  },
  {
   "cell_type": "markdown",
   "metadata": {},
   "source": [
    "<h3> Probability distribution of $X_{(j)}$</h3>"
   ]
  },
  {
   "cell_type": "markdown",
   "metadata": {},
   "source": [
    "for $1\\le j\\le n$,$CDF$ of $X_{(j)}$, $F_{X_{(j)}}(x)=P(X_{(j)}\\le x)=P( \\text{$j$ or more $X_i$'s are $\\le x$})$"
   ]
  },
  {
   "cell_type": "markdown",
   "metadata": {},
   "source": [
    "Let $S=\\text{number of $X_i$'s that are $\\le x$ among $X_1,X_2,...,X_n$}$"
   ]
  },
  {
   "cell_type": "markdown",
   "metadata": {},
   "source": [
    "$S\\sim Bin(n,F(x))$ &nbsp; &nbsp; ($\\because$ success: $X_i\\le x$ ; failure:$X_i> x$, and $P(\\text{success})=P(X_i\\le x)=F(x)$"
   ]
  },
  {
   "cell_type": "markdown",
   "metadata": {},
   "source": [
    "$\\therefore F_{X_{(j)}}(x)=P(S\\ge j)=\\sum_{k=j}^{n}P(S=k)$"
   ]
  },
  {
   "cell_type": "markdown",
   "metadata": {},
   "source": [
    "$F_{X_{(j)}}(x)=\\sum_{k=j}^{n}\\binom{n}{k}(F(x))^k(1-F(x))^{n-k}$"
   ]
  },
  {
   "cell_type": "markdown",
   "metadata": {},
   "source": [
    "$F_{X_{(j)}}(x)=\\sum_{k=j}^{n-1}\\binom{n}{k}(F(x))^k(1-F(x))^{n-k}+(F(x))^n$"
   ]
  },
  {
   "cell_type": "markdown",
   "metadata": {},
   "source": [
    "$PDF$ of $X_{(j)}$, $f_{(X_{(j)})}(x)=\\frac{d}{dx}F_{X_{(j)}}(x)$"
   ]
  },
  {
   "cell_type": "markdown",
   "metadata": {},
   "source": [
    "$f_{(X_{(j)})}(x)=\\frac{d}{dx}\\left[\\sum_{k=j}^{n-1}\\binom{n}{k}(F(x))^k(1-F(x))^{n-k}+(F(x))^n\\right]$"
   ]
  },
  {
   "cell_type": "markdown",
   "metadata": {},
   "source": [
    "$=\\sum_{k=j}^{n-1}\\frac{n!}{k!(n-k)!}\\left[k(F(x))^{k-1}f(x)(1-F(x))^{n-k}+{(F(x))}^k{(n-k)}(1-F(x))^{n-k-1}(0-f(x))\\right]+n(F(x))^{n-1}f(x)$"
   ]
  },
  {
   "cell_type": "markdown",
   "metadata": {},
   "source": [
    "$=\\sum_{k=j}^{n-1}\\frac{n!}{(k-1)!(n-k)!}(F(x))^{k-1}f(x)(1-F(x))^{n-k}-\\sum_{k=j}^{n-1}\\frac{n!}{k!(n-k-1)!}{(F(x))}^k(1-F(x))^{n-k-1}f(x)+n(F(x))^{n-1}f(x)$"
   ]
  },
  {
   "cell_type": "markdown",
   "metadata": {},
   "source": [
    "$f_{X_{(j)}}(x)=\\frac{n!}{(j-1)!(n-j)!}(F(x))^{j-1}(1-F(x))^{n-j}f(x)$ &nbsp;&nbsp; ($\\because$ all terms gets canceled in the above sum except one ) for $j=1,2,...,n$"
   ]
  },
  {
   "cell_type": "markdown",
   "metadata": {},
   "source": [
    "In particular,"
   ]
  },
  {
   "cell_type": "markdown",
   "metadata": {},
   "source": [
    "$f_{X_{(1)}}(x)=n(1-F(x))^{n-1}f(x)$, and $f_{X_{(n)}}(x)=n(F(x))^{n-1}f(x)$"
   ]
  },
  {
   "cell_type": "markdown",
   "metadata": {},
   "source": [
    "$JCDF$, of $(X_{(1)},X_{(2)},...,X_{(n)})$"
   ]
  },
  {
   "cell_type": "markdown",
   "metadata": {},
   "source": [
    "$F_{X_{(1)},X_{(2)},...,X_{(n)}}(x_1,x_2,...,x_n)=P(X_{(1)}\\le x_1,X_{(2)}\\le x_2,...,X_{(n)}\\le x_n)$"
   ]
  },
  {
   "cell_type": "markdown",
   "metadata": {},
   "source": [
    "**Example:** Let $U_1,U_2,...,U_n$ are i.i.d uniform random variable over $U[0,1]$"
   ]
  },
  {
   "cell_type": "markdown",
   "metadata": {},
   "source": [
    "$CDF$ of uniform distribution, $F_X(x)=\\left\\{\\begin{matrix}\n",
    " 0&x<0 \\\\ \n",
    " x&0\\le x<1 \\\\ \n",
    " 1&x\\ge 1 \n",
    "\\end{matrix}\\right.$&nbsp; &nbsp;and $f(x)=\\left\\{\\begin{matrix}\n",
    " 1& 0\\le x \\le 1\\\\ \n",
    " 0&\\text{otherwise} \n",
    "\\end{matrix}\\right.$"
   ]
  },
  {
   "cell_type": "markdown",
   "metadata": {},
   "source": [
    "$PDF$ of $U_{(j)}$, $f_{U_{(j)}}(x)=\\frac{n!}{(j-1)!(n-j)!}(F(x))^{j-1}(1-F(x))^{n-j}f(x)$"
   ]
  },
  {
   "cell_type": "markdown",
   "metadata": {},
   "source": [
    "for $0<x<1$, $f_{U_{(j)}}(x)=\\frac{n!}{(j-1)!(n-j)!}(x)^{j-1}(1-x)^{n-j}\\times 1=\\frac{1}{\\frac{\\Gamma({j})~\\Gamma({n-j+1})}{\\Gamma{(n+1)}}}x^{j-1}(1-x)^{n-j}$"
   ]
  },
  {
   "cell_type": "markdown",
   "metadata": {},
   "source": [
    "$f_{U_{(j)}}(x)=\\frac{1}{B(j,n-j+1)}x^{j-1}(1-x)^{(n-j+1)-1}$,$0<x<1$"
   ]
  },
  {
   "cell_type": "markdown",
   "metadata": {},
   "source": [
    "Hence, $U_{(j)}\\sim Beta(j,n-j+1)$ for j=1,2,3,...,n"
   ]
  },
  {
   "cell_type": "markdown",
   "metadata": {},
   "source": [
    " "
   ]
  },
  {
   "cell_type": "markdown",
   "metadata": {
    "slideshow": {
     "slide_type": "slide"
    }
   },
   "source": [
    "**Theorem:** Let $X_1,X_2,...,X_n$ are independent and identically distributed (i.i.d) continuous random variables with common $PDF$ $f(x)$ and $CDF$ $F(x)$, for $1\\le i<j\\le n$, $JPDF$ of $X_{(i)},X_{(j)}$, $f_{X_{(i)},X_{(j)}}(s,t)=\\frac{n!}{(i-1)!(j-i-1)!(n-j)!}f(s)f(t)\\left[F(s)\\right]^{i-1}\\left[F(t)-F(s)\\right]^{j-i-1}\\left[1-F(t)\\right]^{n-j}$for $-\\infty<s<t<\\infty$"
   ]
  }
 ],
 "metadata": {
  "hide_input": false,
  "kernelspec": {
   "display_name": "Python 3 (ipykernel)",
   "language": "python",
   "name": "python3"
  },
  "language_info": {
   "codemirror_mode": {
    "name": "ipython",
    "version": 3
   },
   "file_extension": ".py",
   "mimetype": "text/x-python",
   "name": "python",
   "nbconvert_exporter": "python",
   "pygments_lexer": "ipython3",
   "version": "3.10.0"
  }
 },
 "nbformat": 4,
 "nbformat_minor": 4
}
