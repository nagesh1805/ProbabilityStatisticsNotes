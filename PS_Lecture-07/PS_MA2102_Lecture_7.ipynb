{
 "cells": [
  {
   "cell_type": "markdown",
   "metadata": {},
   "source": [
    "<h2 style=\"text-align:center\"> MA2102</h2>\n",
    "<h1 style=\"text-align:center\"> Probability and Statistics</h1>\n",
    "<h4 style=\"text-align:center\"> Lecture-7</h4>\n"
   ]
  },
  {
   "cell_type": "markdown",
   "metadata": {},
   "source": [
    "## Conditional Probability:"
   ]
  },
  {
   "cell_type": "markdown",
   "metadata": {},
   "source": [
    "Probabilities of events get modified when we have some partial information about the outcome.<br><br>\n",
    "Consider the random experiment of rolling a fair die, sample space $\\Omega=\\{1,2,3,4,5,6\\}$ and let us be interested in the following events here.     \n",
    "Let $A=\\{2,3,5\\}\\leftarrow$ die landing on a prime number   \n",
    "&nbsp; &nbsp; &nbsp; $B=\\{2,4,6\\}\\leftarrow$ die landing on a even number   \n",
    "&nbsp; &nbsp; &nbsp; $C=\\{1,3,5\\}\\leftarrow$ die landing on odd number   <br><br>\n",
    "Intuitively we can see that $P(A$ given that $B$ already happened$)=\\frac{1}{3}$    \n",
    "Because when it is given that $B$ already happened, we think of only 2, 4, 6 as possible outcomes, so $B$ kind of becomes new reduced sample space, and for $A$ only 2 is favourable for being prime.    \n",
    "And $P(A$ given that $B$ already happened$)=\\frac{1}{3}\\ne \\frac{1}{2}=P(A)$     \n",
    "That is when we know that B happened probability of A got reduced from $\\frac{1}{2}$ to $\\frac{1}{3}$    \n",
    "similarly we can argue that $P(A$ given that $C$ already happened$)=\\frac{2}{3}\\ne \\frac{1}{2}=P(A)$   \n",
    "That is when we know that C happened probability of A got increased from $\\frac{1}{2}$ to $\\frac{2}{3}$ <br>\n",
    "\n",
    "So when partial information about outcome is available , we might have to update the probability of event.   \n",
    "**Question:** How to update the probability of an event using partial information?<br>          \n",
    "To get an intuition, let us focus on random experiment with finite sample space and equally likely outcomes.    \n",
    "Let $\\Omega$  be a sample space, and $A,B$ ar events. and we are interested in determining probability of $A$, when we have information that $B$ happened.   \n",
    "So, $B$ is now, new reduced sample space and only outcomes of $A$ that concern us are those (if any) that are also outcomes from $B$     \n",
    "(i.e outcomes in $A\\cap B$)    \n",
    "So it makes sense to define $P(A$ given that $B$ already happened)$=\\frac{|A\\cap B|}{|B|}$    \n",
    "and $=\\frac{|A\\cap B|}{|B|}=\\frac{\\frac{|A\\cap B|}{|\\Omega|}}{\\frac{|B|}{|\\Omega|}}=\\frac{P(A\\cap B)}{P(B)}$    \n",
    "So, intuition suggests that when $B$ already happened,new probability of $A$ should be updated as $\\frac{P(A\\cap B)}{P(B)}$ (in terms of old probabilities)"
   ]
  },
  {
   "cell_type": "markdown",
   "metadata": {},
   "source": [
    "Let us check this rule of updating probability with above die example that we considered.    \n",
    "$P(A$ given that $B$ happened$)=\\frac{P(A\\cap B)}{P(B)}=\\frac{\\frac{1}{6}}{\\frac{1}{2}}=\\frac{1}{3}$ and $P(A$ given that $C$ happened$)=\\frac{P(A\\cap C)}{P(C)}=\\frac{\\frac{1}{3}}{\\frac{1}{2}}=\\frac{2}{3}$<br>     \n",
    "\n",
    "Now let us show that the updated probabilities are indeed representing valid probabilities.    \n",
    "Let $(\\Omega,\\mathscr{F},P)$ be probability space with $P(B)>0$   \n",
    "Define a set function, $P_B:\\mathscr{F}\\rightarrow \\mathbb{R}$, $P_B(A)=\\frac{P(A\\cap B)}{P(B)}$<br>    \n",
    "*claim*: $P_B$ is a probability (measure) function.    \n",
    "Here we need to check three axioms of probability for $P_B$ function.  \n",
    "- $P_B(A)=\\frac{P(A\\cap B)}{P(B)}\\ge0~\\forall A \\in \\mathscr{F}$ ($\\because P$ already probability function $\\Rightarrow P(A\\cap B)\\ge0 ,~P(B)>0$ by Axiom 1)    \n",
    "So Axiom 1 for $P_B\\checkmark$  <br> <br>   \n",
    "- $P_b(\\Omega)=\\frac{P(\\Omega \\cap B)}{P(B)}=\\frac{P(B)}{P(B)}=1$ ($\\because B\\subseteq \\Omega \\Rightarrow \\Omega\\cap B= B$ )       \n",
    "So Axiom 2 for $P_B\\checkmark$   <br> <br>   \n",
    "- Let $A_1,A_2,A_3,...,A_n,...$ are mutually exclusive events in $\\mathscr{F}$  <br>    \n",
    "$P_B(\\bigcup_{i=1}^{\\infty}A_i)=\\frac{P((\\bigcup_{i=1}^{\\infty}A_i)\\cap B)}{P(B)}$   \n",
    "&nbsp; &nbsp; &nbsp; &nbsp; &nbsp; &nbsp; &nbsp; &nbsp; &nbsp; &nbsp;&nbsp; $=\\frac{P(\\bigcup_{i=1}^{\\infty}(A_i\\cap B))}{P(B)}$     ($\\because$ generalized distributive laws)     \n",
    "&nbsp; &nbsp; &nbsp; &nbsp; &nbsp; &nbsp; &nbsp; &nbsp; &nbsp; &nbsp;&nbsp; $=\\frac{\\sum_{i=1}^{\\infty}P(A_i\\cap B)}{P(B)}$     ($\\because A_1\\cap B, A_2\\cap B, A_3\\cap B,..... $also mutually exclusive and Axiom 3 for $P$ )   \n",
    "&nbsp; &nbsp; &nbsp; &nbsp; &nbsp; &nbsp; &nbsp; &nbsp; &nbsp; &nbsp;&nbsp; $=\\sum_{i=1}^{\\infty}\\frac{P(A_i\\cap B)}{P(B)}=\\sum_{i=1}^{\\infty}P_B(A_i)$   ($\\because$ definition of $P_B$)     \n",
    "So Axiom 3 for $P_B\\checkmark$   <br> <br>  \n",
    "$\\therefore P_B$ is a probability measure<br><br>\n",
    "For any $A\\in \\mathscr{F}, P_B(A)$ is called <u>*conditional probability*</u> of $A$ given that $B$ already happened.    \n",
    "In practice $P_B(A)$is denoted by $P(A/B)$ and read it as 'probability of A given B'   \n",
    "$P(A/B):=\\frac{P(A\\cap B)}{P(B)}~,P(B)>0$<br>"
   ]
  },
  {
   "cell_type": "markdown",
   "metadata": {},
   "source": [
    "<p style=\"color:red;\"><u>Example 1:</u>A family has two children. What is the conditional probability that both are boys given that(i) family has a boy? (ii) elder one is boy?</p>  \n",
    "\n",
    "*solution*: Let sample space $\\Omega=\\{(b,b),(b,g),(g,b),(g,g)\\}$   \n",
    "Let $A$ denote the event that family having both boys, i.e $A=\\{(b,b)\\}\\Rightarrow P(A)=\\frac{1}{4}$,   \n",
    "$B$ denote the event that family having a boys, i.e $B=\\{(b,b),(b,g),(g,b)\\}\\Rightarrow P(B)=\\frac{3}{4}$,   \n",
    "$C$ denote the event that family having elder one boy, i.e $C=\\{(b,b),(b,g)\\}\\Rightarrow P(C)=\\frac{1}{2}$    \n",
    "(i). $P(A/B)=\\frac{P(A\\cap B)}{P(B)}=\\frac{\\frac{1}{4}}{\\frac{3}{4}}=\\frac{1}{3}$  <br>     \n",
    "(ii). $P(A/C)=\\frac{P(A\\cap C)}{P(C)}=\\frac{\\frac{1}{4}}{\\frac{1}{2}}=\\frac{1}{2}$      \n",
    "*Note*: Most people don't see that (i) and (ii) are actually different, i.e people approach (i) as (ii) and come up with answer $\\frac{1}{2}$,    \n",
    "please understand the difference."
   ]
  },
  {
   "cell_type": "markdown",
   "metadata": {},
   "source": [
    "<p style=\"color:red;\"><u>Example 2:</u>In an exam, two reasoning problems, 1  and 2 are asked. 35% students solved problem 1 and 15% students solved the both the problems. What is the probability that student who solved the first problem will also solve the second one.</p>     \n",
    "\n",
    "*solution*: Let $E_i$ denote the event that student solve the problem $i$, for $i=1,2$   \n",
    "$P(E_1)=0.35$  and $P(E_1 \\cap E_2)=0.15$ and here we are interested in $P(E_2/E_1)=?$      \n",
    "$P(E_2/E_1)=\\frac{P(E_1\\cap E_2)}{P(E_1)}=\\frac{0.15}{0.35}\\approx 0.428$   \n"
   ]
  },
  {
   "cell_type": "markdown",
   "metadata": {},
   "source": [
    "<p style=\"color:red;\"><u>Exercise:</u>The probability of raining on Sunday is 0.07. If today is Sunday then find the probability of raining today.</p>  (Hint: probability of today is Sunday is $\\frac{1}{7}$) "
   ]
  },
  {
   "cell_type": "markdown",
   "metadata": {},
   "source": [
    "#### Multiplication Theorem:       \n",
    "Let $(\\Omega, \\mathscr{F},P)$ be a probability space and $A,B\\in\\mathscr{F}$ with $P(A)>0$ and $P(B)>0$ then     $P(A\\cap B)=P(A)P(B/A)=P(B)P(A/B)$     \n",
    "*proof*: $P(A/B)=\\frac{P(A\\cap B)}{P(B)} \\Rightarrow P(A\\cap B)=P(B)P(A/B)$      \n",
    "$P(B/A)=\\frac{P(B\\cap A)}{P(A)} \\Rightarrow P(A\\cap B)=P(A)P(B/A)$    ($\\because A\\cap B = B\\cap A$ )        \n",
    "$\\therefore P(A\\cap B)=P(A)P(B/A)=P(B)P(A/B)$  <br>   \n",
    "\n",
    "**corollary:** If $A,B,C\\in\\mathscr{F}$ with $P(A\\cap B)>0$, then $P(A\\cap B\\cap C)=P(A)P(B/A)P(C/(A\\cap B))$   \n",
    "*proof*: $P(A\\cap B\\cap C)=P((A\\cap B)\\cap C)$      \n",
    "&nbsp; &nbsp; &nbsp; &nbsp; &nbsp; &nbsp; &nbsp; &nbsp; &nbsp; &nbsp; &nbsp; &nbsp; &nbsp; &nbsp; &nbsp; &nbsp; &nbsp; &nbsp;&nbsp; \n",
    "$=P(A\\cap B)P(C/(A\\cap B)$   ($\\because$ Multiplication theorem for two events $(A\\cap B)$  and $C$ )     \n",
    "&nbsp; &nbsp; &nbsp; &nbsp; &nbsp; &nbsp; &nbsp; &nbsp; &nbsp; &nbsp; &nbsp; &nbsp; &nbsp; &nbsp; &nbsp; &nbsp; &nbsp; &nbsp;&nbsp; \n",
    "$=P(A)P(B/A)P(C/(A\\cap B)$   ($\\because$ Multiplication theorem for two events $A,B$)    \n",
    "$\\therefore P(A\\cap B\\cap C)=P(A)P(B/A)P(C/(A\\cap B))$    "
   ]
  },
  {
   "cell_type": "markdown",
   "metadata": {},
   "source": [
    "<p style=\"color:red;\"><u>Example 3:</u> Suppose an urn contains seven black balls and five white balls. We draw two balls from the urn without replacement at random. What is the probability that the both drawn balls are black?</p><br>\n",
    "<i>solution</i>: Let $\\Omega$ be the sample space $|\\Omega|=\\binom{12}{2}=66$      \n",
    "Let $E$ be the event that both selected balls are black, then $|E|=\\binom{7}{2}=21$  \n",
    "$\\therefore P(E)=\\frac{|E|}{|\\Omega|}=\\frac{7}{22}$<br>    \n",
    "There is another way to we can answer this question, that is using multiplication theorem    \n",
    "Let $E_1$ be the event that first drawn ball is black \n",
    "Let $E_2$ be the event that second drawn ball is black   \n",
    "then $E=E_1\\cap E_2$, $P(E_1)=\\frac{7}{12}$   and     $P(E_2/E_1)=\\frac{6}{11}$    \n",
    "$P(E)=P(E_1\\cap E_2)=P(E_1)P(E_2/E_1)=\\frac{7}{12}\\times \\frac{6}{11}=\\frac{7}{12}$\n"
   ]
  },
  {
   "cell_type": "markdown",
   "metadata": {},
   "source": [
    "**Generalized Multiplication theorem:**    \n",
    "Let $E_1,E_2,E_3,....,E_n\\in \\mathscr{F}$ with $P(\\cap_{j=1}^{n-1}E_j)>0$ then $P(\\cap_{i=1}^{n}E_i)=P(E_1)P(E_2/E_1)P(E_3/(E_1\\cap E_2))...P(E_n/(\\cap_{j=1}^{n-1}E_j))$<br>      \n",
    "*proof*: Proof by induction on n (you try!)"
   ]
  },
  {
   "cell_type": "markdown",
   "metadata": {},
   "source": [
    "Now let us Consider the random experiment of picking a card from well shuffled pack of 52 cards.    \n",
    "Let $A$ be the event of picking King, and $B$ be the event of picking heart, then $P(A)=\\frac{1}{13}$, $P(B)=\\frac{1}{4}$ and $P(A\\cap B)=\\frac{1}{52}$   \n",
    "now, $P(A/B)=\\frac{P(A\\cap B)}{P(B)}=\\frac{\\frac{1}{52}}{\\frac{1}{4}}=\\frac{1}{13}=P(A)$   \n",
    "Here $P(A/B)$ happened to be same as P(A), so the information about the event $B$ is independent of event $A$.   \n",
    "This leads to the concept of independent events.\n",
    "If $P(B)>0$ & $P(A/B)=P(A)\\Rightarrow \\frac{P(A\\cap B)}{P(B)}=P(A) \\Rightarrow P(A\\cap B)=P(A)P(B)$"
   ]
  },
  {
   "cell_type": "markdown",
   "metadata": {},
   "source": [
    "**Definition**: Two events $E_1,E_2$ in $\\mathscr{F}$ are said to be <u>independent</u> events if $P(E_1\\cap E_2)=P(E_1)P(E_2)$ <br><br> \n",
    "We can also talk about independence of more than two events as follows.    \n",
    "Three events $E_1,E_2,E_3$ on $\\mathscr{F}$ are said to be independent if $P(E_1\\cap E_2)=P(E_1)P(E_2),P(E_2\\cap E_3)=P(E_2)P(E_3),P(E_1\\cap E_3)=P(E_1)P(E_3)$ and $P(E_1\\cap E_2\\cap E_3)=P(E_1)P(E_2)P(E_3)$   \n",
    "So there are 4($=2^3-3-1$) conditions to be checked.\n",
    "<br><br>\n",
    "In general, n events $E_1,E_2,...E_n$ in $\\mathscr{F}$ are said to be independent if, $P(\\bigcap_{i\\in I}E_i)=\\prod_{i\\in I}P(E_i)$ for any $I\\subseteq \\{1,2,3,..n\\}$ & $|I|\\ge2$    \n",
    "Please note that there are $\\binom{n}{2}+\\binom{n}{3}+...+\\binom{n}{n}=2^n -n -1$ conditions to be checked.  <br>\n",
    "We say n events $E_1,E_2,...E_n$ in $\\mathscr{F}$ are said to be pairwise independent if, $P(E_i\\cap E_j)=P(E_i)P(E_j)$ for $i\\ne j$ and $i,j\\in \\{1,2,...,n\\}$  (Here there only $\\binom{n}{2}$ conditions to be checked.)<br><br>\n",
    "\n",
    "Obviously Independence $\\Rightarrow$ pairwise independence     \n",
    "But converse may not be true (see next example)\n",
    "\n",
    "<u>Example:</u> Consider a random experiment of picking ball at random from the box which contains four balls with labels 1,2,3 and 4.    \n",
    "So sample space $\\Omega=\\{1,2,3,4\\}$     \n",
    "Let $E_1=\\{1,2\\},E_2=\\{2,3\\}$ and $E_3=\\{1,3\\}$    \n",
    "$P(E_i)=\\frac{|E_i|}{|\\Omega|}=\\frac{2}{4}=\\frac{1}{2}$ for $i$=1,2,3   \n",
    "$P(E_i\\cap E_j)=\\frac{|E_i\\cap E_j|}{|\\Omega|}=\\frac{1}{4}=$ for $i\\ne j$   <br>\n",
    "\n",
    "$\\therefore P(E_i\\cap E_j)=\\frac{1}{4}=\\frac{1}{2}\\times \\frac{1}{2}=P(E_i)P(E_j)$ for $i\\ne j$  \n",
    "that is we have pairwise independence among $E_1,E_2,E_3$    \n",
    "but $P(E_1\\cap E_2 \\cap E_3)=\\frac{|E_1 \\cap E_2 \\cap E_3|}{|\\Omega|}=\\frac{0}{4}=0 \\ne \\frac{1}{8}=P(E_1)P(E_2)P(E_3) \\Rightarrow E_1,E_2,E_3$ are not independent    \n",
    "Here $E_1,E_2,E_3$ are pairwise independent events but not independent events."
   ]
  },
  {
   "cell_type": "markdown",
   "metadata": {},
   "source": [
    "**Theorem**: If $E_1,E_2$ are independent then $E_1,E_2^c$ also independent.    \n",
    "*proof*:    \n",
    "$P(E_1\\cap E_2^c)=P(E_1)-P(E_1\\cap E_2)$     ($\\because$ Theorem 4)    \n",
    "&nbsp; &nbsp; &nbsp; &nbsp; &nbsp;  &nbsp; &nbsp; &nbsp;  &nbsp; &nbsp; &nbsp;\n",
    "$=P(E_1)-P(E_1)P(E_2)$   ($\\because E_1,E_2$ are independent)     \n",
    "&nbsp; &nbsp; &nbsp; &nbsp; &nbsp;  &nbsp; &nbsp; &nbsp;  &nbsp; &nbsp; &nbsp;\n",
    "$=P(E_1)(1-P(E_2))=P(E_1)P(E_2^c)$ ($\\because P(E_2^c)=1-P(E_2)$)    \n",
    "$\\therefore P(E_1\\cap E_2^c)=P(E_1)P(E_2^c) \\Rightarrow E_1,E_2^c$ are independent $\\blacksquare$"
   ]
  },
  {
   "cell_type": "markdown",
   "metadata": {},
   "source": [
    "Similarly one can show that $E_1,E_2$ are independent implies $E_1^c, E_2$ also independent"
   ]
  },
  {
   "cell_type": "markdown",
   "metadata": {},
   "source": [
    "**Theorem**: If $E_1,E_2$ are independent then $E_1^c,E_2^c$ also independent.    \n",
    "*proof*:     \n",
    "$P(E_1^c\\cap E_2^c)=P((E_1\\cup E_2)^c)$ ($\\because$ De Morgan's law)  \n",
    "&nbsp; &nbsp; &nbsp; &nbsp; &nbsp; &nbsp; &nbsp; &nbsp; &nbsp; &nbsp; &nbsp;\n",
    "$=1-P(E_1\\cup E_2)=1-\\left[P(E_1)+P(E_2)-P(E_1\\cap E_2)\\right]$ ($\\because$ Addition theorem of probability)     \n",
    "&nbsp; &nbsp; &nbsp; &nbsp; &nbsp; &nbsp; &nbsp; &nbsp; &nbsp; &nbsp; &nbsp;\n",
    "$=1-P(E_1)-P(E_2)+P(E_1)P(E_2)$ ($\\because P(E_1\\cap E_2)=P(E_1)P(E_2) $ as $E_1,E_2$ are independent )       \n",
    "&nbsp; &nbsp; &nbsp; &nbsp; &nbsp; &nbsp; &nbsp; &nbsp; &nbsp; &nbsp; &nbsp;\n",
    "$=(1-P(E_1))(1-P(E_2))=P(E_1^c)P(E_2^c)$<br>   \n",
    "$P(E_1^c\\cap E_2^c)=P(E_1^c)P(E_2^c) \\Rightarrow E_1^c,E_2^c$ independent  <br>"
   ]
  },
  {
   "cell_type": "markdown",
   "metadata": {},
   "source": [
    "We can actually make a general statement that, if $E_1,E_2,...E_n$ are independent then $F_1,F_2,...,F_n$ are also independent where $F_i\\in \\{E_i,E_i^c\\}$ for $i=$1,2,...,n"
   ]
  },
  {
   "cell_type": "markdown",
   "metadata": {},
   "source": [
    "**Theorem:** If $E_1,E_2,...E_n$ are independent events in $\\mathscr{F}$, then $P(\\cup_{i=1}^{n}E_i)=1-\\prod_{i=1}^{n}(1-P(E_i))$.      \n",
    "*proof*:     \n",
    "$P(\\cup_{i=1}^{n}E_i)=1-P((\\cup_{i=1}^{n}E_i)^c)$      ($\\because P(E)=1-P(E^c)$ )     \n",
    "&nbsp; &nbsp; &nbsp; &nbsp; &nbsp; &nbsp; &nbsp; &nbsp; &nbsp;&nbsp; \n",
    "$=1-P(\\cap_{i=1}^{n}E_i^c)$  ($\\because$ De Morgan's law)    \n",
    "&nbsp; &nbsp; &nbsp; &nbsp; &nbsp; &nbsp; &nbsp; &nbsp; &nbsp;&nbsp; \n",
    "$=1-\\prod_{i=1}^{n}P(E_i^c)$  ($\\because$ Independence of $E_1,E_2,...E_n \\Rightarrow$ independence of $E_1^c,E_2^c,...E_n^c$)       \n",
    "$\\therefore P(\\cup_{i=1}^{n}E_i)=1-\\prod_{i=1}^{n}(1-P(E_i))$    \n",
    "This formula looks much better than one we got using principle of inclusion and exclusion. And here to tackle ${P(\\cup_{i=1}^{n}E_i)}$ all we need to know is $P(E_1),P(E_2),...P(E_n)$. But there is a limitation, you can use it only when you know $E_1,E_2,...,E_n$ are independent."
   ]
  },
  {
   "cell_type": "markdown",
   "metadata": {},
   "source": [
    "<p style=\"color:red\"><u>Problem 1:</u> A problem in probability theory is assigned to three students, whose names are $A,B$ and $C$. They try on their own to solve it, probabilities of $A,B$ and $C$ solving it are 0.2,0.3 and 0.5 respectively. Find the probability for problem being solved.</p> \n",
    "\n",
    "*solution:*   Let $A$ be the event that A solve the problem,  $B$ be the event that B solve the problem  and    \n",
    "$C$ be the event that C solve the problem    \n",
    "$P(A)=0.2,P(B)=0.3$ and $P(C)=0.5$    \n",
    "now, $A\\cap B\\cap C$ will denote the event that at least one of $A,B,C$ solve the problem (problem being solved)   \n",
    "So, we are interested in $P(A\\cup B\\cup C)=?$   \n",
    "Here it is reasonable to assume that $A,B,C$ are independent events as they try on their own    \n",
    "$P(A\\cup B\\cup C)=1-(1-P(A))(1-P(B))(1-P(C))=1-(1-0.2)(1-0.3)(1-0.5)=0.72$"
   ]
  },
  {
   "cell_type": "markdown",
   "metadata": {},
   "source": [
    " <p style=\"color:red\"><u>Problem 2:</u> A pair of fair dice are rolled until sum of dice 5 or 7 appears. Show that the probability 5 appears before 7 is $\\frac{2}{5}$</p> \n",
    " \n",
    " *solution*:    \n",
    " Let $A_i$ be the event that either 5 or 7 appears on $i^{th}$ trial     \n",
    " $P(A_i)=\\frac{10}{36}=\\frac{5}{18}$ for $i=1,2,3,...$   \n",
    " Let $B_i$ be the event that 5 appears on $i^{th}$ trial     \n",
    " $P(B_i)=\\frac{4}{36}=\\frac{1}{9}$ for $i=1,2,3,...$     \n",
    " Let $E_n$ be the event that no 5 or 7 appear in first $(n-1)$ trials and 5 appear on $n^{th}$ trial for $n=1,2,3,...$      \n",
    " then $E_n$ can be expressed as follows,   \n",
    " $E_n=(\\cap_{i=1}^{n-1}A_i^c)\\cap B_n \\leftarrow$ no 5 or 7 in first $(n-1)$ trials and 5 appears on $n^{th}$ trial   \n",
    " now, $P(E_n)=P((\\cap_{i=1}^{n-1}A_i^c)\\cap B_n)$    \n",
    " &nbsp; &nbsp;  &nbsp; &nbsp;  &nbsp; &nbsp; &nbsp;  &nbsp; &nbsp; &nbsp; \n",
    " $=(\\prod_{i=1}^{n-1}P(A_i^c))P(B_n)$  ($\\because$ these n trials are independent, so any events related to different trials will be independent)       \n",
    " &nbsp; &nbsp;  &nbsp; &nbsp;  &nbsp; &nbsp; &nbsp;  &nbsp; &nbsp; &nbsp; \n",
    " $=\\left (\\prod_{i=1}^{n-1}(1-\\frac{5}{18}) \\right )(\\frac{1}{9})$  ($\\because P(A_i^c)=1-P(A_i)=1-\\frac{5}{18}$)   \n",
    " $P(E_n)=\\left(\\frac{13}{18}\\right)^{n-1}\\left(\\frac{1}{9} \\right)$      \n",
    " And we can see that events $E_1,E_2,...E_n,...$ are mutually exclusive. Now our event of interest (5 appears before 7) can be expressed as follows,\n",
    " $\\bigcup_{n=1}^{\\infty}E_n \\leftarrow$ 5 appears before 7 ($\\because$ it may happen on any trail)     \n",
    " $P(\\bigcup_{n=1}^{\\infty} E_n)=\\sum_{n=1}^{\\infty}P(E_n)$ ($\\because$ Axiom 3)      \n",
    "  &nbsp; &nbsp;  &nbsp; &nbsp;  &nbsp; &nbsp; &nbsp;  &nbsp; &nbsp; &nbsp;\n",
    " $ =\\sum_{n=1}^{\\infty}\\left(\\frac{13}{18}\\right)^{n-1}\\left(\\frac{1}{9} \\right)=\\frac{1}{9}\\left(\\frac{1}{1-\\frac{13}{18}}\\right)=\\frac{2}{5}$    \n",
    " $\\therefore P(5 \\text { appears before }7)=\\frac{2}{5}$    \n"
   ]
  },
  {
   "cell_type": "markdown",
   "metadata": {},
   "source": [
    "### THE END"
   ]
  }
 ],
 "metadata": {
  "hide_input": false,
  "kernelspec": {
   "display_name": "Python 3 (ipykernel)",
   "language": "python",
   "name": "python3"
  },
  "language_info": {
   "codemirror_mode": {
    "name": "ipython",
    "version": 3
   },
   "file_extension": ".py",
   "mimetype": "text/x-python",
   "name": "python",
   "nbconvert_exporter": "python",
   "pygments_lexer": "ipython3",
   "version": "3.10.0"
  },
  "latex_envs": {
   "LaTeX_envs_menu_present": true,
   "autoclose": false,
   "autocomplete": true,
   "bibliofile": "biblio.bib",
   "cite_by": "apalike",
   "current_citInitial": 1,
   "eqLabelWithNumbers": true,
   "eqNumInitial": 1,
   "hotkeys": {
    "equation": "Ctrl-E",
    "itemize": "Ctrl-I"
   },
   "labels_anchors": false,
   "latex_user_defs": false,
   "report_style_numbering": false,
   "user_envs_cfg": false
  },
  "widgets": {
   "application/vnd.jupyter.widget-state+json": {
    "state": {
     "067bf8ab606847d4ba0336a03849e5b7": {
      "model_module": "@jupyter-widgets/output",
      "model_module_version": "1.0.0",
      "model_name": "OutputModel",
      "state": {
       "layout": "IPY_MODEL_6907f3fa705f40f98cb5b996e1b3e512"
      }
     },
     "15d7cc102cbb42f3a5db1e6209d593ee": {
      "model_module": "@jupyter-widgets/controls",
      "model_module_version": "1.5.0",
      "model_name": "ProgressStyleModel",
      "state": {
       "description_width": ""
      }
     },
     "192a0fd6a9b549c487228b34fc9e3ffa": {
      "model_module": "@jupyter-widgets/controls",
      "model_module_version": "1.5.0",
      "model_name": "IntSliderModel",
      "state": {
       "description": "#trials:",
       "layout": "IPY_MODEL_1b97c2a31ad14f6c982a0857ca8f4b84",
       "max": 1000,
       "step": 100,
       "style": "IPY_MODEL_2063cd0f3b2c4fb2aa17cbcd45b598fc",
       "value": 1000
      }
     },
     "1b97c2a31ad14f6c982a0857ca8f4b84": {
      "model_module": "@jupyter-widgets/base",
      "model_module_version": "1.2.0",
      "model_name": "LayoutModel",
      "state": {}
     },
     "1f733d943674433fa2486d8ba108efab": {
      "model_module": "@jupyter-widgets/base",
      "model_module_version": "1.2.0",
      "model_name": "LayoutModel",
      "state": {}
     },
     "2063cd0f3b2c4fb2aa17cbcd45b598fc": {
      "model_module": "@jupyter-widgets/controls",
      "model_module_version": "1.5.0",
      "model_name": "SliderStyleModel",
      "state": {
       "description_width": ""
      }
     },
     "23e86068ff414460bb6b2604f5186ee1": {
      "model_module": "@jupyter-widgets/controls",
      "model_module_version": "1.5.0",
      "model_name": "HBoxModel",
      "state": {
       "children": [
        "IPY_MODEL_b4f6edc9da7a444baf6ca13371e3ad4b",
        "IPY_MODEL_80a82b153b53423784e3ee7d378bb4f7"
       ],
       "layout": "IPY_MODEL_9e6c8bf71a72424e9ca0673ed3a888c6"
      }
     },
     "32b96a1f5d734adc90be7d199f5d243d": {
      "model_module": "@jupyter-widgets/base",
      "model_module_version": "1.2.0",
      "model_name": "LayoutModel",
      "state": {}
     },
     "3e366e8d4cb64ecaa3fad8d465a6c800": {
      "model_module": "@jupyter-widgets/base",
      "model_module_version": "1.2.0",
      "model_name": "LayoutModel",
      "state": {}
     },
     "4587aaaf0e744be0b76ecb560fb0e2dd": {
      "model_module": "@jupyter-widgets/base",
      "model_module_version": "1.2.0",
      "model_name": "LayoutModel",
      "state": {}
     },
     "585942f4c7284f5e85446e30c4dcc01a": {
      "model_module": "@jupyter-widgets/controls",
      "model_module_version": "1.5.0",
      "model_name": "ProgressStyleModel",
      "state": {
       "description_width": ""
      }
     },
     "5f682f2810c54acc9cf3cd689a6e951d": {
      "model_module": "@jupyter-widgets/controls",
      "model_module_version": "1.5.0",
      "model_name": "SliderStyleModel",
      "state": {
       "description_width": ""
      }
     },
     "6907f3fa705f40f98cb5b996e1b3e512": {
      "model_module": "@jupyter-widgets/base",
      "model_module_version": "1.2.0",
      "model_name": "LayoutModel",
      "state": {}
     },
     "6c895705c7b548289ebc0c88ce7680ce": {
      "model_module": "@jupyter-widgets/base",
      "model_module_version": "1.2.0",
      "model_name": "LayoutModel",
      "state": {}
     },
     "71b9cdbb90d24003a393c4ebc769f478": {
      "model_module": "@jupyter-widgets/base",
      "model_module_version": "1.2.0",
      "model_name": "LayoutModel",
      "state": {}
     },
     "80a82b153b53423784e3ee7d378bb4f7": {
      "model_module": "@jupyter-widgets/controls",
      "model_module_version": "1.5.0",
      "model_name": "FloatProgressModel",
      "state": {
       "bar_style": "info",
       "description": "p=0.5073",
       "layout": "IPY_MODEL_4587aaaf0e744be0b76ecb560fb0e2dd",
       "max": 1,
       "orientation": "vertical",
       "style": "IPY_MODEL_585942f4c7284f5e85446e30c4dcc01a",
       "value": 0.5073
      }
     },
     "80f50c3302b546c3aa6b09fa0c61c9b8": {
      "model_module": "@jupyter-widgets/controls",
      "model_module_version": "1.5.0",
      "model_name": "IntSliderModel",
      "state": {
       "description": "#trials:",
       "layout": "IPY_MODEL_32b96a1f5d734adc90be7d199f5d243d",
       "max": 1000,
       "step": 100,
       "style": "IPY_MODEL_5f682f2810c54acc9cf3cd689a6e951d",
       "value": 400
      }
     },
     "9302d365084b4685a55df6fe226deacc": {
      "model_module": "@jupyter-widgets/controls",
      "model_module_version": "1.5.0",
      "model_name": "VBoxModel",
      "state": {
       "_dom_classes": [
        "widget-interact"
       ],
       "children": [
        "IPY_MODEL_80f50c3302b546c3aa6b09fa0c61c9b8",
        "IPY_MODEL_067bf8ab606847d4ba0336a03849e5b7"
       ],
       "layout": "IPY_MODEL_3e366e8d4cb64ecaa3fad8d465a6c800"
      }
     },
     "9c5c2ed4dc6c4c6aa78126c63a5a4aa5": {
      "model_module": "@jupyter-widgets/controls",
      "model_module_version": "1.5.0",
      "model_name": "SliderStyleModel",
      "state": {
       "description_width": ""
      }
     },
     "9e6c8bf71a72424e9ca0673ed3a888c6": {
      "model_module": "@jupyter-widgets/base",
      "model_module_version": "1.2.0",
      "model_name": "LayoutModel",
      "state": {}
     },
     "9fee2f6a367a4564b7d094d92d1f535f": {
      "model_module": "@jupyter-widgets/base",
      "model_module_version": "1.2.0",
      "model_name": "LayoutModel",
      "state": {}
     },
     "a5718431971c4efab18908e14adce24a": {
      "model_module": "@jupyter-widgets/controls",
      "model_module_version": "1.5.0",
      "model_name": "FloatProgressModel",
      "state": {
       "bar_style": "info",
       "description": "p=0.7063",
       "layout": "IPY_MODEL_1f733d943674433fa2486d8ba108efab",
       "max": 1,
       "orientation": "vertical",
       "style": "IPY_MODEL_15d7cc102cbb42f3a5db1e6209d593ee",
       "value": 0.7063
      }
     },
     "a74661814248473d9bf1e5ee305cef29": {
      "model_module": "@jupyter-widgets/controls",
      "model_module_version": "1.5.0",
      "model_name": "IntSliderModel",
      "state": {
       "description": "n:",
       "layout": "IPY_MODEL_9fee2f6a367a4564b7d094d92d1f535f",
       "style": "IPY_MODEL_9c5c2ed4dc6c4c6aa78126c63a5a4aa5",
       "value": 30
      }
     },
     "a8362324eb194d6a997823b6b30e2e74": {
      "model_module": "@jupyter-widgets/controls",
      "model_module_version": "1.5.0",
      "model_name": "VBoxModel",
      "state": {
       "_dom_classes": [
        "widget-interact"
       ],
       "children": [
        "IPY_MODEL_192a0fd6a9b549c487228b34fc9e3ffa",
        "IPY_MODEL_e31ae817fbb249b7a3d320ced1f4d640"
       ],
       "layout": "IPY_MODEL_d8c3e459f4f9476390bb301a4db9b788"
      }
     },
     "b4f6edc9da7a444baf6ca13371e3ad4b": {
      "model_module": "@jupyter-widgets/controls",
      "model_module_version": "1.5.0",
      "model_name": "IntSliderModel",
      "state": {
       "description": "n:",
       "layout": "IPY_MODEL_71b9cdbb90d24003a393c4ebc769f478",
       "style": "IPY_MODEL_d549408189914859a1be4004a704d1ea",
       "value": 23
      }
     },
     "d549408189914859a1be4004a704d1ea": {
      "model_module": "@jupyter-widgets/controls",
      "model_module_version": "1.5.0",
      "model_name": "SliderStyleModel",
      "state": {
       "description_width": ""
      }
     },
     "d8c3e459f4f9476390bb301a4db9b788": {
      "model_module": "@jupyter-widgets/base",
      "model_module_version": "1.2.0",
      "model_name": "LayoutModel",
      "state": {}
     },
     "e03fdfc4cd6948379d5375846e6df2ed": {
      "model_module": "@jupyter-widgets/controls",
      "model_module_version": "1.5.0",
      "model_name": "HBoxModel",
      "state": {
       "children": [
        "IPY_MODEL_a74661814248473d9bf1e5ee305cef29",
        "IPY_MODEL_a5718431971c4efab18908e14adce24a"
       ],
       "layout": "IPY_MODEL_e6e1d84b36424bd4b93f6cc79d6e0845"
      }
     },
     "e31ae817fbb249b7a3d320ced1f4d640": {
      "model_module": "@jupyter-widgets/output",
      "model_module_version": "1.0.0",
      "model_name": "OutputModel",
      "state": {
       "layout": "IPY_MODEL_6c895705c7b548289ebc0c88ce7680ce"
      }
     },
     "e6e1d84b36424bd4b93f6cc79d6e0845": {
      "model_module": "@jupyter-widgets/base",
      "model_module_version": "1.2.0",
      "model_name": "LayoutModel",
      "state": {}
     }
    },
    "version_major": 2,
    "version_minor": 0
   }
  }
 },
 "nbformat": 4,
 "nbformat_minor": 4
}
