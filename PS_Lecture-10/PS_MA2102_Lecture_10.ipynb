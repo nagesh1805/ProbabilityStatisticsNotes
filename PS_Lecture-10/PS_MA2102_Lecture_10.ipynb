{
 "cells": [
  {
   "cell_type": "markdown",
   "metadata": {},
   "source": [
    "<h2 style=\"text-align:center\"> MA2102</h2>\n",
    "<h1 style=\"text-align:center\"> Probability and Statistics</h1>\n",
    "<h4 style=\"text-align:center\"> Lecture-10</h4>"
   ]
  },
  {
   "cell_type": "markdown",
   "metadata": {},
   "source": [
    "# Cumulative Distribution Function"
   ]
  },
  {
   "cell_type": "markdown",
   "metadata": {},
   "source": [
    "**Definition:**(Cumulative distribution function)   \n",
    "Let $X$ be a random variable defined on $(\\Omega,\\mathscr{F},P)$, then the function $F_X:\\mathbb{R}\\to\\mathbb{R}$,<br>\n",
    "defined by, $F_X(x)=P^X(-\\infty,x]$$=$<span style=\"color:magenta\">$P(X\\le x)$</span>$=$<span style=\"color:purple\">$P(\\{\\omega\\in\\Omega:X(\\omega)\\le x\\})$</span>   \n",
    "is called <span style=\"color:navy\">Cumulative distribution function($CDF$)</span> of $X$"
   ]
  },
  {
   "cell_type": "markdown",
   "metadata": {},
   "source": [
    "We are not so good with dealing with set functions(like <span style=\"color:navy\">$P^X$</span>), but we are good with dealing with functions of real variable(like <span style=\"color:navy\">$F_X$</span>)<span style=\"color:green\"> thanks to Calculus</span>."
   ]
  },
  {
   "cell_type": "markdown",
   "metadata": {},
   "source": [
    "To study probability distribution $P^X$ of $X$, it is suffices to study the $CDF$ $F_X$ of $X$, as $P^X$ is completely determined by values of $F_X$"
   ]
  },
  {
   "cell_type": "markdown",
   "metadata": {},
   "source": [
    "*Notation*:\n",
    "- $F_X(x_0+):=\\lim_{x\\to x_0+}F_X(x)$ &nbsp; (Right hand limit of $F_X(x)$ at $x_0$)\n",
    "- $F_X(x_0-):=\\lim_{x\\to x_0-}F_X(x)$ &nbsp; (Left hand limit of $F_X(x)$ at $x_0$)\n",
    "- $F_X(\\infty):=\\lim_{x\\to \\infty}F_X(x)$ &nbsp; (Upper limit of $F_X(x)$)  \n",
    "- $F_X(-\\infty):=\\lim_{x\\to -\\infty}F_X(x)$ &nbsp; (Lower limit of $F_X(x)$)"
   ]
  },
  {
   "cell_type": "markdown",
   "metadata": {},
   "source": [
    "Let us consider the example of rolling two dice"
   ]
  },
  {
   "cell_type": "markdown",
   "metadata": {},
   "source": [
    "$\\Omega=\\{(i,j):i,j\\in\\{1,2,3,4,5,6\\}\\}$"
   ]
  },
  {
   "cell_type": "markdown",
   "metadata": {},
   "source": [
    "$X:\\Omega\\to\\mathbb{R}$ with mapping $(i,j)\\mapsto i+j$, then $\\mathscr{X}=\\{2,3,...,12\\}$"
   ]
  },
  {
   "cell_type": "markdown",
   "metadata": {},
   "source": [
    "$CDF$ of $X$,"
   ]
  },
  {
   "cell_type": "markdown",
   "metadata": {},
   "source": [
    "$F_X(x)=P^X((-\\infty,x])$$=$<span style=\"color:magenta\">$P(X\\le x)$</span><br><br>\n",
    "&nbsp; &nbsp; &nbsp; &nbsp; &nbsp; &nbsp; &nbsp;$=P^X(\\{a\\in\\mathscr{X}:a\\le x\\})$  ($\\because$ $P^X(-\\infty,x]=P^X((-\\infty,x]\\cap \\mathscr{X})$)"
   ]
  },
  {
   "cell_type": "markdown",
   "metadata": {},
   "source": [
    "&nbsp; &nbsp; &nbsp; &nbsp; &nbsp; &nbsp; &nbsp;$=\\sum_{a\\in\\mathscr{X};a\\le x}P^X(\\{a\\})$"
   ]
  },
  {
   "cell_type": "markdown",
   "metadata": {},
   "source": [
    "$\\therefore$ $F_X(x)=\\left\\{\\begin{matrix}\n",
    " 0&x<2 \\\\ \n",
    " \\frac{1}{36}&2\\le x<3 \\\\ \n",
    " \\frac{3}{36}& 3\\le x<4\\\\ \n",
    " \\frac{6}{36} & 4\\le x<5\\\\ \n",
    " \\frac{10}{36}&5\\le x<6 \\\\ \n",
    " \\frac{15}{36} &6\\le x<7 \\\\ \n",
    " \\frac{21}{36} &7\\le x<8 \\\\\n",
    " \\frac{26}{36}& 8\\le x<9 \\\\ \n",
    " \\frac{30}{36} &9\\le x<10 \\\\ \n",
    " \\frac{33}{36} &10\\le x<11 \\\\ \n",
    " \\frac{35}{36}&11\\le x<12 \\\\ \n",
    " 1& x\\ge 12\n",
    "\\end{matrix}\\right.$"
   ]
  },
  {
   "cell_type": "code",
   "execution_count": 19,
   "metadata": {},
   "outputs": [
    {
     "data": {
      "image/png": "[encoded data removed]",
      "text/plain": [
       "<Figure size 432x288 with 1 Axes>"
      ]
     },
     "metadata": {
      "needs_background": "light"
     },
     "output_type": "display_data"
    }
   ],
   "source": [
    "import matplotlib.pyplot as plt\n",
    "\n",
    "def p(k):   # P^X({k})\n",
    "    c=0\n",
    "    for i in [1,2,3,4,5,6]:\n",
    "        for j in [1,2,3,4,5,6]:\n",
    "            if(i+j==k):\n",
    "                c=c+1\n",
    "    return c/36\n",
    "\n",
    "def F(x):  #CDF: F_X(x)=P^X({2})+P^X({3})+...+P^X{[x]}  where [x] is greatest integer lessthan or equal to x\n",
    "    s=0\n",
    "    for k in range(2,min(x+1,37)):\n",
    "        s+=p(k) \n",
    "    return s\n",
    "        \n",
    "fig, ax = plt.subplots()\n",
    "ax.scatter([x for x in range(2,13)],[F(x-1) for x in range(2,13)], facecolors='none', edgecolors='black')\n",
    "ax.scatter([x for x in range(2,13)],[F(x) for x in range(2,13)], edgecolors='black')\n",
    "ax.plot([0,2],[0,0])\n",
    "for x in range(2,12):\n",
    "    ax.plot([x,x+1],[F(x),F(x)])\n",
    "ax.plot([12,16],[1,1])\n",
    "ax.set_xlim(0,16)\n",
    "ax.set_ylim(0,1.1)\n",
    "ax.set_xticks([x for x in range(0,16)])\n",
    "ax.set_yticks([0,0.2,0.4,0.6,0.8,1.0])\n",
    "ax.set_ylim(0,1.1)\n",
    "ax.set_xlabel('$x$')  \n",
    "ax.set_ylabel('$F_X(x)$') \n",
    "ax.set_title(\"CDF\")  \n",
    "plt.show()"
   ]
  },
  {
   "cell_type": "markdown",
   "metadata": {},
   "source": [
    "In this example,for any $x$ in $\\mathscr{X}=\\{2,3,4,...,12\\}$, we have $F_X(x-)=F_X(x-1)$ ,and $F_X(x+)=F_X(x)$"
   ]
  },
  {
   "cell_type": "markdown",
   "metadata": {},
   "source": [
    "So, <span style=\"color:navy\">jump length</span> of $F_X$ at $x$=$F(x+)-F(x-)=F(x)-F(x-1)=P^X(\\{x\\})$ <span style=\"color:magenta\">$=P(X=x)$</span>"
   ]
  },
  {
   "cell_type": "markdown",
   "metadata": {},
   "source": [
    "As we can see that $CDF$ of discrete random variable $X$ happened to be a step function, which has jump discontinuities only at values that $X$ can take,and jump length at a discontinuity $i$ equals to $P(X=i)$ for $i=2,3,...,12$"
   ]
  },
  {
   "cell_type": "markdown",
   "metadata": {},
   "source": [
    "And we can also observe the following things from above graph<br><br>\n",
    "i. $F_X(x)$ is non-decreasing <br>\n",
    "ii. $F_X(x)$ is always right continuous <br>\n",
    "iii. Upper limit of $F_X(x)$ is $1$, and Lower limit of $F_X(x)$ is $0$"
   ]
  },
  {
   "cell_type": "markdown",
   "metadata": {},
   "source": [
    "Let us consider another example that we discussed earlier, that picking number in the interval $[0,1]$"
   ]
  },
  {
   "cell_type": "markdown",
   "metadata": {},
   "source": [
    "for  $0\\le a<b\\le 1$, $P^X((a,b])=b-a$<br>\n",
    "now, CDF $F_X(x)=P^X((-\\infty,x])=$<span style=\"color:magenta\">$P(X\\le x)$</span>$=$$P(X\\in(-\\infty,x])$"
   ]
  },
  {
   "cell_type": "markdown",
   "metadata": {},
   "source": [
    "for $x\\le 0$, $F_X(x)=P^X(-\\infty, x]=0$ ($\\because$ we never pick negatives)"
   ]
  },
  {
   "cell_type": "markdown",
   "metadata": {},
   "source": [
    "for $0<x<1$, $F_X(x)=P^X((-\\infty,x])$ <br><br>\n",
    "&nbsp; &nbsp; &nbsp; &nbsp; &nbsp; &nbsp; &nbsp; &nbsp; &nbsp; &nbsp; &nbsp; &nbsp; &nbsp; &nbsp; &nbsp; &nbsp; &nbsp; &nbsp; &nbsp; $=P^X((-\\infty,0]\\cup (0,x])$ "
   ]
  },
  {
   "cell_type": "markdown",
   "metadata": {},
   "source": [
    "&nbsp; &nbsp; &nbsp; &nbsp; &nbsp; &nbsp; &nbsp; &nbsp; &nbsp; &nbsp; &nbsp; &nbsp; &nbsp; &nbsp; &nbsp; &nbsp; &nbsp; &nbsp; &nbsp; $=P^X((-\\infty,0])+P^X((0,x])=0+(x-0)=x$ "
   ]
  },
  {
   "cell_type": "markdown",
   "metadata": {},
   "source": [
    "for $x\\ge 1$, $F_X(x)=P^X((-\\infty,x])$"
   ]
  },
  {
   "cell_type": "markdown",
   "metadata": {},
   "source": [
    "&nbsp; &nbsp; &nbsp; &nbsp; &nbsp; &nbsp; &nbsp; &nbsp; &nbsp; &nbsp; &nbsp; &nbsp; &nbsp; &nbsp; &nbsp; &nbsp; &nbsp; &nbsp; &nbsp; $=P^X((-\\infty,0]\\cup (0,1]\\cup (1,x])$ "
   ]
  },
  {
   "cell_type": "markdown",
   "metadata": {},
   "source": [
    "&nbsp; &nbsp; &nbsp; &nbsp; &nbsp; &nbsp; &nbsp; &nbsp; &nbsp; &nbsp; &nbsp; &nbsp; &nbsp; &nbsp; &nbsp; &nbsp; &nbsp; &nbsp; &nbsp; $=P^X((-\\infty,0])+P^X((0,1])+P^X(1,x]=0+(1-0)+0=1$ "
   ]
  },
  {
   "cell_type": "markdown",
   "metadata": {},
   "source": [
    "$\\therefore$ $F_X(x)=\\left\\{\\begin{matrix}\n",
    " 0&x\\le0 \\\\ \n",
    " x&0<x< 1 \\\\ \n",
    " 1&  x\\ge 1\n",
    "\\end{matrix}\\right.$"
   ]
  },
  {
   "cell_type": "code",
   "execution_count": 66,
   "metadata": {},
   "outputs": [
    {
     "data": {
      "image/png": "[encoded data removed]",
      "text/plain": [
       "<Figure size 432x288 with 1 Axes>"
      ]
     },
     "metadata": {},
     "output_type": "display_data"
    }
   ],
   "source": [
    "import matplotlib.pyplot as plt\n",
    "import numpy as np\n",
    "\n",
    "def F(x):\n",
    "    y=[]\n",
    "    for xx in x:\n",
    "        if xx < 0:\n",
    "            y.append(0)\n",
    "        elif xx >= 1:\n",
    "            y.append(1)\n",
    "        else:\n",
    "            y.append(xx)\n",
    "    return np.array(y)\n",
    "\n",
    "\n",
    "\n",
    "x=np.linspace(-4,4,100) # Partition of interval [-4,4]\n",
    "        \n",
    "fig, ax = plt.subplots()\n",
    "\n",
    "ax.plot([-4,4],[0,0],color='blue')\n",
    "ax.plot([0,0],[-4,4],color='blue')\n",
    "ax.plot(x,F(x),color='orange')\n",
    "ax.text(-0.1,1,'-- 1')\n",
    "ax.text(1,-0.15,'I')\n",
    "ax.text(0.95,-0.5,'1')\n",
    "ax.text(-0.2,-0.2,'0')\n",
    "ax.set_ylim(-4.1,4.1)\n",
    "ax.set_xlim(-4.1,4.1)\n",
    "ax.set_xticks([])\n",
    "ax.set_yticks([])\n",
    "\n",
    "ax.set_title(\"CDF\")  \n",
    "plt.show()"
   ]
  },
  {
   "cell_type": "markdown",
   "metadata": {},
   "source": [
    "Here we can see that $CDF$ of a continuous random variable happened to be a continuous function, and again following things can be observed.<br><br>   \n",
    "i) $F_X(x)$ is non-decreasing<br>\n",
    "ii) $F_X(x)$ always right continuous (<span style=\"color:blue\">In fact, here $F_X(x)$ is continuous</span>)<br>\n",
    "iii. Upper limit of $F_X(x)$ is $1$, and Lower limit of $F_X(x)$ is $0$"
   ]
  },
  {
   "cell_type": "markdown",
   "metadata": {},
   "source": [
    "**Facts about Monotone functions of real variable:**\n",
    "- at any point of $\\mathbb{R}$ both the left and right hand limits exists, so they never have a second kind discontinuity, and only type of discontinuity they can have is jump discontinuity.\n",
    "- set of discontinuity points always either finite or countably infinite, we never have uncountable discontinuities."
   ]
  },
  {
   "cell_type": "markdown",
   "metadata": {},
   "source": [
    "**Theorem:** Let $X$ be a random variable with $CDF$ $F_X(x)$, then<br><br>\n",
    "i) $F_X(x)\\le F_X(y)$ for $x<y$ (<span style=\"color:blue\">$F_X(x)$ is non-decreasing</span>)<br>\n",
    "ii) $F_X(x_0+)=F_X(x_0)~\\forall~x_0\\in\\mathbb{R}$ (<span style=\"color:blue\">$F_X(x)$ is right continuous function</span>)<br>\n",
    "iii) $F_X(\\infty)=1$ , $F_X(-\\infty)=0$(<span style=\"color:blue\">Upper limit of $F_X(x)$ is $1$, and Lower limit of $F_X(x)$ is $0$</span>)<br><br>"
   ]
  },
  {
   "cell_type": "markdown",
   "metadata": {},
   "source": [
    "*proof*:"
   ]
  },
  {
   "cell_type": "markdown",
   "metadata": {},
   "source": [
    "(i) for $x<y$ we have $(-\\infty,x]\\subset (-\\infty,y]$"
   ]
  },
  {
   "cell_type": "markdown",
   "metadata": {},
   "source": [
    "$\\Rightarrow$ $P^X((-\\infty,x])\\le P^X((-\\infty,y])$  ($\\because$ Monotone property for $P^X$)"
   ]
  },
  {
   "cell_type": "markdown",
   "metadata": {},
   "source": [
    "&nbsp; &nbsp; &nbsp; &nbsp;$F_X(x)\\le F_X(y)$ &nbsp; &nbsp; ($\\because F_X(x)=P^X(-\\infty,x])$)"
   ]
  },
  {
   "cell_type": "markdown",
   "metadata": {},
   "source": [
    "$\\therefore$ $F_X(x)$ is non-decreasing function"
   ]
  },
  {
   "cell_type": "markdown",
   "metadata": {},
   "source": [
    "(ii) Let $x_0$ be an arbitrary real number"
   ]
  },
  {
   "cell_type": "markdown",
   "metadata": {},
   "source": [
    "Since $F_X(x)$ is non-decreasing (monotone increasing) function, we can be sure about existence right hand limit of $F_X(x_0+)$.  (<span style=\"color:blue\">In fact$F_X(x_0-)$ also exists</span>)"
   ]
  },
  {
   "cell_type": "markdown",
   "metadata": {},
   "source": [
    "now, we want to show that $F_X(x_0+)=F_X(x_0)$"
   ]
  },
  {
   "cell_type": "markdown",
   "metadata": {},
   "source": [
    "Let $E_n=(-\\infty,x_0+\\frac{1}{n}]$, then $E_{n+1}\\subset E_n$ for $n=1,2,3,...$ i.e $\\{E_n\\}(\\searrow)$"
   ]
  },
  {
   "cell_type": "markdown",
   "metadata": {},
   "source": [
    "and $(-\\infty,x_0]=\\bigcap_{n=1}^{\\infty}E_n$"
   ]
  },
  {
   "cell_type": "markdown",
   "metadata": {},
   "source": [
    "$P^X((-\\infty,x_0])=P^X(lim_{n\\to\\infty}E_n)$ &nbsp;&nbsp; ($\\because \\bigcap_{n=1}^{\\infty}E_n=lim_{n\\to\\infty}E_n$)"
   ]
  },
  {
   "cell_type": "markdown",
   "metadata": {},
   "source": [
    "&nbsp;&nbsp; &nbsp;&nbsp; &nbsp;&nbsp; &nbsp;&nbsp;  &nbsp;&nbsp;  &nbsp;&nbsp;  &nbsp;&nbsp;  &nbsp;&nbsp; &nbsp;  $=\\lim_{n\\to\\infty}P^X(E_n)$ &nbsp;&nbsp; ($\\because$  Continuity of probability $P^X$ )"
   ]
  },
  {
   "cell_type": "markdown",
   "metadata": {},
   "source": [
    "$P^X((-\\infty,x_0])=\\lim_{n\\to\\infty}P^X((-\\infty,x_0+\\frac{1}{n}])$"
   ]
  },
  {
   "cell_type": "markdown",
   "metadata": {},
   "source": [
    "$F_X(x_0)=lim_{n\\to\\infty}F_X(x_0+\\frac{1}{n})$ &nbsp;&nbsp; ($\\because$ $F_X(x)=P^X((-\\infty,x])$ )"
   ]
  },
  {
   "cell_type": "markdown",
   "metadata": {},
   "source": [
    "$F_X(x_0)=F_X(x_0+)$  &nbsp; &nbsp; ($\\because$ $x_0+\\frac{1}{n}\\searrow x_0$ that means terms $x_0+\\frac{1}{n}$ approaching $x_0$ from right side of $x_0$ , so $F_X(x_0+\\frac{1}{n})$ approaches right hand limit of $F_X(x)$ at $x_0$ as $n\\to \\infty$)"
   ]
  },
  {
   "cell_type": "markdown",
   "metadata": {},
   "source": [
    "$\\therefore$ $F_X(x)$ is right continuous at $x_0$"
   ]
  },
  {
   "cell_type": "markdown",
   "metadata": {},
   "source": [
    "(iii) We can see that both $F_X(\\infty)$ and $F_X(-\\infty)$ exists as $F_X(x)$ is bounded monotone increasing function  ($\\because 0\\le P^X((-\\infty,x])\\le 1$)"
   ]
  },
  {
   "cell_type": "markdown",
   "metadata": {},
   "source": [
    "now, we want to show that $F_X(\\infty)=1$ and $F_X(-\\infty)=0$"
   ]
  },
  {
   "cell_type": "markdown",
   "metadata": {},
   "source": [
    "Take $E_n=(-\\infty,n]$, $E_n\\subseteq E_{n+1}$ for $n=1,2,3,...$  i.e $\\{E_n\\}(\\nearrow)$ , so $\\lim_{n\\to\\infty}E_n=\\bigcup_{n=1}^{\\infty}E_n$"
   ]
  },
  {
   "cell_type": "markdown",
   "metadata": {},
   "source": [
    "$(-\\infty,\\infty)=\\bigcup_{n=1}^{\\infty}E_n$"
   ]
  },
  {
   "cell_type": "markdown",
   "metadata": {},
   "source": [
    "$P^X(-\\infty,\\infty)=P^X(\\bigcup_{n=1}^{\\infty}E_n)$"
   ]
  },
  {
   "cell_type": "markdown",
   "metadata": {},
   "source": [
    "$P^X(\\mathbb{R})=P^X(\\lim_{n\\to\\infty}E_n)$"
   ]
  },
  {
   "cell_type": "markdown",
   "metadata": {},
   "source": [
    "$1=\\lim_{n\\to\\infty}P^X(E_n)$"
   ]
  },
  {
   "cell_type": "markdown",
   "metadata": {},
   "source": [
    "$1=\\lim_{n\\to\\infty}P^X((-\\infty,n])$"
   ]
  },
  {
   "cell_type": "markdown",
   "metadata": {},
   "source": [
    "$1=\\lim_{n\\to\\infty}F_X(n)$"
   ]
  },
  {
   "cell_type": "markdown",
   "metadata": {},
   "source": [
    "$\\therefore$ $F_X(\\infty)=1$"
   ]
  },
  {
   "cell_type": "markdown",
   "metadata": {},
   "source": [
    "now, Take $E_n=(-\\infty,-n]$, $E_{n+1}\\subseteq E_{n}$ for $n=1,2,3,...$  i.e $\\{E_n\\}(\\searrow)$ , so $\\lim_{n\\to\\infty}E_n=\\bigcap_{n=1}^{\\infty}E_n$"
   ]
  },
  {
   "cell_type": "markdown",
   "metadata": {},
   "source": [
    "$\\emptyset=\\bigcap_{n=1}^{\\infty}E_n$"
   ]
  },
  {
   "cell_type": "markdown",
   "metadata": {},
   "source": [
    "$P^X(\\emptyset)=P^X(\\bigcap_{n=1}^{\\infty}E_n)$"
   ]
  },
  {
   "cell_type": "markdown",
   "metadata": {},
   "source": [
    "$0=P^X(\\lim_{n\\to\\infty}E_n)$"
   ]
  },
  {
   "cell_type": "markdown",
   "metadata": {},
   "source": [
    "$0=\\lim_{n\\to\\infty}P^X(E_n)$"
   ]
  },
  {
   "cell_type": "markdown",
   "metadata": {},
   "source": [
    "$0=\\lim_{n\\to\\infty}P^X((-\\infty,-n])$"
   ]
  },
  {
   "cell_type": "markdown",
   "metadata": {},
   "source": [
    "$0=\\lim_{n\\to\\infty}F_X(-n)$"
   ]
  },
  {
   "cell_type": "markdown",
   "metadata": {},
   "source": [
    "$\\therefore$ $F_X(-\\infty)=0$"
   ]
  },
  {
   "cell_type": "markdown",
   "metadata": {},
   "source": [
    "**Theorem:** Let $F:\\mathbb{R}\\to\\mathbb{R}$ satisfying,    \n",
    "i) $F(x)\\le F(y)$ for $x<y$, &nbsp;\n",
    "ii) $F_X(x_0+)=F_X(x_0)~\\forall~x_0\\in\\mathbb{R}$,&nbsp;\n",
    "iii) $F_X(\\infty)=1$ , $F_X(-\\infty)=0$, then there exists a unique probability measure $P^F$ on $(\\mathbb{R},\\mathscr{B})$ that satisfies $P^F((-\\infty,x])=F(x)~\\forall~x\\in\\mathbb{R}$"
   ]
  },
  {
   "cell_type": "markdown",
   "metadata": {},
   "source": [
    "**Theorem:** Let $X$ be a random variable with $CDF$ $F_X$, then for $a<b$, $P(a<X\\le b)=F_X(b)-F_X(a)$"
   ]
  },
  {
   "cell_type": "markdown",
   "metadata": {},
   "source": [
    "*proof*:  $P(a<X\\le b)=P^X((a,b])$"
   ]
  },
  {
   "cell_type": "markdown",
   "metadata": {},
   "source": [
    "now, for $a<b$, $(-\\infty,b]=(-\\infty,a]\\cup(a,b]$"
   ]
  },
  {
   "cell_type": "markdown",
   "metadata": {},
   "source": [
    " $P^X((-\\infty,b])=P^X((-\\infty,a]\\cup(a,b])$"
   ]
  },
  {
   "cell_type": "markdown",
   "metadata": {},
   "source": [
    " $P^X((-\\infty,b])=P^X((-\\infty,a])+P^X((a,b])$  ($\\because$ finite additivity for $P^X$)"
   ]
  },
  {
   "cell_type": "markdown",
   "metadata": {},
   "source": [
    "$F_X(b)=F_X(a)+P^X((a,b])\\Rightarrow P^X((a,b])=F_X(b)-F_X(a)$"
   ]
  },
  {
   "cell_type": "markdown",
   "metadata": {},
   "source": [
    "$\\therefore~P(a<X\\le b)=F_X(b)-F_X(a)$"
   ]
  },
  {
   "cell_type": "markdown",
   "metadata": {},
   "source": [
    "**Problem**: Let $X$ be the lifetime in years of mechanical device. Assume that $X$ has the $CDF$ $F_X(x)=\\left\\{\\begin{matrix}\n",
    " 0&x<0 \\\\ \n",
    " 1-e^{-x}& x\\ge0 \n",
    "\\end{matrix}\\right.$<br>\n",
    "Find the probability that device has lifetime more than year but not more than three years."
   ]
  },
  {
   "cell_type": "code",
   "execution_count": 71,
   "metadata": {},
   "outputs": [
    {
     "data": {
      "image/png": "[encoded data removed]",
      "text/plain": [
       "<Figure size 432x288 with 1 Axes>"
      ]
     },
     "metadata": {},
     "output_type": "display_data"
    }
   ],
   "source": [
    "import matplotlib.pyplot as plt\n",
    "import numpy as np\n",
    "import math\n",
    "\n",
    "def F(x):\n",
    "    y=[]\n",
    "    for xx in x:\n",
    "        if xx < 0:\n",
    "            y.append(0)\n",
    "        else:\n",
    "            y.append(1-math.exp(-xx))\n",
    "    return np.array(y)\n",
    "\n",
    "\n",
    "\n",
    "x=np.linspace(-4,4,100) # Partition of interval [-4,4]\n",
    "        \n",
    "fig, ax = plt.subplots()\n",
    "\n",
    "ax.plot([-4,4],[0,0],color='blue')\n",
    "ax.plot([0,0],[-4,4],color='blue')\n",
    "ax.plot(x,F(x),color='orange')\n",
    "ax.text(-0.1,1,'-- 1')\n",
    "ax.text(1,-0.15,'I')\n",
    "ax.text(0.95,-0.5,'1')\n",
    "ax.text(-0.2,-0.2,'0')\n",
    "ax.set_ylim(-4.1,4.1)\n",
    "ax.set_xlim(-4.1,4.1)\n",
    "ax.set_xticks([])\n",
    "ax.set_yticks([])\n",
    "\n",
    "ax.set_title(\"CDF\")  \n",
    "plt.show()"
   ]
  },
  {
   "cell_type": "markdown",
   "metadata": {},
   "source": [
    "*solution:* Here we are interested in $P(1<X\\le 3)=?$      \n",
    "$P(1<X\\le 3)=F_X(3)-F_X(1)=(1-e^{-3})-(1-e^{-1})=e^{-1}-e^{-3}=0.318$\n"
   ]
  },
  {
   "cell_type": "markdown",
   "metadata": {},
   "source": [
    "**Theorem:** For any random variable $X$,$P(X=x)=F_X(x)-F_X(x-)$"
   ]
  },
  {
   "cell_type": "markdown",
   "metadata": {},
   "source": [
    "*proof:* $P(X=x)=P^X(\\{x\\})$   "
   ]
  },
  {
   "cell_type": "markdown",
   "metadata": {},
   "source": [
    "Take $E_n=(x-\\frac{1}{n},x]$, $E_{n+1}\\subseteq E_{n}~\\forall~n=1,2,3,...$ &nbsp; i.e $\\{E_n\\}(\\searrow)$, and $\\{x\\}=\\bigcap_{n=1}^{\\infty}E_n=\\lim_{n\\to\\infty}E_n$"
   ]
  },
  {
   "cell_type": "markdown",
   "metadata": {},
   "source": [
    "$P^X(\\{x\\})=P^X(\\lim_{n\\to\\infty}E_n)$<br><br>\n",
    "&nbsp; &nbsp; &nbsp; &nbsp;&nbsp; &nbsp;&nbsp; &nbsp; &nbsp;&nbsp; &nbsp;$=\\lim_{n\\to\\infty}P^X(E_n)$"
   ]
  },
  {
   "cell_type": "markdown",
   "metadata": {},
   "source": [
    "&nbsp; &nbsp; &nbsp; &nbsp;&nbsp; &nbsp;&nbsp; &nbsp; &nbsp;&nbsp; &nbsp;$=\\lim_{n\\to\\infty}P^X((x-\\frac{1}{n},x])$"
   ]
  },
  {
   "cell_type": "markdown",
   "metadata": {},
   "source": [
    "&nbsp; &nbsp; &nbsp; &nbsp;&nbsp; &nbsp;&nbsp; &nbsp; &nbsp;&nbsp; &nbsp;$=\\lim_{n\\to\\infty}P(x-\\frac{1}{n}<X\\le x)$"
   ]
  },
  {
   "cell_type": "markdown",
   "metadata": {},
   "source": [
    "&nbsp; &nbsp; &nbsp; &nbsp;&nbsp; &nbsp;&nbsp; &nbsp; &nbsp;&nbsp; &nbsp;$=\\lim_{n\\to\\infty}(F_X(x)-F_X(x-\\frac{1}{n}))=\\lim_{n\\to\\infty}F_X(x)-\\lim_{n\\to\\infty}F_X(x-\\frac{1}{n})$"
   ]
  },
  {
   "cell_type": "markdown",
   "metadata": {},
   "source": [
    "&nbsp; &nbsp; &nbsp; &nbsp;&nbsp; &nbsp;&nbsp; &nbsp; &nbsp;&nbsp; &nbsp;$=\\lim_{n\\to\\infty}F_X(x)-\\lim_{n\\to\\infty}F_X(x-\\frac{1}{n})$"
   ]
  },
  {
   "cell_type": "markdown",
   "metadata": {},
   "source": [
    "&nbsp; &nbsp; &nbsp; &nbsp;&nbsp; &nbsp;&nbsp; &nbsp; &nbsp;&nbsp; &nbsp;$=F_X(x)-F_X(x-)$ &nbsp;($\\because\\{x-\\frac{1}{n}\\}$ approaching $x$ from left)"
   ]
  },
  {
   "cell_type": "markdown",
   "metadata": {},
   "source": [
    "$\\therefore~P(X=x)=F_X(x)-F_X(x-)$"
   ]
  },
  {
   "cell_type": "markdown",
   "metadata": {},
   "source": [
    "**Corollary:**"
   ]
  },
  {
   "cell_type": "markdown",
   "metadata": {},
   "source": [
    "1. If $x$ is a point of continuity of $F_X(x)$, then $P(X=x)=0$ &nbsp;($\\because F_X(x-)=F_X(x)$)\n",
    "2. If $x$ is a point of discontinuity of $F_X(x)$, then $P(X=x)=$jump length of $F_X(x)$ at $x$  &nbsp; ($\\because P(X=x)=F_X(x)-F_X(x-)=F_X(x+)-F_X(x-)$)\n",
    "\n",
    "3. $P(a<X<b)=F_X(b-)-F_X(a)$"
   ]
  },
  {
   "cell_type": "markdown",
   "metadata": {},
   "source": [
    "*proof*:  $P(a<X<b)=P^X((a,b))$<br><br>\n",
    "now,&nbsp; &nbsp; $P^X((a,b])=P^X((a,b)\\cup \\{b\\})$"
   ]
  },
  {
   "cell_type": "markdown",
   "metadata": {},
   "source": [
    "&nbsp; &nbsp; &nbsp; &nbsp; &nbsp; &nbsp; &nbsp; &nbsp;  &nbsp; &nbsp; &nbsp; &nbsp; &nbsp; &nbsp; &nbsp; &nbsp; $=P^X((a,b))+P^X(\\{b\\})$"
   ]
  },
  {
   "cell_type": "markdown",
   "metadata": {},
   "source": [
    "$P^X((a,b))= P^X((a,b])-P^X(\\{b\\})$"
   ]
  },
  {
   "cell_type": "markdown",
   "metadata": {},
   "source": [
    "&nbsp; &nbsp; &nbsp; &nbsp; &nbsp; &nbsp; &nbsp; &nbsp;  &nbsp; &nbsp; &nbsp; &nbsp; &nbsp; &nbsp; &nbsp; &nbsp; \n",
    "$=P(a<X\\le b)-P(X=b)$"
   ]
  },
  {
   "cell_type": "markdown",
   "metadata": {},
   "source": [
    "&nbsp; &nbsp; &nbsp; &nbsp; &nbsp; &nbsp; &nbsp; &nbsp;  &nbsp; &nbsp; &nbsp; &nbsp; &nbsp; &nbsp; &nbsp; &nbsp; $=F_X(b)-F_X(a)-(F_X(b)-F_X(b-))=F_X(b-)-F_X(a)$"
   ]
  },
  {
   "cell_type": "markdown",
   "metadata": {},
   "source": [
    "$\\therefore~ P(a<X<b)=F_X(b-)-F_X(a)$"
   ]
  },
  {
   "cell_type": "markdown",
   "metadata": {},
   "source": [
    "4. $P(a\\le X<b)=F_X(b-)-F_X(a-)$  &nbsp; &nbsp;(Exercise)"
   ]
  },
  {
   "cell_type": "markdown",
   "metadata": {},
   "source": [
    "5. $P(a\\le X\\le b)=F_X(b)-F_X(a-)$  &nbsp; &nbsp;(Exercise)"
   ]
  },
  {
   "cell_type": "markdown",
   "metadata": {},
   "source": [
    "6. For $a<b$, If the $F_X$ is continuous at $a$ and $b$, then we have the following<br><br>\n",
    "&nbsp; &nbsp;$P(a<X\\le b)=P(a\\le X<b)=P(a< X< b)=P(a\\le X\\le b)=F_X(b)-F_X(a)$<br>\n",
    "&nbsp; &nbsp; &nbsp; &nbsp;&nbsp; &nbsp;&nbsp; &nbsp; &nbsp; &nbsp;&nbsp; &nbsp;&nbsp; &nbsp; &nbsp; &nbsp;&nbsp; &nbsp; &nbsp; &nbsp; &nbsp;&nbsp; &nbsp;&nbsp;&nbsp; &nbsp; &nbsp; &nbsp;&nbsp; &nbsp;&nbsp; &nbsp; &nbsp; &nbsp;&nbsp; &nbsp;($\\because~F_X(a-)=F_X(a)$ and $F_X(b-)=F_X(b)$ when we have continuity at $a,b$)"
   ]
  },
  {
   "cell_type": "markdown",
   "metadata": {},
   "source": [
    "**Example**: Let $X$ be the random variable with $CDF$"
   ]
  },
  {
   "cell_type": "markdown",
   "metadata": {},
   "source": [
    "$F_X(x)=\\left\\{\\begin{matrix}\n",
    " 0&x<0 \\\\ \n",
    " \\frac{x}{4}&0\\le x<1 \\\\ \n",
    " \\frac{1}{2}+\\frac{x-1}{4}& 1\\le x<2 \\\\ \n",
    " \\frac{11}{12}& 2\\le x<3 \\\\ \n",
    " 1& x\\ge 3\n",
    "\\end{matrix}\\right.$<br>\n",
    "Sketch the graph of $F_X(x)$ and then compute <br>\n",
    "(i)$P(X=i)$ for $i=1,2,3$<br>\n",
    "(ii)$P(\\frac{1}{2}<X<\\frac{3}{2}$<br>\n",
    "(iii)$P(0<X\\le 2)$<br>\n",
    "(iv)$P(0<X<2)$<br>\n",
    "(v)$P(0\\le X<2)$<br>\n",
    "(vi)$P(0\\le X\\le2)$<br>"
   ]
  },
  {
   "cell_type": "markdown",
   "metadata": {},
   "source": [
    "*solution:*"
   ]
  },
  {
   "cell_type": "code",
   "execution_count": 108,
   "metadata": {},
   "outputs": [
    {
     "data": {
      "image/png": "[encoded data removed]",
      "text/plain": [
       "<Figure size 432x288 with 1 Axes>"
      ]
     },
     "metadata": {
      "needs_background": "light"
     },
     "output_type": "display_data"
    }
   ],
   "source": [
    "import matplotlib.pyplot as plt\n",
    "\n",
    "        \n",
    "fig, ax = plt.subplots()\n",
    "x=[0,1,2,3]\n",
    "ax.scatter([1,2,3],[1/4,3/4,11/12],facecolors='none', edgecolors='black')\n",
    "ax.scatter([1,2,3],[1/2,11/12,1],color='black')\n",
    "ax.plot([-1,0],[0,0],color='blue')\n",
    "ax.plot([-1,0,1],[0,0,1/4],color='blue')\n",
    "ax.plot([1,2],[1/2,3/4],color='orange')\n",
    "ax.plot([2,3],[11/12,11/12],color='green')\n",
    "ax.plot([3,4],[1,1],color='red')\n",
    "ax.set_xlabel('$x$')  \n",
    "ax.set_ylabel('$F_X(x)$') \n",
    "ax.set_title(\"CDF\")  \n",
    "ax.set_ylim(0,1.1)\n",
    "ax.set_xlim(-2,4)\n",
    "\n",
    "ax.set_title(\"CDF\")  \n",
    "plt.show()"
   ]
  },
  {
   "cell_type": "markdown",
   "metadata": {},
   "source": [
    "(i)<br>\n",
    "$P(X=1)=F_X(1)-F_X(1-)=\\frac{1}{2}+\\frac{1-1}{4}-\\frac{1}{4}=\\frac{1}{4}$"
   ]
  },
  {
   "cell_type": "markdown",
   "metadata": {},
   "source": [
    "$P(X=2)=F_X(2)-F_X(2-)=\\frac{11}{12}-(\\frac{1}{2}+\\frac{2-1}{4})=\\frac{1}{6}$"
   ]
  },
  {
   "cell_type": "markdown",
   "metadata": {},
   "source": [
    "$P(X=3)=F_X(3)-F_X(3-)=1-\\frac{11}{12}=\\frac{1}{12}$"
   ]
  },
  {
   "cell_type": "markdown",
   "metadata": {},
   "source": [
    "(ii)<br>\n",
    "$P(\\frac{1}{2}<X<\\frac{3}{2})=F_X(\\frac{3}{2}-)-F_X(\\frac{1}{2})$"
   ]
  },
  {
   "cell_type": "markdown",
   "metadata": {},
   "source": [
    "&nbsp; &nbsp; &nbsp; &nbsp; &nbsp; &nbsp; &nbsp; &nbsp; &nbsp; &nbsp; &nbsp; &nbsp; &nbsp; &nbsp; $=F_X(\\frac{3}{2})-F_X(\\frac{1}{2})$  ($\\because$ $F_X(x)$ is continuous at $\\frac{3}{2}$)"
   ]
  },
  {
   "cell_type": "markdown",
   "metadata": {},
   "source": [
    "&nbsp; &nbsp; &nbsp; &nbsp; &nbsp; &nbsp; &nbsp; &nbsp; &nbsp; &nbsp; &nbsp; &nbsp; &nbsp; &nbsp; $=(\\frac{1}{2}+\\frac{\\frac{3}{2}-1}{4})-\\frac{\\frac{1}{2}}{4}=\\frac{1}{2}$"
   ]
  },
  {
   "cell_type": "markdown",
   "metadata": {},
   "source": [
    "$\\therefore P(\\frac{1}{2}<X<\\frac{3}{2})=\\frac{1}{2}$"
   ]
  },
  {
   "cell_type": "markdown",
   "metadata": {},
   "source": [
    "(iii) $P(0<X\\le 2)=F_X(2)-F_X(0)=\\frac{11}{12}-0=\\frac{11}{12}$"
   ]
  },
  {
   "cell_type": "markdown",
   "metadata": {},
   "source": [
    "(iv) $P(0<X<2)=F_X(2-)-F_X(0)=(\\frac{1}{2}+\\frac{2-1}{4})-0=\\frac{3}{4}$"
   ]
  },
  {
   "cell_type": "markdown",
   "metadata": {},
   "source": [
    "(v) $P(0\\le X<2)=F_X(2-)-F_X(0-)=F_X(2-)-F_X(0)=\\frac{3}{4}$ ($\\because$ $F_X(x)$ is continuous at $0$)"
   ]
  },
  {
   "cell_type": "markdown",
   "metadata": {},
   "source": [
    "(vi) $P(0<X\\le 2)=F_X(2)-F_X(0-)=F_X(2)-F_X(0)=\\frac{11}{12}$ ($\\because$ $F_X(x)$ is continuous at $0$)"
   ]
  }
 ],
 "metadata": {
  "hide_input": false,
  "kernelspec": {
   "display_name": "Python 3 (ipykernel)",
   "language": "python",
   "name": "python3"
  },
  "language_info": {
   "codemirror_mode": {
    "name": "ipython",
    "version": 3
   },
   "file_extension": ".py",
   "mimetype": "text/x-python",
   "name": "python",
   "nbconvert_exporter": "python",
   "pygments_lexer": "ipython3",
   "version": "3.10.0"
  }
 },
 "nbformat": 4,
 "nbformat_minor": 4
}
