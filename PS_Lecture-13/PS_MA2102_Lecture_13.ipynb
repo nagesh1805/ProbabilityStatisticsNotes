{
 "cells": [
  {
   "cell_type": "markdown",
   "metadata": {},
   "source": [
    "<h2 style=\"text-align:center\"> MA2102</h2>\n",
    "<h1 style=\"text-align:center\"> Probability and Statistics</h1>\n",
    "<h4 style=\"text-align:center\"> Lecture-13</h4>"
   ]
  },
  {
   "cell_type": "markdown",
   "metadata": {},
   "source": [
    "# Mathematical Expectation"
   ]
  },
  {
   "cell_type": "markdown",
   "metadata": {},
   "source": [
    "**Definition**:"
   ]
  },
  {
   "cell_type": "markdown",
   "metadata": {},
   "source": [
    "- Let $X$ be a discrete random variable with $PMF$ $p_X$ and support $S_X$, and if $\\sum_{x\\in S_X}|x|p_X(x)<\\infty$, then we say that expectation of $X$ exists, defined as $\\sum_{x\\in S_X}xp_X(x)$ (i.e Expectation exists if $\\sum_{x\\in S_x}xp_X(x)$ converges absolutely)"
   ]
  },
  {
   "cell_type": "markdown",
   "metadata": {},
   "source": [
    "- Let $X$ be a continuous random variable with $PDF$ $f_X(x)$ and if $\\int_{-\\infty}^{\\infty}|x|f_X(x)dx<\\infty$, then we say expectation exists, and defined as $\\int_{-\\infty}^{\\infty}xf_X(x)dx$ (i.e Expectation exists if $\\int_{-\\infty}^{\\infty}xf_X(x)dx$ (as improper integral)converges absolutely)"
   ]
  },
  {
   "cell_type": "markdown",
   "metadata": {},
   "source": [
    "We denote the expectation of $X$ by $E(X)$ and we call it expected value of $X$"
   ]
  },
  {
   "cell_type": "markdown",
   "metadata": {},
   "source": [
    "**Example:** Let $X$ be discrete random variable with $PMF$ $p_X(x)=\\left\\{\\begin{matrix}\n",
    " \\left(\\frac{1}{2}\\right)^x& x=1,2,3,... \\\\ \n",
    " 0& \\text{otherwise} \n",
    "\\end{matrix}\\right.$"
   ]
  },
  {
   "cell_type": "markdown",
   "metadata": {},
   "source": [
    "Here $S_X=\\{1,2,3,...\\}$"
   ]
  },
  {
   "cell_type": "markdown",
   "metadata": {},
   "source": [
    "$\\sum_{n\\in S_X}|n|p_X(n)=\\sum_{n=1}^{\\infty}n\\left(\\frac{1}{2}\\right)^n=\\sum_{n=1}^{\\infty}\\frac{n}{2^n}$"
   ]
  },
  {
   "cell_type": "markdown",
   "metadata": {},
   "source": [
    "Let $a_n=\\frac{n}{2^n}>0$, and $\\frac{a_{n+1}}{a_n}=\\frac{\\frac{n+1}{2^{n+1}}}{\\frac{n}{2^n}}=\\frac{n+1}{2n}$"
   ]
  },
  {
   "cell_type": "markdown",
   "metadata": {},
   "source": [
    "$\\lim_{n\\to\\infty}\\frac{a_{n+1}}{a_n}=\\lim_{n\\to\\infty}\\frac{1+\\frac{1}{n}}{2}=\\frac{1}{2}<1$"
   ]
  },
  {
   "cell_type": "markdown",
   "metadata": {},
   "source": [
    "$\\therefore$ By Ratio Test $\\sum_{n\\in S_X}|n|p_X(n)<\\infty$"
   ]
  },
  {
   "cell_type": "markdown",
   "metadata": {},
   "source": [
    "Hence $E(X)$ exists"
   ]
  },
  {
   "cell_type": "markdown",
   "metadata": {},
   "source": [
    "and $E(X)=\\sum_{n=1}^{\\infty}n\\left(\\frac{1}{2}\\right)^n=\\frac{1}{2}\\sum_{n=1}^{\\infty}n\\left(\\frac{1}{2}\\right)^{n-1}$"
   ]
  },
  {
   "cell_type": "markdown",
   "metadata": {},
   "source": [
    "&nbsp; &nbsp; &nbsp;&nbsp; &nbsp; &nbsp; &nbsp;&nbsp; &nbsp;&nbsp; &nbsp;$=\\frac{1}{2}\\left[\\left(1-\\frac{1}{2}\\right)^{-2}\\right]=\\frac{1}{2}(4)=2$  &nbsp; &nbsp; &nbsp; &nbsp; ($\\because~(1-x)^{-n}=\\sum_{n=1}^{\\infty}nx^{n-1}$)"
   ]
  },
  {
   "cell_type": "markdown",
   "metadata": {},
   "source": [
    "**Example:** Let $X$ be a discrete random variable with support $S_X=\\{1,2,3,4\\}$ and $PMF$, $p_X(1)=\\frac{4}{10},p_X(2)=\\frac{1}{10},p_X(3)=\\frac{3}{10},p_X(4)=\\frac{2}{10}$"
   ]
  },
  {
   "cell_type": "markdown",
   "metadata": {},
   "source": [
    "$E(X)=\\sum_{x\\in S_X}xp_X(x)=1\\left(\\frac{4}{10}\\right)+2\\left(\\frac{1}{10}\\right)+3\\left(\\frac{3}{10}\\right)+4\\left(\\frac{2}{10}\\right)=2.3$"
   ]
  },
  {
   "cell_type": "markdown",
   "metadata": {},
   "source": [
    "**Example**: Let $X$ be the continuous random variable with $PDF$ $f_X(x)=\\left\\{\\begin{matrix}\n",
    " 4x^3&0<x<1 \\\\ \n",
    " 0& \\text{otherwise}\n",
    "\\end{matrix}\\right.$"
   ]
  },
  {
   "cell_type": "markdown",
   "metadata": {},
   "source": [
    "$E(X)=\\int_{-\\infty}^{\\infty}xf_X(x)dx=\\int_{0}^{1}x(4x^3)dx=4\\int_{0}^{1}x^4dx=4\\left[\\frac{x^5}{5}\\right]_{0}^{1}=4\\left[\\frac{1}{5}-0\\right]$"
   ]
  },
  {
   "cell_type": "markdown",
   "metadata": {},
   "source": [
    "$\\therefore~E(X)=\\frac{4}{5}$"
   ]
  },
  {
   "cell_type": "markdown",
   "metadata": {},
   "source": [
    "**Note:** If the support of discrete(<span style=\"color:blue\"> continuous</span>) random variable is finite (<span style=\"color:blue\"> bounded</span>), then we don't have to check for absolute convergence of <br><br>$\\sum_{x\\in S_x}xp_X(x)$ (<span style=\"color:blue\"> $\\int_{-\\infty}^{\\infty}xf_X(x)dx$</span>) as the finite sum (<span style=\"color:blue\"> definite integral </span>) always finite"
   ]
  },
  {
   "cell_type": "markdown",
   "metadata": {},
   "source": [
    "**Example:** Let $X$ be a discrete random variable with $S_X=\\left\\{(-1)^{n+1}\\frac{3^n}{n}:n=1,2,3,...\\right\\}$ and $PMF$ $p_X((-1)^{n+1}\\frac{3^n}{n})=\\frac{2}{3^n}$,$n=1,2,3,...$"
   ]
  },
  {
   "cell_type": "markdown",
   "metadata": {},
   "source": [
    "$\\sum_{x\\in S_X}|x|p_X(x)=\\sum_{n=1}^{\\infty}\\begin{vmatrix}(-1)^{n+1}\\frac{3^n}{n}\\end{vmatrix}\\frac{2}{3^n}=2\\sum_{n=1}^{\\infty}\\frac{1}{n}$ which diverges to $\\infty$"
   ]
  },
  {
   "cell_type": "markdown",
   "metadata": {},
   "source": [
    "$\\therefore$ $E(X)$ does not exists"
   ]
  },
  {
   "cell_type": "markdown",
   "metadata": {},
   "source": [
    "But if we try to compute $E(X)$ without checking  absolute convergence we may get finite expected value, that does not mean expectation exists, $\\sum_{x\\in S_X}xp_X(x)=\\sum_{n=1}^{\\infty}\\left((-1)^{n+1}\\frac{3^n}{n}\\right)\\frac{2}{3^n}=2\\sum_{n=1}^{\\infty}(-1)^{n+1}\\frac{1}{n}=2\\log2 <\\infty$"
   ]
  },
  {
   "cell_type": "markdown",
   "metadata": {},
   "source": [
    "**Example:** Let $X$ be a continuous random variable with $PDF$ $f_X(x)=\\left\\{\\begin{matrix}\n",
    " \\frac{10}{x^2}&x>10 \\\\ \n",
    " 0&x\\le 10 \n",
    "\\end{matrix}\\right.$"
   ]
  },
  {
   "cell_type": "markdown",
   "metadata": {},
   "source": [
    "then $\\int_{-\\infty}^{\\infty}|x|f_X(x)dx=\\int_{10}^{\\infty}|x|\\frac{10}{x^2}dx=\\int_{10}^{\\infty}x\\left(\\frac{10}{x^2}\\right)dx=\\int_{10}^{\\infty}\\frac{10}{x}dx$ <br><br>"
   ]
  },
  {
   "cell_type": "markdown",
   "metadata": {},
   "source": [
    "&nbsp; &nbsp; &nbsp; &nbsp; &nbsp; &nbsp; &nbsp; &nbsp;&nbsp; &nbsp; &nbsp; &nbsp;&nbsp; &nbsp; &nbsp; &nbsp;&nbsp; &nbsp;&nbsp; &nbsp; &nbsp; &nbsp;&nbsp;$=\\lim_{t\\to \\infty}\\int_{10}^{t}\\frac{10}{t}dt=10\\lim_{t\\to\\infty}\\left[\\log{x}\\right]_{10}^{t}=10\\left[\\lim_{t\\to\\infty}\\log{t}-\\log{10}\\right]=\\infty$&nbsp; &nbsp;($\\because$ $\\lim_{t\\to\\infty}\\log{t}=\\infty$)"
   ]
  },
  {
   "cell_type": "markdown",
   "metadata": {},
   "source": [
    "$\\therefore$ $E(X)$ does not exists."
   ]
  },
  {
   "cell_type": "markdown",
   "metadata": {},
   "source": [
    "**Example:** Let $X$ be a continuous random variable with $PDF$ $f_X(x)=\\frac{1}{\\pi}\\frac{1}{1+x^2}$, $-\\infty<x<\\infty$, "
   ]
  },
  {
   "cell_type": "markdown",
   "metadata": {},
   "source": [
    "then $\\int_{-\\infty}^{\\infty}|x|f_X(x)dx=\\int_{-\\infty}^{\\infty}|x|\\frac{1}{\\pi}\\frac{1}{1+x^2}dx=\\frac{2}{\\pi}\\int_{0}^{\\infty}\\frac{x}{1+x^2}dx=\\frac{1}{\\pi}\\lim_{t\\to\\infty}\\int_{0}^{t}\\frac{2x}{1+x^2}dx$"
   ]
  },
  {
   "cell_type": "markdown",
   "metadata": {},
   "source": [
    "&nbsp; &nbsp; &nbsp; &nbsp; &nbsp;&nbsp; &nbsp; &nbsp; &nbsp; &nbsp; &nbsp; &nbsp; &nbsp;&nbsp; &nbsp; &nbsp; &nbsp;&nbsp; &nbsp; &nbsp; &nbsp;&nbsp; $=\\frac{1}{\\pi}\\lim_{t\\to\\infty}\\left[\\log{(1+x^2)}\\right]_{0}^{t}=\\frac{1}{\\pi}\\lim_{t\\to\\infty}\\left[\\log{(1+t^2)}-\\log{1}\\right]=\\infty$"
   ]
  },
  {
   "cell_type": "markdown",
   "metadata": {},
   "source": [
    "$\\therefore$ $E(X)$ does not exist"
   ]
  },
  {
   "cell_type": "markdown",
   "metadata": {},
   "source": [
    "- Let $(\\Omega,\\mathscr{F},P)$ be a probability space and $I_A$ be a indicator random variable for $A\\in\\mathscr{F}$, then $E(I_A)=P(A)$<br><br>\n",
    "$I_A(\\omega)=\\left\\{\\begin{matrix}\n",
    " 1& \\omega\\in A\\\\ \n",
    " 0& \\omega\\notin A\n",
    "\\end{matrix}\\right.$<br><br>\n",
    "$E(I_A)=1P(I_A=1)+0P(I_A=0)=P(I_A=1)=P(A)$   ($\\because$ $I_A=1 \\Leftrightarrow A$ happens)"
   ]
  },
  {
   "cell_type": "markdown",
   "metadata": {},
   "source": [
    "### Expectation of function of random variable:"
   ]
  },
  {
   "cell_type": "markdown",
   "metadata": {},
   "source": [
    "Let $X$ be a discrete(<span style=\"color:blue\">continuous</span>) random variable with $PMF$(<span style=\"color:blue\">$PDF$</span>) $p_X(x)$(<span style=\"color:blue\">$f_X(x)$</span>) and $Y=g(X)$ be another random variable which is function of $X$. If we are interested in computing $E(Y)$, then the obvious approach is to find the probability distribution of $Y$, that is $p_Y(y)$(<span style=\"color:blue\">$f_Y(y)$</span>)for given transformation $Y=g(X)$, then one can find the $E(Y)$ as follows."
   ]
  },
  {
   "cell_type": "markdown",
   "metadata": {},
   "source": [
    "$E(Y)=\\sum_{y\\in S_Y}y p_Y(y)$=(<span style=\"color:blue\">$\\int_{-\\infty}^{\\infty}yf_Y(y)dy$</span>), provided sum(<span style=\"color:blue\">integral</span>) converges absolutely"
   ]
  },
  {
   "cell_type": "markdown",
   "metadata": {},
   "source": [
    "**Example:** Let $X$ be a random variable with support $S_X=\\{-1,0,1\\}$ and $PMF$ $p_X(-1)=0.2,p_X(0)=0.5$ and $p_X(1)=0.3$ and $Y=X^2$, "
   ]
  },
  {
   "cell_type": "markdown",
   "metadata": {},
   "source": [
    "then $S_Y=\\{0,1\\}$, and $p_Y(0)=p_X(0)=0.5$  ($\\because$ $Y=0\\Leftrightarrow X=0$)"
   ]
  },
  {
   "cell_type": "markdown",
   "metadata": {},
   "source": [
    "$p_Y(1)=p_X(-1)+p_X(1)=0.2+0.3=0.5$  ($\\because$ $Y=1\\Leftrightarrow X=-1 ~\\text{or}~X=1$)"
   ]
  },
  {
   "cell_type": "markdown",
   "metadata": {},
   "source": [
    "$\\therefore$ $E(Y)=0p_Y(0)+1p_Y(1)=0(0.5)+1(0.5)=0.5$"
   ]
  },
  {
   "cell_type": "markdown",
   "metadata": {},
   "source": [
    "Hence $E(X^2)=0.5$"
   ]
  },
  {
   "cell_type": "markdown",
   "metadata": {},
   "source": [
    "There is another way to think about computing $E(g(X))$. That is $g(X)$ will be equal to $g(x)$ when $X=x$. So it is reasonable that $E(g(X))$ should be weighted average of the values of $g(x)$ over $x\\in S_X$with $g(x)$ being weighted by $p_X(x)$"
   ]
  },
  {
   "cell_type": "markdown",
   "metadata": {},
   "source": [
    "Let us see this for above example,"
   ]
  },
  {
   "cell_type": "markdown",
   "metadata": {},
   "source": [
    "$E(X^2)=\\sum_{x\\in S_X}x^2p_X(x)=(-1)^2p_X(-1)+0^2p_X(0)+1^2p_X(1)=1(0.2)+0(0.5)+1(0.3)=0.5$"
   ]
  },
  {
   "cell_type": "markdown",
   "metadata": {},
   "source": [
    "$\\therefore$ $E(X^2)=0.5$"
   ]
  },
  {
   "cell_type": "markdown",
   "metadata": {},
   "source": [
    "**Theorem**: Let $X$ be a random variable, $Y=g(X)$. If $X$ is a discrete(<span style=\"color:blue\">continuous</span>) random variable with $PMF$(<span style=\"color:blue\">$PDF$</span>) $p_X(x)$(<span style=\"color:blue\">$f_X(x)$</span>) and $\\sum_{x\\in S_X}|g(x)|p_X(x)<\\infty$(<span style=\"color:blue\">$\\int_{-\\infty}^{\\infty}|g(x)|f_X(x)dx<\\infty$</span>). Then $E(Y)$ exists and $E(Y)=$$\\sum_{x\\in S_X}g(x)p_X(x)$(<span style=\"color:blue\">$\\int_{-\\infty}^{\\infty}g(x)f_X(x)dx$</span>)"
   ]
  },
  {
   "cell_type": "markdown",
   "metadata": {},
   "source": [
    "*proof:*  We will give proof only in the case when $X$ is discrete random variable."
   ]
  },
  {
   "cell_type": "markdown",
   "metadata": {},
   "source": [
    "It is given that $\\sum_{x\\in S_X}|g(x)|p_X(x)<\\infty$"
   ]
  },
  {
   "cell_type": "markdown",
   "metadata": {},
   "source": [
    "First we will show that $E(Y)$ exists, for that we need to show $\\sum_{y\\in S_Y}|y|p_Y(y)<\\infty$"
   ]
  },
  {
   "cell_type": "markdown",
   "metadata": {},
   "source": [
    "$\\sum_{x\\in S_X}|g(x)|p_X(x)=\\sum_{y\\in S_Y}\\sum_{x;g(x)=y}|g(x)|p_X(x)=\\sum_{y\\in S_Y}\\left(\\sum_{x;g(x)=y}|y|p_X(x)\\right)$"
   ]
  },
  {
   "cell_type": "markdown",
   "metadata": {},
   "source": [
    "&nbsp; &nbsp;&nbsp;&nbsp; &nbsp; &nbsp;&nbsp; &nbsp; &nbsp;&nbsp; &nbsp; &nbsp; &nbsp; &nbsp; &nbsp;&nbsp; &nbsp; &nbsp;&nbsp; &nbsp; &nbsp;$=\\sum_{y\\in S_Y}|y|\\left(\\sum_{x;g(x)=y}p_X(x)\\right)=\\sum_{y\\in S_Y}|y|p_X(g^{-1}\\{y\\})=\\sum_{y\\in S_Y}|y|p_Y(y)$"
   ]
  },
  {
   "cell_type": "markdown",
   "metadata": {},
   "source": [
    "$\\therefore~\\sum_{y\\in S_Y}|y|p_Y(y)=\\sum_{x\\in S_X}|g(x)|p_X(x)<\\infty$"
   ]
  },
  {
   "cell_type": "markdown",
   "metadata": {},
   "source": [
    "Hence $E(Y)$ exists"
   ]
  },
  {
   "cell_type": "markdown",
   "metadata": {},
   "source": [
    "now, $\\sum_{x\\in S_X}g(x)p_X(x)=\\sum_{y\\in S_Y}\\left(\\sum_{x;g(x)=y}g(x)p_X(x)\\right)=\\sum_{y\\in S_Y}\\left(\\sum_{x;g(x)=y}yp_X(x)\\right)=\\sum_{y\\in S_Y}y\\left(\\sum_{x;g(x)=y}p_X(x)\\right)$"
   ]
  },
  {
   "cell_type": "markdown",
   "metadata": {},
   "source": [
    "&nbsp; &nbsp; &nbsp; &nbsp; &nbsp; &nbsp; &nbsp; &nbsp; &nbsp; &nbsp; &nbsp; &nbsp; &nbsp; &nbsp; &nbsp; &nbsp; &nbsp; &nbsp; &nbsp; &nbsp; $=\\sum_{y\\in S_Y}yp_X(g^{-1}\\{y\\})=\\sum_{y\\in S_Y}yp_Y(y)=E(Y)$"
   ]
  },
  {
   "cell_type": "markdown",
   "metadata": {},
   "source": [
    "**Note:** \n",
    "- If $g(X)\\ge 0$, then $E(g(X))\\ge 0$\n",
    "- If $g_1(X)\\ge g_2(X)$ then $E(g_1(X))\\ge E(g_2(X))$\n",
    "- If $a\\le g(X)\\le b$ then $a\\le E(g(X))\\le b$\n",
    "- $E(X)$ exists iff $E(|X|)$ exists"
   ]
  },
  {
   "cell_type": "markdown",
   "metadata": {},
   "source": [
    "**Theorem:** Let $g_1(X)$,$g_2(X)$ are two (Borel mesuarable)functions of random variable $X$. Suppose $E(g_1(X)),E(g_2(X))$ exists, then for any constants $k_1,k_2$, $E(k_1g_1(X)+k_2g_2(X))$ exists and $E(k_1g_1(X)+k_2g_2(X))=k_1E(g_1(X))+k_2E(g_2(X))$"
   ]
  },
  {
   "cell_type": "markdown",
   "metadata": {},
   "source": [
    "*proof:* we will prove in the discrete case"
   ]
  },
  {
   "cell_type": "markdown",
   "metadata": {},
   "source": [
    "Let $X$ be a discrete random variable with support $S_X$ and $PMF$ $p_X(x)$"
   ]
  },
  {
   "cell_type": "markdown",
   "metadata": {},
   "source": [
    "It is given that $E(g_1(X))$,$E(g_2(X))$ exists, i.e $\\sum_{x\\in S_X}|g_1(x)|p_X(x)<\\infty$,$\\sum_{x\\in S_X}|g_2(x)|p_X(x)<\\infty$"
   ]
  },
  {
   "cell_type": "markdown",
   "metadata": {},
   "source": [
    "First we want to show that $E(k_1g_1(X)+k_2g_2(X))$ exists"
   ]
  },
  {
   "cell_type": "markdown",
   "metadata": {},
   "source": [
    "For that we need to show that $\\sum_{x\\in S_X}|k_1g_1(x)+k_2g_2(x)|p_X(x)<\\infty$"
   ]
  },
  {
   "cell_type": "markdown",
   "metadata": {},
   "source": [
    "$\\sum_{x\\in S_X}|k_1g_1(x)+k_2g_2(x)|p_X(x)\\le \\sum_{x\\in S_X}(|k_1||g_1(x)|+|k_2||g_2(x)|)p_X(x)$ ($\\because~|k_1g_1(x)+k_2g_2(x)|\\le |k_1||g_1(x)|+|k_2||g_2(x)|$)"
   ]
  },
  {
   "cell_type": "markdown",
   "metadata": {},
   "source": [
    "&nbsp; &nbsp; &nbsp; &nbsp; &nbsp; &nbsp; &nbsp; &nbsp; \n",
    "$\\le |k_1|\\sum_{x\\in S_X}|g_1(x)|p_X(x)+|k_2|\\sum_{x\\in S_X}|g_2(x)|p_X(x)$  $<\\infty$"
   ]
  },
  {
   "cell_type": "markdown",
   "metadata": {},
   "source": [
    "$\\therefore$ $\\sum_{x\\in S_X}|k_1g_1(x)+k_2g_2(x)|p_X(x)<\\infty$"
   ]
  },
  {
   "cell_type": "markdown",
   "metadata": {},
   "source": [
    "Hence $E(k_1g_1(X)+k_2g_2(X))$ exists"
   ]
  },
  {
   "cell_type": "markdown",
   "metadata": {},
   "source": [
    "now, $E(k_1g_1(X)+k_2g_2(X))=\\sum_{x\\in S_X}(k_1g_1(x)+k_2g_2(x))p_X(x)$ "
   ]
  },
  {
   "cell_type": "markdown",
   "metadata": {},
   "source": [
    "&nbsp;&nbsp; &nbsp; &nbsp;&nbsp; &nbsp; &nbsp; &nbsp; &nbsp; &nbsp; &nbsp; &nbsp; &nbsp; &nbsp; &nbsp; &nbsp; &nbsp;&nbsp; &nbsp; &nbsp; &nbsp; &nbsp; &nbsp; &nbsp; &nbsp; &nbsp;$=k_1\\sum_{x\\in S_X}g_1(x)p_X(x)+k_2\\sum_{x\\in S_X}g_2(x)p_X(x)$"
   ]
  },
  {
   "cell_type": "markdown",
   "metadata": {},
   "source": [
    "$\\therefore$ $E(k_1g_1(X)+k_2g_2(X))=k_1E(g_1(X))+k_2E(g_2(X))$"
   ]
  },
  {
   "cell_type": "markdown",
   "metadata": {},
   "source": [
    "**Corollary:** $E(aX+b)=aE(X)+b$"
   ]
  },
  {
   "cell_type": "markdown",
   "metadata": {},
   "source": [
    "*proof:* In the above theorem $k_1=a,g_1(X)=X,k_2=b,g_2(X)=1$"
   ]
  },
  {
   "cell_type": "markdown",
   "metadata": {},
   "source": [
    "- $E(aX)=aE(X)$&nbsp; &nbsp; ($\\because$ $b=0$ in the above corollary)<br><br>\n",
    "- $E(b)=b$ &nbsp; &nbsp; ($\\because$ $a=0$ in the above corollary)"
   ]
  },
  {
   "cell_type": "markdown",
   "metadata": {},
   "source": [
    "**Theorem:** Let $g_1(X)$,$g_2(X),...,g_n(X)$ are (Borel measurable) functions of random variable $X$. Suppose $E(g_i(X))$ exists for $i=1,2,...,n$, then for any constants $k_1,k_2,...,k_n$, $E(\\sum_{i=1}^{n}k_ig_i(X))$ exists and $E(\\sum_{i=1}^{n}k_ig_i(X))=\\sum_{i=1}^{n}k_iE(g_i(X))$"
   ]
  },
  {
   "cell_type": "markdown",
   "metadata": {},
   "source": [
    "*proof*: By Induction"
   ]
  },
  {
   "cell_type": "markdown",
   "metadata": {},
   "source": [
    "**Example:** Let $X$ be a continuous random variable with $PDF$ $f_X(x)=\\left\\{\\begin{matrix}\n",
    " 2(1-x)& 0<x<1\\\\ \n",
    " 0& \\text{otherwise} \n",
    "\\end{matrix}\\right.$"
   ]
  },
  {
   "cell_type": "markdown",
   "metadata": {},
   "source": [
    "Find the $E(X)$, $E(X^2)$, and $E(6X+3X^2)$"
   ]
  },
  {
   "cell_type": "markdown",
   "metadata": {},
   "source": [
    "*solution:* $E(X)=\\int_{-\\infty}^{\\infty}xf_X(x)dx=\\int_{0}^{1}x(2(1-x))dx=2\\int_{0}^{1}(x-x^2)dx$"
   ]
  },
  {
   "cell_type": "markdown",
   "metadata": {},
   "source": [
    "$=2\\left[\\frac{x^2}{2}-\\frac{x^3}{3}\\right]_{0}^{1}=2\\left[\\left(\\frac{1}{2}-\\frac{1}{3}\\right)-(0-0)\\right]=2\\left(\\frac{1}{6}\\right)=\\frac{1}{3}$"
   ]
  },
  {
   "cell_type": "markdown",
   "metadata": {},
   "source": [
    "$\\therefore$ $E(X)=\\frac{1}{3}$"
   ]
  },
  {
   "cell_type": "markdown",
   "metadata": {},
   "source": [
    "$E(X^2)=\\int_{-\\infty}^{\\infty}x^2f_X(x)dx=\\int_{0}^{1}x^2(2(1-x))dx=2\\int_{0}^{1}(x^2-x^3)dx$"
   ]
  },
  {
   "cell_type": "markdown",
   "metadata": {},
   "source": [
    "$=2\\left[\\frac{x^3}{3}-\\frac{x^4}{4}\\right]_{0}^{1}=2\\left[\\left(\\frac{1}{3}-\\frac{1}{4}\\right)-(0-0)\\right]=2\\left(\\frac{1}{12}\\right)=\\frac{1}{6}$"
   ]
  },
  {
   "cell_type": "markdown",
   "metadata": {},
   "source": [
    "$\\therefore$ $E(X^2)=\\frac{1}{6}$"
   ]
  },
  {
   "cell_type": "markdown",
   "metadata": {},
   "source": [
    "now, $E(6X+3X^2)=6E(X)+3E(X^2)=6(\\frac{1}{3})+3(\\frac{1}{6})=\\frac{5}{2}$"
   ]
  },
  {
   "cell_type": "markdown",
   "metadata": {},
   "source": [
    "$\\therefore E(6X+3X^2)=\\frac{5}{2}$"
   ]
  },
  {
   "cell_type": "markdown",
   "metadata": {},
   "source": [
    " "
   ]
  },
  {
   "cell_type": "markdown",
   "metadata": {},
   "source": [
    " - Can we say $E(g_1(X)g_2(X))=E(g_1(X))E(g_2(X))$ ?"
   ]
  },
  {
   "cell_type": "markdown",
   "metadata": {},
   "source": [
    " &nbsp; &nbsp; &nbsp; &nbsp; Answer is No."
   ]
  },
  {
   "cell_type": "markdown",
   "metadata": {},
   "source": [
    "**Example:** Let a horizontal line segment of length 5 is divided into two parts at random. If $X$ denote the length of the left hand part, then the reasonable $PDF$ of $X$ is, $f_X(x)=\\left\\{\\begin{matrix}\n",
    "\\frac{1}{5}& 0<x<5\\\\ \n",
    " 0& \\text{otherwise} \n",
    "\\end{matrix}\\right.$"
   ]
  },
  {
   "cell_type": "markdown",
   "metadata": {},
   "source": [
    "then $E(X)=\\int_{-\\infty}^{\\infty}xf_X(x)dx=\\int_{0}^{5}x\\left(\\frac{1}{5}\\right)dx=\\frac{1}{5}\\left[\\frac{x^2}{2}\\right]_{0}^{5}=\\frac{1}{5}\\left[\\frac{25}{2}-0\\right]=\\frac{5}{2}$"
   ]
  },
  {
   "cell_type": "markdown",
   "metadata": {},
   "source": [
    "$E(5-X)=5-E(X)=5-\\frac{5}{2}=\\frac{5}{2}$"
   ]
  },
  {
   "cell_type": "markdown",
   "metadata": {},
   "source": [
    "and $E(X(5-X))=\\int_{-\\infty}^{\\infty}(x(5-x))f_X(x)dx=\\int_{0}^{5}(x(5-x))\\left(\\frac{1}{5}\\right)dx=\\frac{1}{5}\\left[\\frac{5x^2}{2}-\\frac{x^3}{3}\\right]_{0}^{5}$"
   ]
  },
  {
   "cell_type": "markdown",
   "metadata": {},
   "source": [
    "&nbsp; &nbsp; &nbsp; &nbsp; &nbsp; &nbsp; &nbsp; &nbsp; &nbsp; &nbsp; &nbsp; &nbsp; &nbsp; &nbsp; &nbsp; &nbsp; $=\\frac{1}{5}\\left[\\left(\\frac{5(5^2)}{2}-\\frac{5^3}{3}\\right)-(0-0)\\right]=\\frac{25}{6}\\ne\\left(\\frac{5}{2}\\right)\\left(\\frac{5}{2}\\right)=E(X)E(5-X)$"
   ]
  },
  {
   "cell_type": "markdown",
   "metadata": {},
   "source": [
    "$\\therefore$ $E(X(5-X))\\ne E(X)E(5-X)$"
   ]
  },
  {
   "cell_type": "markdown",
   "metadata": {},
   "source": [
    "Hence in general $E(g_1(X)g_2(X)$ may not be same as $E(g_1(X))E(g_2(X))$"
   ]
  }
 ],
 "metadata": {
  "hide_input": false,
  "kernelspec": {
   "display_name": "Python 3 (ipykernel)",
   "language": "python",
   "name": "python3"
  },
  "language_info": {
   "codemirror_mode": {
    "name": "ipython",
    "version": 3
   },
   "file_extension": ".py",
   "mimetype": "text/x-python",
   "name": "python",
   "nbconvert_exporter": "python",
   "pygments_lexer": "ipython3",
   "version": "3.10.0"
  }
 },
 "nbformat": 4,
 "nbformat_minor": 4
}
