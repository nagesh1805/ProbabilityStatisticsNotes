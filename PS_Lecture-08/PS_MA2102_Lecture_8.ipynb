{
 "cells": [
  {
   "cell_type": "markdown",
   "metadata": {},
   "source": [
    "<h2 style=\"text-align:center\"> MA2102</h2>\n",
    "<h1 style=\"text-align:center\"> Probability and Statistics</h1>\n",
    "<h4 style=\"text-align:center\"> Lecture-8</h4>"
   ]
  },
  {
   "cell_type": "markdown",
   "metadata": {},
   "source": [
    "## Total Probability theorem and Baye's theorem"
   ]
  },
  {
   "cell_type": "markdown",
   "metadata": {},
   "source": [
    " <p style=\"color:red\"><u>Problem 3:</u> Suppose a calculator manufacturer purchase his IC's(Integrated Circuit board) from supplies $B_1,B_2$ and $B_3$ with 40% from $B_1$, 30% from$B_2$ and 30% from $B_3$. Suppose 1% of supply from $B_1$,5% from $B_2$ and 10% from $B_3$ is defective. <br>(i) What is the probability that a randomly selected IC from manufacturer stock is defective. <br>(ii) Suppose a randomly selected IC is found to be defective. What is the probability that it was supplied by supplier $B_{1}$</p>        "
   ]
  },
  {
   "cell_type": "code",
   "execution_count": 178,
   "metadata": {},
   "outputs": [
    {
     "data": {
      "image/png": "[encoded data removed]",
      "text/plain": [
       "<Figure size 864x432 with 1 Axes>"
      ]
     },
     "metadata": {
      "needs_background": "light"
     },
     "output_type": "display_data"
    }
   ],
   "source": [
    "import matplotlib.pyplot as plt\n",
    "import matplotlib.patches as patches\n",
    "fig, ax = plt.subplots(figsize=(12, 6))\n",
    "ax.set_xlim(0,12)\n",
    "ax.set_ylim(0,6)\n",
    "plt.axis('off')\n",
    "#drawing B1,B2,B3\n",
    "b1 = patches.Rectangle((0, 0), 4, 6, linewidth=1,edgecolor='b', facecolor=\"yellow\")\n",
    "b2 = patches.Rectangle((4, 3), 6, 3, linewidth=1,edgecolor='b', facecolor=\"green\")\n",
    "b3 = patches.Rectangle((4, 0), 6, 3, linewidth=1,edgecolor='b', facecolor=\"blue\")\n",
    "#drawing D\n",
    "d = patches.Ellipse((5, 2.7), 3, 2, linewidth=1,edgecolor='b', facecolor=(0.89, 0.30, 0.3, 0.5))\n",
    "#drawing B1&D, B2&D, B3&D\n",
    "b1d=patches.Rectangle((10.5, 5), 0.5, 0.5, linewidth=1,edgecolor='b', facecolor=(1, 0.7, 0.0))\n",
    "b2d=patches.Rectangle((10.5, 3), 0.5, 0.5, linewidth=1,edgecolor='b', facecolor=(0.72, 0.53, 0.04))\n",
    "b3d=patches.Rectangle((10.5, 1), 0.5, 0.5, linewidth=1,edgecolor='b', facecolor=(0.64, 0.17, 0.89))\n",
    "ax.add_patch(b1)\n",
    "ax.add_patch(b2)\n",
    "ax.add_patch(b3)\n",
    "ax.add_patch(d)\n",
    "ax.add_patch(b1d)\n",
    "ax.add_patch(b2d)\n",
    "ax.add_patch(b3d)\n",
    "#adding text labels\n",
    "ax.text(0.2,5.5,r\"$B_1$\",fontsize=16)\n",
    "ax.text(5,5.5,r\"$B_2$\",fontsize=16)\n",
    "ax.text(5,0.5,r\"$B_3$\",fontsize=16)\n",
    "ax.text(3.85,2.8,r\"$D$\",fontsize=25)\n",
    "\n",
    "ax.text(11.1, 5.1,r\"$B_1\\cap D$\",fontsize=16)\n",
    "ax.text(11.1, 3.1,r\"$B_2\\cap D$\",fontsize=16)\n",
    "ax.text(11.1, 1.1,r\"$B_3\\cap D$\",fontsize=16)\n",
    "plt.show()"
   ]
  },
  {
   "cell_type": "markdown",
   "metadata": {},
   "source": [
    " *solution*:   \n",
    " In random experiment of picking an IC from manufacturer's stock. Let $\\Omega$ be a sample space (manufacturer stock)    \n",
    " Let $B_i$ be the event that selected IC from supplier $B_i$ for $i=1,2,3$  \n",
    " Here $B_i\\cap B_j=\\emptyset $ for $i\\ne j$ & $B_1\\cup B_2 \\cup B_3=\\Omega$ (manufacturer stock)    \n",
    " that is $B_1,B_2$ and $B_3$ form a partition for $\\Omega$   \n",
    " Let $D$ be the event that a randomly selected IC from stock is defective.    \n",
    " Here $P(B_1)=0.4 ,P(B_2)=P(B_3)=0.3 $        \n",
    " $P(D/B_1)=0.01 ,P(D/B_2)=0.05 , P(D/B_3)=0.1$        \n",
    " (i).          \n",
    " $D=$<span style=\"color:#ff9900\">$(D\\cap B_1)$</span>$\\cup$<span style=\"color:#996600\">$(D\\cap B_2)$</span>$\\cup$<span style=\"color:#8600b3\">$(D\\cap B_3)$</span>     \n",
    " Here $(D\\cap B_1),(D\\cap B_2),(D\\cap B_3)$ are mutually exclusive.     \n",
    " $P(D)=P((D\\cap B_1)\\cup(D\\cap B_2)\\cup(D\\cap B_3))$     \n",
    "&nbsp; &nbsp; &nbsp; &nbsp; &nbsp;\n",
    "$=P(D\\cap B_1)+P(D\\cap B_2)+P(D\\cap B_3)$  ($\\because$ Finite additivity)   \n",
    "&nbsp; &nbsp; &nbsp; &nbsp; &nbsp;\n",
    "$=P(D/B_1)P(B_1)+(D/B_2)P(B_2)+P(D/B_3)P(B_3)$  ($\\because$ Multiplication theorem)     \n",
    "&nbsp; &nbsp; &nbsp; &nbsp; &nbsp;\n",
    "$=(0.01)(0.4)+(0.05)(0.3)+(0.1)(0.3)=0.049$   \n",
    "$\\therefore P(D)=0.049$     \n",
    "(ii).   \n",
    "$P(B_1/D)=\\frac{P(B_1\\cap D)}{P(D)}$     \n",
    "&nbsp; &nbsp; &nbsp; &nbsp; &nbsp; &nbsp; &nbsp;&nbsp; &nbsp;\n",
    "$=\\frac{P(B_1)P(D/B_1)}{P(D)}$   ($\\because$ Multiplication theorem)    \n",
    "&nbsp; &nbsp; &nbsp; &nbsp; &nbsp; &nbsp; &nbsp;&nbsp; &nbsp;\n",
    "$=\\frac{0.4\\times 0.01}{0.049}=0.08163$    \n",
    "$\\therefore P(B_1/D)=0.8163$<br><br>\n",
    "\n",
    "**Terminology**:  \n",
    "- $P(B_i)$ for $i=1,2,3$ are called <u>priori probabilities</u>, because these probabilities are assigned prior to pick an IC and see any evidence(about D),\n",
    "- $P(B_i/D)$ for $i=1,2,3$ are called <u>posterior probabilities</u>, because these probabilities are calculated, after picking and looked at the evidence (that D happened).        \n",
    "- $P(D/B_i)$ for $i=1,2,3$ are called <u>likelihood probabilities</u>, because these probabilities indicates likelihood of defectives in each part(supplier) "
   ]
  },
  {
   "cell_type": "markdown",
   "metadata": {},
   "source": [
    "**Theorem 13:** (Total probability theorem)     \n",
    "Let $E_1,E_2,...E_n$ are events in $\\mathscr{F}$ (with $P(E_i)>0$ for $i=1,2...n$) which form a partition for $\\Omega$, then for any $E\\in\\mathscr{F}$,        \n",
    "$P(E)=\\sum_{i=1}^{n}P(E/E_i)P(E_i)$     \n",
    "\n",
    "*proof*: Here $E_i\\cap E_j=\\emptyset$ for $i\\ne j$, $\\bigcup_{i=1}^{n}E_i=\\Omega$ $(\\because E_1,E_2,...En$ form a partition for $\\Omega)$    \n",
    "For any $E \\in \\mathscr{F},E=E\\cap\\Omega$     \n",
    "$E=E\\cap(\\bigcup_{i=1}^{n}E_i)=\\bigcup_{i=1}^{n}(E\\cap E_i)$     \n",
    "$P(E)=P(\\bigcup_{i=1}^{n}(E\\cap E_i))=\\sum_{i=1}^{n}P(E\\cap E_i)$  \n",
    "($\\because E_1,E_2,....E_n$ are mutually exclusive $\\Rightarrow E\\cap E_1,E\\cap E_2,....E\\cap E_n$ are mutually exclusive (so by finite additivity))     \n",
    "$P(E)=\\sum_{i=1}^{n}P(E/E_i)P(E_i)$   ($\\because$ multiplication theorem on each term)<br>     \n",
    "In the above expression $P(E_i)$ for $i=1,2...n$ are called the <u>priori probabilities</u>  and $P(E/E_i)$ for $i=1,2...n$ are called <u>likelihood probabilities</u>  <br>\n",
    "\n",
    "Here we can see that $P(E)$ as weighted average of likelihood probabilities with weights being corresponding  priori probabilities."
   ]
  },
  {
   "cell_type": "markdown",
   "metadata": {},
   "source": [
    "**Corollary:**(<u>Baye's Theorem</u>) Let $E_1,E_2,...E_n$ are events in $\\mathscr{F}$ (with $P(E_i)>0$ for $i=1,2...n$) which form a partition for $\\Omega$.<br><br>If $E\\in \\mathscr{F}$ with $P(E)>0$, then $P(E_i/E)=\\frac{P(E/E_i)P(E_i)}{\\sum_{j=1}^{n}P(E/E_j)P(E_j)}$ for $i=1,2,...n$ <br><br> \n",
    "*proof:*$P(E_i/E)=\\frac{P(E_i\\cap E)}{P(E)}$   ($\\because$ definition of conditional probability) <br>    \n",
    "$P(E_i/E)=\\frac{P(E/E_i)P(E_i)}{\\sum_{j=1}^{n}P(E/E_j)P(E_j)}$ ($\\because$ Multiplication theorem & Total probability theorem)<br>   \n",
    "Here $P(E_i/E)$ for i=1,2,...n are called <u>posterior probabilities</u>."
   ]
  },
  {
   "cell_type": "markdown",
   "metadata": {},
   "source": [
    " <p style=\"color:red\"><u>Problem 4:</u> Say government decided to test every body in your city for covid-19,so you got tested for the same, and the test is 98% effective in detecting carona virus when it is in fact present in your system. However the test also yields a \"false positive\" result for 1% of healthy persons tested. And government estimates that 0.5% of the population in your city probably got infected with covid-19 as of now. What is the probability that you really got infected by virus if your test result is positive? </p>   \n",
    "\n",
    "*solution*: Let us say you are a random person in your city, so sample space $\\Omega$ is your city population.      \n",
    "Let $D$ denote the event that randomly selected person has a virus in his/her system.     \n",
    "then $D$ consist of all virus infected people in your city,and $D^c$ will consist of healthy people in your city.  \n",
    "Here $D,D^c$ form a partition for $\\Omega$  ($\\because D\\cup D^c=\\Omega$ and $D\\cap D^c=\\emptyset $)     \n",
    "Let $E$ be the event that the selected person test result is positive. Here we are interested in $P(D/E)=?$     \n",
    "and $P(D)=0.005\\Rightarrow P(D^c)=1-0.005=0.995$     \n",
    "$P(E/D)=0.98 $ and  $P(E/D^c)=0.01$     \n",
    "Here we are interested in $P(D/E)=?$    \n",
    "From Baye's theorem,     \n",
    "$P(D/E)=\\frac{P(E/D)P(D)}{P(E/D)P(D)+P(E/D^c)P(D^c)}=\\frac{0.98\\times 0.005}{0.98\\times 0.00~+~0.01\\times 0.995}=0.32996632996632996$     <br>\n",
    "$\\therefore P(D/E)\\approx 0.33$     <br>    \n",
    "Thus only 33% of those persons whose test result is positive (by this test) actually  have virus in their system. You must be surprised at this result as you expected chance to be much higher, since test seems to be good one (to you). So what is the matter? Is Baye's theorem a none sense? don't say that yet!<br>    \n",
    "Okay, lets try to answer same question intuitively, let us say population size is 200, and 0.5% of the 200 actually infected by virus, i.e 1 person has virus, that imply 199 people are healthy, and out of these 199 people $199\\times0.01=1.99$ people will get positive result by this test, and out of one infected person    \n",
    "$1\\times 0.98=0.98$ persons will get positive result by this test.    \n",
    "So the proportion of time the test result is correct when test say positive is $\\frac {correct~positive~cases}{total~positive~cases}=\\frac{0.98}{0.98+1.99}=0.32996632996632996$     "
   ]
  },
  {
   "cell_type": "markdown",
   "metadata": {},
   "source": [
    " <p style=\"color:red\"><u>Problem 4:</u> Let $S$ be a set with $n$ elements. Suppose we pick two elements $A,B$ at random from $\\mathscr{P}(S)$ one after another at with replacement. Show that<br>       \n",
    " (a). $P(B\\subseteq A)=\\left(\\frac{3}{4}\\right)^n$<br>\n",
    "(b). $P(A\\cap B =\\emptyset)=\\left(\\frac{3}{4}\\right)^n$ </p>       \n",
    "\n",
    "*solution:* Here we pick two elements $A,B$ from $\\mathscr{P}(S)$ one after another with replacement. So sample space $\\Omega=\\mathscr{P}(S)\\times \\mathscr{P}(S)\\Rightarrow |\\Omega|=|\\mathscr{P}(S)\\times \\mathscr{P}(S)|=2^n\\times 2^n=4^n$ <br>\n",
    "Let $E_i$ be the event that $A$ has $i$ elements,so $|E_i|=\\binom{n}{i}2^n$ for $i=0,1,2,...n$ ($\\because$ $B$ can be any subset of $S$)\n",
    "<br>&nbsp; &nbsp; Here $E_0,E_1,E_2,...E_n$ are mutually exclusive and exhaustive (thus form a partition for $\\Omega$). (i.e exactly one event always happens, because $A$ got to have some size from $\\{0,1,2,...n\\}$      \n",
    "(a).    \n",
    "Let $E$ denote the event that $B\\subseteq A$, so we are interested in $P(E)=?$    \n",
    "$P(E_i)=\\frac{|E_i|}{|\\Omega|}=\\frac{\\binom{n}{i}2^n}{4^n}=\\frac{\\binom{n}{i}}{2^n}$ for $i=0,1,2,...n$ <br>\n",
    "$P(E\\cap E_i)=\\frac{|E\\cap E_i|}{|\\Omega|}=\\frac{\\binom{n}{i}2^i}{4^n}$ for $i=0,1,2,...n$ &nbsp; &nbsp; ($\\because$ $|E\\cap E_i|=\\binom{n}{i}2^i$)\n",
    "\n",
    "$P(E/E_i)=\\frac{P(E\\cap E_i)}{P(E_i)}=\\frac{\\frac{\\binom{n}{i}2^i}{4^n}}{\\frac{\\binom{n}{i}}{2^n}}=\\frac{2^i}{2^n}$ for $i=0,1,2,...n$ <br>($\\because$ there are $2^i$ subsets of $A$ as $|A|=i$)\n",
    "  \n",
    "By total probability theorem, $P(E)=\\sum_{i=0}^{n}P(E/E_i)P(E_i)$      \n",
    "&nbsp; &nbsp; $P(E)=\\sum_{i=0}^{n}\\frac{2^i}{2^n}\\times  \\frac{\\binom{n}{i}}{2^n}=\\frac{1}{4^n}\\sum_{i=0}^{n}\\binom{n}{i}2^i =\\frac{1}{4^n}(1+2)^n$ ($\\because$ Binomial theorem) <br>  \n",
    "$\\therefore P(E)=\\left(\\frac{3}{4} \\right)^n$   \n",
    "(b).     \n",
    "$A\\cap B=\\emptyset  \\iff B\\subseteq A^c$     \n",
    "Let $F_i$ be the event $A^c$ has $i$ elements for $i=0,1,2,...n$ <br>\n",
    "$|F_i|=\\binom{n}{n-i}2^n=\\binom{n}{i}2^n$ for $i=0,1,2,...n$ <br>\n",
    "Here $F_0,F_1,F_2,...F_n$ are  mutually exclusive and exhaustive (thus form a partition for $\\Omega$)    \n",
    "Let $F$ be the event that $B\\subseteq A^c$, so we are interested in $P(F)=?$     \n",
    "\n",
    "$P(F_i)=\\frac{|F_i|}{|\\Omega|}=\\frac{\\binom{n}{i}2^n}{4^n}=\\frac{\\binom{n}{i}}{2^n}$ for $i=0,1,2,...,n$\n",
    "\n",
    "$P(F\\cap F_i)=\\frac{|F\\cap F_i|}{|\\Omega|}=\\frac{\\binom{n}{n-i}2^i}{4^n}=\\frac{\\binom{n}{i}2^i}{4^n}$ for $i=0,1,2,...n$ &nbsp; &nbsp; ($\\because$ $|F\\cap F_i|=\\binom{n}{n-i}2^i$)\n",
    " \n",
    "$P(F/F_i)=\\frac{P(F\\cap F_i)}{P(F_i)}=\\frac{\\frac{\\binom{n}{i}2^i}{4^n}}{\\frac{\\binom{n}{i}}{2^n}}=\\frac{2^i}{2^n}$ for $i=0,1,2,...n$   \n",
    "By total probability theorem,      \n",
    "$P(F)=\\sum_{i=0}^{n}P(F/F_i)P(F_i)$   \n",
    "$P(F)=\\sum_{i=0}^{n}\\frac{2^i}{2^n}\\times \\frac{\\binom{n}{i}}{2^n}=\\left(\\frac{3}{4} \\right)^n$"
   ]
  },
  {
   "cell_type": "markdown",
   "metadata": {},
   "source": [
    "<p style=\"color:red\"><u>Problem 5:</u> A system is composed of $n$ separate components is said to be a parallel system if it functions when at least one of the components functions. For such a system if component $i$, is independent of other components, functions with probability $p_i$ for i=1,2,3...n, what is the probability that the system functions? </p>    \n"
   ]
  },
  {
   "cell_type": "code",
   "execution_count": 179,
   "metadata": {
    "hide_input": true
   },
   "outputs": [
    {
     "data": {
      "text/html": [
       "<iframe src=\"https://editor.p5js.org/nagi1805/embed/34sAHcruv\" width=\"305\" height=\"305\"></iframe>\n"
      ],
      "text/plain": [
       "<IPython.core.display.HTML object>"
      ]
     },
     "metadata": {},
     "output_type": "display_data"
    }
   ],
   "source": [
    "%%HTML\n",
    "<iframe src=\"https://editor.p5js.org/nagi1805/embed/34sAHcruv\" width=\"305\" height=\"305\"></iframe>"
   ]
  },
  {
   "cell_type": "markdown",
   "metadata": {},
   "source": [
    "*solution*: \n",
    "Let $A_i$ be the event that component i functions, $P(A_i)=p_i$ for $i=1,2,3,...n$   \n",
    "\n",
    "Here we can assume $A_1,A_2,...A_n$ are independent ($\\because$ components work independently)  \n",
    "then $\\bigcup_{i=1}^{n}A_i$ will represent that at least one component functions (system works)  \n",
    "Here we are interested in $P(\\bigcup_{i=1}^{n}A_i)=?$         \n",
    "$P(\\bigcup_{i=1}^{n}A_i)=1-\\prod_{i=1}^{n}(1-P(A_i))$   ($\\because$ Theorem 12)<br>     \n",
    "$\\therefore P(\\bigcup_{i=1}^{n}A_i)=1-\\prod_{i=1}^{n}(1-p_i)$   "
   ]
  }
 ],
 "metadata": {
  "hide_input": false,
  "kernelspec": {
   "display_name": "Python 3 (ipykernel)",
   "language": "python",
   "name": "python3"
  },
  "language_info": {
   "codemirror_mode": {
    "name": "ipython",
    "version": 3
   },
   "file_extension": ".py",
   "mimetype": "text/x-python",
   "name": "python",
   "nbconvert_exporter": "python",
   "pygments_lexer": "ipython3",
   "version": "3.10.0"
  },
  "latex_envs": {
   "LaTeX_envs_menu_present": true,
   "autoclose": false,
   "autocomplete": true,
   "bibliofile": "biblio.bib",
   "cite_by": "apalike",
   "current_citInitial": 1,
   "eqLabelWithNumbers": true,
   "eqNumInitial": 1,
   "hotkeys": {
    "equation": "Ctrl-E",
    "itemize": "Ctrl-I"
   },
   "labels_anchors": false,
   "latex_user_defs": false,
   "report_style_numbering": false,
   "user_envs_cfg": false
  },
  "widgets": {
   "application/vnd.jupyter.widget-state+json": {
    "state": {
     "067bf8ab606847d4ba0336a03849e5b7": {
      "model_module": "@jupyter-widgets/output",
      "model_module_version": "1.0.0",
      "model_name": "OutputModel",
      "state": {
       "layout": "IPY_MODEL_6907f3fa705f40f98cb5b996e1b3e512"
      }
     },
     "15d7cc102cbb42f3a5db1e6209d593ee": {
      "model_module": "@jupyter-widgets/controls",
      "model_module_version": "1.5.0",
      "model_name": "ProgressStyleModel",
      "state": {
       "description_width": ""
      }
     },
     "192a0fd6a9b549c487228b34fc9e3ffa": {
      "model_module": "@jupyter-widgets/controls",
      "model_module_version": "1.5.0",
      "model_name": "IntSliderModel",
      "state": {
       "description": "#trials:",
       "layout": "IPY_MODEL_1b97c2a31ad14f6c982a0857ca8f4b84",
       "max": 1000,
       "step": 100,
       "style": "IPY_MODEL_2063cd0f3b2c4fb2aa17cbcd45b598fc",
       "value": 1000
      }
     },
     "1b97c2a31ad14f6c982a0857ca8f4b84": {
      "model_module": "@jupyter-widgets/base",
      "model_module_version": "1.2.0",
      "model_name": "LayoutModel",
      "state": {}
     },
     "1f733d943674433fa2486d8ba108efab": {
      "model_module": "@jupyter-widgets/base",
      "model_module_version": "1.2.0",
      "model_name": "LayoutModel",
      "state": {}
     },
     "2063cd0f3b2c4fb2aa17cbcd45b598fc": {
      "model_module": "@jupyter-widgets/controls",
      "model_module_version": "1.5.0",
      "model_name": "SliderStyleModel",
      "state": {
       "description_width": ""
      }
     },
     "23e86068ff414460bb6b2604f5186ee1": {
      "model_module": "@jupyter-widgets/controls",
      "model_module_version": "1.5.0",
      "model_name": "HBoxModel",
      "state": {
       "children": [
        "IPY_MODEL_b4f6edc9da7a444baf6ca13371e3ad4b",
        "IPY_MODEL_80a82b153b53423784e3ee7d378bb4f7"
       ],
       "layout": "IPY_MODEL_9e6c8bf71a72424e9ca0673ed3a888c6"
      }
     },
     "32b96a1f5d734adc90be7d199f5d243d": {
      "model_module": "@jupyter-widgets/base",
      "model_module_version": "1.2.0",
      "model_name": "LayoutModel",
      "state": {}
     },
     "3e366e8d4cb64ecaa3fad8d465a6c800": {
      "model_module": "@jupyter-widgets/base",
      "model_module_version": "1.2.0",
      "model_name": "LayoutModel",
      "state": {}
     },
     "4587aaaf0e744be0b76ecb560fb0e2dd": {
      "model_module": "@jupyter-widgets/base",
      "model_module_version": "1.2.0",
      "model_name": "LayoutModel",
      "state": {}
     },
     "585942f4c7284f5e85446e30c4dcc01a": {
      "model_module": "@jupyter-widgets/controls",
      "model_module_version": "1.5.0",
      "model_name": "ProgressStyleModel",
      "state": {
       "description_width": ""
      }
     },
     "5f682f2810c54acc9cf3cd689a6e951d": {
      "model_module": "@jupyter-widgets/controls",
      "model_module_version": "1.5.0",
      "model_name": "SliderStyleModel",
      "state": {
       "description_width": ""
      }
     },
     "6907f3fa705f40f98cb5b996e1b3e512": {
      "model_module": "@jupyter-widgets/base",
      "model_module_version": "1.2.0",
      "model_name": "LayoutModel",
      "state": {}
     },
     "6c895705c7b548289ebc0c88ce7680ce": {
      "model_module": "@jupyter-widgets/base",
      "model_module_version": "1.2.0",
      "model_name": "LayoutModel",
      "state": {}
     },
     "71b9cdbb90d24003a393c4ebc769f478": {
      "model_module": "@jupyter-widgets/base",
      "model_module_version": "1.2.0",
      "model_name": "LayoutModel",
      "state": {}
     },
     "80a82b153b53423784e3ee7d378bb4f7": {
      "model_module": "@jupyter-widgets/controls",
      "model_module_version": "1.5.0",
      "model_name": "FloatProgressModel",
      "state": {
       "bar_style": "info",
       "description": "p=0.5073",
       "layout": "IPY_MODEL_4587aaaf0e744be0b76ecb560fb0e2dd",
       "max": 1,
       "orientation": "vertical",
       "style": "IPY_MODEL_585942f4c7284f5e85446e30c4dcc01a",
       "value": 0.5073
      }
     },
     "80f50c3302b546c3aa6b09fa0c61c9b8": {
      "model_module": "@jupyter-widgets/controls",
      "model_module_version": "1.5.0",
      "model_name": "IntSliderModel",
      "state": {
       "description": "#trials:",
       "layout": "IPY_MODEL_32b96a1f5d734adc90be7d199f5d243d",
       "max": 1000,
       "step": 100,
       "style": "IPY_MODEL_5f682f2810c54acc9cf3cd689a6e951d",
       "value": 400
      }
     },
     "9302d365084b4685a55df6fe226deacc": {
      "model_module": "@jupyter-widgets/controls",
      "model_module_version": "1.5.0",
      "model_name": "VBoxModel",
      "state": {
       "_dom_classes": [
        "widget-interact"
       ],
       "children": [
        "IPY_MODEL_80f50c3302b546c3aa6b09fa0c61c9b8",
        "IPY_MODEL_067bf8ab606847d4ba0336a03849e5b7"
       ],
       "layout": "IPY_MODEL_3e366e8d4cb64ecaa3fad8d465a6c800"
      }
     },
     "9c5c2ed4dc6c4c6aa78126c63a5a4aa5": {
      "model_module": "@jupyter-widgets/controls",
      "model_module_version": "1.5.0",
      "model_name": "SliderStyleModel",
      "state": {
       "description_width": ""
      }
     },
     "9e6c8bf71a72424e9ca0673ed3a888c6": {
      "model_module": "@jupyter-widgets/base",
      "model_module_version": "1.2.0",
      "model_name": "LayoutModel",
      "state": {}
     },
     "9fee2f6a367a4564b7d094d92d1f535f": {
      "model_module": "@jupyter-widgets/base",
      "model_module_version": "1.2.0",
      "model_name": "LayoutModel",
      "state": {}
     },
     "a5718431971c4efab18908e14adce24a": {
      "model_module": "@jupyter-widgets/controls",
      "model_module_version": "1.5.0",
      "model_name": "FloatProgressModel",
      "state": {
       "bar_style": "info",
       "description": "p=0.7063",
       "layout": "IPY_MODEL_1f733d943674433fa2486d8ba108efab",
       "max": 1,
       "orientation": "vertical",
       "style": "IPY_MODEL_15d7cc102cbb42f3a5db1e6209d593ee",
       "value": 0.7063
      }
     },
     "a74661814248473d9bf1e5ee305cef29": {
      "model_module": "@jupyter-widgets/controls",
      "model_module_version": "1.5.0",
      "model_name": "IntSliderModel",
      "state": {
       "description": "n:",
       "layout": "IPY_MODEL_9fee2f6a367a4564b7d094d92d1f535f",
       "style": "IPY_MODEL_9c5c2ed4dc6c4c6aa78126c63a5a4aa5",
       "value": 30
      }
     },
     "a8362324eb194d6a997823b6b30e2e74": {
      "model_module": "@jupyter-widgets/controls",
      "model_module_version": "1.5.0",
      "model_name": "VBoxModel",
      "state": {
       "_dom_classes": [
        "widget-interact"
       ],
       "children": [
        "IPY_MODEL_192a0fd6a9b549c487228b34fc9e3ffa",
        "IPY_MODEL_e31ae817fbb249b7a3d320ced1f4d640"
       ],
       "layout": "IPY_MODEL_d8c3e459f4f9476390bb301a4db9b788"
      }
     },
     "b4f6edc9da7a444baf6ca13371e3ad4b": {
      "model_module": "@jupyter-widgets/controls",
      "model_module_version": "1.5.0",
      "model_name": "IntSliderModel",
      "state": {
       "description": "n:",
       "layout": "IPY_MODEL_71b9cdbb90d24003a393c4ebc769f478",
       "style": "IPY_MODEL_d549408189914859a1be4004a704d1ea",
       "value": 23
      }
     },
     "d549408189914859a1be4004a704d1ea": {
      "model_module": "@jupyter-widgets/controls",
      "model_module_version": "1.5.0",
      "model_name": "SliderStyleModel",
      "state": {
       "description_width": ""
      }
     },
     "d8c3e459f4f9476390bb301a4db9b788": {
      "model_module": "@jupyter-widgets/base",
      "model_module_version": "1.2.0",
      "model_name": "LayoutModel",
      "state": {}
     },
     "e03fdfc4cd6948379d5375846e6df2ed": {
      "model_module": "@jupyter-widgets/controls",
      "model_module_version": "1.5.0",
      "model_name": "HBoxModel",
      "state": {
       "children": [
        "IPY_MODEL_a74661814248473d9bf1e5ee305cef29",
        "IPY_MODEL_a5718431971c4efab18908e14adce24a"
       ],
       "layout": "IPY_MODEL_e6e1d84b36424bd4b93f6cc79d6e0845"
      }
     },
     "e31ae817fbb249b7a3d320ced1f4d640": {
      "model_module": "@jupyter-widgets/output",
      "model_module_version": "1.0.0",
      "model_name": "OutputModel",
      "state": {
       "layout": "IPY_MODEL_6c895705c7b548289ebc0c88ce7680ce"
      }
     },
     "e6e1d84b36424bd4b93f6cc79d6e0845": {
      "model_module": "@jupyter-widgets/base",
      "model_module_version": "1.2.0",
      "model_name": "LayoutModel",
      "state": {}
     }
    },
    "version_major": 2,
    "version_minor": 0
   }
  }
 },
 "nbformat": 4,
 "nbformat_minor": 4
}
