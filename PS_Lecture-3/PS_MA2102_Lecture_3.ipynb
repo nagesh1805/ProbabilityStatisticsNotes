{
 "cells": [
  {
   "cell_type": "markdown",
   "metadata": {
    "slideshow": {
     "slide_type": "slide"
    }
   },
   "source": [
    "<h2 style=\"text-align:center\"> MA2102</h2>\n",
    "<h1 style=\"text-align:center\"> Probability and Statistics</h1>\n",
    "<h4 style=\"text-align:center\"> Lecture-3</h4>"
   ]
  },
  {
   "cell_type": "markdown",
   "metadata": {},
   "source": [
    "## Inclusion-Exclusion"
   ]
  },
  {
   "cell_type": "markdown",
   "metadata": {},
   "source": [
    "<u>Question</u>: How many numbers between between $1...100$ that are divisible by $3$ or $4$     \n",
    "let $A$=all numbers from $1...100$ that are divisible by $3$ then $|A|=\\left \\lfloor \\frac{100}{3}  \\right \\rfloor=33$  \n",
    "let $B$=all numbers from $1...100$ that are divisible by $4$ then $|B|=\\left \\lfloor \\frac{100}{4}  \\right \\rfloor=25$     \n",
    "and $A\\cup B$ will contains all numbers between $1...100$ that are divisible by $3$ or $4$, so can we apply Sum rule? no, because $A\\cap B\\ne\\emptyset$   \n",
    "$|A\\cup B|=|A|+|B|$ would be wrong, and count more because some numbers got over counted, but we can fix it. Because we can see what exactly getting over counted, numbers in $A\\cap B$ counted once in $|A|$ and once in $|B|$ means they got counted twice but they supposed to be counted only once, so the fix is the following.   \n",
    "$|A \\cup B|=|A|+|B|-|A\\cap B|$   (this is the idea, include and exclude in controlled way)\n",
    "$\\therefore ~ |A \\cup B|= 33+25-8=50$   ($\\because |A\\cap B|=\\left \\lfloor \\frac{100}{12}  \\right \\rfloor =8$ )\n",
    "    \n",
    "    "
   ]
  },
  {
   "cell_type": "markdown",
   "metadata": {},
   "source": [
    "\n",
    "Similarly if we have three finite sets $A,B,C$ then $|A \\cup B \\cup C|=|A|+|B|+|C|-|A\\cap B|-|B \\cap C|-|A\\cap C|+|A\\cap B\\cap C|$ "
   ]
  },
  {
   "cell_type": "markdown",
   "metadata": {},
   "source": [
    "**Thoerem**(Principle of Inclusion and Exclusion): Let $A_1,A_2,...,A_n$ be finite sets. Then   \n",
    "$|A_1\\cup A_2\\cup ...\\cup A_n|=\\sum_{1\\le i\\le n}|A_i|-\\sum_{1\\le i<j\\le n}|A_i\\cap A_j|+\\sum_{1\\le i<j<k\\le n}|A_i\\cap A_j\\cap A_k|-....+(-1)^{r+1}\\sum_{1\\le i_1<i_2<...<i_r\\le n}|A_{i_1}\\cap A_{i_2}\\cap A_{i_3}...\\cap A_{i_r}|+(-1)^{n+1}|A_1\\cap A_2\\cap ...\\cap A_n|$    \n",
    "*proof:* by induction on n(you try using base case for n=2)"
   ]
  },
  {
   "cell_type": "markdown",
   "metadata": {},
   "source": [
    "The Principle of Inclusion and Exclusion is an advanced counting technique, the hard sounding problems(problems that can't be think of an straight application of product rule/sum rule can be tackled using this tool)   <br><br>  \n",
    "**Useful fact**: Let $S$ be an universal set and $A_i\\subseteq S$ for $i=1,2,...,n$ then $|A_1^c\\cap A_2^c \\cap...\\cap A_n^c|=|S|-|A_1\\cup A_2 \\cup...\\cup A_n|$  ($\\because$ complementation principle and Demorgan's laws )"
   ]
  },
  {
   "cell_type": "markdown",
   "metadata": {},
   "source": [
    "Say there is a class with 30 students, and teacher conducts an exam(MCQ's) to $30$ students, since test is of MCQ's he thought that it hardly make any difference whether I  grade it or students themselves grade response sheets as long as no one grading their own response sheet. So once exam done, teacher collects response sheets and distribute back so that no one receives their own response sheet. Question of interest is, how many ways can teacher distribute so that no student receiving their own response sheet. Try a bit, then you start realizing this pretty hard unless you think in terms of Inclusion and Exclusion principle. Let us formalize this problem."
   ]
  },
  {
   "cell_type": "markdown",
   "metadata": {},
   "source": [
    "### Derrangements:"
   ]
  },
  {
   "cell_type": "markdown",
   "metadata": {},
   "source": [
    "A <u>*derangement*</u> of $n$ ordered objects is an permutation of those $n$ objects that leaves no object in its original position. we know that permutations are $n!$ but how many of these are actually derangements? In the problem we posed above we were actually interested in counting derangements?    <br><br>\n",
    "<u>Notation</u>:$D_n:=$ number of derangements of $n$ objects."
   ]
  },
  {
   "cell_type": "markdown",
   "metadata": {},
   "source": [
    "**Theorem**:$D_n=n!\\left[1-\\frac{1}{1!}+\\frac{1}{2!}-\\frac{1}{3!}+...+(-1)^n\\frac{1}{n!} \\right]$     \n",
    "\n",
    "*proof:* Let $a_1,a_2,...,a_n$ be ordered objects.    \n",
    "Let $S$ be the set of all permutations of $n$ objects (Our universal set), $|S|=n!$       \n",
    "Let $A_i$ be the set of all permutations of $n$ objects in which $i^{th}$ object in its original position for $i=1,2,...n$.  then    \n",
    "$|A_i|=(n-1)!$ for $1\\le i\\le n$, and $|A_i\\cap A_j|=(n-2)!$ for $1\\le i<j\\le n$ ,$|A_i\\cap A_j \\cap A_k|=(n-3)!$ for $1\\le i<j<k\\le n$ ....$|A_{i_1}\\cap A_{i_2}\\cap...\\cap A_{i_r}|=(n-r)!$ for $1\\le i_1<i_2<...<i_r\\le n$ ...$|A_1\\cap A_2 \\cap... \\cap A_n|=(n-n)!$             \n",
    "\n",
    "then $A_1^c\\cap A_2^c\\cap ...\\cap A_n^c$ will exactly represents the set of derangements. So $D_n=|A_1^c\\cap A_2^c\\cap ...\\cap A_n^c|$   \n",
    "now $|A_1^c\\cap A_2^c\\cap ...\\cap A_n^c|= |S|-|A_1\\cup A_2\\cup ...\\cup A_n|$    <br><br> \n",
    " $D_n=|S|-\\left [ \\sum_{1\\le i\\le n}|A_i|-\\sum_{1\\le i<j\\le n}|A_i\\cap A_j|+\\sum_{1\\le i<j<k\\le n}|A_i\\cap A_j\\cap A_k|-....+(-1)^{r+1}\\sum_{1\\le i_1<i_2<...<i_r\\le n}|A_{i_1}\\cap A_{i_2}\\cap A_{i_3}...\\cap A_{i_r}|+...+(-1)^{n+1}|A_1\\cap A_2\\cap ...\\cap A_n| \\right ]$   <br><br>\n",
    " $D_n=n!-\\sum_{1\\le i\\le n}(n-1)!+\\sum_{1\\le i<j\\le n}(n-2)!-\\sum_{1\\le i<j<k\\le n}(n-3)!+....+(-1)^{r}\\sum_{1\\le i_1<i_2<...<i_r\\le n}(n-r)!+...+(-1)^{n}(n-n)!$  <br>   \n",
    " $D_n=n!-\\binom{n}{1}(n-1)!+\\binom{n}{2}(n-2)!-\\binom{n}{3}(n-3)!+....+(-1)^{r}\\binom{n}{r}(n-r)!+...+(-1)^{n}\\binom{n}{n}(n-n)!$   <br><br>\n",
    "  $D_n=n!-\\frac{n!}{1!(n-1)!}(n-1)!+\\frac{n!}{2!(n-2)!}(n-2)!-\\frac{n!}{3!(n-3)!}(n-3)!+....+(-1)^{r}\\frac{n!}{r!(n-r)!}(n-r)!+...+(-1)^{n}\\frac{n!}{n!(n-n)!}(n-n)!$  <br><br>\n",
    "  $\\therefore ~D_n=n!\\left[1-\\frac{1}{1!}+\\frac{1}{2!}-\\frac{1}{3!}+...+(-1)^n\\frac{1}{n!} \\right]$"
   ]
  },
  {
   "cell_type": "code",
   "execution_count": 7,
   "metadata": {},
   "outputs": [
    {
     "data": {
      "application/vnd.jupyter.widget-view+json": {
       "model_id": "c3de2340c9ee494b81c0f131eb7220c2",
       "version_major": 2,
       "version_minor": 0
      },
      "text/plain": [
       "interactive(children=(IntSlider(value=10, description='n:', min=1), Output()), _dom_classes=('widget-interact'…"
      ]
     },
     "metadata": {},
     "output_type": "display_data"
    },
    {
     "data": {
      "text/plain": [
       "<function __main__.D_n(n)>"
      ]
     },
     "execution_count": 7,
     "metadata": {},
     "output_type": "execute_result"
    }
   ],
   "source": [
    "import math\n",
    "from ipywidgets import interact #,interactive, fixed, interact_manual\n",
    "import ipywidgets as widgets\n",
    "\"\"\"\n",
    " D_n= n!-n!/1!+n!/2!-n!/3!+....+(-1)^n n!/n!\n",
    "\n",
    "\"\"\"\n",
    "def Dn(n):\n",
    "    d=math.factorial(n);\n",
    "    for i in range(1,n+1):\n",
    "        d=d+((-1)**i)*(math.factorial(n)//math.factorial(i))\n",
    "    return d\n",
    "def D_n(n):\n",
    "    print(r\"D{0} : {1}\".format(n,Dn(n)))\n",
    "interact(D_n, n=widgets.IntSlider(min=1, max=100, step=1, value=10,description=\"n:\"))\n"
   ]
  },
  {
   "cell_type": "markdown",
   "metadata": {},
   "source": [
    "So, $D_{30}$=97581073836835777732377428235481 many ways can teacher distribute so that no student grading their own response sheets."
   ]
  },
  {
   "cell_type": "markdown",
   "metadata": {},
   "source": [
    "**Theorem**: Let $m$ and $n$ be positive integers with $m\\ge n$. Then the number of onto functions from a set with $m$ elements to a set with $n$ elements equals to      \n",
    "$n^m - \\binom{n}{1}(n-1)^m + \\binom{n}{2}(n-2)^m - ...+(-1)^{n-1}\\binom{n}{n-1}1^m$  \n",
    "Proof:   \n",
    "I want you to try using principle of inclusion and exclusion(pretty similar to above proof in style of proof),    Onto function means functions whose range = co-domain( that means nothing in the co-domain should be missed)\n",
    "Let $X$ be set with $|X|=m$, $Y=\\{y_1,y_2,...,y_n\\}$ here your universal set $S$ is going to be all functions from $X$ to $Y$  and $A_i=\\{f\\in S| y_i\\notin Range(f)\\}$ for $i=1,2,...n$  then proceed as above proof. Good luck"
   ]
  },
  {
   "cell_type": "markdown",
   "metadata": {},
   "source": [
    "**Example**: How many ways can we distribute $6$ chocolates (different brand) to $4$ children without making anyone cry(means everyone should get at least one).    \n",
    "*solution*: Here each distribution that meets the requirements can be recognized as onto function from $6$ chocolates to $4$ children. In the above formula for onto functions $m=6$, and $n=4$   \n",
    "Therefore number of distributions without making any child cry = $4^6-\\binom{4}{1}3^6+\\binom{4}{2}2^6-\\binom{4}{3}1^6=1560$"
   ]
  },
  {
   "cell_type": "markdown",
   "metadata": {},
   "source": [
    "Please write the code for Smn(m,n) function in the below program."
   ]
  },
  {
   "cell_type": "code",
   "execution_count": 2,
   "metadata": {},
   "outputs": [
    {
     "data": {
      "application/vnd.jupyter.widget-view+json": {
       "model_id": "1c1cfdb3a94849f0b4d17eed974dca47",
       "version_major": 2,
       "version_minor": 0
      },
      "text/plain": [
       "interactive(children=(IntSlider(value=6, description='m:', min=1), IntSlider(value=4, description='n:', min=1)…"
      ]
     },
     "metadata": {},
     "output_type": "display_data"
    },
    {
     "data": {
      "text/plain": [
       "<function __main__.S_mn(m, n)>"
      ]
     },
     "execution_count": 2,
     "metadata": {},
     "output_type": "execute_result"
    }
   ],
   "source": [
    "import math\n",
    "from ipywidgets import interact #,interactive, fixed, interact_manual\n",
    "import ipywidgets as widgets\n",
    "\n",
    "def nCr(n,r=3,d={}):\n",
    "    if r > n :\n",
    "        return 0\n",
    "    elif n==r or r==0:\n",
    "        return 1\n",
    "    \n",
    "    else:\n",
    "        if not (n,r) in d:\n",
    "            d[(n,r)]=nCr(n-1,r-1,d)+nCr(n-1,r,d)  # memoization\n",
    "        return d[(n,r)]\n",
    "    \n",
    "\"\"\"\n",
    " Smn= n^m-nC1(n-1)^m+nC2(n-2)^m-....+(-1)^(n-1)nC(n-1) 1^m  if m>=n \n",
    "    =0  if m<n\n",
    "\n",
    "\"\"\"\n",
    "def Smn(m,n):  #Here S stands for surjection\n",
    "    \"\"\" this function takes m,n as arguments wich are sizes of domain ,co-domain respectively\n",
    "    then return number which represent number of onto functions from domain to co-domain \"\"\"\n",
    "    # TODO\n",
    "def S_mn(m,n):\n",
    "    print(r\"Number of Onto functions from set of size {0} to set of size {1} = {2}\".format(m,n,Smn(m,n)))\n",
    "mm=widgets.IntSlider(min=1, max=100, step=1, value=6,description=\"m:\")\n",
    "nn=widgets.IntSlider(min=1, max=100, step=1, value=4,description=\"n:\")\n",
    "interact(S_mn, m=mm,n=nn)"
   ]
  },
  {
   "cell_type": "markdown",
   "metadata": {},
   "source": [
    "what is the expansion for $(x+y)^4=?$      \n",
    "$(x+y)^4=(x+y)(x+y)(x+y)(x+y)$\n",
    "$(x+y)^4=xxxx+xxxy+xxyx+xyxx+yxxx+xxyy+xyyx+yyxx+xyxy+yxyx+yxxy+xyyy+yxyy+yyxy+yyyx+yyyy$\n",
    "$(x+y)^4=(xxxx)+(xxxy+xxyx+xyxx+yxxx)+(xxyy+xyyx+yyxx+xyxy+yxyx+yxxy)+(xyyy+yxyy+yyxy+yyyx)+(yyyy)$\n",
    "$(x+y)^4=(\\underbrace{x^4}_\\text{$\\binom{4}{0}$})+(\\underbrace{x^3y+x^3y+x^3y+x^3y}_\\text{$\\binom{4}{1}$})+(\\underbrace{x^2y^2+x^2y^2+x^2y^2+x^2y^2+x^2y^2+x^2y^2}_\\text{$\\binom{4}{2}$})+(\\underbrace{xy^3+xy^3+xy^3+xy^3}_\\text{$\\binom{4}{3}$})+(\\underbrace{y^4}_\\text{$\\binom{4}{4}$})$  <br><br> \n",
    "$(x+y)^4=\\binom{4}{0}x^4+\\binom{4}{1}x^3y+\\binom{4}{2}x^2y^2+\\binom{4}{3}xy^3+\\binom{4}{4}y^4$"
   ]
  },
  {
   "cell_type": "markdown",
   "metadata": {
    "slideshow": {
     "slide_type": "subslide"
    }
   },
   "source": [
    "### The Binomial theorem:   \n",
    "Let $x,y$ be variables, and let $n$ be a non-negative integer, then $(x+y)^n=\\sum_{r=0}^{n}\\binom{n}{r}x^{n-r}y^r$  "
   ]
  },
  {
   "cell_type": "markdown",
   "metadata": {},
   "source": [
    "*proof*:     \n",
    "Let $S$ be the set of all $n$-permutations with repetition of $\\{x,y\\}$       \n",
    "$E_r$ be the set of all $n$-permutations of $\\{x,y\\}$ with exactly $r$ $y$'s, $|E_r|=\\binom{n}{r}$, <br><br>and each permutation in $E_r$ will be associated with term $x^{n-r}y^r$         \n",
    "$S=\\bigcup_{r=0}^{n}E_r$, $E_i\\cap E_j=\\emptyset$ for $i\\ne j$  "
   ]
  },
  {
   "cell_type": "markdown",
   "metadata": {},
   "source": [
    "$(x+y)^n=\\underbrace{(x+y)(x+y)....(x+y)}_\\text{n times}=\\sum_{p\\in S}p=\\sum_{p \\in \\bigcup_{r=0}^{n}E_r}p=\\sum_{r=0}^{n}\\sum_{p\\in E_r}p$<br><br>\n",
    "$(x+y)^n=\\sum_{r=0}^{n}\\sum_{p\\in E_r}x^{n-r}y^r=\\sum_{r=0}^{n}\\binom{n}{r}x^{n-r}y^r$"
   ]
  },
  {
   "cell_type": "markdown",
   "metadata": {},
   "source": [
    "#### Standard form of Binomial therorem:\n",
    "Let $x$ is a variable, and let $n$ be a non-negative integer, then $(1+x)^n=\\sum_{r=0}^{n}\\binom{n}{r}x^r$   (take $x=1, y=x$ in the above form)"
   ]
  },
  {
   "cell_type": "markdown",
   "metadata": {},
   "source": [
    "**corollary**: \n",
    "1. $\\sum_{r=0}^{n}\\binom{n}{r}=2^n$  (take x=1 in the standard form)<br><br>   \n",
    "2. $\\sum_{r=0}^{n}\\binom{n}{r}(-1)^r=0$  (take x=-1 in the standard form)   <br><br>   \n",
    "3. $\\sum_{r=0}^{n}\\binom{n}{r}2^r=3^n$  (take x=2 in the standard form)<br><br>"
   ]
  },
  {
   "cell_type": "markdown",
   "metadata": {},
   "source": [
    "**Note**: $\\binom{n}{r}$ is called binomial coefficient, where $n,r$ are non-negative integers,and we know that<br><br>\n",
    "$\\binom{n}{r}=\\frac{^nP_r}{r!}=\\frac{n(n-1)(n-2)...(n-r+1)}{r!}$"
   ]
  },
  {
   "cell_type": "markdown",
   "metadata": {},
   "source": [
    "#### Extended Binomial coefficient:"
   ]
  },
  {
   "cell_type": "markdown",
   "metadata": {},
   "source": [
    "**Definition**: Let $u$ be a real number and $k$ a non-negative integer. Then the <u>extended binomial coefficient</u> $\\binom{u}{k}$ is defined by  \n",
    "$\\binom{u}{k}=\\left\\{\\begin{matrix} \\frac{u(u-1)(u-2)...(u-k+1)}{k!}\n",
    " & if ~k>0 \\\\ 1  \n",
    " & if ~k=0\n",
    "\\end{matrix}\\right.   $"
   ]
  },
  {
   "cell_type": "markdown",
   "metadata": {},
   "source": [
    "Example:Find the values of the extended binomial coefficients (a) $\\binom{-2}{3}$ (b) $\\binom{1/2}{3}$   \n",
    "*solutions:*  \n",
    "(a) If take $u=-2$ and $k=3$ in the definition extended binomial coefficient.    \n",
    "$\\binom{-2}{3}=\\frac{(-2)(-2-1)(-2-2)}{3!}=-4$    \n",
    "(b) similarly $u=1/2$ ,$k=3$  \n",
    "$\\binom{1/2}{3}=\\frac{(1/2)(1/2-1)(1/2-2)}{3!} = \\frac{1}{16}$"
   ]
  },
  {
   "cell_type": "markdown",
   "metadata": {},
   "source": [
    "**Note** When the top parameter is a negative integer, the extended binomial coefficient can be expressed in terms of an ordinary binomial coefficient.   \n",
    "Let $n$ is positive integer and $u=-n$ then    \n",
    "$\\binom{-n}{k}=\\frac{(-n)(-n-1)(-n-2)...(-n-k+1)}{k!}=\\frac{(-1)^kn(n+1)(n+2)...(n+k-1)}{k!}=\\frac{(-1)^k(n+k-1)(n+k-2)...n}{k!}\\frac{(-1)^k(n+k-1)(n+k-2)...n\\times(n-1)!}{k!\\times (n-1)!}=\\frac{(-1)^k(n+k-1)!}{k!(n-1)!}$   \n",
    "$\\binom{-n}{k}=(-1)^k\\binom{n+k-1}{k}$   "
   ]
  },
  {
   "cell_type": "markdown",
   "metadata": {},
   "source": [
    "### The Extended Binomial theorem:  \n",
    "Let $x$ be a real number with $|x|<1$ and let $u$ be a real number. Then $(1+x)^u=\\sum_{k=0}^{\\infty}\\binom{u}{k}x^k$  (Here $|x|<1$ is needed to guarantee that right hand side expression is meaningful(convergent))   \n",
    "*proof:* Meclaurin series(Taylor series about zero) of the function $(1+x)^u$ will be series $\\sum_{k=0}^{\\infty}\\binom{u}{k}x^k$ "
   ]
  },
  {
   "cell_type": "markdown",
   "metadata": {},
   "source": [
    "**Note**: If $u=-n$ where $n$ be positive integer, then.  \n",
    "1. $(1+x)^{-n}=\\sum_{k=0}^{\\infty}\\binom{-n}{k}x^k =\\sum_{k=0}^{\\infty}(-1)^k\\binom{n+k-1}{k}x^k$  <br><br>\n",
    "    \n",
    "2. $(1-x)^{-n}=\\sum_{k=0}^{\\infty}\\binom{n+k-1}{k}x^k$ "
   ]
  },
  {
   "cell_type": "markdown",
   "metadata": {},
   "source": [
    "**Useful expansions:**"
   ]
  },
  {
   "cell_type": "markdown",
   "metadata": {},
   "source": [
    "- $\\frac{1}{1-x}=(1-x)^{-1}=\\sum_{k=0}^{\\infty}\\binom{1+k-1}{k}x^k=\\sum_{k=0}^{\\infty}\\binom{k}{k}x^k=\\sum_{k=0}^{\\infty}x^k = 1+x+x^2+x^3+....$  <br><br>.   \n",
    "- $\\frac{1}{(1-x)^2}=(1-x)^{-2}=\\sum_{k=0}^{\\infty}\\binom{2+k-1}{k}x^k=\\sum_{k=0}^{\\infty}(k+1)x^k =1+2x+3x^2+4x^3+...$  <br><br>\n",
    "- $\\frac{1}{(1-x)^3}=(1-x)^{-3}=\\sum_{k=0}^{\\infty}\\binom{3+k-1}{k}x^k=\\sum_{k=0}^{\\infty}\\frac{(k+2)(k+1)}{2}x^k =1+3x+6x^2+10x^3+...$"
   ]
  },
  {
   "cell_type": "markdown",
   "metadata": {},
   "source": [
    "## Multinomial Theorem:"
   ]
  },
  {
   "cell_type": "markdown",
   "metadata": {},
   "source": [
    "It is the generalization of binomial theorem  <br>\n",
    "**Theorem:** Let $x_1,x_2,...,x_r$ are real numbers, then $(x_1+x_2+...+x_r)^{n}=\\sum_{(n_1,n_2,...,n_r):n_i\\ge 0 \\forall i, n_1+n_2+...+n_r=n} \\binom{n}{n_1,n_2,...,n_r}x_1{^{n_1}} x_2{^{n_2}}...x_r{^{n_r}}$      \n",
    "where $\\binom{n}{n_1,n_2,...,n_r}=\\frac{n!}{n_1!n_2!...n_k!}$  are called Multinomial coefficients<br>\n",
    "*proof:* <br>\n",
    "$(x_1+x_2+...+x_r)^{n}= \\underbrace{(x_1+x_2+...+x_r)(x_1+x_2+...+x_r)...(x_1+x_2+...+x_r)}_{n~times}$  \n",
    "now you can  give similar argument used in Binomial theorem. You can try"
   ]
  },
  {
   "cell_type": "markdown",
   "metadata": {},
   "source": [
    "**Question**: In the Binomial theorem expansion we can easily see that $n+1$ distinct terms are there as summation runs from $0$ to $n$, now my question for you is, how many (distinct) terms in the expansion of Multinomial theorem.  \n",
    "[Hint: have a close look at how summation varies(condition) in Multinomial theorem]"
   ]
  },
  {
   "cell_type": "markdown",
   "metadata": {},
   "source": [
    "**Example**: Find the expansion of $(x+y+z)^4$"
   ]
  },
  {
   "cell_type": "markdown",
   "metadata": {},
   "source": [
    "*solution*: $(x+y+z)^4=\\binom{4}{4,0,0}x^4+\\binom{4}{3,1,0}x^3y+\\binom{4}{3,0,1}x^3z+\\binom{4}{2,2,0}x^2y^2+\\binom{4}{2,0,2}x^2z^2+\\binom{4}{2,1,1}x^2yz+\\binom{4}{1,3,0}xy^3+\\binom{4}{1,0,3}xz^3+\\binom{4}{1,1,2}xyz^2+\\binom{4}{1,2,1}xy^2z+\\binom{4}{0,4,0}y^4+\\binom{4}{0,3,1}y^3z+\\binom{4}{0,1,3}yz^3+\\binom{4}{0,2,2}y^2z^2+\\binom{4}{0,0,4}z^4$"
   ]
  },
  {
   "cell_type": "markdown",
   "metadata": {},
   "source": [
    " $(x+y+z)^4=x^4+4x^3y+4x^3z+6x^2y^2+6x^2z^2+12x^2yz+4xy^3+4xz^3+12xyz^2+12xy^2z+y^4+4y^3z+4yz^3+6y^2z^2+z^4$"
   ]
  }
 ],
 "metadata": {
  "hide_input": false,
  "kernelspec": {
   "display_name": "Python 3 (ipykernel)",
   "language": "python",
   "name": "python3"
  },
  "language_info": {
   "codemirror_mode": {
    "name": "ipython",
    "version": 3
   },
   "file_extension": ".py",
   "mimetype": "text/x-python",
   "name": "python",
   "nbconvert_exporter": "python",
   "pygments_lexer": "ipython3",
   "version": "3.10.0"
  }
 },
 "nbformat": 4,
 "nbformat_minor": 4
}
